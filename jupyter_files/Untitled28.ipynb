{
 "cells": [
  {
   "cell_type": "code",
   "execution_count": null,
   "id": "90a4838e-fd04-4d9c-b96d-f9b29afbc846",
   "metadata": {},
   "outputs": [
    {
     "name": "stdout",
     "output_type": "stream",
     "text": [
      "Connecting to database...\n"
     ]
    }
   ],
   "source": [
    "import mysql.connector\n",
    "from mysql.connector import Error\n",
    "\n",
    "try:\n",
    "    print(\"Connecting to database...\")\n",
    "    conn = mysql.connector.connect(\n",
    "        host=\"localhost\",\n",
    "        user=\"root\",\n",
    "        password=\"admin1231\",\n",
    "        database=\"demo\",\n",
    "        port=3306\n",
    "    )\n",
    "\n",
    "    if conn.is_connected():\n",
    "        print(\"✅ Connected to MySQL!\")\n",
    "\n",
    "except Error as e:\n",
    "    print(\"❌ Error:\", e)\n",
    "\n",
    "finally:\n",
    "    if 'conn' in locals() and conn is not None and conn.is_connected():\n",
    "        conn.close()\n",
    "        print(\"Connection closed.\")\n",
    "\n"
   ]
  },
  {
   "cell_type": "code",
   "execution_count": 1,
   "id": "b5280672-6a90-4080-8aea-a20f5fd9ce6c",
   "metadata": {},
   "outputs": [
    {
     "name": "stdout",
     "output_type": "stream",
     "text": [
      "Requirement already satisfied: mysql-connector-python in c:\\users\\babje\\appdata\\local\\programs\\python\\python312\\lib\\site-packages (9.3.0)\n",
      "Note: you may need to restart the kernel to use updated packages.\n"
     ]
    }
   ],
   "source": [
    "pip install mysql-connector-python\n"
   ]
  },
  {
   "cell_type": "code",
   "execution_count": 2,
   "id": "b266da7e-3e63-47af-aadc-99917507154d",
   "metadata": {},
   "outputs": [
    {
     "name": "stdout",
     "output_type": "stream",
     "text": [
      "Note: you may need to restart the kernel to use updated packages.\n"
     ]
    },
    {
     "name": "stderr",
     "output_type": "stream",
     "text": [
      "ERROR: Could not find a version that satisfies the requirement list (from versions: none)\n",
      "ERROR: No matching distribution found for list\n"
     ]
    }
   ],
   "source": [
    "pip install list mysql-connector-python"
   ]
  },
  {
   "cell_type": "code",
   "execution_count": 10,
   "id": "63600073-53fe-4b3e-898c-ae9353167023",
   "metadata": {},
   "outputs": [
    {
     "name": "stdout",
     "output_type": "stream",
     "text": [
      "✅ Connected to MySQL!\n",
      "📂 Databases:\n",
      " - demo\n",
      " - information_schema\n",
      " - mysql\n",
      " - performance_schema\n",
      " - sys\n",
      " - training\n"
     ]
    }
   ],
   "source": [
    "from mysql.connector import connection\n",
    "cnx = connection.MySQLConnection(user='root', password='admin123',\n",
    "                                 host='127.0.0.1',\n",
    "                                 database='demo')\n",
    "if cnx.is_connected():\n",
    "        print(\"✅ Connected to MySQL!\")\n",
    "cur =cnx.cursor()\n",
    "cur.execute(\"SHOW DATABASES\")\n",
    "\n",
    "# Print all database names\n",
    "print(\"📂 Databases:\")\n",
    "for db in cur:\n",
    "    print(\" -\", db[0])"
   ]
  },
  {
   "cell_type": "code",
   "execution_count": null,
   "id": "fe47b43f-fae4-4e62-97e5-9f2ebd4af76a",
   "metadata": {},
   "outputs": [],
   "source": []
  }
 ],
 "metadata": {
  "kernelspec": {
   "display_name": "Python 3 (ipykernel)",
   "language": "python",
   "name": "python3"
  },
  "language_info": {
   "codemirror_mode": {
    "name": "ipython",
    "version": 3
   },
   "file_extension": ".py",
   "mimetype": "text/x-python",
   "name": "python",
   "nbconvert_exporter": "python",
   "pygments_lexer": "ipython3",
   "version": "3.12.10"
  }
 },
 "nbformat": 4,
 "nbformat_minor": 5
}

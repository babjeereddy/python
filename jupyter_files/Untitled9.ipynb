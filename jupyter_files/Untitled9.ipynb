{
 "cells": [
  {
   "cell_type": "code",
   "execution_count": 55,
   "id": "9c642d26-40ab-46f4-b38e-3ac0a0a3fb87",
   "metadata": {},
   "outputs": [
    {
     "data": {
      "text/plain": [
       "1000000"
      ]
     },
     "execution_count": 55,
     "metadata": {},
     "output_type": "execute_result"
    }
   ],
   "source": [
    "abs(-1000000)"
   ]
  },
  {
   "cell_type": "code",
   "execution_count": 57,
   "id": "7e549565-fa09-46a4-bdd7-fbe9ba748775",
   "metadata": {},
   "outputs": [
    {
     "data": {
      "text/plain": [
       "False"
      ]
     },
     "execution_count": 57,
     "metadata": {},
     "output_type": "execute_result"
    }
   ],
   "source": [
    "all([True,False, True])"
   ]
  },
  {
   "cell_type": "code",
   "execution_count": 60,
   "id": "31906d4b-5a8b-4e38-a219-6c8af35e5a21",
   "metadata": {},
   "outputs": [
    {
     "data": {
      "text/plain": [
       "True"
      ]
     },
     "execution_count": 60,
     "metadata": {},
     "output_type": "execute_result"
    }
   ],
   "source": [
    "all([10 <20,20 >10, 1 <20])\n"
   ]
  },
  {
   "cell_type": "code",
   "execution_count": 63,
   "id": "6bdca560-7896-4890-9c4c-79ea9c12d1dd",
   "metadata": {},
   "outputs": [
    {
     "data": {
      "text/plain": [
       "True"
      ]
     },
     "execution_count": 63,
     "metadata": {},
     "output_type": "execute_result"
    }
   ],
   "source": [
    "any([10 <20,20 <10])"
   ]
  },
  {
   "cell_type": "code",
   "execution_count": 64,
   "id": "3c10393e-a612-4139-882e-842101fa146f",
   "metadata": {},
   "outputs": [
    {
     "data": {
      "text/plain": [
       "'0b1010'"
      ]
     },
     "execution_count": 64,
     "metadata": {},
     "output_type": "execute_result"
    }
   ],
   "source": [
    "bin(10)"
   ]
  },
  {
   "cell_type": "code",
   "execution_count": 65,
   "id": "d496cb98-1fee-47cf-9548-37baaf1f44f9",
   "metadata": {},
   "outputs": [
    {
     "data": {
      "text/plain": [
       "False"
      ]
     },
     "execution_count": 65,
     "metadata": {},
     "output_type": "execute_result"
    }
   ],
   "source": [
    "bool(0)"
   ]
  },
  {
   "cell_type": "code",
   "execution_count": 66,
   "id": "ead3c710-acb0-49d6-837d-f962ccbeb135",
   "metadata": {},
   "outputs": [
    {
     "data": {
      "text/plain": [
       "True"
      ]
     },
     "execution_count": 66,
     "metadata": {},
     "output_type": "execute_result"
    }
   ],
   "source": [
    "bool(1)"
   ]
  },
  {
   "cell_type": "code",
   "execution_count": 67,
   "id": "3c86482f-5259-42ad-a2d3-36c0e37b6684",
   "metadata": {},
   "outputs": [
    {
     "data": {
      "text/plain": [
       "False"
      ]
     },
     "execution_count": 67,
     "metadata": {},
     "output_type": "execute_result"
    }
   ],
   "source": [
    "a=10\n",
    "callable(a)"
   ]
  },
  {
   "cell_type": "code",
   "execution_count": 68,
   "id": "92ccd75a-7909-4436-8a1c-542b4c9a7467",
   "metadata": {},
   "outputs": [
    {
     "data": {
      "text/plain": [
       "True"
      ]
     },
     "execution_count": 68,
     "metadata": {},
     "output_type": "execute_result"
    }
   ],
   "source": [
    "callable(print)"
   ]
  },
  {
   "cell_type": "code",
   "execution_count": 79,
   "id": "01d7176c-9c46-42bf-9c04-2fb6cb28b0c9",
   "metadata": {},
   "outputs": [
    {
     "data": {
      "text/plain": [
       "'a'"
      ]
     },
     "execution_count": 79,
     "metadata": {},
     "output_type": "execute_result"
    }
   ],
   "source": [
    "chr(97)"
   ]
  },
  {
   "cell_type": "code",
   "execution_count": 80,
   "id": "bc07e684-4a55-414d-b229-8d6e215ee46a",
   "metadata": {},
   "outputs": [
    {
     "data": {
      "text/plain": [
       "20"
      ]
     },
     "execution_count": 80,
     "metadata": {},
     "output_type": "execute_result"
    }
   ],
   "source": [
    "int(\"20\")"
   ]
  },
  {
   "cell_type": "code",
   "execution_count": 81,
   "id": "3968c540-06a7-4713-985c-9451bf4f6e7a",
   "metadata": {},
   "outputs": [
    {
     "data": {
      "text/plain": [
       "10"
      ]
     },
     "execution_count": 81,
     "metadata": {},
     "output_type": "execute_result"
    }
   ],
   "source": [
    "int(10.2)"
   ]
  },
  {
   "cell_type": "code",
   "execution_count": 83,
   "id": "ce7b11b2-90b4-4de9-b528-d28d3cffe104",
   "metadata": {},
   "outputs": [
    {
     "data": {
      "text/plain": [
       "3"
      ]
     },
     "execution_count": 83,
     "metadata": {},
     "output_type": "execute_result"
    }
   ],
   "source": [
    "int(3.10)"
   ]
  },
  {
   "cell_type": "code",
   "execution_count": 72,
   "id": "0b44047c-ef6c-44dc-a7e5-a1fa3c667498",
   "metadata": {},
   "outputs": [
    {
     "ename": "ValueError",
     "evalue": "could not convert string to float: 'a'",
     "output_type": "error",
     "traceback": [
      "\u001b[31m---------------------------------------------------------------------------\u001b[39m",
      "\u001b[31mValueError\u001b[39m                                Traceback (most recent call last)",
      "\u001b[36mCell\u001b[39m\u001b[36m \u001b[39m\u001b[32mIn[72]\u001b[39m\u001b[32m, line 2\u001b[39m\n\u001b[32m      1\u001b[39m \u001b[38;5;28mfloat\u001b[39m(\u001b[32m10\u001b[39m)\n\u001b[32m----> \u001b[39m\u001b[32m2\u001b[39m \u001b[38;5;28;43mfloat\u001b[39;49m\u001b[43m(\u001b[49m\u001b[33;43m\"\u001b[39;49m\u001b[33;43ma\u001b[39;49m\u001b[33;43m\"\u001b[39;49m\u001b[43m)\u001b[49m\n",
      "\u001b[31mValueError\u001b[39m: could not convert string to float: 'a'"
     ]
    }
   ],
   "source": [
    "float(10)\n",
    "float(\"a\")"
   ]
  },
  {
   "cell_type": "code",
   "execution_count": 73,
   "id": "cde0f25e-53ed-4459-8639-3fa0864befb3",
   "metadata": {},
   "outputs": [
    {
     "data": {
      "text/plain": [
       "(2+3j)"
      ]
     },
     "execution_count": 73,
     "metadata": {},
     "output_type": "execute_result"
    }
   ],
   "source": [
    "complex(2,3)"
   ]
  },
  {
   "cell_type": "code",
   "execution_count": 13,
   "id": "d7a804ae-6829-4649-9959-d6d38731b6a4",
   "metadata": {},
   "outputs": [
    {
     "data": {
      "text/plain": [
       "(3+2j)"
      ]
     },
     "execution_count": 13,
     "metadata": {},
     "output_type": "execute_result"
    }
   ],
   "source": [
    "complex(3,2)"
   ]
  },
  {
   "cell_type": "code",
   "execution_count": 75,
   "id": "6d71af92-e161-48da-905c-69037c316769",
   "metadata": {},
   "outputs": [
    {
     "data": {
      "text/plain": [
       "[10, 20, 30]"
      ]
     },
     "execution_count": 75,
     "metadata": {},
     "output_type": "execute_result"
    }
   ],
   "source": [
    "lt=list((10,20,30))\n",
    "lt"
   ]
  },
  {
   "cell_type": "code",
   "execution_count": 76,
   "id": "693e8782-18a6-4dc3-8d0e-9413c8796b6d",
   "metadata": {},
   "outputs": [
    {
     "data": {
      "text/plain": [
       "(10, 20, 30)"
      ]
     },
     "execution_count": 76,
     "metadata": {},
     "output_type": "execute_result"
    }
   ],
   "source": [
    "t1=tuple({10,20,30})\n",
    "t1"
   ]
  },
  {
   "cell_type": "code",
   "execution_count": 96,
   "id": "5f89344c-e468-45de-b7d2-d627c479cd9c",
   "metadata": {},
   "outputs": [
    {
     "data": {
      "text/plain": [
       "{10, 20, 30}"
      ]
     },
     "execution_count": 96,
     "metadata": {},
     "output_type": "execute_result"
    }
   ],
   "source": [
    "s1=set([10,20,30])\n",
    "s1"
   ]
  },
  {
   "cell_type": "code",
   "execution_count": 81,
   "id": "e2bb3fcb-50bd-48f9-b757-c3d3c301e48e",
   "metadata": {},
   "outputs": [
    {
     "name": "stdout",
     "output_type": "stream",
     "text": [
      "{'Name': 'Babjee', 'age': 20, 'City': 'Chennai'}\n",
      "3\n"
     ]
    }
   ],
   "source": [
    "d=dict(Name=\"Babjee\",age=20,City=\"Chennai\")\n",
    "print(d)\n",
    "print(len(d))\n"
   ]
  },
  {
   "cell_type": "code",
   "execution_count": 78,
   "id": "967b1b5f-5753-460c-bc73-a08cb997e43c",
   "metadata": {},
   "outputs": [
    {
     "data": {
      "text/plain": [
       "4"
      ]
     },
     "execution_count": 78,
     "metadata": {},
     "output_type": "execute_result"
    }
   ],
   "source": [
    "len([10,20,30,40])"
   ]
  },
  {
   "cell_type": "code",
   "execution_count": 79,
   "id": "5755169f-9059-4bf3-b165-66109f167581",
   "metadata": {},
   "outputs": [
    {
     "data": {
      "text/plain": [
       "4"
      ]
     },
     "execution_count": 79,
     "metadata": {},
     "output_type": "execute_result"
    }
   ],
   "source": [
    "len((10,20,30,40))"
   ]
  },
  {
   "cell_type": "code",
   "execution_count": 80,
   "id": "56e2651d-261c-44c3-8f22-3041ed653653",
   "metadata": {},
   "outputs": [
    {
     "data": {
      "text/plain": [
       "4"
      ]
     },
     "execution_count": 80,
     "metadata": {},
     "output_type": "execute_result"
    }
   ],
   "source": [
    "len({10,20,30,40})"
   ]
  },
  {
   "cell_type": "code",
   "execution_count": 82,
   "id": "3fb8e413-ecbc-49b3-855c-fa66c4aff8e5",
   "metadata": {},
   "outputs": [
    {
     "data": {
      "text/plain": [
       "['__call__',\n",
       " '__class__',\n",
       " '__delattr__',\n",
       " '__dir__',\n",
       " '__doc__',\n",
       " '__eq__',\n",
       " '__format__',\n",
       " '__ge__',\n",
       " '__getattribute__',\n",
       " '__getstate__',\n",
       " '__gt__',\n",
       " '__hash__',\n",
       " '__init__',\n",
       " '__init_subclass__',\n",
       " '__le__',\n",
       " '__lt__',\n",
       " '__module__',\n",
       " '__name__',\n",
       " '__ne__',\n",
       " '__new__',\n",
       " '__qualname__',\n",
       " '__reduce__',\n",
       " '__reduce_ex__',\n",
       " '__repr__',\n",
       " '__self__',\n",
       " '__setattr__',\n",
       " '__sizeof__',\n",
       " '__str__',\n",
       " '__subclasshook__',\n",
       " '__text_signature__']"
      ]
     },
     "execution_count": 82,
     "metadata": {},
     "output_type": "execute_result"
    }
   ],
   "source": [
    "dir(print)"
   ]
  },
  {
   "cell_type": "code",
   "execution_count": 99,
   "id": "e54a13b3-de37-4e22-a7cb-cb13ac357e57",
   "metadata": {},
   "outputs": [
    {
     "data": {
      "text/plain": [
       "4"
      ]
     },
     "execution_count": 99,
     "metadata": {},
     "output_type": "execute_result"
    }
   ],
   "source": [
    "len(lst)\n"
   ]
  },
  {
   "cell_type": "code",
   "execution_count": 100,
   "id": "37b03498-6ebd-4e16-89ae-fe86a996e608",
   "metadata": {},
   "outputs": [
    {
     "data": {
      "text/plain": [
       "3"
      ]
     },
     "execution_count": 100,
     "metadata": {},
     "output_type": "execute_result"
    }
   ],
   "source": [
    "len(s1)"
   ]
  },
  {
   "cell_type": "code",
   "execution_count": 101,
   "id": "395530e7-635a-4b2d-809c-f085e150d572",
   "metadata": {},
   "outputs": [
    {
     "data": {
      "text/plain": [
       "3"
      ]
     },
     "execution_count": 101,
     "metadata": {},
     "output_type": "execute_result"
    }
   ],
   "source": [
    "len(t1)"
   ]
  },
  {
   "cell_type": "code",
   "execution_count": 103,
   "id": "1d21b749-eeb9-4c16-a5f2-75fde2478e57",
   "metadata": {},
   "outputs": [
    {
     "ename": "NameError",
     "evalue": "name 'dis' is not defined",
     "output_type": "error",
     "traceback": [
      "\u001b[31m---------------------------------------------------------------------------\u001b[39m",
      "\u001b[31mNameError\u001b[39m                                 Traceback (most recent call last)",
      "\u001b[36mCell\u001b[39m\u001b[36m \u001b[39m\u001b[32mIn[103]\u001b[39m\u001b[32m, line 1\u001b[39m\n\u001b[32m----> \u001b[39m\u001b[32m1\u001b[39m \u001b[38;5;28mlen\u001b[39m(\u001b[43mdis\u001b[49m)\n",
      "\u001b[31mNameError\u001b[39m: name 'dis' is not defined"
     ]
    }
   ],
   "source": [
    "len(dis)"
   ]
  },
  {
   "cell_type": "code",
   "execution_count": 83,
   "id": "95f36524-2cae-454f-a26e-8e701367cf26",
   "metadata": {},
   "outputs": [
    {
     "data": {
      "text/plain": [
       "(3, 1)"
      ]
     },
     "execution_count": 83,
     "metadata": {},
     "output_type": "execute_result"
    }
   ],
   "source": [
    "divmod(10,3)"
   ]
  },
  {
   "cell_type": "code",
   "execution_count": 102,
   "id": "264f9a93-1893-483b-b062-e7428f7061ba",
   "metadata": {},
   "outputs": [
    {
     "data": {
      "text/plain": [
       "12"
      ]
     },
     "execution_count": 102,
     "metadata": {},
     "output_type": "execute_result"
    }
   ],
   "source": [
    "len(\"Hello python\")"
   ]
  },
  {
   "cell_type": "code",
   "execution_count": 89,
   "id": "ca9444f5-a12f-4490-bb06-ee3a3751b4c1",
   "metadata": {},
   "outputs": [
    {
     "name": "stdout",
     "output_type": "stream",
     "text": [
      "(10, 'Ram')\n",
      "(11, 'Sham')\n",
      "(12, 'Sunil')\n",
      "(13, 'Preethi')\n"
     ]
    }
   ],
   "source": [
    "y = enumerate([\"Ram\", \"Sham\", \"Sunil\",\"Preethi\"],10)\n",
    "for i in y:\n",
    "    print(i)\n"
   ]
  },
  {
   "cell_type": "code",
   "execution_count": 27,
   "id": "1ca8577b-86e8-4630-bad1-4ab29fb11911",
   "metadata": {},
   "outputs": [
    {
     "data": {
      "text/plain": [
       "10.0"
      ]
     },
     "execution_count": 27,
     "metadata": {},
     "output_type": "execute_result"
    }
   ],
   "source": [
    "float(10)"
   ]
  },
  {
   "cell_type": "code",
   "execution_count": 90,
   "id": "a0cced91-3adf-482d-8463-052c307c4bbe",
   "metadata": {},
   "outputs": [
    {
     "name": "stdout",
     "output_type": "stream",
     "text": [
      "Index: 0, Name: Ram\n",
      "Index: 1, Name: Sham\n",
      "Index: 2, Name: Sunil\n"
     ]
    }
   ],
   "source": [
    "y = enumerate([\"Ram\", \"Sham\", \"Sunil\"])\n",
    "for index, name in y:\n",
    "    print(\"Index: {0}, Name: {1}\".format(index, name))"
   ]
  },
  {
   "cell_type": "code",
   "execution_count": 113,
   "id": "fd695f12-8254-4903-9ea6-c634d2f22e7a",
   "metadata": {},
   "outputs": [
    {
     "name": "stdout",
     "output_type": "stream",
     "text": [
      "My name is John, I'm 36\n",
      "My name is John, I'm 36\n"
     ]
    }
   ],
   "source": [
    "txt1 = \"My name is {fname}, I'm {age}\".format(fname = \"John\", age = 36)\n",
    "txt2 = \"My name is {0}, I'm {1}\".format(\"John\",36)\n",
    "print(txt1)\n",
    "print(txt2)"
   ]
  },
  {
   "cell_type": "code",
   "execution_count": 92,
   "id": "eeaf2c06-abd6-43dd-85fa-4f12525e73a1",
   "metadata": {},
   "outputs": [
    {
     "name": "stdout",
     "output_type": "stream",
     "text": [
      "frozenset({10, 20, 30})\n"
     ]
    }
   ],
   "source": [
    "fset=frozenset([10,20,30])\n",
    "print(fset)\n",
    "#fset.add(40)"
   ]
  },
  {
   "cell_type": "code",
   "execution_count": 103,
   "id": "d5dab56a-186b-4ee8-91c5-9489541b3b89",
   "metadata": {},
   "outputs": [
    {
     "name": "stdout",
     "output_type": "stream",
     "text": [
      "True\n"
     ]
    }
   ],
   "source": [
    "class Person:\n",
    "    Name=\"Ram\"\n",
    "    Age=20\n",
    "class Person1(Person):\n",
    "    pass\n",
    "print(issubclass(Person1,Person))"
   ]
  },
  {
   "cell_type": "code",
   "execution_count": 101,
   "id": "6d2f690e-a080-4129-91df-772648729e5b",
   "metadata": {},
   "outputs": [
    {
     "name": "stdout",
     "output_type": "stream",
     "text": [
      "True\n",
      "False\n"
     ]
    }
   ],
   "source": [
    "abc=\"test\"\n",
    "x =Person()\n",
    "print(isinstance(x, Person))\n",
    "print(isinstance(abc,Person))\n"
   ]
  },
  {
   "cell_type": "code",
   "execution_count": 104,
   "id": "bc7199d7-b4ba-4c2f-a3c9-c4cb31057fae",
   "metadata": {},
   "outputs": [
    {
     "data": {
      "text/plain": [
       "'0xa'"
      ]
     },
     "execution_count": 104,
     "metadata": {},
     "output_type": "execute_result"
    }
   ],
   "source": [
    "hex(10)"
   ]
  },
  {
   "cell_type": "code",
   "execution_count": 105,
   "id": "3bc615c6-7af4-4b1c-8550-646d404c533d",
   "metadata": {},
   "outputs": [
    {
     "data": {
      "text/plain": [
       "'0o12'"
      ]
     },
     "execution_count": 105,
     "metadata": {},
     "output_type": "execute_result"
    }
   ],
   "source": [
    "oct(10)"
   ]
  },
  {
   "cell_type": "code",
   "execution_count": 51,
   "id": "fad071de-8c17-4bd5-8601-491fa6a08922",
   "metadata": {},
   "outputs": [],
   "source": [
    "class Person1(Person):\n",
    "    pass\n"
   ]
  },
  {
   "cell_type": "code",
   "execution_count": 127,
   "id": "5fed73a4-a838-4fc6-b030-632f3dd7400b",
   "metadata": {},
   "outputs": [
    {
     "name": "stdout",
     "output_type": "stream",
     "text": [
      "False\n"
     ]
    }
   ],
   "source": [
    "print(issubclass(Person1, Person))"
   ]
  },
  {
   "cell_type": "code",
   "execution_count": 106,
   "id": "158a7e89-c971-417d-9857-873717d5e227",
   "metadata": {},
   "outputs": [
    {
     "name": "stdout",
     "output_type": "stream",
     "text": [
      "10\n",
      "20\n",
      "30\n"
     ]
    }
   ],
   "source": [
    "x =iter([10,20,30])\n",
    "print(next(x))\n",
    "print(next(x))\n",
    "print(next(x))"
   ]
  },
  {
   "cell_type": "code",
   "execution_count": 108,
   "id": "d4e74666-166a-437e-b6af-7d3ecb32ccfd",
   "metadata": {},
   "outputs": [
    {
     "data": {
      "text/plain": [
       "97"
      ]
     },
     "execution_count": 108,
     "metadata": {},
     "output_type": "execute_result"
    }
   ],
   "source": [
    "ord(\"a\")"
   ]
  },
  {
   "cell_type": "code",
   "execution_count": 129,
   "id": "c05075ba-af40-4baf-9d7e-ff9b64ce9382",
   "metadata": {},
   "outputs": [
    {
     "name": "stdin",
     "output_type": "stream",
     "text": [
      "Enter Your Name Ram\n"
     ]
    },
    {
     "data": {
      "text/plain": [
       "'Ram'"
      ]
     },
     "execution_count": 129,
     "metadata": {},
     "output_type": "execute_result"
    }
   ],
   "source": [
    "Name =input(\"Enter Your Name\")\n",
    "print(Name)\n"
   ]
  },
  {
   "cell_type": "code",
   "execution_count": 109,
   "id": "fa5db9e7-9dc6-4074-98e8-df2cab42b399",
   "metadata": {},
   "outputs": [
    {
     "data": {
      "text/plain": [
       "100"
      ]
     },
     "execution_count": 109,
     "metadata": {},
     "output_type": "execute_result"
    }
   ],
   "source": [
    "pow(10,2)"
   ]
  },
  {
   "cell_type": "code",
   "execution_count": 113,
   "id": "44eff3f2-0a01-48d5-bfe0-80b638068d5b",
   "metadata": {},
   "outputs": [
    {
     "data": {
      "text/plain": [
       "[20, 30]"
      ]
     },
     "execution_count": 113,
     "metadata": {},
     "output_type": "execute_result"
    }
   ],
   "source": [
    "lst=[10,20,30,40]\n",
    "lst[1:-1]\n",
    "lst[slice(1,-1)]"
   ]
  },
  {
   "cell_type": "code",
   "execution_count": 133,
   "id": "9fe98011-dea8-4f74-b760-6816dd90e83b",
   "metadata": {},
   "outputs": [
    {
     "name": "stdout",
     "output_type": "stream",
     "text": [
      "[20, 30, 40]\n",
      "[20, 30, 40]\n"
     ]
    }
   ],
   "source": [
    "s = slice(1, 4)\n",
    "nums = [10, 20, 30, 40, 50]\n",
    "print(nums[s])   \n",
    "print(nums[1:-1])"
   ]
  },
  {
   "cell_type": "code",
   "execution_count": null,
   "id": "e58ed1cb-cb0d-4751-a090-300fa846cb2b",
   "metadata": {},
   "outputs": [],
   "source": []
  },
  {
   "cell_type": "code",
   "execution_count": 134,
   "id": "2812c24b-38c8-4a47-beb2-902243347de8",
   "metadata": {},
   "outputs": [
    {
     "data": {
      "text/plain": [
       "'0o12'"
      ]
     },
     "execution_count": 134,
     "metadata": {},
     "output_type": "execute_result"
    }
   ],
   "source": [
    "oct(10)"
   ]
  },
  {
   "cell_type": "code",
   "execution_count": 118,
   "id": "5c7000be-3cd3-4103-abff-37024b1fc55b",
   "metadata": {},
   "outputs": [
    {
     "name": "stdout",
     "output_type": "stream",
     "text": [
      "{('Sham', 30), ('Sunil', 40), ('Ram', 20)}\n"
     ]
    }
   ],
   "source": [
    "name=[\"Ram\",\"Sham\",\"Sunil\"]\n",
    "age=[20,30,40]\n",
    "x = set(zip(name,age))\n",
    "print(x)"
   ]
  },
  {
   "cell_type": "code",
   "execution_count": 127,
   "id": "efdd9aaa-5b36-4d7b-aacc-2c2f722419a4",
   "metadata": {},
   "outputs": [
    {
     "name": "stdout",
     "output_type": "stream",
     "text": [
      "110\n",
      "110\n"
     ]
    }
   ],
   "source": [
    "lst={10,20,30,50}\n",
    "tot=0\n",
    "for i in lst:\n",
    "    tot+=i\n",
    "print(tot)\n",
    "print(sum(lst))"
   ]
  },
  {
   "cell_type": "code",
   "execution_count": 138,
   "id": "984dd2ed-17d2-4238-a78e-aef28ee855cc",
   "metadata": {},
   "outputs": [
    {
     "name": "stdout",
     "output_type": "stream",
     "text": [
      "40\n"
     ]
    }
   ],
   "source": [
    "lst=[10,40,20,30]\n",
    "max=0\n",
    "for i in lst:\n",
    "    if i > max:\n",
    "        max=i\n",
    "print(max)"
   ]
  },
  {
   "cell_type": "code",
   "execution_count": 67,
   "id": "b5e9dadb-1158-4b42-967c-cd8d5d862abb",
   "metadata": {},
   "outputs": [
    {
     "name": "stdout",
     "output_type": "stream",
     "text": [
      "60\n"
     ]
    }
   ],
   "source": [
    "print(sum([10,20,30]))"
   ]
  },
  {
   "cell_type": "code",
   "execution_count": 68,
   "id": "bc0e5604-c065-4343-b33a-0a02ccd831e3",
   "metadata": {},
   "outputs": [
    {
     "name": "stdout",
     "output_type": "stream",
     "text": [
      "30\n"
     ]
    }
   ],
   "source": [
    "print(max([10,20,30]))"
   ]
  },
  {
   "cell_type": "code",
   "execution_count": 69,
   "id": "e95eacbd-55d6-4c0e-bf93-29fe63286e92",
   "metadata": {},
   "outputs": [
    {
     "name": "stdout",
     "output_type": "stream",
     "text": [
      "10\n"
     ]
    }
   ],
   "source": [
    "print(min([10,20,30]))"
   ]
  },
  {
   "cell_type": "code",
   "execution_count": 128,
   "id": "bf651798-acba-41ac-8f6c-11fc037d111e",
   "metadata": {},
   "outputs": [
    {
     "name": "stdout",
     "output_type": "stream",
     "text": [
      "average of {10, 20, 50, 30} = 27.5\n"
     ]
    }
   ],
   "source": [
    "sum=0\n",
    "cnt=0\n",
    "for i in lst:\n",
    "    sum+=i\n",
    "    cnt+=1\n",
    "print(f\"average of {lst} = {sum/cnt}\")"
   ]
  },
  {
   "cell_type": "code",
   "execution_count": 130,
   "id": "da57472e-3301-4768-8f81-f0c33f08c150",
   "metadata": {},
   "outputs": [
    {
     "name": "stdout",
     "output_type": "stream",
     "text": [
      "20.7\n"
     ]
    }
   ],
   "source": [
    "print(round(20.66,1))"
   ]
  },
  {
   "cell_type": "code",
   "execution_count": 135,
   "id": "3d771f39-80a4-4820-88e4-20b62466fa46",
   "metadata": {},
   "outputs": [
    {
     "data": {
      "text/plain": [
       "[40, 50, 20, 10]"
      ]
     },
     "execution_count": 135,
     "metadata": {},
     "output_type": "execute_result"
    }
   ],
   "source": [
    "list(reversed((10,20,50,40)))"
   ]
  },
  {
   "cell_type": "code",
   "execution_count": 137,
   "id": "d23ff7a5-34d6-46bb-b520-f5bef965c6cd",
   "metadata": {},
   "outputs": [
    {
     "data": {
      "text/plain": [
       "[30, 20, 10, 5]"
      ]
     },
     "execution_count": 137,
     "metadata": {},
     "output_type": "execute_result"
    }
   ],
   "source": [
    "lst=[20,10,30,5]\n",
    "sorted(lst, reverse=True)"
   ]
  },
  {
   "cell_type": "code",
   "execution_count": 72,
   "id": "8a3603ec-9160-4bd7-99cc-32753bc13384",
   "metadata": {},
   "outputs": [
    {
     "data": {
      "text/plain": [
       "[30, 20, 10, 5]"
      ]
     },
     "execution_count": 72,
     "metadata": {},
     "output_type": "execute_result"
    }
   ],
   "source": [
    "lst=[20,10,30,5]\n",
    "sorted(lst,reverse=True)"
   ]
  },
  {
   "cell_type": "code",
   "execution_count": 147,
   "id": "efcfa294-37e0-4305-9f3a-67c88c7c771c",
   "metadata": {},
   "outputs": [
    {
     "data": {
      "text/plain": [
       "[5, 30, 10, 20]"
      ]
     },
     "execution_count": 147,
     "metadata": {},
     "output_type": "execute_result"
    }
   ],
   "source": [
    "lst=[20,10,30,5]\n",
    "list(reversed(lst))"
   ]
  },
  {
   "cell_type": "code",
   "execution_count": 149,
   "id": "c48c62a5-6470-460e-82e4-cccf541912b6",
   "metadata": {},
   "outputs": [],
   "source": [
    "import math"
   ]
  },
  {
   "cell_type": "code",
   "execution_count": 151,
   "id": "325f3d5c-e87a-417c-82f3-39b202c27eb2",
   "metadata": {},
   "outputs": [
    {
     "data": {
      "text/plain": [
       "3.1622776601683795"
      ]
     },
     "execution_count": 151,
     "metadata": {},
     "output_type": "execute_result"
    }
   ],
   "source": [
    "math.sqrt(10)"
   ]
  },
  {
   "cell_type": "code",
   "execution_count": 152,
   "id": "bd6f3d83-d54b-4d89-a777-6bed6630b902",
   "metadata": {},
   "outputs": [
    {
     "data": {
      "text/plain": [
       "2.302585092994046"
      ]
     },
     "execution_count": 152,
     "metadata": {},
     "output_type": "execute_result"
    }
   ],
   "source": [
    "math.log(10)"
   ]
  },
  {
   "cell_type": "code",
   "execution_count": 153,
   "id": "66ccb187-14a1-4d42-bbce-173053d01bb6",
   "metadata": {},
   "outputs": [
    {
     "data": {
      "text/plain": [
       "3.321928094887362"
      ]
     },
     "execution_count": 153,
     "metadata": {},
     "output_type": "execute_result"
    }
   ],
   "source": [
    "math.log2(10)"
   ]
  },
  {
   "cell_type": "code",
   "execution_count": 155,
   "id": "140b8bcc-b4e1-4248-a10c-f578ae41b48c",
   "metadata": {},
   "outputs": [
    {
     "data": {
      "text/plain": [
       "0.3010299956639812"
      ]
     },
     "execution_count": 155,
     "metadata": {},
     "output_type": "execute_result"
    }
   ],
   "source": [
    "math.log10(2)"
   ]
  },
  {
   "cell_type": "code",
   "execution_count": 156,
   "id": "f620a2d7-30d8-4e5d-a420-a00a3390cc1b",
   "metadata": {},
   "outputs": [
    {
     "data": {
      "text/plain": [
       "17"
      ]
     },
     "execution_count": 156,
     "metadata": {},
     "output_type": "execute_result"
    }
   ],
   "source": [
    "math.floor(17.2)"
   ]
  },
  {
   "cell_type": "code",
   "execution_count": 157,
   "id": "ef64ce40-855a-440a-b576-1da8ca231958",
   "metadata": {},
   "outputs": [
    {
     "data": {
      "text/plain": [
       "18"
      ]
     },
     "execution_count": 157,
     "metadata": {},
     "output_type": "execute_result"
    }
   ],
   "source": [
    "math.ceil(17.2)"
   ]
  },
  {
   "cell_type": "code",
   "execution_count": 158,
   "id": "fa637ab4-6905-4f86-9985-5ef73c0c0092",
   "metadata": {},
   "outputs": [
    {
     "data": {
      "text/plain": [
       "20.085536923187668"
      ]
     },
     "execution_count": 158,
     "metadata": {},
     "output_type": "execute_result"
    }
   ],
   "source": [
    "math.exp(3)"
   ]
  },
  {
   "cell_type": "code",
   "execution_count": 159,
   "id": "bd924dbd-e844-4652-bed2-da6d68cd5036",
   "metadata": {},
   "outputs": [
    {
     "data": {
      "text/plain": [
       "0.8414709848078965"
      ]
     },
     "execution_count": 159,
     "metadata": {},
     "output_type": "execute_result"
    }
   ],
   "source": [
    "math.sin(1)"
   ]
  },
  {
   "cell_type": "code",
   "execution_count": 160,
   "id": "92d42a91-3e91-46dd-b4e2-10785222d6e5",
   "metadata": {},
   "outputs": [
    {
     "data": {
      "text/plain": [
       "3.141592653589793"
      ]
     },
     "execution_count": 160,
     "metadata": {},
     "output_type": "execute_result"
    }
   ],
   "source": [
    "math.pi"
   ]
  },
  {
   "cell_type": "code",
   "execution_count": 164,
   "id": "9485d33f-4df5-4743-9685-3f56bba11047",
   "metadata": {},
   "outputs": [
    {
     "data": {
      "text/plain": [
       "19.0"
      ]
     },
     "execution_count": 164,
     "metadata": {},
     "output_type": "execute_result"
    }
   ],
   "source": [
    "math.fabs(-19)"
   ]
  },
  {
   "cell_type": "code",
   "execution_count": 165,
   "id": "99a8dd4e-2397-446d-9d3f-a3b5086205c9",
   "metadata": {},
   "outputs": [
    {
     "data": {
      "text/plain": [
       "1.0"
      ]
     },
     "execution_count": 165,
     "metadata": {},
     "output_type": "execute_result"
    }
   ],
   "source": [
    "math.fmod(10,3)"
   ]
  },
  {
   "cell_type": "code",
   "execution_count": 166,
   "id": "18bf2f3f-3f55-4102-8345-77259309451f",
   "metadata": {},
   "outputs": [
    {
     "data": {
      "text/plain": [
       "60.0"
      ]
     },
     "execution_count": 166,
     "metadata": {},
     "output_type": "execute_result"
    }
   ],
   "source": [
    "math.fsum([10,20,30])"
   ]
  },
  {
   "cell_type": "code",
   "execution_count": 167,
   "id": "04e3d459-9683-4952-a67c-7188b52fff78",
   "metadata": {},
   "outputs": [
    {
     "data": {
      "text/plain": [
       "120"
      ]
     },
     "execution_count": 167,
     "metadata": {},
     "output_type": "execute_result"
    }
   ],
   "source": [
    "math.factorial(5)"
   ]
  },
  {
   "cell_type": "code",
   "execution_count": 168,
   "id": "1f3c694d-0ee3-4727-b22e-8a4d63aa7f5a",
   "metadata": {},
   "outputs": [
    {
     "data": {
      "text/plain": [
       "19"
      ]
     },
     "execution_count": 168,
     "metadata": {},
     "output_type": "execute_result"
    }
   ],
   "source": [
    "math.trunc(19.000000)"
   ]
  },
  {
   "cell_type": "code",
   "execution_count": 169,
   "id": "e0743b39-ebfc-4d03-85f7-86236fa409b5",
   "metadata": {},
   "outputs": [
    {
     "data": {
      "text/plain": [
       "0.17453292519943295"
      ]
     },
     "execution_count": 169,
     "metadata": {},
     "output_type": "execute_result"
    }
   ],
   "source": [
    "math.radians(10)"
   ]
  },
  {
   "cell_type": "code",
   "execution_count": 1,
   "id": "7d0de69e-78ba-47c4-830d-e8610d4112b1",
   "metadata": {},
   "outputs": [],
   "source": [
    "people = {1: {'name': 'John', 'age': '27', 'sex': 'Male'},\n",
    "          2: {'name': 'Marie', 'age': '22', 'sex': 'Female'}}\n",
    "\n"
   ]
  },
  {
   "cell_type": "code",
   "execution_count": 6,
   "id": "d6da0065-961c-484a-9707-6a1dd73a63bf",
   "metadata": {},
   "outputs": [
    {
     "name": "stdout",
     "output_type": "stream",
     "text": [
      "Name : John\n",
      "Name :27\n",
      "Name :Male\n"
     ]
    }
   ],
   "source": [
    "print(f\"Name : {people[1]['name']}\")\n",
    "print(f\"Name :{people[1]['age']}\")\n",
    "print(f\"Name :{people[1]['sex']}\")"
   ]
  },
  {
   "cell_type": "code",
   "execution_count": 9,
   "id": "29cfff48-6119-4817-bb2e-f6303bb2bd59",
   "metadata": {},
   "outputs": [
    {
     "name": "stdout",
     "output_type": "stream",
     "text": [
      "{'name': 'John', 'age': '27', 'sex': 'Male', 'married': 'Yes'}\n"
     ]
    }
   ],
   "source": [
    "people[1]['married']=\"Yes\"\n",
    "print(people[1])"
   ]
  },
  {
   "cell_type": "code",
   "execution_count": 11,
   "id": "9f57e1c5-7753-4644-b9ae-68ccd5187917",
   "metadata": {},
   "outputs": [],
   "source": [
    "people[3] = {}\n",
    "\n",
    "people[3]['name'] = 'Luna'\n",
    "people[3]['age'] = '24'\n",
    "people[3]['sex'] = 'Female'\n",
    "people[3]['married'] = 'No'\n"
   ]
  },
  {
   "cell_type": "code",
   "execution_count": 199,
   "id": "53fcccf9-ec55-4b7f-9760-c4aeed605758",
   "metadata": {},
   "outputs": [
    {
     "data": {
      "text/plain": [
       "{1: {'name': 'John', 'age': '27', 'sex': 'Male'},\n",
       " 2: {'name': 'Marie', 'age': '22', 'sex': 'Female'},\n",
       " 3: {'name': 'Luna', 'age': '24', 'sex': 'Female', 'married': 'No'}}"
      ]
     },
     "execution_count": 199,
     "metadata": {},
     "output_type": "execute_result"
    }
   ],
   "source": [
    "people"
   ]
  },
  {
   "cell_type": "code",
   "execution_count": 22,
   "id": "bea39a05-809d-4e23-9ff5-f87f42725a37",
   "metadata": {},
   "outputs": [
    {
     "data": {
      "text/plain": [
       "dict_items([(1, {'name': 'John', 'age': '27', 'sex': 'Male', 'married': 'Yes'}), (2, {'name': 'Marie', 'age': '22', 'sex': 'Female'})])"
      ]
     },
     "execution_count": 22,
     "metadata": {},
     "output_type": "execute_result"
    }
   ],
   "source": [
    "people.items()"
   ]
  },
  {
   "cell_type": "code",
   "execution_count": 43,
   "id": "8420f846-0ffc-44ee-9f13-08e228e60769",
   "metadata": {},
   "outputs": [
    {
     "name": "stdout",
     "output_type": "stream",
     "text": [
      "Id      :  1\n",
      "name    :  John\n",
      "age     :  27\n",
      "sex     :  Male\n",
      "married :  Yes\n",
      "\n",
      "Id      :  2\n",
      "name    :  Marie\n",
      "age     :  22\n",
      "sex     :  Female\n",
      "\n"
     ]
    }
   ],
   "source": [
    "for id, dis  in people.items():\n",
    "    print(f\"Id      :  {id}\")\n",
    "    for k, v in dis.items():\n",
    "        print(k+ \" \" * (8-len(k))+\": \", v)\n",
    "    print()\n",
    "    \n",
    "    \n"
   ]
  },
  {
   "cell_type": "code",
   "execution_count": 18,
   "id": "1a870745-4a3f-4f76-9a61-385eb0ef4145",
   "metadata": {},
   "outputs": [
    {
     "name": "stdout",
     "output_type": "stream",
     "text": [
      "Name ram\n",
      "age 20\n",
      "sal 20000\n"
     ]
    }
   ],
   "source": [
    "dic ={\"Name\":\"ram\",\"age\":20,\"sal\":20000}\n",
    "for k,v in dic.items():\n",
    "    print(k, v)"
   ]
  },
  {
   "cell_type": "code",
   "execution_count": 212,
   "id": "e7052383-804d-4bb8-819a-5bae6b3ac896",
   "metadata": {},
   "outputs": [
    {
     "data": {
      "text/plain": [
       "{1: {'name': 'John', 'age': '27', 'sex': 'Male'},\n",
       " 2: {'name': 'Marie', 'age': '22', 'sex': 'Female'}}"
      ]
     },
     "execution_count": 212,
     "metadata": {},
     "output_type": "execute_result"
    }
   ],
   "source": [
    "people\n"
   ]
  },
  {
   "cell_type": "code",
   "execution_count": 204,
   "id": "9cca86c0-6135-4741-a645-ad85bd19484d",
   "metadata": {},
   "outputs": [
    {
     "data": {
      "text/plain": [
       "{1: {'name': 'John', 'age': '27', 'sex': 'Male'},\n",
       " 2: {'name': 'Marie', 'age': '22', 'sex': 'Female', 'married': 'Yes'}}"
      ]
     },
     "execution_count": 204,
     "metadata": {},
     "output_type": "execute_result"
    }
   ],
   "source": [
    "people"
   ]
  },
  {
   "cell_type": "code",
   "execution_count": 208,
   "id": "3b4a7595-283d-4f3d-a54a-02ce5874d5ed",
   "metadata": {},
   "outputs": [
    {
     "name": "stdout",
     "output_type": "stream",
     "text": [
      "\n",
      "Person ID: 1\n",
      "name: John\n",
      "age: 27\n",
      "sex: Male\n",
      "\n",
      "Person ID: 2\n",
      "name: Marie\n",
      "age: 22\n",
      "sex: Female\n",
      "married: Yes\n"
     ]
    }
   ],
   "source": [
    "for p_id, p_info in people.items():\n",
    "    print(\"\\nPerson ID:\", p_id)\n",
    "    \n",
    "    for key,val in p_info.items():\n",
    "        print(key + ':', val)"
   ]
  },
  {
   "cell_type": "code",
   "execution_count": 52,
   "id": "92a5ad6e-47b5-47bf-b250-49934aca1171",
   "metadata": {},
   "outputs": [],
   "source": [
    "dic_no = { x: x * x for x in range(0,10) if x%2==0 }"
   ]
  },
  {
   "cell_type": "code",
   "execution_count": 53,
   "id": "17db446c-62f5-4d0d-8aca-f7f5bd53f21d",
   "metadata": {},
   "outputs": [
    {
     "data": {
      "text/plain": [
       "{0: 0, 2: 4, 4: 16, 6: 36, 8: 64}"
      ]
     },
     "execution_count": 53,
     "metadata": {},
     "output_type": "execute_result"
    }
   ],
   "source": [
    "dic_no"
   ]
  },
  {
   "cell_type": "code",
   "execution_count": 179,
   "id": "ace69980-9f21-47f8-9dd2-7b750c1c29c5",
   "metadata": {},
   "outputs": [
    {
     "name": "stdout",
     "output_type": "stream",
     "text": [
      "{0: 0, 2: 4, 4: 16, 6: 36, 8: 64}\n"
     ]
    }
   ],
   "source": [
    "numbers = range(10)\n",
    "new_dict_for = {}\n",
    "\n",
    "for n in numbers:\n",
    "    if n%2==0:\n",
    "        new_dict_for[n] = n**2\n",
    "\n",
    "print(new_dict_for)"
   ]
  },
  {
   "cell_type": "code",
   "execution_count": 186,
   "id": "60e84c9e-c96b-44ec-9b5b-2ea3a3dcc8fc",
   "metadata": {},
   "outputs": [],
   "source": [
    "dis ={ x:x*x for x in range(10) if x%2==0}"
   ]
  },
  {
   "cell_type": "code",
   "execution_count": 187,
   "id": "5c09be79-c1f0-40f1-8444-4dac88e66164",
   "metadata": {},
   "outputs": [
    {
     "data": {
      "text/plain": [
       "{0: 0, 2: 4, 4: 16, 6: 36, 8: 64}"
      ]
     },
     "execution_count": 187,
     "metadata": {},
     "output_type": "execute_result"
    }
   ],
   "source": [
    "dis"
   ]
  },
  {
   "cell_type": "code",
   "execution_count": null,
   "id": "6a2c1ee3-53bc-474e-a37d-d205d670319a",
   "metadata": {},
   "outputs": [],
   "source": []
  }
 ],
 "metadata": {
  "kernelspec": {
   "display_name": "Python 3 (ipykernel)",
   "language": "python",
   "name": "python3"
  },
  "language_info": {
   "codemirror_mode": {
    "name": "ipython",
    "version": 3
   },
   "file_extension": ".py",
   "mimetype": "text/x-python",
   "name": "python",
   "nbconvert_exporter": "python",
   "pygments_lexer": "ipython3",
   "version": "3.12.10"
  }
 },
 "nbformat": 4,
 "nbformat_minor": 5
}

{
 "cells": [
  {
   "cell_type": "code",
   "execution_count": 1,
   "id": "fd391add-b5de-4400-81d3-c2c0401589db",
   "metadata": {},
   "outputs": [
    {
     "name": "stdout",
     "output_type": "stream",
     "text": [
      "Number: 0\n",
      "Number: 1\n",
      "Number: 2\n",
      "Number: 3\n",
      "Number: 4\n"
     ]
    }
   ],
   "source": [
    "import threading\n",
    "\n",
    "def print_numbers():\n",
    "    for i in range(5):\n",
    "        print(f\"Number: {i}\")\n",
    "\n",
    "t1 = threading.Thread(target=print_numbers)\n",
    "t1.start()\n",
    "t1.join()  "
   ]
  },
  {
   "cell_type": "code",
   "execution_count": 2,
   "id": "0bb21984-7ba7-400c-ba04-d6cc9251d8df",
   "metadata": {},
   "outputs": [
    {
     "name": "stdout",
     "output_type": "stream",
     "text": [
      "Hello, Alice!\n",
      "Hello, Bob!\n",
      "Hello, Charlie!\n"
     ]
    }
   ],
   "source": [
    "import threading\n",
    "def greet(name):\n",
    "    print(f\"Hello, {name}!\")\n",
    "\n",
    "names = ['Alice', 'Bob', 'Charlie']\n",
    "threads = []\n",
    "for name in names:\n",
    "    t = threading.Thread(target=greet, args=(name,))\n",
    "    threads.append(t)\n",
    "    t.start()\n",
    "for t in threads:\n",
    "    t.join()\n"
   ]
  },
  {
   "cell_type": "code",
   "execution_count": 4,
   "id": "2963234f-eaca-4050-8a81-ff5f3487fda8",
   "metadata": {},
   "outputs": [
    {
     "name": "stdout",
     "output_type": "stream",
     "text": [
      "Running in Thread-8\n",
      "Running in Thread-8\n",
      "Running in Thread-8\n"
     ]
    }
   ],
   "source": [
    "import threading\n",
    "class MyThread(threading.Thread):\n",
    "    def run(self):\n",
    "        for i in range(3):\n",
    "            print(f\"Running in {self.name}\")\n",
    "\n",
    "t = MyThread()\n",
    "t.start()\n",
    "t.join()"
   ]
  },
  {
   "cell_type": "code",
   "execution_count": 5,
   "id": "9261b849-b7cc-4885-bb79-eed9a57dff11",
   "metadata": {},
   "outputs": [
    {
     "name": "stdout",
     "output_type": "stream",
     "text": [
      "Thread says: Hello from a custom thread1!\n",
      "Thread says: Hello from a custom thread2!\n"
     ]
    }
   ],
   "source": [
    "class WorkerThread(threading.Thread):\n",
    "    def __init__(self, message):\n",
    "        super().__init__()\n",
    "        self.message = message\n",
    "\n",
    "    def run(self):\n",
    "        print(f\"Thread says: {self.message}\")\n",
    "\n",
    "thread1 = WorkerThread(\"Hello from a custom thread1!\")\n",
    "thread2 = WorkerThread(\"Hello from a custom thread2!\")\n",
    "thread1.start()\n",
    "thread2.start()\n",
    "thread1.join()\n",
    "thread2.join()\n"
   ]
  },
  {
   "cell_type": "code",
   "execution_count": 1,
   "id": "97dcf586-d695-4883-8b76-f7b2266cfe11",
   "metadata": {},
   "outputs": [
    {
     "name": "stdout",
     "output_type": "stream",
     "text": [
      "Downloading https://example.com/file1...\n",
      "Downloading https://example.com/file2...\n",
      "Finished downloading https://example.com/file1Finished downloading https://example.com/file2\n",
      "\n",
      "All downloads completed!\n"
     ]
    }
   ],
   "source": [
    "import threading\n",
    "import time\n",
    "\n",
    "class DownloadThread(threading.Thread):\n",
    "    def __init__(self, url):\n",
    "        super().__init__()\n",
    "        self.url = url\n",
    "\n",
    "    def run(self):\n",
    "        print(f\"Downloading {self.url}...\")\n",
    "        time.sleep(2)  # Simulate download time\n",
    "        print(f\"Finished downloading {self.url}\")\n",
    "\n",
    "urls = [\"https://example.com/file1\", \"https://example.com/file2\"]\n",
    "threads = [DownloadThread(url) for url in urls]\n",
    "\n",
    "for thread in threads:\n",
    "    thread.start()\n",
    "\n",
    "for thread in threads:\n",
    "    thread.join()  # Wait for all threads to finish\n",
    "\n",
    "print(\"All downloads completed!\")"
   ]
  },
  {
   "cell_type": "code",
   "execution_count": null,
   "id": "6261d148-95b0-4abc-ac35-17bbda7a507d",
   "metadata": {},
   "outputs": [],
   "source": []
  }
 ],
 "metadata": {
  "kernelspec": {
   "display_name": "Python 3 (ipykernel)",
   "language": "python",
   "name": "python3"
  },
  "language_info": {
   "codemirror_mode": {
    "name": "ipython",
    "version": 3
   },
   "file_extension": ".py",
   "mimetype": "text/x-python",
   "name": "python",
   "nbconvert_exporter": "python",
   "pygments_lexer": "ipython3",
   "version": "3.12.10"
  }
 },
 "nbformat": 4,
 "nbformat_minor": 5
}

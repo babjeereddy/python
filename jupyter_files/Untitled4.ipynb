{
 "cells": [
  {
   "cell_type": "code",
   "execution_count": 4,
   "id": "28b0b45f-07b4-4018-bf5f-f6cfd27d157c",
   "metadata": {},
   "outputs": [
    {
     "name": "stdin",
     "output_type": "stream",
     "text": [
      "Enter Your Name 19\n"
     ]
    },
    {
     "name": "stdout",
     "output_type": "stream",
     "text": [
      "You are eligible for vote\n",
      "Code got executed\n"
     ]
    }
   ],
   "source": [
    "age = int(input(\"Enter Your Name\"))\n",
    "if age >=18:\n",
    "    print(\"You are eligible for vote\")\n",
    "print(\"Code got executed\")"
   ]
  },
  {
   "cell_type": "code",
   "execution_count": 6,
   "id": "4e9334cc-d9da-4036-b991-ddc1ce1596af",
   "metadata": {},
   "outputs": [
    {
     "name": "stdin",
     "output_type": "stream",
     "text": [
      "Enter your age 18\n"
     ]
    },
    {
     "name": "stdout",
     "output_type": "stream",
     "text": [
      "You are eligible for vote\n"
     ]
    }
   ],
   "source": [
    "age =int(input(\"Enter your age\"))\n",
    "if age >=18 : print(\"You are eligible for vote\")\n",
    "         "
   ]
  },
  {
   "cell_type": "code",
   "execution_count": 8,
   "id": "53746c64-bf94-4a8b-8568-cd890c438a04",
   "metadata": {},
   "outputs": [
    {
     "name": "stdin",
     "output_type": "stream",
     "text": [
      "Enter Your Name 20\n"
     ]
    },
    {
     "name": "stdout",
     "output_type": "stream",
     "text": [
      "You are eligible for vote\n",
      "Code got executed\n"
     ]
    }
   ],
   "source": [
    "age = int(input(\"Enter Your Name\"))\n",
    "if age >=18:\n",
    "    print(\"You are eligible for vote\")\n",
    "else:\n",
    "    print(\"you are not eligible for vote\")\n",
    "print(\"Code got executed\")"
   ]
  },
  {
   "cell_type": "code",
   "execution_count": 11,
   "id": "99dbbdd8-05f8-4229-a7fc-4ef256c31fbe",
   "metadata": {},
   "outputs": [
    {
     "name": "stdin",
     "output_type": "stream",
     "text": [
      "Enter Number of your choice 10\n"
     ]
    },
    {
     "name": "stdout",
     "output_type": "stream",
     "text": [
      "10 is a even number\n"
     ]
    }
   ],
   "source": [
    "num=int(input(\"Enter Number of your choice\"))\n",
    "if num %2==0:\n",
    "    print(f\"{num} is a even number\")\n",
    "else:\n",
    "    print(f\"{num} is a odd number\")\n"
   ]
  },
  {
   "cell_type": "code",
   "execution_count": 15,
   "id": "747975ff-ba39-46f1-9ab7-e5ade0064aa1",
   "metadata": {},
   "outputs": [
    {
     "name": "stdin",
     "output_type": "stream",
     "text": [
      "Enter Your Income 3000000\n",
      "Enter no of car you own 1\n"
     ]
    },
    {
     "name": "stdout",
     "output_type": "stream",
     "text": [
      "Elight customer\n"
     ]
    }
   ],
   "source": [
    "income=int(input(\"Enter Your Income\"))\n",
    "cars = int(input(\"Enter no of car you own\"))\n",
    "if income > 200000 or cars >=2 :\n",
    "    print(\"Elight customer\")\n",
    "else:\n",
    "    print(\"Standard customer\")"
   ]
  },
  {
   "cell_type": "code",
   "execution_count": 16,
   "id": "3fcd2fb5-6f9d-40ee-82c6-e564538b6453",
   "metadata": {},
   "outputs": [
    {
     "name": "stdin",
     "output_type": "stream",
     "text": [
      "Enter Your salary 1000001\n"
     ]
    },
    {
     "name": "stdout",
     "output_type": "stream",
     "text": [
      "Excelent Salary\n"
     ]
    }
   ],
   "source": [
    "salary = int(input(\"Enter Your salary\"))\n",
    "if salary > 100000:\n",
    "    print(\"Excelent Salary\")\n",
    "elif salary > 50000:\n",
    "    print(\"Good salary\")\n",
    "elif salary > 30000:\n",
    "    print(\"Avarage Salary\")\n",
    "else:\n",
    "    print(\"Poor Salary\")"
   ]
  },
  {
   "cell_type": "code",
   "execution_count": 17,
   "id": "83ce866a-ca2b-482d-b71c-080bd38bcc68",
   "metadata": {},
   "outputs": [
    {
     "name": "stdin",
     "output_type": "stream",
     "text": [
      "Enter Your salary 20000\n"
     ]
    },
    {
     "name": "stdout",
     "output_type": "stream",
     "text": [
      "Poor Salary\n"
     ]
    }
   ],
   "source": [
    "salary = int(input(\"Enter Your salary\"))\n",
    "result=\"\"\n",
    "if salary > 100000:\n",
    "    result=\"Excelent Salary\"\n",
    "elif salary > 50000:\n",
    "    result=\"Good Salary\"\n",
    "elif salary > 30000:\n",
    "    result=\"Average Salary\"\n",
    "else:\n",
    "    result=\"Poor Salary\"\n",
    "print(result)"
   ]
  },
  {
   "cell_type": "code",
   "execution_count": 19,
   "id": "1e172d86-79d2-4d7d-988e-2272bc49dd45",
   "metadata": {},
   "outputs": [
    {
     "name": "stdout",
     "output_type": "stream",
     "text": [
      "Simple Calculater\n"
     ]
    },
    {
     "name": "stdin",
     "output_type": "stream",
     "text": [
      "Enter First Number 10\n",
      "Enter Second Number 20\n",
      "Enter Operator +,-,*,/ +\n"
     ]
    },
    {
     "name": "stdout",
     "output_type": "stream",
     "text": [
      "10 + 20 = 30\n"
     ]
    }
   ],
   "source": [
    "print(\"Simple Calculater\")\n",
    "num1 = int(input(\"Enter First Number\"))\n",
    "num2 = int(input(\"Enter Second Number\"))\n",
    "opp = input(\"Enter Operator +,-,*,/\")\n",
    "             \n",
    "result=0\n",
    "if opp==\"+\":\n",
    "    result=num1+num2\n",
    "elif opp==\"-\":\n",
    "    result=num1+num2\n",
    "elif opp==\"*\":\n",
    "    result=num1*num2\n",
    "else:\n",
    "    result= num1/num2\n",
    "print(f\"{num1} {opp} {num2} = {result}\")\n",
    "\n",
    "\n",
    "    \n"
   ]
  },
  {
   "cell_type": "code",
   "execution_count": 24,
   "id": "119c6b06-b019-4eb3-94a0-2efe5c966b03",
   "metadata": {},
   "outputs": [
    {
     "name": "stdout",
     "output_type": "stream",
     "text": [
      "Welcome to Welcome to the Rollercoaster!\n"
     ]
    },
    {
     "name": "stdin",
     "output_type": "stream",
     "text": [
      "What is your hight in cm?\n",
      " 121\n"
     ]
    },
    {
     "name": "stdout",
     "output_type": "stream",
     "text": [
      "You can ride Rollercoaster\n"
     ]
    },
    {
     "name": "stdin",
     "output_type": "stream",
     "text": [
      "Enter your age\n",
      " 8\n",
      "Do you want to take photo Y or N Y\n"
     ]
    },
    {
     "name": "stdout",
     "output_type": "stream",
     "text": [
      "Amount to pay 9\n"
     ]
    }
   ],
   "source": [
    "print(\"Welcome to Welcome to the Rollercoaster!\")\n",
    "hight =int(input(\"What is your hight in cm?\\n\"))\n",
    "amount=0\n",
    "if hight > 120:\n",
    "    print(\"You can ride Rollercoaster\")\n",
    "    age =int(input(\"Enter your age\\n\"))\n",
    "    photo =input(\"Do you want to take photo Y or N\")\n",
    "    if age < 12:\n",
    "        amount=7\n",
    "        if photo=='Y': amount+=2\n",
    "    else:\n",
    "        amount=12\n",
    "        if photo=='Y': amount+=2\n",
    "    print(f\"Amount to pay {amount}\")\n",
    "else:\n",
    "    print(\"Sorry you have to grouw taller before you can ride\")\n"
   ]
  },
  {
   "cell_type": "code",
   "execution_count": 26,
   "id": "f7233d6b-222b-4603-92f7-8bff37c3263d",
   "metadata": {},
   "outputs": [
    {
     "name": "stdout",
     "output_type": "stream",
     "text": [
      "0\n",
      "2\n",
      "4\n",
      "6\n",
      "8\n",
      "10\n"
     ]
    }
   ],
   "source": [
    "for i in range(0,11,2):\n",
    "    print(i)"
   ]
  },
  {
   "cell_type": "code",
   "execution_count": 27,
   "id": "5687374d-53b1-448c-8ab8-70bd294c1968",
   "metadata": {},
   "outputs": [
    {
     "name": "stdout",
     "output_type": "stream",
     "text": [
      "B\n",
      "a\n",
      "b\n",
      "j\n",
      "e\n",
      "e\n"
     ]
    }
   ],
   "source": [
    "for i in \"Babjee\":\n",
    "    print(i)"
   ]
  },
  {
   "cell_type": "code",
   "execution_count": 28,
   "id": "7adcd31b-c087-4280-8701-9f3a362cab29",
   "metadata": {},
   "outputs": [
    {
     "name": "stdout",
     "output_type": "stream",
     "text": [
      "1\n",
      "2\n",
      "3\n",
      "4\n",
      "5\n"
     ]
    }
   ],
   "source": [
    "for i in range(1,10):\n",
    "    if i >5:\n",
    "        break\n",
    "    print(i)"
   ]
  },
  {
   "cell_type": "code",
   "execution_count": 29,
   "id": "c777a052-8d02-47d2-a2f9-303fb0e9ee91",
   "metadata": {},
   "outputs": [
    {
     "name": "stdout",
     "output_type": "stream",
     "text": [
      "1\n",
      "2\n",
      "3\n",
      "4\n",
      "6\n",
      "7\n",
      "8\n",
      "9\n"
     ]
    }
   ],
   "source": [
    "for i in range(1,10):\n",
    "    if i ==5:\n",
    "        continue\n",
    "    print(i)"
   ]
  },
  {
   "cell_type": "code",
   "execution_count": 34,
   "id": "59c3cf5f-736a-4af9-932f-142c90049ae7",
   "metadata": {},
   "outputs": [
    {
     "name": "stdout",
     "output_type": "stream",
     "text": [
      "2\n",
      "4\n",
      "6\n",
      "8\n",
      "10\n"
     ]
    }
   ],
   "source": [
    "for i in range(2,11,2):\n",
    "    print(i)\n",
    "    "
   ]
  },
  {
   "cell_type": "code",
   "execution_count": 35,
   "id": "3d89ac72-4fc6-466e-81b7-feb07874fad5",
   "metadata": {},
   "outputs": [
    {
     "name": "stdout",
     "output_type": "stream",
     "text": [
      "0\n",
      "1\n",
      "2\n",
      "3\n",
      "4\n",
      "5\n",
      "6\n",
      "7\n",
      "8\n",
      "9\n",
      "10\n"
     ]
    }
   ],
   "source": [
    "i=0\n",
    "while( i < 11):\n",
    "    print(i)\n",
    "    i+=1"
   ]
  },
  {
   "cell_type": "code",
   "execution_count": 37,
   "id": "464cb135-47df-4499-9faa-41ee65e78911",
   "metadata": {},
   "outputs": [
    {
     "name": "stdout",
     "output_type": "stream",
     "text": [
      "10\n",
      "9\n",
      "8\n",
      "7\n",
      "6\n",
      "5\n",
      "4\n",
      "3\n",
      "2\n",
      "1\n"
     ]
    }
   ],
   "source": [
    "for i in range(10,0,-1):\n",
    "    print(i)"
   ]
  },
  {
   "cell_type": "code",
   "execution_count": 41,
   "id": "482d8a4d-e9dc-4d54-abd4-b1c08e59d64c",
   "metadata": {},
   "outputs": [
    {
     "name": "stdin",
     "output_type": "stream",
     "text": [
      "Enter Number of Tablbes to Print\n",
      " 10\n"
     ]
    },
    {
     "name": "stdout",
     "output_type": "stream",
     "text": [
      "Table: 1\n",
      "1 x 1 = 1\n",
      "1 x 2 = 2\n",
      "1 x 3 = 3\n",
      "1 x 4 = 4\n",
      "1 x 5 = 5\n",
      "1 x 6 = 6\n",
      "1 x 7 = 7\n",
      "1 x 8 = 8\n",
      "1 x 9 = 9\n",
      "1 x 10 = 10\n",
      "\n",
      "Table: 2\n",
      "2 x 1 = 2\n",
      "2 x 2 = 4\n",
      "2 x 3 = 6\n",
      "2 x 4 = 8\n",
      "2 x 5 = 10\n",
      "2 x 6 = 12\n",
      "2 x 7 = 14\n",
      "2 x 8 = 16\n",
      "2 x 9 = 18\n",
      "2 x 10 = 20\n",
      "\n",
      "Table: 3\n",
      "3 x 1 = 3\n",
      "3 x 2 = 6\n",
      "3 x 3 = 9\n",
      "3 x 4 = 12\n",
      "3 x 5 = 15\n",
      "3 x 6 = 18\n",
      "3 x 7 = 21\n",
      "3 x 8 = 24\n",
      "3 x 9 = 27\n",
      "3 x 10 = 30\n",
      "\n",
      "Table: 4\n",
      "4 x 1 = 4\n",
      "4 x 2 = 8\n",
      "4 x 3 = 12\n",
      "4 x 4 = 16\n",
      "4 x 5 = 20\n",
      "4 x 6 = 24\n",
      "4 x 7 = 28\n",
      "4 x 8 = 32\n",
      "4 x 9 = 36\n",
      "4 x 10 = 40\n",
      "\n",
      "Table: 5\n",
      "5 x 1 = 5\n",
      "5 x 2 = 10\n",
      "5 x 3 = 15\n",
      "5 x 4 = 20\n",
      "5 x 5 = 25\n",
      "5 x 6 = 30\n",
      "5 x 7 = 35\n",
      "5 x 8 = 40\n",
      "5 x 9 = 45\n",
      "5 x 10 = 50\n",
      "\n",
      "Table: 6\n",
      "6 x 1 = 6\n",
      "6 x 2 = 12\n",
      "6 x 3 = 18\n",
      "6 x 4 = 24\n",
      "6 x 5 = 30\n",
      "6 x 6 = 36\n",
      "6 x 7 = 42\n",
      "6 x 8 = 48\n",
      "6 x 9 = 54\n",
      "6 x 10 = 60\n",
      "\n",
      "Table: 7\n",
      "7 x 1 = 7\n",
      "7 x 2 = 14\n",
      "7 x 3 = 21\n",
      "7 x 4 = 28\n",
      "7 x 5 = 35\n",
      "7 x 6 = 42\n",
      "7 x 7 = 49\n",
      "7 x 8 = 56\n",
      "7 x 9 = 63\n",
      "7 x 10 = 70\n",
      "\n",
      "Table: 8\n",
      "8 x 1 = 8\n",
      "8 x 2 = 16\n",
      "8 x 3 = 24\n",
      "8 x 4 = 32\n",
      "8 x 5 = 40\n",
      "8 x 6 = 48\n",
      "8 x 7 = 56\n",
      "8 x 8 = 64\n",
      "8 x 9 = 72\n",
      "8 x 10 = 80\n",
      "\n",
      "Table: 9\n",
      "9 x 1 = 9\n",
      "9 x 2 = 18\n",
      "9 x 3 = 27\n",
      "9 x 4 = 36\n",
      "9 x 5 = 45\n",
      "9 x 6 = 54\n",
      "9 x 7 = 63\n",
      "9 x 8 = 72\n",
      "9 x 9 = 81\n",
      "9 x 10 = 90\n",
      "\n",
      "Table: 10\n",
      "10 x 1 = 10\n",
      "10 x 2 = 20\n",
      "10 x 3 = 30\n",
      "10 x 4 = 40\n",
      "10 x 5 = 50\n",
      "10 x 6 = 60\n",
      "10 x 7 = 70\n",
      "10 x 8 = 80\n",
      "10 x 9 = 90\n",
      "10 x 10 = 100\n",
      "\n"
     ]
    }
   ],
   "source": [
    "no=int(input(\"Enter Number of Tablbes to Print\\n\"))\n",
    "for i in range(1,no+1):\n",
    "    print(f\"Table: {i}\")\n",
    "    for j in range(1,11):\n",
    "        print(f\"{i} x {j} = {i * j}\")\n",
    "    print()    "
   ]
  },
  {
   "cell_type": "code",
   "execution_count": 45,
   "id": "fae89c50-6335-480f-8161-6f1b345b4275",
   "metadata": {},
   "outputs": [
    {
     "name": "stdout",
     "output_type": "stream",
     "text": [
      "01234\n",
      "0123\n",
      "012\n",
      "01\n",
      "0\n"
     ]
    }
   ],
   "source": [
    "for i in range(5,0,-1):\n",
    "    for j in range(i):\n",
    "        print(j, end=\"\")\n",
    "    print()"
   ]
  },
  {
   "cell_type": "code",
   "execution_count": 46,
   "id": "fae50d55-8df0-4039-b5d8-d530f8ab9745",
   "metadata": {},
   "outputs": [
    {
     "name": "stdout",
     "output_type": "stream",
     "text": [
      "A \n",
      "A B \n",
      "A B C \n",
      "A B C D \n",
      "A B C D E \n"
     ]
    }
   ],
   "source": [
    "\n",
    "for i in range(1, 6):\n",
    "    for j in range(1, i+1):\n",
    "        print(chr(64 + j), end=\" \")\n",
    "    print()"
   ]
  },
  {
   "cell_type": "code",
   "execution_count": 47,
   "id": "1b4cf176-cd15-4aa0-bbdf-01b58a86341c",
   "metadata": {},
   "outputs": [
    {
     "name": "stdout",
     "output_type": "stream",
     "text": [
      "    *\n",
      "   ***\n",
      "  *****\n",
      " *******\n",
      "*********\n"
     ]
    }
   ],
   "source": [
    "\n",
    "rows = 5\n",
    "for i in range(1, rows + 1):\n",
    "    spaces = rows - i\n",
    "    stars = 2 * i - 1\n",
    "    print(\" \" * spaces + \"*\" * stars)"
   ]
  },
  {
   "cell_type": "code",
   "execution_count": 48,
   "id": "d1523033-dcf2-40d8-b4f1-49911eb72e14",
   "metadata": {},
   "outputs": [
    {
     "name": "stdout",
     "output_type": "stream",
     "text": [
      "Babjee Reddy\n"
     ]
    }
   ],
   "source": [
    "name =\"Babjee Reddy\"\n",
    "print(name)"
   ]
  },
  {
   "cell_type": "code",
   "execution_count": 49,
   "id": "4fbf24f1-8c26-4709-9bd6-0463abd41d23",
   "metadata": {},
   "outputs": [
    {
     "name": "stdout",
     "output_type": "stream",
     "text": [
      "B\n"
     ]
    }
   ],
   "source": [
    "print(name[0])"
   ]
  },
  {
   "cell_type": "code",
   "execution_count": 50,
   "id": "b93c518f-3cd9-46c8-9f42-71e220b3c5f3",
   "metadata": {},
   "outputs": [
    {
     "name": "stdout",
     "output_type": "stream",
     "text": [
      "y\n"
     ]
    }
   ],
   "source": [
    "print(name[-1])"
   ]
  },
  {
   "cell_type": "code",
   "execution_count": 51,
   "id": "afa995b0-b95c-43c9-a7fc-7c1b2d6c5827",
   "metadata": {},
   "outputs": [
    {
     "name": "stdout",
     "output_type": "stream",
     "text": [
      "Bab\n"
     ]
    }
   ],
   "source": [
    "print(name[0:3])\n"
   ]
  },
  {
   "cell_type": "code",
   "execution_count": 52,
   "id": "a7310e11-0413-4d5a-bfa9-db166f83d6b7",
   "metadata": {},
   "outputs": [
    {
     "name": "stdout",
     "output_type": "stream",
     "text": [
      "bjee Reddy\n"
     ]
    }
   ],
   "source": [
    "print(name[2:])"
   ]
  },
  {
   "cell_type": "code",
   "execution_count": 54,
   "id": "695eae86-7d83-46bf-b939-52562ed75153",
   "metadata": {},
   "outputs": [
    {
     "name": "stdout",
     "output_type": "stream",
     "text": [
      "Bab\n"
     ]
    }
   ],
   "source": [
    "print(name[:3])"
   ]
  },
  {
   "cell_type": "code",
   "execution_count": 57,
   "id": "855a04bb-900b-4101-949d-0b6ab8a5b4fd",
   "metadata": {},
   "outputs": [
    {
     "name": "stdout",
     "output_type": "stream",
     "text": [
      "yddeR eejbaB\n"
     ]
    }
   ],
   "source": [
    "print(name[::-1])"
   ]
  },
  {
   "cell_type": "code",
   "execution_count": 58,
   "id": "40402420-7c46-4acb-a329-85b200722e05",
   "metadata": {},
   "outputs": [
    {
     "name": "stdout",
     "output_type": "stream",
     "text": [
      "Bbe ed\n"
     ]
    }
   ],
   "source": [
    "print(name[::2])"
   ]
  },
  {
   "cell_type": "code",
   "execution_count": 59,
   "id": "7f3480a5-30de-40d8-83a0-1043ea34058f",
   "metadata": {},
   "outputs": [
    {
     "name": "stdout",
     "output_type": "stream",
     "text": [
      "B\n",
      "a\n",
      "b\n",
      "j\n",
      "e\n",
      "e\n",
      " \n",
      "R\n",
      "e\n",
      "d\n",
      "d\n",
      "y\n"
     ]
    }
   ],
   "source": [
    "for i in name:\n",
    "    print(i)"
   ]
  },
  {
   "cell_type": "code",
   "execution_count": 61,
   "id": "f79cda1e-b025-4d1f-b998-621311f06ac8",
   "metadata": {},
   "outputs": [
    {
     "name": "stdout",
     "output_type": "stream",
     "text": [
      "BabjeeReddy\n"
     ]
    }
   ],
   "source": [
    "st=\"\"\n",
    "for i in name:\n",
    "    \n",
    "    if i==\" \":\n",
    "        continue\n",
    "    st+=i\n",
    "print(st)"
   ]
  },
  {
   "cell_type": "code",
   "execution_count": 62,
   "id": "08ed2a24-b7dc-468e-9e65-b5b39599dd8c",
   "metadata": {},
   "outputs": [
    {
     "data": {
      "text/plain": [
       "'Babjee reddy'"
      ]
     },
     "execution_count": 62,
     "metadata": {},
     "output_type": "execute_result"
    }
   ],
   "source": [
    "name=\"babjee reddy\"\n",
    "name.capitalize()"
   ]
  },
  {
   "cell_type": "code",
   "execution_count": 63,
   "id": "dc1f5fc1-5bc5-4810-a8b1-3510f00b5a68",
   "metadata": {},
   "outputs": [
    {
     "data": {
      "text/plain": [
       "'**************babjee reddy**************'"
      ]
     },
     "execution_count": 63,
     "metadata": {},
     "output_type": "execute_result"
    }
   ],
   "source": [
    "name.center(40,\"*\")"
   ]
  },
  {
   "cell_type": "code",
   "execution_count": 68,
   "id": "1248931c-b7bb-4a01-9fc7-8dac4bb59107",
   "metadata": {},
   "outputs": [
    {
     "data": {
      "text/plain": [
       "1"
      ]
     },
     "execution_count": 68,
     "metadata": {},
     "output_type": "execute_result"
    }
   ],
   "source": [
    "name.count(\" \")"
   ]
  },
  {
   "cell_type": "code",
   "execution_count": 71,
   "id": "bae66349-5656-436a-b716-45af4b808daf",
   "metadata": {},
   "outputs": [
    {
     "data": {
      "text/plain": [
       "False"
      ]
     },
     "execution_count": 71,
     "metadata": {},
     "output_type": "execute_result"
    }
   ],
   "source": [
    "name.endswith(\"reddy1\")"
   ]
  },
  {
   "cell_type": "code",
   "execution_count": 73,
   "id": "581dafbe-158e-4037-a0b7-f07012b9a53f",
   "metadata": {},
   "outputs": [
    {
     "data": {
      "text/plain": [
       "True"
      ]
     },
     "execution_count": 73,
     "metadata": {},
     "output_type": "execute_result"
    }
   ],
   "source": [
    "name.startswith(\"babjee\")"
   ]
  },
  {
   "cell_type": "code",
   "execution_count": 74,
   "id": "a7461191-357c-47f0-9804-945744383076",
   "metadata": {},
   "outputs": [
    {
     "data": {
      "text/plain": [
       "7"
      ]
     },
     "execution_count": 74,
     "metadata": {},
     "output_type": "execute_result"
    }
   ],
   "source": [
    "name.index(\"reddy\")"
   ]
  },
  {
   "cell_type": "code",
   "execution_count": 75,
   "id": "ec7c81ff-0187-4e85-9343-74cbcc4d6306",
   "metadata": {},
   "outputs": [
    {
     "data": {
      "text/plain": [
       "'babjee reddy'"
      ]
     },
     "execution_count": 75,
     "metadata": {},
     "output_type": "execute_result"
    }
   ],
   "source": [
    "name"
   ]
  },
  {
   "cell_type": "code",
   "execution_count": 78,
   "id": "0d7ce909-906a-46e5-8144-8af9cd024be8",
   "metadata": {},
   "outputs": [
    {
     "data": {
      "text/plain": [
       "-1"
      ]
     },
     "execution_count": 78,
     "metadata": {},
     "output_type": "execute_result"
    }
   ],
   "source": [
    "name.find(\"reddy\",13)"
   ]
  },
  {
   "cell_type": "code",
   "execution_count": 83,
   "id": "c0afd063-fb82-4858-b255-6960a2735df0",
   "metadata": {},
   "outputs": [
    {
     "data": {
      "text/plain": [
       "False"
      ]
     },
     "execution_count": 83,
     "metadata": {},
     "output_type": "execute_result"
    }
   ],
   "source": [
    "\"123abc!\".isalnum()"
   ]
  },
  {
   "cell_type": "code",
   "execution_count": 87,
   "id": "838e6164-61df-45f4-9ae2-baace7642050",
   "metadata": {},
   "outputs": [
    {
     "data": {
      "text/plain": [
       "False"
      ]
     },
     "execution_count": 87,
     "metadata": {},
     "output_type": "execute_result"
    }
   ],
   "source": [
    "\"123a\".isdigit()"
   ]
  },
  {
   "cell_type": "code",
   "execution_count": 89,
   "id": "037c0cf6-b2a3-46e3-ac7f-191d87c7407f",
   "metadata": {},
   "outputs": [
    {
     "data": {
      "text/plain": [
       "True"
      ]
     },
     "execution_count": 89,
     "metadata": {},
     "output_type": "execute_result"
    }
   ],
   "source": [
    "'n'.isprintable()"
   ]
  },
  {
   "cell_type": "code",
   "execution_count": 100,
   "id": "605b4bda-9b96-44ee-a288-0b3c3f74f309",
   "metadata": {},
   "outputs": [
    {
     "data": {
      "text/plain": [
       "True"
      ]
     },
     "execution_count": 100,
     "metadata": {},
     "output_type": "execute_result"
    }
   ],
   "source": [
    "\"Hello Wold\".istitle()"
   ]
  },
  {
   "cell_type": "code",
   "execution_count": 92,
   "id": "f712257b-58e5-4157-9aa3-02f94227ae2e",
   "metadata": {},
   "outputs": [
    {
     "data": {
      "text/plain": [
       "'babjee reddy'"
      ]
     },
     "execution_count": 92,
     "metadata": {},
     "output_type": "execute_result"
    }
   ],
   "source": [
    "name"
   ]
  },
  {
   "cell_type": "code",
   "execution_count": 102,
   "id": "cd749241-7795-493a-b14d-e0c33060e3ed",
   "metadata": {},
   "outputs": [
    {
     "data": {
      "text/plain": [
       "True"
      ]
     },
     "execution_count": 102,
     "metadata": {},
     "output_type": "execute_result"
    }
   ],
   "source": [
    "\"222\".isdecimal()"
   ]
  },
  {
   "cell_type": "code",
   "execution_count": 103,
   "id": "b6f4c9f0-77ff-471b-bf75-d1dec6f98ac0",
   "metadata": {},
   "outputs": [
    {
     "data": {
      "text/plain": [
       "False"
      ]
     },
     "execution_count": 103,
     "metadata": {},
     "output_type": "execute_result"
    }
   ],
   "source": [
    "name.isspace()"
   ]
  },
  {
   "cell_type": "code",
   "execution_count": 105,
   "id": "bd4f8e65-fa88-49ce-b8db-18ec84a18695",
   "metadata": {},
   "outputs": [
    {
     "data": {
      "text/plain": [
       "True"
      ]
     },
     "execution_count": 105,
     "metadata": {},
     "output_type": "execute_result"
    }
   ],
   "source": [
    "\" \".isspace()"
   ]
  },
  {
   "cell_type": "code",
   "execution_count": 106,
   "id": "67d2fd2d-61fe-4b46-a3e6-417132a00dda",
   "metadata": {},
   "outputs": [
    {
     "data": {
      "text/plain": [
       "'babjee reddy'"
      ]
     },
     "execution_count": 106,
     "metadata": {},
     "output_type": "execute_result"
    }
   ],
   "source": [
    "name.lower()"
   ]
  },
  {
   "cell_type": "code",
   "execution_count": 107,
   "id": "2c58953c-14b1-437f-90ce-480749433a12",
   "metadata": {},
   "outputs": [
    {
     "data": {
      "text/plain": [
       "'BABJEE REDDY'"
      ]
     },
     "execution_count": 107,
     "metadata": {},
     "output_type": "execute_result"
    }
   ],
   "source": [
    "name.upper()"
   ]
  },
  {
   "cell_type": "code",
   "execution_count": 108,
   "id": "7af32959-fc20-41da-bcf4-c12fb5213d6a",
   "metadata": {},
   "outputs": [
    {
     "data": {
      "text/plain": [
       "'Babjee Reddy'"
      ]
     },
     "execution_count": 108,
     "metadata": {},
     "output_type": "execute_result"
    }
   ],
   "source": [
    "name.title()"
   ]
  },
  {
   "cell_type": "code",
   "execution_count": 109,
   "id": "9083fc00-5360-49b8-8203-91c2b064bfbf",
   "metadata": {},
   "outputs": [
    {
     "data": {
      "text/plain": [
       "'babjee Reddy  '"
      ]
     },
     "execution_count": 109,
     "metadata": {},
     "output_type": "execute_result"
    }
   ],
   "source": [
    "\"  babjee Reddy  \".lstrip()"
   ]
  },
  {
   "cell_type": "code",
   "execution_count": 110,
   "id": "600f82ad-7dfd-4275-adff-ee1c3dc2f861",
   "metadata": {},
   "outputs": [
    {
     "data": {
      "text/plain": [
       "'  babjee Reddy'"
      ]
     },
     "execution_count": 110,
     "metadata": {},
     "output_type": "execute_result"
    }
   ],
   "source": [
    "\"  babjee Reddy  \".rstrip()"
   ]
  },
  {
   "cell_type": "code",
   "execution_count": 111,
   "id": "11d96a3e-a72f-44bb-b632-90d212589a61",
   "metadata": {},
   "outputs": [
    {
     "data": {
      "text/plain": [
       "'babjee Reddy'"
      ]
     },
     "execution_count": 111,
     "metadata": {},
     "output_type": "execute_result"
    }
   ],
   "source": [
    "\"  babjee Reddy  \".strip()"
   ]
  },
  {
   "cell_type": "code",
   "execution_count": null,
   "id": "19321b0b-82a2-4b02-9397-06a55afffb36",
   "metadata": {},
   "outputs": [],
   "source": [
    "name.join"
   ]
  },
  {
   "cell_type": "code",
   "execution_count": 113,
   "id": "631520bc-bbed-42f5-a588-c4bd6b5acfc0",
   "metadata": {},
   "outputs": [
    {
     "data": {
      "text/plain": [
       "'apple#mango#orange'"
      ]
     },
     "execution_count": 113,
     "metadata": {},
     "output_type": "execute_result"
    }
   ],
   "source": [
    "lst=[\"apple\",\"mango\",\"orange\"]\n",
    "\"#\".join(lst)"
   ]
  },
  {
   "cell_type": "code",
   "execution_count": 114,
   "id": "400f400d-2dcd-4194-aa13-0a56681ab815",
   "metadata": {},
   "outputs": [
    {
     "name": "stdout",
     "output_type": "stream",
     "text": [
      "For only 49.00 dollars!\n"
     ]
    }
   ],
   "source": [
    "txt = \"For only {price:.2f} dollars!\"\n",
    "print(txt.format(price = 49))\n"
   ]
  },
  {
   "cell_type": "code",
   "execution_count": 120,
   "id": "400783c2-125c-4b01-bd6b-bfb9472b0b9e",
   "metadata": {},
   "outputs": [
    {
     "data": {
      "text/plain": [
       "'Babjee'"
      ]
     },
     "execution_count": 120,
     "metadata": {},
     "output_type": "execute_result"
    }
   ],
   "source": [
    "\"Mr.Babjee\".removeprefix(\"Mr.\")"
   ]
  },
  {
   "cell_type": "code",
   "execution_count": 121,
   "id": "61003a84-b45d-41a4-809a-d89de9dfb35e",
   "metadata": {},
   "outputs": [
    {
     "name": "stdout",
     "output_type": "stream",
     "text": [
      "file\n"
     ]
    }
   ],
   "source": [
    "s1 = \"file.txt\"\n",
    "s2 = s1.removesuffix(\".txt\")\n",
    "print(s2)"
   ]
  },
  {
   "cell_type": "code",
   "execution_count": 123,
   "id": "b5aeb2e7-c18f-43fe-a593-aa8ac1395b0e",
   "metadata": {},
   "outputs": [
    {
     "data": {
      "text/plain": [
       "['babjee', 'reddy']"
      ]
     },
     "execution_count": 123,
     "metadata": {},
     "output_type": "execute_result"
    }
   ],
   "source": [
    "name.split(\" \")"
   ]
  },
  {
   "cell_type": "code",
   "execution_count": 124,
   "id": "b8e855e8-21b4-4d76-9cd6-895b708809ad",
   "metadata": {},
   "outputs": [
    {
     "data": {
      "text/plain": [
       "['hi', 'how ', 'are', 'you']"
      ]
     },
     "execution_count": 124,
     "metadata": {},
     "output_type": "execute_result"
    }
   ],
   "source": [
    "'''hi\n",
    "how \n",
    "are\n",
    "you'''.splitlines()"
   ]
  },
  {
   "cell_type": "code",
   "execution_count": 126,
   "id": "ed8e6821-02af-4fc4-8ffb-39d7f350abcf",
   "metadata": {},
   "outputs": [
    {
     "data": {
      "text/plain": [
       "'bABJEE rEDDY'"
      ]
     },
     "execution_count": 126,
     "metadata": {},
     "output_type": "execute_result"
    }
   ],
   "source": [
    "\"Babjee Reddy\".swapcase()"
   ]
  },
  {
   "cell_type": "code",
   "execution_count": 130,
   "id": "d6ec902d-3b8b-4dfa-9239-912167ca5956",
   "metadata": {},
   "outputs": [
    {
     "data": {
      "text/plain": [
       "'0000001234'"
      ]
     },
     "execution_count": 130,
     "metadata": {},
     "output_type": "execute_result"
    }
   ],
   "source": [
    "\"1234\".zfill(10)"
   ]
  },
  {
   "cell_type": "code",
   "execution_count": 131,
   "id": "3a0957b5-a498-4b7b-9344-6a20b206b8ec",
   "metadata": {},
   "outputs": [
    {
     "data": {
      "text/plain": [
       "('babjee', ' ', 'reddy')"
      ]
     },
     "execution_count": 131,
     "metadata": {},
     "output_type": "execute_result"
    }
   ],
   "source": [
    "name.partition(\" \")"
   ]
  },
  {
   "cell_type": "code",
   "execution_count": 135,
   "id": "0f4d8617-382f-4171-a958-43cab59069d0",
   "metadata": {},
   "outputs": [
    {
     "name": "stdout",
     "output_type": "stream",
     "text": [
      "b'My name is St\\xc3\\xa5le'\n"
     ]
    }
   ],
   "source": [
    "txt = \"My name is Ståle\"\n",
    "\n",
    "x = txt.encode()\n",
    "\n",
    "print(x)"
   ]
  },
  {
   "cell_type": "code",
   "execution_count": 138,
   "id": "86c4361b-575a-4846-bb5b-07feb92ca5c1",
   "metadata": {},
   "outputs": [
    {
     "data": {
      "text/plain": [
       "3"
      ]
     },
     "execution_count": 138,
     "metadata": {},
     "output_type": "execute_result"
    }
   ],
   "source": [
    "name.find(\"j\")\n"
   ]
  },
  {
   "cell_type": "code",
   "execution_count": 139,
   "id": "1f8e87a0-4c10-4646-9274-480c9de2a631",
   "metadata": {},
   "outputs": [
    {
     "data": {
      "text/plain": [
       "3"
      ]
     },
     "execution_count": 139,
     "metadata": {},
     "output_type": "execute_result"
    }
   ],
   "source": [
    "name.rfind(\"j\")"
   ]
  },
  {
   "cell_type": "code",
   "execution_count": 140,
   "id": "a9ae6f02-96cb-40b5-9ab6-54a8b0f24bf3",
   "metadata": {},
   "outputs": [
    {
     "data": {
      "text/plain": [
       "'babjee reddy'"
      ]
     },
     "execution_count": 140,
     "metadata": {},
     "output_type": "execute_result"
    }
   ],
   "source": [
    "name\n"
   ]
  },
  {
   "cell_type": "code",
   "execution_count": 141,
   "id": "d3e33f16-6160-41ea-a310-855b96417a0f",
   "metadata": {},
   "outputs": [
    {
     "name": "stdout",
     "output_type": "stream",
     "text": [
      "4\n"
     ]
    }
   ],
   "source": [
    "text = \"hello world\"\n",
    "print(text.find(\"o\"))   # Output: 4 (first 'o' from left)"
   ]
  },
  {
   "cell_type": "code",
   "execution_count": 142,
   "id": "ee5690c9-44d9-456a-ad7a-ebd832ba8f38",
   "metadata": {},
   "outputs": [
    {
     "name": "stdout",
     "output_type": "stream",
     "text": [
      "7\n"
     ]
    }
   ],
   "source": [
    "text = \"hello world\"\n",
    "print(text.rfind(\"o\"))   # Output: 4 (first 'o' from left)"
   ]
  },
  {
   "cell_type": "code",
   "execution_count": 1,
   "id": "5147fccb-53a6-4574-9bbf-b899e8d518e8",
   "metadata": {},
   "outputs": [
    {
     "data": {
      "text/plain": [
       "'Hello Python'"
      ]
     },
     "execution_count": 1,
     "metadata": {},
     "output_type": "execute_result"
    }
   ],
   "source": [
    "\"hello python\".title()"
   ]
  },
  {
   "cell_type": "code",
   "execution_count": 2,
   "id": "b5fa6ab9-c40e-4c36-85e1-654008f14a1a",
   "metadata": {},
   "outputs": [
    {
     "data": {
      "text/plain": [
       "'HELLO PYTHON'"
      ]
     },
     "execution_count": 2,
     "metadata": {},
     "output_type": "execute_result"
    }
   ],
   "source": [
    "\"hello python\".upper()"
   ]
  },
  {
   "cell_type": "code",
   "execution_count": 3,
   "id": "869eb185-5eb7-4ddf-999e-ffa001624bdb",
   "metadata": {},
   "outputs": [
    {
     "data": {
      "text/plain": [
       "'hello python'"
      ]
     },
     "execution_count": 3,
     "metadata": {},
     "output_type": "execute_result"
    }
   ],
   "source": [
    "'HELLO PYTHON'.lower()\n"
   ]
  },
  {
   "cell_type": "code",
   "execution_count": 4,
   "id": "e312b562-7597-4d64-8be3-67c184c426e7",
   "metadata": {},
   "outputs": [
    {
     "data": {
      "text/plain": [
       "'hELLO pYTHON'"
      ]
     },
     "execution_count": 4,
     "metadata": {},
     "output_type": "execute_result"
    }
   ],
   "source": [
    "\"Hello Python\".swapcase()"
   ]
  },
  {
   "cell_type": "code",
   "execution_count": 6,
   "id": "7f07ac97-b224-4119-941d-4091be97ad26",
   "metadata": {},
   "outputs": [
    {
     "data": {
      "text/plain": [
       "False"
      ]
     },
     "execution_count": 6,
     "metadata": {},
     "output_type": "execute_result"
    }
   ],
   "source": [
    "'HELLO PYTHOn'.isupper()\n"
   ]
  },
  {
   "cell_type": "code",
   "execution_count": 7,
   "id": "bcda882b-f3ca-4c8c-84b7-4b9cac23b8f4",
   "metadata": {},
   "outputs": [
    {
     "data": {
      "text/plain": [
       "False"
      ]
     },
     "execution_count": 7,
     "metadata": {},
     "output_type": "execute_result"
    }
   ],
   "source": [
    "'HELLO PYTHON'.islower()\n"
   ]
  },
  {
   "cell_type": "code",
   "execution_count": 8,
   "id": "f02ee07d-b301-49f5-a212-d121aad0754c",
   "metadata": {},
   "outputs": [
    {
     "data": {
      "text/plain": [
       "True"
      ]
     },
     "execution_count": 8,
     "metadata": {},
     "output_type": "execute_result"
    }
   ],
   "source": [
    "\" \".isspace()"
   ]
  },
  {
   "cell_type": "code",
   "execution_count": 9,
   "id": "f9c5c40e-98df-4a8e-851f-ca1c9b04b531",
   "metadata": {},
   "outputs": [
    {
     "data": {
      "text/plain": [
       "True"
      ]
     },
     "execution_count": 9,
     "metadata": {},
     "output_type": "execute_result"
    }
   ],
   "source": [
    "\"Hello\".istitle()"
   ]
  },
  {
   "cell_type": "code",
   "execution_count": 12,
   "id": "dd60b330-11b5-45f5-b933-3802651b58f3",
   "metadata": {},
   "outputs": [
    {
     "ename": "AttributeError",
     "evalue": "'list' object has no attribute 'join'",
     "output_type": "error",
     "traceback": [
      "\u001b[31m---------------------------------------------------------------------------\u001b[39m",
      "\u001b[31mAttributeError\u001b[39m                            Traceback (most recent call last)",
      "\u001b[36mCell\u001b[39m\u001b[36m \u001b[39m\u001b[32mIn[12]\u001b[39m\u001b[32m, line 1\u001b[39m\n\u001b[32m----> \u001b[39m\u001b[32m1\u001b[39m \u001b[43mst\u001b[49m\u001b[43m.\u001b[49m\u001b[43mjoin\u001b[49m(\u001b[33m\"\u001b[39m\u001b[33m#\u001b[39m\u001b[33m\"\u001b[39m)\n",
      "\u001b[31mAttributeError\u001b[39m: 'list' object has no attribute 'join'"
     ]
    }
   ],
   "source": [
    "join"
   ]
  },
  {
   "cell_type": "code",
   "execution_count": null,
   "id": "1ba7204d-1e5e-44df-b778-9803ac2caff4",
   "metadata": {},
   "outputs": [],
   "source": []
  }
 ],
 "metadata": {
  "kernelspec": {
   "display_name": "Python 3 (ipykernel)",
   "language": "python",
   "name": "python3"
  },
  "language_info": {
   "codemirror_mode": {
    "name": "ipython",
    "version": 3
   },
   "file_extension": ".py",
   "mimetype": "text/x-python",
   "name": "python",
   "nbconvert_exporter": "python",
   "pygments_lexer": "ipython3",
   "version": "3.12.10"
  }
 },
 "nbformat": 4,
 "nbformat_minor": 5
}

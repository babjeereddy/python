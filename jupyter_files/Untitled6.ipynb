{
 "cells": [
  {
   "cell_type": "code",
   "execution_count": 14,
   "id": "743cee84-5514-4ac0-b721-d17a087d608f",
   "metadata": {},
   "outputs": [
    {
     "name": "stdout",
     "output_type": "stream",
     "text": [
      ",olleH!dlrowsihTsi.nohtyP\n"
     ]
    }
   ],
   "source": [
    "Input: \"Hello, world! This is Python.\"\n",
    "Output: \"olleH, dlrow! sihT si nohtyP.\"\n",
    "str=[]\n",
    "for word in \"Hello, world! This is Python.\".split():\n",
    "    str.append(word[::-1])\n",
    "print(\"\".join(str))\n",
    "\n"
   ]
  },
  {
   "cell_type": "code",
   "execution_count": 15,
   "id": "3f94bb04-5f10-4329-87f6-7e259d979771",
   "metadata": {},
   "outputs": [
    {
     "name": "stdout",
     "output_type": "stream",
     "text": [
      ",olleH !dlrow sihT si .nohtyP\n"
     ]
    }
   ],
   "source": [
    "def reverse_words(text):\n",
    "    return ' '.join(word[::-1] for word in text.split())\n",
    "\n",
    "print(reverse_words(\"Hello, world! This is Python.\"))"
   ]
  },
  {
   "cell_type": "code",
   "execution_count": 25,
   "id": "c516e23b-e3df-45e3-9616-c9c02d262e1e",
   "metadata": {},
   "outputs": [],
   "source": [
    "def reverse_word_preserve_punct(word):\n",
    "    letters = [c for c in word if c.isalpha()]  # extract only letters\n",
    "    result = []\n",
    "    print(letters)\n",
    "    \n",
    "    for c in word:\n",
    "        if c.isalpha():\n",
    "            result.append(letters.pop())  # insert reversed letters\n",
    "            \n",
    "        else:\n",
    "            result.append(c)  # keep punctuation in original position\n",
    "\n",
    "    return ''.join(result)\n"
   ]
  },
  {
   "cell_type": "code",
   "execution_count": 18,
   "id": "432b9103-c9fa-4d10-a33d-7b66ab8894fb",
   "metadata": {},
   "outputs": [],
   "source": [
    "def reverse_words(text):\n",
    "    words = text.split()\n",
    "    reversed_words = [reverse_word_preserve_punct(word) for word in words]\n",
    "    return ' '.join(reversed_words)"
   ]
  },
  {
   "cell_type": "code",
   "execution_count": 20,
   "id": "4c28116a-cf1e-4913-a2e5-ecae85698a0e",
   "metadata": {},
   "outputs": [
    {
     "data": {
      "text/plain": [
       "'olleH! dlroW!'"
      ]
     },
     "execution_count": 20,
     "metadata": {},
     "output_type": "execute_result"
    }
   ],
   "source": [
    "reverse_words(\"Hello! World!\")"
   ]
  },
  {
   "cell_type": "code",
   "execution_count": 29,
   "id": "877b0e6e-032b-4604-a4f0-2e3d747f8ee5",
   "metadata": {},
   "outputs": [
    {
     "name": "stdout",
     "output_type": "stream",
     "text": [
      "4\n"
     ]
    }
   ],
   "source": [
    "vowles=\"aeiou\"\n",
    "count=0\n",
    "name=\"babjee reddy\"\n",
    "for i in name:\n",
    "    if i.lower() in vowles:\n",
    "        count+=1\n",
    "print(count)"
   ]
  },
  {
   "cell_type": "code",
   "execution_count": null,
   "id": "2a274fbf-3836-4ccc-af14-9f202477675a",
   "metadata": {},
   "outputs": [],
   "source": [
    "name=\"Babjee Reddy\"\n",
    "print(sum(i, for i in name if i.l"
   ]
  }
 ],
 "metadata": {
  "kernelspec": {
   "display_name": "Python 3 (ipykernel)",
   "language": "python",
   "name": "python3"
  },
  "language_info": {
   "codemirror_mode": {
    "name": "ipython",
    "version": 3
   },
   "file_extension": ".py",
   "mimetype": "text/x-python",
   "name": "python",
   "nbconvert_exporter": "python",
   "pygments_lexer": "ipython3",
   "version": "3.12.10"
  }
 },
 "nbformat": 4,
 "nbformat_minor": 5
}

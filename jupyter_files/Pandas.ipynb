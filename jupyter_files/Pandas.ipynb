{
 "cells": [
  {
   "cell_type": "code",
   "execution_count": 1,
   "id": "9a7f26f1-58d5-4b8c-8628-17f172adfd1d",
   "metadata": {},
   "outputs": [],
   "source": [
    "import pandas  as pd\n",
    "import numpy as np"
   ]
  },
  {
   "cell_type": "code",
   "execution_count": 5,
   "id": "b47bce08-e427-4aa2-818f-48dc7a2fcbe1",
   "metadata": {},
   "outputs": [],
   "source": [
    "s1=pd.Series([10,20,30,40],['A','B','C','D'])"
   ]
  },
  {
   "cell_type": "code",
   "execution_count": 9,
   "id": "0a5db0b4-8bda-4f84-ae01-d4f1fa4a4f99",
   "metadata": {},
   "outputs": [
    {
     "name": "stdout",
     "output_type": "stream",
     "text": [
      "0     0\n",
      "1    10\n",
      "2    20\n",
      "3    30\n",
      "4    40\n",
      "5    50\n",
      "6    60\n",
      "7    70\n",
      "8    80\n",
      "dtype: int64\n"
     ]
    }
   ],
   "source": [
    "s1=pd.Series(np.arange(9) * 10)\n",
    "print(s1)"
   ]
  },
  {
   "cell_type": "code",
   "execution_count": 12,
   "id": "d0d40987-f016-4240-afd9-e8a2a8b99740",
   "metadata": {},
   "outputs": [
    {
     "name": "stdout",
     "output_type": "stream",
     "text": [
      "10\n",
      "10\n"
     ]
    },
    {
     "name": "stderr",
     "output_type": "stream",
     "text": [
      "C:\\Users\\babje\\AppData\\Local\\Temp\\ipykernel_8832\\2512426823.py:3: FutureWarning: Series.__getitem__ treating keys as positions is deprecated. In a future version, integer keys will always be treated as labels (consistent with DataFrame behavior). To access a value by position, use `ser.iloc[pos]`\n",
      "  print(s1[0])\n"
     ]
    }
   ],
   "source": [
    "s1=pd.Series([10,20,30,40],['A','B','C','D'])\n",
    "print(s1['A'])\n",
    "print(s1[0])"
   ]
  },
  {
   "cell_type": "code",
   "execution_count": 16,
   "id": "d97e55cd-5869-4154-ab73-c1a814f0d86a",
   "metadata": {},
   "outputs": [
    {
     "name": "stdout",
     "output_type": "stream",
     "text": [
      "A    10\n",
      "B    20\n",
      "C    30\n",
      "D    40\n",
      "dtype: int64\n"
     ]
    }
   ],
   "source": [
    "s1 =pd.Series({'A':10, 'B':20,'C':30,'D':40})\n",
    "print(s1)"
   ]
  },
  {
   "cell_type": "code",
   "execution_count": 11,
   "id": "5c4c7708-9a7d-4ffb-9146-eea406ee9864",
   "metadata": {},
   "outputs": [
    {
     "name": "stdout",
     "output_type": "stream",
     "text": [
      "10\n"
     ]
    }
   ],
   "source": [
    "print(s1['A'])"
   ]
  },
  {
   "cell_type": "code",
   "execution_count": 18,
   "id": "5e153801-c419-4bc1-9fce-f4305c241136",
   "metadata": {},
   "outputs": [
    {
     "name": "stdout",
     "output_type": "stream",
     "text": [
      "A    20\n",
      "B    30\n",
      "C    40\n",
      "D    50\n",
      "dtype: int64\n",
      "A     0\n",
      "B    10\n",
      "C    20\n",
      "D    30\n",
      "dtype: int64\n",
      "A    100\n",
      "B    200\n",
      "C    300\n",
      "D    400\n",
      "dtype: int64\n",
      "A     5.0\n",
      "B    10.0\n",
      "C    15.0\n",
      "D    20.0\n",
      "dtype: float64\n"
     ]
    }
   ],
   "source": [
    "print(s1+10)\n",
    "print(s1 -10)\n",
    "print(s1 * 10)\n",
    "print(s1/2)"
   ]
  },
  {
   "cell_type": "code",
   "execution_count": 22,
   "id": "2e490cc2-8fff-44a7-a99d-37d8c2a0c583",
   "metadata": {},
   "outputs": [
    {
     "name": "stdout",
     "output_type": "stream",
     "text": [
      "40\n",
      "10\n",
      "25.0\n",
      "100\n",
      "4\n"
     ]
    }
   ],
   "source": [
    "print(s1.max())\n",
    "print(s1.min())\n",
    "print(s1.mean())\n",
    "print(s1.sum())\n",
    "print(s1.count())"
   ]
  },
  {
   "cell_type": "code",
   "execution_count": 29,
   "id": "e7fff013-06cd-4b87-823f-e40852aba73b",
   "metadata": {},
   "outputs": [
    {
     "name": "stdout",
     "output_type": "stream",
     "text": [
      "Index(['A', 'B', 'C', 'D'], dtype='object')\n",
      "[10 20 30 40]\n",
      "A    10\n",
      "D    40\n",
      "dtype: int64\n"
     ]
    }
   ],
   "source": [
    "print(s1.index)\n",
    "print(s1.values)\n",
    "print(s1[['A','D']])\n",
    "\n"
   ]
  },
  {
   "cell_type": "code",
   "execution_count": 13,
   "id": "37f290f7-28c7-4e88-8991-fb6a4411c2e6",
   "metadata": {},
   "outputs": [
    {
     "name": "stdout",
     "output_type": "stream",
     "text": [
      "math       90\n",
      "science    85\n",
      "english    78\n",
      "dtype: int64\n"
     ]
    }
   ],
   "source": [
    "s = pd.Series({'math': 90, 'science': 85, 'english': 78})\n",
    "print(s)"
   ]
  },
  {
   "cell_type": "code",
   "execution_count": 15,
   "id": "114340c0-bce4-4ea0-8328-775d1023e8b1",
   "metadata": {},
   "outputs": [
    {
     "name": "stdout",
     "output_type": "stream",
     "text": [
      "A    4\n",
      "B    4\n",
      "C    4\n",
      "D    4\n",
      "dtype: int64\n"
     ]
    }
   ],
   "source": [
    "s=pd.Series(4,['A','B','C','D'])\n",
    "print(s)"
   ]
  },
  {
   "cell_type": "code",
   "execution_count": 31,
   "id": "9fd2026c-4a59-4416-b791-271cfb721b3d",
   "metadata": {},
   "outputs": [
    {
     "name": "stdout",
     "output_type": "stream",
     "text": [
      "0    1\n",
      "1    2\n",
      "dtype: int64\n"
     ]
    }
   ],
   "source": [
    "s1 = pd.Series(np.arange(1,11))\n",
    "print(s1.head(2))"
   ]
  },
  {
   "cell_type": "code",
   "execution_count": 34,
   "id": "3f6dbca8-72ce-4529-9f03-f31ff64f3699",
   "metadata": {},
   "outputs": [
    {
     "name": "stdout",
     "output_type": "stream",
     "text": [
      "8     9\n",
      "9    10\n",
      "dtype: int64\n"
     ]
    }
   ],
   "source": [
    "print(s1.tail(2))"
   ]
  },
  {
   "cell_type": "code",
   "execution_count": 20,
   "id": "863a6e77-037d-40b0-b902-0cf3d6fa3818",
   "metadata": {},
   "outputs": [
    {
     "data": {
      "text/plain": [
       "array([4, 4, 4, 4])"
      ]
     },
     "execution_count": 20,
     "metadata": {},
     "output_type": "execute_result"
    }
   ],
   "source": [
    "s.values"
   ]
  },
  {
   "cell_type": "code",
   "execution_count": 21,
   "id": "a5724adf-5c74-4dba-ab38-a89ef9d0ed1f",
   "metadata": {},
   "outputs": [
    {
     "data": {
      "text/plain": [
       "Index(['A', 'B', 'C', 'D'], dtype='object')"
      ]
     },
     "execution_count": 21,
     "metadata": {},
     "output_type": "execute_result"
    }
   ],
   "source": [
    "s.index"
   ]
  },
  {
   "cell_type": "code",
   "execution_count": 22,
   "id": "5e05bbbd-020b-4469-951e-bf714565b27c",
   "metadata": {},
   "outputs": [
    {
     "data": {
      "text/plain": [
       "(4,)"
      ]
     },
     "execution_count": 22,
     "metadata": {},
     "output_type": "execute_result"
    }
   ],
   "source": [
    "s.shape"
   ]
  },
  {
   "cell_type": "code",
   "execution_count": 26,
   "id": "2b1aa660-dd0a-403c-92e6-c5bb7bfa892a",
   "metadata": {},
   "outputs": [
    {
     "data": {
      "text/plain": [
       "np.int64(4)"
      ]
     },
     "execution_count": 26,
     "metadata": {},
     "output_type": "execute_result"
    }
   ],
   "source": [
    "s['A']"
   ]
  },
  {
   "cell_type": "code",
   "execution_count": 27,
   "id": "8f18dc2b-b39e-42f7-8d62-d8acf8fd42d9",
   "metadata": {},
   "outputs": [
    {
     "data": {
      "text/plain": [
       "A    4\n",
       "D    4\n",
       "dtype: int64"
      ]
     },
     "execution_count": 27,
     "metadata": {},
     "output_type": "execute_result"
    }
   ],
   "source": [
    "s[['A','D']]"
   ]
  },
  {
   "cell_type": "code",
   "execution_count": 29,
   "id": "df9a781c-49d3-48d4-9945-23de8affc2bb",
   "metadata": {},
   "outputs": [],
   "source": [
    "s=pd.Series([*range(10)])"
   ]
  },
  {
   "cell_type": "code",
   "execution_count": 32,
   "id": "e386ad60-0e43-4139-8ea6-6a9623d8d765",
   "metadata": {},
   "outputs": [
    {
     "name": "stdout",
     "output_type": "stream",
     "text": [
      "6    6\n",
      "7    7\n",
      "8    8\n",
      "9    9\n",
      "dtype: int64\n"
     ]
    }
   ],
   "source": [
    "print(s[s>5])"
   ]
  },
  {
   "cell_type": "code",
   "execution_count": 33,
   "id": "aab2958b-23d3-477f-809c-b850b629d546",
   "metadata": {},
   "outputs": [
    {
     "data": {
      "text/plain": [
       "0    0\n",
       "1    1\n",
       "2    2\n",
       "3    3\n",
       "4    4\n",
       "dtype: int64"
      ]
     },
     "execution_count": 33,
     "metadata": {},
     "output_type": "execute_result"
    }
   ],
   "source": [
    "s.head()"
   ]
  },
  {
   "cell_type": "code",
   "execution_count": 34,
   "id": "7abf4ae1-28d8-4c63-9a31-c051475f8961",
   "metadata": {},
   "outputs": [
    {
     "data": {
      "text/plain": [
       "0    0\n",
       "1    1\n",
       "dtype: int64"
      ]
     },
     "execution_count": 34,
     "metadata": {},
     "output_type": "execute_result"
    }
   ],
   "source": [
    "s.head(2)"
   ]
  },
  {
   "cell_type": "code",
   "execution_count": 36,
   "id": "102371ee-c872-4dfa-a9c5-85d7ea09fa6e",
   "metadata": {},
   "outputs": [
    {
     "data": {
      "text/plain": [
       "7    7\n",
       "8    8\n",
       "9    9\n",
       "dtype: int64"
      ]
     },
     "execution_count": 36,
     "metadata": {},
     "output_type": "execute_result"
    }
   ],
   "source": [
    "s.tail(3)"
   ]
  },
  {
   "cell_type": "code",
   "execution_count": 39,
   "id": "f32c5911-918e-4efb-bda5-dff48e8be57e",
   "metadata": {},
   "outputs": [
    {
     "name": "stdout",
     "output_type": "stream",
     "text": [
      "45\n"
     ]
    }
   ],
   "source": [
    "print(s.sum())"
   ]
  },
  {
   "cell_type": "code",
   "execution_count": 40,
   "id": "27c02b5c-9c5d-4e2e-a082-cf4351a871c0",
   "metadata": {},
   "outputs": [
    {
     "name": "stdout",
     "output_type": "stream",
     "text": [
      "9\n"
     ]
    }
   ],
   "source": [
    "print(s.max())"
   ]
  },
  {
   "cell_type": "code",
   "execution_count": 41,
   "id": "4243ea35-737e-4215-b145-d1f9179789a3",
   "metadata": {},
   "outputs": [
    {
     "name": "stdout",
     "output_type": "stream",
     "text": [
      "apple     2\n",
      "banana    1\n",
      "orange    1\n",
      "Name: count, dtype: int64\n"
     ]
    }
   ],
   "source": [
    "s = pd.Series(['apple', 'banana', 'apple', 'orange'])\n",
    "print(s.value_counts())"
   ]
  },
  {
   "cell_type": "code",
   "execution_count": 44,
   "id": "94c89eee-666c-4a88-9bd2-6e1ab607eb6d",
   "metadata": {},
   "outputs": [
    {
     "data": {
      "text/plain": [
       "array(['apple', 'banana', 'orange'], dtype=object)"
      ]
     },
     "execution_count": 44,
     "metadata": {},
     "output_type": "execute_result"
    }
   ],
   "source": [
    "s.unique()"
   ]
  },
  {
   "cell_type": "code",
   "execution_count": 39,
   "id": "3260b835-a2cd-4555-945d-87b7ce34924c",
   "metadata": {},
   "outputs": [
    {
     "name": "stdout",
     "output_type": "stream",
     "text": [
      "5     6\n",
      "6     7\n",
      "7     8\n",
      "8     9\n",
      "9    10\n",
      "dtype: int64\n"
     ]
    }
   ],
   "source": [
    "s1.sort_values(ascending=False)\n",
    "print(s1[s1>5])"
   ]
  },
  {
   "cell_type": "code",
   "execution_count": 55,
   "id": "17900d0e-3ee9-481d-9609-e6225e15564b",
   "metadata": {},
   "outputs": [
    {
     "name": "stdout",
     "output_type": "stream",
     "text": [
      "          A         B         C         D\n",
      "X  0.322767  0.180041  0.402187 -0.006162\n",
      "Y  0.238946 -0.802277 -0.800867 -1.049161\n",
      "Z  1.166728  1.066969 -1.394366 -1.611637\n"
     ]
    }
   ],
   "source": [
    "#dt=[[10,20,30,40],[50,60,70,80],[90,100,110,120]]\n",
    "dt =np.random.randn(3,4)\n",
    "col=['A','B','C','D']\n",
    "ind=['X','Y','Z']\n",
    "df =pd.DataFrame(data=dt,columns=col,index=ind)\n",
    "print(df)\n"
   ]
  },
  {
   "cell_type": "code",
   "execution_count": 52,
   "id": "67b49b2e-83b1-45ec-a9ca-4cd9bbd84600",
   "metadata": {},
   "outputs": [
    {
     "name": "stdout",
     "output_type": "stream",
     "text": [
      "          A         D\n",
      "X -0.228312  0.350793\n",
      "Y  1.686731  0.184251\n",
      "Z  0.315448 -0.600179\n"
     ]
    }
   ],
   "source": [
    "print(df[['A','D']])"
   ]
  },
  {
   "cell_type": "code",
   "execution_count": 60,
   "id": "a86eab1e-81d6-4d87-a2ad-272ba980da6a",
   "metadata": {},
   "outputs": [
    {
     "name": "stdout",
     "output_type": "stream",
     "text": [
      "          A         D\n",
      "X  0.322767 -0.006162\n",
      "Z  1.166728 -1.611637\n"
     ]
    }
   ],
   "source": [
    "print(df.loc[['X','Z']][['A','D']])"
   ]
  },
  {
   "cell_type": "code",
   "execution_count": 69,
   "id": "2f9d1522-eede-4792-88e8-ec068352e778",
   "metadata": {},
   "outputs": [],
   "source": [
    "df.drop(\"E\" ,axis=1, inplace=True)\n"
   ]
  },
  {
   "cell_type": "code",
   "execution_count": 73,
   "id": "a9044307-fed5-4b66-987c-bd6569cfc55e",
   "metadata": {},
   "outputs": [],
   "source": [
    "df.drop('Z',inplace=True)"
   ]
  },
  {
   "cell_type": "code",
   "execution_count": 74,
   "id": "98bfa99d-a4ff-424e-a923-fa85a29b6880",
   "metadata": {},
   "outputs": [
    {
     "data": {
      "text/html": [
       "<div>\n",
       "<style scoped>\n",
       "    .dataframe tbody tr th:only-of-type {\n",
       "        vertical-align: middle;\n",
       "    }\n",
       "\n",
       "    .dataframe tbody tr th {\n",
       "        vertical-align: top;\n",
       "    }\n",
       "\n",
       "    .dataframe thead th {\n",
       "        text-align: right;\n",
       "    }\n",
       "</style>\n",
       "<table border=\"1\" class=\"dataframe\">\n",
       "  <thead>\n",
       "    <tr style=\"text-align: right;\">\n",
       "      <th></th>\n",
       "      <th>A</th>\n",
       "      <th>B</th>\n",
       "      <th>C</th>\n",
       "      <th>D</th>\n",
       "    </tr>\n",
       "  </thead>\n",
       "  <tbody>\n",
       "    <tr>\n",
       "      <th>X</th>\n",
       "      <td>0.322767</td>\n",
       "      <td>0.180041</td>\n",
       "      <td>0.402187</td>\n",
       "      <td>-0.006162</td>\n",
       "    </tr>\n",
       "    <tr>\n",
       "      <th>Y</th>\n",
       "      <td>0.238946</td>\n",
       "      <td>-0.802277</td>\n",
       "      <td>-0.800867</td>\n",
       "      <td>-1.049161</td>\n",
       "    </tr>\n",
       "  </tbody>\n",
       "</table>\n",
       "</div>"
      ],
      "text/plain": [
       "          A         B         C         D\n",
       "X  0.322767  0.180041  0.402187 -0.006162\n",
       "Y  0.238946 -0.802277 -0.800867 -1.049161"
      ]
     },
     "execution_count": 74,
     "metadata": {},
     "output_type": "execute_result"
    }
   ],
   "source": [
    "df"
   ]
  },
  {
   "cell_type": "code",
   "execution_count": 59,
   "id": "8f131ad9-9808-47d9-8647-689217016615",
   "metadata": {},
   "outputs": [
    {
     "name": "stdout",
     "output_type": "stream",
     "text": [
      "A    10\n",
      "B    20\n",
      "C    30\n",
      "D    40\n",
      "Name: X, dtype: int64\n"
     ]
    }
   ],
   "source": [
    "print(df.loc['X'])"
   ]
  },
  {
   "cell_type": "code",
   "execution_count": 61,
   "id": "ebee96fd-a876-4092-9e04-dbda512bb5d7",
   "metadata": {},
   "outputs": [
    {
     "name": "stdout",
     "output_type": "stream",
     "text": [
      "    A   B   C   D\n",
      "X  10  20  30  40\n",
      "Y  50  60  70  80\n"
     ]
    }
   ],
   "source": [
    "print(df.loc[['X','Y']])"
   ]
  },
  {
   "cell_type": "code",
   "execution_count": 64,
   "id": "cc2a5785-1cf8-480a-ad82-e290e9edf62d",
   "metadata": {},
   "outputs": [
    {
     "name": "stdout",
     "output_type": "stream",
     "text": [
      "A    10\n",
      "B    20\n",
      "C    30\n",
      "D    40\n",
      "Name: X, dtype: int64\n"
     ]
    }
   ],
   "source": [
    "print(df.iloc[0])"
   ]
  },
  {
   "cell_type": "code",
   "execution_count": 65,
   "id": "0ec16283-41c9-4d85-95f8-6ecb425065dc",
   "metadata": {},
   "outputs": [
    {
     "name": "stdout",
     "output_type": "stream",
     "text": [
      "    A   B   C   D\n",
      "X  10  20  30  40\n",
      "Y  50  60  70  80\n"
     ]
    }
   ],
   "source": [
    "print(df.iloc[:2])"
   ]
  },
  {
   "cell_type": "code",
   "execution_count": 74,
   "id": "bb31be1f-1c5a-43b5-9251-b6daa0aa7d8c",
   "metadata": {},
   "outputs": [
    {
     "data": {
      "text/html": [
       "<div>\n",
       "<style scoped>\n",
       "    .dataframe tbody tr th:only-of-type {\n",
       "        vertical-align: middle;\n",
       "    }\n",
       "\n",
       "    .dataframe tbody tr th {\n",
       "        vertical-align: top;\n",
       "    }\n",
       "\n",
       "    .dataframe thead th {\n",
       "        text-align: right;\n",
       "    }\n",
       "</style>\n",
       "<table border=\"1\" class=\"dataframe\">\n",
       "  <thead>\n",
       "    <tr style=\"text-align: right;\">\n",
       "      <th></th>\n",
       "      <th>A</th>\n",
       "      <th>B</th>\n",
       "    </tr>\n",
       "  </thead>\n",
       "  <tbody>\n",
       "    <tr>\n",
       "      <th>X</th>\n",
       "      <td>10</td>\n",
       "      <td>20</td>\n",
       "    </tr>\n",
       "    <tr>\n",
       "      <th>Y</th>\n",
       "      <td>50</td>\n",
       "      <td>60</td>\n",
       "    </tr>\n",
       "  </tbody>\n",
       "</table>\n",
       "</div>"
      ],
      "text/plain": [
       "    A   B\n",
       "X  10  20\n",
       "Y  50  60"
      ]
     },
     "execution_count": 74,
     "metadata": {},
     "output_type": "execute_result"
    }
   ],
   "source": [
    "df[[\"A\",\"B\"]].loc[[\"X\",\"Y\"]]"
   ]
  },
  {
   "cell_type": "code",
   "execution_count": 75,
   "id": "31bfc17c-d00f-4881-9bc8-bcbf862fb2a4",
   "metadata": {},
   "outputs": [],
   "source": [
    "import pandas as pd\n",
    "import numpy as np\n",
    "ind =pd.date_range(\"20250701\",periods=6)\n",
    "data =np.random.randn(6,4)\n",
    "col=[\"A\",\"B\",\"C\",\"D\"]\n",
    "df =pd.DataFrame(data,ind,col)"
   ]
  },
  {
   "cell_type": "code",
   "execution_count": 77,
   "id": "c12ef2f4-b296-4c28-8331-981409d0215c",
   "metadata": {},
   "outputs": [
    {
     "name": "stdout",
     "output_type": "stream",
     "text": [
      "                   A         B         C         D\n",
      "2025-07-01 -0.352951  0.192388 -0.383519 -0.322150\n",
      "2025-07-02 -0.056984 -0.403447 -0.604422 -0.170121\n",
      "2025-07-03  0.757066 -1.017658  1.091741  1.772654\n",
      "2025-07-04 -0.062492  0.578608 -0.438377 -2.696051\n",
      "2025-07-05  2.060528 -0.691392 -0.037719  0.008876\n",
      "2025-07-06 -2.108710  0.294479  0.097337  1.132758\n",
      "DatetimeIndex(['2025-07-01', '2025-07-02', '2025-07-03', '2025-07-04',\n",
      "               '2025-07-05', '2025-07-06'],\n",
      "              dtype='datetime64[ns]', freq='D')\n",
      "Index(['A', 'B', 'C', 'D'], dtype='object')\n",
      "[[-0.352951    0.19238783 -0.38351882 -0.32215007]\n",
      " [-0.05698416 -0.40344694 -0.60442236 -0.1701206 ]\n",
      " [ 0.75706621 -1.01765808  1.09174059  1.77265358]\n",
      " [-0.06249161  0.57860841 -0.4383767  -2.6960509 ]\n",
      " [ 2.06052838 -0.69139184 -0.03771946  0.00887648]\n",
      " [-2.1087104   0.29447931  0.097337    1.13275803]]\n"
     ]
    }
   ],
   "source": [
    "print(df)\n",
    "print(df.index)\n",
    "print(df.columns)\n",
    "print(df.values)\n"
   ]
  },
  {
   "cell_type": "code",
   "execution_count": 4,
   "id": "634ea0d1-9317-4fa3-8932-fc16c0eb2f86",
   "metadata": {},
   "outputs": [
    {
     "data": {
      "text/plain": [
       "Index(['A', 'B', 'C', 'D'], dtype='object')"
      ]
     },
     "execution_count": 4,
     "metadata": {},
     "output_type": "execute_result"
    }
   ],
   "source": [
    "df.columns"
   ]
  },
  {
   "cell_type": "code",
   "execution_count": 6,
   "id": "9bb19ce0-3ced-4812-b296-3ee8d7b09bdf",
   "metadata": {},
   "outputs": [
    {
     "data": {
      "text/plain": [
       "DatetimeIndex(['2025-07-01', '2025-07-02', '2025-07-03', '2025-07-04',\n",
       "               '2025-07-05', '2025-07-06'],\n",
       "              dtype='datetime64[ns]', freq='D')"
      ]
     },
     "execution_count": 6,
     "metadata": {},
     "output_type": "execute_result"
    }
   ],
   "source": [
    "df.index"
   ]
  },
  {
   "cell_type": "code",
   "execution_count": 81,
   "id": "67c9045b-74e7-4076-be34-e0dfa52e411e",
   "metadata": {},
   "outputs": [
    {
     "data": {
      "text/html": [
       "<div>\n",
       "<style scoped>\n",
       "    .dataframe tbody tr th:only-of-type {\n",
       "        vertical-align: middle;\n",
       "    }\n",
       "\n",
       "    .dataframe tbody tr th {\n",
       "        vertical-align: top;\n",
       "    }\n",
       "\n",
       "    .dataframe thead th {\n",
       "        text-align: right;\n",
       "    }\n",
       "</style>\n",
       "<table border=\"1\" class=\"dataframe\">\n",
       "  <thead>\n",
       "    <tr style=\"text-align: right;\">\n",
       "      <th></th>\n",
       "      <th>count</th>\n",
       "      <th>mean</th>\n",
       "      <th>std</th>\n",
       "      <th>min</th>\n",
       "      <th>25%</th>\n",
       "      <th>50%</th>\n",
       "      <th>75%</th>\n",
       "      <th>max</th>\n",
       "    </tr>\n",
       "  </thead>\n",
       "  <tbody>\n",
       "    <tr>\n",
       "      <th>A</th>\n",
       "      <td>6.0</td>\n",
       "      <td>0.039410</td>\n",
       "      <td>1.370255</td>\n",
       "      <td>-2.108710</td>\n",
       "      <td>-0.280336</td>\n",
       "      <td>-0.059738</td>\n",
       "      <td>0.553554</td>\n",
       "      <td>2.060528</td>\n",
       "    </tr>\n",
       "    <tr>\n",
       "      <th>B</th>\n",
       "      <td>6.0</td>\n",
       "      <td>-0.174504</td>\n",
       "      <td>0.624857</td>\n",
       "      <td>-1.017658</td>\n",
       "      <td>-0.619406</td>\n",
       "      <td>-0.105530</td>\n",
       "      <td>0.268956</td>\n",
       "      <td>0.578608</td>\n",
       "    </tr>\n",
       "    <tr>\n",
       "      <th>C</th>\n",
       "      <td>6.0</td>\n",
       "      <td>-0.045827</td>\n",
       "      <td>0.615594</td>\n",
       "      <td>-0.604422</td>\n",
       "      <td>-0.424662</td>\n",
       "      <td>-0.210619</td>\n",
       "      <td>0.063573</td>\n",
       "      <td>1.091741</td>\n",
       "    </tr>\n",
       "    <tr>\n",
       "      <th>D</th>\n",
       "      <td>6.0</td>\n",
       "      <td>-0.045672</td>\n",
       "      <td>1.537167</td>\n",
       "      <td>-2.696051</td>\n",
       "      <td>-0.284143</td>\n",
       "      <td>-0.080622</td>\n",
       "      <td>0.851788</td>\n",
       "      <td>1.772654</td>\n",
       "    </tr>\n",
       "  </tbody>\n",
       "</table>\n",
       "</div>"
      ],
      "text/plain": [
       "   count      mean       std       min       25%       50%       75%       max\n",
       "A    6.0  0.039410  1.370255 -2.108710 -0.280336 -0.059738  0.553554  2.060528\n",
       "B    6.0 -0.174504  0.624857 -1.017658 -0.619406 -0.105530  0.268956  0.578608\n",
       "C    6.0 -0.045827  0.615594 -0.604422 -0.424662 -0.210619  0.063573  1.091741\n",
       "D    6.0 -0.045672  1.537167 -2.696051 -0.284143 -0.080622  0.851788  1.772654"
      ]
     },
     "execution_count": 81,
     "metadata": {},
     "output_type": "execute_result"
    }
   ],
   "source": [
    "df.describe().T"
   ]
  },
  {
   "cell_type": "code",
   "execution_count": 84,
   "id": "2ec9cd80-0cda-4cbf-89cd-941edbbb555e",
   "metadata": {},
   "outputs": [
    {
     "data": {
      "text/html": [
       "<div>\n",
       "<style scoped>\n",
       "    .dataframe tbody tr th:only-of-type {\n",
       "        vertical-align: middle;\n",
       "    }\n",
       "\n",
       "    .dataframe tbody tr th {\n",
       "        vertical-align: top;\n",
       "    }\n",
       "\n",
       "    .dataframe thead th {\n",
       "        text-align: right;\n",
       "    }\n",
       "</style>\n",
       "<table border=\"1\" class=\"dataframe\">\n",
       "  <thead>\n",
       "    <tr style=\"text-align: right;\">\n",
       "      <th></th>\n",
       "      <th>A</th>\n",
       "      <th>B</th>\n",
       "      <th>C</th>\n",
       "      <th>D</th>\n",
       "    </tr>\n",
       "  </thead>\n",
       "  <tbody>\n",
       "    <tr>\n",
       "      <th>2025-07-04</th>\n",
       "      <td>-0.062492</td>\n",
       "      <td>0.578608</td>\n",
       "      <td>-0.438377</td>\n",
       "      <td>-2.696051</td>\n",
       "    </tr>\n",
       "    <tr>\n",
       "      <th>2025-07-05</th>\n",
       "      <td>2.060528</td>\n",
       "      <td>-0.691392</td>\n",
       "      <td>-0.037719</td>\n",
       "      <td>0.008876</td>\n",
       "    </tr>\n",
       "    <tr>\n",
       "      <th>2025-07-06</th>\n",
       "      <td>-2.108710</td>\n",
       "      <td>0.294479</td>\n",
       "      <td>0.097337</td>\n",
       "      <td>1.132758</td>\n",
       "    </tr>\n",
       "  </tbody>\n",
       "</table>\n",
       "</div>"
      ],
      "text/plain": [
       "                   A         B         C         D\n",
       "2025-07-04 -0.062492  0.578608 -0.438377 -2.696051\n",
       "2025-07-05  2.060528 -0.691392 -0.037719  0.008876\n",
       "2025-07-06 -2.108710  0.294479  0.097337  1.132758"
      ]
     },
     "execution_count": 84,
     "metadata": {},
     "output_type": "execute_result"
    }
   ],
   "source": [
    "df.tail(3)"
   ]
  },
  {
   "cell_type": "code",
   "execution_count": 10,
   "id": "e7783361-6b82-4b79-86a3-04ba1293dd51",
   "metadata": {},
   "outputs": [
    {
     "data": {
      "text/plain": [
       "A    float64\n",
       "B    float64\n",
       "C    float64\n",
       "D    float64\n",
       "dtype: object"
      ]
     },
     "execution_count": 10,
     "metadata": {},
     "output_type": "execute_result"
    }
   ],
   "source": [
    "df.dtypes"
   ]
  },
  {
   "cell_type": "code",
   "execution_count": 85,
   "id": "5541dd5e-5408-4b5f-a3ed-0c2feba22645",
   "metadata": {},
   "outputs": [
    {
     "name": "stdout",
     "output_type": "stream",
     "text": [
      "<class 'pandas.core.frame.DataFrame'>\n",
      "DatetimeIndex: 6 entries, 2025-07-01 to 2025-07-06\n",
      "Freq: D\n",
      "Data columns (total 4 columns):\n",
      " #   Column  Non-Null Count  Dtype  \n",
      "---  ------  --------------  -----  \n",
      " 0   A       6 non-null      float64\n",
      " 1   B       6 non-null      float64\n",
      " 2   C       6 non-null      float64\n",
      " 3   D       6 non-null      float64\n",
      "dtypes: float64(4)\n",
      "memory usage: 240.0 bytes\n"
     ]
    }
   ],
   "source": [
    "df.info()"
   ]
  },
  {
   "cell_type": "code",
   "execution_count": 12,
   "id": "ef68b000-575b-4a07-b2a5-3a2bc65b2abf",
   "metadata": {},
   "outputs": [
    {
     "data": {
      "text/html": [
       "<div>\n",
       "<style scoped>\n",
       "    .dataframe tbody tr th:only-of-type {\n",
       "        vertical-align: middle;\n",
       "    }\n",
       "\n",
       "    .dataframe tbody tr th {\n",
       "        vertical-align: top;\n",
       "    }\n",
       "\n",
       "    .dataframe thead th {\n",
       "        text-align: right;\n",
       "    }\n",
       "</style>\n",
       "<table border=\"1\" class=\"dataframe\">\n",
       "  <thead>\n",
       "    <tr style=\"text-align: right;\">\n",
       "      <th></th>\n",
       "      <th>A</th>\n",
       "      <th>B</th>\n",
       "      <th>C</th>\n",
       "      <th>D</th>\n",
       "    </tr>\n",
       "  </thead>\n",
       "  <tbody>\n",
       "    <tr>\n",
       "      <th>2025-07-01</th>\n",
       "      <td>-0.522793</td>\n",
       "      <td>-0.091608</td>\n",
       "      <td>1.733311</td>\n",
       "      <td>1.542832</td>\n",
       "    </tr>\n",
       "    <tr>\n",
       "      <th>2025-07-02</th>\n",
       "      <td>-0.830533</td>\n",
       "      <td>-0.310063</td>\n",
       "      <td>-0.129420</td>\n",
       "      <td>2.620810</td>\n",
       "    </tr>\n",
       "    <tr>\n",
       "      <th>2025-07-03</th>\n",
       "      <td>0.534885</td>\n",
       "      <td>-0.173009</td>\n",
       "      <td>-1.354482</td>\n",
       "      <td>-0.428689</td>\n",
       "    </tr>\n",
       "    <tr>\n",
       "      <th>2025-07-04</th>\n",
       "      <td>0.812648</td>\n",
       "      <td>0.595605</td>\n",
       "      <td>-0.018605</td>\n",
       "      <td>1.610215</td>\n",
       "    </tr>\n",
       "    <tr>\n",
       "      <th>2025-07-05</th>\n",
       "      <td>-1.639238</td>\n",
       "      <td>-1.228613</td>\n",
       "      <td>-1.431072</td>\n",
       "      <td>-0.281108</td>\n",
       "    </tr>\n",
       "  </tbody>\n",
       "</table>\n",
       "</div>"
      ],
      "text/plain": [
       "                   A         B         C         D\n",
       "2025-07-01 -0.522793 -0.091608  1.733311  1.542832\n",
       "2025-07-02 -0.830533 -0.310063 -0.129420  2.620810\n",
       "2025-07-03  0.534885 -0.173009 -1.354482 -0.428689\n",
       "2025-07-04  0.812648  0.595605 -0.018605  1.610215\n",
       "2025-07-05 -1.639238 -1.228613 -1.431072 -0.281108"
      ]
     },
     "execution_count": 12,
     "metadata": {},
     "output_type": "execute_result"
    }
   ],
   "source": [
    "df.head()"
   ]
  },
  {
   "cell_type": "code",
   "execution_count": 13,
   "id": "37dd7e61-1ddf-4354-86e8-8baeec9c50c3",
   "metadata": {},
   "outputs": [
    {
     "data": {
      "text/html": [
       "<div>\n",
       "<style scoped>\n",
       "    .dataframe tbody tr th:only-of-type {\n",
       "        vertical-align: middle;\n",
       "    }\n",
       "\n",
       "    .dataframe tbody tr th {\n",
       "        vertical-align: top;\n",
       "    }\n",
       "\n",
       "    .dataframe thead th {\n",
       "        text-align: right;\n",
       "    }\n",
       "</style>\n",
       "<table border=\"1\" class=\"dataframe\">\n",
       "  <thead>\n",
       "    <tr style=\"text-align: right;\">\n",
       "      <th></th>\n",
       "      <th>A</th>\n",
       "      <th>B</th>\n",
       "      <th>C</th>\n",
       "      <th>D</th>\n",
       "    </tr>\n",
       "  </thead>\n",
       "  <tbody>\n",
       "    <tr>\n",
       "      <th>2025-07-01</th>\n",
       "      <td>-0.522793</td>\n",
       "      <td>-0.091608</td>\n",
       "      <td>1.733311</td>\n",
       "      <td>1.542832</td>\n",
       "    </tr>\n",
       "    <tr>\n",
       "      <th>2025-07-02</th>\n",
       "      <td>-0.830533</td>\n",
       "      <td>-0.310063</td>\n",
       "      <td>-0.129420</td>\n",
       "      <td>2.620810</td>\n",
       "    </tr>\n",
       "  </tbody>\n",
       "</table>\n",
       "</div>"
      ],
      "text/plain": [
       "                   A         B         C         D\n",
       "2025-07-01 -0.522793 -0.091608  1.733311  1.542832\n",
       "2025-07-02 -0.830533 -0.310063 -0.129420  2.620810"
      ]
     },
     "execution_count": 13,
     "metadata": {},
     "output_type": "execute_result"
    }
   ],
   "source": [
    "df.head(2)"
   ]
  },
  {
   "cell_type": "code",
   "execution_count": 14,
   "id": "5ad757b8-cbb6-4481-ba4f-1bc643d14ec1",
   "metadata": {},
   "outputs": [
    {
     "data": {
      "text/html": [
       "<div>\n",
       "<style scoped>\n",
       "    .dataframe tbody tr th:only-of-type {\n",
       "        vertical-align: middle;\n",
       "    }\n",
       "\n",
       "    .dataframe tbody tr th {\n",
       "        vertical-align: top;\n",
       "    }\n",
       "\n",
       "    .dataframe thead th {\n",
       "        text-align: right;\n",
       "    }\n",
       "</style>\n",
       "<table border=\"1\" class=\"dataframe\">\n",
       "  <thead>\n",
       "    <tr style=\"text-align: right;\">\n",
       "      <th></th>\n",
       "      <th>A</th>\n",
       "      <th>B</th>\n",
       "      <th>C</th>\n",
       "      <th>D</th>\n",
       "    </tr>\n",
       "  </thead>\n",
       "  <tbody>\n",
       "    <tr>\n",
       "      <th>2025-07-02</th>\n",
       "      <td>-0.830533</td>\n",
       "      <td>-0.310063</td>\n",
       "      <td>-0.129420</td>\n",
       "      <td>2.620810</td>\n",
       "    </tr>\n",
       "    <tr>\n",
       "      <th>2025-07-03</th>\n",
       "      <td>0.534885</td>\n",
       "      <td>-0.173009</td>\n",
       "      <td>-1.354482</td>\n",
       "      <td>-0.428689</td>\n",
       "    </tr>\n",
       "    <tr>\n",
       "      <th>2025-07-04</th>\n",
       "      <td>0.812648</td>\n",
       "      <td>0.595605</td>\n",
       "      <td>-0.018605</td>\n",
       "      <td>1.610215</td>\n",
       "    </tr>\n",
       "    <tr>\n",
       "      <th>2025-07-05</th>\n",
       "      <td>-1.639238</td>\n",
       "      <td>-1.228613</td>\n",
       "      <td>-1.431072</td>\n",
       "      <td>-0.281108</td>\n",
       "    </tr>\n",
       "    <tr>\n",
       "      <th>2025-07-06</th>\n",
       "      <td>-0.305031</td>\n",
       "      <td>-0.669217</td>\n",
       "      <td>-1.166655</td>\n",
       "      <td>0.528752</td>\n",
       "    </tr>\n",
       "  </tbody>\n",
       "</table>\n",
       "</div>"
      ],
      "text/plain": [
       "                   A         B         C         D\n",
       "2025-07-02 -0.830533 -0.310063 -0.129420  2.620810\n",
       "2025-07-03  0.534885 -0.173009 -1.354482 -0.428689\n",
       "2025-07-04  0.812648  0.595605 -0.018605  1.610215\n",
       "2025-07-05 -1.639238 -1.228613 -1.431072 -0.281108\n",
       "2025-07-06 -0.305031 -0.669217 -1.166655  0.528752"
      ]
     },
     "execution_count": 14,
     "metadata": {},
     "output_type": "execute_result"
    }
   ],
   "source": [
    "df.tail()"
   ]
  },
  {
   "cell_type": "code",
   "execution_count": 15,
   "id": "62324a03-0b87-4f5f-8108-f24cd89f333e",
   "metadata": {},
   "outputs": [
    {
     "data": {
      "text/html": [
       "<div>\n",
       "<style scoped>\n",
       "    .dataframe tbody tr th:only-of-type {\n",
       "        vertical-align: middle;\n",
       "    }\n",
       "\n",
       "    .dataframe tbody tr th {\n",
       "        vertical-align: top;\n",
       "    }\n",
       "\n",
       "    .dataframe thead th {\n",
       "        text-align: right;\n",
       "    }\n",
       "</style>\n",
       "<table border=\"1\" class=\"dataframe\">\n",
       "  <thead>\n",
       "    <tr style=\"text-align: right;\">\n",
       "      <th></th>\n",
       "      <th>A</th>\n",
       "      <th>B</th>\n",
       "      <th>C</th>\n",
       "      <th>D</th>\n",
       "    </tr>\n",
       "  </thead>\n",
       "  <tbody>\n",
       "    <tr>\n",
       "      <th>2025-07-04</th>\n",
       "      <td>0.812648</td>\n",
       "      <td>0.595605</td>\n",
       "      <td>-0.018605</td>\n",
       "      <td>1.610215</td>\n",
       "    </tr>\n",
       "    <tr>\n",
       "      <th>2025-07-05</th>\n",
       "      <td>-1.639238</td>\n",
       "      <td>-1.228613</td>\n",
       "      <td>-1.431072</td>\n",
       "      <td>-0.281108</td>\n",
       "    </tr>\n",
       "    <tr>\n",
       "      <th>2025-07-06</th>\n",
       "      <td>-0.305031</td>\n",
       "      <td>-0.669217</td>\n",
       "      <td>-1.166655</td>\n",
       "      <td>0.528752</td>\n",
       "    </tr>\n",
       "  </tbody>\n",
       "</table>\n",
       "</div>"
      ],
      "text/plain": [
       "                   A         B         C         D\n",
       "2025-07-04  0.812648  0.595605 -0.018605  1.610215\n",
       "2025-07-05 -1.639238 -1.228613 -1.431072 -0.281108\n",
       "2025-07-06 -0.305031 -0.669217 -1.166655  0.528752"
      ]
     },
     "execution_count": 15,
     "metadata": {},
     "output_type": "execute_result"
    }
   ],
   "source": [
    "df.tail(3)"
   ]
  },
  {
   "cell_type": "code",
   "execution_count": 86,
   "id": "541d1b90-4fa6-4e9f-b775-c3ee60d906ef",
   "metadata": {},
   "outputs": [
    {
     "data": {
      "text/plain": [
       "2025-07-01   -0.352951\n",
       "2025-07-02   -0.056984\n",
       "2025-07-03    0.757066\n",
       "2025-07-04   -0.062492\n",
       "2025-07-05    2.060528\n",
       "2025-07-06   -2.108710\n",
       "Freq: D, Name: A, dtype: float64"
      ]
     },
     "execution_count": 86,
     "metadata": {},
     "output_type": "execute_result"
    }
   ],
   "source": [
    "df.A #when you subseting one columns you can use dot"
   ]
  },
  {
   "cell_type": "code",
   "execution_count": 19,
   "id": "7dca63d2-66ba-414d-b7a5-e4e8b7fadcb4",
   "metadata": {},
   "outputs": [
    {
     "data": {
      "text/plain": [
       "2025-07-01   -0.522793\n",
       "2025-07-02   -0.830533\n",
       "Freq: D, Name: A, dtype: float64"
      ]
     },
     "execution_count": 19,
     "metadata": {},
     "output_type": "execute_result"
    }
   ],
   "source": [
    "df.A.head(2)"
   ]
  },
  {
   "cell_type": "code",
   "execution_count": 88,
   "id": "02b98b7f-2062-4128-b6db-baa8f4aac9f4",
   "metadata": {},
   "outputs": [
    {
     "data": {
      "text/html": [
       "<div>\n",
       "<style scoped>\n",
       "    .dataframe tbody tr th:only-of-type {\n",
       "        vertical-align: middle;\n",
       "    }\n",
       "\n",
       "    .dataframe tbody tr th {\n",
       "        vertical-align: top;\n",
       "    }\n",
       "\n",
       "    .dataframe thead th {\n",
       "        text-align: right;\n",
       "    }\n",
       "</style>\n",
       "<table border=\"1\" class=\"dataframe\">\n",
       "  <thead>\n",
       "    <tr style=\"text-align: right;\">\n",
       "      <th></th>\n",
       "      <th>A</th>\n",
       "      <th>B</th>\n",
       "    </tr>\n",
       "  </thead>\n",
       "  <tbody>\n",
       "    <tr>\n",
       "      <th>2025-07-01</th>\n",
       "      <td>-0.352951</td>\n",
       "      <td>0.192388</td>\n",
       "    </tr>\n",
       "    <tr>\n",
       "      <th>2025-07-02</th>\n",
       "      <td>-0.056984</td>\n",
       "      <td>-0.403447</td>\n",
       "    </tr>\n",
       "    <tr>\n",
       "      <th>2025-07-03</th>\n",
       "      <td>0.757066</td>\n",
       "      <td>-1.017658</td>\n",
       "    </tr>\n",
       "  </tbody>\n",
       "</table>\n",
       "</div>"
      ],
      "text/plain": [
       "                   A         B\n",
       "2025-07-01 -0.352951  0.192388\n",
       "2025-07-02 -0.056984 -0.403447\n",
       "2025-07-03  0.757066 -1.017658"
      ]
     },
     "execution_count": 88,
     "metadata": {},
     "output_type": "execute_result"
    }
   ],
   "source": [
    "df[[\"A\",\"B\"]].head(3)"
   ]
  },
  {
   "cell_type": "code",
   "execution_count": 34,
   "id": "d466df82-e1ed-4757-9675-b59e30116cee",
   "metadata": {},
   "outputs": [
    {
     "name": "stdout",
     "output_type": "stream",
     "text": [
      "                   A         C\n",
      "2025-07-01 -0.522793  1.733311\n",
      "2025-07-02 -0.830533 -0.129420\n",
      "2025-07-03  0.534885 -1.354482\n",
      "2025-07-04  0.812648 -0.018605\n",
      "2025-07-05 -1.639238 -1.431072\n",
      "2025-07-06 -0.305031 -1.166655\n"
     ]
    }
   ],
   "source": [
    "column_indices = [0, 2]\n",
    "column_names = df.columns[column_indices]\n",
    "subset = df[column_names]\n",
    "print(subset)"
   ]
  },
  {
   "cell_type": "code",
   "execution_count": 89,
   "id": "1dd0aaec-81bd-4f45-b843-207f5c0f4229",
   "metadata": {},
   "outputs": [
    {
     "name": "stdout",
     "output_type": "stream",
     "text": [
      "                   A         B         C         D   E\n",
      "2025-07-01 -0.352951  0.192388 -0.383519 -0.322150  10\n",
      "2025-07-02 -0.056984 -0.403447 -0.604422 -0.170121  20\n",
      "2025-07-03  0.757066 -1.017658  1.091741  1.772654  30\n",
      "2025-07-04 -0.062492  0.578608 -0.438377 -2.696051  40\n",
      "2025-07-05  2.060528 -0.691392 -0.037719  0.008876  50\n",
      "2025-07-06 -2.108710  0.294479  0.097337  1.132758  60\n"
     ]
    }
   ],
   "source": [
    "df[\"E\"]=[10,20,30,40,50,60]\n",
    "print(df)"
   ]
  },
  {
   "cell_type": "code",
   "execution_count": 91,
   "id": "962fd9b3-04eb-4b8a-95cd-57bec92c2b67",
   "metadata": {},
   "outputs": [],
   "source": [
    "df.drop(\"E\",axis=1,inplace=True)"
   ]
  },
  {
   "cell_type": "code",
   "execution_count": 38,
   "id": "f0acd404-250e-4c6a-9a40-650ec1db0409",
   "metadata": {},
   "outputs": [],
   "source": [
    "df.drop('E',axis=1,inplace=True)"
   ]
  },
  {
   "cell_type": "code",
   "execution_count": 39,
   "id": "6add831a-82c4-44bd-8fe6-75b441a5c2e5",
   "metadata": {},
   "outputs": [
    {
     "data": {
      "text/html": [
       "<div>\n",
       "<style scoped>\n",
       "    .dataframe tbody tr th:only-of-type {\n",
       "        vertical-align: middle;\n",
       "    }\n",
       "\n",
       "    .dataframe tbody tr th {\n",
       "        vertical-align: top;\n",
       "    }\n",
       "\n",
       "    .dataframe thead th {\n",
       "        text-align: right;\n",
       "    }\n",
       "</style>\n",
       "<table border=\"1\" class=\"dataframe\">\n",
       "  <thead>\n",
       "    <tr style=\"text-align: right;\">\n",
       "      <th></th>\n",
       "      <th>A</th>\n",
       "      <th>B</th>\n",
       "      <th>C</th>\n",
       "      <th>D</th>\n",
       "    </tr>\n",
       "  </thead>\n",
       "  <tbody>\n",
       "    <tr>\n",
       "      <th>2025-07-01</th>\n",
       "      <td>-0.522793</td>\n",
       "      <td>-0.091608</td>\n",
       "      <td>1.733311</td>\n",
       "      <td>1.542832</td>\n",
       "    </tr>\n",
       "    <tr>\n",
       "      <th>2025-07-02</th>\n",
       "      <td>-0.830533</td>\n",
       "      <td>-0.310063</td>\n",
       "      <td>-0.129420</td>\n",
       "      <td>2.620810</td>\n",
       "    </tr>\n",
       "    <tr>\n",
       "      <th>2025-07-03</th>\n",
       "      <td>0.534885</td>\n",
       "      <td>-0.173009</td>\n",
       "      <td>-1.354482</td>\n",
       "      <td>-0.428689</td>\n",
       "    </tr>\n",
       "    <tr>\n",
       "      <th>2025-07-04</th>\n",
       "      <td>0.812648</td>\n",
       "      <td>0.595605</td>\n",
       "      <td>-0.018605</td>\n",
       "      <td>1.610215</td>\n",
       "    </tr>\n",
       "    <tr>\n",
       "      <th>2025-07-05</th>\n",
       "      <td>-1.639238</td>\n",
       "      <td>-1.228613</td>\n",
       "      <td>-1.431072</td>\n",
       "      <td>-0.281108</td>\n",
       "    </tr>\n",
       "    <tr>\n",
       "      <th>2025-07-06</th>\n",
       "      <td>-0.305031</td>\n",
       "      <td>-0.669217</td>\n",
       "      <td>-1.166655</td>\n",
       "      <td>0.528752</td>\n",
       "    </tr>\n",
       "  </tbody>\n",
       "</table>\n",
       "</div>"
      ],
      "text/plain": [
       "                   A         B         C         D\n",
       "2025-07-01 -0.522793 -0.091608  1.733311  1.542832\n",
       "2025-07-02 -0.830533 -0.310063 -0.129420  2.620810\n",
       "2025-07-03  0.534885 -0.173009 -1.354482 -0.428689\n",
       "2025-07-04  0.812648  0.595605 -0.018605  1.610215\n",
       "2025-07-05 -1.639238 -1.228613 -1.431072 -0.281108\n",
       "2025-07-06 -0.305031 -0.669217 -1.166655  0.528752"
      ]
     },
     "execution_count": 39,
     "metadata": {},
     "output_type": "execute_result"
    }
   ],
   "source": [
    "df"
   ]
  },
  {
   "cell_type": "code",
   "execution_count": 2,
   "id": "0a87a498-03eb-4e4b-a13d-2c2adb59f336",
   "metadata": {},
   "outputs": [],
   "source": [
    "import pandas as pd\n",
    "import numpy as np\n",
    "df = pd.DataFrame({\n",
    "    'name': ['Alice', 'Bob', 'Charlie', 'David'],\n",
    "    'age': [25, 30, 35, 40],\n",
    "    'city': ['NY', 'LA', 'NY', 'Chicago'],\n",
    "    'score': [85, 90, 75, np.nan]\n",
    "})\n",
    "\n"
   ]
  },
  {
   "cell_type": "code",
   "execution_count": 10,
   "id": "ba864320-60b1-4a4d-a3dc-55edbb18da17",
   "metadata": {},
   "outputs": [
    {
     "data": {
      "text/html": [
       "<div>\n",
       "<style scoped>\n",
       "    .dataframe tbody tr th:only-of-type {\n",
       "        vertical-align: middle;\n",
       "    }\n",
       "\n",
       "    .dataframe tbody tr th {\n",
       "        vertical-align: top;\n",
       "    }\n",
       "\n",
       "    .dataframe thead th {\n",
       "        text-align: right;\n",
       "    }\n",
       "</style>\n",
       "<table border=\"1\" class=\"dataframe\">\n",
       "  <thead>\n",
       "    <tr style=\"text-align: right;\">\n",
       "      <th></th>\n",
       "      <th>score</th>\n",
       "      <th>name</th>\n",
       "      <th>city</th>\n",
       "      <th>age</th>\n",
       "    </tr>\n",
       "  </thead>\n",
       "  <tbody>\n",
       "    <tr>\n",
       "      <th>0</th>\n",
       "      <td>85.0</td>\n",
       "      <td>Alice</td>\n",
       "      <td>NY</td>\n",
       "      <td>25</td>\n",
       "    </tr>\n",
       "    <tr>\n",
       "      <th>1</th>\n",
       "      <td>90.0</td>\n",
       "      <td>Bob</td>\n",
       "      <td>LA</td>\n",
       "      <td>30</td>\n",
       "    </tr>\n",
       "    <tr>\n",
       "      <th>2</th>\n",
       "      <td>75.0</td>\n",
       "      <td>Charlie</td>\n",
       "      <td>NY</td>\n",
       "      <td>35</td>\n",
       "    </tr>\n",
       "    <tr>\n",
       "      <th>3</th>\n",
       "      <td>NaN</td>\n",
       "      <td>David</td>\n",
       "      <td>Chicago</td>\n",
       "      <td>40</td>\n",
       "    </tr>\n",
       "  </tbody>\n",
       "</table>\n",
       "</div>"
      ],
      "text/plain": [
       "   score     name     city  age\n",
       "0   85.0    Alice       NY   25\n",
       "1   90.0      Bob       LA   30\n",
       "2   75.0  Charlie       NY   35\n",
       "3    NaN    David  Chicago   40"
      ]
     },
     "execution_count": 10,
     "metadata": {},
     "output_type": "execute_result"
    }
   ],
   "source": [
    "df.sort_index(axis=1,ascending=False)"
   ]
  },
  {
   "cell_type": "code",
   "execution_count": 61,
   "id": "4481ac14-fdf5-4b58-a950-d15e05b6e456",
   "metadata": {},
   "outputs": [
    {
     "name": "stdout",
     "output_type": "stream",
     "text": [
      "      name  age city  score\n",
      "0    Alice   25   NY     85\n",
      "2  Charlie   35   NY     75\n"
     ]
    }
   ],
   "source": [
    "df_filtered =df[df[\"city\"]==\"NY\"]\n",
    "print(df_filtered)"
   ]
  },
  {
   "cell_type": "code",
   "execution_count": 65,
   "id": "6807f786-e1f5-4058-88b7-672c1e7b6c5f",
   "metadata": {},
   "outputs": [
    {
     "name": "stdout",
     "output_type": "stream",
     "text": [
      "      name  age city  score\n",
      "0    Alice   25   NY     85\n",
      "2  Charlie   35   NY     75\n"
     ]
    }
   ],
   "source": [
    "df_filter=df[(df[\"age\"] >20) & (df[\"city\"]==\"NY\")]\n",
    "print(df_filter)\n"
   ]
  },
  {
   "cell_type": "code",
   "execution_count": 67,
   "id": "56dc7f2b-212b-4d5d-a3e2-d0ebe69057e4",
   "metadata": {},
   "outputs": [
    {
     "name": "stdout",
     "output_type": "stream",
     "text": [
      "      name  age     city  score\n",
      "0    Alice   25       NY     85\n",
      "1      Bob   30       LA     90\n",
      "2  Charlie   35       NY     75\n",
      "3    David   40  Chicago     95\n"
     ]
    }
   ],
   "source": [
    "df_filter=df[(df[\"age\"] >20) | (df[\"city\"]==\"NY\")]\n",
    "print(df_filter)"
   ]
  },
  {
   "cell_type": "code",
   "execution_count": 75,
   "id": "48dc8df8-c99d-4993-946a-e3a4c735e80e",
   "metadata": {},
   "outputs": [
    {
     "data": {
      "text/html": [
       "<div>\n",
       "<style scoped>\n",
       "    .dataframe tbody tr th:only-of-type {\n",
       "        vertical-align: middle;\n",
       "    }\n",
       "\n",
       "    .dataframe tbody tr th {\n",
       "        vertical-align: top;\n",
       "    }\n",
       "\n",
       "    .dataframe thead th {\n",
       "        text-align: right;\n",
       "    }\n",
       "</style>\n",
       "<table border=\"1\" class=\"dataframe\">\n",
       "  <thead>\n",
       "    <tr style=\"text-align: right;\">\n",
       "      <th></th>\n",
       "      <th>name</th>\n",
       "      <th>age</th>\n",
       "      <th>city</th>\n",
       "      <th>score</th>\n",
       "    </tr>\n",
       "  </thead>\n",
       "  <tbody>\n",
       "    <tr>\n",
       "      <th>2</th>\n",
       "      <td>Charlie</td>\n",
       "      <td>35</td>\n",
       "      <td>NY</td>\n",
       "      <td>75</td>\n",
       "    </tr>\n",
       "    <tr>\n",
       "      <th>3</th>\n",
       "      <td>David</td>\n",
       "      <td>40</td>\n",
       "      <td>Chicago</td>\n",
       "      <td>95</td>\n",
       "    </tr>\n",
       "  </tbody>\n",
       "</table>\n",
       "</div>"
      ],
      "text/plain": [
       "      name  age     city  score\n",
       "2  Charlie   35       NY     75\n",
       "3    David   40  Chicago     95"
      ]
     },
     "execution_count": 75,
     "metadata": {},
     "output_type": "execute_result"
    }
   ],
   "source": [
    "df.query(\"age >30\")"
   ]
  },
  {
   "cell_type": "code",
   "execution_count": 76,
   "id": "70fa9b2c-efef-417f-814a-f07c7ef240c7",
   "metadata": {},
   "outputs": [
    {
     "data": {
      "text/html": [
       "<div>\n",
       "<style scoped>\n",
       "    .dataframe tbody tr th:only-of-type {\n",
       "        vertical-align: middle;\n",
       "    }\n",
       "\n",
       "    .dataframe tbody tr th {\n",
       "        vertical-align: top;\n",
       "    }\n",
       "\n",
       "    .dataframe thead th {\n",
       "        text-align: right;\n",
       "    }\n",
       "</style>\n",
       "<table border=\"1\" class=\"dataframe\">\n",
       "  <thead>\n",
       "    <tr style=\"text-align: right;\">\n",
       "      <th></th>\n",
       "      <th>name</th>\n",
       "      <th>age</th>\n",
       "      <th>city</th>\n",
       "      <th>score</th>\n",
       "    </tr>\n",
       "  </thead>\n",
       "  <tbody>\n",
       "    <tr>\n",
       "      <th>0</th>\n",
       "      <td>Alice</td>\n",
       "      <td>25</td>\n",
       "      <td>NY</td>\n",
       "      <td>85</td>\n",
       "    </tr>\n",
       "    <tr>\n",
       "      <th>2</th>\n",
       "      <td>Charlie</td>\n",
       "      <td>35</td>\n",
       "      <td>NY</td>\n",
       "      <td>75</td>\n",
       "    </tr>\n",
       "  </tbody>\n",
       "</table>\n",
       "</div>"
      ],
      "text/plain": [
       "      name  age city  score\n",
       "0    Alice   25   NY     85\n",
       "2  Charlie   35   NY     75"
      ]
     },
     "execution_count": 76,
     "metadata": {},
     "output_type": "execute_result"
    }
   ],
   "source": [
    "df.query(\"city=='NY'\")"
   ]
  },
  {
   "cell_type": "code",
   "execution_count": 78,
   "id": "bddd9e65-1a59-43f9-b428-25c75660de74",
   "metadata": {},
   "outputs": [
    {
     "data": {
      "text/html": [
       "<div>\n",
       "<style scoped>\n",
       "    .dataframe tbody tr th:only-of-type {\n",
       "        vertical-align: middle;\n",
       "    }\n",
       "\n",
       "    .dataframe tbody tr th {\n",
       "        vertical-align: top;\n",
       "    }\n",
       "\n",
       "    .dataframe thead th {\n",
       "        text-align: right;\n",
       "    }\n",
       "</style>\n",
       "<table border=\"1\" class=\"dataframe\">\n",
       "  <thead>\n",
       "    <tr style=\"text-align: right;\">\n",
       "      <th></th>\n",
       "      <th>name</th>\n",
       "      <th>age</th>\n",
       "      <th>city</th>\n",
       "      <th>score</th>\n",
       "    </tr>\n",
       "  </thead>\n",
       "  <tbody>\n",
       "    <tr>\n",
       "      <th>2</th>\n",
       "      <td>Charlie</td>\n",
       "      <td>35</td>\n",
       "      <td>NY</td>\n",
       "      <td>75</td>\n",
       "    </tr>\n",
       "  </tbody>\n",
       "</table>\n",
       "</div>"
      ],
      "text/plain": [
       "      name  age city  score\n",
       "2  Charlie   35   NY     75"
      ]
     },
     "execution_count": 78,
     "metadata": {},
     "output_type": "execute_result"
    }
   ],
   "source": [
    "df.query(\"city=='NY' and age > 25\")"
   ]
  },
  {
   "cell_type": "code",
   "execution_count": 79,
   "id": "c4bac5bf-c28b-44e2-a114-a8194bf35d19",
   "metadata": {},
   "outputs": [
    {
     "data": {
      "text/html": [
       "<div>\n",
       "<style scoped>\n",
       "    .dataframe tbody tr th:only-of-type {\n",
       "        vertical-align: middle;\n",
       "    }\n",
       "\n",
       "    .dataframe tbody tr th {\n",
       "        vertical-align: top;\n",
       "    }\n",
       "\n",
       "    .dataframe thead th {\n",
       "        text-align: right;\n",
       "    }\n",
       "</style>\n",
       "<table border=\"1\" class=\"dataframe\">\n",
       "  <thead>\n",
       "    <tr style=\"text-align: right;\">\n",
       "      <th></th>\n",
       "      <th>name</th>\n",
       "      <th>age</th>\n",
       "      <th>city</th>\n",
       "      <th>score</th>\n",
       "    </tr>\n",
       "  </thead>\n",
       "  <tbody>\n",
       "    <tr>\n",
       "      <th>0</th>\n",
       "      <td>Alice</td>\n",
       "      <td>25</td>\n",
       "      <td>NY</td>\n",
       "      <td>85</td>\n",
       "    </tr>\n",
       "    <tr>\n",
       "      <th>1</th>\n",
       "      <td>Bob</td>\n",
       "      <td>30</td>\n",
       "      <td>LA</td>\n",
       "      <td>90</td>\n",
       "    </tr>\n",
       "    <tr>\n",
       "      <th>2</th>\n",
       "      <td>Charlie</td>\n",
       "      <td>35</td>\n",
       "      <td>NY</td>\n",
       "      <td>75</td>\n",
       "    </tr>\n",
       "    <tr>\n",
       "      <th>3</th>\n",
       "      <td>David</td>\n",
       "      <td>40</td>\n",
       "      <td>Chicago</td>\n",
       "      <td>95</td>\n",
       "    </tr>\n",
       "  </tbody>\n",
       "</table>\n",
       "</div>"
      ],
      "text/plain": [
       "      name  age     city  score\n",
       "0    Alice   25       NY     85\n",
       "1      Bob   30       LA     90\n",
       "2  Charlie   35       NY     75\n",
       "3    David   40  Chicago     95"
      ]
     },
     "execution_count": 79,
     "metadata": {},
     "output_type": "execute_result"
    }
   ],
   "source": [
    "df.query(\"city=='NY' or age > 25\")"
   ]
  },
  {
   "cell_type": "code",
   "execution_count": 110,
   "id": "687eaf02-dafb-4498-8b6d-5fe40a8be590",
   "metadata": {},
   "outputs": [
    {
     "name": "stdout",
     "output_type": "stream",
     "text": [
      "      name  age city  score\n",
      "0    Alice   25   NY   85.0\n",
      "1      Bob   30   LA   90.0\n",
      "2  Charlie   35   NY   75.0\n"
     ]
    }
   ],
   "source": [
    "df_filtered = df[df['city'].isin(['NY', 'LA'])]\n",
    "print(df_filtered)"
   ]
  },
  {
   "cell_type": "code",
   "execution_count": 114,
   "id": "98f91bb3-ee86-4fbd-b7bf-c7d200ef7b0c",
   "metadata": {},
   "outputs": [
    {
     "name": "stdout",
     "output_type": "stream",
     "text": [
      "    name  age     city  score\n",
      "3  David   40  Chicago    NaN\n"
     ]
    }
   ],
   "source": [
    "df_filtered = df[~df['city'].isin(['NY', 'LA'])]\n",
    "print(df_filtered)"
   ]
  },
  {
   "cell_type": "code",
   "execution_count": 116,
   "id": "af916f0d-f2f5-4232-a213-3323d842b4d9",
   "metadata": {},
   "outputs": [
    {
     "name": "stdout",
     "output_type": "stream",
     "text": [
      "    name city\n",
      "0  Alice   NY\n"
     ]
    }
   ],
   "source": [
    "df_filtered = df[df['name'].str.startswith('A')][['name','city']]\n",
    "print(df_filtered)"
   ]
  },
  {
   "cell_type": "code",
   "execution_count": 85,
   "id": "0380ac09-f682-4b38-bb24-ed6b92297a6a",
   "metadata": {},
   "outputs": [
    {
     "name": "stdout",
     "output_type": "stream",
     "text": [
      "      name  age city  score\n",
      "0    Alice   25   NY     85\n",
      "2  Charlie   35   NY     75\n"
     ]
    }
   ],
   "source": [
    "df_filtered = df[df['name'].str.endswith('e')]\n",
    "print(df_filtered)\n"
   ]
  },
  {
   "cell_type": "code",
   "execution_count": 119,
   "id": "b16f9420-13b1-4413-b273-6b2022caf539",
   "metadata": {},
   "outputs": [
    {
     "name": "stdout",
     "output_type": "stream",
     "text": [
      "      name  age city  score\n",
      "0    Alice   25   NY   85.0\n",
      "1      Bob   30   LA   90.0\n",
      "2  Charlie   35   NY   75.0\n"
     ]
    }
   ],
   "source": [
    "df_f = df[df['score'].between(70,90)]\n",
    "print(df_f)"
   ]
  },
  {
   "cell_type": "code",
   "execution_count": 89,
   "id": "4a951ecf-48fd-40be-8dbc-50286956ff76",
   "metadata": {},
   "outputs": [
    {
     "name": "stdout",
     "output_type": "stream",
     "text": [
      "    name  age     city  score\n",
      "3  David   40  Chicago    NaN\n"
     ]
    }
   ],
   "source": [
    "df_with_null = df[df['score'].isnull()]\n",
    "print(df_with_null)"
   ]
  },
  {
   "cell_type": "code",
   "execution_count": 93,
   "id": "45156b89-825a-4a0d-bbf9-91e920334aeb",
   "metadata": {},
   "outputs": [
    {
     "name": "stdout",
     "output_type": "stream",
     "text": [
      "      name  age city  score\n",
      "0    Alice   25   NY   85.0\n",
      "1      Bob   30   LA   90.0\n",
      "2  Charlie   35   NY   75.0\n"
     ]
    }
   ],
   "source": [
    "df_without_null = df[df['score'].notnull()]\n",
    "print(df_without_null)"
   ]
  },
  {
   "cell_type": "code",
   "execution_count": 95,
   "id": "aa91e60a-837e-4572-85a7-001c4a273692",
   "metadata": {},
   "outputs": [
    {
     "name": "stdout",
     "output_type": "stream",
     "text": [
      "      name  age     city  score\n",
      "0    Alice   25       NY   85.0\n",
      "2  Charlie   35       NY   75.0\n",
      "3    David   40  Chicago    NaN\n"
     ]
    }
   ],
   "source": [
    "df_filtered = df[df['name'].apply(lambda x: len(x) > 4)]\n",
    "print(df_filtered)"
   ]
  },
  {
   "cell_type": "code",
   "execution_count": 98,
   "id": "ce230b3a-49e8-4ca0-927e-d8587ed6eb05",
   "metadata": {},
   "outputs": [
    {
     "data": {
      "text/html": [
       "<div>\n",
       "<style scoped>\n",
       "    .dataframe tbody tr th:only-of-type {\n",
       "        vertical-align: middle;\n",
       "    }\n",
       "\n",
       "    .dataframe tbody tr th {\n",
       "        vertical-align: top;\n",
       "    }\n",
       "\n",
       "    .dataframe thead th {\n",
       "        text-align: right;\n",
       "    }\n",
       "</style>\n",
       "<table border=\"1\" class=\"dataframe\">\n",
       "  <thead>\n",
       "    <tr style=\"text-align: right;\">\n",
       "      <th></th>\n",
       "      <th>name</th>\n",
       "      <th>age</th>\n",
       "      <th>city</th>\n",
       "      <th>score</th>\n",
       "    </tr>\n",
       "  </thead>\n",
       "  <tbody>\n",
       "    <tr>\n",
       "      <th>0</th>\n",
       "      <td>Alice</td>\n",
       "      <td>25</td>\n",
       "      <td>NY</td>\n",
       "      <td>85.0</td>\n",
       "    </tr>\n",
       "    <tr>\n",
       "      <th>1</th>\n",
       "      <td>Bob</td>\n",
       "      <td>30</td>\n",
       "      <td>LA</td>\n",
       "      <td>90.0</td>\n",
       "    </tr>\n",
       "  </tbody>\n",
       "</table>\n",
       "</div>"
      ],
      "text/plain": [
       "    name  age city  score\n",
       "0  Alice   25   NY   85.0\n",
       "1    Bob   30   LA   90.0"
      ]
     },
     "execution_count": 98,
     "metadata": {},
     "output_type": "execute_result"
    }
   ],
   "source": [
    "df_filterd =df[df['score'].between(80,100)]\n",
    "df_filterd"
   ]
  },
  {
   "cell_type": "code",
   "execution_count": 109,
   "id": "eedd3024-6552-40a2-9859-8f04cff65dab",
   "metadata": {},
   "outputs": [
    {
     "data": {
      "text/html": [
       "<div>\n",
       "<style scoped>\n",
       "    .dataframe tbody tr th:only-of-type {\n",
       "        vertical-align: middle;\n",
       "    }\n",
       "\n",
       "    .dataframe tbody tr th {\n",
       "        vertical-align: top;\n",
       "    }\n",
       "\n",
       "    .dataframe thead th {\n",
       "        text-align: right;\n",
       "    }\n",
       "</style>\n",
       "<table border=\"1\" class=\"dataframe\">\n",
       "  <thead>\n",
       "    <tr style=\"text-align: right;\">\n",
       "      <th></th>\n",
       "      <th>name</th>\n",
       "      <th>score</th>\n",
       "    </tr>\n",
       "  </thead>\n",
       "  <tbody>\n",
       "    <tr>\n",
       "      <th>2</th>\n",
       "      <td>Charlie</td>\n",
       "      <td>75.0</td>\n",
       "    </tr>\n",
       "    <tr>\n",
       "      <th>3</th>\n",
       "      <td>David</td>\n",
       "      <td>NaN</td>\n",
       "    </tr>\n",
       "  </tbody>\n",
       "</table>\n",
       "</div>"
      ],
      "text/plain": [
       "      name  score\n",
       "2  Charlie   75.0\n",
       "3    David    NaN"
      ]
     },
     "execution_count": 109,
     "metadata": {},
     "output_type": "execute_result"
    }
   ],
   "source": [
    "df_filterd =df[~df['score'].between(80,100)][[\"name\",\"score\"]]\n",
    "df_filterd"
   ]
  },
  {
   "cell_type": "code",
   "execution_count": 125,
   "id": "1db14231-3a59-4437-a7b7-6a7b0bea2a56",
   "metadata": {},
   "outputs": [
    {
     "data": {
      "text/html": [
       "<div>\n",
       "<style scoped>\n",
       "    .dataframe tbody tr th:only-of-type {\n",
       "        vertical-align: middle;\n",
       "    }\n",
       "\n",
       "    .dataframe tbody tr th {\n",
       "        vertical-align: top;\n",
       "    }\n",
       "\n",
       "    .dataframe thead th {\n",
       "        text-align: right;\n",
       "    }\n",
       "</style>\n",
       "<table border=\"1\" class=\"dataframe\">\n",
       "  <thead>\n",
       "    <tr style=\"text-align: right;\">\n",
       "      <th></th>\n",
       "      <th>name</th>\n",
       "      <th>age</th>\n",
       "      <th>city</th>\n",
       "      <th>score</th>\n",
       "    </tr>\n",
       "  </thead>\n",
       "  <tbody>\n",
       "    <tr>\n",
       "      <th>3</th>\n",
       "      <td>David</td>\n",
       "      <td>40</td>\n",
       "      <td>Chicago</td>\n",
       "      <td>NaN</td>\n",
       "    </tr>\n",
       "    <tr>\n",
       "      <th>1</th>\n",
       "      <td>Bob</td>\n",
       "      <td>30</td>\n",
       "      <td>LA</td>\n",
       "      <td>90.0</td>\n",
       "    </tr>\n",
       "    <tr>\n",
       "      <th>0</th>\n",
       "      <td>Alice</td>\n",
       "      <td>25</td>\n",
       "      <td>NY</td>\n",
       "      <td>85.0</td>\n",
       "    </tr>\n",
       "    <tr>\n",
       "      <th>2</th>\n",
       "      <td>Charlie</td>\n",
       "      <td>35</td>\n",
       "      <td>NY</td>\n",
       "      <td>75.0</td>\n",
       "    </tr>\n",
       "  </tbody>\n",
       "</table>\n",
       "</div>"
      ],
      "text/plain": [
       "      name  age     city  score\n",
       "3    David   40  Chicago    NaN\n",
       "1      Bob   30       LA   90.0\n",
       "0    Alice   25       NY   85.0\n",
       "2  Charlie   35       NY   75.0"
      ]
     },
     "execution_count": 125,
     "metadata": {},
     "output_type": "execute_result"
    }
   ],
   "source": [
    "df.sort_values(by=['city','score'],ascending=[True,False])"
   ]
  },
  {
   "cell_type": "code",
   "execution_count": 115,
   "id": "6d7aa5ab-4d0c-48d9-9786-f961faad7c35",
   "metadata": {},
   "outputs": [
    {
     "data": {
      "text/html": [
       "<div>\n",
       "<style scoped>\n",
       "    .dataframe tbody tr th:only-of-type {\n",
       "        vertical-align: middle;\n",
       "    }\n",
       "\n",
       "    .dataframe tbody tr th {\n",
       "        vertical-align: top;\n",
       "    }\n",
       "\n",
       "    .dataframe thead th {\n",
       "        text-align: right;\n",
       "    }\n",
       "</style>\n",
       "<table border=\"1\" class=\"dataframe\">\n",
       "  <thead>\n",
       "    <tr style=\"text-align: right;\">\n",
       "      <th></th>\n",
       "      <th>name</th>\n",
       "      <th>age</th>\n",
       "      <th>city</th>\n",
       "      <th>score</th>\n",
       "    </tr>\n",
       "  </thead>\n",
       "  <tbody>\n",
       "    <tr>\n",
       "      <th>1</th>\n",
       "      <td>Bob</td>\n",
       "      <td>30</td>\n",
       "      <td>LA</td>\n",
       "      <td>90.0</td>\n",
       "    </tr>\n",
       "    <tr>\n",
       "      <th>0</th>\n",
       "      <td>Alice</td>\n",
       "      <td>25</td>\n",
       "      <td>NY</td>\n",
       "      <td>85.0</td>\n",
       "    </tr>\n",
       "    <tr>\n",
       "      <th>2</th>\n",
       "      <td>Charlie</td>\n",
       "      <td>35</td>\n",
       "      <td>NY</td>\n",
       "      <td>75.0</td>\n",
       "    </tr>\n",
       "    <tr>\n",
       "      <th>3</th>\n",
       "      <td>David</td>\n",
       "      <td>40</td>\n",
       "      <td>Chicago</td>\n",
       "      <td>NaN</td>\n",
       "    </tr>\n",
       "  </tbody>\n",
       "</table>\n",
       "</div>"
      ],
      "text/plain": [
       "      name  age     city  score\n",
       "1      Bob   30       LA   90.0\n",
       "0    Alice   25       NY   85.0\n",
       "2  Charlie   35       NY   75.0\n",
       "3    David   40  Chicago    NaN"
      ]
     },
     "execution_count": 115,
     "metadata": {},
     "output_type": "execute_result"
    }
   ],
   "source": [
    "df.sort_values(by='score',ascending=False)"
   ]
  },
  {
   "cell_type": "code",
   "execution_count": 117,
   "id": "022deb4e-4ef3-45bf-bc2a-4f9c282b3704",
   "metadata": {},
   "outputs": [
    {
     "name": "stdout",
     "output_type": "stream",
     "text": [
      "      name  age     city  score\n",
      "1      Bob   30       LA   90.0\n",
      "0    Alice   25       NY   85.0\n",
      "2  Charlie   35       NY   75.0\n",
      "3    David   40  Chicago    NaN\n"
     ]
    }
   ],
   "source": [
    "df_sorted = df.sort_values(by=['score', 'age'], ascending=[False, True])\n",
    "print(df_sorted)"
   ]
  },
  {
   "cell_type": "code",
   "execution_count": 119,
   "id": "a8871efe-bab4-4072-a551-8ce8e68c195e",
   "metadata": {},
   "outputs": [
    {
     "name": "stdout",
     "output_type": "stream",
     "text": [
      "      name  score\n",
      "0    Alice   85.0\n",
      "1      Bob   90.0\n",
      "2  Charlie   75.0\n",
      "3    David    NaN\n"
     ]
    }
   ],
   "source": [
    "df_sorted = df.sort_values(by='age')[['name', 'score']]\n",
    "print(df_sorted)"
   ]
  },
  {
   "cell_type": "code",
   "execution_count": 127,
   "id": "922a7526-d13c-4e5f-857c-238df09519bd",
   "metadata": {},
   "outputs": [
    {
     "name": "stdout",
     "output_type": "stream",
     "text": [
      "      name  age     city  score\n",
      "3    David   40  Chicago    NaN\n",
      "2  Charlie   35       NY   75.0\n",
      "0    Alice   25       NY   85.0\n",
      "1      Bob   30       LA   90.0\n"
     ]
    }
   ],
   "source": [
    "sorted_df = df.sort_values(by='score', na_position='first')\n",
    "print(sorted_df)"
   ]
  },
  {
   "cell_type": "code",
   "execution_count": 124,
   "id": "dabd7345-f412-42b9-9b33-f928791e160a",
   "metadata": {},
   "outputs": [
    {
     "name": "stdout",
     "output_type": "stream",
     "text": [
      "      name  age     city  score\n",
      "0    Alice   25       NY   85.0\n",
      "1      Bob   30       LA   90.0\n",
      "2  Charlie   35       NY   75.0\n",
      "3    David   40  Chicago    NaN\n"
     ]
    }
   ],
   "source": [
    "df.sort_values(by='age', inplace=True)\n",
    "\n",
    "print(df)"
   ]
  },
  {
   "cell_type": "code",
   "execution_count": 125,
   "id": "0b72883a-1554-46cf-9468-3099bacc6ecb",
   "metadata": {},
   "outputs": [],
   "source": [
    "result = df.mean(numeric_only=True)"
   ]
  },
  {
   "cell_type": "code",
   "execution_count": 126,
   "id": "7650b325-9c70-4feb-a65b-76ae7cfde8a4",
   "metadata": {},
   "outputs": [
    {
     "name": "stdout",
     "output_type": "stream",
     "text": [
      "age      32.500000\n",
      "score    83.333333\n",
      "dtype: float64\n"
     ]
    }
   ],
   "source": [
    "print(result)"
   ]
  },
  {
   "cell_type": "code",
   "execution_count": 138,
   "id": "c3d3a86a-5536-46fb-a3f1-8b260eb088a5",
   "metadata": {},
   "outputs": [
    {
     "name": "stdout",
     "output_type": "stream",
     "text": [
      "Mean 32.5\n",
      "Max 40\n",
      "Min 25\n",
      "Sum 130\n",
      "Count 4\n"
     ]
    }
   ],
   "source": [
    "print(\"Mean\",df['age'].mean())\n",
    "print(\"Max\",df['age'].max())\n",
    "print(\"Min\",df['age'].min())\n",
    "print(\"Sum\",df['age'].sum())\n",
    "print(\"Count\",df['age'].count())\n",
    "\n",
    "\n",
    "      "
   ]
  },
  {
   "cell_type": "code",
   "execution_count": 140,
   "id": "3190dd95-0068-4824-936f-d39ac288d4a8",
   "metadata": {},
   "outputs": [
    {
     "name": "stdout",
     "output_type": "stream",
     "text": [
      "max       40.0\n",
      "min       25.0\n",
      "mean      32.5\n",
      "sum      130.0\n",
      "count      4.0\n",
      "Name: age, dtype: float64\n"
     ]
    }
   ],
   "source": [
    "print(df['age'].agg([\"max\",\"min\",\"mean\",\"sum\",\"count\"]))"
   ]
  },
  {
   "cell_type": "code",
   "execution_count": 132,
   "id": "ba396462-cced-480e-8eef-260d8abf7c10",
   "metadata": {},
   "outputs": [
    {
     "name": "stdout",
     "output_type": "stream",
     "text": [
      "25\n"
     ]
    }
   ],
   "source": [
    "print(df['age'].min())"
   ]
  },
  {
   "cell_type": "code",
   "execution_count": 133,
   "id": "6e9f28ab-28a8-4ec0-9e4d-b0285d3ba964",
   "metadata": {},
   "outputs": [
    {
     "name": "stdout",
     "output_type": "stream",
     "text": [
      "130\n"
     ]
    }
   ],
   "source": [
    "print(df['age'].sum())"
   ]
  },
  {
   "cell_type": "code",
   "execution_count": 135,
   "id": "7e32f774-10ac-4a01-9b93-f5c0e9245fa9",
   "metadata": {},
   "outputs": [
    {
     "name": "stdout",
     "output_type": "stream",
     "text": [
      "min      75.000000\n",
      "max      90.000000\n",
      "mean     83.333333\n",
      "sum     250.000000\n",
      "Name: score, dtype: float64\n"
     ]
    }
   ],
   "source": [
    "print(df['score'].agg(['min', 'max', 'mean','sum']))\n"
   ]
  },
  {
   "cell_type": "code",
   "execution_count": 137,
   "id": "40e59a8d-69cf-42bd-87cb-db9aba01eaf2",
   "metadata": {},
   "outputs": [
    {
     "data": {
      "text/html": [
       "<div>\n",
       "<style scoped>\n",
       "    .dataframe tbody tr th:only-of-type {\n",
       "        vertical-align: middle;\n",
       "    }\n",
       "\n",
       "    .dataframe tbody tr th {\n",
       "        vertical-align: top;\n",
       "    }\n",
       "\n",
       "    .dataframe thead th {\n",
       "        text-align: right;\n",
       "    }\n",
       "</style>\n",
       "<table border=\"1\" class=\"dataframe\">\n",
       "  <thead>\n",
       "    <tr style=\"text-align: right;\">\n",
       "      <th></th>\n",
       "      <th>age</th>\n",
       "      <th>score</th>\n",
       "    </tr>\n",
       "  </thead>\n",
       "  <tbody>\n",
       "    <tr>\n",
       "      <th>min</th>\n",
       "      <td>25</td>\n",
       "      <td>75.0</td>\n",
       "    </tr>\n",
       "    <tr>\n",
       "      <th>max</th>\n",
       "      <td>40</td>\n",
       "      <td>90.0</td>\n",
       "    </tr>\n",
       "  </tbody>\n",
       "</table>\n",
       "</div>"
      ],
      "text/plain": [
       "     age  score\n",
       "min   25   75.0\n",
       "max   40   90.0"
      ]
     },
     "execution_count": 137,
     "metadata": {},
     "output_type": "execute_result"
    }
   ],
   "source": [
    "df.agg({\n",
    "    'age': ['min', 'max'],\n",
    "    'score': ['min', 'max']\n",
    "})"
   ]
  },
  {
   "cell_type": "code",
   "execution_count": 149,
   "id": "a8871f70-ed22-4c35-8b24-0a36703615a6",
   "metadata": {},
   "outputs": [
    {
     "name": "stdout",
     "output_type": "stream",
     "text": [
      "             max  min  mean\n",
      "city gender                \n",
      "LA   F        88   88  88.0\n",
      "     M        95   95  95.0\n",
      "NY   F        85   85  85.0\n",
      "     M        90   75  82.5\n"
     ]
    }
   ],
   "source": [
    "df = pd.DataFrame({\n",
    "    'name': ['Alice', 'Bob', 'Charlie', 'David', 'Eve'],\n",
    "    'gender': ['F', 'M', 'M', 'M', 'F'],\n",
    "    'city':['NY','NY','NY','LA','LA'],\n",
    "    'score': [85, 90, 75, 95, 88]\n",
    "})\n",
    "\n",
    "res =df.groupby(['city','gender'])['score'].agg(['max','min','mean'])\n",
    "print(res)"
   ]
  },
  {
   "cell_type": "code",
   "execution_count": 151,
   "id": "b472125a-67c8-4970-acc3-ef9214e9c157",
   "metadata": {},
   "outputs": [
    {
     "data": {
      "text/plain": [
       "gender\n",
       "F    86.500000\n",
       "M    86.666667\n",
       "Name: score, dtype: float64"
      ]
     },
     "execution_count": 151,
     "metadata": {},
     "output_type": "execute_result"
    }
   ],
   "source": [
    "group=df.groupby('gender')\n",
    "group['score'].mean()"
   ]
  },
  {
   "cell_type": "code",
   "execution_count": 154,
   "id": "96494d86-705a-4c3c-ae4a-3bbaf0171348",
   "metadata": {},
   "outputs": [
    {
     "data": {
      "text/html": [
       "<div>\n",
       "<style scoped>\n",
       "    .dataframe tbody tr th:only-of-type {\n",
       "        vertical-align: middle;\n",
       "    }\n",
       "\n",
       "    .dataframe tbody tr th {\n",
       "        vertical-align: top;\n",
       "    }\n",
       "\n",
       "    .dataframe thead th {\n",
       "        text-align: right;\n",
       "    }\n",
       "</style>\n",
       "<table border=\"1\" class=\"dataframe\">\n",
       "  <thead>\n",
       "    <tr style=\"text-align: right;\">\n",
       "      <th></th>\n",
       "      <th>mean</th>\n",
       "      <th>max</th>\n",
       "      <th>min</th>\n",
       "      <th>sum</th>\n",
       "    </tr>\n",
       "    <tr>\n",
       "      <th>gender</th>\n",
       "      <th></th>\n",
       "      <th></th>\n",
       "      <th></th>\n",
       "      <th></th>\n",
       "    </tr>\n",
       "  </thead>\n",
       "  <tbody>\n",
       "    <tr>\n",
       "      <th>F</th>\n",
       "      <td>86.500000</td>\n",
       "      <td>88</td>\n",
       "      <td>85</td>\n",
       "      <td>173</td>\n",
       "    </tr>\n",
       "    <tr>\n",
       "      <th>M</th>\n",
       "      <td>86.666667</td>\n",
       "      <td>95</td>\n",
       "      <td>75</td>\n",
       "      <td>260</td>\n",
       "    </tr>\n",
       "  </tbody>\n",
       "</table>\n",
       "</div>"
      ],
      "text/plain": [
       "             mean  max  min  sum\n",
       "gender                          \n",
       "F       86.500000   88   85  173\n",
       "M       86.666667   95   75  260"
      ]
     },
     "execution_count": 154,
     "metadata": {},
     "output_type": "execute_result"
    }
   ],
   "source": [
    "group['score'].agg(['mean','max','min','sum'])"
   ]
  },
  {
   "cell_type": "code",
   "execution_count": 15,
   "id": "654103ef-b53d-4fd8-b128-9ce0720a626a",
   "metadata": {},
   "outputs": [],
   "source": [
    "import pandas as pd\n",
    "df2 = pd.DataFrame({\n",
    "    'department': ['HR', 'HR', 'IT', 'IT', 'Finance'],\n",
    "    'gender': ['F', 'M', 'M', 'F', 'M'],\n",
    "    'salary': [50000, 55000, 60000, 62000, 58000]\n",
    "})\n",
    "\n"
   ]
  },
  {
   "cell_type": "code",
   "execution_count": 30,
   "id": "902b2412-d9e4-4a17-8814-2024569f151e",
   "metadata": {},
   "outputs": [
    {
     "data": {
      "text/plain": [
       "'HR'"
      ]
     },
     "execution_count": 30,
     "metadata": {},
     "output_type": "execute_result"
    }
   ],
   "source": [
    "max_ind = df2['salary'].idxmin()\n",
    "df2.loc[max_ind]['department']\n"
   ]
  },
  {
   "cell_type": "code",
   "execution_count": 18,
   "id": "39cbe72f-c10a-4db4-8f5d-c68e5971e53e",
   "metadata": {},
   "outputs": [
    {
     "data": {
      "text/html": [
       "<div>\n",
       "<style scoped>\n",
       "    .dataframe tbody tr th:only-of-type {\n",
       "        vertical-align: middle;\n",
       "    }\n",
       "\n",
       "    .dataframe tbody tr th {\n",
       "        vertical-align: top;\n",
       "    }\n",
       "\n",
       "    .dataframe thead th {\n",
       "        text-align: right;\n",
       "    }\n",
       "</style>\n",
       "<table border=\"1\" class=\"dataframe\">\n",
       "  <thead>\n",
       "    <tr style=\"text-align: right;\">\n",
       "      <th></th>\n",
       "      <th>salary</th>\n",
       "      <th>gender</th>\n",
       "      <th>department</th>\n",
       "    </tr>\n",
       "  </thead>\n",
       "  <tbody>\n",
       "    <tr>\n",
       "      <th>0</th>\n",
       "      <td>50000</td>\n",
       "      <td>F</td>\n",
       "      <td>HR</td>\n",
       "    </tr>\n",
       "    <tr>\n",
       "      <th>1</th>\n",
       "      <td>55000</td>\n",
       "      <td>M</td>\n",
       "      <td>HR</td>\n",
       "    </tr>\n",
       "    <tr>\n",
       "      <th>2</th>\n",
       "      <td>60000</td>\n",
       "      <td>M</td>\n",
       "      <td>IT</td>\n",
       "    </tr>\n",
       "    <tr>\n",
       "      <th>3</th>\n",
       "      <td>62000</td>\n",
       "      <td>F</td>\n",
       "      <td>IT</td>\n",
       "    </tr>\n",
       "    <tr>\n",
       "      <th>4</th>\n",
       "      <td>58000</td>\n",
       "      <td>M</td>\n",
       "      <td>Finance</td>\n",
       "    </tr>\n",
       "  </tbody>\n",
       "</table>\n",
       "</div>"
      ],
      "text/plain": [
       "   salary gender department\n",
       "0   50000      F         HR\n",
       "1   55000      M         HR\n",
       "2   60000      M         IT\n",
       "3   62000      F         IT\n",
       "4   58000      M    Finance"
      ]
     },
     "execution_count": 18,
     "metadata": {},
     "output_type": "execute_result"
    }
   ],
   "source": [
    "df2.sort_index(axis=1,ascending=False)"
   ]
  },
  {
   "cell_type": "code",
   "execution_count": 3,
   "id": "c6207888-c338-4493-9f4c-e0711a3c3082",
   "metadata": {},
   "outputs": [
    {
     "data": {
      "text/html": [
       "<div>\n",
       "<style scoped>\n",
       "    .dataframe tbody tr th:only-of-type {\n",
       "        vertical-align: middle;\n",
       "    }\n",
       "\n",
       "    .dataframe tbody tr th {\n",
       "        vertical-align: top;\n",
       "    }\n",
       "\n",
       "    .dataframe thead th {\n",
       "        text-align: right;\n",
       "    }\n",
       "</style>\n",
       "<table border=\"1\" class=\"dataframe\">\n",
       "  <thead>\n",
       "    <tr style=\"text-align: right;\">\n",
       "      <th></th>\n",
       "      <th>department</th>\n",
       "      <th>gender</th>\n",
       "      <th>salary</th>\n",
       "    </tr>\n",
       "  </thead>\n",
       "  <tbody>\n",
       "    <tr>\n",
       "      <th>0</th>\n",
       "      <td>HR</td>\n",
       "      <td>F</td>\n",
       "      <td>50000</td>\n",
       "    </tr>\n",
       "    <tr>\n",
       "      <th>1</th>\n",
       "      <td>HR</td>\n",
       "      <td>M</td>\n",
       "      <td>55000</td>\n",
       "    </tr>\n",
       "    <tr>\n",
       "      <th>2</th>\n",
       "      <td>IT</td>\n",
       "      <td>M</td>\n",
       "      <td>60000</td>\n",
       "    </tr>\n",
       "    <tr>\n",
       "      <th>3</th>\n",
       "      <td>IT</td>\n",
       "      <td>F</td>\n",
       "      <td>62000</td>\n",
       "    </tr>\n",
       "    <tr>\n",
       "      <th>4</th>\n",
       "      <td>Finance</td>\n",
       "      <td>M</td>\n",
       "      <td>58000</td>\n",
       "    </tr>\n",
       "  </tbody>\n",
       "</table>\n",
       "</div>"
      ],
      "text/plain": [
       "  department gender  salary\n",
       "0         HR      F   50000\n",
       "1         HR      M   55000\n",
       "2         IT      M   60000\n",
       "3         IT      F   62000\n",
       "4    Finance      M   58000"
      ]
     },
     "execution_count": 3,
     "metadata": {},
     "output_type": "execute_result"
    }
   ],
   "source": [
    "df2"
   ]
  },
  {
   "cell_type": "code",
   "execution_count": 10,
   "id": "117f956c-123e-4cd9-8beb-63a7cced90e1",
   "metadata": {},
   "outputs": [
    {
     "data": {
      "text/html": [
       "<div>\n",
       "<style scoped>\n",
       "    .dataframe tbody tr th:only-of-type {\n",
       "        vertical-align: middle;\n",
       "    }\n",
       "\n",
       "    .dataframe tbody tr th {\n",
       "        vertical-align: top;\n",
       "    }\n",
       "\n",
       "    .dataframe thead th {\n",
       "        text-align: right;\n",
       "    }\n",
       "</style>\n",
       "<table border=\"1\" class=\"dataframe\">\n",
       "  <thead>\n",
       "    <tr style=\"text-align: right;\">\n",
       "      <th></th>\n",
       "      <th>mean</th>\n",
       "      <th>sum</th>\n",
       "      <th>count</th>\n",
       "    </tr>\n",
       "  </thead>\n",
       "  <tbody>\n",
       "    <tr>\n",
       "      <th>salary</th>\n",
       "      <td>57000.0</td>\n",
       "      <td>285000.0</td>\n",
       "      <td>NaN</td>\n",
       "    </tr>\n",
       "    <tr>\n",
       "      <th>gender</th>\n",
       "      <td>NaN</td>\n",
       "      <td>NaN</td>\n",
       "      <td>5.0</td>\n",
       "    </tr>\n",
       "  </tbody>\n",
       "</table>\n",
       "</div>"
      ],
      "text/plain": [
       "           mean       sum  count\n",
       "salary  57000.0  285000.0    NaN\n",
       "gender      NaN       NaN    5.0"
      ]
     },
     "execution_count": 10,
     "metadata": {},
     "output_type": "execute_result"
    }
   ],
   "source": [
    "df2.agg({\n",
    "    'salary':['mean','sum'],\n",
    "    'gender':['count']\n",
    "}).T"
   ]
  },
  {
   "cell_type": "code",
   "execution_count": 18,
   "id": "2133f1e5-ced3-4afb-935b-a9c183fdaa3b",
   "metadata": {},
   "outputs": [
    {
     "data": {
      "text/html": [
       "<div>\n",
       "<style scoped>\n",
       "    .dataframe tbody tr th:only-of-type {\n",
       "        vertical-align: middle;\n",
       "    }\n",
       "\n",
       "    .dataframe tbody tr th {\n",
       "        vertical-align: top;\n",
       "    }\n",
       "\n",
       "    .dataframe thead th {\n",
       "        text-align: right;\n",
       "    }\n",
       "</style>\n",
       "<table border=\"1\" class=\"dataframe\">\n",
       "  <thead>\n",
       "    <tr style=\"text-align: right;\">\n",
       "      <th></th>\n",
       "      <th>department</th>\n",
       "      <th>gender</th>\n",
       "      <th>salary</th>\n",
       "    </tr>\n",
       "  </thead>\n",
       "  <tbody>\n",
       "    <tr>\n",
       "      <th>4</th>\n",
       "      <td>Finance</td>\n",
       "      <td>M</td>\n",
       "      <td>58000</td>\n",
       "    </tr>\n",
       "  </tbody>\n",
       "</table>\n",
       "</div>"
      ],
      "text/plain": [
       "  department gender  salary\n",
       "4    Finance      M   58000"
      ]
     },
     "execution_count": 18,
     "metadata": {},
     "output_type": "execute_result"
    }
   ],
   "source": [
    "df2[df2['department'].apply(lambda x : len(x) >2)]"
   ]
  },
  {
   "cell_type": "code",
   "execution_count": 158,
   "id": "776e89eb-c166-4f19-ba1c-60092f2f2af8",
   "metadata": {},
   "outputs": [
    {
     "name": "stdout",
     "output_type": "stream",
     "text": [
      "20\n"
     ]
    }
   ],
   "source": [
    "custom =df['score'].agg(lambda x: x.max() - x.min())\n",
    "print(custom)"
   ]
  },
  {
   "cell_type": "code",
   "execution_count": 6,
   "id": "c0472687-e030-4a19-95e5-1c76294f6893",
   "metadata": {},
   "outputs": [],
   "source": [
    "df2.sort_values(['department','salary'],ascending=[True,False],inplace=True)"
   ]
  },
  {
   "cell_type": "code",
   "execution_count": 14,
   "id": "62eda5dd-1d3b-48ec-b70d-ba2ff84d47a0",
   "metadata": {},
   "outputs": [
    {
     "name": "stdout",
     "output_type": "stream",
     "text": [
      "           department gender  salary\n",
      "department                          \n",
      "Finance       Finance      M   58000\n",
      "HR                 HR      M   55000\n",
      "HR                 HR      F   50000\n",
      "IT                 IT      F   62000\n",
      "IT                 IT      M   60000\n"
     ]
    }
   ],
   "source": [
    "df2.index =df2['department']\n",
    "print(df2)"
   ]
  },
  {
   "cell_type": "code",
   "execution_count": 8,
   "id": "df13c613-b9c8-4fe6-96bb-c6989a977ba4",
   "metadata": {},
   "outputs": [
    {
     "data": {
      "text/html": [
       "<div>\n",
       "<style scoped>\n",
       "    .dataframe tbody tr th:only-of-type {\n",
       "        vertical-align: middle;\n",
       "    }\n",
       "\n",
       "    .dataframe tbody tr th {\n",
       "        vertical-align: top;\n",
       "    }\n",
       "\n",
       "    .dataframe thead th {\n",
       "        text-align: right;\n",
       "    }\n",
       "</style>\n",
       "<table border=\"1\" class=\"dataframe\">\n",
       "  <thead>\n",
       "    <tr style=\"text-align: right;\">\n",
       "      <th></th>\n",
       "      <th>department</th>\n",
       "      <th>gender</th>\n",
       "      <th>salary</th>\n",
       "    </tr>\n",
       "  </thead>\n",
       "  <tbody>\n",
       "    <tr>\n",
       "      <th>4</th>\n",
       "      <td>Finance</td>\n",
       "      <td>M</td>\n",
       "      <td>58000</td>\n",
       "    </tr>\n",
       "    <tr>\n",
       "      <th>1</th>\n",
       "      <td>HR</td>\n",
       "      <td>M</td>\n",
       "      <td>55000</td>\n",
       "    </tr>\n",
       "    <tr>\n",
       "      <th>0</th>\n",
       "      <td>HR</td>\n",
       "      <td>F</td>\n",
       "      <td>50000</td>\n",
       "    </tr>\n",
       "    <tr>\n",
       "      <th>3</th>\n",
       "      <td>IT</td>\n",
       "      <td>F</td>\n",
       "      <td>62000</td>\n",
       "    </tr>\n",
       "    <tr>\n",
       "      <th>2</th>\n",
       "      <td>IT</td>\n",
       "      <td>M</td>\n",
       "      <td>60000</td>\n",
       "    </tr>\n",
       "  </tbody>\n",
       "</table>\n",
       "</div>"
      ],
      "text/plain": [
       "  department gender  salary\n",
       "4    Finance      M   58000\n",
       "1         HR      M   55000\n",
       "0         HR      F   50000\n",
       "3         IT      F   62000\n",
       "2         IT      M   60000"
      ]
     },
     "execution_count": 8,
     "metadata": {},
     "output_type": "execute_result"
    }
   ],
   "source": [
    "df2"
   ]
  },
  {
   "cell_type": "code",
   "execution_count": 23,
   "id": "e1e3fcd3-90aa-4f95-8f8e-50aedc80302a",
   "metadata": {},
   "outputs": [],
   "source": [
    "#df2.sort_values(['salary'],ascending=False)"
   ]
  },
  {
   "cell_type": "code",
   "execution_count": 27,
   "id": "d3776b6b-ccf4-4bb7-a651-03f6de05671b",
   "metadata": {},
   "outputs": [
    {
     "data": {
      "text/html": [
       "<div>\n",
       "<style scoped>\n",
       "    .dataframe tbody tr th:only-of-type {\n",
       "        vertical-align: middle;\n",
       "    }\n",
       "\n",
       "    .dataframe tbody tr th {\n",
       "        vertical-align: top;\n",
       "    }\n",
       "\n",
       "    .dataframe thead th {\n",
       "        text-align: right;\n",
       "    }\n",
       "</style>\n",
       "<table border=\"1\" class=\"dataframe\">\n",
       "  <thead>\n",
       "    <tr style=\"text-align: right;\">\n",
       "      <th></th>\n",
       "      <th>department</th>\n",
       "      <th>gender</th>\n",
       "      <th>salary</th>\n",
       "    </tr>\n",
       "  </thead>\n",
       "  <tbody>\n",
       "    <tr>\n",
       "      <th>4</th>\n",
       "      <td>Finance</td>\n",
       "      <td>M</td>\n",
       "      <td>58000</td>\n",
       "    </tr>\n",
       "    <tr>\n",
       "      <th>1</th>\n",
       "      <td>HR</td>\n",
       "      <td>M</td>\n",
       "      <td>55000</td>\n",
       "    </tr>\n",
       "    <tr>\n",
       "      <th>0</th>\n",
       "      <td>HR</td>\n",
       "      <td>F</td>\n",
       "      <td>50000</td>\n",
       "    </tr>\n",
       "    <tr>\n",
       "      <th>3</th>\n",
       "      <td>IT</td>\n",
       "      <td>F</td>\n",
       "      <td>62000</td>\n",
       "    </tr>\n",
       "    <tr>\n",
       "      <th>2</th>\n",
       "      <td>IT</td>\n",
       "      <td>M</td>\n",
       "      <td>60000</td>\n",
       "    </tr>\n",
       "  </tbody>\n",
       "</table>\n",
       "</div>"
      ],
      "text/plain": [
       "  department gender  salary\n",
       "4    Finance      M   58000\n",
       "1         HR      M   55000\n",
       "0         HR      F   50000\n",
       "3         IT      F   62000\n",
       "2         IT      M   60000"
      ]
     },
     "execution_count": 27,
     "metadata": {},
     "output_type": "execute_result"
    }
   ],
   "source": [
    "df2.sort_values(['department','salary'],ascending=[True,False])"
   ]
  },
  {
   "cell_type": "code",
   "execution_count": 3,
   "id": "46445226-f6e9-4eb6-9c52-784a2c11f579",
   "metadata": {},
   "outputs": [
    {
     "data": {
      "text/html": [
       "<div>\n",
       "<style scoped>\n",
       "    .dataframe tbody tr th:only-of-type {\n",
       "        vertical-align: middle;\n",
       "    }\n",
       "\n",
       "    .dataframe tbody tr th {\n",
       "        vertical-align: top;\n",
       "    }\n",
       "\n",
       "    .dataframe thead th {\n",
       "        text-align: right;\n",
       "    }\n",
       "</style>\n",
       "<table border=\"1\" class=\"dataframe\">\n",
       "  <thead>\n",
       "    <tr style=\"text-align: right;\">\n",
       "      <th></th>\n",
       "      <th>emp_id</th>\n",
       "      <th>name</th>\n",
       "      <th>dept_id</th>\n",
       "    </tr>\n",
       "  </thead>\n",
       "  <tbody>\n",
       "    <tr>\n",
       "      <th>0</th>\n",
       "      <td>1</td>\n",
       "      <td>Alice</td>\n",
       "      <td>101</td>\n",
       "    </tr>\n",
       "    <tr>\n",
       "      <th>1</th>\n",
       "      <td>2</td>\n",
       "      <td>Bob</td>\n",
       "      <td>102</td>\n",
       "    </tr>\n",
       "    <tr>\n",
       "      <th>2</th>\n",
       "      <td>3</td>\n",
       "      <td>Charlie</td>\n",
       "      <td>101</td>\n",
       "    </tr>\n",
       "    <tr>\n",
       "      <th>3</th>\n",
       "      <td>4</td>\n",
       "      <td>David</td>\n",
       "      <td>103</td>\n",
       "    </tr>\n",
       "    <tr>\n",
       "      <th>4</th>\n",
       "      <td>5</td>\n",
       "      <td>James</td>\n",
       "      <td>104</td>\n",
       "    </tr>\n",
       "  </tbody>\n",
       "</table>\n",
       "</div>"
      ],
      "text/plain": [
       "   emp_id     name  dept_id\n",
       "0       1    Alice      101\n",
       "1       2      Bob      102\n",
       "2       3  Charlie      101\n",
       "3       4    David      103\n",
       "4       5    James      104"
      ]
     },
     "execution_count": 3,
     "metadata": {},
     "output_type": "execute_result"
    }
   ],
   "source": [
    "import pandas as pd\n",
    "\n",
    "import pandas as pd\n",
    "import numpy as np\n",
    "df_employees = pd.DataFrame({\n",
    "    'emp_id': [1, 2, 3, 4,5],\n",
    "    'name': ['Alice', 'Bob', 'Charlie', 'David','James'],\n",
    "    'dept_id': [101, 102, 101, 103,104]\n",
    "})\n",
    "\n",
    "df_departments = pd.DataFrame({\n",
    "    'dept_id': [101, 102,110],\n",
    "    'dept_name': ['HR', 'Finance','IT']\n",
    "})\n",
    "df_employees"
   ]
  },
  {
   "cell_type": "code",
   "execution_count": 4,
   "id": "be999d44-fb18-460e-bf13-e1ad71255cee",
   "metadata": {},
   "outputs": [
    {
     "data": {
      "text/html": [
       "<div>\n",
       "<style scoped>\n",
       "    .dataframe tbody tr th:only-of-type {\n",
       "        vertical-align: middle;\n",
       "    }\n",
       "\n",
       "    .dataframe tbody tr th {\n",
       "        vertical-align: top;\n",
       "    }\n",
       "\n",
       "    .dataframe thead th {\n",
       "        text-align: right;\n",
       "    }\n",
       "</style>\n",
       "<table border=\"1\" class=\"dataframe\">\n",
       "  <thead>\n",
       "    <tr style=\"text-align: right;\">\n",
       "      <th></th>\n",
       "      <th>dept_id</th>\n",
       "      <th>dept_name</th>\n",
       "    </tr>\n",
       "  </thead>\n",
       "  <tbody>\n",
       "    <tr>\n",
       "      <th>0</th>\n",
       "      <td>101</td>\n",
       "      <td>HR</td>\n",
       "    </tr>\n",
       "    <tr>\n",
       "      <th>1</th>\n",
       "      <td>102</td>\n",
       "      <td>Finance</td>\n",
       "    </tr>\n",
       "    <tr>\n",
       "      <th>2</th>\n",
       "      <td>110</td>\n",
       "      <td>IT</td>\n",
       "    </tr>\n",
       "  </tbody>\n",
       "</table>\n",
       "</div>"
      ],
      "text/plain": [
       "   dept_id dept_name\n",
       "0      101        HR\n",
       "1      102   Finance\n",
       "2      110        IT"
      ]
     },
     "execution_count": 4,
     "metadata": {},
     "output_type": "execute_result"
    }
   ],
   "source": [
    "df_departments"
   ]
  },
  {
   "cell_type": "code",
   "execution_count": 11,
   "id": "228f129f-18ce-4326-94a8-d4c9ef00a495",
   "metadata": {},
   "outputs": [
    {
     "name": "stdout",
     "output_type": "stream",
     "text": [
      "   emp_id     name  dept_id dept_name      _merge\n",
      "0     1.0    Alice      101        HR        both\n",
      "1     3.0  Charlie      101        HR        both\n",
      "2     2.0      Bob      102   Finance        both\n",
      "3     4.0    David      103       NaN   left_only\n",
      "4     5.0    James      104       NaN   left_only\n",
      "5     NaN      NaN      110        IT  right_only\n"
     ]
    }
   ],
   "source": [
    "result = pd.merge(df_employees, df_departments, on='dept_id', how='outer',indicator=True)\n",
    "print(result)"
   ]
  },
  {
   "cell_type": "code",
   "execution_count": 166,
   "id": "7e4a6ee1-c7d1-498b-8a0f-f18ce2dc1463",
   "metadata": {},
   "outputs": [
    {
     "name": "stdout",
     "output_type": "stream",
     "text": [
      "   emp_id     name  dept_id dept_name\n",
      "0       1    Alice      101        HR\n",
      "1       2      Bob      102   Finance\n",
      "2       3  Charlie      101        HR\n",
      "3       4    David      103       NaN\n"
     ]
    }
   ],
   "source": [
    "result = pd.merge(df_employees, df_departments, on='dept_id', how='left')\n",
    "print(result)"
   ]
  },
  {
   "cell_type": "code",
   "execution_count": 172,
   "id": "7ba4e99e-a73d-4709-ab2f-ea180321e601",
   "metadata": {},
   "outputs": [
    {
     "name": "stdout",
     "output_type": "stream",
     "text": [
      "   emp_id     name  dept_id dept_name\n",
      "0     1.0    Alice      101        HR\n",
      "1     3.0  Charlie      101        HR\n",
      "2     2.0      Bob      102   Finance\n",
      "3     NaN      NaN      110        IT\n"
     ]
    }
   ],
   "source": [
    "result = pd.merge(df_employees, df_departments, on='dept_id', how='right')\n",
    "print(result)"
   ]
  },
  {
   "cell_type": "code",
   "execution_count": 174,
   "id": "9d643a01-98bb-485b-8ab1-3f7f2120f57c",
   "metadata": {},
   "outputs": [
    {
     "name": "stdout",
     "output_type": "stream",
     "text": [
      "   emp_id     name  dept_id dept_name\n",
      "0     1.0    Alice      101        HR\n",
      "1     3.0  Charlie      101        HR\n",
      "2     2.0      Bob      102   Finance\n",
      "3     4.0    David      103       NaN\n",
      "4     5.0    James      104       NaN\n",
      "5     NaN      NaN      110        IT\n"
     ]
    }
   ],
   "source": [
    "result = pd.merge(df_employees, df_departments, on='dept_id', how='outer')\n",
    "print(result)"
   ]
  },
  {
   "cell_type": "code",
   "execution_count": 176,
   "id": "da8c894f-52d3-48c5-872e-6104499ec980",
   "metadata": {},
   "outputs": [
    {
     "name": "stdout",
     "output_type": "stream",
     "text": [
      "   emp_id     name  dept_id dept_name      _merge\n",
      "0     1.0    Alice      101        HR        both\n",
      "1     3.0  Charlie      101        HR        both\n",
      "2     2.0      Bob      102   Finance        both\n",
      "3     4.0    David      103       NaN   left_only\n",
      "4     5.0    James      104       NaN   left_only\n",
      "5     NaN      NaN      110        IT  right_only\n"
     ]
    }
   ],
   "source": [
    "result = pd.merge(df_employees, df_departments, on='dept_id', how='outer', indicator=True)\n",
    "print(result)"
   ]
  },
  {
   "cell_type": "code",
   "execution_count": 16,
   "id": "5d3a6102-41f7-4230-80f5-9ee6f3566be2",
   "metadata": {},
   "outputs": [
    {
     "data": {
      "text/html": [
       "<div>\n",
       "<style scoped>\n",
       "    .dataframe tbody tr th:only-of-type {\n",
       "        vertical-align: middle;\n",
       "    }\n",
       "\n",
       "    .dataframe tbody tr th {\n",
       "        vertical-align: top;\n",
       "    }\n",
       "\n",
       "    .dataframe thead th {\n",
       "        text-align: right;\n",
       "    }\n",
       "</style>\n",
       "<table border=\"1\" class=\"dataframe\">\n",
       "  <thead>\n",
       "    <tr style=\"text-align: right;\">\n",
       "      <th></th>\n",
       "      <th>emp_id</th>\n",
       "      <th>name</th>\n",
       "      <th>dept_id</th>\n",
       "    </tr>\n",
       "  </thead>\n",
       "  <tbody>\n",
       "    <tr>\n",
       "      <th>0</th>\n",
       "      <td>1</td>\n",
       "      <td>Alice</td>\n",
       "      <td>101</td>\n",
       "    </tr>\n",
       "    <tr>\n",
       "      <th>1</th>\n",
       "      <td>2</td>\n",
       "      <td>Bob</td>\n",
       "      <td>102</td>\n",
       "    </tr>\n",
       "    <tr>\n",
       "      <th>2</th>\n",
       "      <td>3</td>\n",
       "      <td>Charlie</td>\n",
       "      <td>101</td>\n",
       "    </tr>\n",
       "    <tr>\n",
       "      <th>3</th>\n",
       "      <td>4</td>\n",
       "      <td>David</td>\n",
       "      <td>103</td>\n",
       "    </tr>\n",
       "    <tr>\n",
       "      <th>4</th>\n",
       "      <td>5</td>\n",
       "      <td>James</td>\n",
       "      <td>104</td>\n",
       "    </tr>\n",
       "  </tbody>\n",
       "</table>\n",
       "</div>"
      ],
      "text/plain": [
       "   emp_id     name  dept_id\n",
       "0       1    Alice      101\n",
       "1       2      Bob      102\n",
       "2       3  Charlie      101\n",
       "3       4    David      103\n",
       "4       5    James      104"
      ]
     },
     "execution_count": 16,
     "metadata": {},
     "output_type": "execute_result"
    }
   ],
   "source": [
    "df_employees"
   ]
  },
  {
   "cell_type": "code",
   "execution_count": 12,
   "id": "cb75aa8c-e01f-4bb5-b069-94fcc53aa42a",
   "metadata": {},
   "outputs": [
    {
     "data": {
      "text/html": [
       "<div>\n",
       "<style scoped>\n",
       "    .dataframe tbody tr th:only-of-type {\n",
       "        vertical-align: middle;\n",
       "    }\n",
       "\n",
       "    .dataframe tbody tr th {\n",
       "        vertical-align: top;\n",
       "    }\n",
       "\n",
       "    .dataframe thead th {\n",
       "        text-align: right;\n",
       "    }\n",
       "</style>\n",
       "<table border=\"1\" class=\"dataframe\">\n",
       "  <thead>\n",
       "    <tr style=\"text-align: right;\">\n",
       "      <th></th>\n",
       "      <th>dept_name</th>\n",
       "    </tr>\n",
       "    <tr>\n",
       "      <th>dept_id</th>\n",
       "      <th></th>\n",
       "    </tr>\n",
       "  </thead>\n",
       "  <tbody>\n",
       "    <tr>\n",
       "      <th>101</th>\n",
       "      <td>HR</td>\n",
       "    </tr>\n",
       "    <tr>\n",
       "      <th>102</th>\n",
       "      <td>Finance</td>\n",
       "    </tr>\n",
       "    <tr>\n",
       "      <th>110</th>\n",
       "      <td>IT</td>\n",
       "    </tr>\n",
       "  </tbody>\n",
       "</table>\n",
       "</div>"
      ],
      "text/plain": [
       "        dept_name\n",
       "dept_id          \n",
       "101            HR\n",
       "102       Finance\n",
       "110            IT"
      ]
     },
     "execution_count": 12,
     "metadata": {},
     "output_type": "execute_result"
    }
   ],
   "source": [
    "df_departments.set_index('dept_id',inplace=True)\n",
    "df_departments"
   ]
  },
  {
   "cell_type": "code",
   "execution_count": 13,
   "id": "11405470-318c-40b9-9592-b61566d911a1",
   "metadata": {},
   "outputs": [],
   "source": [
    "df_employees.set_index('dept_id',inplace=True)"
   ]
  },
  {
   "cell_type": "code",
   "execution_count": 18,
   "id": "4d4123b1-c358-4c37-95e4-56d1a2ce1fc5",
   "metadata": {},
   "outputs": [
    {
     "name": "stdout",
     "output_type": "stream",
     "text": [
      "   dept_id  emp_id     name dept_name\n",
      "0      101       1    Alice        HR\n",
      "1      102       2      Bob   Finance\n",
      "2      101       3  Charlie        HR\n"
     ]
    }
   ],
   "source": [
    "result = df_employees.join(df_departments,how='inner')\n",
    "result.reset_index(inplace=True)\n",
    "print(result)"
   ]
  },
  {
   "cell_type": "code",
   "execution_count": 15,
   "id": "f613ccd9-36d9-4977-8c90-4cc92203ea7d",
   "metadata": {},
   "outputs": [
    {
     "name": "stdout",
     "output_type": "stream",
     "text": [
      "         emp_id     name dept_name\n",
      "dept_id                           \n",
      "101           1    Alice        HR\n",
      "102           2      Bob   Finance\n",
      "101           3  Charlie        HR\n"
     ]
    }
   ],
   "source": [
    "print(result)"
   ]
  },
  {
   "cell_type": "code",
   "execution_count": 23,
   "id": "a687105d-7096-456f-9634-974732ded4b2",
   "metadata": {},
   "outputs": [
    {
     "name": "stdout",
     "output_type": "stream",
     "text": [
      "         emp_id     name dept_name\n",
      "dept_id                           \n",
      "101         1.0    Alice        HR\n",
      "101         3.0  Charlie        HR\n",
      "102         2.0      Bob   Finance\n",
      "103         4.0    David       NaN\n",
      "104         5.0    James       NaN\n",
      "110         NaN      NaN        IT\n"
     ]
    }
   ],
   "source": [
    "result = df_employees.join(df_departments,how='outer')\n",
    "print(result)"
   ]
  },
  {
   "cell_type": "code",
   "execution_count": 193,
   "id": "3ecb35b0-d12d-4db9-8bf7-95fc020fd346",
   "metadata": {},
   "outputs": [
    {
     "name": "stdout",
     "output_type": "stream",
     "text": [
      "         emp_id     name dept_name\n",
      "dept_id                           \n",
      "101         1.0    Alice        HR\n",
      "101         3.0  Charlie        HR\n",
      "102         2.0      Bob   Finance\n",
      "110         NaN      NaN        IT\n"
     ]
    }
   ],
   "source": [
    "result = df_employees.join(df_departments,how='right')\n",
    "print(result)"
   ]
  },
  {
   "cell_type": "code",
   "execution_count": 1,
   "id": "337f9e0f-3b0a-4208-a26e-7152fa6b043e",
   "metadata": {},
   "outputs": [],
   "source": [
    "import numpy as np\n",
    "import pandas as pd"
   ]
  },
  {
   "cell_type": "code",
   "execution_count": 38,
   "id": "866411da-5b8f-46bb-9839-7c7568586c9a",
   "metadata": {},
   "outputs": [],
   "source": [
    "import numpy as np\n",
    "df = pd.DataFrame({\n",
    "    'A': [ np.nan,1, np.nan],\n",
    "    'B': [np.nan, 5, 6],\n",
    "    'C': [7, 8, 9]\n",
    "})"
   ]
  },
  {
   "cell_type": "code",
   "execution_count": 39,
   "id": "ae5b3c8d-1ce2-4eae-bbd5-52f80a8c9fd7",
   "metadata": {},
   "outputs": [
    {
     "name": "stderr",
     "output_type": "stream",
     "text": [
      "C:\\Users\\babje\\AppData\\Local\\Temp\\ipykernel_1284\\2926003864.py:1: FutureWarning: A value is trying to be set on a copy of a DataFrame or Series through chained assignment using an inplace method.\n",
      "The behavior will change in pandas 3.0. This inplace method will never work because the intermediate object on which we are setting values always behaves as a copy.\n",
      "\n",
      "For example, when doing 'df[col].method(value, inplace=True)', try using 'df.method({col: value}, inplace=True)' or df[col] = df[col].method(value) instead, to perform the operation inplace on the original object.\n",
      "\n",
      "\n",
      "  df['B'].fillna(df['B'].mean(), inplace=True)\n"
     ]
    }
   ],
   "source": [
    "df['B'].fillna(df['B'].mean(), inplace=True)"
   ]
  },
  {
   "cell_type": "code",
   "execution_count": 36,
   "id": "11f27bf5-ad9e-416f-8e91-ab3fb26bd7bb",
   "metadata": {},
   "outputs": [
    {
     "name": "stdout",
     "output_type": "stream",
     "text": [
      "A    1\n",
      "B    1\n",
      "C    0\n",
      "dtype: int64\n"
     ]
    }
   ],
   "source": [
    "print(df.isnull().sum())  # Count per column"
   ]
  },
  {
   "cell_type": "code",
   "execution_count": 42,
   "id": "04be7d3a-3b06-4268-8bf4-b7908524f1c5",
   "metadata": {},
   "outputs": [],
   "source": [
    "df['B'] =df['B'].fillna(df['B'].mean())"
   ]
  },
  {
   "cell_type": "code",
   "execution_count": 43,
   "id": "abd1436d-103f-466b-83e8-961923ec3691",
   "metadata": {},
   "outputs": [
    {
     "name": "stdout",
     "output_type": "stream",
     "text": [
      "     A    B  C\n",
      "0  NaN  5.5  7\n",
      "1  1.0  5.0  8\n",
      "2  NaN  6.0  9\n"
     ]
    }
   ],
   "source": [
    "print(df)     # Column-wise\n"
   ]
  },
  {
   "cell_type": "code",
   "execution_count": 10,
   "id": "a5706caa-f29a-4f99-ae9d-5ce12bc99aaa",
   "metadata": {},
   "outputs": [
    {
     "name": "stdout",
     "output_type": "stream",
     "text": [
      "True\n"
     ]
    }
   ],
   "source": [
    "print(df.isnull().values.any())  # Whole DataFrame"
   ]
  },
  {
   "cell_type": "code",
   "execution_count": 43,
   "id": "91b6eac7-8b6f-4595-9928-faea3c82ef59",
   "metadata": {},
   "outputs": [],
   "source": [
    "df_cleaned = df.dropna(thresh=2) #Drop Rows with Any Null"
   ]
  },
  {
   "cell_type": "code",
   "execution_count": 44,
   "id": "699dba62-2b08-4d33-a471-d226e7a8b87f",
   "metadata": {},
   "outputs": [
    {
     "data": {
      "text/html": [
       "<div>\n",
       "<style scoped>\n",
       "    .dataframe tbody tr th:only-of-type {\n",
       "        vertical-align: middle;\n",
       "    }\n",
       "\n",
       "    .dataframe tbody tr th {\n",
       "        vertical-align: top;\n",
       "    }\n",
       "\n",
       "    .dataframe thead th {\n",
       "        text-align: right;\n",
       "    }\n",
       "</style>\n",
       "<table border=\"1\" class=\"dataframe\">\n",
       "  <thead>\n",
       "    <tr style=\"text-align: right;\">\n",
       "      <th></th>\n",
       "      <th>A</th>\n",
       "      <th>B</th>\n",
       "      <th>C</th>\n",
       "    </tr>\n",
       "  </thead>\n",
       "  <tbody>\n",
       "    <tr>\n",
       "      <th>1</th>\n",
       "      <td>1.0</td>\n",
       "      <td>5.0</td>\n",
       "      <td>8</td>\n",
       "    </tr>\n",
       "    <tr>\n",
       "      <th>2</th>\n",
       "      <td>NaN</td>\n",
       "      <td>6.0</td>\n",
       "      <td>9</td>\n",
       "    </tr>\n",
       "  </tbody>\n",
       "</table>\n",
       "</div>"
      ],
      "text/plain": [
       "     A    B  C\n",
       "1  1.0  5.0  8\n",
       "2  NaN  6.0  9"
      ]
     },
     "execution_count": 44,
     "metadata": {},
     "output_type": "execute_result"
    }
   ],
   "source": [
    "df_cleaned "
   ]
  },
  {
   "cell_type": "code",
   "execution_count": 46,
   "id": "def8695a-8b4c-4c34-b920-650cfbf7b097",
   "metadata": {},
   "outputs": [
    {
     "name": "stdout",
     "output_type": "stream",
     "text": [
      "   C\n",
      "0  7\n",
      "1  8\n",
      "2  9\n"
     ]
    }
   ],
   "source": [
    "clean_df =df.dropna(axis=1) \n",
    "\n",
    "print(clean_df)"
   ]
  },
  {
   "cell_type": "code",
   "execution_count": 17,
   "id": "6fdd2844-ed59-4156-b7d7-2df87b55d3ec",
   "metadata": {},
   "outputs": [
    {
     "data": {
      "text/html": [
       "<div>\n",
       "<style scoped>\n",
       "    .dataframe tbody tr th:only-of-type {\n",
       "        vertical-align: middle;\n",
       "    }\n",
       "\n",
       "    .dataframe tbody tr th {\n",
       "        vertical-align: top;\n",
       "    }\n",
       "\n",
       "    .dataframe thead th {\n",
       "        text-align: right;\n",
       "    }\n",
       "</style>\n",
       "<table border=\"1\" class=\"dataframe\">\n",
       "  <thead>\n",
       "    <tr style=\"text-align: right;\">\n",
       "      <th></th>\n",
       "      <th>A</th>\n",
       "      <th>B</th>\n",
       "      <th>C</th>\n",
       "    </tr>\n",
       "  </thead>\n",
       "  <tbody>\n",
       "    <tr>\n",
       "      <th>0</th>\n",
       "      <td>1.0</td>\n",
       "      <td>NaN</td>\n",
       "      <td>7</td>\n",
       "    </tr>\n",
       "    <tr>\n",
       "      <th>1</th>\n",
       "      <td>2.0</td>\n",
       "      <td>5.0</td>\n",
       "      <td>8</td>\n",
       "    </tr>\n",
       "    <tr>\n",
       "      <th>2</th>\n",
       "      <td>NaN</td>\n",
       "      <td>6.0</td>\n",
       "      <td>9</td>\n",
       "    </tr>\n",
       "  </tbody>\n",
       "</table>\n",
       "</div>"
      ],
      "text/plain": [
       "     A    B  C\n",
       "0  1.0  NaN  7\n",
       "1  2.0  5.0  8\n",
       "2  NaN  6.0  9"
      ]
     },
     "execution_count": 17,
     "metadata": {},
     "output_type": "execute_result"
    }
   ],
   "source": [
    "df.dropna(how='all') #Drop Only If All Values Are Null\n",
    "\n"
   ]
  },
  {
   "cell_type": "code",
   "execution_count": 49,
   "id": "f8581cf7-f83f-492f-8e0f-65ad05526863",
   "metadata": {},
   "outputs": [
    {
     "data": {
      "text/html": [
       "<div>\n",
       "<style scoped>\n",
       "    .dataframe tbody tr th:only-of-type {\n",
       "        vertical-align: middle;\n",
       "    }\n",
       "\n",
       "    .dataframe tbody tr th {\n",
       "        vertical-align: top;\n",
       "    }\n",
       "\n",
       "    .dataframe thead th {\n",
       "        text-align: right;\n",
       "    }\n",
       "</style>\n",
       "<table border=\"1\" class=\"dataframe\">\n",
       "  <thead>\n",
       "    <tr style=\"text-align: right;\">\n",
       "      <th></th>\n",
       "      <th>A</th>\n",
       "      <th>B</th>\n",
       "      <th>C</th>\n",
       "    </tr>\n",
       "  </thead>\n",
       "  <tbody>\n",
       "    <tr>\n",
       "      <th>0</th>\n",
       "      <td>NaN</td>\n",
       "      <td>NaN</td>\n",
       "      <td>7</td>\n",
       "    </tr>\n",
       "    <tr>\n",
       "      <th>1</th>\n",
       "      <td>1.0</td>\n",
       "      <td>5.0</td>\n",
       "      <td>8</td>\n",
       "    </tr>\n",
       "    <tr>\n",
       "      <th>2</th>\n",
       "      <td>NaN</td>\n",
       "      <td>6.0</td>\n",
       "      <td>9</td>\n",
       "    </tr>\n",
       "  </tbody>\n",
       "</table>\n",
       "</div>"
      ],
      "text/plain": [
       "     A    B  C\n",
       "0  NaN  NaN  7\n",
       "1  1.0  5.0  8\n",
       "2  NaN  6.0  9"
      ]
     },
     "execution_count": 49,
     "metadata": {},
     "output_type": "execute_result"
    }
   ],
   "source": [
    "df"
   ]
  },
  {
   "cell_type": "code",
   "execution_count": 50,
   "id": "5a346cae-4c65-4b19-89e6-232d33a2fe82",
   "metadata": {},
   "outputs": [
    {
     "name": "stderr",
     "output_type": "stream",
     "text": [
      "C:\\Users\\babje\\AppData\\Local\\Temp\\ipykernel_1816\\3824997012.py:1: FutureWarning: A value is trying to be set on a copy of a DataFrame or Series through chained assignment using an inplace method.\n",
      "The behavior will change in pandas 3.0. This inplace method will never work because the intermediate object on which we are setting values always behaves as a copy.\n",
      "\n",
      "For example, when doing 'df[col].method(value, inplace=True)', try using 'df.method({col: value}, inplace=True)' or df[col] = df[col].method(value) instead, to perform the operation inplace on the original object.\n",
      "\n",
      "\n",
      "  df['A'].fillna(df['A'].mean(), inplace=True)\n"
     ]
    }
   ],
   "source": [
    "df['A'].fillna(df['A'].mean(), inplace=True)\n"
   ]
  },
  {
   "cell_type": "code",
   "execution_count": 51,
   "id": "097ebcab-e1f6-4979-abed-641474fba4c3",
   "metadata": {},
   "outputs": [
    {
     "data": {
      "text/html": [
       "<div>\n",
       "<style scoped>\n",
       "    .dataframe tbody tr th:only-of-type {\n",
       "        vertical-align: middle;\n",
       "    }\n",
       "\n",
       "    .dataframe tbody tr th {\n",
       "        vertical-align: top;\n",
       "    }\n",
       "\n",
       "    .dataframe thead th {\n",
       "        text-align: right;\n",
       "    }\n",
       "</style>\n",
       "<table border=\"1\" class=\"dataframe\">\n",
       "  <thead>\n",
       "    <tr style=\"text-align: right;\">\n",
       "      <th></th>\n",
       "      <th>A</th>\n",
       "      <th>B</th>\n",
       "      <th>C</th>\n",
       "    </tr>\n",
       "  </thead>\n",
       "  <tbody>\n",
       "    <tr>\n",
       "      <th>0</th>\n",
       "      <td>1.0</td>\n",
       "      <td>NaN</td>\n",
       "      <td>7</td>\n",
       "    </tr>\n",
       "    <tr>\n",
       "      <th>1</th>\n",
       "      <td>1.0</td>\n",
       "      <td>5.0</td>\n",
       "      <td>8</td>\n",
       "    </tr>\n",
       "    <tr>\n",
       "      <th>2</th>\n",
       "      <td>1.0</td>\n",
       "      <td>6.0</td>\n",
       "      <td>9</td>\n",
       "    </tr>\n",
       "  </tbody>\n",
       "</table>\n",
       "</div>"
      ],
      "text/plain": [
       "     A    B  C\n",
       "0  1.0  NaN  7\n",
       "1  1.0  5.0  8\n",
       "2  1.0  6.0  9"
      ]
     },
     "execution_count": 51,
     "metadata": {},
     "output_type": "execute_result"
    }
   ],
   "source": [
    "df"
   ]
  },
  {
   "cell_type": "code",
   "execution_count": 44,
   "id": "48f9d67e-1d4f-4d30-93ea-309a433977f3",
   "metadata": {},
   "outputs": [],
   "source": [
    "df = pd.DataFrame({\n",
    "    'A': [1, 2, np.nan],\n",
    "    'B': [np.nan, 5, 6],\n",
    "    'C': [7, 8, 9]\n",
    "})"
   ]
  },
  {
   "cell_type": "code",
   "execution_count": 59,
   "id": "1d97727f-a517-43c6-a30c-df98b45077d7",
   "metadata": {},
   "outputs": [
    {
     "data": {
      "text/html": [
       "<div>\n",
       "<style scoped>\n",
       "    .dataframe tbody tr th:only-of-type {\n",
       "        vertical-align: middle;\n",
       "    }\n",
       "\n",
       "    .dataframe tbody tr th {\n",
       "        vertical-align: top;\n",
       "    }\n",
       "\n",
       "    .dataframe thead th {\n",
       "        text-align: right;\n",
       "    }\n",
       "</style>\n",
       "<table border=\"1\" class=\"dataframe\">\n",
       "  <thead>\n",
       "    <tr style=\"text-align: right;\">\n",
       "      <th></th>\n",
       "      <th>A</th>\n",
       "      <th>B</th>\n",
       "      <th>C</th>\n",
       "    </tr>\n",
       "  </thead>\n",
       "  <tbody>\n",
       "    <tr>\n",
       "      <th>0</th>\n",
       "      <td>1.0</td>\n",
       "      <td>5.0</td>\n",
       "      <td>7</td>\n",
       "    </tr>\n",
       "    <tr>\n",
       "      <th>1</th>\n",
       "      <td>2.0</td>\n",
       "      <td>5.0</td>\n",
       "      <td>8</td>\n",
       "    </tr>\n",
       "    <tr>\n",
       "      <th>2</th>\n",
       "      <td>2.0</td>\n",
       "      <td>6.0</td>\n",
       "      <td>9</td>\n",
       "    </tr>\n",
       "  </tbody>\n",
       "</table>\n",
       "</div>"
      ],
      "text/plain": [
       "     A    B  C\n",
       "0  1.0  5.0  7\n",
       "1  2.0  5.0  8\n",
       "2  2.0  6.0  9"
      ]
     },
     "execution_count": 59,
     "metadata": {},
     "output_type": "execute_result"
    }
   ],
   "source": [
    "df.bfill().ffill()"
   ]
  },
  {
   "cell_type": "code",
   "execution_count": 48,
   "id": "dd26f16b-ace0-4c93-9821-ff718bdfafa7",
   "metadata": {},
   "outputs": [
    {
     "name": "stderr",
     "output_type": "stream",
     "text": [
      "C:\\Users\\babje\\AppData\\Local\\Temp\\ipykernel_1284\\2831856154.py:1: FutureWarning: DataFrame.fillna with 'method' is deprecated and will raise in a future version. Use obj.ffill() or obj.bfill() instead.\n",
      "  df.fillna(method='bfill')\n"
     ]
    },
    {
     "data": {
      "text/html": [
       "<div>\n",
       "<style scoped>\n",
       "    .dataframe tbody tr th:only-of-type {\n",
       "        vertical-align: middle;\n",
       "    }\n",
       "\n",
       "    .dataframe tbody tr th {\n",
       "        vertical-align: top;\n",
       "    }\n",
       "\n",
       "    .dataframe thead th {\n",
       "        text-align: right;\n",
       "    }\n",
       "</style>\n",
       "<table border=\"1\" class=\"dataframe\">\n",
       "  <thead>\n",
       "    <tr style=\"text-align: right;\">\n",
       "      <th></th>\n",
       "      <th>A</th>\n",
       "      <th>B</th>\n",
       "      <th>C</th>\n",
       "    </tr>\n",
       "  </thead>\n",
       "  <tbody>\n",
       "    <tr>\n",
       "      <th>0</th>\n",
       "      <td>1.0</td>\n",
       "      <td>5.0</td>\n",
       "      <td>7</td>\n",
       "    </tr>\n",
       "    <tr>\n",
       "      <th>1</th>\n",
       "      <td>2.0</td>\n",
       "      <td>5.0</td>\n",
       "      <td>8</td>\n",
       "    </tr>\n",
       "    <tr>\n",
       "      <th>2</th>\n",
       "      <td>NaN</td>\n",
       "      <td>6.0</td>\n",
       "      <td>9</td>\n",
       "    </tr>\n",
       "  </tbody>\n",
       "</table>\n",
       "</div>"
      ],
      "text/plain": [
       "     A    B  C\n",
       "0  1.0  5.0  7\n",
       "1  2.0  5.0  8\n",
       "2  NaN  6.0  9"
      ]
     },
     "execution_count": 48,
     "metadata": {},
     "output_type": "execute_result"
    }
   ],
   "source": [
    "df.fillna(method='bfill')"
   ]
  },
  {
   "cell_type": "code",
   "execution_count": 36,
   "id": "790e60a3-e54c-444d-ac08-aebb6e87a52b",
   "metadata": {},
   "outputs": [
    {
     "name": "stderr",
     "output_type": "stream",
     "text": [
      "C:\\Users\\babje\\AppData\\Local\\Temp\\ipykernel_5844\\2831856154.py:1: FutureWarning: DataFrame.fillna with 'method' is deprecated and will raise in a future version. Use obj.ffill() or obj.bfill() instead.\n",
      "  df.fillna(method='bfill')\n"
     ]
    },
    {
     "data": {
      "text/html": [
       "<div>\n",
       "<style scoped>\n",
       "    .dataframe tbody tr th:only-of-type {\n",
       "        vertical-align: middle;\n",
       "    }\n",
       "\n",
       "    .dataframe tbody tr th {\n",
       "        vertical-align: top;\n",
       "    }\n",
       "\n",
       "    .dataframe thead th {\n",
       "        text-align: right;\n",
       "    }\n",
       "</style>\n",
       "<table border=\"1\" class=\"dataframe\">\n",
       "  <thead>\n",
       "    <tr style=\"text-align: right;\">\n",
       "      <th></th>\n",
       "      <th>A</th>\n",
       "      <th>B</th>\n",
       "      <th>C</th>\n",
       "    </tr>\n",
       "  </thead>\n",
       "  <tbody>\n",
       "    <tr>\n",
       "      <th>0</th>\n",
       "      <td>1.0</td>\n",
       "      <td>5.0</td>\n",
       "      <td>7</td>\n",
       "    </tr>\n",
       "    <tr>\n",
       "      <th>1</th>\n",
       "      <td>2.0</td>\n",
       "      <td>5.0</td>\n",
       "      <td>8</td>\n",
       "    </tr>\n",
       "    <tr>\n",
       "      <th>2</th>\n",
       "      <td>NaN</td>\n",
       "      <td>6.0</td>\n",
       "      <td>9</td>\n",
       "    </tr>\n",
       "  </tbody>\n",
       "</table>\n",
       "</div>"
      ],
      "text/plain": [
       "     A    B  C\n",
       "0  1.0  5.0  7\n",
       "1  2.0  5.0  8\n",
       "2  NaN  6.0  9"
      ]
     },
     "execution_count": 36,
     "metadata": {},
     "output_type": "execute_result"
    }
   ],
   "source": [
    "df.fillna(method='bfill')"
   ]
  },
  {
   "cell_type": "code",
   "execution_count": 37,
   "id": "e471bd8f-2e96-4615-a0ff-2e02bd06f8d4",
   "metadata": {},
   "outputs": [
    {
     "data": {
      "text/html": [
       "<div>\n",
       "<style scoped>\n",
       "    .dataframe tbody tr th:only-of-type {\n",
       "        vertical-align: middle;\n",
       "    }\n",
       "\n",
       "    .dataframe tbody tr th {\n",
       "        vertical-align: top;\n",
       "    }\n",
       "\n",
       "    .dataframe thead th {\n",
       "        text-align: right;\n",
       "    }\n",
       "</style>\n",
       "<table border=\"1\" class=\"dataframe\">\n",
       "  <thead>\n",
       "    <tr style=\"text-align: right;\">\n",
       "      <th></th>\n",
       "      <th>A</th>\n",
       "      <th>B</th>\n",
       "      <th>C</th>\n",
       "    </tr>\n",
       "  </thead>\n",
       "  <tbody>\n",
       "    <tr>\n",
       "      <th>0</th>\n",
       "      <td>1.0</td>\n",
       "      <td>NaN</td>\n",
       "      <td>7</td>\n",
       "    </tr>\n",
       "    <tr>\n",
       "      <th>1</th>\n",
       "      <td>2.0</td>\n",
       "      <td>5.0</td>\n",
       "      <td>8</td>\n",
       "    </tr>\n",
       "    <tr>\n",
       "      <th>2</th>\n",
       "      <td>NaN</td>\n",
       "      <td>6.0</td>\n",
       "      <td>9</td>\n",
       "    </tr>\n",
       "  </tbody>\n",
       "</table>\n",
       "</div>"
      ],
      "text/plain": [
       "     A    B  C\n",
       "0  1.0  NaN  7\n",
       "1  2.0  5.0  8\n",
       "2  NaN  6.0  9"
      ]
     },
     "execution_count": 37,
     "metadata": {},
     "output_type": "execute_result"
    }
   ],
   "source": [
    "df"
   ]
  },
  {
   "cell_type": "code",
   "execution_count": 52,
   "id": "27d635f6-ff06-4954-91f7-ad742baf970b",
   "metadata": {},
   "outputs": [
    {
     "data": {
      "text/html": [
       "<div>\n",
       "<style scoped>\n",
       "    .dataframe tbody tr th:only-of-type {\n",
       "        vertical-align: middle;\n",
       "    }\n",
       "\n",
       "    .dataframe tbody tr th {\n",
       "        vertical-align: top;\n",
       "    }\n",
       "\n",
       "    .dataframe thead th {\n",
       "        text-align: right;\n",
       "    }\n",
       "</style>\n",
       "<table border=\"1\" class=\"dataframe\">\n",
       "  <thead>\n",
       "    <tr style=\"text-align: right;\">\n",
       "      <th></th>\n",
       "      <th>A</th>\n",
       "      <th>B</th>\n",
       "      <th>C</th>\n",
       "    </tr>\n",
       "  </thead>\n",
       "  <tbody>\n",
       "    <tr>\n",
       "      <th>0</th>\n",
       "      <td>1.0</td>\n",
       "      <td>NaN</td>\n",
       "      <td>7</td>\n",
       "    </tr>\n",
       "    <tr>\n",
       "      <th>1</th>\n",
       "      <td>1.0</td>\n",
       "      <td>5.0</td>\n",
       "      <td>8</td>\n",
       "    </tr>\n",
       "    <tr>\n",
       "      <th>2</th>\n",
       "      <td>1.0</td>\n",
       "      <td>6.0</td>\n",
       "      <td>9</td>\n",
       "    </tr>\n",
       "  </tbody>\n",
       "</table>\n",
       "</div>"
      ],
      "text/plain": [
       "     A    B  C\n",
       "0  1.0  NaN  7\n",
       "1  1.0  5.0  8\n",
       "2  1.0  6.0  9"
      ]
     },
     "execution_count": 52,
     "metadata": {},
     "output_type": "execute_result"
    }
   ],
   "source": [
    "df"
   ]
  },
  {
   "cell_type": "code",
   "execution_count": 53,
   "id": "fb4f37b0-f2e7-4234-b1d3-970b1b876355",
   "metadata": {},
   "outputs": [],
   "source": [
    "df['B'] = df['B'].apply(lambda x: 0 if pd.isnull(x) else x)\n"
   ]
  },
  {
   "cell_type": "code",
   "execution_count": 54,
   "id": "41313156-1ab1-4222-93ba-aa0d28b2afb0",
   "metadata": {},
   "outputs": [
    {
     "data": {
      "text/html": [
       "<div>\n",
       "<style scoped>\n",
       "    .dataframe tbody tr th:only-of-type {\n",
       "        vertical-align: middle;\n",
       "    }\n",
       "\n",
       "    .dataframe tbody tr th {\n",
       "        vertical-align: top;\n",
       "    }\n",
       "\n",
       "    .dataframe thead th {\n",
       "        text-align: right;\n",
       "    }\n",
       "</style>\n",
       "<table border=\"1\" class=\"dataframe\">\n",
       "  <thead>\n",
       "    <tr style=\"text-align: right;\">\n",
       "      <th></th>\n",
       "      <th>A</th>\n",
       "      <th>B</th>\n",
       "      <th>C</th>\n",
       "    </tr>\n",
       "  </thead>\n",
       "  <tbody>\n",
       "    <tr>\n",
       "      <th>0</th>\n",
       "      <td>1.0</td>\n",
       "      <td>0.0</td>\n",
       "      <td>7</td>\n",
       "    </tr>\n",
       "    <tr>\n",
       "      <th>1</th>\n",
       "      <td>1.0</td>\n",
       "      <td>5.0</td>\n",
       "      <td>8</td>\n",
       "    </tr>\n",
       "    <tr>\n",
       "      <th>2</th>\n",
       "      <td>1.0</td>\n",
       "      <td>6.0</td>\n",
       "      <td>9</td>\n",
       "    </tr>\n",
       "  </tbody>\n",
       "</table>\n",
       "</div>"
      ],
      "text/plain": [
       "     A    B  C\n",
       "0  1.0  0.0  7\n",
       "1  1.0  5.0  8\n",
       "2  1.0  6.0  9"
      ]
     },
     "execution_count": 54,
     "metadata": {},
     "output_type": "execute_result"
    }
   ],
   "source": [
    "df"
   ]
  },
  {
   "cell_type": "code",
   "execution_count": 41,
   "id": "45e9a097-bc5e-48e1-937d-055ad6591703",
   "metadata": {},
   "outputs": [
    {
     "data": {
      "text/html": [
       "<div>\n",
       "<style scoped>\n",
       "    .dataframe tbody tr th:only-of-type {\n",
       "        vertical-align: middle;\n",
       "    }\n",
       "\n",
       "    .dataframe tbody tr th {\n",
       "        vertical-align: top;\n",
       "    }\n",
       "\n",
       "    .dataframe thead th {\n",
       "        text-align: right;\n",
       "    }\n",
       "</style>\n",
       "<table border=\"1\" class=\"dataframe\">\n",
       "  <thead>\n",
       "    <tr style=\"text-align: right;\">\n",
       "      <th></th>\n",
       "      <th>A</th>\n",
       "      <th>B</th>\n",
       "      <th>C</th>\n",
       "    </tr>\n",
       "  </thead>\n",
       "  <tbody>\n",
       "    <tr>\n",
       "      <th>0</th>\n",
       "      <td>1.0</td>\n",
       "      <td>NaN</td>\n",
       "      <td>7</td>\n",
       "    </tr>\n",
       "  </tbody>\n",
       "</table>\n",
       "</div>"
      ],
      "text/plain": [
       "     A   B  C\n",
       "0  1.0 NaN  7"
      ]
     },
     "execution_count": 41,
     "metadata": {},
     "output_type": "execute_result"
    }
   ],
   "source": [
    "df[df['B'].isnull()]  # filter the row with null"
   ]
  },
  {
   "cell_type": "code",
   "execution_count": 45,
   "id": "b2c2d47b-edab-4967-af1b-fe60d5f72a9e",
   "metadata": {},
   "outputs": [
    {
     "data": {
      "text/html": [
       "<div>\n",
       "<style scoped>\n",
       "    .dataframe tbody tr th:only-of-type {\n",
       "        vertical-align: middle;\n",
       "    }\n",
       "\n",
       "    .dataframe tbody tr th {\n",
       "        vertical-align: top;\n",
       "    }\n",
       "\n",
       "    .dataframe thead th {\n",
       "        text-align: right;\n",
       "    }\n",
       "</style>\n",
       "<table border=\"1\" class=\"dataframe\">\n",
       "  <thead>\n",
       "    <tr style=\"text-align: right;\">\n",
       "      <th></th>\n",
       "      <th>A</th>\n",
       "      <th>B</th>\n",
       "      <th>C</th>\n",
       "    </tr>\n",
       "  </thead>\n",
       "  <tbody>\n",
       "    <tr>\n",
       "      <th>1</th>\n",
       "      <td>2.0</td>\n",
       "      <td>5.0</td>\n",
       "      <td>8</td>\n",
       "    </tr>\n",
       "    <tr>\n",
       "      <th>2</th>\n",
       "      <td>0.0</td>\n",
       "      <td>6.0</td>\n",
       "      <td>9</td>\n",
       "    </tr>\n",
       "  </tbody>\n",
       "</table>\n",
       "</div>"
      ],
      "text/plain": [
       "     A    B  C\n",
       "1  2.0  5.0  8\n",
       "2  0.0  6.0  9"
      ]
     },
     "execution_count": 45,
     "metadata": {},
     "output_type": "execute_result"
    }
   ],
   "source": [
    "df[df['B'].notnull()]"
   ]
  },
  {
   "cell_type": "code",
   "execution_count": 65,
   "id": "341b7cfb-d55c-41e3-82ea-9fe948a5dcf2",
   "metadata": {},
   "outputs": [],
   "source": [
    "df = pd.DataFrame({'Name':['ram','sham','sunil','ram','sham'],\n",
    "                    'Age':[20,30,20,20,20]})"
   ]
  },
  {
   "cell_type": "code",
   "execution_count": 70,
   "id": "60e1c99a-be86-4c2c-9920-037be15b8b5c",
   "metadata": {},
   "outputs": [
    {
     "name": "stdout",
     "output_type": "stream",
     "text": [
      "    Name  Age\n",
      "0    ram   20\n",
      "1   sham   30\n",
      "2  sunil   20\n",
      "3    ram   20\n",
      "4   sham   20\n",
      "\n",
      "    Name  Age\n",
      "2  sunil   20\n"
     ]
    }
   ],
   "source": [
    "print(df)\n",
    "print()\n",
    "print(df.drop_duplicates(subset='Name', keep=False))"
   ]
  },
  {
   "cell_type": "code",
   "execution_count": null,
   "id": "7bbd0d4d-e3e7-4bb5-8c4f-856c800957d0",
   "metadata": {},
   "outputs": [],
   "source": []
  },
  {
   "cell_type": "code",
   "execution_count": 74,
   "id": "9d20d953-ee06-4324-ba5c-c04ebad725ae",
   "metadata": {},
   "outputs": [
    {
     "name": "stdout",
     "output_type": "stream",
     "text": [
      "    name  age\n",
      "0    ram   30\n",
      "1   sham   40\n",
      "2    ram   30\n",
      "3   sham   30\n",
      "4  susil   40\n",
      "\n",
      "    name  age\n",
      "4  susil   40\n"
     ]
    }
   ],
   "source": [
    "df = pd.DataFrame({'name':['ram','sham','ram','sham','susil'],\n",
    "                   'age':[30,40,30,30,40]})\n",
    "print(df)\n",
    "print()\n",
    "print(df.drop_duplicates(subset='name',keep=False))\n"
   ]
  },
  {
   "cell_type": "code",
   "execution_count": 71,
   "id": "2445d017-634c-4e5b-ae0b-188f4f2a6582",
   "metadata": {},
   "outputs": [
    {
     "name": "stdout",
     "output_type": "stream",
     "text": [
      "   StudentID     Name  Math  Science  English Gender Class\n",
      "0        101    Alice  88.0     90.0     85.0      F   10A\n",
      "1        102      Bob  92.0      NaN     78.0      M   10A\n",
      "2        103  Charlie   NaN     75.0     80.0      M   10B\n",
      "3        104    David  70.0     80.0      NaN      M   10B\n",
      "4        105      Eva  85.0     82.0     88.0      F   10A\n",
      "5        106    Frank   NaN     89.0     90.0      M   10B\n"
     ]
    }
   ],
   "source": [
    "data = {\n",
    "    'StudentID': [101, 102, 103, 104, 105, 106],\n",
    "    'Name': ['Alice', 'Bob', 'Charlie', 'David', 'Eva', 'Frank'],\n",
    "    'Math': [88, 92, np.nan, 70, 85, None],\n",
    "    'Science': [90, np.nan, 75, 80, 82, 89],\n",
    "    'English': [85, 78, 80, np.nan, 88, 90],\n",
    "    'Gender': ['F', 'M', 'M', 'M', 'F', 'M'],\n",
    "    'Class': ['10A', '10A', '10B', '10B', '10A', '10B']\n",
    "}\n",
    "\n",
    "df = pd.DataFrame(data)\n",
    "print(df)\n"
   ]
  },
  {
   "cell_type": "code",
   "execution_count": 49,
   "id": "03e19256-1123-4e42-9838-f985b1935561",
   "metadata": {},
   "outputs": [],
   "source": [
    "df['Math'] = df['Math'].fillna(df['Math'].mean())\n",
    "df['Science'] = df['Science'].fillna(df['Science'].mean())\n",
    "df['English'] = df['English'].fillna(df['English'].mean())"
   ]
  },
  {
   "cell_type": "code",
   "execution_count": 50,
   "id": "71b3e06a-68f2-47ee-b919-81d6ece010ff",
   "metadata": {},
   "outputs": [
    {
     "data": {
      "text/html": [
       "<div>\n",
       "<style scoped>\n",
       "    .dataframe tbody tr th:only-of-type {\n",
       "        vertical-align: middle;\n",
       "    }\n",
       "\n",
       "    .dataframe tbody tr th {\n",
       "        vertical-align: top;\n",
       "    }\n",
       "\n",
       "    .dataframe thead th {\n",
       "        text-align: right;\n",
       "    }\n",
       "</style>\n",
       "<table border=\"1\" class=\"dataframe\">\n",
       "  <thead>\n",
       "    <tr style=\"text-align: right;\">\n",
       "      <th></th>\n",
       "      <th>StudentID</th>\n",
       "      <th>Name</th>\n",
       "      <th>Math</th>\n",
       "      <th>Science</th>\n",
       "      <th>English</th>\n",
       "      <th>Gender</th>\n",
       "      <th>Class</th>\n",
       "    </tr>\n",
       "  </thead>\n",
       "  <tbody>\n",
       "    <tr>\n",
       "      <th>0</th>\n",
       "      <td>101</td>\n",
       "      <td>Alice</td>\n",
       "      <td>88.00</td>\n",
       "      <td>90.0</td>\n",
       "      <td>85.0</td>\n",
       "      <td>F</td>\n",
       "      <td>10A</td>\n",
       "    </tr>\n",
       "    <tr>\n",
       "      <th>1</th>\n",
       "      <td>102</td>\n",
       "      <td>Bob</td>\n",
       "      <td>92.00</td>\n",
       "      <td>83.2</td>\n",
       "      <td>78.0</td>\n",
       "      <td>M</td>\n",
       "      <td>10A</td>\n",
       "    </tr>\n",
       "    <tr>\n",
       "      <th>2</th>\n",
       "      <td>103</td>\n",
       "      <td>Charlie</td>\n",
       "      <td>83.75</td>\n",
       "      <td>75.0</td>\n",
       "      <td>80.0</td>\n",
       "      <td>M</td>\n",
       "      <td>10B</td>\n",
       "    </tr>\n",
       "    <tr>\n",
       "      <th>3</th>\n",
       "      <td>104</td>\n",
       "      <td>David</td>\n",
       "      <td>70.00</td>\n",
       "      <td>80.0</td>\n",
       "      <td>84.2</td>\n",
       "      <td>M</td>\n",
       "      <td>10B</td>\n",
       "    </tr>\n",
       "    <tr>\n",
       "      <th>4</th>\n",
       "      <td>105</td>\n",
       "      <td>Eva</td>\n",
       "      <td>85.00</td>\n",
       "      <td>82.0</td>\n",
       "      <td>88.0</td>\n",
       "      <td>F</td>\n",
       "      <td>10A</td>\n",
       "    </tr>\n",
       "    <tr>\n",
       "      <th>5</th>\n",
       "      <td>106</td>\n",
       "      <td>Frank</td>\n",
       "      <td>83.75</td>\n",
       "      <td>89.0</td>\n",
       "      <td>90.0</td>\n",
       "      <td>M</td>\n",
       "      <td>10B</td>\n",
       "    </tr>\n",
       "  </tbody>\n",
       "</table>\n",
       "</div>"
      ],
      "text/plain": [
       "   StudentID     Name   Math  Science  English Gender Class\n",
       "0        101    Alice  88.00     90.0     85.0      F   10A\n",
       "1        102      Bob  92.00     83.2     78.0      M   10A\n",
       "2        103  Charlie  83.75     75.0     80.0      M   10B\n",
       "3        104    David  70.00     80.0     84.2      M   10B\n",
       "4        105      Eva  85.00     82.0     88.0      F   10A\n",
       "5        106    Frank  83.75     89.0     90.0      M   10B"
      ]
     },
     "execution_count": 50,
     "metadata": {},
     "output_type": "execute_result"
    }
   ],
   "source": [
    "df"
   ]
  },
  {
   "cell_type": "code",
   "execution_count": 73,
   "id": "02b8f661-3118-4b6f-956e-52f957e42fab",
   "metadata": {},
   "outputs": [],
   "source": [
    "df['Total'] = df[['Math', 'Science', 'English']].sum(axis=1)\n",
    "df['Average'] = round(df['Total'] / 3,0)\n"
   ]
  },
  {
   "cell_type": "code",
   "execution_count": 78,
   "id": "c40b58c2-aef4-4166-9488-c33fb25c4d4e",
   "metadata": {},
   "outputs": [
    {
     "data": {
      "text/html": [
       "<div>\n",
       "<style scoped>\n",
       "    .dataframe tbody tr th:only-of-type {\n",
       "        vertical-align: middle;\n",
       "    }\n",
       "\n",
       "    .dataframe tbody tr th {\n",
       "        vertical-align: top;\n",
       "    }\n",
       "\n",
       "    .dataframe thead th {\n",
       "        text-align: right;\n",
       "    }\n",
       "</style>\n",
       "<table border=\"1\" class=\"dataframe\">\n",
       "  <thead>\n",
       "    <tr style=\"text-align: right;\">\n",
       "      <th></th>\n",
       "      <th>StudentID</th>\n",
       "      <th>Name</th>\n",
       "      <th>Math</th>\n",
       "      <th>Science</th>\n",
       "      <th>English</th>\n",
       "      <th>Gender</th>\n",
       "      <th>Class</th>\n",
       "      <th>Total</th>\n",
       "      <th>Average</th>\n",
       "    </tr>\n",
       "  </thead>\n",
       "  <tbody>\n",
       "    <tr>\n",
       "      <th>0</th>\n",
       "      <td>101</td>\n",
       "      <td>Alice</td>\n",
       "      <td>88.0</td>\n",
       "      <td>90.0</td>\n",
       "      <td>85.0</td>\n",
       "      <td>F</td>\n",
       "      <td>10A</td>\n",
       "      <td>263.0</td>\n",
       "      <td>88.0</td>\n",
       "    </tr>\n",
       "    <tr>\n",
       "      <th>1</th>\n",
       "      <td>102</td>\n",
       "      <td>Bob</td>\n",
       "      <td>92.0</td>\n",
       "      <td>NaN</td>\n",
       "      <td>78.0</td>\n",
       "      <td>M</td>\n",
       "      <td>10A</td>\n",
       "      <td>170.0</td>\n",
       "      <td>57.0</td>\n",
       "    </tr>\n",
       "    <tr>\n",
       "      <th>2</th>\n",
       "      <td>103</td>\n",
       "      <td>Charlie</td>\n",
       "      <td>NaN</td>\n",
       "      <td>75.0</td>\n",
       "      <td>80.0</td>\n",
       "      <td>M</td>\n",
       "      <td>10B</td>\n",
       "      <td>155.0</td>\n",
       "      <td>52.0</td>\n",
       "    </tr>\n",
       "    <tr>\n",
       "      <th>3</th>\n",
       "      <td>104</td>\n",
       "      <td>David</td>\n",
       "      <td>70.0</td>\n",
       "      <td>80.0</td>\n",
       "      <td>NaN</td>\n",
       "      <td>M</td>\n",
       "      <td>10B</td>\n",
       "      <td>150.0</td>\n",
       "      <td>50.0</td>\n",
       "    </tr>\n",
       "    <tr>\n",
       "      <th>4</th>\n",
       "      <td>105</td>\n",
       "      <td>Eva</td>\n",
       "      <td>85.0</td>\n",
       "      <td>82.0</td>\n",
       "      <td>88.0</td>\n",
       "      <td>F</td>\n",
       "      <td>10A</td>\n",
       "      <td>255.0</td>\n",
       "      <td>85.0</td>\n",
       "    </tr>\n",
       "    <tr>\n",
       "      <th>5</th>\n",
       "      <td>106</td>\n",
       "      <td>Frank</td>\n",
       "      <td>NaN</td>\n",
       "      <td>89.0</td>\n",
       "      <td>90.0</td>\n",
       "      <td>M</td>\n",
       "      <td>10B</td>\n",
       "      <td>179.0</td>\n",
       "      <td>60.0</td>\n",
       "    </tr>\n",
       "  </tbody>\n",
       "</table>\n",
       "</div>"
      ],
      "text/plain": [
       "   StudentID     Name  Math  Science  English Gender Class  Total  Average\n",
       "0        101    Alice  88.0     90.0     85.0      F   10A  263.0     88.0\n",
       "1        102      Bob  92.0      NaN     78.0      M   10A  170.0     57.0\n",
       "2        103  Charlie   NaN     75.0     80.0      M   10B  155.0     52.0\n",
       "3        104    David  70.0     80.0      NaN      M   10B  150.0     50.0\n",
       "4        105      Eva  85.0     82.0     88.0      F   10A  255.0     85.0\n",
       "5        106    Frank   NaN     89.0     90.0      M   10B  179.0     60.0"
      ]
     },
     "execution_count": 78,
     "metadata": {},
     "output_type": "execute_result"
    }
   ],
   "source": [
    "df"
   ]
  },
  {
   "cell_type": "code",
   "execution_count": 53,
   "id": "3ded5723-3b9c-4903-b813-f41356d9ad14",
   "metadata": {},
   "outputs": [
    {
     "name": "stdout",
     "output_type": "stream",
     "text": [
      "        Math  Science  English  Average\n",
      "Class                                  \n",
      "10A    88.33    85.07    83.67    85.69\n",
      "10B    79.17    81.33    84.73    81.74\n"
     ]
    }
   ],
   "source": [
    "class_summary = df.groupby('Class')[['Math','Science','English','Average']].mean().round(2)\n",
    "print(class_summary)"
   ]
  },
  {
   "cell_type": "code",
   "execution_count": 94,
   "id": "d1773a64-ae83-48c7-8f4c-f8d41f9863b8",
   "metadata": {},
   "outputs": [
    {
     "name": "stdout",
     "output_type": "stream",
     "text": [
      "Alice Average is 88.0\n"
     ]
    }
   ],
   "source": [
    "max_avg=df.loc[df['Average'].idxmax()]\n",
    "print(max_avg['Name'], \"Average is\",  max_avg['Average'] )"
   ]
  },
  {
   "cell_type": "code",
   "execution_count": 96,
   "id": "ab8f6d3f-2f20-49fb-846b-dbb41bcc4e07",
   "metadata": {},
   "outputs": [
    {
     "name": "stdout",
     "output_type": "stream",
     "text": [
      "David Average is 50.0\n"
     ]
    }
   ],
   "source": [
    "min_avg=df.loc[df['Average'].idxmin()]\n",
    "print(min_avg['Name'], \"Average is\",  min_avg['Average'] )"
   ]
  },
  {
   "cell_type": "code",
   "execution_count": 99,
   "id": "c1ff6a26-5f4a-4740-8b4b-c35d6199dfb6",
   "metadata": {},
   "outputs": [
    {
     "name": "stdout",
     "output_type": "stream",
     "text": [
      "Topper In Maths is  David With marks 70.0\n"
     ]
    }
   ],
   "source": [
    "topper=df.loc[df['Math'].idxmin()]\n",
    "print(\"Topper In Maths is \", topper['Name'], \"With marks\",  topper['Math'] )"
   ]
  },
  {
   "cell_type": "code",
   "execution_count": 74,
   "id": "816c0882-0430-44fb-89d5-633f78ea6fbd",
   "metadata": {},
   "outputs": [
    {
     "name": "stdout",
     "output_type": "stream",
     "text": [
      "StudentID      101\n",
      "Name         Alice\n",
      "Math          88.0\n",
      "Science       90.0\n",
      "English       85.0\n",
      "Gender           F\n",
      "Class          10A\n",
      "Total        263.0\n",
      "Average       88.0\n",
      "Name: 0, dtype: object\n",
      "Topper: Alice with average score of 88\n"
     ]
    }
   ],
   "source": [
    "topper = df.loc[df['Average'].idxmax()]\n",
    "print(\"Topper:\", topper['Name'], \"with average score of\",round(topper['Average']))"
   ]
  },
  {
   "cell_type": "code",
   "execution_count": 78,
   "id": "ba72ba01-22bb-4008-b062-d93f080bc62b",
   "metadata": {},
   "outputs": [],
   "source": [
    "df.to_csv('c:/Python_Challenge/student.csv',index=False,header=False,sep='|')"
   ]
  },
  {
   "cell_type": "code",
   "execution_count": 83,
   "id": "898f86d0-7dc6-4c11-9190-3dd6b0a1eaad",
   "metadata": {},
   "outputs": [
    {
     "name": "stdout",
     "output_type": "stream",
     "text": [
      "    id     name  Maths  Science  English Gender Class  Total  Average\n",
      "0  101    Alice   88.0     90.0     85.0      F   10A  263.0     88.0\n",
      "1  102      Bob   92.0      NaN     78.0      M   10A  170.0     57.0\n",
      "2  103  Charlie    NaN     75.0     80.0      M   10B  155.0     52.0\n",
      "3  104    David   70.0     80.0      NaN      M   10B  150.0     50.0\n",
      "4  105      Eva   85.0     82.0     88.0      F   10A  255.0     85.0\n",
      "5  106    Frank    NaN     89.0     90.0      M   10B  179.0     60.0\n"
     ]
    }
   ],
   "source": [
    "df_student =pd.read_csv('c:/python_challenge/student.csv',sep='|',\n",
    "                        names=['id','name','Maths','Science','English','Gender',\n",
    "                               'Class','Total','Average'], skiprows=2)\n",
    "print(df_student)"
   ]
  },
  {
   "cell_type": "code",
   "execution_count": 86,
   "id": "d6530822-7310-49fb-94b1-26e3d2a03546",
   "metadata": {},
   "outputs": [],
   "source": [
    "df.to_excel('c:/Python_Challenge/student.xlsx',sheet_name=\"student_dtl\",\n",
    "            index=False)"
   ]
  },
  {
   "cell_type": "code",
   "execution_count": 87,
   "id": "9d6d6983-6305-4962-829b-193a2f7af05b",
   "metadata": {},
   "outputs": [],
   "source": [
    "df_student =pd.read_excel('c:/Python_Challenge/student.xlsx',\n",
    "                          sheet_name=\"student_dtl\")"
   ]
  },
  {
   "cell_type": "code",
   "execution_count": 94,
   "id": "b011cc99-7154-4865-bbe0-f1c295b4ff6f",
   "metadata": {},
   "outputs": [],
   "source": [
    "df.to_json('c:/Python_Challenge/student.json',orient='records', indent=2)"
   ]
  },
  {
   "cell_type": "code",
   "execution_count": 95,
   "id": "79c76290-fe6c-4cb6-bf7d-44e33c93826d",
   "metadata": {},
   "outputs": [],
   "source": [
    "df_student=pd.read_json('c:/python_challenge/student.json')\n",
    "                   "
   ]
  },
  {
   "cell_type": "code",
   "execution_count": 99,
   "id": "fc2de1c0-e618-423a-8831-4fe031c25d97",
   "metadata": {},
   "outputs": [],
   "source": [
    "df_clip =pd.read_clipboard()"
   ]
  },
  {
   "cell_type": "code",
   "execution_count": 101,
   "id": "d9a1a2e3-fd79-43f5-912e-c36c32ac7765",
   "metadata": {},
   "outputs": [],
   "source": [
    "df.to_parquet('c:/Python_Challenge/student.parquet', index=False)"
   ]
  },
  {
   "cell_type": "code",
   "execution_count": 102,
   "id": "a2db7dd2-e93a-490f-b4f2-369f73a23d50",
   "metadata": {},
   "outputs": [],
   "source": [
    "df_parquet=pd.read_parquet('c:/Python_Challenge/student.parquet')"
   ]
  },
  {
   "cell_type": "code",
   "execution_count": 103,
   "id": "1d45e68c-918a-442c-8622-5857d1d93a43",
   "metadata": {},
   "outputs": [
    {
     "data": {
      "text/html": [
       "<div>\n",
       "<style scoped>\n",
       "    .dataframe tbody tr th:only-of-type {\n",
       "        vertical-align: middle;\n",
       "    }\n",
       "\n",
       "    .dataframe tbody tr th {\n",
       "        vertical-align: top;\n",
       "    }\n",
       "\n",
       "    .dataframe thead th {\n",
       "        text-align: right;\n",
       "    }\n",
       "</style>\n",
       "<table border=\"1\" class=\"dataframe\">\n",
       "  <thead>\n",
       "    <tr style=\"text-align: right;\">\n",
       "      <th></th>\n",
       "      <th>StudentID</th>\n",
       "      <th>Name</th>\n",
       "      <th>Math</th>\n",
       "      <th>Science</th>\n",
       "      <th>English</th>\n",
       "      <th>Gender</th>\n",
       "      <th>Class</th>\n",
       "      <th>Total</th>\n",
       "      <th>Average</th>\n",
       "    </tr>\n",
       "  </thead>\n",
       "  <tbody>\n",
       "    <tr>\n",
       "      <th>0</th>\n",
       "      <td>101</td>\n",
       "      <td>Alice</td>\n",
       "      <td>88.0</td>\n",
       "      <td>90.0</td>\n",
       "      <td>85.0</td>\n",
       "      <td>F</td>\n",
       "      <td>10A</td>\n",
       "      <td>263.0</td>\n",
       "      <td>88.0</td>\n",
       "    </tr>\n",
       "    <tr>\n",
       "      <th>1</th>\n",
       "      <td>102</td>\n",
       "      <td>Bob</td>\n",
       "      <td>92.0</td>\n",
       "      <td>NaN</td>\n",
       "      <td>78.0</td>\n",
       "      <td>M</td>\n",
       "      <td>10A</td>\n",
       "      <td>170.0</td>\n",
       "      <td>57.0</td>\n",
       "    </tr>\n",
       "    <tr>\n",
       "      <th>2</th>\n",
       "      <td>103</td>\n",
       "      <td>Charlie</td>\n",
       "      <td>NaN</td>\n",
       "      <td>75.0</td>\n",
       "      <td>80.0</td>\n",
       "      <td>M</td>\n",
       "      <td>10B</td>\n",
       "      <td>155.0</td>\n",
       "      <td>52.0</td>\n",
       "    </tr>\n",
       "    <tr>\n",
       "      <th>3</th>\n",
       "      <td>104</td>\n",
       "      <td>David</td>\n",
       "      <td>70.0</td>\n",
       "      <td>80.0</td>\n",
       "      <td>NaN</td>\n",
       "      <td>M</td>\n",
       "      <td>10B</td>\n",
       "      <td>150.0</td>\n",
       "      <td>50.0</td>\n",
       "    </tr>\n",
       "    <tr>\n",
       "      <th>4</th>\n",
       "      <td>105</td>\n",
       "      <td>Eva</td>\n",
       "      <td>85.0</td>\n",
       "      <td>82.0</td>\n",
       "      <td>88.0</td>\n",
       "      <td>F</td>\n",
       "      <td>10A</td>\n",
       "      <td>255.0</td>\n",
       "      <td>85.0</td>\n",
       "    </tr>\n",
       "    <tr>\n",
       "      <th>5</th>\n",
       "      <td>106</td>\n",
       "      <td>Frank</td>\n",
       "      <td>NaN</td>\n",
       "      <td>89.0</td>\n",
       "      <td>90.0</td>\n",
       "      <td>M</td>\n",
       "      <td>10B</td>\n",
       "      <td>179.0</td>\n",
       "      <td>60.0</td>\n",
       "    </tr>\n",
       "  </tbody>\n",
       "</table>\n",
       "</div>"
      ],
      "text/plain": [
       "   StudentID     Name  Math  Science  English Gender Class  Total  Average\n",
       "0        101    Alice  88.0     90.0     85.0      F   10A  263.0     88.0\n",
       "1        102      Bob  92.0      NaN     78.0      M   10A  170.0     57.0\n",
       "2        103  Charlie   NaN     75.0     80.0      M   10B  155.0     52.0\n",
       "3        104    David  70.0     80.0      NaN      M   10B  150.0     50.0\n",
       "4        105      Eva  85.0     82.0     88.0      F   10A  255.0     85.0\n",
       "5        106    Frank   NaN     89.0     90.0      M   10B  179.0     60.0"
      ]
     },
     "execution_count": 103,
     "metadata": {},
     "output_type": "execute_result"
    }
   ],
   "source": [
    "df_parquet"
   ]
  },
  {
   "cell_type": "code",
   "execution_count": 107,
   "id": "ef773970-f769-4718-949d-98c7d0a9cc96",
   "metadata": {},
   "outputs": [
    {
     "data": {
      "text/html": [
       "<div>\n",
       "<style scoped>\n",
       "    .dataframe tbody tr th:only-of-type {\n",
       "        vertical-align: middle;\n",
       "    }\n",
       "\n",
       "    .dataframe tbody tr th {\n",
       "        vertical-align: top;\n",
       "    }\n",
       "\n",
       "    .dataframe thead th {\n",
       "        text-align: right;\n",
       "    }\n",
       "</style>\n",
       "<table border=\"1\" class=\"dataframe\">\n",
       "  <thead>\n",
       "    <tr style=\"text-align: right;\">\n",
       "      <th></th>\n",
       "      <th>Unnamed: 0</th>\n",
       "      <th>StudentID</th>\n",
       "      <th>Name</th>\n",
       "      <th>Math</th>\n",
       "      <th>Science</th>\n",
       "      <th>English</th>\n",
       "      <th>Gender</th>\n",
       "      <th>Class</th>\n",
       "      <th>Total</th>\n",
       "      <th>Average</th>\n",
       "    </tr>\n",
       "  </thead>\n",
       "  <tbody>\n",
       "    <tr>\n",
       "      <th>0</th>\n",
       "      <td>0</td>\n",
       "      <td>101</td>\n",
       "      <td>Alice</td>\n",
       "      <td>88.0</td>\n",
       "      <td>90.0</td>\n",
       "      <td>85.0</td>\n",
       "      <td>F</td>\n",
       "      <td>10A</td>\n",
       "      <td>263.0</td>\n",
       "      <td>88.0</td>\n",
       "    </tr>\n",
       "    <tr>\n",
       "      <th>1</th>\n",
       "      <td>1</td>\n",
       "      <td>102</td>\n",
       "      <td>Bob</td>\n",
       "      <td>92.0</td>\n",
       "      <td>NaN</td>\n",
       "      <td>78.0</td>\n",
       "      <td>M</td>\n",
       "      <td>10A</td>\n",
       "      <td>170.0</td>\n",
       "      <td>57.0</td>\n",
       "    </tr>\n",
       "    <tr>\n",
       "      <th>2</th>\n",
       "      <td>2</td>\n",
       "      <td>103</td>\n",
       "      <td>Charlie</td>\n",
       "      <td>NaN</td>\n",
       "      <td>75.0</td>\n",
       "      <td>80.0</td>\n",
       "      <td>M</td>\n",
       "      <td>10B</td>\n",
       "      <td>155.0</td>\n",
       "      <td>52.0</td>\n",
       "    </tr>\n",
       "    <tr>\n",
       "      <th>3</th>\n",
       "      <td>3</td>\n",
       "      <td>104</td>\n",
       "      <td>David</td>\n",
       "      <td>70.0</td>\n",
       "      <td>80.0</td>\n",
       "      <td>NaN</td>\n",
       "      <td>M</td>\n",
       "      <td>10B</td>\n",
       "      <td>150.0</td>\n",
       "      <td>50.0</td>\n",
       "    </tr>\n",
       "    <tr>\n",
       "      <th>4</th>\n",
       "      <td>4</td>\n",
       "      <td>105</td>\n",
       "      <td>Eva</td>\n",
       "      <td>85.0</td>\n",
       "      <td>82.0</td>\n",
       "      <td>88.0</td>\n",
       "      <td>F</td>\n",
       "      <td>10A</td>\n",
       "      <td>255.0</td>\n",
       "      <td>85.0</td>\n",
       "    </tr>\n",
       "    <tr>\n",
       "      <th>5</th>\n",
       "      <td>5</td>\n",
       "      <td>106</td>\n",
       "      <td>Frank</td>\n",
       "      <td>NaN</td>\n",
       "      <td>89.0</td>\n",
       "      <td>90.0</td>\n",
       "      <td>M</td>\n",
       "      <td>10B</td>\n",
       "      <td>179.0</td>\n",
       "      <td>60.0</td>\n",
       "    </tr>\n",
       "  </tbody>\n",
       "</table>\n",
       "</div>"
      ],
      "text/plain": [
       "   Unnamed: 0  StudentID     Name  Math  Science  English Gender Class  Total  \\\n",
       "0           0        101    Alice  88.0     90.0     85.0      F   10A  263.0   \n",
       "1           1        102      Bob  92.0      NaN     78.0      M   10A  170.0   \n",
       "2           2        103  Charlie   NaN     75.0     80.0      M   10B  155.0   \n",
       "3           3        104    David  70.0     80.0      NaN      M   10B  150.0   \n",
       "4           4        105      Eva  85.0     82.0     88.0      F   10A  255.0   \n",
       "5           5        106    Frank   NaN     89.0     90.0      M   10B  179.0   \n",
       "\n",
       "   Average  \n",
       "0     88.0  \n",
       "1     57.0  \n",
       "2     52.0  \n",
       "3     50.0  \n",
       "4     85.0  \n",
       "5     60.0  "
      ]
     },
     "execution_count": 107,
     "metadata": {},
     "output_type": "execute_result"
    }
   ],
   "source": [
    "df_html =pd.read_html('c:/Python_Challenge/student.html')\n",
    "df_html[0]"
   ]
  },
  {
   "cell_type": "code",
   "execution_count": 71,
   "id": "b398d970-d127-4f19-a3ea-09473439b9cd",
   "metadata": {},
   "outputs": [],
   "source": [
    "df_emp.to_excel('c:/python_challenge/emp_w.xlsx',sheet_name='emp_dtl',index=False)"
   ]
  },
  {
   "cell_type": "code",
   "execution_count": 72,
   "id": "a3c77f11-6a83-489c-95ac-f233339718ae",
   "metadata": {},
   "outputs": [],
   "source": [
    "df_emp=pd.read_excel('c:/Python_Challenge/emp_w.xlsx',sheet_name='emp_dtl')"
   ]
  },
  {
   "cell_type": "code",
   "execution_count": 73,
   "id": "981c63cf-134f-4946-b746-03d5863a707f",
   "metadata": {},
   "outputs": [
    {
     "data": {
      "text/html": [
       "<div>\n",
       "<style scoped>\n",
       "    .dataframe tbody tr th:only-of-type {\n",
       "        vertical-align: middle;\n",
       "    }\n",
       "\n",
       "    .dataframe tbody tr th {\n",
       "        vertical-align: top;\n",
       "    }\n",
       "\n",
       "    .dataframe thead th {\n",
       "        text-align: right;\n",
       "    }\n",
       "</style>\n",
       "<table border=\"1\" class=\"dataframe\">\n",
       "  <thead>\n",
       "    <tr style=\"text-align: right;\">\n",
       "      <th></th>\n",
       "      <th>ID</th>\n",
       "      <th>Name</th>\n",
       "    </tr>\n",
       "  </thead>\n",
       "  <tbody>\n",
       "    <tr>\n",
       "      <th>0</th>\n",
       "      <td>1</td>\n",
       "      <td>Ivy</td>\n",
       "    </tr>\n",
       "    <tr>\n",
       "      <th>1</th>\n",
       "      <td>2</td>\n",
       "      <td>Bob</td>\n",
       "    </tr>\n",
       "    <tr>\n",
       "      <th>2</th>\n",
       "      <td>3</td>\n",
       "      <td>Grace</td>\n",
       "    </tr>\n",
       "    <tr>\n",
       "      <th>3</th>\n",
       "      <td>4</td>\n",
       "      <td>David</td>\n",
       "    </tr>\n",
       "    <tr>\n",
       "      <th>4</th>\n",
       "      <td>5</td>\n",
       "      <td>Eve</td>\n",
       "    </tr>\n",
       "    <tr>\n",
       "      <th>5</th>\n",
       "      <td>6</td>\n",
       "      <td>Frank</td>\n",
       "    </tr>\n",
       "    <tr>\n",
       "      <th>6</th>\n",
       "      <td>7</td>\n",
       "      <td>Jack</td>\n",
       "    </tr>\n",
       "    <tr>\n",
       "      <th>7</th>\n",
       "      <td>8</td>\n",
       "      <td>Ivy</td>\n",
       "    </tr>\n",
       "    <tr>\n",
       "      <th>8</th>\n",
       "      <td>9</td>\n",
       "      <td>Grace</td>\n",
       "    </tr>\n",
       "    <tr>\n",
       "      <th>9</th>\n",
       "      <td>10</td>\n",
       "      <td>Grace</td>\n",
       "    </tr>\n",
       "    <tr>\n",
       "      <th>10</th>\n",
       "      <td>11</td>\n",
       "      <td>Hannah</td>\n",
       "    </tr>\n",
       "    <tr>\n",
       "      <th>11</th>\n",
       "      <td>12</td>\n",
       "      <td>Ivy</td>\n",
       "    </tr>\n",
       "    <tr>\n",
       "      <th>12</th>\n",
       "      <td>13</td>\n",
       "      <td>Charlie</td>\n",
       "    </tr>\n",
       "    <tr>\n",
       "      <th>13</th>\n",
       "      <td>14</td>\n",
       "      <td>Charlie</td>\n",
       "    </tr>\n",
       "    <tr>\n",
       "      <th>14</th>\n",
       "      <td>15</td>\n",
       "      <td>Charlie</td>\n",
       "    </tr>\n",
       "    <tr>\n",
       "      <th>15</th>\n",
       "      <td>16</td>\n",
       "      <td>Grace</td>\n",
       "    </tr>\n",
       "    <tr>\n",
       "      <th>16</th>\n",
       "      <td>17</td>\n",
       "      <td>Hannah</td>\n",
       "    </tr>\n",
       "    <tr>\n",
       "      <th>17</th>\n",
       "      <td>18</td>\n",
       "      <td>Eve</td>\n",
       "    </tr>\n",
       "    <tr>\n",
       "      <th>18</th>\n",
       "      <td>19</td>\n",
       "      <td>Frank</td>\n",
       "    </tr>\n",
       "    <tr>\n",
       "      <th>19</th>\n",
       "      <td>20</td>\n",
       "      <td>Charlie</td>\n",
       "    </tr>\n",
       "    <tr>\n",
       "      <th>20</th>\n",
       "      <td>21</td>\n",
       "      <td>Bob</td>\n",
       "    </tr>\n",
       "    <tr>\n",
       "      <th>21</th>\n",
       "      <td>22</td>\n",
       "      <td>Ivy</td>\n",
       "    </tr>\n",
       "    <tr>\n",
       "      <th>22</th>\n",
       "      <td>23</td>\n",
       "      <td>Frank</td>\n",
       "    </tr>\n",
       "    <tr>\n",
       "      <th>23</th>\n",
       "      <td>24</td>\n",
       "      <td>Grace</td>\n",
       "    </tr>\n",
       "    <tr>\n",
       "      <th>24</th>\n",
       "      <td>25</td>\n",
       "      <td>Hannah</td>\n",
       "    </tr>\n",
       "    <tr>\n",
       "      <th>25</th>\n",
       "      <td>26</td>\n",
       "      <td>Eve</td>\n",
       "    </tr>\n",
       "    <tr>\n",
       "      <th>26</th>\n",
       "      <td>27</td>\n",
       "      <td>Ivy</td>\n",
       "    </tr>\n",
       "    <tr>\n",
       "      <th>27</th>\n",
       "      <td>28</td>\n",
       "      <td>Alice</td>\n",
       "    </tr>\n",
       "    <tr>\n",
       "      <th>28</th>\n",
       "      <td>29</td>\n",
       "      <td>Jack</td>\n",
       "    </tr>\n",
       "    <tr>\n",
       "      <th>29</th>\n",
       "      <td>30</td>\n",
       "      <td>David</td>\n",
       "    </tr>\n",
       "    <tr>\n",
       "      <th>30</th>\n",
       "      <td>31</td>\n",
       "      <td>Jack</td>\n",
       "    </tr>\n",
       "    <tr>\n",
       "      <th>31</th>\n",
       "      <td>32</td>\n",
       "      <td>Hannah</td>\n",
       "    </tr>\n",
       "    <tr>\n",
       "      <th>32</th>\n",
       "      <td>33</td>\n",
       "      <td>Grace</td>\n",
       "    </tr>\n",
       "    <tr>\n",
       "      <th>33</th>\n",
       "      <td>34</td>\n",
       "      <td>Hannah</td>\n",
       "    </tr>\n",
       "    <tr>\n",
       "      <th>34</th>\n",
       "      <td>35</td>\n",
       "      <td>Jack</td>\n",
       "    </tr>\n",
       "    <tr>\n",
       "      <th>35</th>\n",
       "      <td>36</td>\n",
       "      <td>Bob</td>\n",
       "    </tr>\n",
       "    <tr>\n",
       "      <th>36</th>\n",
       "      <td>37</td>\n",
       "      <td>Ivy</td>\n",
       "    </tr>\n",
       "    <tr>\n",
       "      <th>37</th>\n",
       "      <td>38</td>\n",
       "      <td>Eve</td>\n",
       "    </tr>\n",
       "    <tr>\n",
       "      <th>38</th>\n",
       "      <td>39</td>\n",
       "      <td>Eve</td>\n",
       "    </tr>\n",
       "    <tr>\n",
       "      <th>39</th>\n",
       "      <td>40</td>\n",
       "      <td>Hannah</td>\n",
       "    </tr>\n",
       "    <tr>\n",
       "      <th>40</th>\n",
       "      <td>41</td>\n",
       "      <td>Eve</td>\n",
       "    </tr>\n",
       "    <tr>\n",
       "      <th>41</th>\n",
       "      <td>42</td>\n",
       "      <td>Bob</td>\n",
       "    </tr>\n",
       "    <tr>\n",
       "      <th>42</th>\n",
       "      <td>43</td>\n",
       "      <td>Alice</td>\n",
       "    </tr>\n",
       "    <tr>\n",
       "      <th>43</th>\n",
       "      <td>44</td>\n",
       "      <td>Hannah</td>\n",
       "    </tr>\n",
       "    <tr>\n",
       "      <th>44</th>\n",
       "      <td>45</td>\n",
       "      <td>Grace</td>\n",
       "    </tr>\n",
       "    <tr>\n",
       "      <th>45</th>\n",
       "      <td>46</td>\n",
       "      <td>Hannah</td>\n",
       "    </tr>\n",
       "    <tr>\n",
       "      <th>46</th>\n",
       "      <td>47</td>\n",
       "      <td>Ivy</td>\n",
       "    </tr>\n",
       "    <tr>\n",
       "      <th>47</th>\n",
       "      <td>48</td>\n",
       "      <td>Charlie</td>\n",
       "    </tr>\n",
       "    <tr>\n",
       "      <th>48</th>\n",
       "      <td>49</td>\n",
       "      <td>Frank</td>\n",
       "    </tr>\n",
       "    <tr>\n",
       "      <th>49</th>\n",
       "      <td>50</td>\n",
       "      <td>Eve</td>\n",
       "    </tr>\n",
       "  </tbody>\n",
       "</table>\n",
       "</div>"
      ],
      "text/plain": [
       "    ID     Name\n",
       "0    1      Ivy\n",
       "1    2      Bob\n",
       "2    3    Grace\n",
       "3    4    David\n",
       "4    5      Eve\n",
       "5    6    Frank\n",
       "6    7     Jack\n",
       "7    8      Ivy\n",
       "8    9    Grace\n",
       "9   10    Grace\n",
       "10  11   Hannah\n",
       "11  12      Ivy\n",
       "12  13  Charlie\n",
       "13  14  Charlie\n",
       "14  15  Charlie\n",
       "15  16    Grace\n",
       "16  17   Hannah\n",
       "17  18      Eve\n",
       "18  19    Frank\n",
       "19  20  Charlie\n",
       "20  21      Bob\n",
       "21  22      Ivy\n",
       "22  23    Frank\n",
       "23  24    Grace\n",
       "24  25   Hannah\n",
       "25  26      Eve\n",
       "26  27      Ivy\n",
       "27  28    Alice\n",
       "28  29     Jack\n",
       "29  30    David\n",
       "30  31     Jack\n",
       "31  32   Hannah\n",
       "32  33    Grace\n",
       "33  34   Hannah\n",
       "34  35     Jack\n",
       "35  36      Bob\n",
       "36  37      Ivy\n",
       "37  38      Eve\n",
       "38  39      Eve\n",
       "39  40   Hannah\n",
       "40  41      Eve\n",
       "41  42      Bob\n",
       "42  43    Alice\n",
       "43  44   Hannah\n",
       "44  45    Grace\n",
       "45  46   Hannah\n",
       "46  47      Ivy\n",
       "47  48  Charlie\n",
       "48  49    Frank\n",
       "49  50      Eve"
      ]
     },
     "execution_count": 73,
     "metadata": {},
     "output_type": "execute_result"
    }
   ],
   "source": [
    "df_emp"
   ]
  },
  {
   "cell_type": "code",
   "execution_count": 102,
   "id": "abe1e0c1-f4ad-478b-a80c-6dd2562b9acb",
   "metadata": {},
   "outputs": [],
   "source": [
    "df_emp.to_json('c:/Python_Challenge/emp.json',orient='records', indent=2)"
   ]
  },
  {
   "cell_type": "code",
   "execution_count": 77,
   "id": "c318d9c9-4f2e-42b3-961d-5e7fc326c79e",
   "metadata": {},
   "outputs": [],
   "source": [
    "df_emp =pd.read_json('c:/Python_Challenge/emp.json')"
   ]
  },
  {
   "cell_type": "code",
   "execution_count": 79,
   "id": "9da5cfc7-c1a9-4da8-8ece-177993921832",
   "metadata": {},
   "outputs": [
    {
     "data": {
      "text/html": [
       "<div>\n",
       "<style scoped>\n",
       "    .dataframe tbody tr th:only-of-type {\n",
       "        vertical-align: middle;\n",
       "    }\n",
       "\n",
       "    .dataframe tbody tr th {\n",
       "        vertical-align: top;\n",
       "    }\n",
       "\n",
       "    .dataframe thead th {\n",
       "        text-align: right;\n",
       "    }\n",
       "</style>\n",
       "<table border=\"1\" class=\"dataframe\">\n",
       "  <thead>\n",
       "    <tr style=\"text-align: right;\">\n",
       "      <th></th>\n",
       "      <th>ID</th>\n",
       "      <th>Name</th>\n",
       "    </tr>\n",
       "  </thead>\n",
       "  <tbody>\n",
       "    <tr>\n",
       "      <th>0</th>\n",
       "      <td>1</td>\n",
       "      <td>Ivy</td>\n",
       "    </tr>\n",
       "    <tr>\n",
       "      <th>1</th>\n",
       "      <td>2</td>\n",
       "      <td>Bob</td>\n",
       "    </tr>\n",
       "    <tr>\n",
       "      <th>2</th>\n",
       "      <td>3</td>\n",
       "      <td>Grace</td>\n",
       "    </tr>\n",
       "    <tr>\n",
       "      <th>3</th>\n",
       "      <td>4</td>\n",
       "      <td>David</td>\n",
       "    </tr>\n",
       "    <tr>\n",
       "      <th>4</th>\n",
       "      <td>5</td>\n",
       "      <td>Eve</td>\n",
       "    </tr>\n",
       "    <tr>\n",
       "      <th>5</th>\n",
       "      <td>6</td>\n",
       "      <td>Frank</td>\n",
       "    </tr>\n",
       "    <tr>\n",
       "      <th>6</th>\n",
       "      <td>7</td>\n",
       "      <td>Jack</td>\n",
       "    </tr>\n",
       "    <tr>\n",
       "      <th>7</th>\n",
       "      <td>8</td>\n",
       "      <td>Ivy</td>\n",
       "    </tr>\n",
       "    <tr>\n",
       "      <th>8</th>\n",
       "      <td>9</td>\n",
       "      <td>Grace</td>\n",
       "    </tr>\n",
       "    <tr>\n",
       "      <th>9</th>\n",
       "      <td>10</td>\n",
       "      <td>Grace</td>\n",
       "    </tr>\n",
       "    <tr>\n",
       "      <th>10</th>\n",
       "      <td>11</td>\n",
       "      <td>Hannah</td>\n",
       "    </tr>\n",
       "    <tr>\n",
       "      <th>11</th>\n",
       "      <td>12</td>\n",
       "      <td>Ivy</td>\n",
       "    </tr>\n",
       "    <tr>\n",
       "      <th>12</th>\n",
       "      <td>13</td>\n",
       "      <td>Charlie</td>\n",
       "    </tr>\n",
       "    <tr>\n",
       "      <th>13</th>\n",
       "      <td>14</td>\n",
       "      <td>Charlie</td>\n",
       "    </tr>\n",
       "    <tr>\n",
       "      <th>14</th>\n",
       "      <td>15</td>\n",
       "      <td>Charlie</td>\n",
       "    </tr>\n",
       "    <tr>\n",
       "      <th>15</th>\n",
       "      <td>16</td>\n",
       "      <td>Grace</td>\n",
       "    </tr>\n",
       "    <tr>\n",
       "      <th>16</th>\n",
       "      <td>17</td>\n",
       "      <td>Hannah</td>\n",
       "    </tr>\n",
       "    <tr>\n",
       "      <th>17</th>\n",
       "      <td>18</td>\n",
       "      <td>Eve</td>\n",
       "    </tr>\n",
       "    <tr>\n",
       "      <th>18</th>\n",
       "      <td>19</td>\n",
       "      <td>Frank</td>\n",
       "    </tr>\n",
       "    <tr>\n",
       "      <th>19</th>\n",
       "      <td>20</td>\n",
       "      <td>Charlie</td>\n",
       "    </tr>\n",
       "    <tr>\n",
       "      <th>20</th>\n",
       "      <td>21</td>\n",
       "      <td>Bob</td>\n",
       "    </tr>\n",
       "    <tr>\n",
       "      <th>21</th>\n",
       "      <td>22</td>\n",
       "      <td>Ivy</td>\n",
       "    </tr>\n",
       "    <tr>\n",
       "      <th>22</th>\n",
       "      <td>23</td>\n",
       "      <td>Frank</td>\n",
       "    </tr>\n",
       "    <tr>\n",
       "      <th>23</th>\n",
       "      <td>24</td>\n",
       "      <td>Grace</td>\n",
       "    </tr>\n",
       "    <tr>\n",
       "      <th>24</th>\n",
       "      <td>25</td>\n",
       "      <td>Hannah</td>\n",
       "    </tr>\n",
       "    <tr>\n",
       "      <th>25</th>\n",
       "      <td>26</td>\n",
       "      <td>Eve</td>\n",
       "    </tr>\n",
       "    <tr>\n",
       "      <th>26</th>\n",
       "      <td>27</td>\n",
       "      <td>Ivy</td>\n",
       "    </tr>\n",
       "    <tr>\n",
       "      <th>27</th>\n",
       "      <td>28</td>\n",
       "      <td>Alice</td>\n",
       "    </tr>\n",
       "    <tr>\n",
       "      <th>28</th>\n",
       "      <td>29</td>\n",
       "      <td>Jack</td>\n",
       "    </tr>\n",
       "    <tr>\n",
       "      <th>29</th>\n",
       "      <td>30</td>\n",
       "      <td>David</td>\n",
       "    </tr>\n",
       "    <tr>\n",
       "      <th>30</th>\n",
       "      <td>31</td>\n",
       "      <td>Jack</td>\n",
       "    </tr>\n",
       "    <tr>\n",
       "      <th>31</th>\n",
       "      <td>32</td>\n",
       "      <td>Hannah</td>\n",
       "    </tr>\n",
       "    <tr>\n",
       "      <th>32</th>\n",
       "      <td>33</td>\n",
       "      <td>Grace</td>\n",
       "    </tr>\n",
       "    <tr>\n",
       "      <th>33</th>\n",
       "      <td>34</td>\n",
       "      <td>Hannah</td>\n",
       "    </tr>\n",
       "    <tr>\n",
       "      <th>34</th>\n",
       "      <td>35</td>\n",
       "      <td>Jack</td>\n",
       "    </tr>\n",
       "    <tr>\n",
       "      <th>35</th>\n",
       "      <td>36</td>\n",
       "      <td>Bob</td>\n",
       "    </tr>\n",
       "    <tr>\n",
       "      <th>36</th>\n",
       "      <td>37</td>\n",
       "      <td>Ivy</td>\n",
       "    </tr>\n",
       "    <tr>\n",
       "      <th>37</th>\n",
       "      <td>38</td>\n",
       "      <td>Eve</td>\n",
       "    </tr>\n",
       "    <tr>\n",
       "      <th>38</th>\n",
       "      <td>39</td>\n",
       "      <td>Eve</td>\n",
       "    </tr>\n",
       "    <tr>\n",
       "      <th>39</th>\n",
       "      <td>40</td>\n",
       "      <td>Hannah</td>\n",
       "    </tr>\n",
       "    <tr>\n",
       "      <th>40</th>\n",
       "      <td>41</td>\n",
       "      <td>Eve</td>\n",
       "    </tr>\n",
       "    <tr>\n",
       "      <th>41</th>\n",
       "      <td>42</td>\n",
       "      <td>Bob</td>\n",
       "    </tr>\n",
       "    <tr>\n",
       "      <th>42</th>\n",
       "      <td>43</td>\n",
       "      <td>Alice</td>\n",
       "    </tr>\n",
       "    <tr>\n",
       "      <th>43</th>\n",
       "      <td>44</td>\n",
       "      <td>Hannah</td>\n",
       "    </tr>\n",
       "    <tr>\n",
       "      <th>44</th>\n",
       "      <td>45</td>\n",
       "      <td>Grace</td>\n",
       "    </tr>\n",
       "    <tr>\n",
       "      <th>45</th>\n",
       "      <td>46</td>\n",
       "      <td>Hannah</td>\n",
       "    </tr>\n",
       "    <tr>\n",
       "      <th>46</th>\n",
       "      <td>47</td>\n",
       "      <td>Ivy</td>\n",
       "    </tr>\n",
       "    <tr>\n",
       "      <th>47</th>\n",
       "      <td>48</td>\n",
       "      <td>Charlie</td>\n",
       "    </tr>\n",
       "    <tr>\n",
       "      <th>48</th>\n",
       "      <td>49</td>\n",
       "      <td>Frank</td>\n",
       "    </tr>\n",
       "    <tr>\n",
       "      <th>49</th>\n",
       "      <td>50</td>\n",
       "      <td>Eve</td>\n",
       "    </tr>\n",
       "  </tbody>\n",
       "</table>\n",
       "</div>"
      ],
      "text/plain": [
       "    ID     Name\n",
       "0    1      Ivy\n",
       "1    2      Bob\n",
       "2    3    Grace\n",
       "3    4    David\n",
       "4    5      Eve\n",
       "5    6    Frank\n",
       "6    7     Jack\n",
       "7    8      Ivy\n",
       "8    9    Grace\n",
       "9   10    Grace\n",
       "10  11   Hannah\n",
       "11  12      Ivy\n",
       "12  13  Charlie\n",
       "13  14  Charlie\n",
       "14  15  Charlie\n",
       "15  16    Grace\n",
       "16  17   Hannah\n",
       "17  18      Eve\n",
       "18  19    Frank\n",
       "19  20  Charlie\n",
       "20  21      Bob\n",
       "21  22      Ivy\n",
       "22  23    Frank\n",
       "23  24    Grace\n",
       "24  25   Hannah\n",
       "25  26      Eve\n",
       "26  27      Ivy\n",
       "27  28    Alice\n",
       "28  29     Jack\n",
       "29  30    David\n",
       "30  31     Jack\n",
       "31  32   Hannah\n",
       "32  33    Grace\n",
       "33  34   Hannah\n",
       "34  35     Jack\n",
       "35  36      Bob\n",
       "36  37      Ivy\n",
       "37  38      Eve\n",
       "38  39      Eve\n",
       "39  40   Hannah\n",
       "40  41      Eve\n",
       "41  42      Bob\n",
       "42  43    Alice\n",
       "43  44   Hannah\n",
       "44  45    Grace\n",
       "45  46   Hannah\n",
       "46  47      Ivy\n",
       "47  48  Charlie\n",
       "48  49    Frank\n",
       "49  50      Eve"
      ]
     },
     "execution_count": 79,
     "metadata": {},
     "output_type": "execute_result"
    }
   ],
   "source": [
    "df_emp"
   ]
  },
  {
   "cell_type": "code",
   "execution_count": 103,
   "id": "4cc691e1-981f-4310-a6ca-90da0cb4e261",
   "metadata": {},
   "outputs": [],
   "source": [
    "df.to_dict"
   ]
  },
  {
   "cell_type": "code",
   "execution_count": 104,
   "id": "cebf6871-1b6e-4da1-ad3b-5ebe9cb3f86c",
   "metadata": {},
   "outputs": [
    {
     "name": "stdout",
     "output_type": "stream",
     "text": [
      "    ID     Name  Age          City\n",
      "0    1      Ivy   25       Chicago\n",
      "1    2      Bob   21       Phoenix\n",
      "2    3    Grace   28       Chicago\n",
      "3    4    David   59      San Jose\n",
      "4    5      Eve   24     San Diego\n",
      "5    6    Frank   32       Chicago\n",
      "6    7     Jack   52        Dallas\n",
      "7    8      Ivy   40       Chicago\n",
      "8    9    Grace   33  Philadelphia\n",
      "9   10    Grace   27  Philadelphia\n",
      "10  11   Hannah   43      San Jose\n",
      "11  12      Ivy   25     San Diego\n",
      "12  13  Charlie   32   Los Angeles\n",
      "13  14  Charlie   24       Chicago\n",
      "14  15  Charlie   57       Houston\n",
      "15  16    Grace   51   Los Angeles\n",
      "16  17   Hannah   47      San Jose\n",
      "17  18      Eve   34      San Jose\n",
      "18  19    Frank   26     San Diego\n",
      "19  20  Charlie   35     San Diego\n",
      "20  21      Bob   44      New York\n",
      "21  22      Ivy   56       Houston\n",
      "22  23    Frank   49  Philadelphia\n",
      "23  24    Grace   24   San Antonio\n",
      "24  25   Hannah   49       Houston\n",
      "25  26      Eve   33       Phoenix\n",
      "26  27      Ivy   42     San Diego\n",
      "27  28    Alice   40   Los Angeles\n",
      "28  29     Jack   45       Houston\n",
      "29  30    David   35        Dallas\n",
      "30  31     Jack   24  Philadelphia\n",
      "31  32   Hannah   34       Phoenix\n",
      "32  33    Grace   56       Chicago\n",
      "33  34   Hannah   52      San Jose\n",
      "34  35     Jack   44       Chicago\n",
      "35  36      Bob   46  Philadelphia\n",
      "36  37      Ivy   52   Los Angeles\n",
      "37  38      Eve   20   San Antonio\n",
      "38  39      Eve   56       Chicago\n",
      "39  40   Hannah   36   San Antonio\n",
      "40  41      Eve   25  Philadelphia\n",
      "41  42      Bob   47   San Antonio\n",
      "42  43    Alice   48      San Jose\n",
      "43  44   Hannah   55        Dallas\n",
      "44  45    Grace   28   Los Angeles\n",
      "45  46   Hannah   58        Dallas\n",
      "46  47      Ivy   59      San Jose\n",
      "47  48  Charlie   46       Houston\n",
      "48  49    Frank   58   Los Angeles\n",
      "49  50      Eve   57        Dallas\n"
     ]
    }
   ],
   "source": [
    "df_emp =pd.read_parquet('c:/Python_Challenge/emp.parquet')\n",
    "print(df_emp)"
   ]
  },
  {
   "cell_type": "code",
   "execution_count": 82,
   "id": "2acf62c8-670a-47a1-8ae8-aaf511390e49",
   "metadata": {},
   "outputs": [],
   "source": [
    "df_emp.to_clipboard()"
   ]
  },
  {
   "cell_type": "code",
   "execution_count": 105,
   "id": "80bb3a57-fbd9-404e-be81-1b49de985e9a",
   "metadata": {},
   "outputs": [],
   "source": [
    "df_emp.to_html('c:/Python_Challenge/emp.html', index=False)"
   ]
  },
  {
   "cell_type": "code",
   "execution_count": 107,
   "id": "00074e1f-a266-435d-bf8c-e963a422bb2f",
   "metadata": {},
   "outputs": [
    {
     "name": "stdout",
     "output_type": "stream",
     "text": [
      "    ID     Name  Age          City\n",
      "0    1      Ivy   25       Chicago\n",
      "1    2      Bob   21       Phoenix\n",
      "2    3    Grace   28       Chicago\n",
      "3    4    David   59      San Jose\n",
      "4    5      Eve   24     San Diego\n",
      "5    6    Frank   32       Chicago\n",
      "6    7     Jack   52        Dallas\n",
      "7    8      Ivy   40       Chicago\n",
      "8    9    Grace   33  Philadelphia\n",
      "9   10    Grace   27  Philadelphia\n",
      "10  11   Hannah   43      San Jose\n",
      "11  12      Ivy   25     San Diego\n",
      "12  13  Charlie   32   Los Angeles\n",
      "13  14  Charlie   24       Chicago\n",
      "14  15  Charlie   57       Houston\n",
      "15  16    Grace   51   Los Angeles\n",
      "16  17   Hannah   47      San Jose\n",
      "17  18      Eve   34      San Jose\n",
      "18  19    Frank   26     San Diego\n",
      "19  20  Charlie   35     San Diego\n",
      "20  21      Bob   44      New York\n",
      "21  22      Ivy   56       Houston\n",
      "22  23    Frank   49  Philadelphia\n",
      "23  24    Grace   24   San Antonio\n",
      "24  25   Hannah   49       Houston\n",
      "25  26      Eve   33       Phoenix\n",
      "26  27      Ivy   42     San Diego\n",
      "27  28    Alice   40   Los Angeles\n",
      "28  29     Jack   45       Houston\n",
      "29  30    David   35        Dallas\n",
      "30  31     Jack   24  Philadelphia\n",
      "31  32   Hannah   34       Phoenix\n",
      "32  33    Grace   56       Chicago\n",
      "33  34   Hannah   52      San Jose\n",
      "34  35     Jack   44       Chicago\n",
      "35  36      Bob   46  Philadelphia\n",
      "36  37      Ivy   52   Los Angeles\n",
      "37  38      Eve   20   San Antonio\n",
      "38  39      Eve   56       Chicago\n",
      "39  40   Hannah   36   San Antonio\n",
      "40  41      Eve   25  Philadelphia\n",
      "41  42      Bob   47   San Antonio\n",
      "42  43    Alice   48      San Jose\n",
      "43  44   Hannah   55        Dallas\n",
      "44  45    Grace   28   Los Angeles\n",
      "45  46   Hannah   58        Dallas\n",
      "46  47      Ivy   59      San Jose\n",
      "47  48  Charlie   46       Houston\n",
      "48  49    Frank   58   Los Angeles\n",
      "49  50      Eve   57        Dallas\n"
     ]
    }
   ],
   "source": [
    "df_emp=pd.read_html('c:/Python_Challenge/emp.html')\n",
    "print(df_emp[0])"
   ]
  },
  {
   "cell_type": "code",
   "execution_count": 110,
   "id": "1c48735b-793b-4f67-93a3-b286c7c75ac1",
   "metadata": {},
   "outputs": [
    {
     "name": "stdout",
     "output_type": "stream",
     "text": [
      "   StudentID     Name  Math  Science  English Gender Class  Total  Average\n",
      "0        101    Alice  88.0     90.0     85.0      F   10A  263.0     88.0\n",
      "1        102      Bob  92.0      NaN     78.0      M   10A  170.0     57.0\n",
      "2        103  Charlie   NaN     75.0     80.0      M   10B  155.0     52.0\n",
      "3        104    David  70.0     80.0      NaN      M   10B  150.0     50.0\n",
      "4        105      Eva  85.0     82.0     88.0      F   10A  255.0     85.0\n",
      "5        106    Frank   NaN     89.0     90.0      M   10B  179.0     60.0\n"
     ]
    }
   ],
   "source": [
    "df= pd.read_clipboard()\n",
    "print(df)"
   ]
  },
  {
   "cell_type": "code",
   "execution_count": 17,
   "id": "6663e06e-2edb-44e5-b791-493d13d757f8",
   "metadata": {},
   "outputs": [],
   "source": [
    "df = pd.DataFrame({\n",
    "    'name': ['Alice', 'Bob', 'Alice', 'David'],\n",
    "    'score': [85, 90, 85, 95]\n",
    "})"
   ]
  },
  {
   "cell_type": "code",
   "execution_count": 18,
   "id": "cd9c9dca-00dc-4814-b0c8-776aeaeda145",
   "metadata": {},
   "outputs": [
    {
     "data": {
      "text/html": [
       "<div>\n",
       "<style scoped>\n",
       "    .dataframe tbody tr th:only-of-type {\n",
       "        vertical-align: middle;\n",
       "    }\n",
       "\n",
       "    .dataframe tbody tr th {\n",
       "        vertical-align: top;\n",
       "    }\n",
       "\n",
       "    .dataframe thead th {\n",
       "        text-align: right;\n",
       "    }\n",
       "</style>\n",
       "<table border=\"1\" class=\"dataframe\">\n",
       "  <thead>\n",
       "    <tr style=\"text-align: right;\">\n",
       "      <th></th>\n",
       "      <th>name</th>\n",
       "      <th>score</th>\n",
       "    </tr>\n",
       "  </thead>\n",
       "  <tbody>\n",
       "    <tr>\n",
       "      <th>0</th>\n",
       "      <td>Alice</td>\n",
       "      <td>85</td>\n",
       "    </tr>\n",
       "    <tr>\n",
       "      <th>1</th>\n",
       "      <td>Bob</td>\n",
       "      <td>90</td>\n",
       "    </tr>\n",
       "    <tr>\n",
       "      <th>3</th>\n",
       "      <td>David</td>\n",
       "      <td>95</td>\n",
       "    </tr>\n",
       "  </tbody>\n",
       "</table>\n",
       "</div>"
      ],
      "text/plain": [
       "    name  score\n",
       "0  Alice     85\n",
       "1    Bob     90\n",
       "3  David     95"
      ]
     },
     "execution_count": 18,
     "metadata": {},
     "output_type": "execute_result"
    }
   ],
   "source": [
    "df.drop_duplicates()"
   ]
  },
  {
   "cell_type": "code",
   "execution_count": 20,
   "id": "e59b58e2-5f6c-4f37-a05a-20f146f53faa",
   "metadata": {},
   "outputs": [
    {
     "data": {
      "text/html": [
       "<div>\n",
       "<style scoped>\n",
       "    .dataframe tbody tr th:only-of-type {\n",
       "        vertical-align: middle;\n",
       "    }\n",
       "\n",
       "    .dataframe tbody tr th {\n",
       "        vertical-align: top;\n",
       "    }\n",
       "\n",
       "    .dataframe thead th {\n",
       "        text-align: right;\n",
       "    }\n",
       "</style>\n",
       "<table border=\"1\" class=\"dataframe\">\n",
       "  <thead>\n",
       "    <tr style=\"text-align: right;\">\n",
       "      <th></th>\n",
       "      <th>name</th>\n",
       "      <th>score</th>\n",
       "    </tr>\n",
       "  </thead>\n",
       "  <tbody>\n",
       "    <tr>\n",
       "      <th>0</th>\n",
       "      <td>Alice</td>\n",
       "      <td>85</td>\n",
       "    </tr>\n",
       "    <tr>\n",
       "      <th>1</th>\n",
       "      <td>Bob</td>\n",
       "      <td>90</td>\n",
       "    </tr>\n",
       "    <tr>\n",
       "      <th>2</th>\n",
       "      <td>Alice</td>\n",
       "      <td>90</td>\n",
       "    </tr>\n",
       "    <tr>\n",
       "      <th>3</th>\n",
       "      <td>David</td>\n",
       "      <td>95</td>\n",
       "    </tr>\n",
       "  </tbody>\n",
       "</table>\n",
       "</div>"
      ],
      "text/plain": [
       "    name  score\n",
       "0  Alice     85\n",
       "1    Bob     90\n",
       "2  Alice     90\n",
       "3  David     95"
      ]
     },
     "execution_count": 20,
     "metadata": {},
     "output_type": "execute_result"
    }
   ],
   "source": [
    "df = pd.DataFrame({\n",
    "    'name': ['Alice', 'Bob', 'Alice', 'David'],\n",
    "    'score': [85, 90, 90, 95]\n",
    "})\n",
    "\n",
    "df.drop_duplicates()"
   ]
  },
  {
   "cell_type": "code",
   "execution_count": 21,
   "id": "960a64ef-b756-40f6-bb4e-3b574d053deb",
   "metadata": {},
   "outputs": [
    {
     "data": {
      "text/html": [
       "<div>\n",
       "<style scoped>\n",
       "    .dataframe tbody tr th:only-of-type {\n",
       "        vertical-align: middle;\n",
       "    }\n",
       "\n",
       "    .dataframe tbody tr th {\n",
       "        vertical-align: top;\n",
       "    }\n",
       "\n",
       "    .dataframe thead th {\n",
       "        text-align: right;\n",
       "    }\n",
       "</style>\n",
       "<table border=\"1\" class=\"dataframe\">\n",
       "  <thead>\n",
       "    <tr style=\"text-align: right;\">\n",
       "      <th></th>\n",
       "      <th>name</th>\n",
       "      <th>score</th>\n",
       "    </tr>\n",
       "  </thead>\n",
       "  <tbody>\n",
       "    <tr>\n",
       "      <th>0</th>\n",
       "      <td>Alice</td>\n",
       "      <td>85</td>\n",
       "    </tr>\n",
       "    <tr>\n",
       "      <th>1</th>\n",
       "      <td>Bob</td>\n",
       "      <td>90</td>\n",
       "    </tr>\n",
       "    <tr>\n",
       "      <th>3</th>\n",
       "      <td>David</td>\n",
       "      <td>95</td>\n",
       "    </tr>\n",
       "  </tbody>\n",
       "</table>\n",
       "</div>"
      ],
      "text/plain": [
       "    name  score\n",
       "0  Alice     85\n",
       "1    Bob     90\n",
       "3  David     95"
      ]
     },
     "execution_count": 21,
     "metadata": {},
     "output_type": "execute_result"
    }
   ],
   "source": [
    "df.drop_duplicates(subset='name')"
   ]
  },
  {
   "cell_type": "code",
   "execution_count": 22,
   "id": "98f49cd0-d38d-47d0-9e5b-1ab5a609e0f4",
   "metadata": {},
   "outputs": [
    {
     "data": {
      "text/html": [
       "<div>\n",
       "<style scoped>\n",
       "    .dataframe tbody tr th:only-of-type {\n",
       "        vertical-align: middle;\n",
       "    }\n",
       "\n",
       "    .dataframe tbody tr th {\n",
       "        vertical-align: top;\n",
       "    }\n",
       "\n",
       "    .dataframe thead th {\n",
       "        text-align: right;\n",
       "    }\n",
       "</style>\n",
       "<table border=\"1\" class=\"dataframe\">\n",
       "  <thead>\n",
       "    <tr style=\"text-align: right;\">\n",
       "      <th></th>\n",
       "      <th>name</th>\n",
       "      <th>score</th>\n",
       "    </tr>\n",
       "  </thead>\n",
       "  <tbody>\n",
       "    <tr>\n",
       "      <th>1</th>\n",
       "      <td>Bob</td>\n",
       "      <td>90</td>\n",
       "    </tr>\n",
       "    <tr>\n",
       "      <th>2</th>\n",
       "      <td>Alice</td>\n",
       "      <td>90</td>\n",
       "    </tr>\n",
       "    <tr>\n",
       "      <th>3</th>\n",
       "      <td>David</td>\n",
       "      <td>95</td>\n",
       "    </tr>\n",
       "  </tbody>\n",
       "</table>\n",
       "</div>"
      ],
      "text/plain": [
       "    name  score\n",
       "1    Bob     90\n",
       "2  Alice     90\n",
       "3  David     95"
      ]
     },
     "execution_count": 22,
     "metadata": {},
     "output_type": "execute_result"
    }
   ],
   "source": [
    "df.drop_duplicates(subset='name', keep='last')"
   ]
  },
  {
   "cell_type": "code",
   "execution_count": 24,
   "id": "bc3237be-4615-41b7-ba55-1823bbb9071e",
   "metadata": {},
   "outputs": [
    {
     "data": {
      "text/html": [
       "<div>\n",
       "<style scoped>\n",
       "    .dataframe tbody tr th:only-of-type {\n",
       "        vertical-align: middle;\n",
       "    }\n",
       "\n",
       "    .dataframe tbody tr th {\n",
       "        vertical-align: top;\n",
       "    }\n",
       "\n",
       "    .dataframe thead th {\n",
       "        text-align: right;\n",
       "    }\n",
       "</style>\n",
       "<table border=\"1\" class=\"dataframe\">\n",
       "  <thead>\n",
       "    <tr style=\"text-align: right;\">\n",
       "      <th></th>\n",
       "      <th>name</th>\n",
       "      <th>score</th>\n",
       "    </tr>\n",
       "  </thead>\n",
       "  <tbody>\n",
       "    <tr>\n",
       "      <th>1</th>\n",
       "      <td>Bob</td>\n",
       "      <td>90</td>\n",
       "    </tr>\n",
       "    <tr>\n",
       "      <th>3</th>\n",
       "      <td>David</td>\n",
       "      <td>95</td>\n",
       "    </tr>\n",
       "  </tbody>\n",
       "</table>\n",
       "</div>"
      ],
      "text/plain": [
       "    name  score\n",
       "1    Bob     90\n",
       "3  David     95"
      ]
     },
     "execution_count": 24,
     "metadata": {},
     "output_type": "execute_result"
    }
   ],
   "source": [
    "df.drop_duplicates(subset='name',keep=False)"
   ]
  },
  {
   "cell_type": "code",
   "execution_count": 2,
   "id": "a05811c1-1219-45ce-9305-5f8a851383ce",
   "metadata": {},
   "outputs": [],
   "source": [
    "df1 = pd.DataFrame({'id': [1, 2, 3], 'val': ['A', 'B', 'C']})\n",
    "df2 = pd.DataFrame({'id': [3, 4], 'val': ['C', 'D']})"
   ]
  },
  {
   "cell_type": "code",
   "execution_count": null,
   "id": "dbe5f389-8fe2-4846-ad15-726d39daf8d0",
   "metadata": {},
   "outputs": [],
   "source": []
  },
  {
   "cell_type": "code",
   "execution_count": 3,
   "id": "9a4e2863-3610-449b-aa4c-4cac423c0a05",
   "metadata": {},
   "outputs": [
    {
     "data": {
      "text/html": [
       "<div>\n",
       "<style scoped>\n",
       "    .dataframe tbody tr th:only-of-type {\n",
       "        vertical-align: middle;\n",
       "    }\n",
       "\n",
       "    .dataframe tbody tr th {\n",
       "        vertical-align: top;\n",
       "    }\n",
       "\n",
       "    .dataframe thead th {\n",
       "        text-align: right;\n",
       "    }\n",
       "</style>\n",
       "<table border=\"1\" class=\"dataframe\">\n",
       "  <thead>\n",
       "    <tr style=\"text-align: right;\">\n",
       "      <th></th>\n",
       "      <th>id</th>\n",
       "      <th>val</th>\n",
       "    </tr>\n",
       "  </thead>\n",
       "  <tbody>\n",
       "    <tr>\n",
       "      <th>0</th>\n",
       "      <td>1</td>\n",
       "      <td>A</td>\n",
       "    </tr>\n",
       "    <tr>\n",
       "      <th>1</th>\n",
       "      <td>2</td>\n",
       "      <td>B</td>\n",
       "    </tr>\n",
       "    <tr>\n",
       "      <th>2</th>\n",
       "      <td>3</td>\n",
       "      <td>C</td>\n",
       "    </tr>\n",
       "  </tbody>\n",
       "</table>\n",
       "</div>"
      ],
      "text/plain": [
       "   id val\n",
       "0   1   A\n",
       "1   2   B\n",
       "2   3   C"
      ]
     },
     "execution_count": 3,
     "metadata": {},
     "output_type": "execute_result"
    }
   ],
   "source": [
    "df1"
   ]
  },
  {
   "cell_type": "code",
   "execution_count": 4,
   "id": "802491f8-ef22-49fa-bc8f-8bfd1cb7962b",
   "metadata": {},
   "outputs": [
    {
     "data": {
      "text/html": [
       "<div>\n",
       "<style scoped>\n",
       "    .dataframe tbody tr th:only-of-type {\n",
       "        vertical-align: middle;\n",
       "    }\n",
       "\n",
       "    .dataframe tbody tr th {\n",
       "        vertical-align: top;\n",
       "    }\n",
       "\n",
       "    .dataframe thead th {\n",
       "        text-align: right;\n",
       "    }\n",
       "</style>\n",
       "<table border=\"1\" class=\"dataframe\">\n",
       "  <thead>\n",
       "    <tr style=\"text-align: right;\">\n",
       "      <th></th>\n",
       "      <th>id</th>\n",
       "      <th>val</th>\n",
       "    </tr>\n",
       "  </thead>\n",
       "  <tbody>\n",
       "    <tr>\n",
       "      <th>0</th>\n",
       "      <td>3</td>\n",
       "      <td>C</td>\n",
       "    </tr>\n",
       "    <tr>\n",
       "      <th>1</th>\n",
       "      <td>4</td>\n",
       "      <td>D</td>\n",
       "    </tr>\n",
       "  </tbody>\n",
       "</table>\n",
       "</div>"
      ],
      "text/plain": [
       "   id val\n",
       "0   3   C\n",
       "1   4   D"
      ]
     },
     "execution_count": 4,
     "metadata": {},
     "output_type": "execute_result"
    }
   ],
   "source": [
    "df2"
   ]
  },
  {
   "cell_type": "code",
   "execution_count": 12,
   "id": "e5e43eca-dbdb-48c2-87f1-b7f105b65df2",
   "metadata": {},
   "outputs": [
    {
     "data": {
      "text/html": [
       "<div>\n",
       "<style scoped>\n",
       "    .dataframe tbody tr th:only-of-type {\n",
       "        vertical-align: middle;\n",
       "    }\n",
       "\n",
       "    .dataframe tbody tr th {\n",
       "        vertical-align: top;\n",
       "    }\n",
       "\n",
       "    .dataframe thead th {\n",
       "        text-align: right;\n",
       "    }\n",
       "</style>\n",
       "<table border=\"1\" class=\"dataframe\">\n",
       "  <thead>\n",
       "    <tr style=\"text-align: right;\">\n",
       "      <th></th>\n",
       "      <th>id</th>\n",
       "      <th>val</th>\n",
       "    </tr>\n",
       "  </thead>\n",
       "  <tbody>\n",
       "    <tr>\n",
       "      <th>0</th>\n",
       "      <td>3</td>\n",
       "      <td>C</td>\n",
       "    </tr>\n",
       "    <tr>\n",
       "      <th>1</th>\n",
       "      <td>4</td>\n",
       "      <td>D</td>\n",
       "    </tr>\n",
       "  </tbody>\n",
       "</table>\n",
       "</div>"
      ],
      "text/plain": [
       "   id val\n",
       "0   3   C\n",
       "1   4   D"
      ]
     },
     "execution_count": 12,
     "metadata": {},
     "output_type": "execute_result"
    }
   ],
   "source": [
    "pd.concat([df2,df2]).drop_duplicates()"
   ]
  },
  {
   "cell_type": "code",
   "execution_count": 13,
   "id": "05563f27-a2e8-42b1-9334-716133e3b7af",
   "metadata": {},
   "outputs": [],
   "source": [
    "intersection_df = pd.merge(df1, df2, how='inner')\n"
   ]
  },
  {
   "cell_type": "code",
   "execution_count": 14,
   "id": "7bcfe5c6-2cb4-442a-8364-b06583678e10",
   "metadata": {},
   "outputs": [
    {
     "data": {
      "text/html": [
       "<div>\n",
       "<style scoped>\n",
       "    .dataframe tbody tr th:only-of-type {\n",
       "        vertical-align: middle;\n",
       "    }\n",
       "\n",
       "    .dataframe tbody tr th {\n",
       "        vertical-align: top;\n",
       "    }\n",
       "\n",
       "    .dataframe thead th {\n",
       "        text-align: right;\n",
       "    }\n",
       "</style>\n",
       "<table border=\"1\" class=\"dataframe\">\n",
       "  <thead>\n",
       "    <tr style=\"text-align: right;\">\n",
       "      <th></th>\n",
       "      <th>id</th>\n",
       "      <th>val</th>\n",
       "    </tr>\n",
       "  </thead>\n",
       "  <tbody>\n",
       "    <tr>\n",
       "      <th>0</th>\n",
       "      <td>3</td>\n",
       "      <td>C</td>\n",
       "    </tr>\n",
       "  </tbody>\n",
       "</table>\n",
       "</div>"
      ],
      "text/plain": [
       "   id val\n",
       "0   3   C"
      ]
     },
     "execution_count": 14,
     "metadata": {},
     "output_type": "execute_result"
    }
   ],
   "source": [
    "intersection_df"
   ]
  },
  {
   "cell_type": "code",
   "execution_count": 15,
   "id": "cd04f2f2-f4ee-49d0-947b-054bc6154c95",
   "metadata": {},
   "outputs": [],
   "source": [
    "difference_df = pd.concat([df1, df2, df2]).drop_duplicates(keep=False)\n"
   ]
  },
  {
   "cell_type": "code",
   "execution_count": 16,
   "id": "a01a8046-6c4a-407c-a7af-393bacc57f8e",
   "metadata": {},
   "outputs": [
    {
     "data": {
      "text/html": [
       "<div>\n",
       "<style scoped>\n",
       "    .dataframe tbody tr th:only-of-type {\n",
       "        vertical-align: middle;\n",
       "    }\n",
       "\n",
       "    .dataframe tbody tr th {\n",
       "        vertical-align: top;\n",
       "    }\n",
       "\n",
       "    .dataframe thead th {\n",
       "        text-align: right;\n",
       "    }\n",
       "</style>\n",
       "<table border=\"1\" class=\"dataframe\">\n",
       "  <thead>\n",
       "    <tr style=\"text-align: right;\">\n",
       "      <th></th>\n",
       "      <th>id</th>\n",
       "      <th>val</th>\n",
       "    </tr>\n",
       "  </thead>\n",
       "  <tbody>\n",
       "    <tr>\n",
       "      <th>0</th>\n",
       "      <td>1</td>\n",
       "      <td>A</td>\n",
       "    </tr>\n",
       "    <tr>\n",
       "      <th>1</th>\n",
       "      <td>2</td>\n",
       "      <td>B</td>\n",
       "    </tr>\n",
       "  </tbody>\n",
       "</table>\n",
       "</div>"
      ],
      "text/plain": [
       "   id val\n",
       "0   1   A\n",
       "1   2   B"
      ]
     },
     "execution_count": 16,
     "metadata": {},
     "output_type": "execute_result"
    }
   ],
   "source": [
    "difference_df"
   ]
  },
  {
   "cell_type": "code",
   "execution_count": 111,
   "id": "73116166-e5cb-4486-b60a-29f40b245843",
   "metadata": {},
   "outputs": [
    {
     "name": "stdout",
     "output_type": "stream",
     "text": [
      "Requirement already satisfied: matplotlib in c:\\users\\babje\\appdata\\local\\programs\\python\\python312\\lib\\site-packages (3.10.3)\n",
      "Requirement already satisfied: contourpy>=1.0.1 in c:\\users\\babje\\appdata\\local\\programs\\python\\python312\\lib\\site-packages (from matplotlib) (1.3.2)\n",
      "Requirement already satisfied: cycler>=0.10 in c:\\users\\babje\\appdata\\local\\programs\\python\\python312\\lib\\site-packages (from matplotlib) (0.12.1)\n",
      "Requirement already satisfied: fonttools>=4.22.0 in c:\\users\\babje\\appdata\\local\\programs\\python\\python312\\lib\\site-packages (from matplotlib) (4.58.5)\n",
      "Requirement already satisfied: kiwisolver>=1.3.1 in c:\\users\\babje\\appdata\\local\\programs\\python\\python312\\lib\\site-packages (from matplotlib) (1.4.8)\n",
      "Requirement already satisfied: numpy>=1.23 in c:\\users\\babje\\appdata\\local\\programs\\python\\python312\\lib\\site-packages (from matplotlib) (2.3.0)\n",
      "Requirement already satisfied: packaging>=20.0 in c:\\users\\babje\\appdata\\local\\programs\\python\\python312\\lib\\site-packages (from matplotlib) (25.0)\n",
      "Requirement already satisfied: pillow>=8 in c:\\users\\babje\\appdata\\local\\programs\\python\\python312\\lib\\site-packages (from matplotlib) (11.3.0)\n",
      "Requirement already satisfied: pyparsing>=2.3.1 in c:\\users\\babje\\appdata\\local\\programs\\python\\python312\\lib\\site-packages (from matplotlib) (3.2.3)\n",
      "Requirement already satisfied: python-dateutil>=2.7 in c:\\users\\babje\\appdata\\local\\programs\\python\\python312\\lib\\site-packages (from matplotlib) (2.9.0.post0)\n",
      "Requirement already satisfied: six>=1.5 in c:\\users\\babje\\appdata\\local\\programs\\python\\python312\\lib\\site-packages (from python-dateutil>=2.7->matplotlib) (1.17.0)\n",
      "Note: you may need to restart the kernel to use updated packages.\n"
     ]
    }
   ],
   "source": [
    "pip install matplotlib"
   ]
  },
  {
   "cell_type": "code",
   "execution_count": 2,
   "id": "567b826e-71f8-41d0-9f95-1c35373b3cf8",
   "metadata": {},
   "outputs": [
    {
     "data": {
      "image/png": "[encoded data removed]",
      "text/plain": [
       "<Figure size 640x480 with 1 Axes>"
      ]
     },
     "metadata": {},
     "output_type": "display_data"
    }
   ],
   "source": [
    "import pandas as pd\n",
    "import matplotlib.pyplot as plt\n",
    "data = {\n",
    "    'Year': [2019, 2020, 2021, 2022, 2023],\n",
    "    'Revenue': [100, 120, 90, 150, 180],\n",
    "    'Profit': [20, 30, 10, 50, 60] }\n",
    "df = pd.DataFrame(data)\n",
    "df.plot.area(x='Year', y=['Revenue', 'Profit'])\n",
    "#df.plot.area(x='Year')\n",
    "plt.title('Company Revenue and Profit Over Years')\n",
    "plt.xlabel('Year')\n",
    "plt.ylabel('Amount in $K')\n",
    "plt.legend(title='Metrics')\n",
    "plt.show()\n"
   ]
  },
  {
   "cell_type": "code",
   "execution_count": 6,
   "id": "45ce5610-d0af-4b69-a44c-a21a1d86c433",
   "metadata": {},
   "outputs": [
    {
     "data": {
      "image/png": "[encoded data removed]",
      "text/plain": [
       "<Figure size 640x480 with 1 Axes>"
      ]
     },
     "metadata": {},
     "output_type": "display_data"
    }
   ],
   "source": [
    "data = {\n",
    "    'City': ['Delhi', 'Mumbai', 'Bangalore', 'Chennai'],\n",
    "    'Sales': [400, 300, 350, 200]\n",
    "}\n",
    "df = pd.DataFrame(data)\n",
    "colors=['red','blue','green','yellow']\n",
    "df.plot(x='City', y='Sales', kind='bar', color=colors, legend=False)\n",
    "plt.title(\"Sales by City\")\n",
    "plt.xlabel(\"City\")\n",
    "plt.ylabel(\"Sales (in $k)\")\n",
    "plt.grid('both')\n",
    "plt.show()\n"
   ]
  },
  {
   "cell_type": "code",
   "execution_count": 11,
   "id": "a6c66e39-a89f-4fb1-a091-4122cc92ae3b",
   "metadata": {},
   "outputs": [
    {
     "data": {
      "image/png": "[encoded data removed]",
      "text/plain": [
       "<Figure size 640x480 with 1 Axes>"
      ]
     },
     "metadata": {},
     "output_type": "display_data"
    }
   ],
   "source": [
    "data = {\n",
    "    'City': ['Delhi', 'Mumbai', 'Bangalore', 'Chennai'],\n",
    "    '2020': [400, 300, 350, 200],\n",
    "    '2021': [430, 340, 450, 180],\n",
    "   '2022': [400, 440, 400, 280]\n",
    "}\n",
    "df = pd.DataFrame(data)\n",
    "colors=['red','blue','green','yellow']\n",
    "df.plot(x='City',kind='bar', color=colors, legend=False)\n",
    "plt.title(\"Sales by City\")\n",
    "plt.xlabel(\"City\")\n",
    "plt.ylabel(\"Sales (in $k)\")\n",
    "plt.grid('both')\n",
    "plt.show()"
   ]
  },
  {
   "cell_type": "code",
   "execution_count": 12,
   "id": "4d3eead1-c980-4d07-bb49-2bcd4f51d88d",
   "metadata": {},
   "outputs": [
    {
     "data": {
      "image/png": "[encoded data removed]",
      "text/plain": [
       "<Figure size 640x480 with 1 Axes>"
      ]
     },
     "metadata": {},
     "output_type": "display_data"
    }
   ],
   "source": [
    "colors = ['red', 'blue', 'green', 'orange']\n",
    "df.plot(x='City', y='Sales', kind='barh',  legend=False,color=colors)\n",
    "plt.title(\"Sales by City\")\n",
    "plt.xlabel(\"Sales\")\n",
    "plt.ylabel(\"City\")\n",
    "plt.tight_layout()\n",
    "plt.show()\n"
   ]
  },
  {
   "cell_type": "code",
   "execution_count": 22,
   "id": "a8ced340-4807-429c-bd84-87853ece3d9a",
   "metadata": {},
   "outputs": [
    {
     "data": {
      "image/png": "[encoded data removed]",
      "text/plain": [
       "<Figure size 640x480 with 1 Axes>"
      ]
     },
     "metadata": {},
     "output_type": "display_data"
    }
   ],
   "source": [
    "df = pd.DataFrame({\n",
    "    'Product': ['A', 'B', 'C'],\n",
    "    '2023': [100, 150, 120],\n",
    "    '2024': [110, 170, 130],\n",
    "    '2025': [90, 130, 100]        \n",
    "})\n",
    "\n",
    "df.plot(x='Product', kind='bar',stacked=True)\n",
    "plt.title(\"Sales by Product Over Years\")\n",
    "plt.ylabel(\"Sales\")\n",
    "plt.show()\n",
    "\n"
   ]
  },
  {
   "cell_type": "code",
   "execution_count": 32,
   "id": "0f965687-6b44-440f-adef-696467b9ecb7",
   "metadata": {},
   "outputs": [
    {
     "data": {
      "image/png": "[encoded data removed]",
      "text/plain": [
       "<Figure size 640x480 with 1 Axes>"
      ]
     },
     "metadata": {},
     "output_type": "display_data"
    }
   ],
   "source": [
    "df.plot(x='Product', kind='bar', stacked=True, colormap='Paired')\n",
    "plt.title(\"Stacked Sales by Product\")\n",
    "plt.show()\n"
   ]
  },
  {
   "cell_type": "code",
   "execution_count": 16,
   "id": "a45d9743-7bc0-411d-83ff-c8829f171120",
   "metadata": {},
   "outputs": [
    {
     "data": {
      "image/png": "[encoded data removed]",
      "text/plain": [
       "<Figure size 640x480 with 1 Axes>"
      ]
     },
     "metadata": {},
     "output_type": "display_data"
    }
   ],
   "source": [
    "import matplotlib.pyplot as plt\n",
    "labels = ['Apple', 'Samsung', 'Xiaomi', 'Others']\n",
    "sizes = [30, 25, 20, 25]\n",
    "plt.pie(sizes, labels=labels, explode=[0,0,0,0.1],shadow=True,autopct=\"%1.1f%%\")\n",
    "plt.title(\"Smartphone Market Share\")\n",
    "plt.show()\n"
   ]
  },
  {
   "cell_type": "code",
   "execution_count": 19,
   "id": "e4a63e25-6547-4a0a-af23-de14e484586a",
   "metadata": {},
   "outputs": [
    {
     "data": {
      "image/png": "[encoded data removed]",
      "text/plain": [
       "<Figure size 640x480 with 1 Axes>"
      ]
     },
     "metadata": {},
     "output_type": "display_data"
    }
   ],
   "source": [
    "explode = [0, 0.1, 0, 0]  \n",
    "plt.pie(sizes, labels=labels, autopct='%1.1f%%', explode=explode, shadow=True)\n",
    "plt.title(\"Exploded Pie Chart\")\n",
    "plt.axis('equal')\n",
    "plt.show()\n"
   ]
  },
  {
   "cell_type": "code",
   "execution_count": 43,
   "id": "a236c85d-f21f-425e-a908-69c2cdcf483e",
   "metadata": {},
   "outputs": [
    {
     "data": {
      "image/png": "[encoded data removed]",
      "text/plain": [
       "<Figure size 640x480 with 1 Axes>"
      ]
     },
     "metadata": {},
     "output_type": "display_data"
    }
   ],
   "source": [
    "df = pd.DataFrame({\n",
    "    'Age': [21, 25, 30, 35, 40],\n",
    "    'Income': [20000, 28000, 35000, 40000, 50000]\n",
    "})\n",
    "\n",
    "df.plot.scatter(x='Age', y='Income', color='green', title='Age vs Income')\n",
    "plt.grid(True)\n",
    "plt.show()\n"
   ]
  },
  {
   "cell_type": "code",
   "execution_count": 44,
   "id": "382e0dc9-a996-4d5c-9bbc-e14a7dd3823d",
   "metadata": {},
   "outputs": [
    {
     "name": "stdout",
     "output_type": "stream",
     "text": [
      "Collecting squarify\n",
      "  Downloading squarify-0.4.4-py3-none-any.whl.metadata (600 bytes)\n",
      "Downloading squarify-0.4.4-py3-none-any.whl (4.1 kB)\n",
      "Installing collected packages: squarify\n",
      "Successfully installed squarify-0.4.4\n",
      "Note: you may need to restart the kernel to use updated packages.\n"
     ]
    }
   ],
   "source": [
    "pip install squarify"
   ]
  },
  {
   "cell_type": "code",
   "execution_count": 10,
   "id": "37e5d8e3-4b17-46ce-9cad-e8d91fe382f6",
   "metadata": {},
   "outputs": [
    {
     "data": {
      "image/png": "[encoded data removed]",
      "text/plain": [
       "<Figure size 640x480 with 1 Axes>"
      ]
     },
     "metadata": {},
     "output_type": "display_data"
    }
   ],
   "source": [
    "import pandas as pd,squarify\n",
    "import matplotlib.pyplot as plt\n",
    "\n",
    "df = pd.DataFrame({\n",
    "    'Category': ['Laptops', 'Phones', 'Tablets', 'Headphones', 'Accessories'],\n",
    "    'Sales': [500, 700, 300, 200, 100]\n",
    "})\n",
    "\n",
    "squarify.plot(sizes=df['Sales'], label=df['Category'], alpha=0.8)\n",
    "plt.title('Electronics Sales Breakdown')\n",
    "plt.axis('off')  # Hide axes\n",
    "plt.show()\n"
   ]
  },
  {
   "cell_type": "code",
   "execution_count": 27,
   "id": "a39fb9ff-d75d-4d68-91b7-58821857ad3c",
   "metadata": {},
   "outputs": [
    {
     "data": {
      "image/png": "[encoded data removed]",
      "text/plain": [
       "<Figure size 640x480 with 4 Axes>"
      ]
     },
     "metadata": {},
     "output_type": "display_data"
    }
   ],
   "source": [
    "fig,axs = plt.subplots(2, 2)  \n",
    "# Top-left\n",
    "axs[0, 0].plot([1, 2, 3], [1, 4, 9])\n",
    "axs[0, 0].set_title(\"Top-Left\")\n",
    "\n",
    "# Top-right\n",
    "axs[0, 1].plot([1, 2, 3], [2, 5, 10])\n",
    "axs[0, 1].set_title(\"Top-Right\")\n",
    "\n",
    "# Bottom-left\n",
    "axs[1, 0].bar([1, 2, 3], [3, 1, 2])\n",
    "axs[1, 0].set_title(\"Bottom-Left\")\n",
    "\n",
    "# Bottom-right\n",
    "axs[1, 1].hist([1, 1, 2, 3, 3, 3])\n",
    "axs[1, 1].set_title(\"Bottom-Right\")\n",
    "\n",
    "plt.tight_layout()\n",
    "plt.show()\n"
   ]
  },
  {
   "cell_type": "code",
   "execution_count": null,
   "id": "c1c478e4-f620-438e-b02f-63ca386817f0",
   "metadata": {},
   "outputs": [],
   "source": []
  },
  {
   "cell_type": "code",
   "execution_count": 34,
   "id": "8bcdc4d5-981f-445f-83be-391f96b16861",
   "metadata": {},
   "outputs": [
    {
     "data": {
      "image/png": "[encoded data removed]",
      "text/plain": [
       "<Figure size 640x480 with 1 Axes>"
      ]
     },
     "metadata": {},
     "output_type": "display_data"
    }
   ],
   "source": [
    "import pandas as pd\n",
    "# Sample data\n",
    "data = {'Marks': [45,47,48 ,55,56,57,60,61, 65, 70, 72, 74, 76, 78, 80, 82, 85, 88,\n",
    "                  90, 92, 95, 100]}\n",
    "df = pd.DataFrame(data)\n",
    "\n",
    "# Clear Histogram\n",
    "df['Marks'].plot.hist(\n",
    "    bins=11,\n",
    "    color='skyblue',\n",
    "    edgecolor='black',\n",
    ")\n",
    "\n",
    "plt.title(\"Student Marks Distribution\")\n",
    "plt.xlabel(\"Marks\")\n",
    "plt.ylabel(\"Number of Students\")\n",
    "plt.grid(axis='y', linestyle='--', alpha=0.6)\n",
    "plt.tight_layout()\n",
    "plt.show()\n",
    "\n"
   ]
  },
  {
   "cell_type": "code",
   "execution_count": null,
   "id": "9ee2a480-2617-4208-bfed-9e1a0e01beed",
   "metadata": {},
   "outputs": [],
   "source": []
  }
 ],
 "metadata": {
  "kernelspec": {
   "display_name": "Python 3 (ipykernel)",
   "language": "python",
   "name": "python3"
  },
  "language_info": {
   "codemirror_mode": {
    "name": "ipython",
    "version": 3
   },
   "file_extension": ".py",
   "mimetype": "text/x-python",
   "name": "python",
   "nbconvert_exporter": "python",
   "pygments_lexer": "ipython3",
   "version": "3.12.10"
  }
 },
 "nbformat": 4,
 "nbformat_minor": 5
}

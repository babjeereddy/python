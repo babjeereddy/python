{
 "cells": [
  {
   "cell_type": "code",
   "execution_count": 1,
   "id": "ab580e8f-98cc-497a-be14-bbc91c5d2e32",
   "metadata": {},
   "outputs": [
    {
     "name": "stderr",
     "output_type": "stream",
     "text": [
      "INFO:root:This is an info message\n",
      "WARNING:root:This is a warning\n"
     ]
    }
   ],
   "source": [
    "import logging\n",
    "\n",
    "logging.basicConfig(level=logging.INFO)\n",
    "logging.info(\"This is an info message\")\n",
    "logging.warning(\"This is a warning\")\n"
   ]
  },
  {
   "cell_type": "code",
   "execution_count": 6,
   "id": "556bdbb4-f4a2-4f4b-856c-36508a9e1f6f",
   "metadata": {},
   "outputs": [
    {
     "name": "stderr",
     "output_type": "stream",
     "text": [
      "INFO:root:Formatted info\n"
     ]
    }
   ],
   "source": [
    "import time\n",
    "import logging\n",
    "logging.basicConfig(\n",
    "    level=logging.INFO,\n",
    "    format='%(asctime)s - %(levelname)s - %(message)s'\n",
    ")\n",
    "time.sleep(10)\n",
    "logging.info(\"Formatted info\")\n"
   ]
  },
  {
   "cell_type": "code",
   "execution_count": 12,
   "id": "35bf2c7a-a775-4ef2-b862-cbb48caed24b",
   "metadata": {},
   "outputs": [],
   "source": [
    "import logging\n",
    "logging.basicConfig(\n",
    "    filename='C:/Python_Challenge/new.log',\n",
    "    level=logging.DEBUG,\n",
    "    format='%(asctime)s - %(levelname)s - %(message)s'\n",
    ")\n",
    "\n",
    "logging.debug(\"This is a debug message\")\n"
   ]
  },
  {
   "cell_type": "code",
   "execution_count": null,
   "id": "126be3f0-1112-4a88-b4fb-9179e6587484",
   "metadata": {},
   "outputs": [],
   "source": []
  }
 ],
 "metadata": {
  "kernelspec": {
   "display_name": "Python 3 (ipykernel)",
   "language": "python",
   "name": "python3"
  },
  "language_info": {
   "codemirror_mode": {
    "name": "ipython",
    "version": 3
   },
   "file_extension": ".py",
   "mimetype": "text/x-python",
   "name": "python",
   "nbconvert_exporter": "python",
   "pygments_lexer": "ipython3",
   "version": "3.12.10"
  }
 },
 "nbformat": 4,
 "nbformat_minor": 5
}

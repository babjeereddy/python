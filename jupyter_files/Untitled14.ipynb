{
 "cells": [
  {
   "cell_type": "code",
   "execution_count": 10,
   "id": "f0803123-72ed-4c78-8ee5-db262040ad81",
   "metadata": {},
   "outputs": [
    {
     "name": "stdout",
     "output_type": "stream",
     "text": [
      "[10, 20, 30, 40]\n"
     ]
    }
   ],
   "source": [
    "import pickle\n",
    "lst=[10,20,30,40]\n",
    "with open(\"c:/python_challenge/lst.pkl\",\"wb\") as f:\n",
    "    pickle.dump(lst,f,protocol=3)\n",
    "lst=[10,20,30,40]\n",
    "with open(\"c:/python_challenge/lst.pkl\",\"rb\") as f1:\n",
    "    lst_obj =pickle.load(f1)\n",
    "print(lst_obj)\n",
    "    "
   ]
  },
  {
   "cell_type": "code",
   "execution_count": 8,
   "id": "35a8ecf3-7207-4659-b7b5-a374d2c03541",
   "metadata": {},
   "outputs": [
    {
     "name": "stdout",
     "output_type": "stream",
     "text": [
      "    0: \\x80 PROTO      3\n",
      "    2: ]    EMPTY_LIST\n",
      "    3: q    BINPUT     0\n",
      "    5: (    MARK\n",
      "    6: K        BININT1    10\n",
      "    8: K        BININT1    20\n",
      "   10: K        BININT1    30\n",
      "   12: K        BININT1    40\n",
      "   14: e        APPENDS    (MARK at 5)\n",
      "   15: .    STOP\n",
      "highest protocol among opcodes = 2\n",
      "None\n"
     ]
    }
   ],
   "source": [
    "import pickletools\n",
    "with open(\"c:/python_challenge/lst.pkl\",\"rb\") as f:\n",
    "    list_dbg=pickletools.dis(f)\n",
    "print(list_dbg)\n"
   ]
  },
  {
   "cell_type": "code",
   "execution_count": 12,
   "id": "f9d6c2b7-7de8-43b3-b088-b41e02bbf48c",
   "metadata": {},
   "outputs": [],
   "source": [
    "d={\"name\":\"Ram\",\"age\":20,\"gender\":\"Male\"}\n",
    "with open('c:/python_challenge/dis.pkl','wb') as f:\n",
    "    pickle.dump(d,f)"
   ]
  },
  {
   "cell_type": "code",
   "execution_count": 14,
   "id": "355933a4-97ab-413b-a5c4-830ad287c81a",
   "metadata": {},
   "outputs": [
    {
     "name": "stdout",
     "output_type": "stream",
     "text": [
      "{'name': 'Ram', 'age': 20, 'gender': 'Male'}\n",
      "    0: \\x80 PROTO      4\n",
      "    2: \\x95 FRAME      42\n",
      "   11: }    EMPTY_DICT\n",
      "   12: \\x94 MEMOIZE    (as 0)\n",
      "   13: (    MARK\n",
      "   14: \\x8c     SHORT_BINUNICODE 'name'\n",
      "   20: \\x94     MEMOIZE    (as 1)\n",
      "   21: \\x8c     SHORT_BINUNICODE 'Ram'\n",
      "   26: \\x94     MEMOIZE    (as 2)\n",
      "   27: \\x8c     SHORT_BINUNICODE 'age'\n",
      "   32: \\x94     MEMOIZE    (as 3)\n",
      "   33: K        BININT1    20\n",
      "   35: \\x8c     SHORT_BINUNICODE 'gender'\n",
      "   43: \\x94     MEMOIZE    (as 4)\n",
      "   44: \\x8c     SHORT_BINUNICODE 'Male'\n",
      "   50: \\x94     MEMOIZE    (as 5)\n",
      "   51: u        SETITEMS   (MARK at 13)\n",
      "   52: .    STOP\n",
      "highest protocol among opcodes = 4\n"
     ]
    }
   ],
   "source": [
    "with open('c:/python_challenge/dis.pkl','rb') as f:\n",
    "    d_obj =pickle.load(f)\n",
    "print(d_obj)\n",
    "with open('c:/python_challenge/dis.pkl','rb') as f1:\n",
    "    obj=pickletools.dis(f1)"
   ]
  },
  {
   "cell_type": "code",
   "execution_count": 15,
   "id": "8b655558-b47d-4bea-9c5a-d9fda442ae2c",
   "metadata": {},
   "outputs": [],
   "source": [
    "class Person:\n",
    "    name=\"Ram\"\n",
    "    age=30\n",
    "p=Person()"
   ]
  },
  {
   "cell_type": "code",
   "execution_count": 16,
   "id": "1cd53c97-63a1-413e-934b-d07293b38421",
   "metadata": {},
   "outputs": [],
   "source": [
    "with open('c:/python_challenge/class.pkl','wb') as f:\n",
    "    pickle.dump(p,f)"
   ]
  },
  {
   "cell_type": "code",
   "execution_count": 18,
   "id": "e90a9847-e721-48f9-994c-8e689b832f96",
   "metadata": {},
   "outputs": [
    {
     "name": "stdout",
     "output_type": "stream",
     "text": [
      "    0: \\x80 PROTO      4\n",
      "    2: \\x95 FRAME      26\n",
      "   11: \\x8c SHORT_BINUNICODE '__main__'\n",
      "   21: \\x94 MEMOIZE    (as 0)\n",
      "   22: \\x8c SHORT_BINUNICODE 'Person'\n",
      "   30: \\x94 MEMOIZE    (as 1)\n",
      "   31: \\x93 STACK_GLOBAL\n",
      "   32: \\x94 MEMOIZE    (as 2)\n",
      "   33: )    EMPTY_TUPLE\n",
      "   34: \\x81 NEWOBJ\n",
      "   35: \\x94 MEMOIZE    (as 3)\n",
      "   36: .    STOP\n",
      "highest protocol among opcodes = 4\n",
      "None\n"
     ]
    }
   ],
   "source": [
    "with open('c:/python_challenge/class.pkl','rb') as f:\n",
    "    obj=pickletools.dis(f)\n",
    "print(obj)"
   ]
  },
  {
   "cell_type": "code",
   "execution_count": 23,
   "id": "9b71d008-97b6-4870-8156-536397874a8b",
   "metadata": {},
   "outputs": [
    {
     "name": "stdout",
     "output_type": "stream",
     "text": [
      "[[10, 20, 30], ['ram', 'sham', 'sunil'], [True, False]]\n"
     ]
    }
   ],
   "source": [
    "lst=[[10,20,30],[\"ram\",\"sham\",\"sunil\"],[True,False]]\n",
    "with open('c:/python_challenge/nl.pkl','wb') as f:\n",
    "    pickle.dump(lst,f)\n",
    "with open('c:/python_challenge/nl.pkl','rb') as f:\n",
    "    nl=pickle.load(f)\n",
    "print(nl)"
   ]
  },
  {
   "cell_type": "code",
   "execution_count": 24,
   "id": "67afa0a4-3f46-412d-9ac3-21c47a51568e",
   "metadata": {},
   "outputs": [
    {
     "data": {
      "text/plain": [
       "[[10, 20, 30], ['ram', 'sham', 'sunil'], [True, False]]"
      ]
     },
     "execution_count": 24,
     "metadata": {},
     "output_type": "execute_result"
    }
   ],
   "source": [
    "lst"
   ]
  },
  {
   "cell_type": "code",
   "execution_count": 26,
   "id": "520f265b-0f37-4c58-be84-906887365f11",
   "metadata": {},
   "outputs": [
    {
     "name": "stdout",
     "output_type": "stream",
     "text": [
      "b'\\x80\\x04\\x95.\\x00\\x00\\x00\\x00\\x00\\x00\\x00]\\x94(]\\x94(K\\nK\\x14K\\x1ee]\\x94(\\x8c\\x03ram\\x94\\x8c\\x04sham\\x94\\x8c\\x05sunil\\x94e]\\x94(\\x88\\x89ee.'\n"
     ]
    }
   ],
   "source": [
    "lst_dmp=pickle.dumps(lst)\n",
    "print(lst_dmp)"
   ]
  },
  {
   "cell_type": "code",
   "execution_count": 29,
   "id": "a93a47ea-5bfa-446a-a736-8719d6e733da",
   "metadata": {},
   "outputs": [
    {
     "name": "stdout",
     "output_type": "stream",
     "text": [
      "[[10, 20, 30], ['ram', 'sham', 'sunil'], [True, False]]\n",
      "    0: \\x80 PROTO      4\n",
      "    2: \\x95 FRAME      46\n",
      "   11: ]    EMPTY_LIST\n",
      "   12: \\x94 MEMOIZE    (as 0)\n",
      "   13: (    MARK\n",
      "   14: ]        EMPTY_LIST\n",
      "   15: \\x94     MEMOIZE    (as 1)\n",
      "   16: (        MARK\n",
      "   17: K            BININT1    10\n",
      "   19: K            BININT1    20\n",
      "   21: K            BININT1    30\n",
      "   23: e            APPENDS    (MARK at 16)\n",
      "   24: ]        EMPTY_LIST\n",
      "   25: \\x94     MEMOIZE    (as 2)\n",
      "   26: (        MARK\n",
      "   27: \\x8c         SHORT_BINUNICODE 'ram'\n",
      "   32: \\x94         MEMOIZE    (as 3)\n",
      "   33: \\x8c         SHORT_BINUNICODE 'sham'\n",
      "   39: \\x94         MEMOIZE    (as 4)\n",
      "   40: \\x8c         SHORT_BINUNICODE 'sunil'\n",
      "   47: \\x94         MEMOIZE    (as 5)\n",
      "   48: e            APPENDS    (MARK at 26)\n",
      "   49: ]        EMPTY_LIST\n",
      "   50: \\x94     MEMOIZE    (as 6)\n",
      "   51: (        MARK\n",
      "   52: \\x88         NEWTRUE\n",
      "   53: \\x89         NEWFALSE\n",
      "   54: e            APPENDS    (MARK at 51)\n",
      "   55: e        APPENDS    (MARK at 13)\n",
      "   56: .    STOP\n",
      "highest protocol among opcodes = 4\n"
     ]
    }
   ],
   "source": [
    "print(pickle.loads(lst_dmp))\n",
    "pickletools.dis(lst_dmp)"
   ]
  },
  {
   "cell_type": "code",
   "execution_count": 30,
   "id": "0065ffb7-3fe2-49dc-b528-277844d2a801",
   "metadata": {},
   "outputs": [],
   "source": [
    "class Car:\n",
    "    pass"
   ]
  },
  {
   "cell_type": "code",
   "execution_count": 36,
   "id": "9f6f9eb9-c883-4054-9fc9-165a961a9ba6",
   "metadata": {},
   "outputs": [
    {
     "name": "stdout",
     "output_type": "stream",
     "text": [
      "brand:Toyota , model:Innova\n",
      "brand:Maruthi , model:S-cross\n"
     ]
    }
   ],
   "source": [
    "c1 =Car()\n",
    "c2 =Car()\n",
    "c1.brand=\"Toyota\"\n",
    "c1.model=\"Innova\"\n",
    "c2.brand=\"Maruthi\"\n",
    "c2.model=\"S-cross\"\n",
    "print(f\"brand:{c1.brand} , model:{c1.model}\")\n",
    "print(f\"brand:{c2.brand} , model:{c2.model}\")\n"
   ]
  },
  {
   "cell_type": "code",
   "execution_count": 37,
   "id": "674ec1c9-9d2f-49f4-80aa-fb7f46d62aee",
   "metadata": {},
   "outputs": [],
   "source": [
    "class Car:\n",
    "    brand=\"Maruthi\"\n",
    "    model=\"S-Cross\"\n",
    "    color=\"Red\""
   ]
  },
  {
   "cell_type": "code",
   "execution_count": 38,
   "id": "28caa154-6165-4dcb-adf9-9aac58038c31",
   "metadata": {},
   "outputs": [
    {
     "name": "stdout",
     "output_type": "stream",
     "text": [
      "Maruthi, S-Cross, Red\n",
      "Maruthi, swift, Red\n"
     ]
    }
   ],
   "source": [
    "c1=Car()\n",
    "c2=Car()\n",
    "c2.model=\"swift\"\n",
    "print(f\"{c1.brand}, {c1.model}, {c1.color}\")\n",
    "print(f\"{c2.brand}, {c2.model}, {c2.color}\")\n",
    "\n"
   ]
  },
  {
   "cell_type": "code",
   "execution_count": 43,
   "id": "370146ad-0c7c-4d7c-884d-3d4962aa0c05",
   "metadata": {},
   "outputs": [],
   "source": [
    "class Car:\n",
    "    def __init__(self,brand,model,color):\n",
    "        self.brand=brand\n",
    "        self.model=model\n",
    "        self.color=color\n",
    "    def display_dtl(self):\n",
    "        print(f\"Brand:{self.brand},Model:{self.model},Color:{self.color}\")"
   ]
  },
  {
   "cell_type": "code",
   "execution_count": 46,
   "id": "e898c3fe-a83b-494c-ab9d-27257d055689",
   "metadata": {},
   "outputs": [
    {
     "name": "stdout",
     "output_type": "stream",
     "text": [
      "Brand:Toyota,Model:Altis,Color:Red\n",
      "Brand:Toyota,Model:Innova,Color:Blue\n"
     ]
    }
   ],
   "source": [
    "c1=Car(\"Toyota\",\"Altis\",\"Red\")\n",
    "c2=Car(\"Toyota\",\"Innova\",\"Blue\")\n",
    "c1.display_dtl()\n",
    "c2.display_dtl()\n"
   ]
  },
  {
   "cell_type": "code",
   "execution_count": 57,
   "id": "21d265e0-812d-42b4-b1d3-1b1ae89fe28b",
   "metadata": {},
   "outputs": [],
   "source": [
    "class Car:\n",
    "    wheels=4  #class variables\n",
    "    def setter(self,model,color):\n",
    "        self.model=model  #instance variables\n",
    "        self.color=color  #instance variables\n",
    "    def getter(self):\n",
    "        print(f\"model:{self.model},color:{self.color}\")\n",
    "    def welcome(self):\n",
    "        greet=\"Welcome to car world\"  #local variables\n",
    "        print(greet)\n",
    "    "
   ]
  },
  {
   "cell_type": "code",
   "execution_count": 62,
   "id": "7e23bede-2b18-4d56-a157-c4f16bc7ce9f",
   "metadata": {},
   "outputs": [
    {
     "name": "stdout",
     "output_type": "stream",
     "text": [
      "4\n",
      "Welcome to car world\n",
      "model:Fortuner,color:red\n"
     ]
    },
    {
     "ename": "AttributeError",
     "evalue": "'Car' object has no attribute 'greet'",
     "output_type": "error",
     "traceback": [
      "\u001b[31m---------------------------------------------------------------------------\u001b[39m",
      "\u001b[31mAttributeError\u001b[39m                            Traceback (most recent call last)",
      "\u001b[36mCell\u001b[39m\u001b[36m \u001b[39m\u001b[32mIn[62]\u001b[39m\u001b[32m, line 6\u001b[39m\n\u001b[32m      4\u001b[39m c1.setter(\u001b[33m\"\u001b[39m\u001b[33mFortuner\u001b[39m\u001b[33m\"\u001b[39m,\u001b[33m\"\u001b[39m\u001b[33mred\u001b[39m\u001b[33m\"\u001b[39m)\n\u001b[32m      5\u001b[39m c1.getter()\n\u001b[32m----> \u001b[39m\u001b[32m6\u001b[39m \u001b[38;5;28mprint\u001b[39m(\u001b[43mc1\u001b[49m\u001b[43m.\u001b[49m\u001b[43mgreet\u001b[49m)\n",
      "\u001b[31mAttributeError\u001b[39m: 'Car' object has no attribute 'greet'"
     ]
    }
   ],
   "source": [
    "print(Car.wheels)\n",
    "c1 =Car()\n",
    "c1.welcome()\n",
    "c1.setter(\"Fortuner\",\"red\")\n",
    "c1.getter()\n",
    "print(c1.greet)"
   ]
  },
  {
   "cell_type": "code",
   "execution_count": 77,
   "id": "187262b2-8f42-4ee3-8345-0c182d688992",
   "metadata": {},
   "outputs": [],
   "source": [
    "class Point:\n",
    "    def __init__(self,x,y):\n",
    "        self.x=x\n",
    "        self.y=y\n",
    "    def __add__(self,other):\n",
    "        return Point(self.x+other.x, self.y+other.y)\n",
    "    def __repr__(self):\n",
    "        return f\"Point({self.x}, {self.y})\"\n"
   ]
  },
  {
   "cell_type": "code",
   "execution_count": 81,
   "id": "e991d1b9-6238-4ac1-b3e9-b64197d9fdb0",
   "metadata": {},
   "outputs": [
    {
     "name": "stdout",
     "output_type": "stream",
     "text": [
      "<class '__main__.Point'>\n"
     ]
    }
   ],
   "source": [
    "p1=Point(3,4)\n",
    "p2=Point(2,3)\n",
    "print(type(p1+p2))"
   ]
  },
  {
   "cell_type": "code",
   "execution_count": null,
   "id": "5df5be98-d3d1-49da-9199-a2c45f411f3e",
   "metadata": {},
   "outputs": [],
   "source": []
  }
 ],
 "metadata": {
  "kernelspec": {
   "display_name": "Python 3 (ipykernel)",
   "language": "python",
   "name": "python3"
  },
  "language_info": {
   "codemirror_mode": {
    "name": "ipython",
    "version": 3
   },
   "file_extension": ".py",
   "mimetype": "text/x-python",
   "name": "python",
   "nbconvert_exporter": "python",
   "pygments_lexer": "ipython3",
   "version": "3.12.10"
  }
 },
 "nbformat": 4,
 "nbformat_minor": 5
}

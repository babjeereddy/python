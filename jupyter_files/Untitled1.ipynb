{
 "cells": [
  {
   "cell_type": "code",
   "execution_count": 2,
   "id": "d316cb4c-4546-4dce-b69f-de057b151805",
   "metadata": {},
   "outputs": [
    {
     "data": {
      "text/plain": [
       "1"
      ]
     },
     "execution_count": 2,
     "metadata": {},
     "output_type": "execute_result"
    }
   ],
   "source": [
    "\n",
    "abs(-1)"
   ]
  },
  {
   "cell_type": "code",
   "execution_count": 4,
   "id": "0d30c9d0-9c6c-4bb2-bbf2-4c12c27ac6ef",
   "metadata": {},
   "outputs": [
    {
     "data": {
      "text/plain": [
       "97"
      ]
     },
     "execution_count": 4,
     "metadata": {},
     "output_type": "execute_result"
    }
   ],
   "source": [
    "ord('a')"
   ]
  },
  {
   "cell_type": "code",
   "execution_count": 5,
   "id": "4e118ccd-f224-4d92-956d-a0f534a4bd77",
   "metadata": {},
   "outputs": [
    {
     "data": {
      "text/plain": [
       "'A'"
      ]
     },
     "execution_count": 5,
     "metadata": {},
     "output_type": "execute_result"
    }
   ],
   "source": [
    "chr(65)"
   ]
  },
  {
   "cell_type": "code",
   "execution_count": 6,
   "id": "a7414c40-73c3-45bc-9740-0178b3f4abe4",
   "metadata": {},
   "outputs": [
    {
     "data": {
      "text/plain": [
       "True"
      ]
     },
     "execution_count": 6,
     "metadata": {},
     "output_type": "execute_result"
    }
   ],
   "source": [
    "any([10>5, 5 <10, 10 <1])"
   ]
  },
  {
   "cell_type": "code",
   "execution_count": 7,
   "id": "349ca322-7836-4549-ab66-45ff4c91607f",
   "metadata": {},
   "outputs": [
    {
     "data": {
      "text/plain": [
       "False"
      ]
     },
     "execution_count": 7,
     "metadata": {},
     "output_type": "execute_result"
    }
   ],
   "source": [
    "all([10>5, 5 <10, 10 <1])"
   ]
  },
  {
   "cell_type": "code",
   "execution_count": 8,
   "id": "063a66d2-8aa6-464e-ba08-73ea673603eb",
   "metadata": {},
   "outputs": [
    {
     "data": {
      "text/plain": [
       "'0b1010'"
      ]
     },
     "execution_count": 8,
     "metadata": {},
     "output_type": "execute_result"
    }
   ],
   "source": [
    "bin(10)"
   ]
  },
  {
   "cell_type": "code",
   "execution_count": 6,
   "id": "6d4a6f3e-ccfb-4028-aec3-5bfbc91ac256",
   "metadata": {},
   "outputs": [
    {
     "data": {
      "text/plain": [
       "30"
      ]
     },
     "execution_count": 6,
     "metadata": {},
     "output_type": "execute_result"
    }
   ],
   "source": [
    "def calculate_sum(a, b):\n",
    "    result = a + b\n",
    "    breakpoint()  # Pauses here and opens debugger\n",
    "    return result\n",
    "\n",
    "calculate_sum(10, 20)"
   ]
  },
  {
   "cell_type": "code",
   "execution_count": 7,
   "id": "258bc1f8-7f48-4050-9f7f-dab0e85b6200",
   "metadata": {},
   "outputs": [
    {
     "data": {
      "text/plain": [
       "False"
      ]
     },
     "execution_count": 7,
     "metadata": {},
     "output_type": "execute_result"
    }
   ],
   "source": [
    "bool(0)"
   ]
  },
  {
   "cell_type": "code",
   "execution_count": 8,
   "id": "45d5e691-3882-4c10-bd11-69127b898b9c",
   "metadata": {},
   "outputs": [
    {
     "name": "stdout",
     "output_type": "stream",
     "text": [
      "bytearray(b'\\x00\\x00\\x00\\x00')\n"
     ]
    }
   ],
   "source": [
    "print(bytearray(4))"
   ]
  },
  {
   "cell_type": "code",
   "execution_count": 10,
   "id": "acfdbfb1-3748-4935-8c33-49ee85a3acb9",
   "metadata": {},
   "outputs": [
    {
     "data": {
      "text/plain": [
       "b'\\x00\\x00\\x00\\x00\\x00'"
      ]
     },
     "execution_count": 10,
     "metadata": {},
     "output_type": "execute_result"
    }
   ],
   "source": [
    "bytes(5)"
   ]
  },
  {
   "cell_type": "code",
   "execution_count": 11,
   "id": "45f49a34-1ff2-4eb2-b73b-0b11a482b35f",
   "metadata": {},
   "outputs": [
    {
     "data": {
      "text/plain": [
       "True"
      ]
     },
     "execution_count": 11,
     "metadata": {},
     "output_type": "execute_result"
    }
   ],
   "source": [
    "callable(print)"
   ]
  },
  {
   "cell_type": "code",
   "execution_count": 12,
   "id": "748ba6f0-c4d9-4e11-abe1-2fe07c4fe1a7",
   "metadata": {},
   "outputs": [
    {
     "data": {
      "text/plain": [
       "False"
      ]
     },
     "execution_count": 12,
     "metadata": {},
     "output_type": "execute_result"
    }
   ],
   "source": [
    "x =5\n",
    "callable(x)"
   ]
  },
  {
   "cell_type": "code",
   "execution_count": 16,
   "id": "0bf74094-b0e0-4c0b-9108-dd2f969602a5",
   "metadata": {},
   "outputs": [],
   "source": [
    "x = dict(name = \"John\", age = 36, country = \"Norway\")\n"
   ]
  },
  {
   "cell_type": "code",
   "execution_count": 18,
   "id": "b717c0c8-fe52-4e81-bd6c-269c1a9896ad",
   "metadata": {},
   "outputs": [
    {
     "name": "stdout",
     "output_type": "stream",
     "text": [
      "{'name': 'John', 'age': 36, 'country': 'Norway'}\n"
     ]
    }
   ],
   "source": [
    "print(x)"
   ]
  },
  {
   "cell_type": "code",
   "execution_count": 24,
   "id": "46862322-2d53-4430-a576-90555ed89f4f",
   "metadata": {},
   "outputs": [
    {
     "name": "stdout",
     "output_type": "stream",
     "text": [
      "['__class__', '__delattr__', '__dict__', '__dir__', '__doc__', '__eq__', '__format__', '__ge__', '__getattribute__', '__getstate__', '__gt__', '__hash__', '__init__', '__init_subclass__', '__le__', '__lt__', '__module__', '__ne__', '__new__', '__reduce__', '__reduce_ex__', '__repr__', '__setattr__', '__sizeof__', '__str__', '__subclasshook__', '__weakref__', 'age', 'country', 'name', 'printname']\n"
     ]
    }
   ],
   "source": [
    "class Person:\n",
    "  name = \"John\"\n",
    "  age = 36\n",
    "  country = \"Norway\"\n",
    "  def printname():\n",
    "    pass\n",
    "\n",
    "print(dir(Person))"
   ]
  },
  {
   "cell_type": "code",
   "execution_count": 26,
   "id": "1123b136-a24c-4bb7-8f9e-a38f3a67c0c7",
   "metadata": {},
   "outputs": [
    {
     "name": "stdout",
     "output_type": "stream",
     "text": [
      "(2, 1)\n"
     ]
    }
   ],
   "source": [
    "#Display the quotient and the remainder of 5 divided by 2:\n",
    "\n",
    "x = divmod(5, 2)\n",
    "print(x)"
   ]
  },
  {
   "cell_type": "code",
   "execution_count": 30,
   "id": "cf3f9ac9-3b31-4cc6-a3aa-fedbcb0de90e",
   "metadata": {},
   "outputs": [
    {
     "name": "stdout",
     "output_type": "stream",
     "text": [
      "[(0, 'apple'), (1, 'banana'), (2, 'cherry')]\n"
     ]
    }
   ],
   "source": [
    "x = ('apple', 'banana', 'cherry')\n",
    "y = enumerate(x)\n",
    "\n",
    "print(list(y))"
   ]
  },
  {
   "cell_type": "code",
   "execution_count": 34,
   "id": "ebbcbd27-be8f-4e87-af53-925a3447798e",
   "metadata": {},
   "outputs": [
    {
     "name": "stdout",
     "output_type": "stream",
     "text": [
      "1 apple\n",
      "2 banana\n",
      "3 cherry\n"
     ]
    }
   ],
   "source": [
    "for index,value in enumerate(x,1):\n",
    "    print(index,value)"
   ]
  },
  {
   "cell_type": "code",
   "execution_count": 35,
   "id": "eb2d2b8d-de05-495e-ba11-4e15e2009c05",
   "metadata": {},
   "outputs": [],
   "source": [
    "mylist = ['apple', 'banana', 'cherry']\n",
    "x = frozenset(mylist)"
   ]
  },
  {
   "cell_type": "code",
   "execution_count": 36,
   "id": "0fcd2b6b-14fc-48e2-824f-32e06dc48172",
   "metadata": {},
   "outputs": [
    {
     "data": {
      "text/plain": [
       "frozenset({'apple', 'banana', 'cherry'})"
      ]
     },
     "execution_count": 36,
     "metadata": {},
     "output_type": "execute_result"
    }
   ],
   "source": [
    "x"
   ]
  },
  {
   "cell_type": "code",
   "execution_count": 40,
   "id": "9b79c569-4cf7-4a5c-8abc-a7db9fb0ca6c",
   "metadata": {},
   "outputs": [
    {
     "data": {
      "text/plain": [
       "-4020644344369602092"
      ]
     },
     "execution_count": 40,
     "metadata": {},
     "output_type": "execute_result"
    }
   ],
   "source": [
    "hash('babjee')"
   ]
  },
  {
   "cell_type": "code",
   "execution_count": 41,
   "id": "740e6bb5-e50f-42ed-92f9-6f5b3a9f1665",
   "metadata": {},
   "outputs": [
    {
     "data": {
      "text/plain": [
       "'0x14'"
      ]
     },
     "execution_count": 41,
     "metadata": {},
     "output_type": "execute_result"
    }
   ],
   "source": [
    "hex(20)"
   ]
  },
  {
   "cell_type": "code",
   "execution_count": 48,
   "id": "048e5fa9-8aa8-431b-9612-56c2e33f0c53",
   "metadata": {},
   "outputs": [
    {
     "data": {
      "text/plain": [
       "False"
      ]
     },
     "execution_count": 48,
     "metadata": {},
     "output_type": "execute_result"
    }
   ],
   "source": [
    "isinstance(5,int)"
   ]
  },
  {
   "cell_type": "code",
   "execution_count": 49,
   "id": "3663ced9-9c0a-4028-9af2-472506b304fc",
   "metadata": {},
   "outputs": [
    {
     "data": {
      "text/plain": [
       "False"
      ]
     },
     "execution_count": 49,
     "metadata": {},
     "output_type": "execute_result"
    }
   ],
   "source": [
    "isinstance(5.5,int)"
   ]
  },
  {
   "cell_type": "code",
   "execution_count": 50,
   "id": "61611f92-7576-46e9-90db-bd849aab9621",
   "metadata": {},
   "outputs": [
    {
     "name": "stdout",
     "output_type": "stream",
     "text": [
      "True\n"
     ]
    }
   ],
   "source": [
    "class myObj:\n",
    "  name = \"John\"\n",
    "\n",
    "y = myObj()\n",
    "\n",
    "x = isinstance(y, myObj)\n",
    "\n",
    "print(x)\n"
   ]
  },
  {
   "cell_type": "code",
   "execution_count": 51,
   "id": "9060cdc0-bd62-45b0-882e-f00dae05b043",
   "metadata": {},
   "outputs": [
    {
     "name": "stdout",
     "output_type": "stream",
     "text": [
      "apple\n",
      "banana\n",
      "cherry\n"
     ]
    }
   ],
   "source": [
    "x = iter([\"apple\", \"banana\", \"cherry\"])\n",
    "print(next(x))\n",
    "print(next(x))\n",
    "print(next(x))"
   ]
  },
  {
   "cell_type": "code",
   "execution_count": 55,
   "id": "8616df3f-f77b-4da8-ac67-aa204a6506eb",
   "metadata": {},
   "outputs": [
    {
     "name": "stdout",
     "output_type": "stream",
     "text": [
      "10\n",
      "20\n",
      "30\n"
     ]
    }
   ],
   "source": [
    "numbers = [10, 20, 30]\n",
    "itr = iter(numbers)\n",
    "\n",
    "for item in itr:\n",
    "    print(item)"
   ]
  },
  {
   "cell_type": "code",
   "execution_count": 57,
   "id": "d66aec08-21f8-46c6-ae63-bd64d90ab3f6",
   "metadata": {},
   "outputs": [
    {
     "data": {
      "text/plain": [
       "3"
      ]
     },
     "execution_count": 57,
     "metadata": {},
     "output_type": "execute_result"
    }
   ],
   "source": [
    "len(\"Ram\")"
   ]
  },
  {
   "cell_type": "code",
   "execution_count": 58,
   "id": "6ae1cabd-9234-4168-a780-a83cae58afc3",
   "metadata": {},
   "outputs": [
    {
     "data": {
      "text/plain": [
       "3"
      ]
     },
     "execution_count": 58,
     "metadata": {},
     "output_type": "execute_result"
    }
   ],
   "source": [
    "len([10,20,30])"
   ]
  },
  {
   "cell_type": "code",
   "execution_count": 59,
   "id": "4839bd5d-a7ae-4efb-8a8b-03c572a339cf",
   "metadata": {},
   "outputs": [],
   "source": [
    "lst = list((10,20,30))"
   ]
  },
  {
   "cell_type": "code",
   "execution_count": 60,
   "id": "25aaa59b-c95e-457b-adf7-0017393d90ed",
   "metadata": {},
   "outputs": [
    {
     "data": {
      "text/plain": [
       "[10, 20, 30]"
      ]
     },
     "execution_count": 60,
     "metadata": {},
     "output_type": "execute_result"
    }
   ],
   "source": [
    "lst"
   ]
  },
  {
   "cell_type": "code",
   "execution_count": 62,
   "id": "e246a1db-04a1-40b4-b6c8-7ea8a702a764",
   "metadata": {},
   "outputs": [
    {
     "data": {
      "text/plain": [
       "100"
      ]
     },
     "execution_count": 62,
     "metadata": {},
     "output_type": "execute_result"
    }
   ],
   "source": [
    "pow(10,2)"
   ]
  },
  {
   "cell_type": "code",
   "execution_count": 67,
   "id": "313828f2-6d73-412c-8d12-6f0359f6b192",
   "metadata": {},
   "outputs": [
    {
     "data": {
      "text/plain": [
       "['d', 'c', 'b', 'a']"
      ]
     },
     "execution_count": 67,
     "metadata": {},
     "output_type": "execute_result"
    }
   ],
   "source": [
    "alph = [\"a\", \"b\", \"c\", \"d\"]\n",
    "ralph = list(reversed(alph))\n",
    "ralph\n"
   ]
  },
  {
   "cell_type": "code",
   "execution_count": 68,
   "id": "87b61bf6-8ac9-47c0-9a8b-a96fc01b72c4",
   "metadata": {},
   "outputs": [
    {
     "data": {
      "text/plain": [
       "10.0"
      ]
     },
     "execution_count": 68,
     "metadata": {},
     "output_type": "execute_result"
    }
   ],
   "source": [
    "round(10.5,0)"
   ]
  },
  {
   "cell_type": "code",
   "execution_count": 69,
   "id": "0d9455ad-e457-4cb3-8d32-355225efba86",
   "metadata": {},
   "outputs": [
    {
     "data": {
      "text/plain": [
       "11.0"
      ]
     },
     "execution_count": 69,
     "metadata": {},
     "output_type": "execute_result"
    }
   ],
   "source": [
    "round(10.6,0)"
   ]
  },
  {
   "cell_type": "code",
   "execution_count": 70,
   "id": "a57c7fab-aaa9-414f-a78e-d6a29f457c4d",
   "metadata": {},
   "outputs": [
    {
     "data": {
      "text/plain": [
       "10.2"
      ]
     },
     "execution_count": 70,
     "metadata": {},
     "output_type": "execute_result"
    }
   ],
   "source": [
    "round(10.16,1)"
   ]
  },
  {
   "cell_type": "code",
   "execution_count": 71,
   "id": "a06da8cc-d814-47d7-b228-d52a94729a43",
   "metadata": {},
   "outputs": [
    {
     "name": "stdout",
     "output_type": "stream",
     "text": [
      "('a', 'b')\n"
     ]
    }
   ],
   "source": [
    "a = (\"a\", \"b\", \"c\", \"d\", \"e\", \"f\", \"g\", \"h\")\n",
    "x = slice(2)\n",
    "print(a[x])"
   ]
  },
  {
   "cell_type": "code",
   "execution_count": 72,
   "id": "1539692d-580c-4a48-a296-bc240785fb78",
   "metadata": {},
   "outputs": [
    {
     "data": {
      "text/plain": [
       "60"
      ]
     },
     "execution_count": 72,
     "metadata": {},
     "output_type": "execute_result"
    }
   ],
   "source": [
    "sum([10,20,30])"
   ]
  },
  {
   "cell_type": "code",
   "execution_count": 74,
   "id": "f2582d23-c288-4362-8e6b-1f84dcb6362f",
   "metadata": {},
   "outputs": [
    {
     "name": "stdout",
     "output_type": "stream",
     "text": [
      "{40, 10, 20, 30}\n"
     ]
    }
   ],
   "source": [
    "lst =[10,20,30,40]\n",
    "st =set(lst)\n",
    "print(st)"
   ]
  },
  {
   "cell_type": "code",
   "execution_count": 76,
   "id": "b74355e0-1ef6-4060-a382-23a3463055e3",
   "metadata": {},
   "outputs": [
    {
     "data": {
      "text/plain": [
       "(10, 20, 30, 40)"
      ]
     },
     "execution_count": 76,
     "metadata": {},
     "output_type": "execute_result"
    }
   ],
   "source": [
    "lst=[10,20,30,40]\n",
    "tpl =tuple(lst)\n",
    "tpl"
   ]
  },
  {
   "cell_type": "code",
   "execution_count": 79,
   "id": "9122c38a-4105-49c8-a885-a765cd7c67ec",
   "metadata": {},
   "outputs": [
    {
     "name": "stdout",
     "output_type": "stream",
     "text": [
      "((0, 'apple'), (1, 'banana'), (2, 'manogo'), (3, 'orange'))\n"
     ]
    }
   ],
   "source": [
    "lst1 = [0,1,2,3]\n",
    "lst2 =['apple','banana','manogo','orange']\n",
    "x=zip(lst1,lst2)\n",
    "print(tuple(x))"
   ]
  },
  {
   "cell_type": "code",
   "execution_count": 86,
   "id": "822ec019-d9a7-4a5e-a3fa-cc7495fef1fb",
   "metadata": {},
   "outputs": [
    {
     "data": {
      "text/plain": [
       "['Hellow']"
      ]
     },
     "execution_count": 86,
     "metadata": {},
     "output_type": "execute_result"
    }
   ],
   "source": [
    "\"Hellow\".split()"
   ]
  },
  {
   "cell_type": "code",
   "execution_count": 87,
   "id": "d1aec066-ed82-4b49-b83d-b3da203c1dab",
   "metadata": {},
   "outputs": [],
   "source": [
    "lst1 =list(\"Hello World\")"
   ]
  },
  {
   "cell_type": "code",
   "execution_count": 88,
   "id": "273af5ac-bf09-48fe-a337-83339f4886f9",
   "metadata": {},
   "outputs": [
    {
     "data": {
      "text/plain": [
       "['H', 'e', 'l', 'l', 'o', ' ', 'W', 'o', 'r', 'l', 'd']"
      ]
     },
     "execution_count": 88,
     "metadata": {},
     "output_type": "execute_result"
    }
   ],
   "source": [
    "lst1"
   ]
  },
  {
   "cell_type": "code",
   "execution_count": null,
   "id": "b46bcfb7-83f3-4f74-90ce-4ce68a90b01f",
   "metadata": {},
   "outputs": [],
   "source": []
  }
 ],
 "metadata": {
  "kernelspec": {
   "display_name": "Python 3 (ipykernel)",
   "language": "python",
   "name": "python3"
  },
  "language_info": {
   "codemirror_mode": {
    "name": "ipython",
    "version": 3
   },
   "file_extension": ".py",
   "mimetype": "text/x-python",
   "name": "python",
   "nbconvert_exporter": "python",
   "pygments_lexer": "ipython3",
   "version": "3.12.10"
  }
 },
 "nbformat": 4,
 "nbformat_minor": 5
}

{
 "cells": [
  {
   "cell_type": "code",
   "execution_count": null,
   "id": "960ec482-4ed1-4a06-a18f-b428719e85a7",
   "metadata": {},
   "outputs": [],
   "source": []
  }
 ],
 "metadata": {
  "kernelspec": {
   "display_name": "",
   "name": ""
  },
  "language_info": {
   "name": ""
  }
 },
 "nbformat": 4,
 "nbformat_minor": 5
}

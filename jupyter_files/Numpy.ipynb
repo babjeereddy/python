{
 "cells": [
  {
   "cell_type": "code",
   "execution_count": 1,
   "id": "6747c141-2e47-4a6d-a9f5-4571c58376d9",
   "metadata": {},
   "outputs": [],
   "source": [
    "import numpy as np"
   ]
  },
  {
   "cell_type": "code",
   "execution_count": 2,
   "id": "98d47262-be88-40f0-a7f3-15816a63aaca",
   "metadata": {},
   "outputs": [
    {
     "name": "stdout",
     "output_type": "stream",
     "text": [
      "[10 20 30 40]\n"
     ]
    }
   ],
   "source": [
    "arr =np.array([10,20,30,40])\n",
    "print(arr)"
   ]
  },
  {
   "cell_type": "code",
   "execution_count": 3,
   "id": "3d16b1f3-1f65-4cb1-9832-132e8e871124",
   "metadata": {},
   "outputs": [
    {
     "name": "stdout",
     "output_type": "stream",
     "text": [
      "<class 'numpy.ndarray'>\n"
     ]
    }
   ],
   "source": [
    "print(type(arr))"
   ]
  },
  {
   "cell_type": "code",
   "execution_count": 5,
   "id": "39e97bd7-bd84-44c5-a07e-0323724144a5",
   "metadata": {},
   "outputs": [],
   "source": [
    "arr =np.array([[10,20,30],[40,50,60],[50,60,70]])"
   ]
  },
  {
   "cell_type": "code",
   "execution_count": 6,
   "id": "2a4db407-f0d5-4576-abea-3c3606b6bbcb",
   "metadata": {},
   "outputs": [
    {
     "name": "stdout",
     "output_type": "stream",
     "text": [
      "[[10 20 30]\n",
      " [40 50 60]\n",
      " [50 60 70]]\n"
     ]
    }
   ],
   "source": [
    "print(arr)"
   ]
  },
  {
   "cell_type": "code",
   "execution_count": 9,
   "id": "19b23bd2-af3c-4597-ab6a-b67747d337db",
   "metadata": {},
   "outputs": [
    {
     "name": "stdout",
     "output_type": "stream",
     "text": [
      "10\n"
     ]
    }
   ],
   "source": [
    "arr=np.array([10,20,30,40])\n",
    "print(arr[0])"
   ]
  },
  {
   "cell_type": "code",
   "execution_count": 10,
   "id": "5ee31fbf-3513-469d-bf99-3c1fb60be11c",
   "metadata": {},
   "outputs": [
    {
     "name": "stdout",
     "output_type": "stream",
     "text": [
      "[10 20]\n"
     ]
    }
   ],
   "source": [
    "print(arr[0:2])"
   ]
  },
  {
   "cell_type": "code",
   "execution_count": 11,
   "id": "907f3210-775a-45dd-bb14-8f0400fb084e",
   "metadata": {},
   "outputs": [
    {
     "name": "stdout",
     "output_type": "stream",
     "text": [
      "40\n"
     ]
    }
   ],
   "source": [
    "print(arr[-1])"
   ]
  },
  {
   "cell_type": "code",
   "execution_count": 12,
   "id": "995b1089-01b0-4026-8d58-46a4527dfc11",
   "metadata": {},
   "outputs": [
    {
     "name": "stdout",
     "output_type": "stream",
     "text": [
      "[40 30 20 10]\n"
     ]
    }
   ],
   "source": [
    "print(arr[::-1])"
   ]
  },
  {
   "cell_type": "code",
   "execution_count": 41,
   "id": "32840384-448a-4b07-9d04-ec0a314a62b9",
   "metadata": {},
   "outputs": [
    {
     "name": "stdout",
     "output_type": "stream",
     "text": [
      "[ 1  2  3  4  5  6  7  8  9 10 11 12 13 14 15 16]\n"
     ]
    }
   ],
   "source": [
    "arr =np.arange(1,17)\n",
    "print(arr)\n"
   ]
  },
  {
   "cell_type": "code",
   "execution_count": 42,
   "id": "0c5381ba-400e-4bac-9ef3-c6dd1a196d39",
   "metadata": {},
   "outputs": [],
   "source": [
    "matrix =arr.reshape(4,4)"
   ]
  },
  {
   "cell_type": "code",
   "execution_count": 49,
   "id": "54b46c2c-6ad6-404b-a6e1-da201263e174",
   "metadata": {},
   "outputs": [
    {
     "name": "stdout",
     "output_type": "stream",
     "text": [
      "[[ 1  2  3  4]\n",
      " [ 5  6  7  8]\n",
      " [ 9 10 11 12]\n",
      " [13 14 15 16]]\n"
     ]
    }
   ],
   "source": [
    "print(matrix)"
   ]
  },
  {
   "cell_type": "code",
   "execution_count": 53,
   "id": "f23660a1-695e-4957-8c6b-3364dbd32d69",
   "metadata": {},
   "outputs": [
    {
     "name": "stdout",
     "output_type": "stream",
     "text": [
      "[1 2 3 4]\n"
     ]
    }
   ],
   "source": [
    "print(matrix[0]) #first row\n"
   ]
  },
  {
   "cell_type": "code",
   "execution_count": 54,
   "id": "f962f42e-ad6b-4868-bfb9-032fdfbe02f9",
   "metadata": {},
   "outputs": [
    {
     "name": "stdout",
     "output_type": "stream",
     "text": [
      "[5 6 7 8]\n"
     ]
    }
   ],
   "source": [
    "print(matrix[1]) #second row"
   ]
  },
  {
   "cell_type": "code",
   "execution_count": 56,
   "id": "c502cf3f-be62-4b67-8299-03dfb5dbeade",
   "metadata": {},
   "outputs": [
    {
     "data": {
      "text/plain": [
       "array([ 1,  5,  9, 13])"
      ]
     },
     "execution_count": 56,
     "metadata": {},
     "output_type": "execute_result"
    }
   ],
   "source": [
    "matrix[:,0] #first colum"
   ]
  },
  {
   "cell_type": "code",
   "execution_count": 57,
   "id": "5a142d30-3047-484d-95d5-906814eaac9a",
   "metadata": {},
   "outputs": [
    {
     "data": {
      "text/plain": [
       "array([ 2,  6, 10, 14])"
      ]
     },
     "execution_count": 57,
     "metadata": {},
     "output_type": "execute_result"
    }
   ],
   "source": [
    "matrix[:,1] #second column"
   ]
  },
  {
   "cell_type": "code",
   "execution_count": 48,
   "id": "6cb80205-f928-453c-b306-3efc5614a0c9",
   "metadata": {},
   "outputs": [
    {
     "data": {
      "text/plain": [
       "array([[ 1,  2,  3,  4],\n",
       "       [ 5,  6,  7,  8],\n",
       "       [ 9, 10, 11, 12],\n",
       "       [13, 14, 15, 16]])"
      ]
     },
     "execution_count": 48,
     "metadata": {},
     "output_type": "execute_result"
    }
   ],
   "source": [
    "matrix"
   ]
  },
  {
   "cell_type": "code",
   "execution_count": 58,
   "id": "64bc5bf5-e9e9-466d-b952-5dee1ebe0353",
   "metadata": {},
   "outputs": [
    {
     "data": {
      "text/plain": [
       "array([[1, 2],\n",
       "       [5, 6]])"
      ]
     },
     "execution_count": 58,
     "metadata": {},
     "output_type": "execute_result"
    }
   ],
   "source": [
    "matrix[:2,:2]"
   ]
  },
  {
   "cell_type": "code",
   "execution_count": 59,
   "id": "ee669a9e-19c8-43f0-ab48-040aee75c855",
   "metadata": {},
   "outputs": [
    {
     "data": {
      "text/plain": [
       "array([[11, 12],\n",
       "       [15, 16]])"
      ]
     },
     "execution_count": 59,
     "metadata": {},
     "output_type": "execute_result"
    }
   ],
   "source": [
    "matrix[2:,2:]"
   ]
  },
  {
   "cell_type": "code",
   "execution_count": 60,
   "id": "1399fff2-ccca-4460-a45e-dbcc200f577a",
   "metadata": {},
   "outputs": [
    {
     "data": {
      "text/plain": [
       "array([[ 1,  2,  3,  4],\n",
       "       [ 5,  6,  7,  8],\n",
       "       [ 9, 10, 11, 12],\n",
       "       [13, 14, 15, 16]])"
      ]
     },
     "execution_count": 60,
     "metadata": {},
     "output_type": "execute_result"
    }
   ],
   "source": [
    "matrix"
   ]
  },
  {
   "cell_type": "code",
   "execution_count": 62,
   "id": "6ea5d9ad-1676-4519-bc47-54ec480c276d",
   "metadata": {},
   "outputs": [
    {
     "data": {
      "text/plain": [
       "array([[10, 11],\n",
       "       [14, 15]])"
      ]
     },
     "execution_count": 62,
     "metadata": {},
     "output_type": "execute_result"
    }
   ],
   "source": [
    "matrix[2:,1:3]"
   ]
  },
  {
   "cell_type": "code",
   "execution_count": 63,
   "id": "320d6b10-e353-41a8-b82b-65786084a9c1",
   "metadata": {},
   "outputs": [
    {
     "data": {
      "text/plain": [
       "array([[ 6,  7],\n",
       "       [10, 11]])"
      ]
     },
     "execution_count": 63,
     "metadata": {},
     "output_type": "execute_result"
    }
   ],
   "source": [
    "matrix[1:3,1:3]"
   ]
  },
  {
   "cell_type": "code",
   "execution_count": 65,
   "id": "13df70d9-bd68-4fd1-8102-2437e8ea7657",
   "metadata": {},
   "outputs": [
    {
     "data": {
      "text/plain": [
       "(16,)"
      ]
     },
     "execution_count": 65,
     "metadata": {},
     "output_type": "execute_result"
    }
   ],
   "source": [
    "arr.shape\n"
   ]
  },
  {
   "cell_type": "code",
   "execution_count": 66,
   "id": "881ab0c3-8a16-4a2e-ab74-902522fc5a83",
   "metadata": {},
   "outputs": [
    {
     "data": {
      "text/plain": [
       "(4, 4)"
      ]
     },
     "execution_count": 66,
     "metadata": {},
     "output_type": "execute_result"
    }
   ],
   "source": [
    "matrix.shape"
   ]
  },
  {
   "cell_type": "code",
   "execution_count": 67,
   "id": "878e2898-0cbf-4811-a106-eb7991b0dd00",
   "metadata": {},
   "outputs": [
    {
     "data": {
      "text/plain": [
       "array([[ 1,  2,  3,  4],\n",
       "       [ 9, 10, 11, 12]])"
      ]
     },
     "execution_count": 67,
     "metadata": {},
     "output_type": "execute_result"
    }
   ],
   "source": [
    "matrix[::2]"
   ]
  },
  {
   "cell_type": "code",
   "execution_count": 68,
   "id": "5a46aa59-ac66-447c-86cf-78614b7c82ae",
   "metadata": {},
   "outputs": [
    {
     "data": {
      "text/plain": [
       "array([[ 1,  3],\n",
       "       [ 5,  7],\n",
       "       [ 9, 11],\n",
       "       [13, 15]])"
      ]
     },
     "execution_count": 68,
     "metadata": {},
     "output_type": "execute_result"
    }
   ],
   "source": [
    "matrix[:,::2]"
   ]
  },
  {
   "cell_type": "code",
   "execution_count": 69,
   "id": "74716378-2cd8-4635-a642-61053fad7141",
   "metadata": {},
   "outputs": [
    {
     "data": {
      "text/plain": [
       "array([[13, 14, 15, 16],\n",
       "       [ 9, 10, 11, 12],\n",
       "       [ 5,  6,  7,  8],\n",
       "       [ 1,  2,  3,  4]])"
      ]
     },
     "execution_count": 69,
     "metadata": {},
     "output_type": "execute_result"
    }
   ],
   "source": [
    "matrix[::-1]"
   ]
  },
  {
   "cell_type": "code",
   "execution_count": 70,
   "id": "5488702e-e05e-40ea-add5-6bb18a97e62c",
   "metadata": {},
   "outputs": [
    {
     "data": {
      "text/plain": [
       "array([[ 4,  3,  2,  1],\n",
       "       [ 8,  7,  6,  5],\n",
       "       [12, 11, 10,  9],\n",
       "       [16, 15, 14, 13]])"
      ]
     },
     "execution_count": 70,
     "metadata": {},
     "output_type": "execute_result"
    }
   ],
   "source": [
    "matrix[:,::-1]"
   ]
  },
  {
   "cell_type": "code",
   "execution_count": 71,
   "id": "e7d5c7e6-1acd-4476-aa23-9582a7383d6b",
   "metadata": {},
   "outputs": [
    {
     "name": "stdout",
     "output_type": "stream",
     "text": [
      "[[100 100   3   4]\n",
      " [100 100   7   8]\n",
      " [  9  10  11  12]\n",
      " [ 13  14  15  16]]\n"
     ]
    }
   ],
   "source": [
    "matrix[0:2, 0:2] = 100\n",
    "print(matrix)"
   ]
  },
  {
   "cell_type": "code",
   "execution_count": 72,
   "id": "385ca6f0-ea37-4401-8892-1db5f630c47b",
   "metadata": {},
   "outputs": [],
   "source": [
    "tensor = np.arange(27).reshape(3, 3, 3)"
   ]
  },
  {
   "cell_type": "code",
   "execution_count": 73,
   "id": "69cd9dd5-27cd-4692-a6a6-836bcc33dd0a",
   "metadata": {},
   "outputs": [
    {
     "data": {
      "text/plain": [
       "array([[[ 0,  1,  2],\n",
       "        [ 3,  4,  5],\n",
       "        [ 6,  7,  8]],\n",
       "\n",
       "       [[ 9, 10, 11],\n",
       "        [12, 13, 14],\n",
       "        [15, 16, 17]],\n",
       "\n",
       "       [[18, 19, 20],\n",
       "        [21, 22, 23],\n",
       "        [24, 25, 26]]])"
      ]
     },
     "execution_count": 73,
     "metadata": {},
     "output_type": "execute_result"
    }
   ],
   "source": [
    "tensor"
   ]
  },
  {
   "cell_type": "code",
   "execution_count": 76,
   "id": "490ea9ad-fce2-46b8-a935-713a4cd35713",
   "metadata": {},
   "outputs": [
    {
     "data": {
      "text/plain": [
       "array([[0, 1, 2],\n",
       "       [3, 4, 5],\n",
       "       [6, 7, 8]])"
      ]
     },
     "execution_count": 76,
     "metadata": {},
     "output_type": "execute_result"
    }
   ],
   "source": [
    "tensor[0]"
   ]
  },
  {
   "cell_type": "code",
   "execution_count": 80,
   "id": "98e34c30-4324-401a-b1ea-d78e4c3898ed",
   "metadata": {},
   "outputs": [
    {
     "data": {
      "text/plain": [
       "array([[[ 0,  1,  2],\n",
       "        [ 3,  4,  5],\n",
       "        [ 6,  7,  8]],\n",
       "\n",
       "       [[ 9, 10, 11],\n",
       "        [12, 13, 14],\n",
       "        [15, 16, 17]]])"
      ]
     },
     "execution_count": 80,
     "metadata": {},
     "output_type": "execute_result"
    }
   ],
   "source": [
    "tensor[:2]"
   ]
  },
  {
   "cell_type": "code",
   "execution_count": 81,
   "id": "2af3c21e-1cf4-455e-b863-ae10846c347f",
   "metadata": {},
   "outputs": [
    {
     "data": {
      "text/plain": [
       "array([[0, 1, 2],\n",
       "       [3, 4, 5],\n",
       "       [6, 7, 8]])"
      ]
     },
     "execution_count": 81,
     "metadata": {},
     "output_type": "execute_result"
    }
   ],
   "source": [
    "tensor[0, :, :]"
   ]
  },
  {
   "cell_type": "code",
   "execution_count": 82,
   "id": "e2b3d7e4-9dc0-4c27-bf7b-a5ba03696e97",
   "metadata": {},
   "outputs": [
    {
     "data": {
      "text/plain": [
       "array([[ 3,  4,  5],\n",
       "       [12, 13, 14],\n",
       "       [21, 22, 23]])"
      ]
     },
     "execution_count": 82,
     "metadata": {},
     "output_type": "execute_result"
    }
   ],
   "source": [
    "tensor[:, 1, :]"
   ]
  },
  {
   "cell_type": "code",
   "execution_count": 84,
   "id": "2bd21829-7c6e-4581-a902-f1700bfc82e9",
   "metadata": {},
   "outputs": [
    {
     "data": {
      "text/plain": [
       "array([[ 2,  5,  8],\n",
       "       [11, 14, 17],\n",
       "       [20, 23, 26]])"
      ]
     },
     "execution_count": 84,
     "metadata": {},
     "output_type": "execute_result"
    }
   ],
   "source": [
    "tensor[:, :, 2]   # All 3rd columns"
   ]
  },
  {
   "cell_type": "code",
   "execution_count": 85,
   "id": "61ea4dae-5fb3-4a73-a538-8ad8713cace9",
   "metadata": {},
   "outputs": [
    {
     "data": {
      "text/plain": [
       "array([[[ 0,  1,  2],\n",
       "        [ 3,  4,  5],\n",
       "        [ 6,  7,  8]],\n",
       "\n",
       "       [[ 9, 10, 11],\n",
       "        [12, 13, 14],\n",
       "        [15, 16, 17]],\n",
       "\n",
       "       [[18, 19, 20],\n",
       "        [21, 22, 23],\n",
       "        [24, 25, 26]]])"
      ]
     },
     "execution_count": 85,
     "metadata": {},
     "output_type": "execute_result"
    }
   ],
   "source": [
    "tensor"
   ]
  },
  {
   "cell_type": "code",
   "execution_count": 87,
   "id": "29891aa9-ad97-4dfc-a341-56d41f73caf0",
   "metadata": {},
   "outputs": [
    {
     "name": "stdout",
     "output_type": "stream",
     "text": [
      "100\n",
      "100\n",
      "3\n",
      "4\n",
      "100\n",
      "100\n",
      "7\n",
      "8\n",
      "9\n",
      "10\n",
      "11\n",
      "12\n",
      "13\n",
      "14\n",
      "15\n",
      "16\n"
     ]
    }
   ],
   "source": [
    "for x in matrix:\n",
    "    for j in x:\n",
    "        print(j)\n"
   ]
  },
  {
   "cell_type": "code",
   "execution_count": 89,
   "id": "478248a7-325e-457c-abb9-cf0e7b1aded1",
   "metadata": {},
   "outputs": [],
   "source": [
    "arr =np.zeros(10)"
   ]
  },
  {
   "cell_type": "code",
   "execution_count": 90,
   "id": "ffd1ef97-76f8-4e7b-bb1b-c9e998cb0115",
   "metadata": {},
   "outputs": [
    {
     "data": {
      "text/plain": [
       "array([0., 0., 0., 0., 0., 0., 0., 0., 0., 0.])"
      ]
     },
     "execution_count": 90,
     "metadata": {},
     "output_type": "execute_result"
    }
   ],
   "source": [
    "arr"
   ]
  },
  {
   "cell_type": "code",
   "execution_count": 91,
   "id": "b7ed5a12-4dee-48b5-8c31-6d045412a1d6",
   "metadata": {},
   "outputs": [],
   "source": [
    "arr =np.zeros((4,4))"
   ]
  },
  {
   "cell_type": "code",
   "execution_count": 92,
   "id": "613bbbc5-4854-4ae8-b60a-e1fc52129855",
   "metadata": {},
   "outputs": [
    {
     "data": {
      "text/plain": [
       "array([[0., 0., 0., 0.],\n",
       "       [0., 0., 0., 0.],\n",
       "       [0., 0., 0., 0.],\n",
       "       [0., 0., 0., 0.]])"
      ]
     },
     "execution_count": 92,
     "metadata": {},
     "output_type": "execute_result"
    }
   ],
   "source": [
    "arr"
   ]
  },
  {
   "cell_type": "code",
   "execution_count": 93,
   "id": "3979b07e-6a3d-41d8-a5b5-97e2576cedb4",
   "metadata": {},
   "outputs": [],
   "source": [
    "arr =np.ones(10)"
   ]
  },
  {
   "cell_type": "code",
   "execution_count": 94,
   "id": "5929826b-609f-447a-b945-a0174e0bd4ce",
   "metadata": {},
   "outputs": [
    {
     "data": {
      "text/plain": [
       "array([1., 1., 1., 1., 1., 1., 1., 1., 1., 1.])"
      ]
     },
     "execution_count": 94,
     "metadata": {},
     "output_type": "execute_result"
    }
   ],
   "source": [
    "arr"
   ]
  },
  {
   "cell_type": "code",
   "execution_count": 95,
   "id": "446e4b9a-734a-45ab-b2e8-88808601a103",
   "metadata": {},
   "outputs": [],
   "source": [
    "arr =np.ones((3,3))"
   ]
  },
  {
   "cell_type": "code",
   "execution_count": 96,
   "id": "5f04003c-9a79-4a4c-9123-5948f1ca70d4",
   "metadata": {},
   "outputs": [
    {
     "data": {
      "text/plain": [
       "array([[1., 1., 1.],\n",
       "       [1., 1., 1.],\n",
       "       [1., 1., 1.]])"
      ]
     },
     "execution_count": 96,
     "metadata": {},
     "output_type": "execute_result"
    }
   ],
   "source": [
    "arr"
   ]
  },
  {
   "cell_type": "code",
   "execution_count": 97,
   "id": "b248c48c-9a23-4c61-ae13-04507205fbef",
   "metadata": {},
   "outputs": [],
   "source": [
    "arr =np.full(4,10)"
   ]
  },
  {
   "cell_type": "code",
   "execution_count": 98,
   "id": "ddbb1977-10e6-4a87-ad4f-4f29bc61e9ce",
   "metadata": {},
   "outputs": [
    {
     "data": {
      "text/plain": [
       "array([10, 10, 10, 10])"
      ]
     },
     "execution_count": 98,
     "metadata": {},
     "output_type": "execute_result"
    }
   ],
   "source": [
    "arr"
   ]
  },
  {
   "cell_type": "code",
   "execution_count": 99,
   "id": "dcab74a8-e2d8-4713-b28d-44c8db598d27",
   "metadata": {},
   "outputs": [],
   "source": [
    "arr =np.full((4,4),10)"
   ]
  },
  {
   "cell_type": "code",
   "execution_count": 100,
   "id": "3cc0a3bb-34be-4d43-8467-16c1acf03db0",
   "metadata": {},
   "outputs": [
    {
     "data": {
      "text/plain": [
       "array([[10, 10, 10, 10],\n",
       "       [10, 10, 10, 10],\n",
       "       [10, 10, 10, 10],\n",
       "       [10, 10, 10, 10]])"
      ]
     },
     "execution_count": 100,
     "metadata": {},
     "output_type": "execute_result"
    }
   ],
   "source": [
    "arr"
   ]
  },
  {
   "cell_type": "code",
   "execution_count": 104,
   "id": "9703bd28-65a4-45b0-aa64-27c9a605ab47",
   "metadata": {},
   "outputs": [
    {
     "name": "stdout",
     "output_type": "stream",
     "text": [
      "[[1. 0. 0. 0. 0. 0. 0. 0. 0. 0.]\n",
      " [0. 1. 0. 0. 0. 0. 0. 0. 0. 0.]\n",
      " [0. 0. 1. 0. 0. 0. 0. 0. 0. 0.]\n",
      " [0. 0. 0. 1. 0. 0. 0. 0. 0. 0.]\n",
      " [0. 0. 0. 0. 1. 0. 0. 0. 0. 0.]\n",
      " [0. 0. 0. 0. 0. 1. 0. 0. 0. 0.]\n",
      " [0. 0. 0. 0. 0. 0. 1. 0. 0. 0.]\n",
      " [0. 0. 0. 0. 0. 0. 0. 1. 0. 0.]\n",
      " [0. 0. 0. 0. 0. 0. 0. 0. 1. 0.]\n",
      " [0. 0. 0. 0. 0. 0. 0. 0. 0. 1.]]\n"
     ]
    }
   ],
   "source": [
    "arr =np.eye(10)\n",
    "print(arr)"
   ]
  },
  {
   "cell_type": "code",
   "execution_count": 105,
   "id": "d48ca6d3-ac04-43e1-9e81-299d7211b38d",
   "metadata": {},
   "outputs": [
    {
     "name": "stdout",
     "output_type": "stream",
     "text": [
      "[ 1.          1.09090909  1.18181818  1.27272727  1.36363636  1.45454545\n",
      "  1.54545455  1.63636364  1.72727273  1.81818182  1.90909091  2.\n",
      "  2.09090909  2.18181818  2.27272727  2.36363636  2.45454545  2.54545455\n",
      "  2.63636364  2.72727273  2.81818182  2.90909091  3.          3.09090909\n",
      "  3.18181818  3.27272727  3.36363636  3.45454545  3.54545455  3.63636364\n",
      "  3.72727273  3.81818182  3.90909091  4.          4.09090909  4.18181818\n",
      "  4.27272727  4.36363636  4.45454545  4.54545455  4.63636364  4.72727273\n",
      "  4.81818182  4.90909091  5.          5.09090909  5.18181818  5.27272727\n",
      "  5.36363636  5.45454545  5.54545455  5.63636364  5.72727273  5.81818182\n",
      "  5.90909091  6.          6.09090909  6.18181818  6.27272727  6.36363636\n",
      "  6.45454545  6.54545455  6.63636364  6.72727273  6.81818182  6.90909091\n",
      "  7.          7.09090909  7.18181818  7.27272727  7.36363636  7.45454545\n",
      "  7.54545455  7.63636364  7.72727273  7.81818182  7.90909091  8.\n",
      "  8.09090909  8.18181818  8.27272727  8.36363636  8.45454545  8.54545455\n",
      "  8.63636364  8.72727273  8.81818182  8.90909091  9.          9.09090909\n",
      "  9.18181818  9.27272727  9.36363636  9.45454545  9.54545455  9.63636364\n",
      "  9.72727273  9.81818182  9.90909091 10.        ]\n"
     ]
    }
   ],
   "source": [
    "arr = np.linspace(1,10, 100)\n",
    "print(arr)"
   ]
  },
  {
   "cell_type": "code",
   "execution_count": 106,
   "id": "4ae5e888-0fbb-4943-bc85-60d248129412",
   "metadata": {},
   "outputs": [
    {
     "name": "stdout",
     "output_type": "stream",
     "text": [
      "(4, 4)\n",
      "2\n",
      "16\n"
     ]
    }
   ],
   "source": [
    "print(matrix.shape)\n",
    "print(matrix.ndim)\n",
    "print(matrix.size)\n"
   ]
  },
  {
   "cell_type": "code",
   "execution_count": 109,
   "id": "496bb387-445b-4343-b456-cb24bfd8a36d",
   "metadata": {},
   "outputs": [
    {
     "name": "stdout",
     "output_type": "stream",
     "text": [
      "[5 7 9]\n",
      "[-3 -3 -3]\n",
      "[0.25 0.4  0.5 ]\n",
      "[ 4 10 18]\n",
      "[  1  32 729]\n"
     ]
    }
   ],
   "source": [
    "a = np.array([1, 2, 3])\n",
    "b = np.array([4, 5, 6])\n",
    "print(a+b)\n",
    "print(a-b)\n",
    "print(a/b)\n",
    "print(a *b)\n",
    "print(a**b)"
   ]
  },
  {
   "cell_type": "code",
   "execution_count": 115,
   "id": "a7a433ff-1d86-44b1-9af6-e5c2756d4ead",
   "metadata": {},
   "outputs": [
    {
     "name": "stdout",
     "output_type": "stream",
     "text": [
      "Max 40\n",
      "Min 10\n",
      "Mean 25.0\n",
      "Stdv 11.180339887498949\n",
      "Sum 100\n"
     ]
    }
   ],
   "source": [
    "arr =np.array([10,20,30,40])\n",
    "print(f\"Max {arr.max()}\")\n",
    "print(f\"Min {arr.min()}\")\n",
    "print(f\"Mean {arr.mean()}\")\n",
    "print(f\"Stdv {arr.std()}\")\n",
    "print(f\"Sum {arr.sum()}\")"
   ]
  },
  {
   "cell_type": "code",
   "execution_count": 116,
   "id": "1977f817-8960-4626-abf0-e0ef4a15909c",
   "metadata": {},
   "outputs": [
    {
     "name": "stdout",
     "output_type": "stream",
     "text": [
      "Max 40\n",
      "Min 10\n",
      "Mean 25.0\n",
      "Stdv 11.180339887498949\n",
      "Sum 100\n"
     ]
    }
   ],
   "source": [
    "arr =np.array([10,20,30,40])\n",
    "print(f\"Max {np.max(arr)}\")\n",
    "print(f\"Min {np.min(arr)}\")\n",
    "print(f\"Mean {np.mean(arr)}\")\n",
    "print(f\"Stdv {np.std(arr)}\")\n",
    "print(f\"Sum {np.sum(arr)}\")"
   ]
  },
  {
   "cell_type": "code",
   "execution_count": 118,
   "id": "c65a50b5-db8b-443a-b506-4f2b68a2319e",
   "metadata": {},
   "outputs": [
    {
     "name": "stdout",
     "output_type": "stream",
     "text": [
      "3\n"
     ]
    }
   ],
   "source": [
    "print(np.argmax(arr))"
   ]
  },
  {
   "cell_type": "code",
   "execution_count": 119,
   "id": "5eeece53-d278-41c4-8805-0541e47b82d2",
   "metadata": {},
   "outputs": [
    {
     "name": "stdout",
     "output_type": "stream",
     "text": [
      "0\n"
     ]
    }
   ],
   "source": [
    "print(np.argmin(arr))"
   ]
  },
  {
   "cell_type": "code",
   "execution_count": 123,
   "id": "fca5e770-5579-40dd-ad2e-fa6fc6a418db",
   "metadata": {},
   "outputs": [
    {
     "name": "stdout",
     "output_type": "stream",
     "text": [
      "[1 2 0 1]\n"
     ]
    }
   ],
   "source": [
    "print(np.mod(arr,3))"
   ]
  },
  {
   "cell_type": "code",
   "execution_count": 124,
   "id": "7d170007-271f-4d0f-a29e-b6aa6c0d4e3c",
   "metadata": {},
   "outputs": [
    {
     "name": "stdout",
     "output_type": "stream",
     "text": [
      "[1 2 0 1]\n"
     ]
    }
   ],
   "source": [
    "print(np.fmod(arr,3))"
   ]
  },
  {
   "cell_type": "code",
   "execution_count": 126,
   "id": "85e61eb1-3e29-4088-acf2-f8f484ceec78",
   "metadata": {},
   "outputs": [
    {
     "data": {
      "text/plain": [
       "array([ 1,  2,  3, 10])"
      ]
     },
     "execution_count": 126,
     "metadata": {},
     "output_type": "execute_result"
    }
   ],
   "source": [
    "np.abs([-1,-2,-3,10])"
   ]
  },
  {
   "cell_type": "code",
   "execution_count": 127,
   "id": "70e2440d-a8f9-4435-812d-64fab7035ec2",
   "metadata": {},
   "outputs": [
    {
     "data": {
      "text/plain": [
       "array([[ 0.,  2.,  4.],\n",
       "       [ 3.,  5.,  7.],\n",
       "       [ 6.,  8., 10.]])"
      ]
     },
     "execution_count": 127,
     "metadata": {},
     "output_type": "execute_result"
    }
   ],
   "source": [
    "x1 = np.arange(9.0).reshape((3, 3))\n",
    "x2 = np.arange(3.0)\n",
    "np.add(x1, x2)"
   ]
  },
  {
   "cell_type": "code",
   "execution_count": 129,
   "id": "f0275b63-d3f9-48c7-8a95-c2951e963f9d",
   "metadata": {},
   "outputs": [
    {
     "name": "stdout",
     "output_type": "stream",
     "text": [
      "True\n"
     ]
    }
   ],
   "source": [
    "print(np.all([True,True,True]))"
   ]
  },
  {
   "cell_type": "code",
   "execution_count": 130,
   "id": "3c813d51-e2fc-42a5-8b3d-30092c2fbeba",
   "metadata": {},
   "outputs": [
    {
     "name": "stdout",
     "output_type": "stream",
     "text": [
      "False\n"
     ]
    }
   ],
   "source": [
    "print(np.all([True,True,False]))"
   ]
  },
  {
   "cell_type": "code",
   "execution_count": 131,
   "id": "c097b7a6-fadb-4551-a81b-d96b5cfcf9cb",
   "metadata": {},
   "outputs": [
    {
     "name": "stdout",
     "output_type": "stream",
     "text": [
      "True\n"
     ]
    }
   ],
   "source": [
    "print(np.any([True,True,False]))"
   ]
  },
  {
   "cell_type": "code",
   "execution_count": 132,
   "id": "d2ca1c98-e28e-4526-81dd-e5d58a5228ef",
   "metadata": {},
   "outputs": [
    {
     "data": {
      "text/plain": [
       "3.141592653589793"
      ]
     },
     "execution_count": 132,
     "metadata": {},
     "output_type": "execute_result"
    }
   ],
   "source": [
    "np.pi"
   ]
  },
  {
   "cell_type": "code",
   "execution_count": 137,
   "id": "49ca1d1e-90a0-4958-adff-c17963b31bdc",
   "metadata": {},
   "outputs": [
    {
     "name": "stdout",
     "output_type": "stream",
     "text": [
      "1\n"
     ]
    }
   ],
   "source": [
    "print(np.argmax([10,40,20,5]))"
   ]
  },
  {
   "cell_type": "code",
   "execution_count": 138,
   "id": "0f3a530f-7f4e-4cc5-b1b6-d0af44ede401",
   "metadata": {},
   "outputs": [
    {
     "name": "stdout",
     "output_type": "stream",
     "text": [
      "3\n"
     ]
    }
   ],
   "source": [
    "print(np.argmin([10,40,20,5]))"
   ]
  },
  {
   "cell_type": "code",
   "execution_count": 139,
   "id": "3d6c7343-7948-4c71-a7f1-e43cde1a1172",
   "metadata": {},
   "outputs": [
    {
     "name": "stdout",
     "output_type": "stream",
     "text": [
      "[[5 6]\n",
      " [6 7]\n",
      " [7 8]]\n"
     ]
    }
   ],
   "source": [
    "#broadcasting is a powerful mechanism that allows arithmetic operations\n",
    "#to be performed on arrays with different shapes and sizes\n",
    "a=np.array([[1],[2],[3]])\n",
    "b=np.array([4,5])\n",
    "print(a+b)\n"
   ]
  },
  {
   "cell_type": "code",
   "execution_count": 197,
   "id": "46a7ef7f-f131-4537-a809-b38b374faed2",
   "metadata": {},
   "outputs": [
    {
     "name": "stdout",
     "output_type": "stream",
     "text": [
      "[[1 2]\n",
      " [3 4]]\n",
      "[[1 2 3 4]]\n",
      "[[1 2]\n",
      " [3 4]]\n"
     ]
    }
   ],
   "source": [
    "a = np.array([[1, 2]])\n",
    "b = np.array([[3, 4]])\n",
    "\n",
    "print(np.vstack((a, b)))\n",
    "print(np.hstack((a, b)))\n",
    "print(np.concatenate((a, b), axis=0))\n"
   ]
  },
  {
   "cell_type": "code",
   "execution_count": 140,
   "id": "4a2dcd5f-dc0f-4a10-bb08-454faac6a118",
   "metadata": {},
   "outputs": [
    {
     "name": "stdout",
     "output_type": "stream",
     "text": [
      "[  1 100 100]\n",
      "[  1 100 100]\n"
     ]
    }
   ],
   "source": [
    "a = np.array([1, 2, 3])\n",
    "b = a \n",
    "b[1:]=100\n",
    "print(a)\n",
    "print(b)"
   ]
  },
  {
   "cell_type": "code",
   "execution_count": 146,
   "id": "68d86c3f-5158-4ea6-b48c-a84cd0d6bcf0",
   "metadata": {},
   "outputs": [
    {
     "name": "stdout",
     "output_type": "stream",
     "text": [
      "[array([0, 1]), array([2, 3]), array([4, 5])]\n"
     ]
    }
   ],
   "source": [
    "arr = np.arange(6)\n",
    "print(np.split(arr,3))\n"
   ]
  },
  {
   "cell_type": "code",
   "execution_count": 151,
   "id": "afbbdaac-d886-4ffc-bece-6a4ec67b1889",
   "metadata": {},
   "outputs": [
    {
     "name": "stdout",
     "output_type": "stream",
     "text": [
      "[10 20 30 40]\n"
     ]
    }
   ],
   "source": [
    "arr =np.array([10,40,30,20])\n",
    "print(np.sort(arr))"
   ]
  },
  {
   "cell_type": "code",
   "execution_count": 153,
   "id": "cd35012e-6cf6-4440-a24f-088bba25ef33",
   "metadata": {},
   "outputs": [
    {
     "data": {
      "text/plain": [
       "array([0, 3, 2, 1])"
      ]
     },
     "execution_count": 153,
     "metadata": {},
     "output_type": "execute_result"
    }
   ],
   "source": [
    "arr.argsort()"
   ]
  },
  {
   "cell_type": "code",
   "execution_count": 154,
   "id": "5af5e80c-35c9-4c13-a3bf-567396790bfd",
   "metadata": {},
   "outputs": [
    {
     "data": {
      "text/plain": [
       "array([40, 30])"
      ]
     },
     "execution_count": 154,
     "metadata": {},
     "output_type": "execute_result"
    }
   ],
   "source": [
    "arr[arr>20]"
   ]
  },
  {
   "cell_type": "code",
   "execution_count": 155,
   "id": "69b27e51-87e0-4575-9833-3caffbbfc39a",
   "metadata": {},
   "outputs": [
    {
     "name": "stdout",
     "output_type": "stream",
     "text": [
      "[False False  True  True  True]\n"
     ]
    }
   ],
   "source": [
    "arr = np.array([10, 20, 30, 40, 50])\n",
    "print(arr>20)"
   ]
  },
  {
   "cell_type": "code",
   "execution_count": 157,
   "id": "03ab31d4-d04a-4ad7-b578-83612a224d3d",
   "metadata": {},
   "outputs": [
    {
     "name": "stdout",
     "output_type": "stream",
     "text": [
      "[30 40 50]\n"
     ]
    }
   ],
   "source": [
    "print(arr[arr>20])"
   ]
  },
  {
   "cell_type": "code",
   "execution_count": 158,
   "id": "df7af0e1-a038-422f-8e2c-10c96c7d96b7",
   "metadata": {},
   "outputs": [
    {
     "data": {
      "text/plain": [
       "array([30, 40])"
      ]
     },
     "execution_count": 158,
     "metadata": {},
     "output_type": "execute_result"
    }
   ],
   "source": [
    "arr[(arr > 20) & (arr < 45)]\n"
   ]
  },
  {
   "cell_type": "code",
   "execution_count": 159,
   "id": "1303897b-1e95-4bd6-861f-7051942ab642",
   "metadata": {},
   "outputs": [
    {
     "data": {
      "text/plain": [
       "array([10, 50])"
      ]
     },
     "execution_count": 159,
     "metadata": {},
     "output_type": "execute_result"
    }
   ],
   "source": [
    "arr[(arr < 15) | (arr > 45)]\n"
   ]
  },
  {
   "cell_type": "code",
   "execution_count": 164,
   "id": "8fc0bdfc-c513-4a9a-a687-1327e7653343",
   "metadata": {},
   "outputs": [
    {
     "name": "stdout",
     "output_type": "stream",
     "text": [
      "[40 50]\n"
     ]
    }
   ],
   "source": [
    "print(arr[np.where(arr >30)])"
   ]
  },
  {
   "cell_type": "code",
   "execution_count": 167,
   "id": "e901de70-227f-47c6-b14d-748e981222d3",
   "metadata": {},
   "outputs": [],
   "source": [
    "matrix = np.array([[10, 20], [30, 40], [50, 60]])\n"
   ]
  },
  {
   "cell_type": "code",
   "execution_count": 169,
   "id": "22c1559c-836a-4400-a2af-4b991ef3a589",
   "metadata": {},
   "outputs": [
    {
     "data": {
      "text/plain": [
       "array([40, 50, 60])"
      ]
     },
     "execution_count": 169,
     "metadata": {},
     "output_type": "execute_result"
    }
   ],
   "source": [
    "matrix[matrix >30]"
   ]
  },
  {
   "cell_type": "code",
   "execution_count": 170,
   "id": "d3950654-635c-4128-8cde-c7a02af39b39",
   "metadata": {},
   "outputs": [
    {
     "data": {
      "text/plain": [
       "array([10, 20, 30, 40, 50])"
      ]
     },
     "execution_count": 170,
     "metadata": {},
     "output_type": "execute_result"
    }
   ],
   "source": [
    "arr"
   ]
  },
  {
   "cell_type": "code",
   "execution_count": 171,
   "id": "4db4ab60-4201-4035-8775-8ae2c276d6ee",
   "metadata": {},
   "outputs": [
    {
     "data": {
      "text/plain": [
       "array([10, 20, 99, 99, 99])"
      ]
     },
     "execution_count": 171,
     "metadata": {},
     "output_type": "execute_result"
    }
   ],
   "source": [
    "np.where( arr >20,99,arr)"
   ]
  },
  {
   "cell_type": "code",
   "execution_count": 172,
   "id": "0a8787c4-9e8f-4dd7-89ef-b51b3a82b68e",
   "metadata": {},
   "outputs": [
    {
     "data": {
      "text/plain": [
       "array([10, 20, 30, 40, 50])"
      ]
     },
     "execution_count": 172,
     "metadata": {},
     "output_type": "execute_result"
    }
   ],
   "source": [
    "arr"
   ]
  },
  {
   "cell_type": "code",
   "execution_count": 173,
   "id": "3529cb51-f449-454f-a0d1-6681c6231516",
   "metadata": {},
   "outputs": [
    {
     "data": {
      "text/plain": [
       "array([20, 40])"
      ]
     },
     "execution_count": 173,
     "metadata": {},
     "output_type": "execute_result"
    }
   ],
   "source": [
    "mask = (arr % 20 == 0)\n",
    "arr[mask]"
   ]
  },
  {
   "cell_type": "code",
   "execution_count": 174,
   "id": "e6d67eb4-231b-4bb1-9142-5b247b5f0804",
   "metadata": {},
   "outputs": [
    {
     "data": {
      "text/plain": [
       "array([20, 50])"
      ]
     },
     "execution_count": 174,
     "metadata": {},
     "output_type": "execute_result"
    }
   ],
   "source": [
    "arr = np.array([10, 20, 30, 40, 50])\n",
    "\n",
    "arr[np.isin(arr, [20, 50])]\n"
   ]
  },
  {
   "cell_type": "code",
   "execution_count": 175,
   "id": "b71da011-fb1d-4d76-839a-393d6d84aa8a",
   "metadata": {},
   "outputs": [
    {
     "name": "stdout",
     "output_type": "stream",
     "text": [
      "[ 1.  2. nan  4.  5.]\n"
     ]
    }
   ],
   "source": [
    "arr = np.array([1, 2, np.nan, 4, 5])\n",
    "print(arr)"
   ]
  },
  {
   "cell_type": "code",
   "execution_count": 179,
   "id": "8eafd589-2807-40fe-b36d-90575ac093ed",
   "metadata": {},
   "outputs": [
    {
     "data": {
      "text/plain": [
       "array([1., 2., 4., 5.])"
      ]
     },
     "execution_count": 179,
     "metadata": {},
     "output_type": "execute_result"
    }
   ],
   "source": [
    "np.isnan(arr)\n",
    "arr[~np.isnan(arr)]\n"
   ]
  },
  {
   "cell_type": "code",
   "execution_count": 180,
   "id": "98d54bf9-1c95-4bfb-9b4d-6312aae5b8a0",
   "metadata": {},
   "outputs": [
    {
     "name": "stdout",
     "output_type": "stream",
     "text": [
      "[1. 2. 0. 4. 5.]\n"
     ]
    }
   ],
   "source": [
    "arr[np.isnan(arr)] = 0\n",
    "print(arr)"
   ]
  },
  {
   "cell_type": "code",
   "execution_count": 182,
   "id": "520c4f9e-3e61-417d-aff3-ae31a5272f58",
   "metadata": {},
   "outputs": [
    {
     "name": "stdout",
     "output_type": "stream",
     "text": [
      "[10. 20. nan 40.]\n"
     ]
    }
   ],
   "source": [
    "arr = np.array([10,20,np.nan,40])\n",
    "print(arr)\n"
   ]
  },
  {
   "cell_type": "code",
   "execution_count": 184,
   "id": "66e7e51f-6406-4fb8-83f9-cd6486f454fb",
   "metadata": {},
   "outputs": [
    {
     "name": "stdout",
     "output_type": "stream",
     "text": [
      "nan\n"
     ]
    }
   ],
   "source": [
    "print(np.mean(arr))"
   ]
  },
  {
   "cell_type": "code",
   "execution_count": 185,
   "id": "eb00df26-7352-43c8-818b-c2b8d22ba5bc",
   "metadata": {},
   "outputs": [
    {
     "name": "stdout",
     "output_type": "stream",
     "text": [
      "23.333333333333332\n",
      "40.0\n",
      "10.0\n",
      "70.0\n",
      "12.472191289246473\n"
     ]
    }
   ],
   "source": [
    "print(np.nanmean(arr))     \n",
    "print(np.nanmax(arr))      \n",
    "print(np.nanmin(arr))      \n",
    "print(np.nansum(arr) )     \n",
    "print(np.nanstd(arr))      "
   ]
  },
  {
   "cell_type": "code",
   "execution_count": 191,
   "id": "89661a55-36eb-4791-8e29-b4c92dd08d39",
   "metadata": {},
   "outputs": [
    {
     "name": "stdout",
     "output_type": "stream",
     "text": [
      "[1. 2. 4.]\n"
     ]
    }
   ],
   "source": [
    "matrix = np.array([[1, 2], [np.nan, 4]])\n",
    "filter=np.isnan(matrix)\n",
    "print(matrix[~filter])"
   ]
  },
  {
   "cell_type": "code",
   "execution_count": 1,
   "id": "2fa9878f-3544-46e2-83a8-698c627f76c1",
   "metadata": {},
   "outputs": [],
   "source": [
    "import numpy as np"
   ]
  },
  {
   "cell_type": "code",
   "execution_count": 2,
   "id": "3d52dc5a-9a27-495d-af6b-6edce842cab0",
   "metadata": {},
   "outputs": [
    {
     "data": {
      "text/plain": [
       "array([[0.79063438, 0.52417597, 0.21603902, 0.07032366],\n",
       "       [0.46132399, 0.09916411, 0.18465984, 0.12040286],\n",
       "       [0.29350958, 0.44449038, 0.98789253, 0.5305429 ],\n",
       "       [0.48495025, 0.00740163, 0.78404542, 0.52835116]])"
      ]
     },
     "execution_count": 2,
     "metadata": {},
     "output_type": "execute_result"
    }
   ],
   "source": [
    "np.random.rand(4,4) #random samples from a uniform distribution over ``[0, 1)`"
   ]
  },
  {
   "cell_type": "code",
   "execution_count": 4,
   "id": "c98edf72-f2c4-4189-b21e-69ae823b6777",
   "metadata": {},
   "outputs": [
    {
     "data": {
      "text/plain": [
       "array([9, 2, 2, 1, 6], dtype=int32)"
      ]
     },
     "execution_count": 4,
     "metadata": {},
     "output_type": "execute_result"
    }
   ],
   "source": [
    "np.random.randint(1,10,5)"
   ]
  },
  {
   "cell_type": "code",
   "execution_count": 7,
   "id": "89d7f043-f62a-43cb-8409-e24c4eece461",
   "metadata": {},
   "outputs": [
    {
     "data": {
      "text/plain": [
       "array([[-0.83613706, -0.6571754 , -1.45427231,  0.14343601],\n",
       "       [-0.42895048, -0.35365369, -1.34481642,  0.77810679]])"
      ]
     },
     "execution_count": 7,
     "metadata": {},
     "output_type": "execute_result"
    }
   ],
   "source": [
    "np.random.randn(2,4) #Return a sample  from the \"standard normal\" distribution.\n"
   ]
  },
  {
   "cell_type": "code",
   "execution_count": 10,
   "id": "7d3694c1-2689-4b58-a3a0-666de857969c",
   "metadata": {},
   "outputs": [
    {
     "name": "stdout",
     "output_type": "stream",
     "text": [
      "1\n",
      "2\n",
      "3\n",
      "4\n"
     ]
    }
   ],
   "source": [
    "a = np.array([[1, 2], [3, 4]])\n",
    "for x in np.nditer(a):\n",
    "    print(x)\n"
   ]
  },
  {
   "cell_type": "code",
   "execution_count": 12,
   "id": "71081cbc-3976-44d5-b2ef-826d110d0c95",
   "metadata": {},
   "outputs": [
    {
     "name": "stdout",
     "output_type": "stream",
     "text": [
      "[0 1 1 2 3 5]\n",
      "[1 4 5 2 3 0]\n",
      "[0 1 2 3 5]\n",
      "5\n"
     ]
    }
   ],
   "source": [
    "a = np.array([5,0,2, 3, 1,1])\n",
    "print(np.sort(a))\n",
    "print(np.argsort(a))\n",
    "print(np.unique(a))\n",
    "print(np.count_nonzero(a))\n",
    "\n"
   ]
  },
  {
   "cell_type": "code",
   "execution_count": 13,
   "id": "7d820a3d-102e-4d6c-9645-99f09617a58d",
   "metadata": {},
   "outputs": [
    {
     "data": {
      "text/plain": [
       "array([5., 0., 2., 3., 1., 1.])"
      ]
     },
     "execution_count": 13,
     "metadata": {},
     "output_type": "execute_result"
    }
   ],
   "source": [
    "np.save('data.npy', a)\n",
    "np.load('data.npy')\n",
    "\n",
    "np.savetxt('data.txt', a)\n",
    "np.loadtxt('data.txt')\n"
   ]
  },
  {
   "cell_type": "code",
   "execution_count": null,
   "id": "cb368cae-5bfc-4713-8fd6-1b930c45263f",
   "metadata": {},
   "outputs": [],
   "source": []
  }
 ],
 "metadata": {
  "kernelspec": {
   "display_name": "Python 3 (ipykernel)",
   "language": "python",
   "name": "python3"
  },
  "language_info": {
   "codemirror_mode": {
    "name": "ipython",
    "version": 3
   },
   "file_extension": ".py",
   "mimetype": "text/x-python",
   "name": "python",
   "nbconvert_exporter": "python",
   "pygments_lexer": "ipython3",
   "version": "3.12.10"
  }
 },
 "nbformat": 4,
 "nbformat_minor": 5
}

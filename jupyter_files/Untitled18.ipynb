{
 "cells": [
  {
   "cell_type": "code",
   "execution_count": 1,
   "id": "484bffa2-9ca4-4f76-a8f3-1c9262e96b77",
   "metadata": {},
   "outputs": [],
   "source": [
    "import os"
   ]
  },
  {
   "cell_type": "code",
   "execution_count": 2,
   "id": "77d0fa3b-65ed-49f2-be38-942f0d0b0e1f",
   "metadata": {},
   "outputs": [
    {
     "data": {
      "text/plain": [
       "'C:\\\\Users\\\\babje'"
      ]
     },
     "execution_count": 2,
     "metadata": {},
     "output_type": "execute_result"
    }
   ],
   "source": [
    "os.getcwd()"
   ]
  },
  {
   "cell_type": "code",
   "execution_count": 4,
   "id": "8bf51bde-a55d-4053-9353-1a1bb8433453",
   "metadata": {},
   "outputs": [],
   "source": [
    "os.chdir(\"c:\\\\\")"
   ]
  },
  {
   "cell_type": "code",
   "execution_count": 5,
   "id": "aff312a8-d298-437d-a831-9121d37bdb50",
   "metadata": {},
   "outputs": [
    {
     "data": {
      "text/plain": [
       "'c:\\\\'"
      ]
     },
     "execution_count": 5,
     "metadata": {},
     "output_type": "execute_result"
    }
   ],
   "source": [
    "os.getcwd()"
   ]
  },
  {
   "cell_type": "code",
   "execution_count": 6,
   "id": "469d21fc-8de1-4c56-b663-658a535a9ae0",
   "metadata": {},
   "outputs": [],
   "source": [
    "os.mkdir(\"Test\")"
   ]
  },
  {
   "cell_type": "code",
   "execution_count": 7,
   "id": "c39f88d6-c3cf-48d8-8a59-bc67fa10346c",
   "metadata": {},
   "outputs": [
    {
     "name": "stdout",
     "output_type": "stream",
     "text": [
      "Directory is exist\n"
     ]
    }
   ],
   "source": [
    "if os.path.exists(\"c:/test\"):\n",
    "    print(\"Directory is exist\")\n",
    "else:\n",
    "    os.mkdir(\"c:/Test\")"
   ]
  },
  {
   "cell_type": "code",
   "execution_count": 9,
   "id": "5598c0ef-4ebd-48c8-8b38-fad499db0a5e",
   "metadata": {},
   "outputs": [],
   "source": [
    "os.makedirs(\"c:/test1/demo/demo1\")"
   ]
  },
  {
   "cell_type": "code",
   "execution_count": 13,
   "id": "73db32af-81d2-47b8-a269-07c619cc1f01",
   "metadata": {},
   "outputs": [
    {
     "name": "stdout",
     "output_type": "stream",
     "text": [
      "c:/test directory not exists\n"
     ]
    }
   ],
   "source": [
    "path=\"c:/test\"\n",
    "if os.path.exists(path) :\n",
    "    os.rmdir(path)\n",
    "    print(f\"{path} deleted\")\n",
    "else:\n",
    "    print(f\"{path} directory not exists\")"
   ]
  },
  {
   "cell_type": "code",
   "execution_count": 17,
   "id": "73622d91-f941-4152-a05d-906464afe597",
   "metadata": {},
   "outputs": [],
   "source": [
    "os.listdir(\"c:/python_challenge\")"
   ]
  },
  {
   "cell_type": "code",
   "execution_count": 35,
   "id": "5ce7567f-84c6-4539-8e0f-bbf2698f15f1",
   "metadata": {},
   "outputs": [
    {
     "name": "stdout",
     "output_type": "stream",
     "text": [
      "c:/python/welcome.txt exist\n"
     ]
    },
    {
     "ename": "SystemExit",
     "evalue": "1",
     "output_type": "error",
     "traceback": [
      "An exception has occurred, use %tb to see the full traceback.\n",
      "\u001b[31mSystemExit\u001b[39m\u001b[31m:\u001b[39m 1\n"
     ]
    },
    {
     "name": "stderr",
     "output_type": "stream",
     "text": [
      "C:\\Users\\babje\\AppData\\Local\\Programs\\Python\\Python312\\Lib\\site-packages\\IPython\\core\\interactiveshell.py:3680: UserWarning: To exit: use 'exit', 'quit', or Ctrl-D.\n",
      "  warn(\"To exit: use 'exit', 'quit', or Ctrl-D.\", stacklevel=1)\n"
     ]
    }
   ],
   "source": [
    "import sys\n",
    "dir=\"c:/python\"\n",
    "file=\"welcome.txt\"\n",
    "path=dir+\"/\"+file\n",
    "if os.path.exists(path):\n",
    "    print(f\"{path} exist\")\n",
    "    sys.exit(1)\n",
    "if not os.path.exists(dir):\n",
    "    os.mkdir(dir)\n",
    "    with open(dir+\"/\"+file, 'w') as f:\n",
    "        f.write(\"Wecome python\\npython is a beginer language\")\n",
    "   \n",
    "else:\n",
    "    with open(dir+\"/\"+file, 'w') as f:\n",
    "        f.write(\"Wecome python\\npython is a beginer language\")\n",
    "print(\"end\")\n",
    "      \n",
    "    "
   ]
  },
  {
   "cell_type": "code",
   "execution_count": null,
   "id": "49570bca-c7bb-4d9d-bc20-2708ffd1ddc6",
   "metadata": {},
   "outputs": [],
   "source": []
  }
 ],
 "metadata": {
  "kernelspec": {
   "display_name": "Python 3 (ipykernel)",
   "language": "python",
   "name": "python3"
  },
  "language_info": {
   "codemirror_mode": {
    "name": "ipython",
    "version": 3
   },
   "file_extension": ".py",
   "mimetype": "text/x-python",
   "name": "python",
   "nbconvert_exporter": "python",
   "pygments_lexer": "ipython3",
   "version": "3.12.10"
  }
 },
 "nbformat": 4,
 "nbformat_minor": 5
}

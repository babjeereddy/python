{
 "cells": [
  {
   "cell_type": "code",
   "execution_count": 1,
   "id": "78061994-3789-4992-9ee2-386a6ca7909d",
   "metadata": {},
   "outputs": [
    {
     "name": "stdout",
     "output_type": "stream",
     "text": [
      "Hello pyton\n"
     ]
    }
   ],
   "source": [
    "print(\"Hello pyton\")"
   ]
  },
  {
   "cell_type": "code",
   "execution_count": 2,
   "id": "29d12e8e-a404-4bc3-b682-5bc03cb5ded4",
   "metadata": {},
   "outputs": [
    {
     "name": "stdout",
     "output_type": "stream",
     "text": [
      "hello python\n"
     ]
    }
   ],
   "source": [
    "print('hello python')"
   ]
  },
  {
   "cell_type": "code",
   "execution_count": 3,
   "id": "8adfa0c9-dec5-4ce5-82cb-d1e7a79e6e17",
   "metadata": {},
   "outputs": [
    {
     "name": "stdout",
     "output_type": "stream",
     "text": [
      "Hello Python\n"
     ]
    }
   ],
   "source": [
    "print('''Hello Python''')"
   ]
  },
  {
   "cell_type": "code",
   "execution_count": 5,
   "id": "b42b37b8-5cc9-442b-bfa6-2e7198550642",
   "metadata": {},
   "outputs": [
    {
     "name": "stdout",
     "output_type": "stream",
     "text": [
      "mary's birth day\n"
     ]
    }
   ],
   "source": [
    "print(\"mary's birth day\")\n"
   ]
  },
  {
   "cell_type": "code",
   "execution_count": 6,
   "id": "d4798b1d-c783-44f2-beed-0faeb33b4da0",
   "metadata": {},
   "outputs": [
    {
     "name": "stdout",
     "output_type": "stream",
     "text": [
      "mary\"s birth day\n"
     ]
    }
   ],
   "source": [
    "print('mary\"s birth day')\n"
   ]
  },
  {
   "cell_type": "code",
   "execution_count": 9,
   "id": "d3728eb5-eee7-477d-ab9a-c4186039e70a",
   "metadata": {},
   "outputs": [
    {
     "name": "stdout",
     "output_type": "stream",
     "text": [
      "hello\n",
      "        how are you\n"
     ]
    }
   ],
   "source": [
    "print('''hello\n",
    "        how are you''')"
   ]
  },
  {
   "cell_type": "code",
   "execution_count": 10,
   "id": "cd4e95b1-1677-4dd5-8664-feb91ffe6a49",
   "metadata": {},
   "outputs": [
    {
     "name": "stdout",
     "output_type": "stream",
     "text": [
      "hello how  are you\n"
     ]
    }
   ],
   "source": [
    "print(\"hello\",\"how \", \"are\", \"you\")"
   ]
  },
  {
   "cell_type": "code",
   "execution_count": 11,
   "id": "d8c49359-f991-4b1f-a26c-ab42689390e9",
   "metadata": {},
   "outputs": [
    {
     "name": "stdout",
     "output_type": "stream",
     "text": [
      "hello|how|are|you\n"
     ]
    }
   ],
   "source": [
    "print(\"hello\",\"how\",\"are\",\"you\",sep=\"|\")"
   ]
  },
  {
   "cell_type": "code",
   "execution_count": 15,
   "id": "67b08d8a-6544-46fd-9e4e-f315433aa777",
   "metadata": {},
   "outputs": [
    {
     "name": "stdout",
     "output_type": "stream",
     "text": [
      "hellohowareyou"
     ]
    }
   ],
   "source": [
    "print(\"hello\"end=\"\")\n",
    "print(\"how\",end=\"\")\n",
    "print(\"are\",end=\"\")\n",
    "print(\"you\",end=\"\")\n"
   ]
  },
  {
   "cell_type": "code",
   "execution_count": 17,
   "id": "1a1eb27c-d4b9-471a-b77b-e9d03882d133",
   "metadata": {},
   "outputs": [
    {
     "name": "stdout",
     "output_type": "stream",
     "text": [
      "hello\n",
      "how\n",
      "you\n"
     ]
    }
   ],
   "source": [
    "print(\"hello\\nhow\\nyou\")"
   ]
  },
  {
   "cell_type": "code",
   "execution_count": 18,
   "id": "9424f99e-03b0-4141-bddd-b07ee6014463",
   "metadata": {},
   "outputs": [
    {
     "name": "stdout",
     "output_type": "stream",
     "text": [
      "hello\thow\tyou\n"
     ]
    }
   ],
   "source": [
    "print(\"hello\\thow\\tyou\")"
   ]
  },
  {
   "cell_type": "code",
   "execution_count": 19,
   "id": "e17563c3-74c9-406f-a913-ea204d812518",
   "metadata": {},
   "outputs": [
    {
     "name": "stdout",
     "output_type": "stream",
     "text": [
      "hellhow\tyou\n"
     ]
    }
   ],
   "source": [
    "print(\"hello\\bhow\\tyou\")"
   ]
  },
  {
   "cell_type": "code",
   "execution_count": 22,
   "id": "a2f32d3d-c58f-441e-8447-31d17b4395a9",
   "metadata": {},
   "outputs": [
    {
     "name": "stdout",
     "output_type": "stream",
     "text": [
      "hello Ram age is 45\n"
     ]
    }
   ],
   "source": [
    "name =\"Ram\"\n",
    "age=45\n",
    "print(\"hello \"+name+\" age is \"+str(age))"
   ]
  },
  {
   "cell_type": "code",
   "execution_count": 23,
   "id": "89d80570-5e8f-4020-a550-7b76fb4d11aa",
   "metadata": {},
   "outputs": [
    {
     "name": "stdout",
     "output_type": "stream",
     "text": [
      "Hello Ram you age is 45\n"
     ]
    }
   ],
   "source": [
    "name =\"Ram\"\n",
    "age=45\n",
    "print(f\"Hello {name} you age is {age}\")"
   ]
  },
  {
   "cell_type": "code",
   "execution_count": 25,
   "id": "65e3993e-1078-48fc-8660-74d5f80aed9e",
   "metadata": {},
   "outputs": [
    {
     "name": "stdin",
     "output_type": "stream",
     "text": [
      "Enter Your Name sham\n",
      "Enter Your age 40\n"
     ]
    },
    {
     "name": "stdout",
     "output_type": "stream",
     "text": [
      "Hello sham you age is 40\n"
     ]
    }
   ],
   "source": [
    "name=input(\"Enter Your Name\")\n",
    "age=input(\"Enter Your age\")\n",
    "print(f\"Hello {name} you age is {age}\")\n",
    "           "
   ]
  },
  {
   "cell_type": "code",
   "execution_count": 28,
   "id": "a95ad3ed-599f-45ee-a631-d6289c7fa7cf",
   "metadata": {},
   "outputs": [
    {
     "name": "stdout",
     "output_type": "stream",
     "text": [
      "<class 'str'>\n",
      "<class 'int'>\n",
      "<class 'float'>\n",
      "<class 'bool'>\n"
     ]
    }
   ],
   "source": [
    "name=\"Ram\"\n",
    "print(type(name))\n",
    "age=35\n",
    "print(type(age))\n",
    "pi =3.145\n",
    "print(type(pi))\n",
    "is_true=True\n",
    "print(type(is_true))\n"
   ]
  },
  {
   "cell_type": "code",
   "execution_count": 34,
   "id": "43b7ec66-54c7-4b86-afab-409e42a9a3f4",
   "metadata": {},
   "outputs": [
    {
     "name": "stdout",
     "output_type": "stream",
     "text": [
      "<class 'complex'>\n"
     ]
    }
   ],
   "source": [
    "com=3+4J\n",
    "print(type(com))"
   ]
  },
  {
   "cell_type": "code",
   "execution_count": 35,
   "id": "23e1b3d0-87ab-4954-8fde-717c02e04035",
   "metadata": {},
   "outputs": [
    {
     "name": "stdout",
     "output_type": "stream",
     "text": [
      "3.0\n"
     ]
    }
   ],
   "source": [
    "print(com.real)"
   ]
  },
  {
   "cell_type": "code",
   "execution_count": 36,
   "id": "fe739b11-c390-4621-8301-f12ad6533411",
   "metadata": {},
   "outputs": [
    {
     "name": "stdout",
     "output_type": "stream",
     "text": [
      "4.0\n"
     ]
    }
   ],
   "source": [
    "print(com.imag)"
   ]
  },
  {
   "cell_type": "code",
   "execution_count": 37,
   "id": "2a708768-3da7-4d53-86c3-1ddfa1d54fae",
   "metadata": {},
   "outputs": [
    {
     "name": "stdout",
     "output_type": "stream",
     "text": [
      "10\n",
      "20\n"
     ]
    }
   ],
   "source": [
    "a,b=10,20\n",
    "print(a)\n",
    "print(b)"
   ]
  },
  {
   "cell_type": "code",
   "execution_count": 38,
   "id": "079afb97-1f21-4447-87c1-6303a4da46b3",
   "metadata": {},
   "outputs": [],
   "source": [
    "a=b=c=30"
   ]
  },
  {
   "cell_type": "code",
   "execution_count": 39,
   "id": "274e04be-5386-4e10-b3e1-0996e703758e",
   "metadata": {},
   "outputs": [
    {
     "name": "stdout",
     "output_type": "stream",
     "text": [
      "30\n",
      "30\n",
      "30\n"
     ]
    }
   ],
   "source": [
    "print(a)\n",
    "print(b)\n",
    "print(c)"
   ]
  },
  {
   "cell_type": "code",
   "execution_count": 41,
   "id": "fa8c3064-a2d8-438b-ab28-ad33a5a7d620",
   "metadata": {},
   "outputs": [
    {
     "name": "stdout",
     "output_type": "stream",
     "text": [
      "140726472494424\n"
     ]
    }
   ],
   "source": [
    "print(id(a))"
   ]
  },
  {
   "cell_type": "code",
   "execution_count": 42,
   "id": "551de20d-4411-425f-9950-125fc9ef23f6",
   "metadata": {},
   "outputs": [
    {
     "name": "stdout",
     "output_type": "stream",
     "text": [
      "140726472494424\n"
     ]
    }
   ],
   "source": [
    "print(id(b))"
   ]
  },
  {
   "cell_type": "code",
   "execution_count": 43,
   "id": "1dd07c6f-2a5f-472f-8328-8fcaed8fafee",
   "metadata": {},
   "outputs": [
    {
     "name": "stdout",
     "output_type": "stream",
     "text": [
      "True\n"
     ]
    }
   ],
   "source": [
    "is_true = 10 > 2\n",
    "print(is_true)"
   ]
  },
  {
   "cell_type": "code",
   "execution_count": 46,
   "id": "94cb14e6-69ca-4304-a8ee-4ba2e8354ce9",
   "metadata": {},
   "outputs": [
    {
     "data": {
      "text/plain": [
       "float"
      ]
     },
     "execution_count": 46,
     "metadata": {},
     "output_type": "execute_result"
    }
   ],
   "source": [
    "a=2.0\n",
    "b=2.0\n",
    "c=a-b\n",
    "type(c)"
   ]
  },
  {
   "cell_type": "code",
   "execution_count": 50,
   "id": "5ce52295-73f4-4e2c-91f5-56f3685b4b22",
   "metadata": {},
   "outputs": [
    {
     "name": "stdout",
     "output_type": "stream",
     "text": [
      "value for Number1 is 20 \n"
     ]
    }
   ],
   "source": [
    "number=10\n",
    "def my_fun():\n",
    "    number1=20\n",
    "    #print(f\"value for Number is {number} \")\n",
    "    print(f\"value for Number1 is {number1} \") #use to print number 1\n",
    "my_fun()\n",
    "#print(f\"value for Number is {number1} \")"
   ]
  },
  {
   "cell_type": "code",
   "execution_count": 51,
   "id": "7b16b065-7d35-458d-86a6-913366eae76b",
   "metadata": {},
   "outputs": [],
   "source": [
    "def greet():\n",
    "    '''This function \n",
    "    use to greet some\n",
    "    person'''\n",
    "    print(\"hello babjee\")\n",
    "    "
   ]
  },
  {
   "cell_type": "code",
   "execution_count": 52,
   "id": "99d54ce8-8013-4481-97c8-904cccca6f04",
   "metadata": {},
   "outputs": [
    {
     "name": "stdout",
     "output_type": "stream",
     "text": [
      "hello babjee\n"
     ]
    }
   ],
   "source": [
    "greet()\n"
   ]
  },
  {
   "cell_type": "code",
   "execution_count": 53,
   "id": "6534db58-f040-43f6-b469-42943f06a035",
   "metadata": {},
   "outputs": [
    {
     "name": "stdout",
     "output_type": "stream",
     "text": [
      "This function \n",
      "    use to greet some\n",
      "    person\n"
     ]
    }
   ],
   "source": [
    "print(greet.__doc__)"
   ]
  },
  {
   "cell_type": "code",
   "execution_count": 54,
   "id": "d07086ef-4d2c-4105-ac39-48eec95fdec5",
   "metadata": {},
   "outputs": [
    {
     "name": "stdout",
     "output_type": "stream",
     "text": [
      "Help on function greet in module __main__:\n",
      "\n",
      "greet()\n",
      "    This function\n",
      "    use to greet some\n",
      "    person\n",
      "\n",
      "None\n"
     ]
    }
   ],
   "source": [
    "print(help(greet))"
   ]
  },
  {
   "cell_type": "code",
   "execution_count": 57,
   "id": "71856bfd-b550-4881-ba1e-1c38ba9df162",
   "metadata": {},
   "outputs": [
    {
     "name": "stdout",
     "output_type": "stream",
     "text": [
      "3\n",
      "3.0\n",
      "(3+2j)\n",
      "2.2\n"
     ]
    }
   ],
   "source": [
    "#type conversion\n",
    "print(int(3.9))\n",
    "print(float(3))\n",
    "print(complex(3,2))\n",
    "print(str(2.2))"
   ]
  },
  {
   "cell_type": "code",
   "execution_count": 65,
   "id": "57847004-67f5-4f07-880d-2fbed4d3035f",
   "metadata": {},
   "outputs": [
    {
     "name": "stdin",
     "output_type": "stream",
     "text": [
      "Enter Your Name susil padit\n"
     ]
    },
    {
     "name": "stdout",
     "output_type": "stream",
     "text": [
      "---------------\n",
      "| susil padit |\n",
      "---------------\n"
     ]
    }
   ],
   "source": [
    "name=input(\"Enter Your Name\")\n",
    "width = len(name) +4\n",
    "print('-'*width)\n",
    "print(\"| \"+name+\" |\")\n",
    "print('-'*width)"
   ]
  },
  {
   "cell_type": "code",
   "execution_count": 63,
   "id": "4eab97c5-f424-4e44-a03e-358e790797cf",
   "metadata": {},
   "outputs": [
    {
     "name": "stdout",
     "output_type": "stream",
     "text": [
      "babjeebabjeebabjee\n"
     ]
    }
   ],
   "source": [
    "print(\"babjee\" * 3)"
   ]
  },
  {
   "cell_type": "code",
   "execution_count": 69,
   "id": "43c37ff2-e221-4208-bdf7-f868fd1dad22",
   "metadata": {},
   "outputs": [
    {
     "name": "stdin",
     "output_type": "stream",
     "text": [
      "Enter Num1 10\n",
      "Enter Num2 20\n"
     ]
    },
    {
     "name": "stdout",
     "output_type": "stream",
     "text": [
      "10 + 20 = 30\n"
     ]
    }
   ],
   "source": [
    "num1 = int(input(\"Enter Num1\"))\n",
    "num2 = int(input(\"Enter Num2\"))\n",
    "result=num1+num2\n",
    "print(f\"{num1} + {num2} = {result}\")\n",
    "                 "
   ]
  },
  {
   "cell_type": "code",
   "execution_count": 70,
   "id": "46d16ae7-12ec-4692-a0a7-54f972d07620",
   "metadata": {},
   "outputs": [
    {
     "name": "stdin",
     "output_type": "stream",
     "text": [
      "Enter Num1 10\n",
      "Enter Num2 4\n"
     ]
    },
    {
     "name": "stdout",
     "output_type": "stream",
     "text": [
      "10 - 4 = 6\n"
     ]
    }
   ],
   "source": [
    "num1 = int(input(\"Enter Num1\"))\n",
    "num2 = int(input(\"Enter Num2\"))\n",
    "result=num1-num2\n",
    "print(f\"{num1} - {num2} = {result}\")"
   ]
  },
  {
   "cell_type": "code",
   "execution_count": 71,
   "id": "420154d9-4995-4184-9a4b-bb56a15bb5d7",
   "metadata": {},
   "outputs": [
    {
     "name": "stdin",
     "output_type": "stream",
     "text": [
      "Enter Num1 10\n",
      "Enter Num2 20\n"
     ]
    },
    {
     "name": "stdout",
     "output_type": "stream",
     "text": [
      "10 * 20 = 200\n"
     ]
    }
   ],
   "source": [
    "num1 = int(input(\"Enter Num1\"))\n",
    "num2 = int(input(\"Enter Num2\"))\n",
    "result=num1*num2\n",
    "print(f\"{num1} * {num2} = {result}\")"
   ]
  },
  {
   "cell_type": "code",
   "execution_count": 75,
   "id": "87573660-f023-4de1-8f52-17033159b2d9",
   "metadata": {},
   "outputs": [
    {
     "name": "stdin",
     "output_type": "stream",
     "text": [
      "Enter Num1 10\n",
      "Enter Num2 3\n"
     ]
    },
    {
     "name": "stdout",
     "output_type": "stream",
     "text": [
      "10 // 3 = 3\n"
     ]
    }
   ],
   "source": [
    "num1 = int(input(\"Enter Num1\"))\n",
    "num2 = int(input(\"Enter Num2\"))\n",
    "result=num1//num2\n",
    "print(f\"{num1} // {num2} = {result}\")"
   ]
  },
  {
   "cell_type": "code",
   "execution_count": 77,
   "id": "fca21e0d-e1c1-443a-83de-acdf9ae12f85",
   "metadata": {},
   "outputs": [
    {
     "name": "stdin",
     "output_type": "stream",
     "text": [
      "Enter Num1 10\n",
      "Enter Num2 3\n"
     ]
    },
    {
     "name": "stdout",
     "output_type": "stream",
     "text": [
      "10 % 3 = 1\n"
     ]
    }
   ],
   "source": [
    "num1 = int(input(\"Enter Num1\"))\n",
    "num2 = int(input(\"Enter Num2\"))\n",
    "result=num1%num2\n",
    "print(f\"{num1} % {num2} = {result}\")"
   ]
  },
  {
   "cell_type": "code",
   "execution_count": 78,
   "id": "4a80c937-287f-433c-940e-356c7507f5e3",
   "metadata": {},
   "outputs": [
    {
     "name": "stdin",
     "output_type": "stream",
     "text": [
      "Enter Num1 10\n",
      "Enter Num2 2\n"
     ]
    },
    {
     "name": "stdout",
     "output_type": "stream",
     "text": [
      "10 ** 2 = 100\n"
     ]
    }
   ],
   "source": [
    "num1 = int(input(\"Enter Num1\"))\n",
    "num2 = int(input(\"Enter Num2\"))\n",
    "result=num1**num2\n",
    "print(f\"{num1} ** {num2} = {result}\")"
   ]
  },
  {
   "cell_type": "code",
   "execution_count": 143,
   "id": "fa076ace-cff9-41f0-aa16-98b5752c779d",
   "metadata": {},
   "outputs": [
    {
     "name": "stdout",
     "output_type": "stream",
     "text": [
      "Welcome to the tip calculator!\n"
     ]
    },
    {
     "name": "stdin",
     "output_type": "stream",
     "text": [
      "What was the total bill? $ 33\n",
      "How much tip would you like to give? 10, 12, or 15?  5\n",
      "How many people to split the bill?  3\n"
     ]
    },
    {
     "name": "stdout",
     "output_type": "stream",
     "text": [
      "Each person should pay: $11.55\n"
     ]
    }
   ],
   "source": [
    "print(\"Welcome to the tip calculator!\")\n",
    "bill = float(input(\"What was the total bill? $\"))\n",
    "tip = int(input(\"How much tip would you like to give? 10, 12, or 15? \"))\n",
    "person = int(input(\"How many people to split the bill? \"))\n",
    "each_pay = ((bill / person) * (1 + tip / 100))\n",
    "each_pay_round = round(each_pay, 2)\n",
    "print(f\"Each person should pay: ${each_pay_round}\")"
   ]
  },
  {
   "cell_type": "code",
   "execution_count": 85,
   "id": "94e93288-763b-4c70-a08a-5ca15c063ca0",
   "metadata": {},
   "outputs": [
    {
     "name": "stdout",
     "output_type": "stream",
     "text": [
      "True\n"
     ]
    }
   ],
   "source": [
    "print(10 <=10)\n"
   ]
  },
  {
   "cell_type": "code",
   "execution_count": 86,
   "id": "962f706c-9b1e-4047-8975-a0fc1f300e0a",
   "metadata": {},
   "outputs": [
    {
     "name": "stdout",
     "output_type": "stream",
     "text": [
      "110\n"
     ]
    }
   ],
   "source": [
    "a =100\n",
    "a+=10 # a = a+10\n",
    "print(a)"
   ]
  },
  {
   "cell_type": "code",
   "execution_count": 87,
   "id": "9951ca8a-26c0-43f7-a397-0f52d6ab9b49",
   "metadata": {},
   "outputs": [
    {
     "name": "stdout",
     "output_type": "stream",
     "text": [
      "90\n"
     ]
    }
   ],
   "source": [
    "a =100\n",
    "a-=10 # a = a-10\n",
    "print(a)"
   ]
  },
  {
   "cell_type": "code",
   "execution_count": 88,
   "id": "a3a9ab89-4ad8-4785-8eee-d63ca721973f",
   "metadata": {},
   "outputs": [
    {
     "name": "stdout",
     "output_type": "stream",
     "text": [
      "1000\n"
     ]
    }
   ],
   "source": [
    "a =100\n",
    "a*=10 # a = a *10\n",
    "print(a)"
   ]
  },
  {
   "cell_type": "code",
   "execution_count": 93,
   "id": "2c64537b-6d3e-407a-bc91-6e0faa93dbc3",
   "metadata": {},
   "outputs": [
    {
     "name": "stdout",
     "output_type": "stream",
     "text": [
      "33.333333333333336\n"
     ]
    }
   ],
   "source": [
    "a =100\n",
    "a/=3 # a = a/10\n",
    "print(a)"
   ]
  },
  {
   "cell_type": "code",
   "execution_count": 94,
   "id": "b8a5e598-742f-41dd-8c68-e39d13544ed5",
   "metadata": {},
   "outputs": [
    {
     "name": "stdout",
     "output_type": "stream",
     "text": [
      "33\n"
     ]
    }
   ],
   "source": [
    "a =100\n",
    "a//=3 # a = a//10\n",
    "print(a)"
   ]
  },
  {
   "cell_type": "code",
   "execution_count": 91,
   "id": "21578f6b-cb44-4053-9a4d-1dbc798f9359",
   "metadata": {},
   "outputs": [
    {
     "name": "stdout",
     "output_type": "stream",
     "text": [
      "0\n"
     ]
    }
   ],
   "source": [
    "a =100\n",
    "a %=10 # a = a%10\n",
    "print(a)"
   ]
  },
  {
   "cell_type": "code",
   "execution_count": 95,
   "id": "8ff7d7df-0a1d-4bff-a45b-b3fc0078c509",
   "metadata": {},
   "outputs": [
    {
     "name": "stdout",
     "output_type": "stream",
     "text": [
      "10000\n"
     ]
    }
   ],
   "source": [
    "a =100\n",
    "a **=2 # a = a**10\n",
    "print(a)"
   ]
  },
  {
   "cell_type": "code",
   "execution_count": 124,
   "id": "6740b0ee-a34b-4ea5-b3c3-d2b52bdbbc17",
   "metadata": {},
   "outputs": [
    {
     "data": {
      "text/plain": [
       "False"
      ]
     },
     "execution_count": 124,
     "metadata": {},
     "output_type": "execute_result"
    }
   ],
   "source": [
    "not 10 > 9 "
   ]
  },
  {
   "cell_type": "code",
   "execution_count": 125,
   "id": "155fec39-b373-4399-a9e6-1a00917965f4",
   "metadata": {},
   "outputs": [
    {
     "data": {
      "text/plain": [
       "0"
      ]
     },
     "execution_count": 125,
     "metadata": {},
     "output_type": "execute_result"
    }
   ],
   "source": [
    "10 &4"
   ]
  },
  {
   "cell_type": "code",
   "execution_count": 128,
   "id": "52102990-2bc9-43ef-9c2e-38222fb133d9",
   "metadata": {},
   "outputs": [
    {
     "data": {
      "text/plain": [
       "14"
      ]
     },
     "execution_count": 128,
     "metadata": {},
     "output_type": "execute_result"
    }
   ],
   "source": [
    "10 ^4"
   ]
  },
  {
   "cell_type": "code",
   "execution_count": 131,
   "id": "4584e56e-3d6e-4cae-bfc7-bc0b61605684",
   "metadata": {},
   "outputs": [
    {
     "data": {
      "text/plain": [
       "2"
      ]
     },
     "execution_count": 131,
     "metadata": {},
     "output_type": "execute_result"
    }
   ],
   "source": [
    "8>>2"
   ]
  },
  {
   "cell_type": "code",
   "execution_count": 105,
   "id": "73f5210b-cfe5-4d71-9fa5-e2083e1967c5",
   "metadata": {},
   "outputs": [
    {
     "ename": "NameError",
     "evalue": "name 'dec' is not defined",
     "output_type": "error",
     "traceback": [
      "\u001b[31m---------------------------------------------------------------------------\u001b[39m",
      "\u001b[31mNameError\u001b[39m                                 Traceback (most recent call last)",
      "\u001b[36mCell\u001b[39m\u001b[36m \u001b[39m\u001b[32mIn[105]\u001b[39m\u001b[32m, line 1\u001b[39m\n\u001b[32m----> \u001b[39m\u001b[32m1\u001b[39m \u001b[43mdec\u001b[49m(\u001b[32m32\u001b[39m)\n",
      "\u001b[31mNameError\u001b[39m: name 'dec' is not defined"
     ]
    }
   ],
   "source": []
  },
  {
   "cell_type": "code",
   "execution_count": 134,
   "id": "7f693e96-2cf9-4136-a148-ecfa9b292b2d",
   "metadata": {},
   "outputs": [
    {
     "name": "stdout",
     "output_type": "stream",
     "text": [
      "True\n"
     ]
    }
   ],
   "source": [
    "print( 'b'  not in 'apple')"
   ]
  },
  {
   "cell_type": "code",
   "execution_count": 138,
   "id": "c381a486-5d55-4e86-8181-8ea9eef67938",
   "metadata": {},
   "outputs": [
    {
     "name": "stdout",
     "output_type": "stream",
     "text": [
      "140726472496664\n",
      "140726472496664\n",
      "False\n"
     ]
    }
   ],
   "source": [
    "a =100\n",
    "print(id(a))\n",
    "b=100\n",
    "print(id(b))\n",
    "print(a is not  b)"
   ]
  },
  {
   "cell_type": "code",
   "execution_count": 141,
   "id": "b4d7418a-f6b9-4124-bc64-3f6ea3ef7c21",
   "metadata": {},
   "outputs": [
    {
     "data": {
      "text/plain": [
       "10.7"
      ]
     },
     "execution_count": 141,
     "metadata": {},
     "output_type": "execute_result"
    }
   ],
   "source": [
    "round(10.68,1)"
   ]
  },
  {
   "cell_type": "code",
   "execution_count": null,
   "id": "ada29f5c-344a-47ad-ab0d-92a70f4a9f89",
   "metadata": {},
   "outputs": [],
   "source": []
  }
 ],
 "metadata": {
  "kernelspec": {
   "display_name": "Python 3 (ipykernel)",
   "language": "python",
   "name": "python3"
  },
  "language_info": {
   "codemirror_mode": {
    "name": "ipython",
    "version": 3
   },
   "file_extension": ".py",
   "mimetype": "text/x-python",
   "name": "python",
   "nbconvert_exporter": "python",
   "pygments_lexer": "ipython3",
   "version": "3.12.10"
  }
 },
 "nbformat": 4,
 "nbformat_minor": 5
}

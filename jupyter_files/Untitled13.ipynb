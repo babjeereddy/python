{
 "cells": [
  {
   "cell_type": "code",
   "execution_count": 14,
   "id": "b847e7a9-cd73-4223-8a15-e9e09ee018dc",
   "metadata": {},
   "outputs": [],
   "source": [
    "import pickle\n",
    "lst=[10,20,30,40]\n",
    "with open(\"c:/python_challenge/lst.pkl\",\"wb\") as f:\n",
    "    pickle.dump(lst,f,protocol=0)"
   ]
  },
  {
   "cell_type": "code",
   "execution_count": 7,
   "id": "f9e98c04-0217-4932-93f2-ef1072fb5418",
   "metadata": {},
   "outputs": [
    {
     "name": "stdout",
     "output_type": "stream",
     "text": [
      "[10, 20, 30, 40]\n"
     ]
    }
   ],
   "source": [
    "with open(\"c:/python_challenge/lst.pkl\",\"rb\") as f:\n",
    "    lst_obj = pickle.load(f)\n",
    "print(lst_obj)"
   ]
  },
  {
   "cell_type": "code",
   "execution_count": 15,
   "id": "49452caa-49e2-44b9-80ae-172b82d42ff4",
   "metadata": {},
   "outputs": [
    {
     "name": "stdout",
     "output_type": "stream",
     "text": [
      "    0: (    MARK\n",
      "    1: l        LIST       (MARK at 0)\n",
      "    2: p    PUT        0\n",
      "    5: I    INT        10\n",
      "    9: a    APPEND\n",
      "   10: I    INT        20\n",
      "   14: a    APPEND\n",
      "   15: I    INT        30\n",
      "   19: a    APPEND\n",
      "   20: I    INT        40\n",
      "   24: a    APPEND\n",
      "   25: .    STOP\n",
      "highest protocol among opcodes = 0\n"
     ]
    }
   ],
   "source": [
    "import pickletools\n",
    "with open(\"c:/python_challenge/lst.pkl\", \"rb\") as f:\n",
    "    pickletools.dis(f)"
   ]
  },
  {
   "cell_type": "code",
   "execution_count": 21,
   "id": "ff51f1d1-9344-4300-92e4-fa8fca8c4313",
   "metadata": {},
   "outputs": [
    {
     "name": "stdout",
     "output_type": "stream",
     "text": [
      "{'name': 'Ram', 'age': 30, 'city': 'chennai'}\n"
     ]
    }
   ],
   "source": [
    "dis={\"name\":\"Ram\",\"age\":30,\"city\":\"chennai\"}\n",
    "with open('c:/python_challenge/dis.pik','wb') as f:\n",
    "    pickle.dump(dis,f)\n",
    "with  open('c:/python_challenge/dis.pik','rb') as f1:    \n",
    "    dis_obj =pickle.load(f1)\n",
    "    \n",
    "print(dis_obj)\n",
    "\n",
    "     "
   ]
  },
  {
   "cell_type": "code",
   "execution_count": 31,
   "id": "2ae1625e-c7fe-4945-bf7d-d1cbe1a47912",
   "metadata": {},
   "outputs": [
    {
     "name": "stdout",
     "output_type": "stream",
     "text": [
      "    0: \\x80 PROTO      5\n",
      "    2: \\x95 FRAME      43\n",
      "   11: }    EMPTY_DICT\n",
      "   12: \\x94 MEMOIZE    (as 0)\n",
      "   13: (    MARK\n",
      "   14: \\x8c     SHORT_BINUNICODE 'name'\n",
      "   20: \\x94     MEMOIZE    (as 1)\n",
      "   21: \\x8c     SHORT_BINUNICODE 'Ram'\n",
      "   26: \\x94     MEMOIZE    (as 2)\n",
      "   27: \\x8c     SHORT_BINUNICODE 'age'\n",
      "   32: \\x94     MEMOIZE    (as 3)\n",
      "   33: K        BININT1    30\n",
      "   35: \\x8c     SHORT_BINUNICODE 'city'\n",
      "   41: \\x94     MEMOIZE    (as 4)\n",
      "   42: \\x8c     SHORT_BINUNICODE 'chennai'\n",
      "   51: \\x94     MEMOIZE    (as 5)\n",
      "   52: u        SETITEMS   (MARK at 13)\n",
      "   53: .    STOP\n",
      "highest protocol among opcodes = 4\n"
     ]
    }
   ],
   "source": [
    "import pickletools\n",
    "with  open('c://python_challenge//dis.pik','wb') as f1: \n",
    "    pickle.dump(dis,f1,protocol=5)\n",
    "with  open('c://python_challenge//dis.pik','rb') as f1:    \n",
    "    \n",
    "    pickletools.dis(f1)"
   ]
  },
  {
   "cell_type": "code",
   "execution_count": 34,
   "id": "e3d29b99-89dc-4cd3-b2d5-93add5cbb7be",
   "metadata": {},
   "outputs": [],
   "source": [
    "class Person:\n",
    "    name=\"Ram\"\n",
    "    age=20"
   ]
  },
  {
   "cell_type": "code",
   "execution_count": 36,
   "id": "eea0f4e8-6b42-4de2-a068-b2dc01b68277",
   "metadata": {},
   "outputs": [],
   "source": [
    "p=Person()\n",
    "with open('c:\\\\python_challenge\\\\cls.pkl',\"wb\") as f:\n",
    "    pickle.dump(p,f)"
   ]
  },
  {
   "cell_type": "code",
   "execution_count": 38,
   "id": "7a7f1111-4980-4a46-9c49-bc98b6059c1b",
   "metadata": {},
   "outputs": [
    {
     "name": "stdout",
     "output_type": "stream",
     "text": [
      "<__main__.Person object at 0x0000023C4F8520C0>\n"
     ]
    }
   ],
   "source": [
    "with open('c:\\\\python_challenge\\\\cls.pkl',\"rb\") as f:\n",
    "    obj=pickle.load(f)\n",
    "print(obj)"
   ]
  },
  {
   "cell_type": "code",
   "execution_count": 41,
   "id": "1dede8e9-15dc-4c76-b326-e142e3f4c94a",
   "metadata": {},
   "outputs": [
    {
     "name": "stdout",
     "output_type": "stream",
     "text": [
      "b'\\x80\\x04\\x95\\x0b\\x00\\x00\\x00\\x00\\x00\\x00\\x00]\\x94(K\\nK\\x14K\\x1ee.'\n"
     ]
    }
   ],
   "source": [
    "lst = [10,20,30]\n",
    "lst_dumps =pickle.dumps(lst)\n",
    "print(lst_dumps)"
   ]
  },
  {
   "cell_type": "code",
   "execution_count": 40,
   "id": "3453ff11-fd57-4d09-9d42-75db2b43e51a",
   "metadata": {},
   "outputs": [
    {
     "name": "stdout",
     "output_type": "stream",
     "text": [
      "[10, 20, 30]\n"
     ]
    }
   ],
   "source": [
    "print(pickle.loads(lst_dumps))"
   ]
  },
  {
   "cell_type": "code",
   "execution_count": null,
   "id": "82e64a1f-39cd-49ba-b693-da5cf7a7a718",
   "metadata": {},
   "outputs": [],
   "source": []
  }
 ],
 "metadata": {
  "kernelspec": {
   "display_name": "Python 3 (ipykernel)",
   "language": "python",
   "name": "python3"
  },
  "language_info": {
   "codemirror_mode": {
    "name": "ipython",
    "version": 3
   },
   "file_extension": ".py",
   "mimetype": "text/x-python",
   "name": "python",
   "nbconvert_exporter": "python",
   "pygments_lexer": "ipython3",
   "version": "3.12.10"
  }
 },
 "nbformat": 4,
 "nbformat_minor": 5
}

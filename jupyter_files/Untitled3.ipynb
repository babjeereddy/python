{
 "cells": [
  {
   "cell_type": "code",
   "execution_count": 1,
   "id": "1bdbb66f-a98b-4e4c-845e-7ada8a7e0b56",
   "metadata": {},
   "outputs": [
    {
     "name": "stdout",
     "output_type": "stream",
     "text": [
      "Hello World\n"
     ]
    }
   ],
   "source": [
    "print(\"Hello World\")"
   ]
  },
  {
   "cell_type": "code",
   "execution_count": 4,
   "id": "64b73ae4-e335-4159-9a6d-98e7a622ffb9",
   "metadata": {},
   "outputs": [
    {
     "name": "stdout",
     "output_type": "stream",
     "text": [
      "hello#how#are#you\n"
     ]
    }
   ],
   "source": [
    "print(\"hello\",\"how\" , \"are\",\"you\",sep=\"#\")\n"
   ]
  },
  {
   "cell_type": "code",
   "execution_count": 7,
   "id": "00b59c13-751b-435a-921c-4aaceb81b930",
   "metadata": {},
   "outputs": [
    {
     "name": "stdout",
     "output_type": "stream",
     "text": [
      "HelloWorld\n"
     ]
    }
   ],
   "source": [
    "print(\"Hello\",end=\"\")\n",
    "print(\"World\")"
   ]
  },
  {
   "cell_type": "code",
   "execution_count": 9,
   "id": "26ce9d63-f9cc-4e53-8a96-b1e83fe0fb06",
   "metadata": {},
   "outputs": [
    {
     "name": "stdout",
     "output_type": "stream",
     "text": [
      "hello\n",
      "world\n"
     ]
    }
   ],
   "source": [
    "print(\"hello\\nworld\")"
   ]
  },
  {
   "cell_type": "code",
   "execution_count": 10,
   "id": "a5220824-a2b6-4d76-97b3-3f6e1013fab2",
   "metadata": {},
   "outputs": [
    {
     "name": "stdout",
     "output_type": "stream",
     "text": [
      "Hello\tWorld\n"
     ]
    }
   ],
   "source": [
    "print(\"Hello\\tWorld\")"
   ]
  },
  {
   "cell_type": "code",
   "execution_count": 11,
   "id": "b7c7dd87-6fea-40d4-ba12-af5d660bb3a0",
   "metadata": {},
   "outputs": [
    {
     "name": "stdout",
     "output_type": "stream",
     "text": [
      "HellWorld\n"
     ]
    }
   ],
   "source": [
    "print(\"Hello\\bWorld\")"
   ]
  },
  {
   "cell_type": "code",
   "execution_count": 12,
   "id": "07a773bc-e349-4b8e-a4ff-86bd371cc203",
   "metadata": {},
   "outputs": [
    {
     "name": "stdout",
     "output_type": "stream",
     "text": [
      "Hello World\n",
      "Hello World\n",
      "Hello World\n"
     ]
    }
   ],
   "source": [
    "print(\"Hello World\")\n",
    "print('Hello World')\n",
    "print('''Hello World''')\n"
   ]
  },
  {
   "cell_type": "code",
   "execution_count": 17,
   "id": "4033d2fe-3b6d-4bac-b7af-1f3a8bd62afe",
   "metadata": {},
   "outputs": [
    {
     "name": "stdout",
     "output_type": "stream",
     "text": [
      "mon\"s birthday\n"
     ]
    }
   ],
   "source": [
    "print(\"mon\\\"s birthday\")\n"
   ]
  },
  {
   "cell_type": "code",
   "execution_count": 21,
   "id": "bf985a7a-5801-40c6-8e96-a00f6d43b09d",
   "metadata": {},
   "outputs": [
    {
     "name": "stdout",
     "output_type": "stream",
     "text": [
      "hello\n",
      "world\n",
      "of\n",
      "python\n"
     ]
    }
   ],
   "source": [
    "print('''hello\n",
    "world\n",
    "of\n",
    "python''')"
   ]
  },
  {
   "cell_type": "code",
   "execution_count": 23,
   "id": "298750ab-e25f-4110-8792-501f6ecd02f1",
   "metadata": {},
   "outputs": [
    {
     "name": "stdout",
     "output_type": "stream",
     "text": [
      "Hello World\n"
     ]
    }
   ],
   "source": [
    "#print cuntion is use to prit values in terminal\n",
    "print(\"Hello World\") #print hello world"
   ]
  },
  {
   "cell_type": "code",
   "execution_count": 24,
   "id": "e3174645-d67c-4d28-b974-e2b51c717bce",
   "metadata": {},
   "outputs": [],
   "source": [
    "#One\n",
    "#Two\n",
    "#Three"
   ]
  },
  {
   "cell_type": "code",
   "execution_count": 27,
   "id": "c43ff8f4-b965-47e4-814d-d2c970b78756",
   "metadata": {},
   "outputs": [
    {
     "name": "stdout",
     "output_type": "stream",
     "text": [
      "Hello Word\n"
     ]
    }
   ],
   "source": [
    "def greet():\n",
    "    '''this function \n",
    "        is use to \n",
    "        greet some one'''\n",
    "    print(\"Hello Word\")\n",
    "greet()"
   ]
  },
  {
   "cell_type": "code",
   "execution_count": 28,
   "id": "c10c057f-a2fa-4b8e-bdfa-1e993c053d29",
   "metadata": {},
   "outputs": [
    {
     "name": "stdout",
     "output_type": "stream",
     "text": [
      "this function \n",
      "        is use to \n",
      "        greet some one\n"
     ]
    }
   ],
   "source": [
    "print(greet.__doc__)"
   ]
  },
  {
   "cell_type": "code",
   "execution_count": 32,
   "id": "56ac1ef9-0f87-46ac-9331-51b5f5f33e4b",
   "metadata": {},
   "outputs": [
    {
     "name": "stdin",
     "output_type": "stream",
     "text": [
      "Enter your name Ram\n",
      "Enter Your age 40\n"
     ]
    },
    {
     "name": "stdout",
     "output_type": "stream",
     "text": [
      "Name is Ram age is 40\n",
      "Name is Ram age is 40\n"
     ]
    }
   ],
   "source": [
    "name =input(\"Enter your name\")\n",
    "age = input(\"Enter Your age\")\n",
    "print(\"Name is \"+name +\" age is \"+age)\n",
    "print(f\"Name is {name} age is {age}\")"
   ]
  },
  {
   "cell_type": "code",
   "execution_count": 33,
   "id": "58c67ef4-7e7f-4cda-ac3d-a64f9a9940b0",
   "metadata": {},
   "outputs": [
    {
     "name": "stdout",
     "output_type": "stream",
     "text": [
      "ramramram\n"
     ]
    }
   ],
   "source": [
    "print(\"ram\" * 3)"
   ]
  },
  {
   "cell_type": "code",
   "execution_count": 34,
   "id": "3973e8bd-a8d2-4786-9ef4-58f19dfcf5c5",
   "metadata": {},
   "outputs": [
    {
     "name": "stdout",
     "output_type": "stream",
     "text": [
      "7\n"
     ]
    }
   ],
   "source": [
    "print(len('ramnath'))"
   ]
  },
  {
   "cell_type": "code",
   "execution_count": 38,
   "id": "59e4469f-07a8-46f6-89ee-5f4d2a341b2d",
   "metadata": {},
   "outputs": [
    {
     "name": "stdin",
     "output_type": "stream",
     "text": [
      "Enter Your Name ram\n"
     ]
    },
    {
     "name": "stdout",
     "output_type": "stream",
     "text": [
      "*******\n",
      "| ram |\n",
      "*******\n"
     ]
    }
   ],
   "source": [
    "name=input(\"Enter Your Name\")\n",
    "width =len(name) +4\n",
    "print(\"*\"*width)\n",
    "print(f\"| {name} |\")\n",
    "\n",
    "print(\"*\" * width)\n"
   ]
  },
  {
   "cell_type": "code",
   "execution_count": 39,
   "id": "25f447fb-a0a4-4575-8870-0053933a4633",
   "metadata": {},
   "outputs": [
    {
     "name": "stdout",
     "output_type": "stream",
     "text": [
      "Ram\n",
      "<class 'str'>\n"
     ]
    }
   ],
   "source": [
    "name=\"Ram\"\n",
    "print(name)\n",
    "print(type(name))"
   ]
  },
  {
   "cell_type": "code",
   "execution_count": 40,
   "id": "463e7d63-527d-4d1f-b382-e1b903245cd8",
   "metadata": {},
   "outputs": [
    {
     "name": "stdout",
     "output_type": "stream",
     "text": [
      "<class 'int'>\n"
     ]
    }
   ],
   "source": [
    "age=40\n",
    "print(type(age))"
   ]
  },
  {
   "cell_type": "code",
   "execution_count": 41,
   "id": "2483fb32-dfee-47ac-af43-eea660538ae4",
   "metadata": {},
   "outputs": [
    {
     "name": "stdout",
     "output_type": "stream",
     "text": [
      "<class 'float'>\n"
     ]
    }
   ],
   "source": [
    "pi=3.145\n",
    "print(type(pi))"
   ]
  },
  {
   "cell_type": "code",
   "execution_count": 42,
   "id": "e6197b4e-3a18-4af2-a1f8-98cdb54744f0",
   "metadata": {},
   "outputs": [],
   "source": [
    "comp=2+3j"
   ]
  },
  {
   "cell_type": "code",
   "execution_count": 43,
   "id": "810b4426-c1b7-4cbf-9775-1a3290274a00",
   "metadata": {},
   "outputs": [
    {
     "name": "stdout",
     "output_type": "stream",
     "text": [
      "2.0\n"
     ]
    }
   ],
   "source": [
    "print(comp.real)"
   ]
  },
  {
   "cell_type": "code",
   "execution_count": 44,
   "id": "65e27de7-531d-48fe-9e64-728799a7ecad",
   "metadata": {},
   "outputs": [
    {
     "name": "stdout",
     "output_type": "stream",
     "text": [
      "3.0\n"
     ]
    }
   ],
   "source": [
    "print(comp.imag)"
   ]
  },
  {
   "cell_type": "code",
   "execution_count": 46,
   "id": "0603c4d2-439d-4904-8104-388181c88ca3",
   "metadata": {},
   "outputs": [
    {
     "name": "stdout",
     "output_type": "stream",
     "text": [
      "<class 'complex'>\n"
     ]
    }
   ],
   "source": [
    "print(type(comp))"
   ]
  },
  {
   "cell_type": "code",
   "execution_count": 47,
   "id": "4ff4e863-1bb5-423d-bbda-15c5203e2a6f",
   "metadata": {},
   "outputs": [
    {
     "name": "stdout",
     "output_type": "stream",
     "text": [
      "<class 'bool'>\n"
     ]
    }
   ],
   "source": [
    "is_true =False\n",
    "print(type(is_true))"
   ]
  },
  {
   "cell_type": "code",
   "execution_count": 48,
   "id": "d1fdf1d8-0c67-4fdd-9c9b-4e974255289b",
   "metadata": {},
   "outputs": [],
   "source": [
    "name =len(\"Ram\") + len(\"Sham\")"
   ]
  },
  {
   "cell_type": "code",
   "execution_count": 49,
   "id": "dd5f88ed-51e7-45a3-8af6-00e96a32ee25",
   "metadata": {},
   "outputs": [
    {
     "name": "stdout",
     "output_type": "stream",
     "text": [
      "7\n"
     ]
    }
   ],
   "source": [
    "print(name)"
   ]
  },
  {
   "cell_type": "code",
   "execution_count": 50,
   "id": "17abcf55-906e-4c8c-bddd-f1a4f45ce08d",
   "metadata": {},
   "outputs": [
    {
     "name": "stdout",
     "output_type": "stream",
     "text": [
      "True\n"
     ]
    }
   ],
   "source": [
    "is_true = 10 >2\n",
    "print(is_true)"
   ]
  },
  {
   "cell_type": "code",
   "execution_count": 51,
   "id": "929ae48a-ae83-4cea-be6c-d15bafd25d04",
   "metadata": {},
   "outputs": [
    {
     "name": "stdout",
     "output_type": "stream",
     "text": [
      "Ram\n",
      "40\n"
     ]
    }
   ],
   "source": [
    "name,age = \"Ram\", 40\n",
    "print(name)\n",
    "print(age)"
   ]
  },
  {
   "cell_type": "code",
   "execution_count": 52,
   "id": "db163a9b-3eea-44df-8ab4-f26094bcdf7d",
   "metadata": {},
   "outputs": [],
   "source": [
    "name1=name2=name3 =\"Ram\""
   ]
  },
  {
   "cell_type": "code",
   "execution_count": 55,
   "id": "0aa2c768-73d8-477a-b0e2-b49cf6f9cda3",
   "metadata": {},
   "outputs": [
    {
     "name": "stdout",
     "output_type": "stream",
     "text": [
      "Ram\n",
      "Ram\n",
      "Ram\n",
      "2962666275728\n",
      "2962666275728\n",
      "2962666275728\n"
     ]
    }
   ],
   "source": [
    "print(name1)\n",
    "print(name2)\n",
    "print(name3)\n",
    "print(id(name1))\n",
    "print(id(name2))\n",
    "print(id(name2))\n"
   ]
  },
  {
   "cell_type": "code",
   "execution_count": 56,
   "id": "c38e124d-937e-4dba-967a-862a01634550",
   "metadata": {},
   "outputs": [
    {
     "name": "stdout",
     "output_type": "stream",
     "text": [
      "2962666275728\n",
      "2962666275728\n"
     ]
    }
   ],
   "source": [
    "name1=\"Ram\"\n",
    "name1=\"Ram\"\n",
    "print(id(name))\n",
    "print(id(name))"
   ]
  },
  {
   "cell_type": "code",
   "execution_count": 63,
   "id": "91e36cda-6a0a-402a-a29b-4a0e44ce6b77",
   "metadata": {},
   "outputs": [
    {
     "name": "stdout",
     "output_type": "stream",
     "text": [
      "Num1 vlaues is 10\n",
      "Num1 vlaues is 20\n"
     ]
    }
   ],
   "source": [
    "num1=10\n",
    "def printnum():\n",
    "    num2=20\n",
    "    print(f\"Num1 vlaues is {num1}\")\n",
    "    print(f\"Num1 vlaues is {num2}\")\n",
    "    \n",
    "#print(f\"Num1 vlaues is {num2}\")\n",
    "printnum()\n",
    "    \n",
    "    "
   ]
  },
  {
   "cell_type": "code",
   "execution_count": 65,
   "id": "99d065d8-13fb-44a5-8514-d592b00976df",
   "metadata": {},
   "outputs": [
    {
     "name": "stdout",
     "output_type": "stream",
     "text": [
      "Help on built-in function len in module builtins:\n",
      "\n",
      "len(obj, /)\n",
      "    Return the number of items in a container.\n",
      "\n"
     ]
    }
   ],
   "source": [
    "help(len)"
   ]
  },
  {
   "cell_type": "code",
   "execution_count": 68,
   "id": "0c03d913-ba17-43bc-bd69-f4339e97e0da",
   "metadata": {},
   "outputs": [
    {
     "name": "stdout",
     "output_type": "stream",
     "text": [
      "10\n",
      "1244\n",
      "1244.0\n"
     ]
    }
   ],
   "source": [
    "num =10.23\n",
    "print(int(num))\n",
    "num =\"1244\"\n",
    "print(int(num))\n",
    "print(float(num))\n"
   ]
  },
  {
   "cell_type": "code",
   "execution_count": 69,
   "id": "6cefb4ad-2000-4a8f-bed3-80685c11281a",
   "metadata": {},
   "outputs": [
    {
     "name": "stdout",
     "output_type": "stream",
     "text": [
      "(2+4j)\n"
     ]
    }
   ],
   "source": [
    "comp=complex(2,4)\n",
    "print(comp)\n"
   ]
  },
  {
   "cell_type": "code",
   "execution_count": 70,
   "id": "a4538a95-a922-43a9-8ca5-291cbe607b21",
   "metadata": {},
   "outputs": [
    {
     "name": "stdout",
     "output_type": "stream",
     "text": [
      "False\n"
     ]
    }
   ],
   "source": [
    "print(bool(0))"
   ]
  },
  {
   "cell_type": "code",
   "execution_count": 72,
   "id": "fd29e85e-70c7-4052-ba44-4e8ae3476375",
   "metadata": {},
   "outputs": [
    {
     "name": "stdout",
     "output_type": "stream",
     "text": [
      "hello10\n"
     ]
    }
   ],
   "source": [
    "print(\"hello\"+str(10))"
   ]
  },
  {
   "cell_type": "code",
   "execution_count": 73,
   "id": "dca2747f-e8b1-4eb2-b69b-860f634f031b",
   "metadata": {},
   "outputs": [
    {
     "ename": "ValueError",
     "evalue": "invalid literal for int() with base 10: 'A'",
     "output_type": "error",
     "traceback": [
      "\u001b[31m---------------------------------------------------------------------------\u001b[39m",
      "\u001b[31mValueError\u001b[39m                                Traceback (most recent call last)",
      "\u001b[36mCell\u001b[39m\u001b[36m \u001b[39m\u001b[32mIn[73]\u001b[39m\u001b[32m, line 1\u001b[39m\n\u001b[32m----> \u001b[39m\u001b[32m1\u001b[39m \u001b[38;5;28;43mint\u001b[39;49m\u001b[43m(\u001b[49m\u001b[33;43m\"\u001b[39;49m\u001b[33;43mA\u001b[39;49m\u001b[33;43m\"\u001b[39;49m\u001b[43m)\u001b[49m\n",
      "\u001b[31mValueError\u001b[39m: invalid literal for int() with base 10: 'A'"
     ]
    }
   ],
   "source": [
    "int(\"A\")"
   ]
  },
  {
   "cell_type": "code",
   "execution_count": 77,
   "id": "e20a6413-6c71-44e4-9233-ea13793c1318",
   "metadata": {},
   "outputs": [
    {
     "name": "stdout",
     "output_type": "stream",
     "text": [
      "10 + 10= 20\n"
     ]
    }
   ],
   "source": [
    "num1 =10\n",
    "num2 =10\n",
    "print(f\"{num1} + {num2}= {(num1+num2)}\")"
   ]
  },
  {
   "cell_type": "code",
   "execution_count": 78,
   "id": "0c104234-0da5-4d65-bf09-5d306f1b8206",
   "metadata": {},
   "outputs": [
    {
     "name": "stdout",
     "output_type": "stream",
     "text": [
      "10 - 5= 5\n"
     ]
    }
   ],
   "source": [
    "num1 =10\n",
    "num2 =5\n",
    "print(f\"{num1} - {num2 }= {(num1-num2)}\")"
   ]
  },
  {
   "cell_type": "code",
   "execution_count": 79,
   "id": "4a6071ed-74d2-48df-a1cd-4c7d4d115ae7",
   "metadata": {},
   "outputs": [
    {
     "name": "stdout",
     "output_type": "stream",
     "text": [
      "10 * 5= 50\n"
     ]
    }
   ],
   "source": [
    "num1 =10\n",
    "num2 =5\n",
    "print(f\"{num1} * {num2 }= {(num1*num2)}\")"
   ]
  },
  {
   "cell_type": "code",
   "execution_count": 80,
   "id": "ca841148-6fa0-4fa4-ab6f-621c986d585a",
   "metadata": {},
   "outputs": [
    {
     "name": "stdout",
     "output_type": "stream",
     "text": [
      "10 / 3= 3.3333333333333335\n"
     ]
    }
   ],
   "source": [
    "num1 =10\n",
    "num2 =3\n",
    "print(f\"{num1} / {num2 }= {(num1/num2)}\")"
   ]
  },
  {
   "cell_type": "code",
   "execution_count": 82,
   "id": "3933150d-74fa-44bb-85fc-6e9b01d7de01",
   "metadata": {},
   "outputs": [
    {
     "name": "stdout",
     "output_type": "stream",
     "text": [
      "10 // 3= 3\n"
     ]
    }
   ],
   "source": [
    "num1 =10\n",
    "num2 =3\n",
    "print(f\"{num1} // {num2 }= {(num1//num2)}\")"
   ]
  },
  {
   "cell_type": "code",
   "execution_count": 83,
   "id": "dc66b400-6cdb-4cf3-8cd2-fa4cf04c73cd",
   "metadata": {},
   "outputs": [
    {
     "name": "stdout",
     "output_type": "stream",
     "text": [
      "10 % 3= 1\n"
     ]
    }
   ],
   "source": [
    "num1 =10\n",
    "num2 =3\n",
    "print(f\"{num1} % {num2 }= {(num1%num2)}\")"
   ]
  },
  {
   "cell_type": "code",
   "execution_count": 84,
   "id": "47cb17a1-ce01-490c-93be-a5ff3406f4b3",
   "metadata": {},
   "outputs": [
    {
     "name": "stdout",
     "output_type": "stream",
     "text": [
      "10 ** 3= 1000\n"
     ]
    }
   ],
   "source": [
    "num1 =10\n",
    "num2 =3\n",
    "print(f\"{num1} ** {num2 }= {(num1**num2)}\")"
   ]
  },
  {
   "cell_type": "code",
   "execution_count": 85,
   "id": "42204f62-40c4-49a7-a25e-0a1af7193333",
   "metadata": {},
   "outputs": [
    {
     "name": "stdout",
     "output_type": "stream",
     "text": [
      "True\n"
     ]
    }
   ],
   "source": [
    "print(10==10)"
   ]
  },
  {
   "cell_type": "code",
   "execution_count": 86,
   "id": "e014dc19-cf13-4f0c-841e-06def4e096d1",
   "metadata": {},
   "outputs": [
    {
     "name": "stdout",
     "output_type": "stream",
     "text": [
      "True\n"
     ]
    }
   ],
   "source": [
    "print(10!=2)"
   ]
  },
  {
   "cell_type": "code",
   "execution_count": 87,
   "id": "0ef22341-e7be-4316-baa4-1f082f7f15d7",
   "metadata": {},
   "outputs": [
    {
     "name": "stdout",
     "output_type": "stream",
     "text": [
      "True\n"
     ]
    }
   ],
   "source": [
    "print(20 >10)"
   ]
  },
  {
   "cell_type": "code",
   "execution_count": 88,
   "id": "9035bde0-f8a9-4519-bde7-e224942a3b65",
   "metadata": {},
   "outputs": [
    {
     "name": "stdout",
     "output_type": "stream",
     "text": [
      "True\n"
     ]
    }
   ],
   "source": [
    "print(20>=20)"
   ]
  },
  {
   "cell_type": "code",
   "execution_count": 89,
   "id": "3c322046-34f9-49b3-8a57-4fa2428ac262",
   "metadata": {},
   "outputs": [
    {
     "name": "stdout",
     "output_type": "stream",
     "text": [
      "False\n"
     ]
    }
   ],
   "source": [
    "print(10 <2)"
   ]
  },
  {
   "cell_type": "code",
   "execution_count": 90,
   "id": "efe81ff2-8d77-4360-8514-730c6cd14f49",
   "metadata": {},
   "outputs": [
    {
     "name": "stdout",
     "output_type": "stream",
     "text": [
      "True\n"
     ]
    }
   ],
   "source": [
    "print(10<=10)"
   ]
  },
  {
   "cell_type": "code",
   "execution_count": null,
   "id": "0987c578-0af0-4fea-bbad-de7857725955",
   "metadata": {},
   "outputs": [],
   "source": []
  }
 ],
 "metadata": {
  "kernelspec": {
   "display_name": "Python 3 (ipykernel)",
   "language": "python",
   "name": "python3"
  },
  "language_info": {
   "codemirror_mode": {
    "name": "ipython",
    "version": 3
   },
   "file_extension": ".py",
   "mimetype": "text/x-python",
   "name": "python",
   "nbconvert_exporter": "python",
   "pygments_lexer": "ipython3",
   "version": "3.12.10"
  }
 },
 "nbformat": 4,
 "nbformat_minor": 5
}

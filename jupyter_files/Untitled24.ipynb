{
 "cells": [
  {
   "cell_type": "code",
   "execution_count": 6,
   "id": "02757a91-1a65-4fb2-a31b-110602f36c93",
   "metadata": {},
   "outputs": [
    {
     "name": "stdin",
     "output_type": "stream",
     "text": [
      "Enter Number1 10\n",
      "Enter Number2 0\n"
     ]
    },
    {
     "name": "stdout",
     "output_type": "stream",
     "text": [
      "Error occored integer modulo by zero\n"
     ]
    }
   ],
   "source": [
    "try:\n",
    "\n",
    "    num1 = int(input(\"Enter Number1\"))\n",
    "    num2 = int(input(\"Enter Number2\"))\n",
    "    print( num1%num2)\n",
    "    \n",
    "except ZeroDivisionError as e:\n",
    "    print(f\"Error occored {e}\")"
   ]
  },
  {
   "cell_type": "code",
   "execution_count": 11,
   "id": "99c1a050-c913-472b-85a5-d343b588f270",
   "metadata": {},
   "outputs": [
    {
     "name": "stdin",
     "output_type": "stream",
     "text": [
      "Enter Number1 -9\n"
     ]
    },
    {
     "name": "stdout",
     "output_type": "stream",
     "text": [
      "Error occored math domain error\n"
     ]
    }
   ],
   "source": [
    "import math\n",
    "try:\n",
    "\n",
    "    num1 = int(input(\"Enter Number1\"))\n",
    "    print(f\"Sqrt of {num1}  is {math.sqrt(num1)} \")\n",
    "except ValueError as e:\n",
    "    print(f\"Error occored {e}\")"
   ]
  },
  {
   "cell_type": "code",
   "execution_count": null,
   "id": "a8b254af-1b18-43fd-a868-2fa80dd04f3c",
   "metadata": {},
   "outputs": [],
   "source": []
  }
 ],
 "metadata": {
  "kernelspec": {
   "display_name": "Python 3 (ipykernel)",
   "language": "python",
   "name": "python3"
  },
  "language_info": {
   "codemirror_mode": {
    "name": "ipython",
    "version": 3
   },
   "file_extension": ".py",
   "mimetype": "text/x-python",
   "name": "python",
   "nbconvert_exporter": "python",
   "pygments_lexer": "ipython3",
   "version": "3.12.10"
  }
 },
 "nbformat": 4,
 "nbformat_minor": 5
}

{
 "cells": [
  {
   "cell_type": "code",
   "execution_count": 6,
   "id": "2572c6a9-4620-4222-a8aa-e126341e24e1",
   "metadata": {},
   "outputs": [
    {
     "name": "stdout",
     "output_type": "stream",
     "text": [
      "Apple frui\n"
     ]
    }
   ],
   "source": [
    "file =open(\"C:/Python_Challenge/example.txt\",\"r\")\n",
    "print(file.read())\n",
    "#file.write(\"Hello world\")\n",
    "file.close()"
   ]
  },
  {
   "cell_type": "code",
   "execution_count": 15,
   "id": "14bf6ac8-d95b-4f0b-a02d-5db2312e667b",
   "metadata": {},
   "outputs": [
    {
     "name": "stdout",
     "output_type": "stream",
     "text": [
      "Apple fruit\n",
      "Mango fruit\n",
      "Oran"
     ]
    }
   ],
   "source": [
    "file =open(\"C:/Python_Challenge/example.txt\",\"r\")\n",
    "print(file.readline(), end=\"\")\n",
    "print(file.readline() ,end=\"\")\n",
    "print(file.readline() ,end =\"\")\n",
    "\n",
    "\n"
   ]
  },
  {
   "cell_type": "code",
   "execution_count": 17,
   "id": "f89a0056-47de-4d47-95c0-48b2fc157722",
   "metadata": {},
   "outputs": [],
   "source": [
    "file.close()"
   ]
  },
  {
   "cell_type": "code",
   "execution_count": 19,
   "id": "7292f8e4-77c2-4f0a-acd4-79228b1becd0",
   "metadata": {},
   "outputs": [
    {
     "name": "stdout",
     "output_type": "stream",
     "text": [
      "Apple fruit\n",
      "Mango fruit\n",
      "Orange fruit\n",
      "Pinaple fruit"
     ]
    }
   ],
   "source": [
    "file =open(\"C:/Python_Challenge/example.txt\",\"r\")\n",
    "# print(file.readlines())\n",
    "for line in file.readlines():\n",
    "    print(line,end=\"\")\n",
    "\n",
    "file.close()"
   ]
  },
  {
   "cell_type": "code",
   "execution_count": 27,
   "id": "441d02ba-45fb-4bcd-8995-bcb2853e66f9",
   "metadata": {},
   "outputs": [],
   "source": [
    "file = open(\"c:\\\\python_challenge\\\\example.txt\", \"w\")\n",
    "file.write(\"Hello World!\\n\")\n",
    "file.write(\"Another line.\")\n",
    "file.close()\n",
    "\n"
   ]
  },
  {
   "cell_type": "code",
   "execution_count": 28,
   "id": "f43b8b69-f806-4965-b4e8-f24d90ed04ba",
   "metadata": {},
   "outputs": [],
   "source": [
    "file = open(\"c:\\\\python_challenge\\\\example.txt\", \"a\")\n",
    "file.write(\"\\nAppended line.\")\n",
    "file.close()\n"
   ]
  },
  {
   "cell_type": "code",
   "execution_count": 29,
   "id": "3497350b-92c3-4bef-9f08-7fc802cbe756",
   "metadata": {},
   "outputs": [
    {
     "name": "stdout",
     "output_type": "stream",
     "text": [
      "Hello World!\n",
      "Another line.\n",
      "Appended line.\n"
     ]
    }
   ],
   "source": [
    "file=open(\"c:\\\\python_challenge\\\\example.txt\", \"r\")\n",
    "print(file.read())\n",
    "file.close()"
   ]
  },
  {
   "cell_type": "code",
   "execution_count": 24,
   "id": "8d376840-7251-495f-a44d-45655ca3c5e8",
   "metadata": {},
   "outputs": [
    {
     "name": "stdout",
     "output_type": "stream",
     "text": [
      "\n",
      "Appended line.\n"
     ]
    }
   ],
   "source": [
    "with open(\"c:\\\\python_challenge\\\\example.txt\", \"r\") as file:\n",
    "    content = file.read()\n",
    "    print(content)\n"
   ]
  },
  {
   "cell_type": "code",
   "execution_count": 31,
   "id": "9a809eeb-9bd3-437e-9f80-a95b6e0f3619",
   "metadata": {},
   "outputs": [
    {
     "name": "stdout",
     "output_type": "stream",
     "text": [
      "b'\\xff\\xd8\\xff\\xe0\\x00\\x10JFIF\\x00\\x01\\x01\\x00\\x00\\x01\\x00\\x01\\x00\\x00\\xff\\xdb\\x00\\x84\\x00\\t\\x06\\x07\\x08\\x07\\x06\\t\\x08\\x07\\x08\\n\\n\\t\\x0b\\r\\x16\\x0f\\r\\x0c\\x0c\\r\\x1b\\x14\\x15\\x10\\x16 \\x1d\"\" \\x1d\\x1f\\x1f$(4,$&1\\'\\x1f\\x1f-=-157:::#+?D?8C49:7\\x01\\n\\n\\n\\r\\x0c\\r\\x1a\\x0f\\x0f\\x1a7%\\x1f%77777777777777777777777777777777777777777777777777\\xff\\xc0\\x00\\x11\\x08\\x00\\x94\\x00\\x94\\x03\\x01\\x11\\x00\\x02\\x11\\x01\\x03\\x11\\x01\\xff\\xc4\\x00\\x1b\\x00\\x00\\x02\\x02\\x03\\x01\\x00\\x00\\x00\\x00\\x00\\x00\\x00\\x00\\x00\\x00\\x00\\x00\\x01\\x02\\x06\\x04\\x05\\x07\\x03\\xff\\xc4\\x00I\\x10\\x00\\x01\\x03\\x02\\x02\\x05\\x05\\n\\x0b\\x04\\x0b\\x00\\x00\\x00\\x00\\x00\\x01\\x00\\x02\\x03\\x04\\x11\\x05\\x12\\x06\\x15!1Q\\x07Aa\\x91\\xd1\\x13\\x14\"STq\\x81\\xa2\\xb1\\xc1246BRcrt\\x93\\x94\\xa1#bs\\xe1\\x16\\x17$&3D\\x82\\xa3\\xb2\\xc2\\xd2\\xff\\xc4\\x00\\x1b\\x01\\x01\\x01\\x00\\x03\\x01\\x01\\x01\\x00\\x00\\x00\\x00\\x00\\x00\\x00\\x00\\x00\\x00\\x01\\x03\\x04\\x05\\x06\\x02\\x07\\xff\\xc4\\x002\\x11\\x00\\x02\\x01\\x03\\x01\\x04\\x08\\x05\\x04\\x03\\x00\\x00\\x00\\x00\\x00\\x00\\x00\\x01\\x02\\x03\\x04\\x11\\x12\\x05!1Q\\x14\\x15\"2Aa\\x81\\xa13bq\\xd1\\xf0\\x134R\\xb1#\\xc1\\xe1\\xff\\xda\\x00\\x0c\\x03\\x01\\x00\\x02\\x11\\x03\\x11\\x00?\\x00\\xee(\\x01\\x00 \\x04\\x02&\\xc8\\n\\xee\\x92\\xe9n\\x1f\\x81;\\xb8\\xbb4\\xf5d\\\\C\\x1f7\\xda<\\xde\\xd5\\x9e\\x95\\tT\\xf2F\\n\\xb5\\xe3O\\xcd\\x94j\\xfeP1\\xaa\\x87\\x1e\\xf70\\xd2\\xc7\\xfb\\x8c\\xccz\\xca\\xdb\\x8d\\xad5\\xc7y\\xa9+\\xaa\\x8f\\x86\\xe3KS\\xa48\\xd5F\\xc9q:\\xa286B\\xdfb\\xca\\xa9ApF7V\\xa3\\xe2\\xcc9+\\xabd\\xff\\x00\\x16\\xb2\\xa5\\xff\\x00jg\\x15\\xf5\\xa5r>5K\\x99\\x01UP\\xd3v\\xd4N\\x0fD\\x84&\\x95\\xc8\\xba\\x99\\xef\\x161\\x89\\xc2\\xec\\xd1\\xe25\\x80\\x8d\\xdf\\xb7q\\xfd\\tQ\\xc2/\\xc0\\xfaS\\x92\\xf164\\x9ai\\xa4\\x14\\xa6\\xe3\\x10t\\xa2\\xff\\x00\\x06f\\x07\\x05\\x8d\\xdb\\xd3~\\x07\\xda\\xafQx\\x97M\\x1b\\xe5\\x02\\x9a\\xbeX\\xe9\\xb1V\\nZ\\x87\\x90\\xd6\\xc86\\xc6\\xe3\\xff\\x00_J\\xd4\\xa9l\\xe3\\xbe&\\xd5;\\x85-\\xd2/\\x00\\xecZ\\xc6\\xc8\\xd0\\x02\\x00@\\x08\\x01\\x00 \\x04\\x00\\x80\\x10\\x18\\xb8\\x9dP\\xa1\\xc3\\xeaj\\xdc\\x01\\x10\\xc4\\xe7\\xd8\\xf3\\xd8/\\xa8\\xc7T\\x92>e-)\\xb3\\x83K-E]C\\xa5\\x94\\xbaY\\xe6vcm\\xeeq+\\xb3\\x85\\x15\\x85\\xc0\\xe3\\xe5\\xc9\\xe5\\xf1:\\x0e\\x19\\xc9\\xb4\\x0f\\xa4k\\xb1:\\xb9\\x85C\\x85\\xcba\\xb0\\x0c\\xe8\\xb9\\x06\\xebFw\\x8f=\\x94n\\xc2\\xd1c\\xb4\\xca\\xa6\\x96\\xe8\\xe4\\xba;Y\\x1b\\x0c\\x86jy\\x811\\xc8[m\\xdb\\xc1\\xe9\\xdc\\xb6(\\xd6UQ\\x82\\xad\\'M\\x9a\"\\xb3\\x18D\\x85\\x12\\x80\\x10\\x08\\xee\\xb7\\x15\\nu^L\\xb1\\xd91\\n\\tp\\xfa\\xa7\\x97\\xcdH\\x06G\\xb8\\xdc\\xba3\\xbbo=\\xbb\\x17>\\xe6\\x9a\\x8b\\xd4\\xbcM\\xfbj\\x8eK\\x0f\\xc0\\xbc-cd\\x10\\x02\\x00@\\x08\\x01\\x00 \\x04\\x00\\x80\\xd1\\xe9\\xab\\xb2\\xe8\\xb6\"G\\x8a\\xf7\\xac\\xd4>$L5\\xfe\\x1b8\\xcd$\\xdd\\xebW\\rF\\\\\\xfd\\xcaF\\xbf/\\x1b\\x1d\\xcb\\xab%\\x94\\xd1\\xca\\x8b\\xc3L\\xee\\xd8v!K\\x88\\xd2\\xc7UG3d\\x89\\xe2\\xf7\\x07wA\\xe0W\\x1aPqxgf3RI\\xa3\\x9e\\xf2\\xa3\\x8bR\\xd4\\xcbKAN\\xf6\\xc8\\xfaw9\\xf2\\xb9\\xa6\\xf9I\\xd9\\x97\\xce\\xb7m \\xd2rf\\x95\\xd4\\xd3j(\\xa1\\x91m\\x8bp\\xd4\\x12\\x14J\\x00@\"\\xa1K\\x87%\\x8e#I\\x1e\\xd0v:\\x99\\xc0\\xf5\\x85\\xadu\\xdc6-{\\xe7]\\\\\\xf3\\xa0\\x08\\x01\\x00 \\x04\\x00\\x80\\x10\\x02\\x00@h\\xb4\\xdc\\xff\\x00u\\xb1\\x1f\\xe1{\\xd6k\\x7f\\x8a\\x8c5\\xfe\\x1b8\\xa2\\xeb\\x9c\\x92L\\x96H\\xc1\\xeeR9\\x97\\xdf\\x95\\xc4_\\xa9|\\xb4\\x99\\xf4\\x9b^\\'\\x99\\xb5\\xd0\\x01(\\x01\\nE@\\x08\\x04T)n\\xe4\\xb7\\xe59\\xfb\\xbb\\xfd\\xcb^\\xeb\\xe1\\x9b\\x16\\xbd\\xf3\\xaf\\xaeq\\xd0\\x04\\x00\\x80\\x10\\x02\\x00@\"m\\xbd\\x01\\xa8\\xac\\xd2\\x8c\\x16\\x8d\\xc5\\xb3\\xe2\\x10\\x87\\r\\xedi\\xcc\\x7fE\\x964jK\\x821J\\xb58\\xf1f\\'\\xf4\\xe3G\\xfc\\xbb\\xfd\\xb7v/\\xae\\x8dW\\x91\\xf1\\xd2is<\\xaat\\xc7Fj\\xa1|5\\x15M\\x92\\'\\x8b9\\x8f\\x85\\xc4\\x1f\\xd1UoY<\\xa4\\x1d\\xc5&\\xb0\\xd9\\xae\\xd6\\xba\\x07\\xe4\\xf4\\x7f\\x95=\\x8b\\xefE\\xcf?s\\x1e\\xbb~H5\\xae\\x81\\xf8\\x8a?\\xca\\x9e\\xc4\\xd1s\\xcf\\xdc\\xba\\xed\\xf9 \\xd6\\xba\\x05\\xe2(\\xff\\x00*{\\x13E\\xcf65\\xdb\\xf2B\\xd6\\xba\\x05\\xe4\\xf4\\x9f\\x94=\\x89\\xa2\\xe7\\x9b\\x1a\\xed\\xf9\"\\x85\\xa4\\xd2\\xd0M\\x8e\\xd5I\\x84\\xb5\\x8d\\xa39{\\x98c2\\x8f\\x82\\xdb\\xec\\xf3\\xddm\\xd2RPZ\\xb8\\x9a\\x95t\\xb9\\xbd<\\rR\\xc8|\\x02\\x01\\x15\\n[\\xb9-\\xf9N~\\xee\\xff\\x00r\\xd7\\xba\\xf8f\\xc5\\xaf|\\xea\\xb2\\xd7\\xd3\\xc3!\\x8eG\\xd9\\xc3\\x9a\\xcb\\x83V\\xfe\\xde\\x94\\x9c&\\xf7\\x9dhP\\xa95\\x94\\x88kJO\\x1b\\xea\\x95\\x8f\\xadm\\x7f\\x91z5^G\\xa4U\\xb4\\xf3;,r4\\x9e\\x1b\\x8a\\xcfJ\\xf6\\x85g\\x88Ky\\xf3*5#\\xbd\\xa3 \\x15\\xb4b\\x1a\\x03\\xc6\\xae\\xa6\\x1aJi**\\x1e\\x19\\x14m\\xcc\\xe7\\x1e`\\xaaNO\\x08\\x92\\x92\\x8a\\xcb9\\x16\\x93i]f7+\\xe2c\\xdd\\r\\r\\xc8lm6.\\x1f\\xbd\\xc7\\xcc\\xba\\xb4m\\xe3\\x05\\xbf\\x89\\xca\\xabq*\\x8fw\\x02\\xb9\\xbbr\\xd90`\\n\\x80J\\x14H\\x00\\xa8R(T\\x05@$(\\x94\\x00\\x80EB\\x96\\xeeK~S\\x9f\\xbb\\xbf\\xdc\\xb5\\xee\\xbe\\x19\\xb1k\\xdf/\\x98\\xaf\\xc7\\xa5\\xf4{\\x17\\xe7\\xdbS\\xf7s\\xf4\\xfe\\x91\\xe9\\xad~\\x120\\xac\\xb9\\xe6\\xc0(\\xcan\\xb0z\\xe3!\\xee\\x13:\\xee\\xde\\xc3\\xc4p^\\x93d\\xdf\\xca\\xa7\\xf8j=\\xfe\\x1f\\x9c\\xcem\\xd5\\r=\\xb8\\x9be\\xdd4\\x8e\\x7f\\xca\\x96&[\\x1d6\\x17\\x19\\xb0\\x93\\xf6\\xb2\\x8e \\x1f\\x04u\\xdc\\xfa\\x16\\xf5\\x95=\\xeef\\x8d\\xe5N\\x119\\xd77:\\xe8\\x1a\\x02@$`\\x14(\\x90\\x01P\\xa4J\\x15\\x01P\\t\\n%\\x00 \\x11P\\xa5\\xbb\\x92\\xd1}\\'=\\x14\\xef\\xbfXZ\\xd7]\\xc3b\\xdb\\xbe_1_\\x8f\\xcb\\xe8\\xf6/\\xcf\\xf6\\xa7\\xee\\xe7\\xe9\\xfd#\\xd3Z\\xfc$a\\xaey\\xb0%\\nJ)\\x1d\\x14\\xac\\x91\\xbb\\xda\\xe0VJU\\x1d)\\xa9\\xaf\\x03\\xe6qR\\x8b\\x8b-lps\\x1a\\xe1\\xb8\\x8b\\xafw\\x19)EIx\\x9c6\\xb0\\xf0q\\xed<\\xa9\\xef\\x9d(\\xab\\xb1\\xbbb\\xcb\\x10\\xf4\\r\\xbf\\xa9+\\xb3k\\x1d4\\x91\\xc8\\xb9y\\xaa\\xca\\xf2\\xce`\\x12\\x01#\\x00\\xa1D\\x80\\n\\x85\"P\\xa8\\n\\x80HQ(\\x01\\x00\\x8a\\x85:7%\\x18c\\xe3m^-(\\xca\\xc7\\x8e\\xe5\\x11<\\xe0\\x1b\\xb8\\xfb\\x16\\x8d\\xe5D\\xb1\\x13v\\xd2\\x0f|\\x8d\\xedT\\x9d\\xda\\xa6I\\x06\\xe7\\x1d\\x9ee\\xf9\\xe5\\xd5_\\xd5\\xad*\\x8b\\xc5\\x9e\\x92\\x94tA#\\xc9k\\x99D\\xa1@\\xeeF\\x0b\\x16\\x16\\xf3%\\x0c|\\xf6\\x19z\\x97\\xb1\\xd9\\xb55\\xda\\xc3\\xcbq\\xc5\\xba\\x8e\\x9a\\xac\\xe2\\xb8\\xd4\\x86\\\\b\\xb9\\xe4\\xde\\xf5\\x12o\\xfbEz\\xcak\\x10K\\xc8\\xf3\\xf5\\x1ef\\xdf\\x9b0\\x97\\xd1\\xf2$\\x02F\\x01B\\x89\\x01\\xe9\\r5D\\xf70S\\xcd(\\x1c\\xf1\\xc6]\\xec_.Ix\\x9fJ-\\xf0G\\xae\\xad\\xaf?\\xe4*\\xff\\x00\\x01\\xdd\\x8ak\\x8f2\\xa8\\xcb\\x90\\xb5f!\\xe4\\x15\\x7f\\x80\\xee\\xc55\\xc7\\x99t\\xcb\\x90j\\xccC\\xc8*\\xff\\x00\\x01\\xfd\\x89\\xae<\\xc6\\x99r\\x16\\xac\\xc4<\\x82\\xaf\\xf0\\x1f\\xd8\\x9a\\xe3\\xcc\\xbae\\xc8q\\xe1\\x18\\xa4\\x8e\\xcb\\x1e\\x1bX\\xe3\\xc0@\\xee\\xc5\\xf3\\xae<\\xc6\\x89r-\\x1a?\\xc9\\xf5u\\\\\\xcc\\x97\\x17\\xfe\\xcbN\\x08&;\\xdeG\\x8e\\x1d\\x1e}\\xfd\\x0b^\\xa5\\xd4c\\xdd\\xdelB\\xdaO\\xbd\\xb8\\xbeUM\\x05%+h(\\x18\\xd6D\\xc6\\xe4\\xb37\\x01\\xc1y-\\xab\\xb4\\x13N\\x8c\\x1e[\\xe2\\xff\\x00\\xd1\\xdb\\xb5\\xb7\\xc7i\\xaf\\xa1\\xac^t\\xe9\\x02\\x01(Q\\x1d\\xc8\\r\\xc6\\x0f0e+\\x9aM\\xac\\xf3\\xcf\\xd0\\x17\\xa1\\xd95\\xb4\\xd0k\\xcf\\xecs\\xae\\xa1\\x99\\xe7\\xc8\\xe3\\x98\\x98\\xc9\\x89U\\xb4\\xefl\\xf2\\x0fX\\xaf{\\x1e\\xea\\xf4<\\xac\\xbb\\xcf\\xd4\\xc6T\\x82@$`\\x94Q\\xbei\\x1b\\x1cLs\\xe4y\\xb3Z\\xd1rJ\\x8fr\\xcb>\\x92or:f\\x8e\\xe85\\x1d\\x04-\\xaa\\xc6\\xc3\\'\\xa8\\xdf\\xdc\\xc9\\xfd\\x9c\\x7f\\xfa?\\xa2\\xe4\\xdc\\xdf(E\\xbc\\xe1\\x1d\\x1a\\x16\\x9c\\xf7\\xb2\\xcb\\xac \\x81\\xb9)\\xa0\\xb3F\\xc1`\\x1a\\x17\\x9f\\xab\\xb6i\\xa7\\xd9\\x8b~gR\\x16\\x8f\\x1b\\xf7\\x0b[}O\\xac\\xb1u\\xdf\\xc9\\xee}\\xf4?0\\xd6\\xff\\x00S\\xeb\\']\\xfc\\x9e\\xe3\\xa1\\xf9\\x8b[\\xfdG\\xaf\\xfc\\x94\\xeb\\xbf\\x93\\xdf\\xfe\\x0e\\x87\\xe6\\x1a\\xe3\\xea=\\x7f\\xe4\\x9dw\\xf2{\\xff\\x00\\xc1\\xd0\\xfc\\xc4q\\x83m\\x90\\xed\\xe9r\\x8fm\\xe7\\x84=\\xca\\xac\\xfec\\x12\\xa3\\x10\\xa8\\x98\\x16\\xe6\\xc8\\xd3\\xcc\\xd5\\xa1q\\xb4\\xae+,g\\x0b\\xc8\\xcf\\x0bhG\\x7f\\x13\\x11s\\xcd\\x82*\\x14\\x10\\tB\\x82\\x03?\\ri0\\xbe\\xdfO\\xdc\\x17cf\\xc1\\xca\\x93\\xc7?\\xf4\\x8dJ\\xef\\x12_C\\x99im?z\\xe9&!\\x18\\x16\\x06R\\xe0:\\x1d\\xb5~\\x85BZ\\xa9E\\x9eN\\xbcqQ\\xa3P\\xb2\\x98\\x84\\x80H\\xca_\\xf90\\xc1\\x98\\xf7M\\x8b\\xce3d&(.6\\x03\\xf3\\x9d\\xee\\xeb\\\\\\xfb\\xda\\xb8\\xec#v\\xd2\\x9e{l\\xb5V\\xd4\\x99\\xe4;|\\x00|\\x10\\xbc\\x1d\\xed\\xdb\\xb8\\xa9\\xf2\\xae\\x07\\xa2\\xa3IAy\\x98\\xabH\\xcc\\x05B\\x89\\x00(R(\\x01B\\x89\\x18\\x12\\x85\"\\xa1A\\x00\\x94(\\x14\\x06\\xf3\\x06\\x8a\\xd4Y\\x8f\\xceq+\\xd4l\\x8a8\\xb6\\xcb\\xf1g.\\xee\\x7f\\xe4\\xc2(<\\xa8Q\\x18q\\xa8*\\xda<\\n\\x88r\\x9d\\x9f9\\xa7\\xb0\\x85\\xea\\xec\\xa5\\x98i\\xe4po#\\x89\\xa9s)\\x8bp\\xd5\\x12\\x01\\x14)\\xd7\\xb41\\xad\\x87Bi\\\\\\xc1b\\xe6=\\xc7\\xce^W\\x9e\\xda\\xb3q\\x8dG\\xe4vlb\\xb4\\xc4\\x972\\xf1\\x07pE@\\x05B\\x89\\x00(R(\\x01B\\x89\\x18\\x12\\x85\"\\xa1A\\x00\\x94(\\x01}\\x83\\x9dT\\x9bxDl\\xb4\\xd2\\xc6 \\xa7\\x8e1o\\x05\\xa0/smEQ\\xa3\\x1a|\\x91\\xc4\\xa9-sl\\xd4i\\x8e\\x08q\\xac\\x1eH\\xa2\\xb7|F{\\xa4$\\xf3\\x91\\xbczF\\xc5\\xbboW\\xf4\\xe7\\x97\\xc0\\xd6\\xafO\\xf5!\\x85\\xc4\\xe3Ok\\x98\\xe71\\xeds\\\\\\xd2Z\\xe6\\xbbx!v\\x0eA\\x04\\x02@v\\r\\x12\\xf9\\x0fG\\xfc\\'\\x7f\\xc8\\xaf9\\xb5\\xfe\\x1dC\\xb7c\\xc2 \\xbcQ\\xdb\\x11P\\x01P\\xa2@\\n\\x14\\x8a\\x00P\\xa2F\\x04\\xa1H\\xa8P@%\\ng\\xe0\\xf4\\xdd\\xda\\xa4JE\\xd9\\x1f\\xb5uvM\\xab\\xab[\\xf5\\x1a\\xec\\xc7\\xfb5.\\xaai\\x86\\x9f\\x16o\\xec\\xbd^\\x0eY%AX\\xd2]\\r\\xa2\\xc6\\x9ej\"wz\\xd5\\x9d\\xf25\\xb7\\x0f\\xfbC\\xde\\xb6(\\xdc\\xca\\x9e\\xe7\\xbd\\x1a\\xf5m\\xe3Sz\\xdc\\xca\\x8c\\x9c\\x9c\\xe2\\xedq\\x11\\xd4R=\\xb7\\xd8K\\x88\\xbf\\xa2\\xcbm^\\xc3\\xc5\\x1a\\xae\\xce~\\x0c\\x87\\xf5w\\x8d}:O\\xc4=\\x89\\xd3)\\x93\\xa2T/x5\\x04\\xd8^\\x8b\\xc3ES\\x94\\xcb\\x0b\\x08vCq\\xf0\\x89\\xf7\\xae&\\xd4\\x9a\\x9d\\x1a\\x92GN\\xd2\\x0e\\x1ab\\xccU\\xe3N\\xc8\\x8a\\x80\\n\\x85\\x12\\x03*\\x1c>i\\xa3\\x120\\xb3)\\xe2\\xba\\x14vmj\\xd0S\\x8bXf\\t\\xdcB\\x0f\\x0c\\x9e\\xaa\\xa8\\xfaL\\xebYz\\x9e\\xe3\\x9a\\xfc\\xf4>z]1j\\xaa\\x8e,\\xebS\\xa9\\xee<\\xbf=\\x07K\\x80\\xb5MO\\x18\\xfa\\xd3\\xa9\\xae9\\xaf\\xcfB\\xf4\\xbaa\\xaaj~\\x94}ju5\\xc74:e1j\\x8a\\x8e1\\xf5\\xa7S\\\\s_\\x9e\\x85\\xe9\\x94\\xc3TT\\xf1\\x8f\\xadN\\xa6\\xb8\\xe6\\xbf=\\x07L\\x818\\xb0g\\x97^i\\x1a\\x07\\x06\\xedY\\xa9lI\\xb7\\xfeIn\\xf2>%z\\xb1\\xd9F\\xe2\\x18c\\x866\\xb26\\xd9\\xa1w\\xe9Q\\x85\\x18(Aa#FRryg\\xa2\\xca|\\x82\\x00@\\x08\\x01\\x01\\x8f_\\xf1I|\\xcbR\\xff\\x00\\xf6\\xd3\\xfa\\x19h\\xf7\\xd1\\xa0^@\\xea\\x08\\xa8\\x00\\xa8Q =\\xa3\\xac\\x9e&\\x06F\\xfb4n\\x16[t\\xef\\xab\\xd2\\x8a\\x84%\\xb9}\\x0cR\\xa1\\t<\\xb4KXU\\xf8\\xdfT/\\xbe\\xb3\\xba\\xfe^\\xcb\\xecN\\x8dK\\x90\\xb5\\x8d_\\x8d\\xf5Gb\\x9dgw\\xfc\\xbd\\x97\\xd8\\xbd\\x1a\\x97 \\xd65~7\\xd5\\t\\xd6w\\x7f\\xcb\\xd9}\\x87F\\xa5\\xc8\\xca\\xc3*\\xe7\\x9e\\xa7$\\xaf\\xcc\\xdc\\xa7e\\x96\\xfe\\xcd\\xbd\\xaf^\\xbe\\x9a\\x92\\xca\\xc1\\x82\\xe2\\x8c!\\x0c\\xc5\\x1b\\x85\\xe8\\r\\x10@\\x08\\x01\\x00 \\x04\\x00\\x80\\x10\\x02\\x03\\x1e\\xbf\\xe2\\x92\\xf9\\x96\\x9d\\xff\\x00\\xed\\xa7\\xf42\\xd1\\xef\\xa3B\\xbc\\x89\\xd4\"T\\x00T(\\x90\\x02\\x85#\\xe6\\xdf\\xc11\\x9d\\xc8\\x1bhp\\x96\\x18\\xef3\\xdc]\\xd1\\xb2\\xcb\\xd0\\xd1\\xd8\\xd0qN\\xaby4%w,\\xf6Q\\x83_Hid\\x02\\xf9\\x98\\xed\\xc5r\\xaf\\xac\\x9d\\xac\\x97\\x8af\\xd5\\n\\xca\\xa2\\xf3=0o\\x8e\\x7f\\xa4\\xac\\xfb\\x1b\\xf7>\\x87\\xc5\\xe7\\xc37\\xeb\\xd5\\x1c\\xc0@\\x08\\x01\\x00 \\x04\\x00\\x80\\x10\\x02\\x03\\xcevwH\\x9e\\xce!b\\xafO\\xf5)\\xca\\x1c\\xd1\\xf5\\x07\\xa6I\\x95\\xd74\\xb4\\x96\\xbbx\\xde\\xbc\\\\\\xa2\\xe2\\xda|N\\xb2yYDJ\\xf9(\\x15\\n$\\x00\\xa1A\\x8e\\xc9#]\\xc0\\xde\\xcb\\xea\\x12\\xd1%.D\\x92\\xca\\xc1c\\x86fM\\x1ex\\xdc\\x08\\xf6/kJ\\xbc+C\\\\\\x19\\xc7\\x9c\\x1c\\x1e$j\\xb1\\x8a\\x86H\\xe6D\\xc2\\ti\\xb9!pv\\xc5\\xc4&\\xe3N/87\\xad)\\xb5\\x991\\xe0\\x91\\x13#\\xe6;\\x80\\xca\\x15\\xd8\\xb4^\\xa9U\\xf0\\xe0K\\xc9\\xac(\\x9b\\xa5\\xe8\\xcd\\x00@\\x08\\x01\\x00 \\x04\\x00\\x80\\x10\\x02\\x00@`\\xd7P\\x89\\xee\\xf6x/\\xf6\\xae]\\xf6\\xceU\\xfbp\\xdd/\\xec\\xd8\\xa3]\\xc3s\\xe0je\\x89\\xf0\\x9c\\xb20\\xb4\\xf1<\\xeb\\xce\\xd5\\xa1R\\x93\\xc4\\xd6\\r\\xe8N2\\xe0\\xcf\"\\xb1\\x1fap\\xa1@\\xa8\\x08\\xdc!@_\\x9a\\xfe\\x84Y\\xe07\\x19\\x94\\xb8t\\xb3\\x90d\\x066t\\xef+\\xa5k\\xb3*\\xd6y\\x9fe\\x1a\\xf5.c\\x0e\\x1b\\xd9\\xbc\\x86&\\xc3\\x18c\\x05\\x9a\\x17\\xa7\\xa5J4\\xa0\\xa1\\x05\\xb9\\x1c\\xe9I\\xc9\\xe5\\x93Y\\x0f\\x90@\\x08\\x01\\x00 \\x04\\x00\\x80\\x10\\x02\\x00@\\x08\\x089\\xa1\\xdb\\x1c\\x01\\x1d!|\\xca1\\x96\\xe6\\xb2\\x13k\\x81\\x8d%\\x05;\\xc9\\xf02\\xfd\\x93e\\xa5Sf\\xdbO~\\x9c}\\x0c\\xd1\\xb8\\xa8\\x9e2aOA\\x13/\\x95\\xcf\\xeb\\x0b\\x99[f\\xd2\\x86p\\xdf\\xe7\\xa1\\xb3\\n\\xf2g\\x8b)\\x18\\xe7[3\\x87\\x9a\\xcb^\\x16P\\x93\\xc3o\\xdb\\xecduZFlXm=\\xb6\\xe7w\\x9c\\xae\\x95\\x1d\\x95o\\x8d\\xf9~\\xa6\\xac\\xeef\\xb8\\x19qS\\xc3\\x10\\xbcq\\xb4\\x1e6]\\nv\\xd4i.\\xc4R0\\xca\\xac\\xe4\\xb7\\xb3\\xd4o[\\x07\\xc1$\\x00\\x80\\x10\\x02\\x00@\\x08\\x0f\\xff\\xd9'\n"
     ]
    }
   ],
   "source": [
    "with open(\"c:\\\\python_challenge\\\\python.jpeg\", \"rb\") as file:\n",
    "     print(file.read())"
   ]
  },
  {
   "cell_type": "code",
   "execution_count": 30,
   "id": "ac77f006-1dbb-465f-a270-36137d8eed05",
   "metadata": {},
   "outputs": [
    {
     "data": {
      "image/jpeg": "[encoded data removed]",
      "image/png": "[encoded data removed]",
      "text/plain": [
       "<PIL.JpegImagePlugin.JpegImageFile image mode=RGB size=148x148>"
      ]
     },
     "metadata": {},
     "output_type": "display_data"
    }
   ],
   "source": [
    "from PIL import Image\n",
    "from IPython.display import display\n",
    "img = Image.open(\"c:\\\\python_challenge\\\\python.jpeg\")\n",
    "display(img)"
   ]
  },
  {
   "cell_type": "code",
   "execution_count": 3,
   "id": "dda3b2f8-3385-420c-9547-f642b5f70b2f",
   "metadata": {},
   "outputs": [],
   "source": [
    "#pip install Pillow\n"
   ]
  },
  {
   "cell_type": "code",
   "execution_count": 32,
   "id": "0609362a-37b9-44de-b7c7-ca38caf8dde6",
   "metadata": {},
   "outputs": [
    {
     "name": "stdout",
     "output_type": "stream",
     "text": [
      "An I/O error occurred\n"
     ]
    }
   ],
   "source": [
    "try:\n",
    "    with open(\"c:\\\\python_challenge\\\\example.txt\", \"r\") as f:\n",
    "        f.write(\"hi\")\n",
    "except FileNotFoundError:\n",
    "    print(\"File not found!\")\n",
    "except IOError:\n",
    "    print(\"An I/O error occurred\")\n"
   ]
  },
  {
   "cell_type": "code",
   "execution_count": 41,
   "id": "12a0d997-476d-4d0e-a130-a3ad242ef083",
   "metadata": {},
   "outputs": [
    {
     "name": "stdout",
     "output_type": "stream",
     "text": [
      "0\n",
      "Hello\n",
      "5\n",
      "20\n",
      "20\n"
     ]
    }
   ],
   "source": [
    "with open(\"c:\\\\python_challenge\\\\example.txt\", \"r\") as f:\n",
    "    print(f.tell())    # Where the pointer is\n",
    "    print(f.read(5))   # Read 5 characters\n",
    "    print(f.tell())\n",
    "    print(f.seek(20))\n",
    "    print(f.tell())\n"
   ]
  },
  {
   "cell_type": "code",
   "execution_count": 47,
   "id": "2eea449f-740a-45f1-b9de-ebdba02ab3ce",
   "metadata": {},
   "outputs": [
    {
     "name": "stdout",
     "output_type": "stream",
     "text": [
      "1\n"
     ]
    }
   ],
   "source": [
    "search_word = \"Hello\"\n",
    "with open(\"c://python_challenge//example.txt\", \"r\") as f:\n",
    "    cnt=0\n",
    "    for line in f:\n",
    "        for word in line.split():\n",
    "            if word==search_word:\n",
    "                cnt+=1\n",
    "    print(cnt)\n",
    "    "
   ]
  },
  {
   "cell_type": "code",
   "execution_count": 10,
   "id": "f2e4534a-10d3-4406-8427-c865b57a6c76",
   "metadata": {},
   "outputs": [],
   "source": [
    "path=\"c:/python_challenge/\"\n",
    "with open(path+\"example.txt\", \"r\") as src, open(path+\"destination.txt\", \"w\") as dest:\n",
    "    for line in src:\n",
    "        dest.write(line)\n"
   ]
  },
  {
   "cell_type": "code",
   "execution_count": 49,
   "id": "4729a56f-6926-4142-abc0-8f7527b57d44",
   "metadata": {},
   "outputs": [
    {
     "name": "stdout",
     "output_type": "stream",
     "text": [
      "6\n"
     ]
    }
   ],
   "source": [
    "path=\"c:/python_challenge/\"\n",
    "with open(path+\"example.txt\", \"r\") as src:\n",
    "    print(len(src.read().split()))\n"
   ]
  },
  {
   "cell_type": "code",
   "execution_count": 52,
   "id": "393ad02a-152c-485b-95ca-32a3093424c3",
   "metadata": {},
   "outputs": [],
   "source": [
    "path=\"c:/python_challenge/\"\n",
    "with open(path+\"example.txt\", \"r\") as f:\n",
    "    lines = f.readlines()\n",
    "\n",
    "with open(path+\"reversed.txt\", \"w\") as f:\n",
    "    for line in lines[::-1]:\n",
    "        f.write(line+\"\\n\")\n"
   ]
  },
  {
   "cell_type": "code",
   "execution_count": 61,
   "id": "6ebffd6f-b6a8-4f69-b97b-4af078ee68cd",
   "metadata": {},
   "outputs": [
    {
     "name": "stdout",
     "output_type": "stream",
     "text": [
      "Word count: 6\n",
      "Number of Character with out spaces 38\n",
      "Number of Character with  spaces 41\n"
     ]
    }
   ],
   "source": [
    "\n",
    "with open(path+\"example.txt\", \"r\") as f:\n",
    "    text = f.read()\n",
    "    chr_cnt_with_space =len(text)\n",
    "    words = len(text.split())\n",
    "    #chr_cnt_without_space =sum(map(lambda x : len(x) ,text.split()))\n",
    "    chr_cnt_without_space=len(text.replace(\" \",\"\"))\n",
    "    print(\"Word count:\", words)\n",
    "    print(\"Number of Character with out spaces\",chr_cnt_without_space)\n",
    "    print(\"Number of Character with  spaces\",chr_cnt_with_space)\n",
    "\n",
    "    "
   ]
  },
  {
   "cell_type": "code",
   "execution_count": 64,
   "id": "e64a4ead-44f8-4ae9-9344-55d3973e8d1f",
   "metadata": {},
   "outputs": [],
   "source": [
    "import csv\n",
    "\n",
    "data = [\n",
    "    [\"Name\", \"Age\",\"city\"],\n",
    "    [\"Alice\", 25,\"chennai\"],\n",
    "    [\"Bob\", 30,\"Mumabi\"]\n",
    "]\n",
    "\n",
    "with open(path+\"people.csv\", \"w\", newline=\"\") as file:\n",
    "    writer = csv.writer(file)\n",
    "    writer.writerows(data)\n"
   ]
  },
  {
   "cell_type": "code",
   "execution_count": 65,
   "id": "8d87444b-c5d8-4c19-bd3f-5f726788f1b6",
   "metadata": {},
   "outputs": [
    {
     "name": "stdout",
     "output_type": "stream",
     "text": [
      "['Name', 'Age', 'city']\n",
      "['Alice', '25', 'chennai']\n",
      "['Bob', '30', 'Mumabi']\n"
     ]
    }
   ],
   "source": [
    "import csv\n",
    "\n",
    "with open(path+\"people.csv\", \"r\") as file:\n",
    "    reader = csv.reader(file)\n",
    "    for row in reader:\n",
    "        print(row)\n"
   ]
  },
  {
   "cell_type": "code",
   "execution_count": 18,
   "id": "84f54366-d5b3-4cd5-bb39-574df7f02aa6",
   "metadata": {},
   "outputs": [],
   "source": [
    "import json\n",
    "\n",
    "data = {\"name\": \"Alice\", \"age\": 25, \"city\": \"New York\"}\n",
    "\n",
    "with open(path+\"user.json\", \"w\") as f:\n",
    "    json.dump(data, f)\n"
   ]
  },
  {
   "cell_type": "code",
   "execution_count": 19,
   "id": "47bb87f8-5ec2-4528-ab47-80087c5f0658",
   "metadata": {},
   "outputs": [
    {
     "name": "stdout",
     "output_type": "stream",
     "text": [
      "{'name': 'Alice', 'age': 25, 'city': 'New York'}\n"
     ]
    }
   ],
   "source": [
    "import json\n",
    "\n",
    "with open(path+\"user.json\", \"r\") as f:\n",
    "    content = json.load(f)\n",
    "    print(content)\n"
   ]
  },
  {
   "cell_type": "code",
   "execution_count": 20,
   "id": "37918691-9469-431b-b3c2-f7e320245047",
   "metadata": {},
   "outputs": [
    {
     "name": "stdout",
     "output_type": "stream",
     "text": [
      "Lines: 3\n",
      "Characters: 41\n"
     ]
    }
   ],
   "source": [
    "char_count = 0\n",
    "line_count = 0\n",
    "\n",
    "with open(path+\"example.txt\", \"r\") as f:\n",
    "    for line in f:\n",
    "        line_count += 1\n",
    "        char_count += len(line)\n",
    "\n",
    "print(\"Lines:\", line_count)\n",
    "print(\"Characters:\", char_count)\n"
   ]
  },
  {
   "cell_type": "code",
   "execution_count": 21,
   "id": "a6e7e08f-e119-45da-8772-ab04f4941de5",
   "metadata": {},
   "outputs": [
    {
     "name": "stdout",
     "output_type": "stream",
     "text": [
      "Python appears 2 times\n"
     ]
    }
   ],
   "source": [
    "with open(path+\"example.txt\", \"r\") as f:\n",
    "    content = f.read().lower()\n",
    "    count = content.count(\"line\")\n",
    "print(\"Python appears\", count, \"times\")\n"
   ]
  },
  {
   "cell_type": "code",
   "execution_count": null,
   "id": "d64a2762-bb35-478c-a6dd-e5d2abd22720",
   "metadata": {},
   "outputs": [],
   "source": []
  }
 ],
 "metadata": {
  "kernelspec": {
   "display_name": "Python 3 (ipykernel)",
   "language": "python",
   "name": "python3"
  },
  "language_info": {
   "codemirror_mode": {
    "name": "ipython",
    "version": 3
   },
   "file_extension": ".py",
   "mimetype": "text/x-python",
   "name": "python",
   "nbconvert_exporter": "python",
   "pygments_lexer": "ipython3",
   "version": "3.12.10"
  }
 },
 "nbformat": 4,
 "nbformat_minor": 5
}

{
 "cells": [
  {
   "cell_type": "code",
   "execution_count": 17,
   "id": "cd1a1bc0-d926-4ad3-83ca-accbfd0bce42",
   "metadata": {},
   "outputs": [],
   "source": [
    "def greet():\n",
    "    print(\"Hello Babjee\")"
   ]
  },
  {
   "cell_type": "code",
   "execution_count": 20,
   "id": "839da909-0a4d-42cf-a49a-eddebd38cb23",
   "metadata": {},
   "outputs": [
    {
     "name": "stdout",
     "output_type": "stream",
     "text": [
      "Hello Babjee\n"
     ]
    }
   ],
   "source": [
    "greet()"
   ]
  },
  {
   "cell_type": "code",
   "execution_count": 10,
   "id": "c48e78df-940d-4013-8588-e0fd585b6cfc",
   "metadata": {},
   "outputs": [
    {
     "data": {
      "text/plain": [
       "True"
      ]
     },
     "execution_count": 10,
     "metadata": {},
     "output_type": "execute_result"
    }
   ],
   "source": [
    "callable(greet)"
   ]
  },
  {
   "cell_type": "code",
   "execution_count": 21,
   "id": "d2b4179d-ef5b-4d95-a7d4-873aa6b3d6fc",
   "metadata": {},
   "outputs": [],
   "source": [
    "def greet(name):\n",
    "    print(f\"Hello {name}\")"
   ]
  },
  {
   "cell_type": "code",
   "execution_count": 46,
   "id": "009a0732-f491-49b5-a585-db7f07147ae4",
   "metadata": {},
   "outputs": [],
   "source": [
    "def is_even(n):\n",
    "    if  isinstance(n,int):\n",
    "        if n%2==0:\n",
    "            print(f\"{n} is a even number\")\n",
    "        else:\n",
    "            print(f\"{n} is a odd number\")\n",
    "    else:\n",
    "        print(\"not a number\")\n",
    "        "
   ]
  },
  {
   "cell_type": "code",
   "execution_count": 49,
   "id": "e25af655-b578-4710-94e1-abbdfcf3986f",
   "metadata": {},
   "outputs": [
    {
     "name": "stdout",
     "output_type": "stream",
     "text": [
      "1 is a odd number\n"
     ]
    }
   ],
   "source": [
    "is_even(1)"
   ]
  },
  {
   "cell_type": "code",
   "execution_count": 50,
   "id": "9069be52-453d-4e8d-945c-af58f8b14dc6",
   "metadata": {},
   "outputs": [],
   "source": [
    "def is_prime(num):\n",
    "    if num > 1:\n",
    "        for i in range(2, num):\n",
    "            if num % i == 0:\n",
    "                print(f\"{num} is not a prime number.\")\n",
    "                break\n",
    "        else:\n",
    "            print(f\"{num} is a prime number.\")\n",
    "    else:\n",
    "        print(f\"{num} is not a prime number.\")\n",
    "\n"
   ]
  },
  {
   "cell_type": "code",
   "execution_count": 52,
   "id": "5f7590a4-6299-4eb1-87f0-f79643f94e42",
   "metadata": {},
   "outputs": [
    {
     "name": "stdout",
     "output_type": "stream",
     "text": [
      "7 is a prime number.\n"
     ]
    }
   ],
   "source": [
    "is_prime(7)"
   ]
  },
  {
   "cell_type": "code",
   "execution_count": 15,
   "id": "f91983e4-2b51-4273-9e71-db74fcc7fb56",
   "metadata": {},
   "outputs": [
    {
     "name": "stdout",
     "output_type": "stream",
     "text": [
      "2\n",
      "3\n",
      "5\n",
      "7\n"
     ]
    }
   ],
   "source": [
    "def print_primes(start, end):\n",
    "    for num in range(start, end + 1):\n",
    "        if num > 1:\n",
    "            for i in range(2, num):\n",
    "                if num % i == 0:\n",
    "                    break\n",
    "            else:\n",
    "                print(num)\n",
    "\n",
    "# Call the function for 1 to 10\n",
    "print_primes(1, 10)\n"
   ]
  },
  {
   "cell_type": "code",
   "execution_count": 12,
   "id": "e622e921-5c84-4168-a97a-4a6543f89c2f",
   "metadata": {},
   "outputs": [],
   "source": [
    "def greet(msg, name):\n",
    "    print(f\"{msg} {name}\")"
   ]
  },
  {
   "cell_type": "code",
   "execution_count": null,
   "id": "3c133fb5-49a9-41b8-8b8f-316063146993",
   "metadata": {},
   "outputs": [],
   "source": []
  },
  {
   "cell_type": "code",
   "execution_count": 17,
   "id": "4c3a8b8e-1fa5-4d15-bd26-9bb1db65777f",
   "metadata": {},
   "outputs": [
    {
     "name": "stdout",
     "output_type": "stream",
     "text": [
      "Good Morning Preetham\n"
     ]
    }
   ],
   "source": [
    "greet(\"Good Morning\",\"Preetham\")"
   ]
  },
  {
   "cell_type": "code",
   "execution_count": 25,
   "id": "45740452-cd6e-4a5d-9ce4-66c2b1961a2a",
   "metadata": {},
   "outputs": [],
   "source": [
    "def even_odd(number=2):\n",
    "    result=\"\"\n",
    "    if number%2==0:\n",
    "        result=\"Even\"\n",
    "    else:\n",
    "        result=\"Odd\"\n",
    "    print(f\"{number} is a {result} nuber\")        "
   ]
  },
  {
   "cell_type": "code",
   "execution_count": 29,
   "id": "d2bd984e-2127-46be-90c6-15dd4b8c799d",
   "metadata": {},
   "outputs": [
    {
     "name": "stdout",
     "output_type": "stream",
     "text": [
      "11 is a Odd nuber\n"
     ]
    }
   ],
   "source": [
    "even_odd(11)"
   ]
  },
  {
   "cell_type": "code",
   "execution_count": 53,
   "id": "b9a32d6a-4839-42e2-b803-fece6f71cf1f",
   "metadata": {},
   "outputs": [],
   "source": [
    "def name_age(name=\"Ram\",age=20):\n",
    "    print(f\"Name is {name} age is {age}\")"
   ]
  },
  {
   "cell_type": "code",
   "execution_count": 59,
   "id": "7dc01112-8310-455c-9967-9a4a2f372a85",
   "metadata": {},
   "outputs": [
    {
     "name": "stdout",
     "output_type": "stream",
     "text": [
      "Name is Ram age is 20\n",
      "Name is Sham age is 40\n",
      "Name is Suthi age is 20\n",
      "Name is Ram age is 30\n"
     ]
    }
   ],
   "source": [
    "name_age()\n",
    "name_age(\"Sham\",40)\n",
    "name_age(\"Suthi\")\n",
    "name_age(age=30)"
   ]
  },
  {
   "cell_type": "code",
   "execution_count": 36,
   "id": "ea83e323-77f2-4401-abae-ace0be45af55",
   "metadata": {},
   "outputs": [
    {
     "name": "stdout",
     "output_type": "stream",
     "text": [
      "Name is Ram age is 20\n"
     ]
    }
   ],
   "source": [
    "name_age(age=20)"
   ]
  },
  {
   "cell_type": "code",
   "execution_count": 60,
   "id": "27e67fb1-1b40-4ae2-a35c-603ef4b9460d",
   "metadata": {},
   "outputs": [],
   "source": [
    "def name_age(name,age):\n",
    "    print(f\"Name is {name} age is {age}\")    "
   ]
  },
  {
   "cell_type": "code",
   "execution_count": 68,
   "id": "0edc2d25-e508-414a-a610-6095f9166dd1",
   "metadata": {},
   "outputs": [],
   "source": [
    "name_age(\"Sruthi\",20)"
   ]
  },
  {
   "cell_type": "code",
   "execution_count": 69,
   "id": "c03a8472-df98-4285-9727-4970f6fecd3c",
   "metadata": {},
   "outputs": [
    {
     "ename": "TypeError",
     "evalue": "name_age() takes 2 positional arguments but 3 were given",
     "output_type": "error",
     "traceback": [
      "\u001b[31m---------------------------------------------------------------------------\u001b[39m",
      "\u001b[31mTypeError\u001b[39m                                 Traceback (most recent call last)",
      "\u001b[36mCell\u001b[39m\u001b[36m \u001b[39m\u001b[32mIn[69]\u001b[39m\u001b[32m, line 1\u001b[39m\n\u001b[32m----> \u001b[39m\u001b[32m1\u001b[39m \u001b[43mname_age\u001b[49m\u001b[43m(\u001b[49m\u001b[32;43m20\u001b[39;49m\u001b[43m,\u001b[49m\u001b[33;43m\"\u001b[39;49m\u001b[33;43msruthi\u001b[39;49m\u001b[33;43m\"\u001b[39;49m\u001b[43m,\u001b[49m\u001b[32;43m2222\u001b[39;49m\u001b[43m)\u001b[49m\n",
      "\u001b[31mTypeError\u001b[39m: name_age() takes 2 positional arguments but 3 were given"
     ]
    }
   ],
   "source": [
    "name_age(20,\"sruthi\")"
   ]
  },
  {
   "cell_type": "code",
   "execution_count": null,
   "id": "c2de244c-a31f-40c0-b890-6a1bbce7ed09",
   "metadata": {},
   "outputs": [],
   "source": [
    "name_age(age=20,name=\"Sruthi\")"
   ]
  },
  {
   "cell_type": "code",
   "execution_count": 70,
   "id": "f9ab5aea-fea9-418c-97b5-24f33d3401bc",
   "metadata": {},
   "outputs": [],
   "source": [
    "def sum_val(*args):\n",
    "    return sum(x for x in args)"
   ]
  },
  {
   "cell_type": "code",
   "execution_count": 74,
   "id": "24b38f2a-9135-4a2e-83d6-3afc37188bb1",
   "metadata": {},
   "outputs": [],
   "source": [
    "def test(**krgs):\n",
    "    for k,v in krgs.items():\n",
    "        print(k,\":\",v)"
   ]
  },
  {
   "cell_type": "code",
   "execution_count": 77,
   "id": "8475ff47-e4ac-450f-8304-85c0dd81ef62",
   "metadata": {},
   "outputs": [
    {
     "name": "stdout",
     "output_type": "stream",
     "text": [
      "name : ram\n",
      "age : 20\n",
      "city : chennai\n",
      "phone : 2222\n",
      "email : bajee@gmail.com\n"
     ]
    }
   ],
   "source": [
    "test(name=\"ram\", age=20,city=\"chennai\", phone=2222, email=\"bajee@gmail.com\")"
   ]
  },
  {
   "cell_type": "code",
   "execution_count": 73,
   "id": "ebb62fd4-2f84-4c41-8c5c-3d8432c0dc7a",
   "metadata": {},
   "outputs": [
    {
     "data": {
      "text/plain": [
       "10"
      ]
     },
     "execution_count": 73,
     "metadata": {},
     "output_type": "execute_result"
    }
   ],
   "source": [
    "sum_val(10)"
   ]
  },
  {
   "cell_type": "code",
   "execution_count": 78,
   "id": "31a64eb3-8fa4-488d-ba81-312b56ac7f5c",
   "metadata": {},
   "outputs": [],
   "source": [
    "def add(num1, num2):\n",
    "    return num1 + num2\n"
   ]
  },
  {
   "cell_type": "code",
   "execution_count": 79,
   "id": "4cc1efd6-8309-44a5-bd42-633735d69143",
   "metadata": {},
   "outputs": [
    {
     "name": "stdout",
     "output_type": "stream",
     "text": [
      "40.0\n"
     ]
    }
   ],
   "source": [
    "print(200/add(2,3))"
   ]
  },
  {
   "cell_type": "code",
   "execution_count": 81,
   "id": "2ad43730-3740-41ee-981e-1b68a972492d",
   "metadata": {},
   "outputs": [],
   "source": [
    "def reverse_list(lst):\n",
    "    return lst[::-1]"
   ]
  },
  {
   "cell_type": "code",
   "execution_count": 82,
   "id": "52896a6e-150c-42f9-ac4d-34650f8acaeb",
   "metadata": {},
   "outputs": [
    {
     "data": {
      "text/plain": [
       "[40, 30, 20, 10]"
      ]
     },
     "execution_count": 82,
     "metadata": {},
     "output_type": "execute_result"
    }
   ],
   "source": [
    "reverse_list([10,20,30,40])"
   ]
  },
  {
   "cell_type": "code",
   "execution_count": 50,
   "id": "82abc720-1cc7-4e3c-8958-8d684d09c8f3",
   "metadata": {},
   "outputs": [],
   "source": [
    "def add(*args):\n",
    "    return sum(x for x in args)"
   ]
  },
  {
   "cell_type": "code",
   "execution_count": 55,
   "id": "cebb5d67-5777-4645-b5e4-bfea2be98203",
   "metadata": {},
   "outputs": [
    {
     "data": {
      "text/plain": [
       "90"
      ]
     },
     "execution_count": 55,
     "metadata": {},
     "output_type": "execute_result"
    }
   ],
   "source": [
    "add(40,20, 30)"
   ]
  },
  {
   "cell_type": "code",
   "execution_count": 65,
   "id": "5121ee23-3e95-45e9-bf87-0107311a6969",
   "metadata": {},
   "outputs": [],
   "source": [
    "def my_fun(**kargs):\n",
    "    for k,v in kargs.items():\n",
    "        print(k,v)"
   ]
  },
  {
   "cell_type": "code",
   "execution_count": 66,
   "id": "96492c64-ca67-46bb-8b7b-f5f556ea160a",
   "metadata": {},
   "outputs": [
    {
     "name": "stdout",
     "output_type": "stream",
     "text": [
      "name Ram\n",
      "age 20\n",
      "city mumbai\n",
      "email ram@gmail.com\n",
      "pin 33333\n"
     ]
    }
   ],
   "source": [
    "my_fun(name=\"Ram\", age=20, city=\"mumbai\", email=\"ram@gmail.com\", pin=33333)"
   ]
  },
  {
   "cell_type": "code",
   "execution_count": 83,
   "id": "9a736c92-5bb3-4c67-8488-521ac0c48f6b",
   "metadata": {},
   "outputs": [],
   "source": [
    "def pal(st):\n",
    "    clean_st = st.strip().lower()\n",
    "    return clean_st == clean_st[::-1]"
   ]
  },
  {
   "cell_type": "code",
   "execution_count": 86,
   "id": "ecab4699-1b6e-4349-ac07-116db02f9a15",
   "metadata": {},
   "outputs": [
    {
     "data": {
      "text/plain": [
       "True"
      ]
     },
     "execution_count": 86,
     "metadata": {},
     "output_type": "execute_result"
    }
   ],
   "source": [
    "pal(\"pop\")"
   ]
  },
  {
   "cell_type": "code",
   "execution_count": 105,
   "id": "59a64c06-dbba-423f-81fa-9f3bdda1e046",
   "metadata": {},
   "outputs": [],
   "source": [
    "def st_reverse(st):\n",
    "    reversed=\"\"\n",
    "    for word in st.split():\n",
    "        reversed+=word[::-1]+\" \"\n",
    "    return reversed.rstrip()"
   ]
  },
  {
   "cell_type": "code",
   "execution_count": 98,
   "id": "f09a2898-4422-4064-be45-c7cb767c3b9d",
   "metadata": {},
   "outputs": [],
   "source": [
    "def st_rev(st):\n",
    "    return \" \".join(word[::-1] for word in st.split())"
   ]
  },
  {
   "cell_type": "code",
   "execution_count": 99,
   "id": "9ac4f249-c506-490d-9a05-29bb1a98e1dd",
   "metadata": {},
   "outputs": [
    {
     "data": {
      "text/plain": [
       "'olleH nohtyP dlrow'"
      ]
     },
     "execution_count": 99,
     "metadata": {},
     "output_type": "execute_result"
    }
   ],
   "source": [
    "st_rev(\"Hello Python world\")"
   ]
  },
  {
   "cell_type": "code",
   "execution_count": 111,
   "id": "ddca7934-6f5f-4494-b82d-947fcb71312d",
   "metadata": {},
   "outputs": [],
   "source": [
    " \n",
    "def outer(x):\n",
    "    def inner():\n",
    "        result = x + 4\n",
    "        return result\n",
    "    \n",
    "    return inner()\n",
    "\n"
   ]
  },
  {
   "cell_type": "code",
   "execution_count": 112,
   "id": "c3711dfc-04e1-4b51-80b8-1d54921dad17",
   "metadata": {},
   "outputs": [
    {
     "data": {
      "text/plain": [
       "14"
      ]
     },
     "execution_count": 112,
     "metadata": {},
     "output_type": "execute_result"
    }
   ],
   "source": [
    "outer(10)"
   ]
  },
  {
   "cell_type": "code",
   "execution_count": 114,
   "id": "0417332f-6bd8-46ed-af71-450f5ca10907",
   "metadata": {},
   "outputs": [
    {
     "name": "stdout",
     "output_type": "stream",
     "text": [
      "Hello, Alice Linda!\n"
     ]
    }
   ],
   "source": [
    "def greet(name):\n",
    "    def format_name(n):\n",
    "        return n.strip().title()\n",
    "    \n",
    "    formatted = format_name(name)\n",
    "    return f\"Hello, {formatted}!\"\n",
    "\n",
    "print(greet(\"   alice linda \"))  \n"
   ]
  },
  {
   "cell_type": "code",
   "execution_count": 115,
   "id": "4d8706de-2bdd-494c-8927-e5c91093c6fe",
   "metadata": {},
   "outputs": [
    {
     "data": {
      "text/plain": [
       "11"
      ]
     },
     "execution_count": 115,
     "metadata": {},
     "output_type": "execute_result"
    }
   ],
   "source": [
    "outer(7)"
   ]
  },
  {
   "cell_type": "code",
   "execution_count": 117,
   "id": "d27eec12-76ac-4720-a56f-14bf1da20263",
   "metadata": {},
   "outputs": [
    {
     "name": "stdout",
     "output_type": "stream",
     "text": [
      "14\n"
     ]
    }
   ],
   "source": [
    "def outer(x):\n",
    "    def inner():\n",
    "        return x + 4\n",
    "    return inner  # returning the function\n",
    "\n",
    "f = outer(10)  # f is now inner(), but remembers x=10\n",
    "print(f())     # Output: 14\n"
   ]
  },
  {
   "cell_type": "code",
   "execution_count": 10,
   "id": "87330be2-4b1f-4716-899e-e64f6c7d24a8",
   "metadata": {},
   "outputs": [
    {
     "name": "stdout",
     "output_type": "stream",
     "text": [
      "25\n"
     ]
    }
   ],
   "source": [
    "def square(x):\n",
    "    return x * x\n",
    "\n",
    "def apply_function(func, value):\n",
    "    result =func(value)\n",
    "    return result\n",
    "\n",
    "# Call the higher-order function\n",
    "result = apply_function(square, 5)\n",
    "print(result)  \n"
   ]
  },
  {
   "cell_type": "code",
   "execution_count": 8,
   "id": "cee52037-d859-4af7-8f76-7e21126f9294",
   "metadata": {},
   "outputs": [],
   "source": [
    "def myfun():\n",
    "    def square(x):\n",
    "        return x * x\n",
    "    return square\n"
   ]
  },
  {
   "cell_type": "code",
   "execution_count": 9,
   "id": "9eb1cd90-455b-4648-9de5-b0c8a67fa56c",
   "metadata": {},
   "outputs": [
    {
     "name": "stdout",
     "output_type": "stream",
     "text": [
      "100\n"
     ]
    }
   ],
   "source": [
    "x=myfun()\n",
    "print(x(10))"
   ]
  },
  {
   "cell_type": "code",
   "execution_count": null,
   "id": "b0b7aae9-5081-4ac7-bcae-0b2c30c789d7",
   "metadata": {},
   "outputs": [],
   "source": [
    "lambda arguments : expression"
   ]
  },
  {
   "cell_type": "code",
   "execution_count": null,
   "id": "05a6f902-3526-4e8d-9e3c-1a62dea2b1cb",
   "metadata": {},
   "outputs": [],
   "source": []
  },
  {
   "cell_type": "code",
   "execution_count": 120,
   "id": "87e74e71-58ed-449c-85b2-929b4baf8ad3",
   "metadata": {},
   "outputs": [
    {
     "name": "stdout",
     "output_type": "stream",
     "text": [
      "4\n"
     ]
    }
   ],
   "source": [
    "res = lambda x : x* x\n",
    "print(res(2))"
   ]
  },
  {
   "cell_type": "code",
   "execution_count": 124,
   "id": "19c78365-c21e-4480-bf01-e6990128c594",
   "metadata": {},
   "outputs": [
    {
     "name": "stdout",
     "output_type": "stream",
     "text": [
      "30\n"
     ]
    }
   ],
   "source": [
    "x = lambda a,b : a+b\n",
    "print(x(10,20))"
   ]
  },
  {
   "cell_type": "code",
   "execution_count": 122,
   "id": "38777ef4-5b8d-4b25-8df4-5e4b76830827",
   "metadata": {},
   "outputs": [
    {
     "name": "stdout",
     "output_type": "stream",
     "text": [
      "6\n"
     ]
    }
   ],
   "source": [
    "x = lambda a : len(a)\n",
    "print(x(\"Babjee\"))"
   ]
  },
  {
   "cell_type": "code",
   "execution_count": 124,
   "id": "8dd4aec8-70e9-4ecd-b457-1cf2e8cb2098",
   "metadata": {},
   "outputs": [
    {
     "data": {
      "text/plain": [
       "True"
      ]
     },
     "execution_count": 124,
     "metadata": {},
     "output_type": "execute_result"
    }
   ],
   "source": [
    "res = lambda x : x%2==0\n",
    "res(12)"
   ]
  },
  {
   "cell_type": "code",
   "execution_count": 125,
   "id": "5649f084-c615-4ecc-bff2-710c29b095b7",
   "metadata": {},
   "outputs": [
    {
     "data": {
      "text/plain": [
       "True"
      ]
     },
     "execution_count": 125,
     "metadata": {},
     "output_type": "execute_result"
    }
   ],
   "source": [
    "x = lambda c  : c.lower() in \"aeiou\"\n",
    "x('i')"
   ]
  },
  {
   "cell_type": "code",
   "execution_count": 134,
   "id": "9353b7af-dadd-4d31-9ba0-e15e0693c613",
   "metadata": {},
   "outputs": [
    {
     "name": "stdout",
     "output_type": "stream",
     "text": [
      "True\n"
     ]
    }
   ],
   "source": [
    "x = lambda a : a%2==0\n",
    "print(x(10))"
   ]
  },
  {
   "cell_type": "code",
   "execution_count": 12,
   "id": "674e5e56-b0c4-4392-b8b1-bcb6de9c20d8",
   "metadata": {},
   "outputs": [],
   "source": [
    "lst=[10,20,30]\n"
   ]
  },
  {
   "cell_type": "code",
   "execution_count": 127,
   "id": "9c9854f9-6b7f-4445-b1e3-c3e98a628d85",
   "metadata": {},
   "outputs": [],
   "source": [
    "def double(n):\n",
    "    return n * n"
   ]
  },
  {
   "cell_type": "code",
   "execution_count": 13,
   "id": "e640e4ff-3ce1-4c2c-8ce9-ddcf6acfa3ec",
   "metadata": {},
   "outputs": [
    {
     "name": "stdout",
     "output_type": "stream",
     "text": [
      "[100, 400, 900]\n"
     ]
    }
   ],
   "source": [
    "#lst1= list(map(double, lst))\n",
    "lst1 =list(map(lambda x: x* x, lst))\n",
    "print(lst1)"
   ]
  },
  {
   "cell_type": "code",
   "execution_count": 19,
   "id": "edb47d9c-c09a-4af4-a571-5564d8f511f8",
   "metadata": {},
   "outputs": [
    {
     "name": "stdout",
     "output_type": "stream",
     "text": [
      "['elppa', 'ognam', 'egnaro', 'gif']\n"
     ]
    }
   ],
   "source": [
    "lst =[\"apple\",\"mango\",\"orange\",\"fig\"]\n",
    "lst1 = list(map( lambda x : (x.title(),len(x)), lst))\n",
    "lst2 = list(map( lambda x : x[::-1], lst))\n",
    "\n",
    "print(lst2)"
   ]
  },
  {
   "cell_type": "code",
   "execution_count": 26,
   "id": "0f2f9923-ae47-43be-9e9e-dbc3dbb26036",
   "metadata": {},
   "outputs": [
    {
     "name": "stdout",
     "output_type": "stream",
     "text": [
      "['apple', 'mango', 'orange']\n"
     ]
    }
   ],
   "source": [
    "lst =[\"apple\",\"mango\",\"orange\",\"fig\"]\n",
    "lst1 = list(filter(lambda x : len(x) >=5 , lst))\n",
    "print(lst1)"
   ]
  },
  {
   "cell_type": "code",
   "execution_count": 17,
   "id": "91a633bf-6383-4c32-b839-70ce2b497f16",
   "metadata": {},
   "outputs": [
    {
     "name": "stdout",
     "output_type": "stream",
     "text": [
      "[300, 700, 900]\n"
     ]
    }
   ],
   "source": [
    "lst1=[100,200,300]\n",
    "lst2=[200,500,600]\n",
    "lst3=list(map(lambda x, y : x+y, lst1, lst2))\n",
    "print(lst3)"
   ]
  },
  {
   "cell_type": "code",
   "execution_count": 22,
   "id": "74e76661-302a-4a2f-b273-d83f74f1dfbd",
   "metadata": {},
   "outputs": [],
   "source": [
    "age=[20,18,14,12,30]\n"
   ]
  },
  {
   "cell_type": "code",
   "execution_count": 20,
   "id": "ad0dd005-e7be-42cc-9bbd-b1b527368b53",
   "metadata": {},
   "outputs": [],
   "source": [
    "def age_check(n):\n",
    "    return n >=18"
   ]
  },
  {
   "cell_type": "code",
   "execution_count": 25,
   "id": "caa3e8d6-3376-46e7-83fd-491f761a7bd6",
   "metadata": {},
   "outputs": [
    {
     "name": "stdout",
     "output_type": "stream",
     "text": [
      "[20, 18, 30]\n"
     ]
    }
   ],
   "source": [
    "age_res = list(filter(lambda x : x>=18, age))\n",
    "print(age_res)"
   ]
  },
  {
   "cell_type": "code",
   "execution_count": 134,
   "id": "b8324d6d-3d3a-4869-b7c1-6db1bf828d8f",
   "metadata": {},
   "outputs": [
    {
     "data": {
      "text/plain": [
       "[50, 70, 90]"
      ]
     },
     "execution_count": 134,
     "metadata": {},
     "output_type": "execute_result"
    }
   ],
   "source": [
    "lst =[\"apple\",\"mango\",\"orange\"]\n",
    "def to_upper(s):\n",
    "    return s.upper()\n",
    "lst_upper = list(map( to_upper, lst))\n",
    "lst_upper1 =list(map(lambda s : s.upper(), lst))\n",
    "lst_nochr =list(map(lambda s : len(s) , lst))\n",
    "lst1=[10,20,30]\n",
    "lst2 =[40,50,60]\n",
    "lst_add = list(map(lambda x,y: x+y, lst1, lst2))\n",
    "lst_add"
   ]
  },
  {
   "cell_type": "code",
   "execution_count": 135,
   "id": "479ffdac-47c5-4186-9803-b0694281233c",
   "metadata": {},
   "outputs": [],
   "source": [
    "age=[20,12,18,30]\n",
    "def age_chk(n):\n",
    "    return n>=18\n"
   ]
  },
  {
   "cell_type": "code",
   "execution_count": 139,
   "id": "f8b4e9ed-1041-48da-8c6d-4fd267250cd4",
   "metadata": {},
   "outputs": [
    {
     "name": "stdout",
     "output_type": "stream",
     "text": [
      "[20, 18, 30]\n"
     ]
    }
   ],
   "source": [
    "eligible_age = list( filter(age_chk , age))\n",
    "eligible_age1=list(filter(lambda x : x >=18, age))\n",
    "print(eligible_age1)"
   ]
  },
  {
   "cell_type": "code",
   "execution_count": 141,
   "id": "1b48a719-75e2-40c8-8efe-1bfbb864fa50",
   "metadata": {},
   "outputs": [
    {
     "data": {
      "text/plain": [
       "['praveen', 'sruthi']"
      ]
     },
     "execution_count": 141,
     "metadata": {},
     "output_type": "execute_result"
    }
   ],
   "source": [
    "names=[\"ram\",\"praveen\",\"sruthi\",\"sham\"]\n",
    "names_f=list(filter( lambda x : len(x)>=5, names))\n",
    "names_f\n",
    "       "
   ]
  },
  {
   "cell_type": "code",
   "execution_count": 28,
   "id": "3db7056a-4a57-4642-bc6f-711adcf0cbec",
   "metadata": {},
   "outputs": [
    {
     "data": {
      "text/plain": [
       "['a', 'e', 'e']"
      ]
     },
     "execution_count": 28,
     "metadata": {},
     "output_type": "execute_result"
    }
   ],
   "source": [
    "lst =list(\"Babjee\")\n",
    "lst1 = sorted(list(filter( lambda x : x in \"aeiou\" , lst)))\n",
    "lst1\n"
   ]
  },
  {
   "cell_type": "code",
   "execution_count": 38,
   "id": "f21c37bd-2515-457e-a3da-fbee94af7130",
   "metadata": {},
   "outputs": [
    {
     "name": "stdout",
     "output_type": "stream",
     "text": [
      "['Fig', 'Mango', 'apple']\n"
     ]
    }
   ],
   "source": [
    "lst=[\"apple\",\"Fig\",\"Mango\"]\n",
    "print(sorted(lst))"
   ]
  },
  {
   "cell_type": "code",
   "execution_count": 5,
   "id": "d6235e1c-db05-4bc3-9bf5-de2f77672075",
   "metadata": {},
   "outputs": [
    {
     "name": "stdout",
     "output_type": "stream",
     "text": [
      "['Fig', 'Mango', 'Dragon fruit']\n"
     ]
    }
   ],
   "source": [
    "lst=[\"Dragon fruit\",\"Fig\",\"Mango\"]\n",
    "print(sorted(lst,key=len))"
   ]
  },
  {
   "cell_type": "code",
   "execution_count": 7,
   "id": "5960d940-3638-49ec-adab-f113ae25a71d",
   "metadata": {},
   "outputs": [
    {
     "data": {
      "text/plain": [
       "'Dragon fruit'"
      ]
     },
     "execution_count": 7,
     "metadata": {},
     "output_type": "execute_result"
    }
   ],
   "source": [
    "max(lst,key=len)"
   ]
  },
  {
   "cell_type": "code",
   "execution_count": null,
   "id": "12918290-3c5a-40b5-8186-f01e1e4ab93f",
   "metadata": {},
   "outputs": [],
   "source": [
    "from functools import reduce\n",
    "\n",
    "nums = [1, 2, 3, 4]\n",
    "total = reduce(lambda x, y: x + y, nums)\n",
    "print(total) \n",
    "\n"
   ]
  },
  {
   "cell_type": "code",
   "execution_count": 6,
   "id": "3f92a69d-393c-4048-bab0-b864835bbe42",
   "metadata": {},
   "outputs": [
    {
     "name": "stdout",
     "output_type": "stream",
     "text": [
      "24\n"
     ]
    }
   ],
   "source": [
    "from functools import reduce\n",
    "nums = [1, 2, 3, 4]\n",
    "product = reduce(lambda x, y: x * y, nums)\n",
    "print(product)  # Output: 24\n"
   ]
  },
  {
   "cell_type": "code",
   "execution_count": 7,
   "id": "d2b2da56-0e3d-4d12-899a-081d00436d81",
   "metadata": {},
   "outputs": [
    {
     "name": "stdout",
     "output_type": "stream",
     "text": [
      "10\n"
     ]
    }
   ],
   "source": [
    "nums = [5, 8, 2, 10, 3]\n",
    "maximum = reduce(lambda x, y: x if x > y else y, nums)\n",
    "print(maximum) \n"
   ]
  },
  {
   "cell_type": "code",
   "execution_count": 40,
   "id": "ad0c6a4f-ad78-4f4e-a7f9-3ec94070a273",
   "metadata": {},
   "outputs": [],
   "source": [
    "def is_even(n):\n",
    "    if isinstance(n,int):\n",
    "        if n%2==0:\n",
    "            print(f\"{n} is a even number\")\n",
    "        else:\n",
    "            print(f\"{n} is a odd number\")\n",
    "    else:\n",
    "        print(\"Please Enter Integer value\")\n",
    "            "
   ]
  },
  {
   "cell_type": "code",
   "execution_count": 42,
   "id": "561670e7-388f-41c3-89bc-92fc86ae718c",
   "metadata": {},
   "outputs": [
    {
     "name": "stdout",
     "output_type": "stream",
     "text": [
      "Please Enter Integer value\n"
     ]
    }
   ],
   "source": [
    "is_even('a')"
   ]
  },
  {
   "cell_type": "code",
   "execution_count": 72,
   "id": "bffc8155-f858-4795-8ede-98ba7d55e366",
   "metadata": {},
   "outputs": [],
   "source": [
    "def rotate_list(lst, k):\n",
    "    k=k%len(lst)\n",
    "    return lst[-k:] + lst[:-k]\n"
   ]
  },
  {
   "cell_type": "code",
   "execution_count": 73,
   "id": "bf1e3093-754e-4227-b61a-69cf5ed513f7",
   "metadata": {},
   "outputs": [
    {
     "data": {
      "text/plain": [
       "[3, 4, 5, 6, 1, 2]"
      ]
     },
     "execution_count": 73,
     "metadata": {},
     "output_type": "execute_result"
    }
   ],
   "source": [
    "rotate_list([1,2,3,4,5,6],4)"
   ]
  },
  {
   "cell_type": "code",
   "execution_count": 51,
   "id": "c38b208a-8b7a-40a5-9ff9-9703d982104e",
   "metadata": {},
   "outputs": [
    {
     "data": {
      "text/plain": [
       "3"
      ]
     },
     "execution_count": 51,
     "metadata": {},
     "output_type": "execute_result"
    }
   ],
   "source": [
    "2%"
   ]
  },
  {
   "cell_type": "code",
   "execution_count": null,
   "id": "1f487efa-6b48-421b-92ad-05983705e634",
   "metadata": {},
   "outputs": [],
   "source": []
  }
 ],
 "metadata": {
  "kernelspec": {
   "display_name": "Python 3 (ipykernel)",
   "language": "python",
   "name": "python3"
  },
  "language_info": {
   "codemirror_mode": {
    "name": "ipython",
    "version": 3
   },
   "file_extension": ".py",
   "mimetype": "text/x-python",
   "name": "python",
   "nbconvert_exporter": "python",
   "pygments_lexer": "ipython3",
   "version": "3.12.10"
  }
 },
 "nbformat": 4,
 "nbformat_minor": 5
}

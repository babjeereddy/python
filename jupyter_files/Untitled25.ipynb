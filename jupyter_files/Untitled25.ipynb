{
 "cells": [
  {
   "cell_type": "code",
   "execution_count": 4,
   "id": "697fd19e-fd00-495d-8593-c56f594728dd",
   "metadata": {},
   "outputs": [
    {
     "name": "stdout",
     "output_type": "stream",
     "text": [
      "<re.Match object; span=(0, 5), match='Hello'>\n",
      "<class 're.Match'>\n"
     ]
    }
   ],
   "source": [
    "import re\n",
    "print(re.match(r'Hello', 'Hello World')) \n"
   ]
  },
  {
   "cell_type": "code",
   "execution_count": 6,
   "id": "d206371b-57c7-4724-98c1-5f420694a42d",
   "metadata": {},
   "outputs": [
    {
     "name": "stdout",
     "output_type": "stream",
     "text": [
      "Matched!\n",
      "Matched Text: Hello\n",
      "Start Index: 0\n",
      "End Index: 5\n",
      "Span: (0, 5)\n"
     ]
    }
   ],
   "source": [
    "import re\n",
    "match = re.match(r'Hello', 'Hello World')\n",
    "if match:\n",
    "    print(\"Matched!\")\n",
    "    print(\"Matched Text:\", match.group())   \n",
    "    print(\"Start Index:\", match.start())    \n",
    "    print(\"End Index:\", match.end())        \n",
    "    print(\"Span:\", match.span())            \n",
    "else:\n",
    "    print(\"No Match\")\n"
   ]
  },
  {
   "cell_type": "code",
   "execution_count": 7,
   "id": "7f06083d-7994-4b15-9e56-368d1f865ec0",
   "metadata": {},
   "outputs": [
    {
     "data": {
      "text/plain": [
       "<re.Match object; span=(6, 11), match='World'>"
      ]
     },
     "execution_count": 7,
     "metadata": {},
     "output_type": "execute_result"
    }
   ],
   "source": [
    "re.search(r'World', 'Hello World')  \n"
   ]
  },
  {
   "cell_type": "code",
   "execution_count": 8,
   "id": "c656f3dd-7992-4f87-9a2d-55f1df20362d",
   "metadata": {},
   "outputs": [
    {
     "name": "stdout",
     "output_type": "stream",
     "text": [
      "Matched!\n",
      "Matched Text: World\n",
      "Start Index: 6\n",
      "End Index: 11\n",
      "Span: (6, 11)\n"
     ]
    }
   ],
   "source": [
    "match =re.search(r'World', 'Hello World')\n",
    "if match:\n",
    "    print(\"Matched!\")\n",
    "    print(\"Matched Text:\", match.group())   \n",
    "    print(\"Start Index:\", match.start())    \n",
    "    print(\"End Index:\", match.end())        \n",
    "    print(\"Span:\", match.span())            \n",
    "else:\n",
    "    print(\"No Match\")\n"
   ]
  },
  {
   "cell_type": "code",
   "execution_count": 10,
   "id": "948e4dd0-530d-47bb-a318-b20b4371f8c0",
   "metadata": {},
   "outputs": [
    {
     "data": {
      "text/plain": [
       "['12', '98']"
      ]
     },
     "execution_count": 10,
     "metadata": {},
     "output_type": "execute_result"
    }
   ],
   "source": [
    "re.findall(r'\\d{2}', 'My numbers are 12 and 98')  "
   ]
  },
  {
   "cell_type": "code",
   "execution_count": 9,
   "id": "acc238f0-972c-4fee-bb12-ecdce371d161",
   "metadata": {},
   "outputs": [
    {
     "name": "stdout",
     "output_type": "stream",
     "text": [
      "['apple', 'apple', 'apple']\n"
     ]
    }
   ],
   "source": [
    "match =re.findall(\"apple\", \"apple juce apple cake apple shake\")\n",
    "print(match)"
   ]
  },
  {
   "cell_type": "code",
   "execution_count": 19,
   "id": "80836f9f-c3a4-4074-9e60-9d6b7f96edfe",
   "metadata": {},
   "outputs": [
    {
     "name": "stdout",
     "output_type": "stream",
     "text": [
      "Hello\n",
      "World\n",
      "123\n"
     ]
    }
   ],
   "source": [
    "import re\n",
    "for match in re.finditer(r\"\\w+\", \"Hello World! 123.\"):\n",
    "    print(match.group())\n",
    "\n",
    "match = re.finditer(r\"\\w+\", \"Hello World! 123.\")\n"
   ]
  },
  {
   "cell_type": "code",
   "execution_count": 19,
   "id": "04ffd1a5-8304-4c0c-8e66-1fb97d6f8284",
   "metadata": {},
   "outputs": [
    {
     "name": "stdout",
     "output_type": "stream",
     "text": [
      "Hello\n",
      "World\n",
      "123\n",
      "['Hello', 'World', '123']\n"
     ]
    },
    {
     "data": {
      "text/plain": [
       "list"
      ]
     },
     "execution_count": 19,
     "metadata": {},
     "output_type": "execute_result"
    }
   ],
   "source": [
    "import re\n",
    "for match in re.findall(r\"\\w+\", \"Hello World! 123.\"):\n",
    "    print(match)\n",
    "\n",
    "print(re.findall(r\"\\w+\", \"Hello World! 123.\"))\n",
    "type(re.findall(r\"\\w+\", \"Hello World! 123.\"))"
   ]
  },
  {
   "cell_type": "code",
   "execution_count": 20,
   "id": "61a1bf1c-5840-499b-93ae-f39270e4fefe",
   "metadata": {},
   "outputs": [
    {
     "name": "stdout",
     "output_type": "stream",
     "text": [
      "orange and banana\n"
     ]
    }
   ],
   "source": [
    "text = \"apple and banana\"\n",
    "result = re.sub(r\"apple\", \"orange\", text)\n",
    "print(result)  \n"
   ]
  },
  {
   "cell_type": "code",
   "execution_count": 21,
   "id": "9ec15bcb-e590-4433-a8e9-9f659891f363",
   "metadata": {},
   "outputs": [
    {
     "data": {
      "text/plain": [
       "['apple', 'banana', 'orange']"
      ]
     },
     "execution_count": 21,
     "metadata": {},
     "output_type": "execute_result"
    }
   ],
   "source": [
    "re.split(r\"[,.]\", \"apple,banana.orange\")"
   ]
  },
  {
   "cell_type": "code",
   "execution_count": 22,
   "id": "837d078b-50e0-4642-bd20-7b106fa82567",
   "metadata": {},
   "outputs": [
    {
     "name": "stdout",
     "output_type": "stream",
     "text": [
      "<re.Match object; span=(0, 18), match='Name: John Age: 25'>\n",
      "John\n",
      "25\n"
     ]
    }
   ],
   "source": [
    "text = \"Name: John Age: 25\"\n",
    "match = re.search(r\"Name: (\\w+) Age: (\\d+)\", text)\n",
    "print(match)\n",
    "print(match.group(1))  \n",
    "print(match.group(2)) "
   ]
  },
  {
   "cell_type": "code",
   "execution_count": 6,
   "id": "3ba0fa5c-42a1-4356-9d57-402a7c070155",
   "metadata": {},
   "outputs": [],
   "source": [
    "#Lookahead and Lookbehind"
   ]
  },
  {
   "cell_type": "code",
   "execution_count": 7,
   "id": "9fce7541-ebb0-4fe0-806e-34bf7c5d41f2",
   "metadata": {},
   "outputs": [
    {
     "data": {
      "text/plain": [
       "['20', '50']"
      ]
     },
     "execution_count": 7,
     "metadata": {},
     "output_type": "execute_result"
    }
   ],
   "source": [
    "#Positive Lookahead (?=...)\n",
    "\n",
    "re.findall(r\"\\d+(?=%)\", \"20% off, 50% off\")  # ['20', '50']"
   ]
  },
  {
   "cell_type": "code",
   "execution_count": 23,
   "id": "c6933286-e2d9-4889-b915-6aa092973138",
   "metadata": {},
   "outputs": [
    {
     "data": {
      "text/plain": [
       "['30', '70']"
      ]
     },
     "execution_count": 23,
     "metadata": {},
     "output_type": "execute_result"
    }
   ],
   "source": [
    "#Negative Lookahead (?!...)\n",
    "\n",
    "re.findall(r\"\\d+(?!-)\", \"A-30 off, B-70 off\") "
   ]
  },
  {
   "cell_type": "code",
   "execution_count": 27,
   "id": "aa0695b5-d18f-4435-b283-bef3dcf00349",
   "metadata": {},
   "outputs": [
    {
     "name": "stdout",
     "output_type": "stream",
     "text": [
      "['Hello']\n"
     ]
    }
   ],
   "source": [
    "print(re.findall(r\"^Hello\", \"Hello world! Hello world\"))"
   ]
  },
  {
   "cell_type": "code",
   "execution_count": 27,
   "id": "cfc9bb90-df42-4674-b0c2-e3756460ad40",
   "metadata": {},
   "outputs": [
    {
     "name": "stdout",
     "output_type": "stream",
     "text": [
      "['world!']\n"
     ]
    }
   ],
   "source": [
    "print(re.findall(r\"world!$\", \"Hello world!\"))"
   ]
  },
  {
   "cell_type": "code",
   "execution_count": 12,
   "id": "ebb8309d-d2ce-4b3e-a371-a2f2610825a3",
   "metadata": {},
   "outputs": [
    {
     "name": "stdout",
     "output_type": "stream",
     "text": [
      "['world!']\n"
     ]
    }
   ],
   "source": [
    "print(re.findall(r\"world!$\", \"Hello world!\"))"
   ]
  },
  {
   "cell_type": "code",
   "execution_count": 29,
   "id": "adc614e3-c62c-4091-8fac-7c50849c69d0",
   "metadata": {},
   "outputs": [
    {
     "name": "stdout",
     "output_type": "stream",
     "text": [
      "['ab', 'abb', 'abbb', 'a', 'a']\n"
     ]
    }
   ],
   "source": [
    "print(re.findall(r\"ab*\", \"ab abb abbb a ac\"))\n",
    "\n",
    "#Matches a followed by zero or more bs."
   ]
  },
  {
   "cell_type": "code",
   "execution_count": 17,
   "id": "fe14ce83-fafa-4390-9699-0b7ebb922b5c",
   "metadata": {},
   "outputs": [
    {
     "name": "stdout",
     "output_type": "stream",
     "text": [
      "['ab', 'abb', 'abbb']\n"
     ]
    }
   ],
   "source": [
    "print(re.findall(r\"ab+\", \"ab abb abbb a ac\"))\n",
    "#a must be followed by at least one b."
   ]
  },
  {
   "cell_type": "code",
   "execution_count": 31,
   "id": "fd79cd73-1353-464a-8c8f-1dbc276c2769",
   "metadata": {},
   "outputs": [
    {
     "name": "stdout",
     "output_type": "stream",
     "text": [
      "['123', '456', '789']\n"
     ]
    }
   ],
   "source": [
    "#Exact or range repetitions\n",
    "\n",
    "print(re.findall(r\"\\d{3}+\", \"Phone: 123-456-7890\"))"
   ]
  },
  {
   "cell_type": "code",
   "execution_count": 36,
   "id": "9f725ab6-9b56-4b38-90bb-c9997f3876db",
   "metadata": {},
   "outputs": [
    {
     "name": "stdout",
     "output_type": "stream",
     "text": [
      "['h', 'l', 'l', 'w', 'r', 'l', 'd']\n"
     ]
    }
   ],
   "source": [
    "print(re.findall(r\"[^aeiou\\s]\", \"hello world\"))\n"
   ]
  },
  {
   "cell_type": "code",
   "execution_count": 40,
   "id": "f86a0183-063d-4b97-a181-f635d98e7ff4",
   "metadata": {},
   "outputs": [
    {
     "name": "stdout",
     "output_type": "stream",
     "text": [
      "babjee\n",
      "['Babjee']\n"
     ]
    }
   ],
   "source": [
    "match=re.search(r\"[A-Z,a-z]+\",\"babjee1978\")\n",
    "print(match.group())\n",
    "print(re.findall(\"[A-Z,a-z]+\",\"Babjee22222\"))"
   ]
  },
  {
   "cell_type": "code",
   "execution_count": 33,
   "id": "1e11c67d-c0fb-4ed2-b8ba-5946819aea8e",
   "metadata": {},
   "outputs": [
    {
     "name": "stdout",
     "output_type": "stream",
     "text": [
      "['D', 'E', 'F', 'G', 'a', 'b', 'c']\n"
     ]
    }
   ],
   "source": [
    "print(re.findall(r\"[^A-C]\", \"ABCDEFGabc\"))\n",
    "# Output: ['A', 'B', 'C']"
   ]
  },
  {
   "cell_type": "code",
   "execution_count": 22,
   "id": "b8ef8fce-21d9-446e-b1a8-bf78550b968a",
   "metadata": {},
   "outputs": [
    {
     "name": "stdout",
     "output_type": "stream",
     "text": [
      "['h', 'l', 'l', 'w', 'r', 'l', 'd']\n"
     ]
    }
   ],
   "source": [
    "#exclude[^..] Matches all non-vowels and non-space\n",
    "print(re.findall(r\"[^aeiou\\s]\", \"hello world\"))\n"
   ]
  },
  {
   "cell_type": "code",
   "execution_count": 23,
   "id": "aeae9cb2-ae95-4c70-885c-4d12c4ec709f",
   "metadata": {},
   "outputs": [
    {
     "name": "stdout",
     "output_type": "stream",
     "text": [
      "['cat', 'dog']\n"
     ]
    }
   ],
   "source": [
    "#or\n",
    "print(re.findall(r\"cat|dog\", \"cat and dog are animals\"))"
   ]
  },
  {
   "cell_type": "code",
   "execution_count": 47,
   "id": "87d957d6-7bc6-4e6c-910d-db894a601a71",
   "metadata": {},
   "outputs": [
    {
     "name": "stdout",
     "output_type": "stream",
     "text": [
      "['24', '500081']\n"
     ]
    }
   ],
   "source": [
    "print(re.findall(r\"\\d+\", \"My age is 24 and zip is 500081\"))\n",
    "# Output: ['24', '500081']\n"
   ]
  },
  {
   "cell_type": "code",
   "execution_count": 69,
   "id": "f6eec24e-0d20-4e00-91ef-db6d6a7ca5f0",
   "metadata": {},
   "outputs": [
    {
     "name": "stdout",
     "output_type": "stream",
     "text": [
      "apple\n",
      "banana\n",
      "cherry\n"
     ]
    }
   ],
   "source": [
    "fruits = ['apple', 'banana', 'cherry']\n",
    "it = iter(fruits) \n",
    "\n",
    "print(next(it))  \n",
    "print(next(it))  \n",
    "print(next(it))  \n",
    "#print(next(it))  # Raises StopIteration"
   ]
  },
  {
   "cell_type": "code",
   "execution_count": 48,
   "id": "8b7a4020-83e2-45c2-869b-26f4c154c360",
   "metadata": {},
   "outputs": [
    {
     "ename": "StopIteration",
     "evalue": "",
     "output_type": "error",
     "traceback": [
      "\u001b[31m---------------------------------------------------------------------------\u001b[39m",
      "\u001b[31mStopIteration\u001b[39m                             Traceback (most recent call last)",
      "\u001b[36mCell\u001b[39m\u001b[36m \u001b[39m\u001b[32mIn[48]\u001b[39m\u001b[32m, line 22\u001b[39m\n\u001b[32m     20\u001b[39m \u001b[38;5;28mnext\u001b[39m(even)\n\u001b[32m     21\u001b[39m \u001b[38;5;28mnext\u001b[39m(even)\n\u001b[32m---> \u001b[39m\u001b[32m22\u001b[39m \u001b[38;5;28;43mnext\u001b[39;49m\u001b[43m(\u001b[49m\u001b[43meven\u001b[49m\u001b[43m)\u001b[49m\n",
      "\u001b[36mCell\u001b[39m\u001b[36m \u001b[39m\u001b[32mIn[48]\u001b[39m\u001b[32m, line 11\u001b[39m, in \u001b[36mEvenNumbers.__next__\u001b[39m\u001b[34m(self)\u001b[39m\n\u001b[32m      9\u001b[39m \u001b[38;5;28;01mdef\u001b[39;00m\u001b[38;5;250m \u001b[39m\u001b[34m__next__\u001b[39m(\u001b[38;5;28mself\u001b[39m):\n\u001b[32m     10\u001b[39m     \u001b[38;5;28;01mif\u001b[39;00m \u001b[38;5;28mself\u001b[39m.num > \u001b[38;5;28mself\u001b[39m.limit:\n\u001b[32m---> \u001b[39m\u001b[32m11\u001b[39m         \u001b[38;5;28;01mraise\u001b[39;00m \u001b[38;5;167;01mStopIteration\u001b[39;00m\n\u001b[32m     12\u001b[39m     val = \u001b[38;5;28mself\u001b[39m.num\n\u001b[32m     13\u001b[39m     \u001b[38;5;28mself\u001b[39m.num += \u001b[32m2\u001b[39m\n",
      "\u001b[31mStopIteration\u001b[39m: "
     ]
    }
   ],
   "source": [
    "class EvenNumbers:\n",
    "    def __init__(self, limit):\n",
    "        self.num = 0\n",
    "        self.limit = limit\n",
    "\n",
    "    def __iter__(self):\n",
    "        return self\n",
    "\n",
    "    def __next__(self):\n",
    "        if self.num > self.limit:\n",
    "            raise StopIteration\n",
    "        val = self.num\n",
    "        self.num += 2\n",
    "        return val\n",
    "\n",
    "# for even in EvenNumbers(100):\n",
    "#     print(even)\n",
    "\n",
    "even =EvenNumbers(2)\n",
    "next(even)\n",
    "next(even)\n"
   ]
  },
  {
   "cell_type": "code",
   "execution_count": 50,
   "id": "afae2195-e0b5-4ee9-bc90-32872c140084",
   "metadata": {},
   "outputs": [
    {
     "name": "stdout",
     "output_type": "stream",
     "text": [
      "1\n",
      "2\n",
      "3\n",
      "Exeption raised\n"
     ]
    }
   ],
   "source": [
    "def count_up_to(max):\n",
    "    count = 1\n",
    "    while count <= max:\n",
    "        yield count\n",
    "        count += 1\n",
    "try:\n",
    "    gen = count_up_to(3)\n",
    "    print(next(gen))  # 1\n",
    "    print(next(gen))  # 2\n",
    "    print(next(gen))  # 3\n",
    "    print(next(gen))\n",
    "except StopIteration as e:\n",
    "    print(\"Exeption raised\")\n"
   ]
  },
  {
   "cell_type": "code",
   "execution_count": 53,
   "id": "0f5d7ec1-6a57-4415-b019-3a02941fd8ad",
   "metadata": {},
   "outputs": [
    {
     "name": "stdout",
     "output_type": "stream",
     "text": [
      "0\n",
      "1\n",
      "4\n",
      "9\n",
      "16\n",
      "25\n",
      "36\n",
      "49\n",
      "64\n",
      "81\n",
      "100\n",
      "121\n",
      "144\n",
      "169\n",
      "196\n",
      "225\n",
      "256\n",
      "289\n",
      "324\n",
      "361\n",
      "400\n",
      "441\n",
      "484\n",
      "529\n",
      "576\n",
      "625\n",
      "676\n",
      "729\n",
      "784\n",
      "841\n"
     ]
    }
   ],
   "source": [
    "#generator expression\n",
    "gen = (x*x for x in range(100000))\n",
    "for i in range(30):\n",
    "    print(next(gen))\n"
   ]
  },
  {
   "cell_type": "code",
   "execution_count": 59,
   "id": "92eb2bc9-cf93-4291-aa46-a75775dbd382",
   "metadata": {},
   "outputs": [],
   "source": [
    "def read_large_file(file_path):\n",
    "    with open(file_path) as f:\n",
    "        for line in f:\n",
    "            yield line.strip()\n"
   ]
  },
  {
   "cell_type": "code",
   "execution_count": 60,
   "id": "ea4f08a1-c10c-401f-a21f-9592c3da7699",
   "metadata": {},
   "outputs": [
    {
     "name": "stdout",
     "output_type": "stream",
     "text": [
      "1|Ivy\n",
      "2|Bob\n",
      "3|Grace\n",
      "4|David\n",
      "5|Eve\n",
      "6|Frank\n",
      "7|Jack\n",
      "8|Ivy\n",
      "9|Grace\n",
      "10|Grace\n",
      "11|Hannah\n",
      "12|Ivy\n",
      "13|Charlie\n",
      "14|Charlie\n",
      "15|Charlie\n",
      "16|Grace\n",
      "17|Hannah\n",
      "18|Eve\n",
      "19|Frank\n",
      "20|Charlie\n"
     ]
    }
   ],
   "source": [
    "gen=read_large_file('C:/Python_Challenge/emp_w.csv')\n",
    "for _ in range(20):\n",
    "    print(next(gen))\n",
    "    \n"
   ]
  },
  {
   "cell_type": "code",
   "execution_count": 61,
   "id": "6bdf2aef-e023-48dd-bbf0-814357e1e0c8",
   "metadata": {},
   "outputs": [
    {
     "name": "stdout",
     "output_type": "stream",
     "text": [
      "Before function call\n",
      "Hello!\n",
      "After function call\n"
     ]
    }
   ],
   "source": [
    "def decorator(func):\n",
    "    def wrapper():\n",
    "        print(\"Before function call\")\n",
    "        func()\n",
    "        print(\"After function call\")\n",
    "    return wrapper\n",
    "\n",
    "@decorator\n",
    "def say_hello():\n",
    "    print(\"Hello!\")\n",
    "\n",
    "say_hello()\n"
   ]
  },
  {
   "cell_type": "code",
   "execution_count": 66,
   "id": "f11cb8ea-a816-4de5-8509-2e89782f9528",
   "metadata": {},
   "outputs": [],
   "source": [
    "def decorator(func):\n",
    "    def wrapper(*args):\n",
    "        print(\"Arguments passed:\", args)\n",
    "        return func(*args)\n",
    "    return wrapper\n",
    "\n",
    "@decorator\n",
    "\n",
    "def greet(name):\n",
    "    print(f\"Hello {name}!\")"
   ]
  },
  {
   "cell_type": "code",
   "execution_count": 67,
   "id": "25dd774e-f6e5-4dc1-a5f8-1b5b5b127351",
   "metadata": {},
   "outputs": [
    {
     "name": "stdout",
     "output_type": "stream",
     "text": [
      "Arguments passed: ('babjee',)\n",
      "Hello babjee!\n"
     ]
    }
   ],
   "source": [
    "greet(\"babjee\")\n"
   ]
  },
  {
   "cell_type": "code",
   "execution_count": 6,
   "id": "2d57dd00-b10d-4e77-b960-7c37ddcd3147",
   "metadata": {},
   "outputs": [
    {
     "name": "stdout",
     "output_type": "stream",
     "text": [
      "Hello\n",
      "slow_function took 10.00 sec\n",
      "my_loop took 19.60 sec\n"
     ]
    }
   ],
   "source": [
    "import time\n",
    "def timer(func):\n",
    "    def wrapper():\n",
    "        start = time.time()\n",
    "        func()\n",
    "        end = time.time()\n",
    "        print(f\"{func.__name__} took {end - start:.2f} sec\")\n",
    "    return wrapper\n",
    "@timer\n",
    "def slow_function():\n",
    "    time.sleep(10)\n",
    "    print(\"Hello\")\n",
    "slow_function()\n",
    "\n",
    "@timer\n",
    "def my_loop():\n",
    "    lst =[]\n",
    "    for i in range(100000000):\n",
    "        lst.append(i*i)\n",
    "my_loop()\n"
   ]
  },
  {
   "cell_type": "code",
   "execution_count": null,
   "id": "2a34b0d1-5ffe-4d71-9ff2-423b0ed1406e",
   "metadata": {},
   "outputs": [],
   "source": []
  }
 ],
 "metadata": {
  "kernelspec": {
   "display_name": "Python 3 (ipykernel)",
   "language": "python",
   "name": "python3"
  },
  "language_info": {
   "codemirror_mode": {
    "name": "ipython",
    "version": 3
   },
   "file_extension": ".py",
   "mimetype": "text/x-python",
   "name": "python",
   "nbconvert_exporter": "python",
   "pygments_lexer": "ipython3",
   "version": "3.12.10"
  }
 },
 "nbformat": 4,
 "nbformat_minor": 5
}

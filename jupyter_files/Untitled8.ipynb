{
 "cells": [
  {
   "cell_type": "code",
   "execution_count": 11,
   "id": "523571e1-452b-40e1-9fd0-8e46a9fa9829",
   "metadata": {},
   "outputs": [
    {
     "name": "stdout",
     "output_type": "stream",
     "text": [
      "[[1, 2, 3], [1, 2, 3], [1, 2, 3]]\n"
     ]
    }
   ],
   "source": [
    "matrix=[]\n",
    "for i in range(0,3):\n",
    "    matrix.append([])\n",
    "    for j in range(1,4):\n",
    "        matrix[i].append(j)\n",
    "print(matrix)\n",
    "\n"
   ]
  },
  {
   "cell_type": "code",
   "execution_count": 12,
   "id": "468451e4-c7e8-4629-94af-8076f41424c3",
   "metadata": {},
   "outputs": [
    {
     "name": "stdout",
     "output_type": "stream",
     "text": [
      "[[1, 2, 3], [4, 5, 6], [7, 8, 9]]\n"
     ]
    }
   ],
   "source": [
    "matrix =[]\n",
    "for i in range(3):\n",
    "    matrix.append([])\n",
    "    for j in range(1,4):\n",
    "        matrix[i].append(i*3+j)\n",
    "print(matrix)\n"
   ]
  },
  {
   "cell_type": "code",
   "execution_count": 1,
   "id": "fa7b22f6-7c3d-4632-91da-50f0d2de7df1",
   "metadata": {},
   "outputs": [
    {
     "name": "stdout",
     "output_type": "stream",
     "text": [
      "[[1, 2, 3], [4, 5, 6], [7, 8, 9]]\n"
     ]
    }
   ],
   "source": [
    "    \n",
    "matrix =[ [i*3 + j  for j in range(1,4)]   for i in range(3)] \n",
    "print(matrix)"
   ]
  },
  {
   "cell_type": "code",
   "execution_count": 15,
   "id": "e7d7ab2e-e32f-45a5-88a4-2c1eddbf8a33",
   "metadata": {},
   "outputs": [
    {
     "data": {
      "text/plain": [
       "[1, 2, 3]"
      ]
     },
     "execution_count": 15,
     "metadata": {},
     "output_type": "execute_result"
    }
   ],
   "source": [
    "matrix[0][0:]"
   ]
  },
  {
   "cell_type": "code",
   "execution_count": 19,
   "id": "c8c60e29-4565-45cf-b562-330185a153fc",
   "metadata": {},
   "outputs": [
    {
     "name": "stdout",
     "output_type": "stream",
     "text": [
      "[[1, 2], [4, 5]]\n"
     ]
    }
   ],
   "source": [
    "matrix =[ [i*3 + j  for j in range(1,4)]   for i in range(3)] \n",
    "x =[rows[:2] for rows in matrix[:2]]\n",
    "print(x)"
   ]
  },
  {
   "cell_type": "code",
   "execution_count": 3,
   "id": "11c39228-7ac5-4bb3-8b42-313f27be42ba",
   "metadata": {},
   "outputs": [
    {
     "name": "stdout",
     "output_type": "stream",
     "text": [
      "[[5, 6], [8, 9]]\n"
     ]
    }
   ],
   "source": [
    "matrix =[ [i*3 + j  for j in range(1,4)]   for i in range(3)] \n",
    "x =[rows[1:] for rows in matrix[1:]]\n",
    "print(x)"
   ]
  },
  {
   "cell_type": "code",
   "execution_count": 28,
   "id": "23d406f8-df97-42a4-92d7-c1b3e5157754",
   "metadata": {},
   "outputs": [
    {
     "name": "stdout",
     "output_type": "stream",
     "text": [
      "[40, 20, 30, 10]\n"
     ]
    }
   ],
   "source": [
    "lst=[10,20,30,40]\n",
    "swap_lst=[lst[-1]]+ lst[1:-1]+[lst[0]]\n",
    "print(swap_lst)"
   ]
  },
  {
   "cell_type": "code",
   "execution_count": 6,
   "id": "6032bff1-80f6-424a-9c78-fc4ddced907c",
   "metadata": {},
   "outputs": [
    {
     "name": "stdout",
     "output_type": "stream",
     "text": [
      "[[4, 5], [7, 8]]\n"
     ]
    }
   ],
   "source": [
    "\n",
    "matrix =[ [i*3 + j  for j in range(1,4)]   for i in range(3)] \n",
    "x =[rows[:2] for rows in matrix[1:]]\n",
    "print(x)\n"
   ]
  },
  {
   "cell_type": "code",
   "execution_count": 6,
   "id": "65913193-86b6-43c2-b8e8-7597dccc9a76",
   "metadata": {},
   "outputs": [
    {
     "name": "stdout",
     "output_type": "stream",
     "text": [
      "[[2, 3], [5, 6]]\n"
     ]
    }
   ],
   "source": [
    "\n",
    "matrix =[ [i*3 + j  for j in range(1,4)]   for i in range(3)] \n",
    "x =[ rows[1:] for rows in matrix[:2]]\n",
    "print(x)"
   ]
  },
  {
   "cell_type": "code",
   "execution_count": 29,
   "id": "587e1c00-a4f5-4d16-9221-aaf72c798a64",
   "metadata": {},
   "outputs": [
    {
     "name": "stdout",
     "output_type": "stream",
     "text": [
      "('apple', 'mango', 'banana', 'apple')\n",
      "<class 'tuple'>\n"
     ]
    }
   ],
   "source": [
    "t=(\"apple\",\"mango\",\"banana\",\"apple\")\n",
    "print(t)\n",
    "print(type(t))"
   ]
  },
  {
   "cell_type": "code",
   "execution_count": 30,
   "id": "47ce67ad-6a4c-46a8-ac16-893fbe8eb9ff",
   "metadata": {},
   "outputs": [
    {
     "name": "stdout",
     "output_type": "stream",
     "text": [
      "(10, 20, 30, 'ram')\n"
     ]
    }
   ],
   "source": [
    "t1=10,20,30,\"ram\"\n",
    "print(t1)"
   ]
  },
  {
   "cell_type": "code",
   "execution_count": 31,
   "id": "8d4c213e-0806-4f6f-8c28-2f0e4c759d57",
   "metadata": {},
   "outputs": [
    {
     "name": "stdout",
     "output_type": "stream",
     "text": [
      "10 20 30 ram\n"
     ]
    }
   ],
   "source": [
    "a,b,c,d=t1\n",
    "\n",
    "print(a, b, c,d)"
   ]
  },
  {
   "cell_type": "code",
   "execution_count": 56,
   "id": "16a2fdf8-3660-435e-a071-6f887f3aee60",
   "metadata": {},
   "outputs": [
    {
     "name": "stdout",
     "output_type": "stream",
     "text": [
      "(10, 20, 30)\n"
     ]
    }
   ],
   "source": [
    "t=tuple([10,20,30])\n",
    "print(t)"
   ]
  },
  {
   "cell_type": "code",
   "execution_count": 38,
   "id": "9efac1f8-2852-45dc-a0e4-03fe9d2209c0",
   "metadata": {},
   "outputs": [
    {
     "name": "stdout",
     "output_type": "stream",
     "text": [
      "()\n"
     ]
    }
   ],
   "source": [
    "t=()\n",
    "print(t)"
   ]
  },
  {
   "cell_type": "code",
   "execution_count": 39,
   "id": "9c007426-24ff-4987-a6c0-99a4177876b6",
   "metadata": {},
   "outputs": [
    {
     "data": {
      "text/plain": [
       "tuple"
      ]
     },
     "execution_count": 39,
     "metadata": {},
     "output_type": "execute_result"
    }
   ],
   "source": [
    "type(t)"
   ]
  },
  {
   "cell_type": "code",
   "execution_count": 47,
   "id": "ea30dc95-f5a7-4dc7-833a-362f9914a401",
   "metadata": {},
   "outputs": [
    {
     "data": {
      "text/plain": [
       "int"
      ]
     },
     "execution_count": 47,
     "metadata": {},
     "output_type": "execute_result"
    }
   ],
   "source": [
    "t=(10)\n",
    "type(t)"
   ]
  },
  {
   "cell_type": "code",
   "execution_count": 48,
   "id": "0c37a6e7-e5a8-48d9-998c-fa07e10d1484",
   "metadata": {},
   "outputs": [
    {
     "name": "stdout",
     "output_type": "stream",
     "text": [
      "(10,)\n",
      "<class 'tuple'>\n"
     ]
    }
   ],
   "source": [
    "t=(10,)\n",
    "print(t)\n",
    "print(type(t))"
   ]
  },
  {
   "cell_type": "code",
   "execution_count": 51,
   "id": "36814d77-5f1e-4ae3-a6bf-1f3806e83f27",
   "metadata": {},
   "outputs": [],
   "source": [
    "t=(10,True,3.2,\"apple\",10)"
   ]
  },
  {
   "cell_type": "code",
   "execution_count": 57,
   "id": "f9f7ccca-f489-4284-b98f-1d622c160188",
   "metadata": {},
   "outputs": [
    {
     "data": {
      "text/plain": [
       "10"
      ]
     },
     "execution_count": 57,
     "metadata": {},
     "output_type": "execute_result"
    }
   ],
   "source": [
    "t[0]"
   ]
  },
  {
   "cell_type": "code",
   "execution_count": 58,
   "id": "292f0c71-4118-417c-9e49-980dfd16c57f",
   "metadata": {},
   "outputs": [
    {
     "data": {
      "text/plain": [
       "(20, 30)"
      ]
     },
     "execution_count": 58,
     "metadata": {},
     "output_type": "execute_result"
    }
   ],
   "source": [
    "t[1:3]"
   ]
  },
  {
   "cell_type": "code",
   "execution_count": 59,
   "id": "1e1f6018-a643-4e8e-a87b-311ce178b495",
   "metadata": {},
   "outputs": [
    {
     "name": "stdout",
     "output_type": "stream",
     "text": [
      "10\n",
      "20\n",
      "30\n"
     ]
    }
   ],
   "source": [
    "for i in t:\n",
    "    print(i)"
   ]
  },
  {
   "cell_type": "code",
   "execution_count": 61,
   "id": "f7217c02-f93a-4dc4-9d3c-90b3a71c10ae",
   "metadata": {},
   "outputs": [
    {
     "name": "stdout",
     "output_type": "stream",
     "text": [
      "(('Ram', 40), ('Sham', 30), ('Susil', 30))\n"
     ]
    }
   ],
   "source": [
    "t=(('Ram',40),('Sham',30),('Susil',30))\n",
    "print(t)"
   ]
  },
  {
   "cell_type": "code",
   "execution_count": 66,
   "id": "53585e8c-09c8-444b-a751-3648d009a118",
   "metadata": {},
   "outputs": [
    {
     "name": "stdout",
     "output_type": "stream",
     "text": [
      "Ram : 40\n",
      "Sham : 30\n",
      "Susil : 30\n"
     ]
    }
   ],
   "source": [
    "for k, v in t:\n",
    "    print(k,\":\",v)"
   ]
  },
  {
   "cell_type": "code",
   "execution_count": 26,
   "id": "58c71375-c9c7-4837-b930-570dae8388eb",
   "metadata": {},
   "outputs": [
    {
     "data": {
      "text/plain": [
       "(('ram', 30), ('sham', 40), ('sunil', 20))"
      ]
     },
     "execution_count": 26,
     "metadata": {},
     "output_type": "execute_result"
    }
   ],
   "source": [
    "t"
   ]
  },
  {
   "cell_type": "code",
   "execution_count": 27,
   "id": "8793d8de-3ff1-4711-a52b-adc37d848e95",
   "metadata": {},
   "outputs": [
    {
     "data": {
      "text/plain": [
       "('ram', 30)"
      ]
     },
     "execution_count": 27,
     "metadata": {},
     "output_type": "execute_result"
    }
   ],
   "source": [
    "t[0]"
   ]
  },
  {
   "cell_type": "code",
   "execution_count": 37,
   "id": "d6e5a642-ee83-4cae-a763-40cabc9b8d61",
   "metadata": {},
   "outputs": [
    {
     "name": "stdout",
     "output_type": "stream",
     "text": [
      "Name : ram\n",
      "Age : 30\n",
      "Name : sham\n",
      "Age : 40\n",
      "Name : sunil\n",
      "Age : 20\n"
     ]
    }
   ],
   "source": [
    "t=((\"ram\",30),(\"sham\",40),(\"sunil\",20))\n",
    "for i in range(len(t)):\n",
    "    for j in range(len(t[i])):\n",
    "        if j ==0:\n",
    "            print(f\"Name : {t[i][j]}\")\n",
    "        else:\n",
    "            print(f\"Age : {t[i][j]}\")\n",
    "        "
   ]
  },
  {
   "cell_type": "code",
   "execution_count": 73,
   "id": "6faf80fe-c194-4939-8547-67f59ad8d7e5",
   "metadata": {},
   "outputs": [],
   "source": [
    "# t=((\"ram\",30),(\"sham\",40),(\"sunil\",20))\n",
    "# for k,v  in t:\n",
    "#     print(f\"Name : {k}\")\n",
    "#     print(f\"Age  : {v}\")"
   ]
  },
  {
   "cell_type": "code",
   "execution_count": 40,
   "id": "b8ff8724-5a8f-4f75-96ae-22d2ce325a27",
   "metadata": {},
   "outputs": [
    {
     "data": {
      "text/plain": [
       "1"
      ]
     },
     "execution_count": 40,
     "metadata": {},
     "output_type": "execute_result"
    }
   ],
   "source": [
    "t=(10,20,30,40)\n",
    "t.count(10)"
   ]
  },
  {
   "cell_type": "code",
   "execution_count": 76,
   "id": "c604ccc3-0d83-4745-a227-1c1ecc2e6a0a",
   "metadata": {},
   "outputs": [
    {
     "name": "stdout",
     "output_type": "stream",
     "text": [
      "('praveen', 'sham', 'susil', 'ram')\n"
     ]
    }
   ],
   "source": [
    "t=(\"ram\",\"sham\",\"susil\",\"praveen\")\n",
    "swap_t =(t[-1],) + t[1:-1] +(t[0],)\n",
    "print(swap_t)"
   ]
  },
  {
   "cell_type": "code",
   "execution_count": 80,
   "id": "619f3237-2820-4bc8-84f6-b0e52e439ee5",
   "metadata": {},
   "outputs": [
    {
     "name": "stdout",
     "output_type": "stream",
     "text": [
      "[(1, 1), (4, 4)]\n"
     ]
    }
   ],
   "source": [
    "t=((1,2),(1,1),(2,3),(4,4))\n",
    "t_pair= [ x for x in t if x[0]==x[1]]\n",
    "print(t_pair)\n"
   ]
  },
  {
   "cell_type": "code",
   "execution_count": 39,
   "id": "d5df970b-edc8-40c0-9afb-ae6fcd1d1953",
   "metadata": {},
   "outputs": [
    {
     "data": {
      "text/plain": [
       "1"
      ]
     },
     "execution_count": 39,
     "metadata": {},
     "output_type": "execute_result"
    }
   ],
   "source": [
    "t.index(20)"
   ]
  },
  {
   "cell_type": "code",
   "execution_count": 87,
   "id": "22d2ca05-02b5-4e03-ac68-01310857c2d9",
   "metadata": {},
   "outputs": [
    {
     "name": "stdout",
     "output_type": "stream",
     "text": [
      "[10, 20, 30, 40]\n"
     ]
    }
   ],
   "source": [
    "t = (10, 20, 30, 40,10)\n",
    "t=sorted(tuple(set(t)))\n",
    "print(t)"
   ]
  },
  {
   "cell_type": "code",
   "execution_count": 55,
   "id": "96ee3760-02a8-42bc-a6d6-6ff2a13c0b97",
   "metadata": {},
   "outputs": [
    {
     "name": "stdout",
     "output_type": "stream",
     "text": [
      "('a', True, 3.14)\n"
     ]
    }
   ],
   "source": [
    "t2 = \"a\", True, 3.14 \n",
    "print(t2)"
   ]
  },
  {
   "cell_type": "code",
   "execution_count": 88,
   "id": "d5e8bf2c-57b7-4cb1-b7f3-8ca81e2f6f08",
   "metadata": {},
   "outputs": [
    {
     "name": "stdout",
     "output_type": "stream",
     "text": [
      "[(1, 2), (3, 4), (5, 6)]\n"
     ]
    }
   ],
   "source": [
    "data = [(1, 2), (3, 4), (1, 2), (5, 6)]\n",
    "unique = list(set(data))\n",
    "print(unique) \n"
   ]
  },
  {
   "cell_type": "code",
   "execution_count": 90,
   "id": "f3af7945-7cfa-4947-80b6-1475bc13e09b",
   "metadata": {},
   "outputs": [
    {
     "data": {
      "text/plain": [
       "(1, 2, 3, 4, 5, 6, 7, 8, 9)"
      ]
     },
     "execution_count": 90,
     "metadata": {},
     "output_type": "execute_result"
    }
   ],
   "source": [
    "x=tuple(x for x in range(1,10))\n",
    "x"
   ]
  },
  {
   "cell_type": "code",
   "execution_count": 92,
   "id": "75a88c61-8405-413a-8e08-0baa8234aee9",
   "metadata": {},
   "outputs": [
    {
     "name": "stdout",
     "output_type": "stream",
     "text": [
      "(1, 2, 3, 4, 6, 5, 6, 1, 2, 2)\n"
     ]
    }
   ],
   "source": [
    "t = ((1, 2), (3, 4,6), (5, 6,1,2,2))\n",
    "flat = tuple(x for pair in t for x in pair)\n",
    "print(flat)"
   ]
  },
  {
   "cell_type": "code",
   "execution_count": 59,
   "id": "a5116ac7-eb16-4b57-8be1-55533d9e0e6f",
   "metadata": {},
   "outputs": [
    {
     "name": "stdout",
     "output_type": "stream",
     "text": [
      "((1, 1), (4, 4))\n"
     ]
    }
   ],
   "source": [
    "data = [(1, 1), (2, 3), (4, 4), (5, 6)]\n",
    "result = tuple(t for t in data if t[0] == t[1])\n",
    "print(result) "
   ]
  },
  {
   "cell_type": "code",
   "execution_count": 61,
   "id": "7705bd41-55b4-4820-a9d3-5a0738338d34",
   "metadata": {},
   "outputs": [
    {
     "name": "stdout",
     "output_type": "stream",
     "text": [
      "a b a\n"
     ]
    }
   ],
   "source": [
    "#Tuple Unpacking\n",
    "t = (\"a\", \"b\", \"c\")\n",
    "x, y, z = t\n",
    "print(x, y, x)"
   ]
  },
  {
   "cell_type": "code",
   "execution_count": 64,
   "id": "b9264ee3-8f33-494e-bc06-0cda79c6c80b",
   "metadata": {},
   "outputs": [],
   "source": [
    "tpl =\"ram\",\"sham\",\"sundar\""
   ]
  },
  {
   "cell_type": "code",
   "execution_count": 68,
   "id": "ac6d365e-0395-48f0-baf7-17712803d508",
   "metadata": {},
   "outputs": [],
   "source": [
    "x =(10,)"
   ]
  },
  {
   "cell_type": "code",
   "execution_count": 69,
   "id": "8464a962-830f-4a9b-a790-b9d7ddb41ae9",
   "metadata": {},
   "outputs": [
    {
     "data": {
      "text/plain": [
       "tuple"
      ]
     },
     "execution_count": 69,
     "metadata": {},
     "output_type": "execute_result"
    }
   ],
   "source": [
    "type(x)"
   ]
  },
  {
   "cell_type": "code",
   "execution_count": 65,
   "id": "e4f9f4cf-f15a-4fa0-9788-94fa84a57fb1",
   "metadata": {},
   "outputs": [
    {
     "data": {
      "text/plain": [
       "('ram', 'sham', 'sundar')"
      ]
     },
     "execution_count": 65,
     "metadata": {},
     "output_type": "execute_result"
    }
   ],
   "source": [
    "tpl"
   ]
  },
  {
   "cell_type": "code",
   "execution_count": null,
   "id": "aef1a70c-bd20-4be1-8eff-11014b4ba7ed",
   "metadata": {},
   "outputs": [],
   "source": [
    "# Sort a List of Tuples by Second Item\n",
    "# data = [(1, 3), (2, 2), (3, 1)]\n",
    "# sorted_data = sorted(data, key=lambda x: x[1])\n",
    "# print(sorted_data) "
   ]
  },
  {
   "cell_type": "code",
   "execution_count": null,
   "id": "baa17415-02f0-4cbf-9a5f-6044f937ef33",
   "metadata": {},
   "outputs": [],
   "source": []
  },
  {
   "cell_type": "code",
   "execution_count": null,
   "id": "b59a9215-9419-4a81-b411-2c1c8bb11813",
   "metadata": {},
   "outputs": [],
   "source": [
    "# names = [\"Alice\", \"Bob\"]\n",
    "# scores = [85, 90]\n",
    "# zipped = list(zip(names, scores))\n",
    "# print(zipped)  # Output: [('Alice', 85), ('Bob', 90)]"
   ]
  },
  {
   "cell_type": "code",
   "execution_count": 110,
   "id": "9933170b-7ca1-420e-b670-bb2542d8572c",
   "metadata": {},
   "outputs": [
    {
     "name": "stdout",
     "output_type": "stream",
     "text": [
      "10\n",
      "20\n",
      "30\n",
      "40\n"
     ]
    }
   ],
   "source": [
    "from collections import namedtuple\n",
    "\n",
    "Point = namedtuple(\"Point\", [\"x\", \"y\"])\n",
    "\n",
    "p = Point(10, 20)\n",
    "print(p.x)  \n",
    "print(p.y)  \n",
    "\n",
    "# p1 =Point(30,40)\n",
    "# print(p1.x)\n",
    "# print(p1.y)\n",
    "\n"
   ]
  },
  {
   "cell_type": "code",
   "execution_count": 72,
   "id": "0205f46d-3a53-4d1b-96fa-823e38591b08",
   "metadata": {},
   "outputs": [
    {
     "name": "stdout",
     "output_type": "stream",
     "text": [
      "Alice\n",
      "30\n",
      "Female\n"
     ]
    }
   ],
   "source": [
    "from collections import namedtuple\n",
    "\n",
    "Person = namedtuple(\"Person\", [\"name\", \"age\", \"gender\"])\n",
    "p = Person(\"Alice\", 30, \"Female\")\n",
    "\n",
    "print(p.name)   \n",
    "print(p.age)    \n",
    "print(p.gender)     \n",
    "\n"
   ]
  },
  {
   "cell_type": "code",
   "execution_count": 116,
   "id": "7532a412-bf09-40b3-be67-261c63e3f0ef",
   "metadata": {},
   "outputs": [
    {
     "name": "stdout",
     "output_type": "stream",
     "text": [
      "2\n",
      "0\n"
     ]
    }
   ],
   "source": [
    "t=(10,20,30,10)\n",
    "print(t.count(10))\n",
    "print(t.index(10))"
   ]
  },
  {
   "cell_type": "code",
   "execution_count": 117,
   "id": "f23130e7-c72c-427e-b6a5-11ecd263247f",
   "metadata": {},
   "outputs": [
    {
     "name": "stdout",
     "output_type": "stream",
     "text": [
      "{10, 20, 30}\n"
     ]
    }
   ],
   "source": [
    "s1={10,20,30}\n",
    "print(s1)"
   ]
  },
  {
   "cell_type": "code",
   "execution_count": 118,
   "id": "28de527b-7409-4bf7-bdae-600739f20eb2",
   "metadata": {},
   "outputs": [],
   "source": [
    "s2={10,\"ram\",\"sham\",\"ram\"}"
   ]
  },
  {
   "cell_type": "code",
   "execution_count": 113,
   "id": "dbc97391-151c-460e-bdcc-16e266f4c7e7",
   "metadata": {},
   "outputs": [
    {
     "name": "stdout",
     "output_type": "stream",
     "text": [
      "{'ram', 10, 'sham'}\n"
     ]
    }
   ],
   "source": [
    "print(s2)"
   ]
  },
  {
   "cell_type": "code",
   "execution_count": 119,
   "id": "b4cabdc6-3fbb-4023-a141-3ac00ddcbb09",
   "metadata": {},
   "outputs": [],
   "source": [
    "s3=set([10,20,30])"
   ]
  },
  {
   "cell_type": "code",
   "execution_count": 120,
   "id": "7b622544-505e-4e35-862f-829a74db4c0d",
   "metadata": {},
   "outputs": [
    {
     "ename": "TypeError",
     "evalue": "'set' object is not subscriptable",
     "output_type": "error",
     "traceback": [
      "\u001b[31m---------------------------------------------------------------------------\u001b[39m",
      "\u001b[31mTypeError\u001b[39m                                 Traceback (most recent call last)",
      "\u001b[36mCell\u001b[39m\u001b[36m \u001b[39m\u001b[32mIn[120]\u001b[39m\u001b[32m, line 1\u001b[39m\n\u001b[32m----> \u001b[39m\u001b[32m1\u001b[39m \u001b[43ms3\u001b[49m\u001b[43m[\u001b[49m\u001b[32;43m0\u001b[39;49m\u001b[43m]\u001b[49m\n",
      "\u001b[31mTypeError\u001b[39m: 'set' object is not subscriptable"
     ]
    }
   ],
   "source": [
    "s3[0]"
   ]
  },
  {
   "cell_type": "code",
   "execution_count": 81,
   "id": "ead68fd1-67fa-4a0f-b32f-ab4cf765b345",
   "metadata": {},
   "outputs": [
    {
     "name": "stdout",
     "output_type": "stream",
     "text": [
      "10\n",
      "20\n",
      "30\n"
     ]
    }
   ],
   "source": [
    "for i in s3:\n",
    "    print(i)\n"
   ]
  },
  {
   "cell_type": "code",
   "execution_count": 121,
   "id": "b39f6440-8368-4c03-bd68-89a5f68a0727",
   "metadata": {},
   "outputs": [],
   "source": [
    "s3.add(\"Susil\")"
   ]
  },
  {
   "cell_type": "code",
   "execution_count": 123,
   "id": "fc2dee19-8a36-4fee-9471-72f367dc4842",
   "metadata": {},
   "outputs": [
    {
     "data": {
      "text/plain": [
       "{10, 20, 30, 'Susil'}"
      ]
     },
     "execution_count": 123,
     "metadata": {},
     "output_type": "execute_result"
    }
   ],
   "source": [
    "s3"
   ]
  },
  {
   "cell_type": "code",
   "execution_count": 125,
   "id": "5fea8504-7495-4f31-893e-6dc8f6680929",
   "metadata": {},
   "outputs": [
    {
     "ename": "KeyError",
     "evalue": "'Susil'",
     "output_type": "error",
     "traceback": [
      "\u001b[31m---------------------------------------------------------------------------\u001b[39m",
      "\u001b[31mKeyError\u001b[39m                                  Traceback (most recent call last)",
      "\u001b[36mCell\u001b[39m\u001b[36m \u001b[39m\u001b[32mIn[125]\u001b[39m\u001b[32m, line 1\u001b[39m\n\u001b[32m----> \u001b[39m\u001b[32m1\u001b[39m \u001b[43ms3\u001b[49m\u001b[43m.\u001b[49m\u001b[43mremove\u001b[49m\u001b[43m(\u001b[49m\u001b[33;43m\"\u001b[39;49m\u001b[33;43mSusil\u001b[39;49m\u001b[33;43m\"\u001b[39;49m\u001b[43m)\u001b[49m\n",
      "\u001b[31mKeyError\u001b[39m: 'Susil'"
     ]
    }
   ],
   "source": [
    "s3.remove(\"Susil\")"
   ]
  },
  {
   "cell_type": "code",
   "execution_count": 126,
   "id": "11e90b6c-6d34-4fd7-a941-c733efc9428a",
   "metadata": {},
   "outputs": [],
   "source": [
    "s3.discard(\"Sunil\")\n"
   ]
  },
  {
   "cell_type": "code",
   "execution_count": null,
   "id": "bf6eaf68-9439-4121-b096-623bef6cc0d3",
   "metadata": {},
   "outputs": [],
   "source": []
  },
  {
   "cell_type": "code",
   "execution_count": 86,
   "id": "7510bbed-44ff-469b-808a-c9f00bd6085f",
   "metadata": {},
   "outputs": [
    {
     "data": {
      "text/plain": [
       "10"
      ]
     },
     "execution_count": 86,
     "metadata": {},
     "output_type": "execute_result"
    }
   ],
   "source": [
    "s1.pop()"
   ]
  },
  {
   "cell_type": "code",
   "execution_count": 127,
   "id": "ebfdf3c0-5ad9-44ea-b33e-d89468b5e24d",
   "metadata": {},
   "outputs": [
    {
     "name": "stdout",
     "output_type": "stream",
     "text": [
      "{50, 20, 10, 60, 30}\n"
     ]
    }
   ],
   "source": [
    "s1={10,20,30}\n",
    "s2={10,50,60}\n",
    "print(s1|s2)"
   ]
  },
  {
   "cell_type": "code",
   "execution_count": 128,
   "id": "33501541-2066-48d4-acb6-e7181c9ec8e1",
   "metadata": {},
   "outputs": [
    {
     "data": {
      "text/plain": [
       "{10, 20, 30, 50, 60}"
      ]
     },
     "execution_count": 128,
     "metadata": {},
     "output_type": "execute_result"
    }
   ],
   "source": [
    "s1.union(s2)"
   ]
  },
  {
   "cell_type": "code",
   "execution_count": 129,
   "id": "08aea285-6ffd-403d-8699-beb87d4e9e53",
   "metadata": {},
   "outputs": [
    {
     "data": {
      "text/plain": [
       "{10}"
      ]
     },
     "execution_count": 129,
     "metadata": {},
     "output_type": "execute_result"
    }
   ],
   "source": [
    "\n",
    "s1&s2"
   ]
  },
  {
   "cell_type": "code",
   "execution_count": 130,
   "id": "fdaf6c03-aa4c-4f6d-b344-12f54b000dde",
   "metadata": {},
   "outputs": [
    {
     "data": {
      "text/plain": [
       "{10}"
      ]
     },
     "execution_count": 130,
     "metadata": {},
     "output_type": "execute_result"
    }
   ],
   "source": [
    "s1.intersection(s2)"
   ]
  },
  {
   "cell_type": "code",
   "execution_count": 132,
   "id": "52736951-14ad-49d9-9e20-0538047a99ab",
   "metadata": {},
   "outputs": [
    {
     "data": {
      "text/plain": [
       "{50, 60}"
      ]
     },
     "execution_count": 132,
     "metadata": {},
     "output_type": "execute_result"
    }
   ],
   "source": [
    "s2-s1"
   ]
  },
  {
   "cell_type": "code",
   "execution_count": 98,
   "id": "fe9d6ee8-01a2-4da4-936a-2d536d5d215e",
   "metadata": {},
   "outputs": [
    {
     "data": {
      "text/plain": [
       "{20, 30}"
      ]
     },
     "execution_count": 98,
     "metadata": {},
     "output_type": "execute_result"
    }
   ],
   "source": [
    "s1.difference(s2)"
   ]
  },
  {
   "cell_type": "code",
   "execution_count": 133,
   "id": "c088f5b8-9a96-41ff-a338-04cffebe5856",
   "metadata": {},
   "outputs": [
    {
     "name": "stdout",
     "output_type": "stream",
     "text": [
      "{50, 20, 10, 60, 30}\n"
     ]
    }
   ],
   "source": [
    "s1.update(s2)\n",
    "print(s1)"
   ]
  },
  {
   "cell_type": "code",
   "execution_count": 137,
   "id": "f9f104b5-a050-4ed2-88e4-8431ed57d1e6",
   "metadata": {},
   "outputs": [],
   "source": [
    "s1={10,20,30}\n",
    "s2={10,20,40}\n",
    "s1.intersection_update(s2)"
   ]
  },
  {
   "cell_type": "code",
   "execution_count": 138,
   "id": "7350bc23-b4e1-479b-806f-757d029d1df6",
   "metadata": {},
   "outputs": [
    {
     "data": {
      "text/plain": [
       "{10, 20}"
      ]
     },
     "execution_count": 138,
     "metadata": {},
     "output_type": "execute_result"
    }
   ],
   "source": [
    "s1"
   ]
  },
  {
   "cell_type": "code",
   "execution_count": 145,
   "id": "de26d339-1465-4e53-9bfe-38f69b0f5641",
   "metadata": {},
   "outputs": [
    {
     "data": {
      "text/plain": [
       "True"
      ]
     },
     "execution_count": 145,
     "metadata": {},
     "output_type": "execute_result"
    }
   ],
   "source": [
    "s1={10,20,30,10}\n",
    "s2={10,20,30}\n",
    "s1.issubset(s2)"
   ]
  },
  {
   "cell_type": "code",
   "execution_count": 146,
   "id": "eb361673-675e-4def-a891-f9d4ed5b57ac",
   "metadata": {},
   "outputs": [
    {
     "data": {
      "text/plain": [
       "False"
      ]
     },
     "execution_count": 146,
     "metadata": {},
     "output_type": "execute_result"
    }
   ],
   "source": [
    "s1.isdisjoint(s2)"
   ]
  },
  {
   "cell_type": "code",
   "execution_count": 147,
   "id": "c7ae6a66-4bbf-4f5a-8262-c9ff12ec0178",
   "metadata": {},
   "outputs": [],
   "source": [
    "dis={\"Name\":\"Ram\",\"Age\":20,\"City\":\"Chennai\"}"
   ]
  },
  {
   "cell_type": "code",
   "execution_count": 148,
   "id": "d8096157-2790-4747-90a6-0a6762b0cb44",
   "metadata": {},
   "outputs": [
    {
     "name": "stdout",
     "output_type": "stream",
     "text": [
      "{'Name': 'Ram', 'Age': 20, 'City': 'Chennai'}\n"
     ]
    }
   ],
   "source": [
    "print(dis)"
   ]
  },
  {
   "cell_type": "code",
   "execution_count": 109,
   "id": "b7c46028-3b17-4069-b1ae-10d9faf1f855",
   "metadata": {},
   "outputs": [
    {
     "data": {
      "text/plain": [
       "'Ram'"
      ]
     },
     "execution_count": 109,
     "metadata": {},
     "output_type": "execute_result"
    }
   ],
   "source": [
    "dis[\"Name\"]"
   ]
  },
  {
   "cell_type": "code",
   "execution_count": 110,
   "id": "6837abde-0cc5-4f2c-92e8-948c94a8394e",
   "metadata": {},
   "outputs": [
    {
     "data": {
      "text/plain": [
       "'Ram'"
      ]
     },
     "execution_count": 110,
     "metadata": {},
     "output_type": "execute_result"
    }
   ],
   "source": [
    "dis.get(\"Name\")"
   ]
  },
  {
   "cell_type": "code",
   "execution_count": 151,
   "id": "f1ba9671-ea22-441b-94ea-ff784bbf57e9",
   "metadata": {},
   "outputs": [],
   "source": [
    "dis[\"email\"]=\"Praveen@gmail.com\""
   ]
  },
  {
   "cell_type": "code",
   "execution_count": 152,
   "id": "c0bafe74-1dc8-4a4d-a40b-75fdce17f649",
   "metadata": {},
   "outputs": [
    {
     "data": {
      "text/plain": [
       "{'Name': 'Praveen', 'Age': 20, 'City': 'Chennai', 'email': 'Praveen@gmail.com'}"
      ]
     },
     "execution_count": 152,
     "metadata": {},
     "output_type": "execute_result"
    }
   ],
   "source": [
    "dis"
   ]
  },
  {
   "cell_type": "code",
   "execution_count": 113,
   "id": "6bf537d9-28f8-49ac-99a1-e343e0327db4",
   "metadata": {},
   "outputs": [],
   "source": [
    "dis[\"Pin\"]=600059"
   ]
  },
  {
   "cell_type": "code",
   "execution_count": 114,
   "id": "ce8cb717-69ff-4272-9bbd-0af59589d139",
   "metadata": {},
   "outputs": [
    {
     "data": {
      "text/plain": [
       "{'Name': 'Praveen', 'Age': 20, 'City': 'Chennai', 'Pin': 600059}"
      ]
     },
     "execution_count": 114,
     "metadata": {},
     "output_type": "execute_result"
    }
   ],
   "source": [
    "dis"
   ]
  },
  {
   "cell_type": "code",
   "execution_count": 153,
   "id": "c6280627-f600-43fb-b943-2a8ec8b86b26",
   "metadata": {},
   "outputs": [],
   "source": [
    "dis.update({\"Name\":\"Ram\"})"
   ]
  },
  {
   "cell_type": "code",
   "execution_count": 154,
   "id": "84704723-c5ca-4d25-bd53-5e8b903e0cb6",
   "metadata": {},
   "outputs": [
    {
     "data": {
      "text/plain": [
       "{'Name': 'Ram', 'Age': 20, 'City': 'Chennai', 'email': 'Praveen@gmail.com'}"
      ]
     },
     "execution_count": 154,
     "metadata": {},
     "output_type": "execute_result"
    }
   ],
   "source": [
    "dis"
   ]
  },
  {
   "cell_type": "code",
   "execution_count": 155,
   "id": "a4838f67-5934-4fc4-a552-8f6ccfbb262b",
   "metadata": {},
   "outputs": [
    {
     "data": {
      "text/plain": [
       "dict_keys(['Name', 'Age', 'City', 'email'])"
      ]
     },
     "execution_count": 155,
     "metadata": {},
     "output_type": "execute_result"
    }
   ],
   "source": [
    "dis.keys()"
   ]
  },
  {
   "cell_type": "code",
   "execution_count": 156,
   "id": "fc811a33-5a46-40d5-9a1e-1d9667efcad7",
   "metadata": {},
   "outputs": [
    {
     "data": {
      "text/plain": [
       "dict_values(['Ram', 20, 'Chennai', 'Praveen@gmail.com'])"
      ]
     },
     "execution_count": 156,
     "metadata": {},
     "output_type": "execute_result"
    }
   ],
   "source": [
    "dis.values()"
   ]
  },
  {
   "cell_type": "code",
   "execution_count": 157,
   "id": "8e9628bb-e6f7-4ffc-876b-e2677ce753bb",
   "metadata": {},
   "outputs": [
    {
     "data": {
      "text/plain": [
       "dict_items([('Name', 'Ram'), ('Age', 20), ('City', 'Chennai'), ('email', 'Praveen@gmail.com')])"
      ]
     },
     "execution_count": 157,
     "metadata": {},
     "output_type": "execute_result"
    }
   ],
   "source": [
    "dis.items()"
   ]
  },
  {
   "cell_type": "code",
   "execution_count": 160,
   "id": "cfc89cdf-3a7d-4708-87eb-1c78d20adcd5",
   "metadata": {},
   "outputs": [
    {
     "name": "stdout",
     "output_type": "stream",
     "text": [
      "Name : Ram\n",
      "Age : 20\n",
      "City : Chennai\n",
      "email : Praveen@gmail.com\n"
     ]
    }
   ],
   "source": [
    "for i in dis.keys():\n",
    "   print(i, \":\",dis.get(i))"
   ]
  },
  {
   "cell_type": "code",
   "execution_count": 161,
   "id": "5c0c9f0c-f455-4913-994f-478469bbcc03",
   "metadata": {},
   "outputs": [
    {
     "name": "stdout",
     "output_type": "stream",
     "text": [
      "Name : Ram\n",
      "Age : 20\n",
      "City : Chennai\n",
      "email : Praveen@gmail.com\n"
     ]
    }
   ],
   "source": [
    "for k,v in dis.items():\n",
    "    print(k,\":\",v)\n"
   ]
  },
  {
   "cell_type": "code",
   "execution_count": 163,
   "id": "5624b41c-3832-4486-b763-ae0a1c71001f",
   "metadata": {},
   "outputs": [
    {
     "data": {
      "text/plain": [
       "{'Age': 20, 'City': 'Chennai', 'email': 'Praveen@gmail.com'}"
      ]
     },
     "execution_count": 163,
     "metadata": {},
     "output_type": "execute_result"
    }
   ],
   "source": [
    "dis"
   ]
  },
  {
   "cell_type": "code",
   "execution_count": 164,
   "id": "837eadf5-5ba0-49b8-a04f-5c7fe40adefa",
   "metadata": {},
   "outputs": [
    {
     "data": {
      "text/plain": [
       "('email', 'Praveen@gmail.com')"
      ]
     },
     "execution_count": 164,
     "metadata": {},
     "output_type": "execute_result"
    }
   ],
   "source": [
    "dis.popitem()"
   ]
  },
  {
   "cell_type": "code",
   "execution_count": 165,
   "id": "8216a3d4-2385-4225-bae9-41c2421990ae",
   "metadata": {},
   "outputs": [
    {
     "data": {
      "text/plain": [
       "{'key1': 0, 'key2': 0, 'key3': 0}"
      ]
     },
     "execution_count": 165,
     "metadata": {},
     "output_type": "execute_result"
    }
   ],
   "source": [
    "k=[\"key1\",\"key2\",\"key3\"]\n",
    "v=0\n",
    "dis = dict.fromkeys(k,v)\n",
    "dis"
   ]
  },
  {
   "cell_type": "code",
   "execution_count": 139,
   "id": "83c7556f-b79b-4c17-b484-18009b94012e",
   "metadata": {},
   "outputs": [
    {
     "data": {
      "text/plain": [
       "{'key1': 0, 'key2': 0, 'key3': 0}"
      ]
     },
     "execution_count": 139,
     "metadata": {},
     "output_type": "execute_result"
    }
   ],
   "source": [
    "dis"
   ]
  },
  {
   "cell_type": "code",
   "execution_count": 166,
   "id": "f4a6d1c9-3c51-4ca5-a0f1-3c5585d815f6",
   "metadata": {},
   "outputs": [
    {
     "name": "stdout",
     "output_type": "stream",
     "text": [
      "{'key1': 0, 'key2': 0, 'key3': 0}\n"
     ]
    }
   ],
   "source": [
    "x =dis.copy()\n",
    "print(x)"
   ]
  },
  {
   "cell_type": "code",
   "execution_count": 168,
   "id": "66d23f81-ae0c-4977-8bed-91c4db1db985",
   "metadata": {},
   "outputs": [],
   "source": [
    "nested_dis ={\"Name\":\"Ram\",\"Age\":30,\"Lang\":{\"First_Lang\":\"Tamil\",\"Second_Lang\":\"English\"}}"
   ]
  },
  {
   "cell_type": "code",
   "execution_count": 169,
   "id": "02865015-064c-4de8-8540-b5840d7d0db9",
   "metadata": {},
   "outputs": [
    {
     "data": {
      "text/plain": [
       "{'Name': 'Ram',\n",
       " 'Age': 30,\n",
       " 'Lang': {'First_Lang': 'Tamil', 'Second_Lang': 'English'}}"
      ]
     },
     "execution_count": 169,
     "metadata": {},
     "output_type": "execute_result"
    }
   ],
   "source": [
    "nested_dis"
   ]
  },
  {
   "cell_type": "code",
   "execution_count": 170,
   "id": "4edcfd88-2bae-4ab9-8cd6-8ecb8f25646b",
   "metadata": {},
   "outputs": [
    {
     "name": "stdout",
     "output_type": "stream",
     "text": [
      "Tamil\n",
      "English\n"
     ]
    }
   ],
   "source": [
    "print(nested_dis[\"Lang\"][\"First_Lang\"])\n",
    "print(nested_dis[\"Lang\"][\"Second_Lang\"])"
   ]
  },
  {
   "cell_type": "code",
   "execution_count": null,
   "id": "f2454d81-3820-4c85-a58e-0430b3442f6e",
   "metadata": {},
   "outputs": [],
   "source": []
  }
 ],
 "metadata": {
  "kernelspec": {
   "display_name": "Python 3 (ipykernel)",
   "language": "python",
   "name": "python3"
  },
  "language_info": {
   "codemirror_mode": {
    "name": "ipython",
    "version": 3
   },
   "file_extension": ".py",
   "mimetype": "text/x-python",
   "name": "python",
   "nbconvert_exporter": "python",
   "pygments_lexer": "ipython3",
   "version": "3.12.10"
  }
 },
 "nbformat": 4,
 "nbformat_minor": 5
}

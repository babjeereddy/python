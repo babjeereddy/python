{
 "cells": [
  {
   "cell_type": "code",
   "execution_count": 3,
   "id": "a2a5ffa3-b8e2-4148-8dec-f012d0f1add1",
   "metadata": {},
   "outputs": [
    {
     "name": "stdin",
     "output_type": "stream",
     "text": [
      "Enter Your age 10\n"
     ]
    },
    {
     "name": "stdout",
     "output_type": "stream",
     "text": [
      "End of the code\n"
     ]
    }
   ],
   "source": [
    "age=int(input(\"Enter Your age\"))\n",
    "if age >=18:\n",
    "    print(\"You are eligible for vote\")\n",
    "print(\"End of the code\")"
   ]
  },
  {
   "cell_type": "code",
   "execution_count": 4,
   "id": "8325a017-2fb8-42db-a2c6-8f5ec2b425a0",
   "metadata": {},
   "outputs": [
    {
     "name": "stdin",
     "output_type": "stream",
     "text": [
      "Enter Your age 10\n"
     ]
    },
    {
     "name": "stdout",
     "output_type": "stream",
     "text": [
      "You are not eligible for vote\n",
      "End of the code\n"
     ]
    }
   ],
   "source": [
    "age=int(input(\"Enter Your age\"))\n",
    "if age >=18:\n",
    "    print(\"You are eligible for vote\")\n",
    "else:\n",
    "    print(\"You are not eligible for vote\")\n",
    "print(\"End of the code\")"
   ]
  },
  {
   "cell_type": "code",
   "execution_count": 6,
   "id": "2556476f-86bc-437f-a575-3cb3281ef5ec",
   "metadata": {},
   "outputs": [
    {
     "name": "stdout",
     "output_type": "stream",
     "text": [
      "your are eligible for vote\n"
     ]
    }
   ],
   "source": [
    "age =20\n",
    "if age >=18:print(\"your are eligible for vote\")\n",
    "else:print(\"you are not eligible for vote\")"
   ]
  },
  {
   "cell_type": "code",
   "execution_count": 9,
   "id": "fb4d34fe-4af9-40a3-889e-3d5b4d94d1d5",
   "metadata": {},
   "outputs": [
    {
     "name": "stdin",
     "output_type": "stream",
     "text": [
      "Enter Number of your choice\n",
      " 5\n"
     ]
    },
    {
     "name": "stdout",
     "output_type": "stream",
     "text": [
      "5 is odd number\n"
     ]
    }
   ],
   "source": [
    "number=int(input(\"Enter Number of your choice\\n\"))\n",
    "if number%2==0:print(f\"{number} is even number\")\n",
    "else:print(f\"{number} is odd number\")"
   ]
  },
  {
   "cell_type": "code",
   "execution_count": 11,
   "id": "c2da209c-c2bb-4b9d-8982-2c162fff00c6",
   "metadata": {},
   "outputs": [
    {
     "name": "stdin",
     "output_type": "stream",
     "text": [
      "Enter Your Salary 100000\n"
     ]
    },
    {
     "name": "stdout",
     "output_type": "stream",
     "text": [
      "Excelent Salary\n"
     ]
    }
   ],
   "source": [
    "salary=int(input(\"Enter Your Salary\"))\n",
    "if salary >=100000:\n",
    "    print(\"Excelent Salary\")\n",
    "elif salary >=50000:\n",
    "    print(\"Good Slary\")\n",
    "elif salary >=30000:\n",
    "    print(\"Average Salary\")\n",
    "else :\n",
    "    print(\"Poor Salary\")"
   ]
  },
  {
   "cell_type": "code",
   "execution_count": 13,
   "id": "21a82a64-cd20-4fb3-a74e-3ee339c95b49",
   "metadata": {},
   "outputs": [
    {
     "name": "stdin",
     "output_type": "stream",
     "text": [
      "Enter Bill Amount 2000\n"
     ]
    },
    {
     "name": "stdout",
     "output_type": "stream",
     "text": [
      "Bill Amount: 2000 Discount: 40.0 Final Amount: 1960.0\n"
     ]
    }
   ],
   "source": [
    "billamount =int(input(\"Enter Bill Amount\"))\n",
    "finalamount=0\n",
    "discount=0\n",
    "if billamount >=10000:\n",
    "    discount = billamount * 0.1\n",
    "elif billamount >=5000:\n",
    "    discount = billamount * 0.05\n",
    "else:\n",
    "    discount =billamount * 0.02\n",
    "print(f\"Bill Amount: {billamount} Discount: {discount} Final Amount: {billamount-discount}\") \n",
    "    "
   ]
  },
  {
   "cell_type": "code",
   "execution_count": 18,
   "id": "9f3ced65-a72c-4924-99e7-d232fb4787ef",
   "metadata": {},
   "outputs": [
    {
     "name": "stdin",
     "output_type": "stream",
     "text": [
      "Enter your age 19\n"
     ]
    },
    {
     "name": "stdout",
     "output_type": "stream",
     "text": [
      "You are Eligible for Drive\n"
     ]
    },
    {
     "name": "stdin",
     "output_type": "stream",
     "text": [
      "Do you have Valid license Y/N N\n"
     ]
    },
    {
     "name": "stdout",
     "output_type": "stream",
     "text": [
      "You dont have valid license\n"
     ]
    }
   ],
   "source": [
    "age =int(input(\"Enter your age\"))\n",
    "if age >18:\n",
    "    print(\"You are Eligible for Drive\")\n",
    "    license=input(\"Do you have Valid license Y/N\")\n",
    "    if license=='Y':\n",
    "        print(\"You have valid license\")\n",
    "    else:\n",
    "        print(\"You dont have valid license\")\n",
    "else:\n",
    "    print(\"You are not eligible for Drive\")\n",
    "\n",
    "    "
   ]
  },
  {
   "cell_type": "code",
   "execution_count": 24,
   "id": "1e324740-82b2-4195-a295-c59e51c0761c",
   "metadata": {},
   "outputs": [
    {
     "name": "stdout",
     "output_type": "stream",
     "text": [
      "Welcome to Roller Coster\n"
     ]
    },
    {
     "name": "stdin",
     "output_type": "stream",
     "text": [
      "Enter Your hight in cm 121\n"
     ]
    },
    {
     "name": "stdout",
     "output_type": "stream",
     "text": [
      "You are Eligible for ride roller coster\n"
     ]
    },
    {
     "name": "stdin",
     "output_type": "stream",
     "text": [
      "Enter Yor age 13\n",
      "Do you need selfy y/n Y\n"
     ]
    },
    {
     "name": "stdout",
     "output_type": "stream",
     "text": [
      "Total Amount $14\n"
     ]
    }
   ],
   "source": [
    "print(\"Welcome to Roller Coster\")\n",
    "hight = int(input(\"Enter Your hight in cm\"))\n",
    "if hight > 120:\n",
    "    print(\"You are Eligible for ride roller coster\")\n",
    "    age =int(input(\"Enter Yor age\"))\n",
    "    selfy = input(\"Do you need selfy y/n\")\n",
    "    amount =0\n",
    "    if age > 12:\n",
    "        amount=12\n",
    "        if selfy==\"Y\":\n",
    "            amount+=2              \n",
    "    else:\n",
    "        amount=7\n",
    "        if selfy==\"Y\":\n",
    "            amount+=1\n",
    "    print(f\"Total Amount ${amount}\")\n",
    "else:\n",
    "    print(\"You are not eligible for ride roller coster\")\n",
    "    \n",
    "    \n",
    "    \n",
    "        \n",
    "    \n",
    "    \n",
    "        \n",
    "    \n",
    "    \n",
    "        \n",
    "    "
   ]
  },
  {
   "cell_type": "code",
   "execution_count": 26,
   "id": "3a2be935-b6f9-42da-8440-a41ee2fed2c1",
   "metadata": {},
   "outputs": [
    {
     "name": "stdin",
     "output_type": "stream",
     "text": [
      "Enter Your Salary 100000\n",
      "Enter No of Car You own 2\n"
     ]
    },
    {
     "name": "stdout",
     "output_type": "stream",
     "text": [
      "Elight Customer\n"
     ]
    }
   ],
   "source": [
    "slary=int(input(\"Enter Your Salary\"))\n",
    "cars=int(input(\"Enter No of Car You own\"))\n",
    "if salary >=100000 and cars >=2:\n",
    "    print(\"Elight Customer\")\n",
    "else:\n",
    "    print(\"Normal Customer\")"
   ]
  },
  {
   "cell_type": "code",
   "execution_count": 35,
   "id": "3897e5b9-82c8-4909-8426-4c56cd586a20",
   "metadata": {},
   "outputs": [
    {
     "name": "stdout",
     "output_type": "stream",
     "text": [
      "1 is odd number\n",
      "2 is even number\n",
      "3 is odd number\n",
      "4 is even number\n",
      "5 is odd number\n",
      "6 is even number\n",
      "7 is odd number\n",
      "8 is even number\n",
      "9 is odd number\n",
      "10 is even number\n"
     ]
    }
   ],
   "source": [
    "for i in range(1,11):\n",
    "    if i%2==0:print(f\"{i} is even number\")\n",
    "    else:print(f\"{i} is odd number\")"
   ]
  },
  {
   "cell_type": "code",
   "execution_count": 36,
   "id": "78f79a56-6bbb-4d87-ad4b-e505155f010a",
   "metadata": {},
   "outputs": [
    {
     "name": "stdout",
     "output_type": "stream",
     "text": [
      "1\n",
      "2\n",
      "3\n",
      "4\n",
      "5\n"
     ]
    }
   ],
   "source": [
    "for i in range(1,11):\n",
    "    if i >5:\n",
    "        break\n",
    "    print(i)"
   ]
  },
  {
   "cell_type": "code",
   "execution_count": 42,
   "id": "159f49df-0ffa-401f-81cb-b2f4b4c68d74",
   "metadata": {},
   "outputs": [
    {
     "name": "stdout",
     "output_type": "stream",
     "text": [
      "1\n",
      "2\n",
      "3\n",
      "4\n",
      "7\n",
      "8\n",
      "9\n",
      "10\n"
     ]
    }
   ],
   "source": [
    "for i in range(1,11):\n",
    "    st=\"\"\n",
    "    if i==5 or i==6:\n",
    "        continue\n",
    "    print(i)\n"
   ]
  },
  {
   "cell_type": "code",
   "execution_count": 48,
   "id": "9bc9a816-40d0-43f3-85c2-9bfbbef0eb0b",
   "metadata": {},
   "outputs": [
    {
     "name": "stdout",
     "output_type": "stream",
     "text": [
      "hihowareyou\n"
     ]
    }
   ],
   "source": [
    "sen=\"hi how are you\"\n",
    "st=\"\"\n",
    "for i in sen:\n",
    "    if i==\" \":\n",
    "        continue\n",
    "    st=st+i\n",
    "print(st)\n"
   ]
  },
  {
   "cell_type": "code",
   "execution_count": 50,
   "id": "86f152b6-436f-442b-a7f2-a2a2df7e56ba",
   "metadata": {},
   "outputs": [
    {
     "name": "stdout",
     "output_type": "stream",
     "text": [
      "011235"
     ]
    }
   ],
   "source": [
    "a,b=0,1\n",
    "for _ in range(6):\n",
    "    print(a,end=\"\")\n",
    "    a,b=b,a+b\n"
   ]
  },
  {
   "cell_type": "code",
   "execution_count": 55,
   "id": "0043714b-66dd-4d41-8f2d-ddc393a7cfd3",
   "metadata": {},
   "outputs": [
    {
     "name": "stdin",
     "output_type": "stream",
     "text": [
      "Enter No of tables to print 20\n"
     ]
    },
    {
     "name": "stdout",
     "output_type": "stream",
     "text": [
      "Table 1\n",
      "1 X 1 = 1\n",
      "1 X 2 = 2\n",
      "1 X 3 = 3\n",
      "1 X 4 = 4\n",
      "1 X 5 = 5\n",
      "1 X 6 = 6\n",
      "1 X 7 = 7\n",
      "1 X 8 = 8\n",
      "1 X 9 = 9\n",
      "1 X 10 = 10\n",
      "\n",
      "Table 2\n",
      "2 X 1 = 2\n",
      "2 X 2 = 4\n",
      "2 X 3 = 6\n",
      "2 X 4 = 8\n",
      "2 X 5 = 10\n",
      "2 X 6 = 12\n",
      "2 X 7 = 14\n",
      "2 X 8 = 16\n",
      "2 X 9 = 18\n",
      "2 X 10 = 20\n",
      "\n",
      "Table 3\n",
      "3 X 1 = 3\n",
      "3 X 2 = 6\n",
      "3 X 3 = 9\n",
      "3 X 4 = 12\n",
      "3 X 5 = 15\n",
      "3 X 6 = 18\n",
      "3 X 7 = 21\n",
      "3 X 8 = 24\n",
      "3 X 9 = 27\n",
      "3 X 10 = 30\n",
      "\n",
      "Table 4\n",
      "4 X 1 = 4\n",
      "4 X 2 = 8\n",
      "4 X 3 = 12\n",
      "4 X 4 = 16\n",
      "4 X 5 = 20\n",
      "4 X 6 = 24\n",
      "4 X 7 = 28\n",
      "4 X 8 = 32\n",
      "4 X 9 = 36\n",
      "4 X 10 = 40\n",
      "\n",
      "Table 5\n",
      "5 X 1 = 5\n",
      "5 X 2 = 10\n",
      "5 X 3 = 15\n",
      "5 X 4 = 20\n",
      "5 X 5 = 25\n",
      "5 X 6 = 30\n",
      "5 X 7 = 35\n",
      "5 X 8 = 40\n",
      "5 X 9 = 45\n",
      "5 X 10 = 50\n",
      "\n",
      "Table 6\n",
      "6 X 1 = 6\n",
      "6 X 2 = 12\n",
      "6 X 3 = 18\n",
      "6 X 4 = 24\n",
      "6 X 5 = 30\n",
      "6 X 6 = 36\n",
      "6 X 7 = 42\n",
      "6 X 8 = 48\n",
      "6 X 9 = 54\n",
      "6 X 10 = 60\n",
      "\n",
      "Table 7\n",
      "7 X 1 = 7\n",
      "7 X 2 = 14\n",
      "7 X 3 = 21\n",
      "7 X 4 = 28\n",
      "7 X 5 = 35\n",
      "7 X 6 = 42\n",
      "7 X 7 = 49\n",
      "7 X 8 = 56\n",
      "7 X 9 = 63\n",
      "7 X 10 = 70\n",
      "\n",
      "Table 8\n",
      "8 X 1 = 8\n",
      "8 X 2 = 16\n",
      "8 X 3 = 24\n",
      "8 X 4 = 32\n",
      "8 X 5 = 40\n",
      "8 X 6 = 48\n",
      "8 X 7 = 56\n",
      "8 X 8 = 64\n",
      "8 X 9 = 72\n",
      "8 X 10 = 80\n",
      "\n",
      "Table 9\n",
      "9 X 1 = 9\n",
      "9 X 2 = 18\n",
      "9 X 3 = 27\n",
      "9 X 4 = 36\n",
      "9 X 5 = 45\n",
      "9 X 6 = 54\n",
      "9 X 7 = 63\n",
      "9 X 8 = 72\n",
      "9 X 9 = 81\n",
      "9 X 10 = 90\n",
      "\n",
      "Table 10\n",
      "10 X 1 = 10\n",
      "10 X 2 = 20\n",
      "10 X 3 = 30\n",
      "10 X 4 = 40\n",
      "10 X 5 = 50\n",
      "10 X 6 = 60\n",
      "10 X 7 = 70\n",
      "10 X 8 = 80\n",
      "10 X 9 = 90\n",
      "10 X 10 = 100\n",
      "\n",
      "Table 11\n",
      "11 X 1 = 11\n",
      "11 X 2 = 22\n",
      "11 X 3 = 33\n",
      "11 X 4 = 44\n",
      "11 X 5 = 55\n",
      "11 X 6 = 66\n",
      "11 X 7 = 77\n",
      "11 X 8 = 88\n",
      "11 X 9 = 99\n",
      "11 X 10 = 110\n",
      "\n",
      "Table 12\n",
      "12 X 1 = 12\n",
      "12 X 2 = 24\n",
      "12 X 3 = 36\n",
      "12 X 4 = 48\n",
      "12 X 5 = 60\n",
      "12 X 6 = 72\n",
      "12 X 7 = 84\n",
      "12 X 8 = 96\n",
      "12 X 9 = 108\n",
      "12 X 10 = 120\n",
      "\n",
      "Table 13\n",
      "13 X 1 = 13\n",
      "13 X 2 = 26\n",
      "13 X 3 = 39\n",
      "13 X 4 = 52\n",
      "13 X 5 = 65\n",
      "13 X 6 = 78\n",
      "13 X 7 = 91\n",
      "13 X 8 = 104\n",
      "13 X 9 = 117\n",
      "13 X 10 = 130\n",
      "\n",
      "Table 14\n",
      "14 X 1 = 14\n",
      "14 X 2 = 28\n",
      "14 X 3 = 42\n",
      "14 X 4 = 56\n",
      "14 X 5 = 70\n",
      "14 X 6 = 84\n",
      "14 X 7 = 98\n",
      "14 X 8 = 112\n",
      "14 X 9 = 126\n",
      "14 X 10 = 140\n",
      "\n",
      "Table 15\n",
      "15 X 1 = 15\n",
      "15 X 2 = 30\n",
      "15 X 3 = 45\n",
      "15 X 4 = 60\n",
      "15 X 5 = 75\n",
      "15 X 6 = 90\n",
      "15 X 7 = 105\n",
      "15 X 8 = 120\n",
      "15 X 9 = 135\n",
      "15 X 10 = 150\n",
      "\n",
      "Table 16\n",
      "16 X 1 = 16\n",
      "16 X 2 = 32\n",
      "16 X 3 = 48\n",
      "16 X 4 = 64\n",
      "16 X 5 = 80\n",
      "16 X 6 = 96\n",
      "16 X 7 = 112\n",
      "16 X 8 = 128\n",
      "16 X 9 = 144\n",
      "16 X 10 = 160\n",
      "\n",
      "Table 17\n",
      "17 X 1 = 17\n",
      "17 X 2 = 34\n",
      "17 X 3 = 51\n",
      "17 X 4 = 68\n",
      "17 X 5 = 85\n",
      "17 X 6 = 102\n",
      "17 X 7 = 119\n",
      "17 X 8 = 136\n",
      "17 X 9 = 153\n",
      "17 X 10 = 170\n",
      "\n",
      "Table 18\n",
      "18 X 1 = 18\n",
      "18 X 2 = 36\n",
      "18 X 3 = 54\n",
      "18 X 4 = 72\n",
      "18 X 5 = 90\n",
      "18 X 6 = 108\n",
      "18 X 7 = 126\n",
      "18 X 8 = 144\n",
      "18 X 9 = 162\n",
      "18 X 10 = 180\n",
      "\n",
      "Table 19\n",
      "19 X 1 = 19\n",
      "19 X 2 = 38\n",
      "19 X 3 = 57\n",
      "19 X 4 = 76\n",
      "19 X 5 = 95\n",
      "19 X 6 = 114\n",
      "19 X 7 = 133\n",
      "19 X 8 = 152\n",
      "19 X 9 = 171\n",
      "19 X 10 = 190\n",
      "\n",
      "Table 20\n",
      "20 X 1 = 20\n",
      "20 X 2 = 40\n",
      "20 X 3 = 60\n",
      "20 X 4 = 80\n",
      "20 X 5 = 100\n",
      "20 X 6 = 120\n",
      "20 X 7 = 140\n",
      "20 X 8 = 160\n",
      "20 X 9 = 180\n",
      "20 X 10 = 200\n",
      "\n"
     ]
    }
   ],
   "source": [
    "ntbl = int(input(\"Enter No of tables to print\"))\n",
    "for i in range(1,ntbl+1):\n",
    "    print(f\"Table {i}\")\n",
    "    for j in range(1,11):\n",
    "        print(f\"{i} X {j} = {i * j}\")\n",
    "    print()"
   ]
  },
  {
   "cell_type": "code",
   "execution_count": 69,
   "id": "90deaf6a-2fb7-4f71-be46-86fb7e846771",
   "metadata": {},
   "outputs": [
    {
     "name": "stdout",
     "output_type": "stream",
     "text": [
      "A\n",
      "AB\n",
      "ABC\n",
      "ABCD\n",
      "ABCDE\n"
     ]
    }
   ],
   "source": [
    "for i in range(1,6,1):\n",
    "    for j in range(i):\n",
    "        print(chr(65+j),end=\"\")\n",
    "    print()\n",
    "        \n",
    "    "
   ]
  },
  {
   "cell_type": "code",
   "execution_count": 73,
   "id": "a0daba5f-55bd-48f4-a132-f27ce0073442",
   "metadata": {},
   "outputs": [
    {
     "name": "stdout",
     "output_type": "stream",
     "text": [
      "         A \n",
      "        A B \n",
      "       A B C \n",
      "      A B C D \n",
      "     A B C D E \n",
      "    A B C D E F \n",
      "   A B C D E F G \n",
      "  A B C D E F G H \n",
      " A B C D E F G H I \n",
      "A B C D E F G H I J \n"
     ]
    }
   ],
   "source": [
    "rows = 10\n",
    "for i in range(1, rows + 1):\n",
    "    spaces = rows - i\n",
    "    print(\" \" * spaces, end=\"\")\n",
    "    for j in range(1, i + 1):\n",
    "        print(chr(64+j), end=\" \")\n",
    "    print()\n"
   ]
  },
  {
   "cell_type": "code",
   "execution_count": 76,
   "id": "a8456ce5-3f8f-45ac-a7d4-f3131d77c988",
   "metadata": {},
   "outputs": [
    {
     "name": "stdout",
     "output_type": "stream",
     "text": [
      "001124713"
     ]
    }
   ],
   "source": [
    "a,b,c=0,0,1\n",
    "for _ in range(8):\n",
    "    print(a,end=\"\")\n",
    "    a,b,c=b,c,a+b+c\n"
   ]
  },
  {
   "cell_type": "code",
   "execution_count": 80,
   "id": "584adb58-1eb4-4cd3-865c-39e4a89e636d",
   "metadata": {},
   "outputs": [
    {
     "name": "stdout",
     "output_type": "stream",
     "text": [
      "10\n",
      "9\n",
      "8\n",
      "7\n",
      "6\n",
      "5\n",
      "4\n",
      "3\n",
      "2\n",
      "1\n"
     ]
    }
   ],
   "source": [
    "i=10\n",
    "while i >0:\n",
    "    print(i)\n",
    "    i-=1"
   ]
  },
  {
   "cell_type": "code",
   "execution_count": 82,
   "id": "67e49494-adc6-4b1b-8fd8-fae459cd6b29",
   "metadata": {},
   "outputs": [
    {
     "name": "stdout",
     "output_type": "stream",
     "text": [
      "Hello Python\n"
     ]
    }
   ],
   "source": [
    "st=\"Hello Python\"\n",
    "print(st)\n"
   ]
  },
  {
   "cell_type": "code",
   "execution_count": 83,
   "id": "292b21a5-5ee1-45a4-957f-b3e9e68d8a8c",
   "metadata": {},
   "outputs": [
    {
     "name": "stdout",
     "output_type": "stream",
     "text": [
      "H\n"
     ]
    }
   ],
   "source": [
    "print(st[0])"
   ]
  },
  {
   "cell_type": "code",
   "execution_count": 84,
   "id": "8c63acc4-7cc5-4374-adfb-c5a3462ad08e",
   "metadata": {},
   "outputs": [
    {
     "name": "stdout",
     "output_type": "stream",
     "text": [
      "n\n"
     ]
    }
   ],
   "source": [
    "print(st[-1])"
   ]
  },
  {
   "cell_type": "code",
   "execution_count": 86,
   "id": "6385cc42-3546-4c8d-9e7c-f8e94bd8b237",
   "metadata": {},
   "outputs": [
    {
     "name": "stdout",
     "output_type": "stream",
     "text": [
      "o Py\n"
     ]
    }
   ],
   "source": [
    "print(st[4:8])"
   ]
  },
  {
   "cell_type": "code",
   "execution_count": 87,
   "id": "d4f62dbe-090c-4ea3-b05a-64d53ba3e77a",
   "metadata": {},
   "outputs": [
    {
     "name": "stdout",
     "output_type": "stream",
     "text": [
      "o Python\n"
     ]
    }
   ],
   "source": [
    "print(st[4:])\n"
   ]
  },
  {
   "cell_type": "code",
   "execution_count": 88,
   "id": "404a77cc-99f1-4007-a62e-82d3af736d6a",
   "metadata": {},
   "outputs": [
    {
     "name": "stdout",
     "output_type": "stream",
     "text": [
      "Hell\n"
     ]
    }
   ],
   "source": [
    "print(st[:4])"
   ]
  },
  {
   "cell_type": "code",
   "execution_count": 89,
   "id": "1af148c7-aa38-4de6-ac2d-df24925f35e3",
   "metadata": {},
   "outputs": [
    {
     "name": "stdout",
     "output_type": "stream",
     "text": [
      "HloPto\n"
     ]
    }
   ],
   "source": [
    "print(st[::2])"
   ]
  },
  {
   "cell_type": "code",
   "execution_count": 91,
   "id": "d1b2118e-aa62-479f-9705-6778159cbb58",
   "metadata": {},
   "outputs": [
    {
     "name": "stdout",
     "output_type": "stream",
     "text": [
      "nohtyP olleH\n"
     ]
    }
   ],
   "source": [
    "print(st[::-1])"
   ]
  },
  {
   "cell_type": "code",
   "execution_count": 95,
   "id": "502bfef9-1249-4577-bbc5-38e6f00f2c01",
   "metadata": {},
   "outputs": [
    {
     "data": {
      "text/plain": [
       "'Hello P'"
      ]
     },
     "execution_count": 95,
     "metadata": {},
     "output_type": "execute_result"
    }
   ],
   "source": [
    "st[:-5]"
   ]
  },
  {
   "cell_type": "code",
   "execution_count": 96,
   "id": "c4db5ad0-8ab8-4401-95d6-aebfbf9179e6",
   "metadata": {},
   "outputs": [
    {
     "data": {
      "text/plain": [
       "6"
      ]
     },
     "execution_count": 96,
     "metadata": {},
     "output_type": "execute_result"
    }
   ],
   "source": [
    "len(\"babjee\")"
   ]
  },
  {
   "cell_type": "code",
   "execution_count": 97,
   "id": "e4306723-753f-4b7d-9e95-aaaf315e5c6a",
   "metadata": {},
   "outputs": [
    {
     "data": {
      "text/plain": [
       "'Hello python'"
      ]
     },
     "execution_count": 97,
     "metadata": {},
     "output_type": "execute_result"
    }
   ],
   "source": [
    "st.capitalize()"
   ]
  },
  {
   "cell_type": "code",
   "execution_count": 100,
   "id": "1eb53791-b89b-4ec3-adb5-62c0be420e6b",
   "metadata": {},
   "outputs": [
    {
     "data": {
      "text/plain": [
       "'**************Hello Python**************'"
      ]
     },
     "execution_count": 100,
     "metadata": {},
     "output_type": "execute_result"
    }
   ],
   "source": [
    "st.center(40,\"*\")"
   ]
  },
  {
   "cell_type": "code",
   "execution_count": 103,
   "id": "8dcfe639-c194-4b7a-bb4b-8a451c20c7ea",
   "metadata": {},
   "outputs": [
    {
     "data": {
      "text/plain": [
       "2"
      ]
     },
     "execution_count": 103,
     "metadata": {},
     "output_type": "execute_result"
    }
   ],
   "source": [
    "st.count(\"l\")"
   ]
  },
  {
   "cell_type": "code",
   "execution_count": 109,
   "id": "cf1b2b5c-20c5-47f8-b036-ecd0e7723e0b",
   "metadata": {},
   "outputs": [
    {
     "data": {
      "text/plain": [
       "True"
      ]
     },
     "execution_count": 109,
     "metadata": {},
     "output_type": "execute_result"
    }
   ],
   "source": [
    "st.startswith(\"Hello\")"
   ]
  },
  {
   "cell_type": "code",
   "execution_count": 114,
   "id": "f83d8f6d-f19b-42f1-af1d-cd43963d4ea7",
   "metadata": {},
   "outputs": [
    {
     "data": {
      "text/plain": [
       "6"
      ]
     },
     "execution_count": 114,
     "metadata": {},
     "output_type": "execute_result"
    }
   ],
   "source": [
    "st.find(\"Python\")"
   ]
  },
  {
   "cell_type": "code",
   "execution_count": 118,
   "id": "70722df0-38aa-4e16-b188-97950c12998b",
   "metadata": {},
   "outputs": [
    {
     "ename": "ValueError",
     "evalue": "substring not found",
     "output_type": "error",
     "traceback": [
      "\u001b[31m---------------------------------------------------------------------------\u001b[39m",
      "\u001b[31mValueError\u001b[39m                                Traceback (most recent call last)",
      "\u001b[36mCell\u001b[39m\u001b[36m \u001b[39m\u001b[32mIn[118]\u001b[39m\u001b[32m, line 1\u001b[39m\n\u001b[32m----> \u001b[39m\u001b[32m1\u001b[39m \u001b[43mst\u001b[49m\u001b[43m.\u001b[49m\u001b[43mindex\u001b[49m\u001b[43m(\u001b[49m\u001b[33;43m\"\u001b[39;49m\u001b[33;43mPython1\u001b[39;49m\u001b[33;43m\"\u001b[39;49m\u001b[43m)\u001b[49m\n",
      "\u001b[31mValueError\u001b[39m: substring not found"
     ]
    }
   ],
   "source": [
    "st.index(\"Python1\")"
   ]
  },
  {
   "cell_type": "code",
   "execution_count": 2,
   "id": "2d77a506-18eb-4947-9da1-7a36b8af8717",
   "metadata": {},
   "outputs": [
    {
     "data": {
      "text/plain": [
       "False"
      ]
     },
     "execution_count": 2,
     "metadata": {},
     "output_type": "execute_result"
    }
   ],
   "source": [
    "\"c\" not in \"cat\""
   ]
  },
  {
   "cell_type": "code",
   "execution_count": null,
   "id": "adbf1326-4ce0-4889-9146-f2ad12f1ee3b",
   "metadata": {},
   "outputs": [],
   "source": []
  },
  {
   "cell_type": "code",
   "execution_count": 119,
   "id": "722e7ec1-2797-46aa-898d-ae9b36453fee",
   "metadata": {},
   "outputs": [
    {
     "data": {
      "text/plain": [
       "False"
      ]
     },
     "execution_count": 119,
     "metadata": {},
     "output_type": "execute_result"
    }
   ],
   "source": [
    "st.isalnum()"
   ]
  },
  {
   "cell_type": "code",
   "execution_count": 120,
   "id": "6e0e9589-bcf7-4726-91cb-46499939ea6d",
   "metadata": {},
   "outputs": [
    {
     "data": {
      "text/plain": [
       "True"
      ]
     },
     "execution_count": 120,
     "metadata": {},
     "output_type": "execute_result"
    }
   ],
   "source": [
    "\"122abc\".isalnum()"
   ]
  },
  {
   "cell_type": "code",
   "execution_count": 121,
   "id": "144b2dc4-f26d-4c21-91d8-18e2a29f244f",
   "metadata": {},
   "outputs": [
    {
     "data": {
      "text/plain": [
       "True"
      ]
     },
     "execution_count": 121,
     "metadata": {},
     "output_type": "execute_result"
    }
   ],
   "source": [
    "\"abc\".isalpha()"
   ]
  },
  {
   "cell_type": "code",
   "execution_count": 122,
   "id": "8cdd6a74-2453-40d6-b29c-e7c22848032a",
   "metadata": {},
   "outputs": [
    {
     "data": {
      "text/plain": [
       "False"
      ]
     },
     "execution_count": 122,
     "metadata": {},
     "output_type": "execute_result"
    }
   ],
   "source": [
    "\"abc1\".isalpha()"
   ]
  },
  {
   "cell_type": "code",
   "execution_count": 123,
   "id": "c8abd078-039d-4095-b48d-c24fe7619deb",
   "metadata": {},
   "outputs": [
    {
     "data": {
      "text/plain": [
       "True"
      ]
     },
     "execution_count": 123,
     "metadata": {},
     "output_type": "execute_result"
    }
   ],
   "source": [
    "\"123\".isnumeric()"
   ]
  },
  {
   "cell_type": "code",
   "execution_count": 1,
   "id": "b3a30eaf-0e58-418e-9f99-ee118d8bd8b3",
   "metadata": {},
   "outputs": [],
   "source": [
    "st =\"Hello world\""
   ]
  },
  {
   "cell_type": "code",
   "execution_count": 3,
   "id": "d563779b-2a1f-489a-b0ad-fe1df9caf8dc",
   "metadata": {},
   "outputs": [
    {
     "data": {
      "text/plain": [
       "'hello#python'"
      ]
     },
     "execution_count": 3,
     "metadata": {},
     "output_type": "execute_result"
    }
   ],
   "source": [
    "\"#\".join([\"hello\", \"python\"])"
   ]
  },
  {
   "cell_type": "code",
   "execution_count": 4,
   "id": "dda67403-afcb-4c2f-a488-b57ccc03dc7a",
   "metadata": {},
   "outputs": [
    {
     "data": {
      "text/plain": [
       "'ram#sham#sunil'"
      ]
     },
     "execution_count": 4,
     "metadata": {},
     "output_type": "execute_result"
    }
   ],
   "source": [
    "\"#\".join([\"ram\",\"sham\",\"sunil\"])"
   ]
  },
  {
   "cell_type": "code",
   "execution_count": 5,
   "id": "ae429f49-26f2-4ab2-bb97-ddff2a075789",
   "metadata": {},
   "outputs": [
    {
     "data": {
      "text/plain": [
       "'RAM'"
      ]
     },
     "execution_count": 5,
     "metadata": {},
     "output_type": "execute_result"
    }
   ],
   "source": [
    "\"ram\".upper()"
   ]
  },
  {
   "cell_type": "code",
   "execution_count": 6,
   "id": "177d2cb3-3dd5-41d7-a688-acd3e184b55e",
   "metadata": {},
   "outputs": [
    {
     "data": {
      "text/plain": [
       "'ram'"
      ]
     },
     "execution_count": 6,
     "metadata": {},
     "output_type": "execute_result"
    }
   ],
   "source": [
    "\"ram\".lower()"
   ]
  },
  {
   "cell_type": "code",
   "execution_count": 7,
   "id": "73a843c3-1d76-4cec-8d1b-572c38386a3d",
   "metadata": {},
   "outputs": [
    {
     "data": {
      "text/plain": [
       "'Ram Kumar'"
      ]
     },
     "execution_count": 7,
     "metadata": {},
     "output_type": "execute_result"
    }
   ],
   "source": [
    "\"ram kumar\".title()"
   ]
  },
  {
   "cell_type": "code",
   "execution_count": 8,
   "id": "4e0a19d0-d5f5-4217-97ee-736a761bb884",
   "metadata": {},
   "outputs": [
    {
     "data": {
      "text/plain": [
       "'Ram'"
      ]
     },
     "execution_count": 8,
     "metadata": {},
     "output_type": "execute_result"
    }
   ],
   "source": [
    "\" Ram\".lstrip()"
   ]
  },
  {
   "cell_type": "code",
   "execution_count": 9,
   "id": "2237b168-a52e-4bb2-88c6-1624239d1bc5",
   "metadata": {},
   "outputs": [
    {
     "data": {
      "text/plain": [
       "'Ram'"
      ]
     },
     "execution_count": 9,
     "metadata": {},
     "output_type": "execute_result"
    }
   ],
   "source": [
    "\"Ram \".rstrip()"
   ]
  },
  {
   "cell_type": "code",
   "execution_count": 10,
   "id": "df3565a7-a89c-4340-aaaa-53f447a630c9",
   "metadata": {},
   "outputs": [
    {
     "data": {
      "text/plain": [
       "'Ram'"
      ]
     },
     "execution_count": 10,
     "metadata": {},
     "output_type": "execute_result"
    }
   ],
   "source": [
    "\" Ram \".strip()"
   ]
  },
  {
   "cell_type": "code",
   "execution_count": 11,
   "id": "828176a4-b2d4-49af-a3f8-d8b5c21ca5b7",
   "metadata": {},
   "outputs": [
    {
     "data": {
      "text/plain": [
       "['Hi', 'How', 'are', 'you']"
      ]
     },
     "execution_count": 11,
     "metadata": {},
     "output_type": "execute_result"
    }
   ],
   "source": [
    "\"Hi How are you\".split()"
   ]
  },
  {
   "cell_type": "code",
   "execution_count": 12,
   "id": "e5eb81be-8180-4ff9-91c8-1ff225f34cc2",
   "metadata": {},
   "outputs": [
    {
     "name": "stdout",
     "output_type": "stream",
     "text": [
      "Hi\n",
      "How\n",
      "are\n",
      "you\n"
     ]
    }
   ],
   "source": [
    "for i in \"Hi How are you\".split():\n",
    "    print(i)"
   ]
  },
  {
   "cell_type": "code",
   "execution_count": 23,
   "id": "9c0cb3ef-0115-4025-84aa-461bdf7fb724",
   "metadata": {},
   "outputs": [
    {
     "name": "stdout",
     "output_type": "stream",
     "text": [
      "HiHowareyou\n"
     ]
    }
   ],
   "source": [
    "result=\"\"\n",
    "for i in \"Hi|How|are|you\".split(\"|\"):\n",
    "    result=result+i\n",
    "print(result)"
   ]
  },
  {
   "cell_type": "code",
   "execution_count": 18,
   "id": "09995fc4-f650-4445-9ff2-7b9b5f929a38",
   "metadata": {},
   "outputs": [
    {
     "name": "stdout",
     "output_type": "stream",
     "text": [
      "HiHowareyou\n"
     ]
    }
   ],
   "source": [
    "result=\"\"\n",
    "for i in \"Hi How are you\":\n",
    "    if i.isalpha():\n",
    "        result+=i\n",
    "print(result)"
   ]
  },
  {
   "cell_type": "code",
   "execution_count": 26,
   "id": "baff5fae-f013-49f8-b762-5ad6cdb42f07",
   "metadata": {},
   "outputs": [
    {
     "name": "stdout",
     "output_type": "stream",
     "text": [
      "Hihowareyou\n"
     ]
    }
   ],
   "source": [
    "st=\"Hi how are you\"\n",
    "result =\"\".join(c for c in st if c.isalpha())\n",
    "print(result)"
   ]
  },
  {
   "cell_type": "code",
   "execution_count": 41,
   "id": "837f4edd-bf13-4d2c-a2ca-5f9f8030e3e0",
   "metadata": {},
   "outputs": [
    {
     "name": "stdout",
     "output_type": "stream",
     "text": [
      "ih woh era uoy woh si uoy yad \n"
     ]
    }
   ],
   "source": [
    "result=\"\"\n",
    "st=\"hi how are you how is you day\"\n",
    "for i in st.split():\n",
    "    result +=( i[ ::-1])+\" \"\n",
    "print(result)"
   ]
  },
  {
   "cell_type": "code",
   "execution_count": 42,
   "id": "ce0e9bbc-d79c-4bfc-b1e2-1603eff39e5c",
   "metadata": {},
   "outputs": [
    {
     "data": {
      "text/plain": [
       "'I Love java'"
      ]
     },
     "execution_count": 42,
     "metadata": {},
     "output_type": "execute_result"
    }
   ],
   "source": [
    "\"I Love python\".replace(\"python\", \"java\")"
   ]
  },
  {
   "cell_type": "code",
   "execution_count": 44,
   "id": "e58bc30b-f440-4a7f-962f-1c1493dcef19",
   "metadata": {},
   "outputs": [
    {
     "name": "stdout",
     "output_type": "stream",
     "text": [
      "('g', 4)\n"
     ]
    }
   ],
   "source": [
    "from collections import Counter\n",
    "st=\"python is programming language\"\n",
    "s = st.replace(\" \", \"\").lower()\n",
    "counter = Counter(s)\n",
    "print( counter.most_common(1)[0])\n"
   ]
  },
  {
   "cell_type": "code",
   "execution_count": 49,
   "id": "3cfe125b-c1e5-4555-9f57-407cb110da7f",
   "metadata": {},
   "outputs": [
    {
     "name": "stdout",
     "output_type": "stream",
     "text": [
      "ILovepython\n"
     ]
    }
   ],
   "source": [
    "print(\"I Love python\".replace(\" \",\"\"))\n"
   ]
  },
  {
   "cell_type": "code",
   "execution_count": 73,
   "id": "943803f7-3dad-44ec-a5b9-d01faa845e85",
   "metadata": {},
   "outputs": [
    {
     "name": "stdout",
     "output_type": "stream",
     "text": [
      "('o', 2)\n"
     ]
    }
   ],
   "source": [
    "from collections import Counter\n",
    "st =\"I love python\"\n",
    "st=st.replace(\" \",\"\")\n",
    "count=Counter(st)\n",
    "print(count.most_common(1)[0])"
   ]
  },
  {
   "cell_type": "code",
   "execution_count": 74,
   "id": "9c068447-3253-4522-b837-0b8367a26f1c",
   "metadata": {},
   "outputs": [],
   "source": [
    "import random"
   ]
  },
  {
   "cell_type": "code",
   "execution_count": 84,
   "id": "399881f9-4a35-4953-8c7f-766ba8880598",
   "metadata": {},
   "outputs": [
    {
     "name": "stdout",
     "output_type": "stream",
     "text": [
      "6.394267984578837\n",
      "0.25010755222666936\n",
      "2.7502931836911926\n",
      "2.2321073814882277\n",
      "7.364712141640124\n",
      "6.766994874229113\n",
      "8.921795677048454\n",
      "0.8693883262941615\n",
      "4.2192181968527045\n",
      "0.29797219438070344\n"
     ]
    }
   ],
   "source": [
    "random.seed(42)\n",
    "for i in range(1,11):\n",
    "    print(random.random()*10)"
   ]
  },
  {
   "cell_type": "code",
   "execution_count": 99,
   "id": "3fa4c4d5-e1cf-4f77-aba9-f60f0c18075a",
   "metadata": {},
   "outputs": [
    {
     "name": "stdout",
     "output_type": "stream",
     "text": [
      "7.283254554894041\n",
      "4.062254648661927\n",
      "2.399315498306034\n",
      "9.614917649861031\n",
      "4.029350906013641\n",
      "1.834712590421331\n",
      "1.8704473915011761\n",
      "8.62744929712714\n",
      "6.43353428230202\n",
      "8.264154459469422\n"
     ]
    }
   ],
   "source": [
    "for i in range(1,11):\n",
    "    print(random.uniform(1,10))"
   ]
  },
  {
   "cell_type": "code",
   "execution_count": 134,
   "id": "64dac292-0819-44cd-b97d-ab03b45b668b",
   "metadata": {},
   "outputs": [
    {
     "name": "stdout",
     "output_type": "stream",
     "text": [
      "praveen\n",
      "['sunil', 'sham', 'sham']\n"
     ]
    }
   ],
   "source": [
    "name=[\"ram\",\"sham\",\"praveen\",\"sunil\"]\n",
    "print(random.choice(name))\n",
    "print(random.choices(name,k=3))"
   ]
  },
  {
   "cell_type": "code",
   "execution_count": 140,
   "id": "8f21545a-6a29-42f8-a9ed-f5c7b461aeeb",
   "metadata": {},
   "outputs": [
    {
     "name": "stdout",
     "output_type": "stream",
     "text": [
      "['praveen', 'sham', 'ram']\n"
     ]
    }
   ],
   "source": [
    "print(random.sample(name,3))"
   ]
  },
  {
   "cell_type": "code",
   "execution_count": 148,
   "id": "a6866037-0d86-4897-a71f-971afe2b7dbc",
   "metadata": {},
   "outputs": [
    {
     "data": {
      "text/plain": [
       "4"
      ]
     },
     "execution_count": 148,
     "metadata": {},
     "output_type": "execute_result"
    }
   ],
   "source": [
    "random.randint(1,10)"
   ]
  },
  {
   "cell_type": "code",
   "execution_count": 150,
   "id": "000f5e19-9216-4f1c-b508-a5bfe56e584b",
   "metadata": {},
   "outputs": [
    {
     "name": "stdout",
     "output_type": "stream",
     "text": [
      "['apple', 'banana', 'cherry', 'cherry']\n"
     ]
    }
   ],
   "source": [
    "fruits = [\"apple\", \"banana\", \"cherry\",\"cherry\"]\n",
    "print(fruits)"
   ]
  },
  {
   "cell_type": "code",
   "execution_count": 152,
   "id": "30f5ac32-f5db-40f6-af08-a43ca0e83ecd",
   "metadata": {},
   "outputs": [
    {
     "name": "stdout",
     "output_type": "stream",
     "text": [
      "['apple', 'mango', 'banana', 'sapota']\n"
     ]
    }
   ],
   "source": [
    "fruits=list(('apple','mango','banana','sapota'))\n",
    "print(fruits)"
   ]
  },
  {
   "cell_type": "code",
   "execution_count": 162,
   "id": "9b2edf63-2614-4e81-b994-f1d1e5831105",
   "metadata": {},
   "outputs": [],
   "source": [
    "numbers =[*range(0,10,2)]"
   ]
  },
  {
   "cell_type": "code",
   "execution_count": 163,
   "id": "af53e712-c673-414e-a9cd-0a90290d4186",
   "metadata": {},
   "outputs": [
    {
     "data": {
      "text/plain": [
       "[0, 2, 4, 6, 8]"
      ]
     },
     "execution_count": 163,
     "metadata": {},
     "output_type": "execute_result"
    }
   ],
   "source": [
    "numbers"
   ]
  },
  {
   "cell_type": "code",
   "execution_count": 167,
   "id": "15039a07-4f04-454f-abf5-052eb087d97c",
   "metadata": {},
   "outputs": [
    {
     "name": "stdout",
     "output_type": "stream",
     "text": [
      "['b', 'a', 'b', 'j', 'e', 'e']\n",
      "<class 'list'>\n"
     ]
    }
   ],
   "source": [
    "names =list(\"babjee\")\n",
    "print(names)\n",
    "print(type(names))"
   ]
  },
  {
   "cell_type": "code",
   "execution_count": 190,
   "id": "e977a180-911d-484f-8832-5475cb067616",
   "metadata": {},
   "outputs": [
    {
     "name": "stdout",
     "output_type": "stream",
     "text": [
      "[39.6517540011935, 17.29907501875116, 24.401569563633196]\n"
     ]
    }
   ],
   "source": [
    "# num=[]\n",
    "# for i in range(1,11):\n",
    "#     num.append(i)\n",
    "# print(num)\n",
    "\n",
    "# num=[]\n",
    "# for i in range(1,11):\n",
    "#     num.append(random.randint(1,100))\n",
    "# print(num)\n",
    "\n",
    "num=[]\n",
    "for i in range(1,11):\n",
    "    num.append(random.uniform(1,100))\n",
    "print(random.choices(num,k=3))"
   ]
  },
  {
   "cell_type": "code",
   "execution_count": 191,
   "id": "c22835a1-b5a3-4950-808d-00d52c406ffe",
   "metadata": {},
   "outputs": [
    {
     "name": "stdout",
     "output_type": "stream",
     "text": [
      "[1, 2, 3, 4, 5, 6, 7, 8, 9]\n"
     ]
    }
   ],
   "source": [
    "num =[ i for i in range(1,10) ]\n",
    "print(num)\n"
   ]
  },
  {
   "cell_type": "code",
   "execution_count": 192,
   "id": "91e82017-7f2e-40aa-a3c7-0e31cf9f81b6",
   "metadata": {},
   "outputs": [
    {
     "name": "stdout",
     "output_type": "stream",
     "text": [
      "[0, 2, 4, 6, 8]\n"
     ]
    }
   ],
   "source": [
    "num =[ i for i in range(0,10) if i%2==0 ]\n",
    "print(num)\n"
   ]
  },
  {
   "cell_type": "code",
   "execution_count": 193,
   "id": "a3b3c076-8311-40f5-b7cb-e87f291641ce",
   "metadata": {},
   "outputs": [
    {
     "name": "stdout",
     "output_type": "stream",
     "text": [
      "[2, 4, 6, 8, 10, 12, 14, 16, 18]\n"
     ]
    }
   ],
   "source": [
    "num =[ i*2 for i in range(1,10) ]\n",
    "print(num)\n"
   ]
  },
  {
   "cell_type": "code",
   "execution_count": 194,
   "id": "4434ac7a-1d94-47b2-880b-d34856d05ad7",
   "metadata": {},
   "outputs": [
    {
     "data": {
      "text/plain": [
       "['apple', 'mango', 'banana', 'sapota']"
      ]
     },
     "execution_count": 194,
     "metadata": {},
     "output_type": "execute_result"
    }
   ],
   "source": [
    "fruits "
   ]
  },
  {
   "cell_type": "code",
   "execution_count": 195,
   "id": "63415983-451c-43ed-a5ec-9073dc5cc570",
   "metadata": {},
   "outputs": [
    {
     "data": {
      "text/plain": [
       "'apple'"
      ]
     },
     "execution_count": 195,
     "metadata": {},
     "output_type": "execute_result"
    }
   ],
   "source": [
    "fruits[0]"
   ]
  },
  {
   "cell_type": "code",
   "execution_count": 196,
   "id": "dd66ff60-a268-425a-a34a-f2ddd4e191e1",
   "metadata": {},
   "outputs": [
    {
     "data": {
      "text/plain": [
       "['apple', 'banana', 'mango', 'sapota']"
      ]
     },
     "execution_count": 196,
     "metadata": {},
     "output_type": "execute_result"
    }
   ],
   "source": [
    "sorted(fruits)"
   ]
  },
  {
   "cell_type": "code",
   "execution_count": 197,
   "id": "a0317a06-af2f-4227-bf4e-89d4459ce495",
   "metadata": {},
   "outputs": [
    {
     "data": {
      "text/plain": [
       "4"
      ]
     },
     "execution_count": 197,
     "metadata": {},
     "output_type": "execute_result"
    }
   ],
   "source": [
    "len(fruits)"
   ]
  },
  {
   "cell_type": "code",
   "execution_count": 198,
   "id": "c1bcf9df-3993-4ddc-b5da-b2d7fd6b7e6d",
   "metadata": {},
   "outputs": [],
   "source": [
    "fruits[0]=\"cherry\""
   ]
  },
  {
   "cell_type": "code",
   "execution_count": 199,
   "id": "4831c461-f652-456d-8a03-9ff19542b4ce",
   "metadata": {},
   "outputs": [
    {
     "data": {
      "text/plain": [
       "['cherry', 'mango', 'banana', 'sapota']"
      ]
     },
     "execution_count": 199,
     "metadata": {},
     "output_type": "execute_result"
    }
   ],
   "source": [
    "fruits"
   ]
  },
  {
   "cell_type": "code",
   "execution_count": 202,
   "id": "9324cf17-7d82-4931-8795-2981a7ed2d9b",
   "metadata": {},
   "outputs": [],
   "source": [
    "fruits1=fruits.copy()"
   ]
  },
  {
   "cell_type": "code",
   "execution_count": 203,
   "id": "a2d59274-c6ff-40dd-b30b-8f99bb4dcefe",
   "metadata": {},
   "outputs": [
    {
     "data": {
      "text/plain": [
       "['cherry', 'mango', 'banana', 'sapota']"
      ]
     },
     "execution_count": 203,
     "metadata": {},
     "output_type": "execute_result"
    }
   ],
   "source": [
    "fruits1\n"
   ]
  },
  {
   "cell_type": "code",
   "execution_count": 205,
   "id": "f0d17393-470b-4a35-ab8d-eb772ac02269",
   "metadata": {},
   "outputs": [],
   "source": [
    "fruits2=fruits[1:3]"
   ]
  },
  {
   "cell_type": "code",
   "execution_count": 207,
   "id": "897b7a06-df0b-4802-877d-ebdbba3b7586",
   "metadata": {},
   "outputs": [
    {
     "name": "stdout",
     "output_type": "stream",
     "text": [
      "1328506266624\n",
      "1328505012928\n"
     ]
    }
   ],
   "source": [
    "print(id(fruits1))\n",
    "print(id(fruits2))\n"
   ]
  },
  {
   "cell_type": "code",
   "execution_count": 208,
   "id": "9adef324-8544-4a77-8d16-eeb0d55f91a0",
   "metadata": {},
   "outputs": [
    {
     "data": {
      "text/plain": [
       "1"
      ]
     },
     "execution_count": 208,
     "metadata": {},
     "output_type": "execute_result"
    }
   ],
   "source": [
    "fruits.count(\"cherry\")"
   ]
  },
  {
   "cell_type": "code",
   "execution_count": 209,
   "id": "ffe43ae6-27aa-4987-8b22-2f2e1fefbf7b",
   "metadata": {},
   "outputs": [
    {
     "data": {
      "text/plain": [
       "1"
      ]
     },
     "execution_count": 209,
     "metadata": {},
     "output_type": "execute_result"
    }
   ],
   "source": [
    "fruits.index(\"mango\")"
   ]
  },
  {
   "cell_type": "code",
   "execution_count": 211,
   "id": "f8a722fa-16e1-4a73-900a-27ebef391036",
   "metadata": {},
   "outputs": [
    {
     "data": {
      "text/plain": [
       "'banana'"
      ]
     },
     "execution_count": 211,
     "metadata": {},
     "output_type": "execute_result"
    }
   ],
   "source": [
    "fruits.pop(2)"
   ]
  },
  {
   "cell_type": "code",
   "execution_count": 212,
   "id": "eda791d4-0d67-4889-86d6-d50f8c45f608",
   "metadata": {},
   "outputs": [
    {
     "data": {
      "text/plain": [
       "['cherry', 'mango']"
      ]
     },
     "execution_count": 212,
     "metadata": {},
     "output_type": "execute_result"
    }
   ],
   "source": [
    "fruits"
   ]
  },
  {
   "cell_type": "code",
   "execution_count": 213,
   "id": "2526ca9f-ab6b-4edb-a1e8-c3907f2af08d",
   "metadata": {},
   "outputs": [
    {
     "data": {
      "text/plain": [
       "['cherry', 'mango', 'cherry', 'mango']"
      ]
     },
     "execution_count": 213,
     "metadata": {},
     "output_type": "execute_result"
    }
   ],
   "source": [
    "fruits+['cherry', 'mango']\n"
   ]
  },
  {
   "cell_type": "code",
   "execution_count": 215,
   "id": "5beae64d-4708-4ff4-b846-f89a20af7433",
   "metadata": {},
   "outputs": [],
   "source": [
    "fruits.insert(2,\"pinaple\")"
   ]
  },
  {
   "cell_type": "code",
   "execution_count": 216,
   "id": "52432ac6-fddb-4167-b206-d4f14819a1ab",
   "metadata": {},
   "outputs": [
    {
     "data": {
      "text/plain": [
       "['cherry', 'mango', 'pinaple']"
      ]
     },
     "execution_count": 216,
     "metadata": {},
     "output_type": "execute_result"
    }
   ],
   "source": [
    "fruits"
   ]
  },
  {
   "cell_type": "code",
   "execution_count": 217,
   "id": "d494f1c3-a2e5-4968-ae74-208b18c7bd61",
   "metadata": {},
   "outputs": [],
   "source": [
    "fruits.reverse()"
   ]
  },
  {
   "cell_type": "code",
   "execution_count": 218,
   "id": "4c8ba98b-6c78-416d-86ec-4c5fce49eeed",
   "metadata": {},
   "outputs": [
    {
     "data": {
      "text/plain": [
       "['pinaple', 'mango', 'cherry']"
      ]
     },
     "execution_count": 218,
     "metadata": {},
     "output_type": "execute_result"
    }
   ],
   "source": [
    "fruits"
   ]
  },
  {
   "cell_type": "code",
   "execution_count": 219,
   "id": "bbc5df87-be5a-4af5-9a3c-40ef1caeb0e2",
   "metadata": {},
   "outputs": [],
   "source": [
    "fruits.sort(reverse=True)"
   ]
  },
  {
   "cell_type": "code",
   "execution_count": 220,
   "id": "692ef14d-8279-4289-b211-b234daa1252c",
   "metadata": {},
   "outputs": [
    {
     "data": {
      "text/plain": [
       "['pinaple', 'mango', 'cherry']"
      ]
     },
     "execution_count": 220,
     "metadata": {},
     "output_type": "execute_result"
    }
   ],
   "source": [
    "fruits"
   ]
  },
  {
   "cell_type": "code",
   "execution_count": 221,
   "id": "563ece9c-7524-40ea-8d6b-fcb05e5d17a9",
   "metadata": {},
   "outputs": [
    {
     "data": {
      "text/plain": [
       "['cherry', 'mango', 'pinaple']"
      ]
     },
     "execution_count": 221,
     "metadata": {},
     "output_type": "execute_result"
    }
   ],
   "source": []
  },
  {
   "cell_type": "code",
   "execution_count": 222,
   "id": "c332c506-6d58-4d5d-8972-c4fd9218e2dc",
   "metadata": {},
   "outputs": [],
   "source": [
    "fruits =['apple', 'pinaple', 'cherry','mango', 'sapota']"
   ]
  },
  {
   "cell_type": "code",
   "execution_count": 223,
   "id": "387f787b-90ac-4299-9200-744a217ef6ec",
   "metadata": {},
   "outputs": [
    {
     "name": "stdout",
     "output_type": "stream",
     "text": [
      "apple\n"
     ]
    }
   ],
   "source": [
    "print(fruits[0])"
   ]
  },
  {
   "cell_type": "code",
   "execution_count": 224,
   "id": "9e4b84f4-f091-4b43-a113-c46f25ece55b",
   "metadata": {},
   "outputs": [
    {
     "name": "stdout",
     "output_type": "stream",
     "text": [
      "['pinaple', 'cherry', 'mango']\n"
     ]
    }
   ],
   "source": [
    "print(fruits[1:4])"
   ]
  },
  {
   "cell_type": "code",
   "execution_count": 225,
   "id": "c200cfb5-4b5a-4155-8302-9014db4d2cbc",
   "metadata": {},
   "outputs": [
    {
     "name": "stdout",
     "output_type": "stream",
     "text": [
      "['mango', 'sapota']\n"
     ]
    }
   ],
   "source": [
    "print(fruits[3:])"
   ]
  },
  {
   "cell_type": "code",
   "execution_count": 226,
   "id": "73b13a0c-890a-401d-bb8d-beff9d5810a7",
   "metadata": {},
   "outputs": [
    {
     "name": "stdout",
     "output_type": "stream",
     "text": [
      "['apple', 'pinaple', 'cherry']\n"
     ]
    }
   ],
   "source": [
    "print(fruits[:3])"
   ]
  },
  {
   "cell_type": "code",
   "execution_count": 227,
   "id": "3929e8d9-9bb3-4a30-a57b-ef310e36a38f",
   "metadata": {},
   "outputs": [
    {
     "name": "stdout",
     "output_type": "stream",
     "text": [
      "sapota\n"
     ]
    }
   ],
   "source": [
    "print(fruits[-1])"
   ]
  },
  {
   "cell_type": "code",
   "execution_count": 228,
   "id": "a2ef7902-92f6-4a4e-8071-3ddc8816f8b1",
   "metadata": {},
   "outputs": [
    {
     "name": "stdout",
     "output_type": "stream",
     "text": [
      "['pinaple', 'cherry', 'mango']\n"
     ]
    }
   ],
   "source": [
    "print(fruits[-4:-1])"
   ]
  },
  {
   "cell_type": "code",
   "execution_count": 229,
   "id": "9781bc99-bcd8-4ff0-87e9-8de8ae6b9614",
   "metadata": {},
   "outputs": [
    {
     "data": {
      "text/plain": [
       "['apple', 'pinaple', 'cherry', 'mango', 'sapota']"
      ]
     },
     "execution_count": 229,
     "metadata": {},
     "output_type": "execute_result"
    }
   ],
   "source": [
    "fruits"
   ]
  },
  {
   "cell_type": "code",
   "execution_count": 230,
   "id": "47850f3d-187b-47bf-9a9e-dea2165d9cfc",
   "metadata": {},
   "outputs": [
    {
     "name": "stdout",
     "output_type": "stream",
     "text": [
      "['apple', 'cherry', 'sapota']\n"
     ]
    }
   ],
   "source": [
    "print(fruits[::2])"
   ]
  },
  {
   "cell_type": "code",
   "execution_count": 231,
   "id": "1314871b-f0b3-437a-9f22-7c2fd6aaff64",
   "metadata": {},
   "outputs": [
    {
     "name": "stdout",
     "output_type": "stream",
     "text": [
      "['sapota', 'mango', 'cherry', 'pinaple', 'apple']\n"
     ]
    }
   ],
   "source": [
    "print(fruits[::-1])"
   ]
  },
  {
   "cell_type": "code",
   "execution_count": 232,
   "id": "d67f1425-e911-4c3c-b227-00a2cd7d513c",
   "metadata": {},
   "outputs": [],
   "source": [
    "fruits[0]='dragon fruit'"
   ]
  },
  {
   "cell_type": "code",
   "execution_count": 233,
   "id": "479b1be0-9f0e-4a67-be65-52a1730075a0",
   "metadata": {},
   "outputs": [
    {
     "data": {
      "text/plain": [
       "['dragon fruit', 'pinaple', 'cherry', 'mango', 'sapota']"
      ]
     },
     "execution_count": 233,
     "metadata": {},
     "output_type": "execute_result"
    }
   ],
   "source": [
    "fruits"
   ]
  },
  {
   "cell_type": "code",
   "execution_count": 234,
   "id": "7bb30357-08ee-4417-8f23-6ea844d1c4d7",
   "metadata": {},
   "outputs": [],
   "source": [
    "matrix=[[1,2,3],[4,5,6],[7,8,9]]"
   ]
  },
  {
   "cell_type": "code",
   "execution_count": 235,
   "id": "b7959f77-4c22-40a2-8809-99011048930a",
   "metadata": {},
   "outputs": [
    {
     "data": {
      "text/plain": [
       "[[1, 2, 3], [4, 5, 6], [7, 8, 9]]"
      ]
     },
     "execution_count": 235,
     "metadata": {},
     "output_type": "execute_result"
    }
   ],
   "source": [
    "matrix"
   ]
  },
  {
   "cell_type": "code",
   "execution_count": 257,
   "id": "1efa3789-7519-465d-aded-662bd2b7ce75",
   "metadata": {},
   "outputs": [],
   "source": [
    "matrix = [[j for j in range(3)] for i in range(3)]\n"
   ]
  },
  {
   "cell_type": "code",
   "execution_count": 258,
   "id": "db68118e-c6ed-42bd-ab96-73d9ff98fc2e",
   "metadata": {},
   "outputs": [
    {
     "data": {
      "text/plain": [
       "[[0, 1, 2], [0, 1, 2], [0, 1, 2]]"
      ]
     },
     "execution_count": 258,
     "metadata": {},
     "output_type": "execute_result"
    }
   ],
   "source": [
    "matrix"
   ]
  },
  {
   "cell_type": "code",
   "execution_count": 259,
   "id": "0c02fe96-9541-4f66-b046-64928b43d326",
   "metadata": {},
   "outputs": [
    {
     "name": "stdout",
     "output_type": "stream",
     "text": [
      "[0, 1, 2, 0, 1, 2, 0, 1, 2]\n"
     ]
    }
   ],
   "source": [
    "flat = [item for sublist in matrix for item in sublist]\n",
    "print(flat)"
   ]
  },
  {
   "cell_type": "code",
   "execution_count": 262,
   "id": "be98d38b-7ceb-4f49-bf57-f4019c0608ee",
   "metadata": {},
   "outputs": [
    {
     "name": "stdout",
     "output_type": "stream",
     "text": [
      "[0, 1, 2]\n",
      "[0, 1, 2]\n",
      "[0, 1, 2]\n"
     ]
    }
   ],
   "source": [
    "matrix\n",
    "for i in matrix:\n",
    "    print(i)"
   ]
  },
  {
   "cell_type": "code",
   "execution_count": 260,
   "id": "b77740d1-9d3f-4ba9-9077-c3ef41c49c9a",
   "metadata": {},
   "outputs": [
    {
     "name": "stdout",
     "output_type": "stream",
     "text": [
      "[0, 1, 2, 0, 1, 2, 0, 1, 2]\n"
     ]
    }
   ],
   "source": [
    "result=[]\n",
    "for i in matrix:\n",
    "    for j in i:\n",
    "        result.append(j)\n",
    "print(result)\n",
    "        "
   ]
  },
  {
   "cell_type": "code",
   "execution_count": 263,
   "id": "c3222e63-cef4-4126-abbc-590c3aadf089",
   "metadata": {},
   "outputs": [
    {
     "data": {
      "text/plain": [
       "['dragon fruit', 'pinaple', 'cherry', 'mango', 'sapota']"
      ]
     },
     "execution_count": 263,
     "metadata": {},
     "output_type": "execute_result"
    }
   ],
   "source": [
    "fruits"
   ]
  },
  {
   "cell_type": "code",
   "execution_count": 264,
   "id": "bea7f0a8-7491-4ab3-9a82-e70b818ac7ac",
   "metadata": {},
   "outputs": [],
   "source": [
    "fruits.append(\"greaps\")"
   ]
  },
  {
   "cell_type": "code",
   "execution_count": 265,
   "id": "1e68cbba-b34b-4da7-b422-2787bb5376c9",
   "metadata": {},
   "outputs": [
    {
     "data": {
      "text/plain": [
       "['dragon fruit', 'pinaple', 'cherry', 'mango', 'sapota', 'greaps']"
      ]
     },
     "execution_count": 265,
     "metadata": {},
     "output_type": "execute_result"
    }
   ],
   "source": [
    "fruits"
   ]
  },
  {
   "cell_type": "code",
   "execution_count": 269,
   "id": "d7e1368f-8f4f-484e-acb8-cfeaafbc270e",
   "metadata": {},
   "outputs": [],
   "source": [
    "fruits.extend([\"cherry\",\"orange\"])"
   ]
  },
  {
   "cell_type": "code",
   "execution_count": 270,
   "id": "c617b176-8287-4565-96ba-2a6ebadaf2f9",
   "metadata": {},
   "outputs": [
    {
     "data": {
      "text/plain": [
       "['dragon fruit',\n",
       " 'pinaple',\n",
       " 'cherry',\n",
       " 'mango',\n",
       " 'sapota',\n",
       " 'greaps',\n",
       " 'cherry',\n",
       " 'orange',\n",
       " 'cherry',\n",
       " 'orange']"
      ]
     },
     "execution_count": 270,
     "metadata": {},
     "output_type": "execute_result"
    }
   ],
   "source": [
    "fruits"
   ]
  },
  {
   "cell_type": "code",
   "execution_count": 272,
   "id": "8c3b40a1-c010-42dd-a1ab-ee15885c9ead",
   "metadata": {},
   "outputs": [
    {
     "data": {
      "text/plain": [
       "3"
      ]
     },
     "execution_count": 272,
     "metadata": {},
     "output_type": "execute_result"
    }
   ],
   "source": [
    "fruits.count(\"cherry\")"
   ]
  },
  {
   "cell_type": "code",
   "execution_count": 274,
   "id": "fd7b3503-32d0-4da5-bf51-7afd584ee033",
   "metadata": {},
   "outputs": [
    {
     "data": {
      "text/plain": [
       "2"
      ]
     },
     "execution_count": 274,
     "metadata": {},
     "output_type": "execute_result"
    }
   ],
   "source": [
    "fruits.index(\"cherry\")"
   ]
  },
  {
   "cell_type": "code",
   "execution_count": 275,
   "id": "20239983-23aa-4967-9190-cd0e43ab8462",
   "metadata": {},
   "outputs": [],
   "source": [
    "fruits.insert(2,\"fig\")"
   ]
  },
  {
   "cell_type": "code",
   "execution_count": 276,
   "id": "dfd84e17-7ea1-475e-b064-f51993c9b521",
   "metadata": {},
   "outputs": [
    {
     "data": {
      "text/plain": [
       "['dragon fruit',\n",
       " 'pinaple',\n",
       " 'fig',\n",
       " 'cherry',\n",
       " 'mango',\n",
       " 'sapota',\n",
       " 'greaps',\n",
       " 'cherry',\n",
       " 'orange',\n",
       " 'cherry',\n",
       " 'orange']"
      ]
     },
     "execution_count": 276,
     "metadata": {},
     "output_type": "execute_result"
    }
   ],
   "source": [
    "fruits"
   ]
  },
  {
   "cell_type": "code",
   "execution_count": 278,
   "id": "8646a969-51ac-4879-85b4-a2d9f983b750",
   "metadata": {},
   "outputs": [
    {
     "data": {
      "text/plain": [
       "'orange'"
      ]
     },
     "execution_count": 278,
     "metadata": {},
     "output_type": "execute_result"
    }
   ],
   "source": [
    "fruits.pop()"
   ]
  },
  {
   "cell_type": "code",
   "execution_count": 279,
   "id": "1fd40174-04e5-478c-977a-9ffcd48723a0",
   "metadata": {},
   "outputs": [
    {
     "data": {
      "text/plain": [
       "'cherry'"
      ]
     },
     "execution_count": 279,
     "metadata": {},
     "output_type": "execute_result"
    }
   ],
   "source": [
    "fruits.pop(3)"
   ]
  },
  {
   "cell_type": "code",
   "execution_count": 281,
   "id": "8d69daa9-f1f2-467d-877c-9c51c114e91a",
   "metadata": {},
   "outputs": [],
   "source": [
    "fruits.remove(\"fig\")"
   ]
  },
  {
   "cell_type": "code",
   "execution_count": 282,
   "id": "3fada373-e860-4186-8a4d-a381ff1f67c8",
   "metadata": {},
   "outputs": [],
   "source": [
    "fruits.reverse()"
   ]
  },
  {
   "cell_type": "code",
   "execution_count": 283,
   "id": "ccba2787-6015-4f70-934c-b6f8fd65cc2e",
   "metadata": {},
   "outputs": [
    {
     "data": {
      "text/plain": [
       "['cherry',\n",
       " 'orange',\n",
       " 'cherry',\n",
       " 'greaps',\n",
       " 'sapota',\n",
       " 'mango',\n",
       " 'pinaple',\n",
       " 'dragon fruit']"
      ]
     },
     "execution_count": 283,
     "metadata": {},
     "output_type": "execute_result"
    }
   ],
   "source": [
    "fruits"
   ]
  },
  {
   "cell_type": "code",
   "execution_count": 284,
   "id": "b51fc092-d9b5-43f1-9259-4b92704cd08f",
   "metadata": {},
   "outputs": [
    {
     "data": {
      "text/plain": [
       "['cherry',\n",
       " 'orange',\n",
       " 'cherry',\n",
       " 'greaps',\n",
       " 'sapota',\n",
       " 'mango',\n",
       " 'pinaple',\n",
       " 'dragon fruit']"
      ]
     },
     "execution_count": 284,
     "metadata": {},
     "output_type": "execute_result"
    }
   ],
   "source": [
    "fruits"
   ]
  },
  {
   "cell_type": "code",
   "execution_count": 287,
   "id": "9ea43f51-7ea5-4238-8a96-5d6aa5346c2d",
   "metadata": {},
   "outputs": [],
   "source": [
    "fruits.sort(reverse=True)"
   ]
  },
  {
   "cell_type": "code",
   "execution_count": 288,
   "id": "8c4b1273-769a-47f6-94a4-76ffe3881462",
   "metadata": {},
   "outputs": [
    {
     "data": {
      "text/plain": [
       "['sapota',\n",
       " 'pinaple',\n",
       " 'orange',\n",
       " 'mango',\n",
       " 'greaps',\n",
       " 'dragon fruit',\n",
       " 'cherry',\n",
       " 'cherry']"
      ]
     },
     "execution_count": 288,
     "metadata": {},
     "output_type": "execute_result"
    }
   ],
   "source": [
    "fruits"
   ]
  },
  {
   "cell_type": "code",
   "execution_count": 289,
   "id": "5612d63e-c065-44ae-b456-06b1c87b14f1",
   "metadata": {},
   "outputs": [],
   "source": [
    "fruits.clear()"
   ]
  },
  {
   "cell_type": "code",
   "execution_count": 290,
   "id": "b4b2731a-0559-445b-ba19-da7665b5ec86",
   "metadata": {},
   "outputs": [
    {
     "data": {
      "text/plain": [
       "[]"
      ]
     },
     "execution_count": 290,
     "metadata": {},
     "output_type": "execute_result"
    }
   ],
   "source": [
    "fruits"
   ]
  },
  {
   "cell_type": "code",
   "execution_count": 291,
   "id": "0168021c-7575-4aca-a66b-38ca40ebfe71",
   "metadata": {},
   "outputs": [],
   "source": [
    "del(fruits)"
   ]
  },
  {
   "cell_type": "code",
   "execution_count": 292,
   "id": "7cf939a2-0722-4304-996d-781583e4649f",
   "metadata": {},
   "outputs": [
    {
     "ename": "NameError",
     "evalue": "name 'fruits' is not defined",
     "output_type": "error",
     "traceback": [
      "\u001b[31m---------------------------------------------------------------------------\u001b[39m",
      "\u001b[31mNameError\u001b[39m                                 Traceback (most recent call last)",
      "\u001b[36mCell\u001b[39m\u001b[36m \u001b[39m\u001b[32mIn[292]\u001b[39m\u001b[32m, line 1\u001b[39m\n\u001b[32m----> \u001b[39m\u001b[32m1\u001b[39m \u001b[43mfruits\u001b[49m\n",
      "\u001b[31mNameError\u001b[39m: name 'fruits' is not defined"
     ]
    }
   ],
   "source": [
    "fruits"
   ]
  },
  {
   "cell_type": "code",
   "execution_count": 299,
   "id": "03990936-8b4b-4e6a-b36a-a96091f1c58c",
   "metadata": {},
   "outputs": [
    {
     "name": "stdout",
     "output_type": "stream",
     "text": [
      "['b', 'a', 'c']\n"
     ]
    }
   ],
   "source": [
    "lst =['a','b','c']\n",
    "random.shuffle(lst)\n",
    "print(lst)"
   ]
  },
  {
   "cell_type": "code",
   "execution_count": 302,
   "id": "63c42253-e6d8-44fb-b1bf-f127f3f5aa80",
   "metadata": {},
   "outputs": [
    {
     "name": "stdout",
     "output_type": "stream",
     "text": [
      "Passwod Generaot\n"
     ]
    },
    {
     "name": "stdin",
     "output_type": "stream",
     "text": [
      "How many letters in your password\n",
      " 5\n",
      "How many numbers in your password\n",
      " 5\n",
      "How many symbols in your password\n",
      " 3\n"
     ]
    },
    {
     "name": "stdout",
     "output_type": "stream",
     "text": [
      "Your Password is IN081@8$Zt4^T\n"
     ]
    }
   ],
   "source": [
    "import random\n",
    "letters = ['a', 'b', 'c', 'd', 'e', 'f', 'g', 'h', 'i', 'j', 'k', 'l', 'm', 'n', 'o', 'p', 'q', 'r', 's', 't', 'u', 'v', 'w', 'x', 'y', 'z','A', 'B', 'C', 'D', 'E', 'F', 'G', 'H', 'I', 'J', 'K', 'L', 'M', 'N', 'O', 'P', 'Q', 'R', 'S', 'T', 'U', 'V', 'W', 'X', 'Y', 'Z']\n",
    "numbers=[0,1,2,3,4,5,6,7,8,9]\n",
    "symbels=['!','@','$','%','^','&','*','(',')','-',\"+\"]\n",
    "print(\"Passwod Generaot\")\n",
    "no_letters =int(input(\"How many letters in your password\\n\"))\n",
    "no_numbers =int(input(\"How many numbers in your password\\n\"))\n",
    "no_symbols =int(input(\"How many symbols in your password\\n\"))\n",
    "password =\"\"\n",
    "for chr in range(0,no_letters):\n",
    "   password+=random.choice(letters)\n",
    "for chr in range(0,no_numbers):\n",
    "   password+=str(random.choice(numbers))\n",
    "   \n",
    "for chr in range(0,no_symbols):\n",
    "   password+=random.choice(symbels)\n",
    "\n",
    "result =list(password)\n",
    "random.shuffle(result)\n",
    "result =\"\".join(result)\n",
    "print(f\"Your Password is {result}\")"
   ]
  },
  {
   "cell_type": "code",
   "execution_count": 329,
   "id": "d4c9e602-ab4a-4725-8eff-d97b942ee232",
   "metadata": {},
   "outputs": [
    {
     "name": "stdout",
     "output_type": "stream",
     "text": [
      "['A', 'B', 'C', 'D', 'E', 'F', 'G', 'H', 'I', 'J', 'K', 'L', 'M', 'N', 'O', 'P', 'Q', 'R', 'S', 'T', 'U', 'V', 'W', 'X', 'Y', 'Z', 'a', 'b', 'c', 'd', 'e', 'f', 'g', 'h', 'i', 'j', 'k', 'l', 'm', 'n', 'o', 'p', 'q', 'r', 's', 't', 'u', 'v', 'w', 'x', 'y', 'z']\n"
     ]
    }
   ],
   "source": [
    "lst =[chr(i) for i in range(65,91)]\n",
    "lst =lst+[chr(i) for i in range(97,123)]\n",
    "print(lst)"
   ]
  },
  {
   "cell_type": "code",
   "execution_count": 332,
   "id": "2e1dc34c-709a-4ae4-835b-0c501e799e35",
   "metadata": {},
   "outputs": [
    {
     "data": {
      "text/plain": [
       "'Hello how is the day'"
      ]
     },
     "execution_count": 332,
     "metadata": {},
     "output_type": "execute_result"
    }
   ],
   "source": [
    "st=\"#Hello how is the day!\"\n",
    "result =\"\".join(x for x in st if x.isalpha() or x.isspace())\n",
    "result\n"
   ]
  },
  {
   "cell_type": "code",
   "execution_count": 321,
   "id": "a317bd22-8618-4d78-8ac0-3518165125df",
   "metadata": {},
   "outputs": [
    {
     "data": {
      "text/plain": [
       "'A'"
      ]
     },
     "execution_count": 321,
     "metadata": {},
     "output_type": "execute_result"
    }
   ],
   "source": [
    "chr(65)"
   ]
  },
  {
   "cell_type": "code",
   "execution_count": null,
   "id": "94ce77f2-2990-4744-be5e-55c260f8b9e8",
   "metadata": {},
   "outputs": [],
   "source": [
    "import random\n",
    "letters = ['a', 'b', 'c', 'd', 'e', 'f', 'g', 'h', 'i', 'j', 'k', 'l', 'm', 'n', 'o', 'p', 'q', 'r', 's', 't', 'u', 'v', 'w', 'x', 'y', 'z','A', 'B', 'C', 'D', 'E', 'F', 'G', 'H', 'I', 'J', 'K', 'L', 'M', 'N', 'O', 'P', 'Q', 'R', 'S', 'T', 'U', 'V', 'W', 'X', 'Y', 'Z']\n",
    "numbers=[0,1,2,3,4,5,6,7,8,9]\n",
    "symbels=['!','@','$','%','^','&','*','(',')','-',\"+\"]\n",
    "print(\"Passwod Generaot\")\n",
    "no_letters =int(input(\"How many letters in your password\\n\"))\n",
    "no_numbers =int(input(\"How many numbers in your password\\n\"))\n",
    "no_symbols =int(input(\"How many symbols in your password\\n\"))\n",
    "\n",
    "password =[]\n",
    "for chr in range(0,no_letters):\n",
    "    password.append(random.choice(letters))\n",
    "for chr in range(0,no_numbers):\n",
    "   password.append(str(random.choice(numbers)))\n",
    "\n",
    "for chr in range(0,no_symbols):\n",
    "    password.append(random.choice(symbels))\n",
    "\n",
    "random.shuffle(password)\n",
    "\n",
    "password_out =\"\"\n",
    "for chr in password:\n",
    "    password_out+=chr\n",
    "print(f\"Your password is {password_out}\")"
   ]
  }
 ],
 "metadata": {
  "kernelspec": {
   "display_name": "Python 3 (ipykernel)",
   "language": "python",
   "name": "python3"
  },
  "language_info": {
   "codemirror_mode": {
    "name": "ipython",
    "version": 3
   },
   "file_extension": ".py",
   "mimetype": "text/x-python",
   "name": "python",
   "nbconvert_exporter": "python",
   "pygments_lexer": "ipython3",
   "version": "3.12.10"
  }
 },
 "nbformat": 4,
 "nbformat_minor": 5
}

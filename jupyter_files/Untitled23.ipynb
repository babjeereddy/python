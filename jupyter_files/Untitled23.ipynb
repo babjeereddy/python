{
 "cells": [
  {
   "cell_type": "code",
   "execution_count": 1,
   "id": "90a32833-4655-4179-a588-00c8d6066c1a",
   "metadata": {},
   "outputs": [
    {
     "name": "stdout",
     "output_type": "stream",
     "text": [
      "Number: 0\n",
      "Number: 1\n",
      "Number: 2\n",
      "Number: 3\n",
      "Number: 4\n",
      "Main thread finished\n"
     ]
    }
   ],
   "source": [
    "import threading\n",
    "\n",
    "def print_numbers():\n",
    "    for i in range(5):\n",
    "        print(f\"Number: {i}\")\n",
    "\n",
    "thread = threading.Thread(target=print_numbers)\n",
    "thread.start()\n",
    "thread.join()\n",
    "print(\"Main thread finished\")"
   ]
  },
  {
   "cell_type": "code",
   "execution_count": 2,
   "id": "8549127b-4de3-4a06-bb4f-b3b2116b885b",
   "metadata": {},
   "outputs": [
    {
     "name": "stdout",
     "output_type": "stream",
     "text": [
      "Thread T1: 0\n",
      "Thread T1: 1\n",
      "Thread T1: 2\n",
      "Thread T1: 3\n",
      "Thread T1: 4\n",
      "Thread T2: 0\n",
      "Thread T2: 1\n",
      "Thread T2: 2\n",
      "Thread T2: 3\n",
      "Thread T2: 4\n",
      "Thread T3: 0\n",
      "Thread T3: 1\n",
      "Thread T3: 2\n",
      "Thread T3: 3\n",
      "Thread T3: 4\n",
      "Main thread finished\n"
     ]
    }
   ],
   "source": [
    "import threading\n",
    "\n",
    "def print_numbers(n):\n",
    "    for i in range(n):\n",
    "        print(f\"Thread {threading.current_thread().name}: {i}\")\n",
    "\n",
    "# Create multiple threads\n",
    "t1 = threading.Thread(target=print_numbers, args=(5,), name=\"T1\")\n",
    "t2 = threading.Thread(target=print_numbers, args=(5,), name=\"T2\")\n",
    "t3 = threading.Thread(target=print_numbers, args=(5,), name=\"T3\")\n",
    "\n",
    "# Start all threads\n",
    "t1.start()\n",
    "t2.start()\n",
    "t3.start()\n",
    "\n",
    "# Wait for all threads to finish\n",
    "t1.join()\n",
    "t2.join()\n",
    "t3.join()\n",
    "\n",
    "print(\"Main thread finished\")\n"
   ]
  },
  {
   "cell_type": "code",
   "execution_count": 3,
   "id": "55f2c7cf-d21e-4c93-953a-33d103e55bc4",
   "metadata": {},
   "outputs": [
    {
     "name": "stdout",
     "output_type": "stream",
     "text": [
      "Task 0 started by Thread-0\n",
      "Task 1 started by Thread-1\n",
      "Task 2 started by Thread-2\n",
      "Task 0 finished\n",
      "Task 1 finished\n",
      "Task 2 finished\n",
      "Main thread finished\n"
     ]
    }
   ],
   "source": [
    "import threading\n",
    "import time\n",
    "\n",
    "def worker(task_id):\n",
    "    print(f\"Task {task_id} started by {threading.current_thread().name}\")\n",
    "    time.sleep(2)  # Simulate some work\n",
    "    print(f\"Task {task_id} finished\")\n",
    "\n",
    "# Create and start multiple threads with the same function\n",
    "threads = []\n",
    "\n",
    "for i in range(3):\n",
    "    t = threading.Thread(target=worker, args=(i,), name=f\"Thread-{i}\")\n",
    "    threads.append(t)\n",
    "    t.start()\n",
    "\n",
    "# Wait for all threads to finish\n",
    "for t in threads:\n",
    "    t.join()\n",
    "\n",
    "print(\"Main thread finished\")\n",
    "\n"
   ]
  },
  {
   "cell_type": "code",
   "execution_count": null,
   "id": "2fce8445-6f30-46d8-9bed-66977d7faec7",
   "metadata": {},
   "outputs": [],
   "source": []
  }
 ],
 "metadata": {
  "kernelspec": {
   "display_name": "Python 3 (ipykernel)",
   "language": "python",
   "name": "python3"
  },
  "language_info": {
   "codemirror_mode": {
    "name": "ipython",
    "version": 3
   },
   "file_extension": ".py",
   "mimetype": "text/x-python",
   "name": "python",
   "nbconvert_exporter": "python",
   "pygments_lexer": "ipython3",
   "version": "3.12.10"
  }
 },
 "nbformat": 4,
 "nbformat_minor": 5
}

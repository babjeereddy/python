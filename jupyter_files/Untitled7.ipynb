{
 "cells": [
  {
   "cell_type": "code",
   "execution_count": 1,
   "id": "7cd9572f-6d8f-43c3-8a4d-2268702a218b",
   "metadata": {},
   "outputs": [],
   "source": [
    "st=\"Hello Python\""
   ]
  },
  {
   "cell_type": "code",
   "execution_count": 2,
   "id": "9c382ce1-9b61-4561-8333-b570ca33f259",
   "metadata": {},
   "outputs": [
    {
     "name": "stdout",
     "output_type": "stream",
     "text": [
      "H\n"
     ]
    }
   ],
   "source": [
    "print(st[0])"
   ]
  },
  {
   "cell_type": "code",
   "execution_count": 3,
   "id": "56b74e6c-b749-4a99-a01f-23ec9b6415e0",
   "metadata": {},
   "outputs": [
    {
     "name": "stdout",
     "output_type": "stream",
     "text": [
      "n\n"
     ]
    }
   ],
   "source": [
    "print(st[-1])"
   ]
  },
  {
   "cell_type": "code",
   "execution_count": 4,
   "id": "4ed92831-9066-4eac-85a2-db8352202d5b",
   "metadata": {},
   "outputs": [
    {
     "name": "stdout",
     "output_type": "stream",
     "text": [
      "ell\n"
     ]
    }
   ],
   "source": [
    "print(st[1:4])"
   ]
  },
  {
   "cell_type": "code",
   "execution_count": 6,
   "id": "32ea810b-446c-4264-86ad-6e622fe2d73b",
   "metadata": {},
   "outputs": [
    {
     "name": "stdout",
     "output_type": "stream",
     "text": [
      "HloPto\n"
     ]
    }
   ],
   "source": [
    "print(st[::2])"
   ]
  },
  {
   "cell_type": "code",
   "execution_count": 7,
   "id": "94faa19f-df04-4cae-9621-1c1eadb47cb3",
   "metadata": {},
   "outputs": [
    {
     "name": "stdout",
     "output_type": "stream",
     "text": [
      "nohtyP olleH\n"
     ]
    }
   ],
   "source": [
    "print(st[::-1])"
   ]
  },
  {
   "cell_type": "code",
   "execution_count": 9,
   "id": "c8c583b5-0c2c-416f-883c-a7af3ef7827a",
   "metadata": {},
   "outputs": [
    {
     "name": "stdout",
     "output_type": "stream",
     "text": [
      "**************Hello Python**************\n"
     ]
    }
   ],
   "source": [
    "print(st.center(40,\"*\"))"
   ]
  },
  {
   "cell_type": "code",
   "execution_count": 10,
   "id": "608d83c9-8be4-4109-a5a8-37e88c0e82bc",
   "metadata": {},
   "outputs": [
    {
     "data": {
      "text/plain": [
       "['Hello', 'Python']"
      ]
     },
     "execution_count": 10,
     "metadata": {},
     "output_type": "execute_result"
    }
   ],
   "source": [
    "st.split()"
   ]
  },
  {
   "cell_type": "code",
   "execution_count": 11,
   "id": "9648d262-d673-46aa-a045-36545f24cda9",
   "metadata": {},
   "outputs": [
    {
     "data": {
      "text/plain": [
       "['hello', 'python']"
      ]
     },
     "execution_count": 11,
     "metadata": {},
     "output_type": "execute_result"
    }
   ],
   "source": [
    "\"hello|python\".split(\"|\")"
   ]
  },
  {
   "cell_type": "code",
   "execution_count": 12,
   "id": "e5d29186-5115-479b-a377-a6ccdf5b7fa7",
   "metadata": {},
   "outputs": [
    {
     "data": {
      "text/plain": [
       "'Hello Python'"
      ]
     },
     "execution_count": 12,
     "metadata": {},
     "output_type": "execute_result"
    }
   ],
   "source": [
    "\"  Hello Python  \".strip()"
   ]
  },
  {
   "cell_type": "code",
   "execution_count": 14,
   "id": "8eef5f2e-ebd2-4f29-9f2e-26d573a87148",
   "metadata": {},
   "outputs": [
    {
     "data": {
      "text/plain": [
       "'Hello#python#i#love#python'"
      ]
     },
     "execution_count": 14,
     "metadata": {},
     "output_type": "execute_result"
    }
   ],
   "source": [
    "\"#\".join([\"Hello\",\"python\",\"i\",\"love\", \"python\"])"
   ]
  },
  {
   "cell_type": "code",
   "execution_count": 16,
   "id": "30f466eb-7e55-4d6d-9eab-4aca00e7f6b2",
   "metadata": {},
   "outputs": [
    {
     "data": {
      "text/plain": [
       "'I love java'"
      ]
     },
     "execution_count": 16,
     "metadata": {},
     "output_type": "execute_result"
    }
   ],
   "source": [
    "\"I love python\".replace(\"python\",\"java\")"
   ]
  },
  {
   "cell_type": "code",
   "execution_count": 17,
   "id": "8a6664b3-6e36-4853-a759-327cd074bd46",
   "metadata": {},
   "outputs": [
    {
     "data": {
      "text/plain": [
       "'Ilovepython'"
      ]
     },
     "execution_count": 17,
     "metadata": {},
     "output_type": "execute_result"
    }
   ],
   "source": [
    "\"I love python\".replace(\" \",\"\")"
   ]
  },
  {
   "cell_type": "code",
   "execution_count": 33,
   "id": "6a3704c1-b18c-40b9-a518-02e6e8deb531",
   "metadata": {},
   "outputs": [
    {
     "name": "stdout",
     "output_type": "stream",
     "text": [
      "20\n",
      "9\n",
      "32\n",
      "39\n",
      "2\n",
      "53\n",
      "27\n",
      "58\n",
      "80\n"
     ]
    }
   ],
   "source": [
    "import random\n",
    "for i in range(1,10):print(random.randint(1,100))"
   ]
  },
  {
   "cell_type": "code",
   "execution_count": 48,
   "id": "403b42d1-52c4-444f-9121-28446f0a30f2",
   "metadata": {},
   "outputs": [
    {
     "name": "stdout",
     "output_type": "stream",
     "text": [
      "tail\n"
     ]
    }
   ],
   "source": [
    "is_head = random.randint(0,1)\n",
    "\n",
    "if is_head==0:\n",
    "    print(\"head\")\n",
    "else:\n",
    "    print(\"tail\")\n"
   ]
  },
  {
   "cell_type": "code",
   "execution_count": 49,
   "id": "ec053d4d-4d99-4761-bbe7-b9eb111f322b",
   "metadata": {},
   "outputs": [
    {
     "name": "stdout",
     "output_type": "stream",
     "text": [
      "0.5927659434925446\n"
     ]
    }
   ],
   "source": [
    "print(random.random())"
   ]
  },
  {
   "cell_type": "code",
   "execution_count": 64,
   "id": "53d8d5ff-e1bb-442a-adfa-f7845f99ba3c",
   "metadata": {},
   "outputs": [
    {
     "name": "stdout",
     "output_type": "stream",
     "text": [
      "3.9144948834984614\n",
      "2.3576425653205173\n",
      "6.858410257358684\n",
      "1.6519265800078848\n",
      "5.822938038760203\n",
      "4.29120025221327\n",
      "1.5219903229723613\n",
      "5.566921598704782\n",
      "1.3374609259778638\n",
      "4.902811152961473\n"
     ]
    }
   ],
   "source": [
    "random.seed(7)\n",
    "for i in range(1,11):\n",
    "    print(random.uniform(1,10))"
   ]
  },
  {
   "cell_type": "code",
   "execution_count": 77,
   "id": "6f00ea35-01ca-46c3-a865-f8aae0efc9c5",
   "metadata": {},
   "outputs": [
    {
     "data": {
      "text/plain": [
       "'mango'"
      ]
     },
     "execution_count": 77,
     "metadata": {},
     "output_type": "execute_result"
    }
   ],
   "source": [
    "random.choice([\"apple\",\"mango\",\"banana\",\"sapota\"])"
   ]
  },
  {
   "cell_type": "code",
   "execution_count": 80,
   "id": "0cf692cd-699b-454b-9961-c6eaacee52ae",
   "metadata": {},
   "outputs": [
    {
     "data": {
      "text/plain": [
       "['mango', 'apple', 'apple']"
      ]
     },
     "execution_count": 80,
     "metadata": {},
     "output_type": "execute_result"
    }
   ],
   "source": [
    "random.choices([\"apple\",\"mango\",\"banana\",\"sapota\"],k=3)"
   ]
  },
  {
   "cell_type": "code",
   "execution_count": 85,
   "id": "30818801-ad8b-4049-bc12-15d5d4499517",
   "metadata": {},
   "outputs": [
    {
     "data": {
      "text/plain": [
       "['sapota', 'banana', 'mango']"
      ]
     },
     "execution_count": 85,
     "metadata": {},
     "output_type": "execute_result"
    }
   ],
   "source": [
    "random.sample([\"apple\",\"mango\",\"banana\",\"sapota\"],3)"
   ]
  },
  {
   "cell_type": "code",
   "execution_count": 91,
   "id": "d83f5db2-8445-47ac-9ead-b2cd2af2b6ab",
   "metadata": {},
   "outputs": [
    {
     "name": "stdout",
     "output_type": "stream",
     "text": [
      "['mango', 'apple', 'sapota', 'banana']\n"
     ]
    }
   ],
   "source": [
    "lst=[\"apple\",\"mango\",\"banana\",\"sapota\"]\n",
    "random.shuffle(lst)\n",
    "print(lst)"
   ]
  },
  {
   "cell_type": "code",
   "execution_count": null,
   "id": "e9b93df3-42fa-4422-9e34-d25854a91f9a",
   "metadata": {},
   "outputs": [],
   "source": [
    "random"
   ]
  },
  {
   "cell_type": "code",
   "execution_count": 97,
   "id": "ec0b0772-d624-49ae-8760-6940f52b9a2d",
   "metadata": {},
   "outputs": [
    {
     "name": "stdout",
     "output_type": "stream",
     "text": [
      "applebanana\n"
     ]
    }
   ],
   "source": [
    "st=\"1apple#banana!\"\n",
    "res=\"\"\n",
    "for i in st:\n",
    "    if i.isalpha():\n",
    "        res=res+i\n",
    "print(res)\n"
   ]
  },
  {
   "cell_type": "code",
   "execution_count": 117,
   "id": "14db7539-d6bc-445c-9a78-8d126b8ac63f",
   "metadata": {},
   "outputs": [
    {
     "name": "stdout",
     "output_type": "stream",
     "text": [
      "\n"
     ]
    }
   ],
   "source": [
    "st=\"1apple#banana!\"\n",
    "x =  \"\".join( [chr for char in st  if i.isalpha()])\n",
    "print(x)"
   ]
  },
  {
   "cell_type": "code",
   "execution_count": 119,
   "id": "e58a9b5d-b440-4ec8-8983-169e9f7b6065",
   "metadata": {},
   "outputs": [
    {
     "name": "stdout",
     "output_type": "stream",
     "text": [
      "<class 'list'>\n",
      "['apple', 'banana', 'cherry']\n"
     ]
    }
   ],
   "source": [
    "fruits = [\"apple\", \"banana\", \"cherry\"]\n",
    "print(type(fruits))\n",
    "print(fruits)"
   ]
  },
  {
   "cell_type": "code",
   "execution_count": 120,
   "id": "23bf636b-1226-4941-b938-ed0394b09dfc",
   "metadata": {},
   "outputs": [],
   "source": [
    "fruits = list((\"apple\", \"banana\", \"cherry\"))\n"
   ]
  },
  {
   "cell_type": "code",
   "execution_count": 128,
   "id": "5df6dfa2-fe8e-4a9b-9ee8-4e2debaff39a",
   "metadata": {},
   "outputs": [],
   "source": [
    "lst =[*range(1,11,2)]"
   ]
  },
  {
   "cell_type": "code",
   "execution_count": 129,
   "id": "fb9b2767-0ab1-4f89-99e2-0f6062fe8859",
   "metadata": {},
   "outputs": [
    {
     "data": {
      "text/plain": [
       "[1, 3, 5, 7, 9]"
      ]
     },
     "execution_count": 129,
     "metadata": {},
     "output_type": "execute_result"
    }
   ],
   "source": [
    "lst"
   ]
  },
  {
   "cell_type": "code",
   "execution_count": 125,
   "id": "ffe36a76-594f-4c7f-8dab-1e0503a1d29a",
   "metadata": {},
   "outputs": [
    {
     "name": "stdout",
     "output_type": "stream",
     "text": [
      "[]\n",
      "<class 'list'>\n"
     ]
    }
   ],
   "source": [
    "lst =[]\n",
    "print(lst)\n",
    "print(type(lst))"
   ]
  },
  {
   "cell_type": "code",
   "execution_count": 131,
   "id": "2db88c06-6e4b-4bdf-bcbe-ece79f0bf608",
   "metadata": {},
   "outputs": [
    {
     "name": "stdout",
     "output_type": "stream",
     "text": [
      "[0, 1, 2, 3, 4, 5, 6, 7, 8, 9, 10]\n"
     ]
    }
   ],
   "source": [
    "lst =[]\n",
    "for i in range(0,11):\n",
    "    lst.append(i)\n",
    "print(lst)"
   ]
  },
  {
   "cell_type": "code",
   "execution_count": 134,
   "id": "c2870b9d-3d0e-4394-b527-d81a11b3581e",
   "metadata": {},
   "outputs": [],
   "source": [
    "lst =[ x * x for x in range(1,11) if x%2==0]"
   ]
  },
  {
   "cell_type": "code",
   "execution_count": 135,
   "id": "a0bb469e-a02a-43ec-915d-12763517f65f",
   "metadata": {},
   "outputs": [
    {
     "data": {
      "text/plain": [
       "[4, 16, 36, 64, 100]"
      ]
     },
     "execution_count": 135,
     "metadata": {},
     "output_type": "execute_result"
    }
   ],
   "source": [
    "lst"
   ]
  },
  {
   "cell_type": "code",
   "execution_count": 136,
   "id": "f5316861-c07a-444e-8514-4c9a4c19dd7b",
   "metadata": {},
   "outputs": [
    {
     "data": {
      "text/plain": [
       "['apple', 'banana', 'cherry']"
      ]
     },
     "execution_count": 136,
     "metadata": {},
     "output_type": "execute_result"
    }
   ],
   "source": [
    "fruits"
   ]
  },
  {
   "cell_type": "code",
   "execution_count": 137,
   "id": "1583d937-3b64-4c44-bf5e-9c2749c4242a",
   "metadata": {},
   "outputs": [
    {
     "name": "stdout",
     "output_type": "stream",
     "text": [
      "['apple', 'banana', 'cherry', 'apple']\n"
     ]
    }
   ],
   "source": [
    "fruits.append(\"apple\")\n",
    "print(fruits)"
   ]
  },
  {
   "cell_type": "code",
   "execution_count": 139,
   "id": "94a7ed56-4409-4c39-929f-d91075475e73",
   "metadata": {},
   "outputs": [],
   "source": [
    "fruits.extend([\"pinaple\",\"sapota\",\"fig\"])"
   ]
  },
  {
   "cell_type": "code",
   "execution_count": 140,
   "id": "e1f2e7f4-97bc-4dd2-9a66-2039206c2abc",
   "metadata": {},
   "outputs": [
    {
     "data": {
      "text/plain": [
       "['apple', 'banana', 'cherry', 'apple', 'pinaple', 'sapota', 'fig']"
      ]
     },
     "execution_count": 140,
     "metadata": {},
     "output_type": "execute_result"
    }
   ],
   "source": [
    "fruits"
   ]
  },
  {
   "cell_type": "code",
   "execution_count": 145,
   "id": "0d7e91a9-c7e5-44ed-bd7f-7c7f1fa00ac3",
   "metadata": {},
   "outputs": [],
   "source": [
    "fruits =fruits+[\"orange\",\"dragon fruit\"]"
   ]
  },
  {
   "cell_type": "code",
   "execution_count": 146,
   "id": "104e394a-49f7-4d9d-b0b8-8781b18164b8",
   "metadata": {},
   "outputs": [
    {
     "data": {
      "text/plain": [
       "['apple',\n",
       " 'banana',\n",
       " 'cherry',\n",
       " 'apple',\n",
       " 'pinaple',\n",
       " 'sapota',\n",
       " 'fig',\n",
       " 'orange',\n",
       " 'dragon fruit']"
      ]
     },
     "execution_count": 146,
     "metadata": {},
     "output_type": "execute_result"
    }
   ],
   "source": [
    "fruits"
   ]
  },
  {
   "cell_type": "code",
   "execution_count": 144,
   "id": "ecf081a7-1218-414d-9e0a-39ce4e893512",
   "metadata": {},
   "outputs": [
    {
     "data": {
      "text/plain": [
       "2"
      ]
     },
     "execution_count": 144,
     "metadata": {},
     "output_type": "execute_result"
    }
   ],
   "source": [
    "fruits.count(\"apple\")"
   ]
  },
  {
   "cell_type": "code",
   "execution_count": 149,
   "id": "8bc08dbd-ccb8-4a17-ba64-6b2ba6337acc",
   "metadata": {},
   "outputs": [],
   "source": [
    "fruits.insert(3,\"papaya\")"
   ]
  },
  {
   "cell_type": "code",
   "execution_count": 150,
   "id": "b3407ff6-fa4f-4220-886f-0ee5272e186c",
   "metadata": {},
   "outputs": [
    {
     "data": {
      "text/plain": [
       "['apple',\n",
       " 'banana',\n",
       " 'cherry',\n",
       " 'papaya',\n",
       " 'apple',\n",
       " 'pinaple',\n",
       " 'sapota',\n",
       " 'fig',\n",
       " 'orange',\n",
       " 'dragon fruit']"
      ]
     },
     "execution_count": 150,
     "metadata": {},
     "output_type": "execute_result"
    }
   ],
   "source": [
    "fruits"
   ]
  },
  {
   "cell_type": "code",
   "execution_count": 151,
   "id": "2189ee1a-6c60-4877-bbed-d58c07302adb",
   "metadata": {},
   "outputs": [
    {
     "data": {
      "text/plain": [
       "'dragon fruit'"
      ]
     },
     "execution_count": 151,
     "metadata": {},
     "output_type": "execute_result"
    }
   ],
   "source": [
    "fruits.pop()"
   ]
  },
  {
   "cell_type": "code",
   "execution_count": 152,
   "id": "616fcbc9-d403-4d23-b2ad-61eda7d8cede",
   "metadata": {},
   "outputs": [
    {
     "data": {
      "text/plain": [
       "['apple',\n",
       " 'banana',\n",
       " 'cherry',\n",
       " 'papaya',\n",
       " 'apple',\n",
       " 'pinaple',\n",
       " 'sapota',\n",
       " 'fig',\n",
       " 'orange']"
      ]
     },
     "execution_count": 152,
     "metadata": {},
     "output_type": "execute_result"
    }
   ],
   "source": [
    "fruits"
   ]
  },
  {
   "cell_type": "code",
   "execution_count": 153,
   "id": "7cd8e850-6686-47b4-b1c0-2d06e0a5bc9f",
   "metadata": {},
   "outputs": [
    {
     "data": {
      "text/plain": [
       "'papaya'"
      ]
     },
     "execution_count": 153,
     "metadata": {},
     "output_type": "execute_result"
    }
   ],
   "source": [
    "fruits.pop(3)"
   ]
  },
  {
   "cell_type": "code",
   "execution_count": 154,
   "id": "ed9d2da9-17f3-467e-b65f-dfe7760f7fd7",
   "metadata": {},
   "outputs": [],
   "source": [
    "fruits.remove(\"apple\")"
   ]
  },
  {
   "cell_type": "code",
   "execution_count": 159,
   "id": "5e87777e-d5f7-4d4e-a3d8-0c60e8af889b",
   "metadata": {},
   "outputs": [
    {
     "data": {
      "text/plain": [
       "['orange', 'fig', 'sapota', 'pinaple', 'apple', 'cherry', 'banana']"
      ]
     },
     "execution_count": 159,
     "metadata": {},
     "output_type": "execute_result"
    }
   ],
   "source": [
    "fruits\n"
   ]
  },
  {
   "cell_type": "code",
   "execution_count": 160,
   "id": "1d5f0c50-860e-4a18-a172-6d6866d37b40",
   "metadata": {},
   "outputs": [],
   "source": [
    "fruits.reverse()"
   ]
  },
  {
   "cell_type": "code",
   "execution_count": 161,
   "id": "b67bbd31-e9fe-4063-bda6-8b1f0790c3d0",
   "metadata": {},
   "outputs": [],
   "source": [
    "fruits.sort()"
   ]
  },
  {
   "cell_type": "code",
   "execution_count": 162,
   "id": "4db6a236-3110-4365-a1dd-3b590b8a4bff",
   "metadata": {},
   "outputs": [
    {
     "data": {
      "text/plain": [
       "['apple', 'banana', 'cherry', 'fig', 'orange', 'pinaple', 'sapota']"
      ]
     },
     "execution_count": 162,
     "metadata": {},
     "output_type": "execute_result"
    }
   ],
   "source": [
    "fruits"
   ]
  },
  {
   "cell_type": "code",
   "execution_count": 163,
   "id": "e0c5baf2-5822-45e4-b5b9-49d77a7d4f29",
   "metadata": {},
   "outputs": [],
   "source": [
    "fruits.sort(reverse=True)"
   ]
  },
  {
   "cell_type": "code",
   "execution_count": 164,
   "id": "aa760dba-9003-4b58-982b-b738b494ede8",
   "metadata": {},
   "outputs": [
    {
     "data": {
      "text/plain": [
       "['sapota', 'pinaple', 'orange', 'fig', 'cherry', 'banana', 'apple']"
      ]
     },
     "execution_count": 164,
     "metadata": {},
     "output_type": "execute_result"
    }
   ],
   "source": [
    "fruits"
   ]
  },
  {
   "cell_type": "code",
   "execution_count": 165,
   "id": "67e928f1-0f6d-447a-a665-73ea0463d827",
   "metadata": {},
   "outputs": [],
   "source": [
    "fruits1 =fruits.copy()"
   ]
  },
  {
   "cell_type": "code",
   "execution_count": 166,
   "id": "44423c5b-0d0f-4ccd-97f2-5db57967b9cd",
   "metadata": {},
   "outputs": [
    {
     "data": {
      "text/plain": [
       "['sapota', 'pinaple', 'orange', 'fig', 'cherry', 'banana', 'apple']"
      ]
     },
     "execution_count": 166,
     "metadata": {},
     "output_type": "execute_result"
    }
   ],
   "source": [
    "fruits1"
   ]
  },
  {
   "cell_type": "code",
   "execution_count": 167,
   "id": "2ba908c3-9f32-4db5-84f2-922d45e2ae71",
   "metadata": {},
   "outputs": [],
   "source": [
    "fruits2=fruits\n"
   ]
  },
  {
   "cell_type": "code",
   "execution_count": 169,
   "id": "7277286a-cab1-4204-88d0-4aa58d1c3855",
   "metadata": {},
   "outputs": [
    {
     "data": {
      "text/plain": [
       "['sapota', 'pinaple', 'orange', 'fig', 'cherry', 'banana', 'apple']"
      ]
     },
     "execution_count": 169,
     "metadata": {},
     "output_type": "execute_result"
    }
   ],
   "source": [
    "fruits2"
   ]
  },
  {
   "cell_type": "code",
   "execution_count": 171,
   "id": "27d63d88-08d3-4261-a8a3-e1f1f57e8803",
   "metadata": {},
   "outputs": [
    {
     "name": "stdout",
     "output_type": "stream",
     "text": [
      "2754931771136\n",
      "2754942498048\n",
      "2754931771136\n"
     ]
    }
   ],
   "source": [
    "print(id(fruits))\n",
    "print(id(fruits1))\n",
    "print(id(fruits2))"
   ]
  },
  {
   "cell_type": "code",
   "execution_count": 172,
   "id": "45d99c12-9be6-42f8-b0f0-6d9a1adcaa0b",
   "metadata": {},
   "outputs": [],
   "source": [
    "fruits1.clear()"
   ]
  },
  {
   "cell_type": "code",
   "execution_count": 174,
   "id": "403a5fa3-f0b9-4797-aa29-8e6bb0ccc086",
   "metadata": {},
   "outputs": [
    {
     "name": "stdout",
     "output_type": "stream",
     "text": [
      "[]\n",
      "2754942498048\n"
     ]
    }
   ],
   "source": [
    "print(fruits1)\n",
    "print(id(fruits1))"
   ]
  },
  {
   "cell_type": "code",
   "execution_count": 175,
   "id": "985586df-0cd6-43c1-9308-8272fc66d4e7",
   "metadata": {},
   "outputs": [],
   "source": [
    "del(fruits1)"
   ]
  },
  {
   "cell_type": "code",
   "execution_count": 176,
   "id": "0d89086f-d190-42ad-974b-5bc70af54f29",
   "metadata": {},
   "outputs": [
    {
     "ename": "NameError",
     "evalue": "name 'fruits1' is not defined",
     "output_type": "error",
     "traceback": [
      "\u001b[31m---------------------------------------------------------------------------\u001b[39m",
      "\u001b[31mNameError\u001b[39m                                 Traceback (most recent call last)",
      "\u001b[36mCell\u001b[39m\u001b[36m \u001b[39m\u001b[32mIn[176]\u001b[39m\u001b[32m, line 1\u001b[39m\n\u001b[32m----> \u001b[39m\u001b[32m1\u001b[39m \u001b[38;5;28mprint\u001b[39m(\u001b[43mfruits1\u001b[49m)\n",
      "\u001b[31mNameError\u001b[39m: name 'fruits1' is not defined"
     ]
    }
   ],
   "source": [
    "print(fruits1)"
   ]
  },
  {
   "cell_type": "markdown",
   "id": "512e4c7c-8638-4aac-a60f-0bf40117c145",
   "metadata": {},
   "source": []
  },
  {
   "cell_type": "code",
   "execution_count": 203,
   "id": "901d41bd-b308-4d35-a3ec-b5312d0af6a7",
   "metadata": {},
   "outputs": [
    {
     "name": "stdin",
     "output_type": "stream",
     "text": [
      "Enter Number of Letters in your password\n",
      " 5\n",
      "Enter Number of Number in your password\n",
      " 4\n",
      "Enter Number of symbols in your password\n",
      " 5\n"
     ]
    },
    {
     "name": "stdout",
     "output_type": "stream",
     "text": [
      "Your password is @R60N**8(GPS7*\n"
     ]
    }
   ],
   "source": [
    "letters=[chr(l) for l in range(65,91)]\n",
    "letters=letters+[chr(l) for l in range(65,91)]\n",
    "numbers=[str(num) for num in range(0,9)]\n",
    "symbols=['!','@','$','%','^','&','*','(',')','-',\"+\"]\n",
    "no_letters= int(input(\"Enter Number of Letters in your password\\n\"))\n",
    "no_numbers = int(input(\"Enter Number of Number in your password\\n\"))\n",
    "no_symbols =int(input(\"Enter Number of symbols in your password\\n\"))\n",
    "password=\"\"\n",
    "for i in range(0,no_letters):\n",
    "    password+=random.choice(letters)\n",
    "for i in range(0,no_numbers):\n",
    "    password+=random.choice(numbers)\n",
    "for i in range(0,no_symbols):\n",
    "    password+=random.choice(symbols)\n",
    "\n",
    "\n",
    "pass1=list(password)\n",
    "random.shuffle(pass1)\n",
    "result=\"\".join(pass1)\n",
    "print(f\"Your password is {result}\")\n"
   ]
  },
  {
   "cell_type": "code",
   "execution_count": 283,
   "id": "18fdd578-60bd-4605-8701-98c53adcbb38",
   "metadata": {},
   "outputs": [],
   "source": [
    "matrix =[[1,2,3],[4,5,6],[7,8,9]]"
   ]
  },
  {
   "cell_type": "code",
   "execution_count": 284,
   "id": "f0eeba3b-c54a-4c5c-90e9-319cd7b677f6",
   "metadata": {},
   "outputs": [
    {
     "name": "stdout",
     "output_type": "stream",
     "text": [
      "[[1, 2, 3], [4, 5, 6], [7, 8, 9]]\n"
     ]
    }
   ],
   "source": [
    "print(matrix)"
   ]
  },
  {
   "cell_type": "code",
   "execution_count": 286,
   "id": "c85f0472-f584-4bf4-a08a-87164dc22728",
   "metadata": {},
   "outputs": [
    {
     "name": "stdout",
     "output_type": "stream",
     "text": [
      "1\n"
     ]
    }
   ],
   "source": [
    "print(matrix[0][0])"
   ]
  },
  {
   "cell_type": "code",
   "execution_count": 289,
   "id": "d30148cc-eb51-4517-ae50-f4cb69152f3a",
   "metadata": {},
   "outputs": [
    {
     "name": "stdout",
     "output_type": "stream",
     "text": [
      "[[0, 1, 2, 3, 4], [0, 1, 2, 3, 4], [0, 1, 2, 3, 4], [0, 1, 2, 3, 4], [0, 1, 2, 3, 4]]\n"
     ]
    }
   ],
   "source": [
    "matrix = []\n",
    "for i in range(5):\n",
    "    matrix.append([])\n",
    "    for j in range(5):\n",
    "        matrix[i].append(j)\n",
    "print(matrix)\t"
   ]
  },
  {
   "cell_type": "code",
   "execution_count": 219,
   "id": "19396536-383c-4fa5-b60b-f3878a25d1e8",
   "metadata": {},
   "outputs": [],
   "source": [
    "lst=[ [j for j in range(5)] for i in range(5) ]"
   ]
  },
  {
   "cell_type": "code",
   "execution_count": 295,
   "id": "b4b32028-64c4-4f5b-9db0-5f5bca83d42e",
   "metadata": {},
   "outputs": [],
   "source": [
    "\n",
    "matrix=[[1,2,3],[4,5,6],[7,8,9]]\n",
    "flat_lst =[]\n",
    "for row in matrix:\n",
    "    for element in row:\n",
    "        flat_lst.append(element)\n",
    "        "
   ]
  },
  {
   "cell_type": "code",
   "execution_count": 296,
   "id": "48ad4f8c-f05b-4335-9290-d4b7825bc4b1",
   "metadata": {},
   "outputs": [
    {
     "data": {
      "text/plain": [
       "[1, 2, 3, 4, 5, 6, 7, 8, 9]"
      ]
     },
     "execution_count": 296,
     "metadata": {},
     "output_type": "execute_result"
    }
   ],
   "source": [
    "flat_lst"
   ]
  },
  {
   "cell_type": "code",
   "execution_count": 297,
   "id": "9d1f7909-afed-4006-b0ac-b8edb76bd65d",
   "metadata": {},
   "outputs": [],
   "source": [
    "flat = [item for sublist in matrix for item in sublist]"
   ]
  },
  {
   "cell_type": "code",
   "execution_count": 298,
   "id": "acbccff3-ee5d-4406-8640-0bfbd9417969",
   "metadata": {},
   "outputs": [
    {
     "data": {
      "text/plain": [
       "[1, 2, 3, 4, 5, 6, 7, 8, 9]"
      ]
     },
     "execution_count": 298,
     "metadata": {},
     "output_type": "execute_result"
    }
   ],
   "source": [
    "flat"
   ]
  },
  {
   "cell_type": "code",
   "execution_count": 303,
   "id": "97f0b40e-807f-48b1-aa9a-99b3778240ba",
   "metadata": {},
   "outputs": [
    {
     "name": "stdout",
     "output_type": "stream",
     "text": [
      " ih woh era uoy\n"
     ]
    }
   ],
   "source": [
    "st=\"hi how are you\"\n",
    "result=\"\"\n",
    "for word in st.split():\n",
    "    result=result+\" \"+(word[::-1])\n",
    "print(result)"
   ]
  },
  {
   "cell_type": "code",
   "execution_count": 304,
   "id": "76dbbded-7c5a-439f-bb7e-0ab054b895a8",
   "metadata": {},
   "outputs": [
    {
     "name": "stdout",
     "output_type": "stream",
     "text": [
      "6\n"
     ]
    }
   ],
   "source": [
    "st=\"hi how are you\"\n",
    "count=0\n",
    "for i in st.lower():\n",
    "    if i in \"aeiou\":\n",
    "        count+=1\n",
    "print(count)\n"
   ]
  },
  {
   "cell_type": "code",
   "execution_count": 315,
   "id": "740a2456-ca64-4a49-8afa-12f500e95126",
   "metadata": {},
   "outputs": [
    {
     "name": "stdout",
     "output_type": "stream",
     "text": [
      "Counter({'h': 2, 'o': 2, 'i': 1, 'w': 1, 'a': 1, 'r': 1, 'e': 1, 'y': 1, 'u': 1})\n"
     ]
    },
    {
     "data": {
      "text/plain": [
       "('h', 2)"
      ]
     },
     "execution_count": 315,
     "metadata": {},
     "output_type": "execute_result"
    }
   ],
   "source": [
    "from collections import Counter\n",
    "st=\"hi how are you\".replace(\" \",\"\")\n",
    "\n",
    "result =Counter(st)\n",
    "# print(result)\n",
    "result.most_common(1)[0]"
   ]
  },
  {
   "cell_type": "code",
   "execution_count": null,
   "id": "4aee56d1-8be1-487e-ba37-950a00933e78",
   "metadata": {},
   "outputs": [],
   "source": []
  }
 ],
 "metadata": {
  "kernelspec": {
   "display_name": "Python 3 (ipykernel)",
   "language": "python",
   "name": "python3"
  },
  "language_info": {
   "codemirror_mode": {
    "name": "ipython",
    "version": 3
   },
   "file_extension": ".py",
   "mimetype": "text/x-python",
   "name": "python",
   "nbconvert_exporter": "python",
   "pygments_lexer": "ipython3",
   "version": "3.12.10"
  }
 },
 "nbformat": 4,
 "nbformat_minor": 5
}

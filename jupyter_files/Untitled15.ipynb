{
 "cells": [
  {
   "cell_type": "code",
   "execution_count": 7,
   "id": "d03f0afe-b0d5-44d8-9dc3-91f44e425b74",
   "metadata": {},
   "outputs": [],
   "source": [
    "class Car:\n",
    "    wheels=4\n",
    "    def __init__(self,brand,model):\n",
    "        self.brand=brand\n",
    "        self.model=model\n",
    "    def show_dtl(self):\n",
    "        print(f\"Brand Name:{self.brand}, Model:{self.model},Wheels:{self.wheels}\")"
   ]
  },
  {
   "cell_type": "code",
   "execution_count": 48,
   "id": "60f5ca8e-a606-4cc1-a630-f20dce66229d",
   "metadata": {},
   "outputs": [
    {
     "name": "stdout",
     "output_type": "stream",
     "text": [
      "Bek Bek\n",
      "Sound like a duck\n"
     ]
    }
   ],
   "source": [
    "class Duck:\n",
    "    def sound(self):\n",
    "        print(\"Bek Bek\")\n",
    "class Person:\n",
    "    def sound(self):\n",
    "        print(\"Sound like a duck\")\n",
    "def cal_sound(obj):\n",
    "    obj.sound()\n",
    "\n",
    "cal_sound(Duck())\n",
    "cal_sound(Person())"
   ]
  },
  {
   "cell_type": "code",
   "execution_count": 8,
   "id": "a7ea073e-4204-4abf-9e7f-b3566f721f26",
   "metadata": {},
   "outputs": [
    {
     "name": "stdout",
     "output_type": "stream",
     "text": [
      "Brand Name:BMW, Model:S6,Wheels:4\n"
     ]
    }
   ],
   "source": [
    "car=Car(\"BMW\",\"S6\")\n",
    "car.show_dtl()"
   ]
  },
  {
   "cell_type": "code",
   "execution_count": 24,
   "id": "61f0ff1b-c4fd-40c2-94b0-688df22fc7d7",
   "metadata": {},
   "outputs": [],
   "source": [
    "class Car:\n",
    "    wheels=4\n",
    "    @staticmethod\n",
    "    def greet_user():\n",
    "        print(\"Welcome to BMW Showroom\")\n",
    "    \n",
    "    def __init__(self,brand,model):\n",
    "        self.brand=brand\n",
    "        self.model=model\n",
    "    @classmethod\n",
    "    def set_no_of_wheels(cls,num):\n",
    "        cls.wheels=num\n",
    "    @classmethod\n",
    "    def show_wheels(cls):\n",
    "        print(f\"Number of wheels {cls.wheels}\")\n",
    "    def show_dtl(self):\n",
    "        print(f\"Brand {self.brand}, Model:{self.model}\")        \n",
    "        "
   ]
  },
  {
   "cell_type": "code",
   "execution_count": 26,
   "id": "02ca75ff-df85-44b7-a1ad-34ab1ec65bd5",
   "metadata": {},
   "outputs": [
    {
     "name": "stdout",
     "output_type": "stream",
     "text": [
      "Welcome to BMW Showroom\n",
      "Number of wheels 4\n",
      "Brand BMW, Model:C6\n"
     ]
    }
   ],
   "source": [
    "car1 =Car(\"BMW\",\"C6\")\n",
    "Car.greet_user()\n",
    "#car1.set_no_of_wheels(6)\n",
    "car1.show_wheels()\n",
    "car1.show_dtl()"
   ]
  },
  {
   "cell_type": "code",
   "execution_count": 52,
   "id": "74cfcc3f-48e9-4bf8-85fe-29f6b3bb31a2",
   "metadata": {},
   "outputs": [],
   "source": [
    "class Car:\n",
    "    def __init__(self,brand,model):\n",
    "        self.brand=brand\n",
    "        self.model=model\n",
    "    def __str__(self):\n",
    "        return f\"{self.brand} {self.model}\"   \n",
    "    def __repr__(self):\n",
    "        return f\"{self.brand} {self.model}\"  \n",
    "\n",
    "    def __eq__(self,other):\n",
    "        return (self.brand, self.model)==(other.brand, other.model)"
   ]
  },
  {
   "cell_type": "code",
   "execution_count": 53,
   "id": "369a7517-e7da-4220-850b-f096764fd259",
   "metadata": {},
   "outputs": [
    {
     "name": "stdout",
     "output_type": "stream",
     "text": [
      "True\n"
     ]
    }
   ],
   "source": [
    "car=Car(\"BMW\",\"S6\")\n",
    "car1=Car(\"BMW\",\"S6\")\n",
    "print(car==car1)"
   ]
  },
  {
   "cell_type": "code",
   "execution_count": 83,
   "id": "0d8b426c-ac31-4457-a19b-b989a1daa05e",
   "metadata": {},
   "outputs": [],
   "source": [
    "class Vehicle:\n",
    "    def __init__(self,brand,model):\n",
    "        self.brand=brand\n",
    "        self.model=model\n",
    "    def start(self):\n",
    "        print(f\"{self.brand} started.......\")\n",
    "    def stop(self):\n",
    "        print(f\"{self.brand} stoped.......\")\n",
    "    def move(self):\n",
    "        print(f\"{self.brand} moving.......\")\n",
    "    "
   ]
  },
  {
   "cell_type": "code",
   "execution_count": 105,
   "id": "321ccfa9-ec9f-435e-b980-b996dada0d52",
   "metadata": {},
   "outputs": [],
   "source": [
    "class Car(Vehicle):\n",
    "   def __init__(self,brand,model,hpower):\n",
    "       super().__init__(brand,model)\n",
    "       self.hpower=hpower\n",
    "   def hp(self):\n",
    "        print(f\"{self.brand} has str({self.hpower}) HP\")\n",
    "    \n",
    "   "
   ]
  },
  {
   "cell_type": "code",
   "execution_count": 112,
   "id": "3bdfa9d1-de0a-4e7d-8c46-fa1d09021dd1",
   "metadata": {},
   "outputs": [],
   "source": [
    "class Bike(Vehicle):\n",
    "    def __init__(self,brand,model,has_gear):\n",
    "        super().__init__(brand,model)\n",
    "        self.has_gear=has_gear\n",
    "    def horn(self):\n",
    "        print(f\"{self.brand} ring the horn\")\n",
    "        "
   ]
  },
  {
   "cell_type": "code",
   "execution_count": 115,
   "id": "1d040b06-0ef0-484d-8466-94cf59346182",
   "metadata": {},
   "outputs": [
    {
     "name": "stdout",
     "output_type": "stream",
     "text": [
      "Honda started.......\n",
      "Honda ring the horn\n",
      "Honda stoped.......\n"
     ]
    }
   ],
   "source": [
    "b1 =Bike(\"Honda\",\"Activa\",\"No\")\n",
    "b1.start()\n",
    "b1.horn()\n",
    "b1.stop()\n"
   ]
  },
  {
   "cell_type": "code",
   "execution_count": 24,
   "id": "4f25ec92-8c57-4868-98ac-a0499b4146a5",
   "metadata": {},
   "outputs": [],
   "source": [
    "class Car(Vehicle):\n",
    "    pass"
   ]
  },
  {
   "cell_type": "code",
   "execution_count": 25,
   "id": "feb62322-4574-4ff1-ba9a-e118cbe2b348",
   "metadata": {},
   "outputs": [
    {
     "name": "stdout",
     "output_type": "stream",
     "text": [
      "self.brand starting...........!\n",
      "self.brand stoping...........!\n"
     ]
    }
   ],
   "source": [
    "car1 =Car(\"BMW\",4)\n",
    "car1.start()\n",
    "car1.stop()\n"
   ]
  },
  {
   "cell_type": "code",
   "execution_count": 26,
   "id": "6517ad0e-e92d-47eb-aea4-550ab52a30ef",
   "metadata": {},
   "outputs": [],
   "source": [
    "class Car(Vehicle):\n",
    "    def __init__(self,brand,wheels,model):\n",
    "        super().__init__(brand,wheels)\n",
    "        self.model=model\n",
    "    def play_music(self):\n",
    "        print(f\"Playing Music in {self.brand} {self.model}\")\n",
    "        \n"
   ]
  },
  {
   "cell_type": "code",
   "execution_count": 27,
   "id": "e5ee8016-6a3b-472d-a884-ffb8493173e8",
   "metadata": {},
   "outputs": [
    {
     "name": "stdout",
     "output_type": "stream",
     "text": [
      "self.brand starting...........!\n",
      "Playing Music in Toyota Fortuner\n",
      "self.brand stoping...........!\n"
     ]
    }
   ],
   "source": [
    "obj=Car(\"Toyota\",4,\"Fortuner\")\n",
    "obj.start()\n",
    "obj.play_music()\n",
    "obj.stop()"
   ]
  },
  {
   "cell_type": "code",
   "execution_count": 28,
   "id": "2430639d-aec3-483b-834b-106df23ec8bd",
   "metadata": {},
   "outputs": [
    {
     "name": "stdout",
     "output_type": "stream",
     "text": [
      "self.brand starting...........!\n",
      "Hero bike: Ring Ring!\n"
     ]
    }
   ],
   "source": [
    "class Bike(Vehicle):\n",
    "    def __init__(self, brand, model, has_gear):\n",
    "        super().__init__(brand, model)\n",
    "        self.has_gear = has_gear\n",
    "\n",
    "    def ring_bell(self):\n",
    "        print(f\"{self.brand} bike: Ring Ring!\")\n",
    "\n",
    "bike = Bike(\"Hero\", 2, True)\n",
    "bike.start()\n",
    "bike.ring_bell()\n"
   ]
  },
  {
   "cell_type": "code",
   "execution_count": 116,
   "id": "ace6378d-1eac-44e9-aa79-115f70f5140b",
   "metadata": {},
   "outputs": [],
   "source": [
    "class Vehicle:\n",
    "    def start_engine(self):\n",
    "        print(\"Start Engine\")"
   ]
  },
  {
   "cell_type": "code",
   "execution_count": 117,
   "id": "a632d597-9d66-45ee-aef6-02435c4a1909",
   "metadata": {},
   "outputs": [],
   "source": [
    "class Machine:\n",
    "    def check_oil(self):\n",
    "        print(\"Check Oil\")"
   ]
  },
  {
   "cell_type": "code",
   "execution_count": 33,
   "id": "93266d13-94cd-4323-a832-48e2f7b52348",
   "metadata": {},
   "outputs": [],
   "source": [
    "class Car(Vehicle,Machine):\n",
    "    def play_music(self):\n",
    "        print(\"Play Music\")"
   ]
  },
  {
   "cell_type": "code",
   "execution_count": 34,
   "id": "9e2125f0-25b6-446a-85fa-731f45ddd0a7",
   "metadata": {},
   "outputs": [
    {
     "name": "stdout",
     "output_type": "stream",
     "text": [
      "Start Engine\n",
      "Check Oil\n",
      "Play Music\n"
     ]
    }
   ],
   "source": [
    "c1=Car()\n",
    "c1.start_engine() #method from vehicle class\n",
    "c1.check_oil() #method from machine class\n",
    "c1.play_music() #method from chield class"
   ]
  },
  {
   "cell_type": "code",
   "execution_count": 129,
   "id": "1e1048eb-464d-4fb4-8a64-6f5ad0386c05",
   "metadata": {},
   "outputs": [
    {
     "name": "stdout",
     "output_type": "stream",
     "text": [
      "From B\n"
     ]
    }
   ],
   "source": [
    "class A:\n",
    "    def showA(self):\n",
    "        print(\"From A\")\n",
    "class B():\n",
    "    def showB(self):\n",
    "        print(\"From B\")\n",
    "\n",
    "class C(A,B):\n",
    "    def showC(self):\n",
    "        print(\"From c\")\n",
    "class D(C):\n",
    "    pass\n",
    "obj =D()\n",
    "obj.showB()\n"
   ]
  },
  {
   "cell_type": "code",
   "execution_count": 38,
   "id": "7cf341cc-6ab7-4fa9-b573-2655b800461f",
   "metadata": {},
   "outputs": [],
   "source": [
    "class Vehicle:\n",
    "    def move(self):\n",
    "        print(\"Vehical is moving\")\n",
    "class Car(Vehicle):\n",
    "    def start(self):\n",
    "        print(\"Start the car\")\n",
    "class EV(Car):\n",
    "    def charge_battery(self):\n",
    "        print(\"Charge battery\")\n"
   ]
  },
  {
   "cell_type": "code",
   "execution_count": 40,
   "id": "abd24e2b-2718-4cea-b842-15b81eae63f2",
   "metadata": {},
   "outputs": [
    {
     "name": "stdout",
     "output_type": "stream",
     "text": [
      "Vehical is moving\n",
      "Start the car\n",
      "Charge battery\n"
     ]
    }
   ],
   "source": [
    "eCar=EV()\n",
    "eCar.move() #method from Vehicle class\n",
    "eCar.start() #method from Car class \n",
    "eCar.charge_battery() #method from EV class"
   ]
  },
  {
   "cell_type": "code",
   "execution_count": 41,
   "id": "f3fccbac-8736-4804-ac1a-89cd1393fa2e",
   "metadata": {},
   "outputs": [],
   "source": [
    "# Base Class\n",
    "class Vehicle:\n",
    "    def move(self):\n",
    "        print(\"Vehicle is moving\")\n",
    "\n",
    "# Another Base Class\n",
    "class Machine:\n",
    "    def maintenance(self):\n",
    "        print(\"Machine requires maintenance\")\n",
    "\n",
    "# Intermediate Class inheriting from Vehicle\n",
    "class Car(Vehicle):\n",
    "    def start_engine(self):\n",
    "        print(\"Car engine started\")\n",
    "\n",
    "# Derived Class from Car and Machine (Hybrid Inheritance)\n",
    "class ElectricCar(Car, Machine):\n",
    "    def charge_battery(self):\n",
    "        print(\"Charging electric battery\")\n",
    "\n"
   ]
  },
  {
   "cell_type": "code",
   "execution_count": null,
   "id": "86f78a6a-1f05-472d-bcea-ea5ee72afaf7",
   "metadata": {},
   "outputs": [],
   "source": [
    "ecar = ElectricCar()\n",
    "\n",
    "# Inherited from Vehicle (via Car)\n",
    "ecar.move()      # Inherited from Vehicle (via Car)       \n",
    "\n",
    "ecar.start_engine()     # Inherited from Car\n",
    "ecar.maintenance()      # Inherited from Machine\n",
    "ecar.charge_battery()   # Own method\n"
   ]
  },
  {
   "cell_type": "code",
   "execution_count": 7,
   "id": "164c94b6-e473-4fb5-860a-4cdd6c040893",
   "metadata": {},
   "outputs": [
    {
     "name": "stdout",
     "output_type": "stream",
     "text": [
      "Quack Quack\n",
      "I sound like Quack Quack\n"
     ]
    }
   ],
   "source": [
    "class Duck:\n",
    "    def quack(self):\n",
    "        print(\"Quack Quack\")\n",
    "class Person:\n",
    "    def quack(self):\n",
    "        print(\"I sound like Quack Quack\")\n",
    "def make_it_quack(obj):\n",
    "    obj.quack()\n",
    "make_it_quack(Duck())\n",
    "make_it_quack(Person())\n",
    "# make_it_quack() doesn’t care if it’s a Duck or Person\n",
    "# It just needs the object to have a .quack() method\n"
   ]
  },
  {
   "cell_type": "code",
   "execution_count": 8,
   "id": "3e57182b-d495-40b1-bfab-ae66c84831f1",
   "metadata": {},
   "outputs": [
    {
     "name": "stdout",
     "output_type": "stream",
     "text": [
      "reading file...\n",
      "reading from stream...\n"
     ]
    }
   ],
   "source": [
    "class File:\n",
    "    def read(self):\n",
    "        return \"reading file...\"\n",
    "class NetworkStream:\n",
    "    def read(self):\n",
    "        return \"reading from stream...\"\n",
    "def read_data(reader):\n",
    "    print(reader.read())\n",
    "read_data(File())           # reading file...\n",
    "read_data(NetworkStream())  # reading from stream...\n"
   ]
  },
  {
   "cell_type": "code",
   "execution_count": 56,
   "id": "1fa082e1-ac89-4e5c-a470-0b6db177ebee",
   "metadata": {},
   "outputs": [
    {
     "name": "stdout",
     "output_type": "stream",
     "text": [
      "Point(6 , 8)\n"
     ]
    }
   ],
   "source": [
    "class Point:\n",
    "    def __init__(self, x, y):\n",
    "        self.x =x\n",
    "        self.y=y\n",
    "    def __add__(self, other):\n",
    "        return Point(self.x +other.x , self.y+other.y)\n",
    "    def __repr__(self):\n",
    "        return f\"Point({self.x} , {self.y})\"\n",
    "p1 = Point(2,4)\n",
    "p2 =Point(4,4)\n",
    "print(p1+p2)\n"
   ]
  },
  {
   "cell_type": "code",
   "execution_count": 57,
   "id": "0c729202-95b5-4c77-be84-8a809ef6760d",
   "metadata": {},
   "outputs": [
    {
     "name": "stdout",
     "output_type": "stream",
     "text": [
      "Point(2 , 3)\n"
     ]
    }
   ],
   "source": [
    "class Point:\n",
    "    def __init__(self, x, y):\n",
    "        self.x =x\n",
    "        self.y=y\n",
    "    def __sub__(self, other):\n",
    "        return Point(self.x -other.x , self.y-other.y)\n",
    "    def __repr__(self):\n",
    "        return f\"Point({self.x} , {self.y})\"\n",
    "p1 = Point(4,4)\n",
    "p2 =Point(2,1)\n",
    "print(p1-p2)"
   ]
  },
  {
   "cell_type": "code",
   "execution_count": 1,
   "id": "2be30676-a95c-499e-98f8-7bcc3c0898cc",
   "metadata": {},
   "outputs": [],
   "source": [
    "class Point:\n",
    "    def __init__(self,x, y):\n",
    "        self.x =x\n",
    "        self.y =y\n",
    "    def __sub__(self,other):\n",
    "        return Point(self.x - other.x , self.y - other.y)\n",
    "    def __repr__(self):\n",
    "        return f\"Point({self.x}, {self.y})\""
   ]
  },
  {
   "cell_type": "code",
   "execution_count": 59,
   "id": "5252b33e-91c8-4a44-9500-1b3de8a309c7",
   "metadata": {},
   "outputs": [
    {
     "name": "stdout",
     "output_type": "stream",
     "text": [
      "False\n"
     ]
    }
   ],
   "source": [
    "class Point:\n",
    "    def __init__(self, x, y):\n",
    "        self.x =x\n",
    "        self.y=y\n",
    "    def __mul__(self, other):\n",
    "        return Point(self.x *other.x , self.y*other.y)\n",
    "    def __repr__(self):\n",
    "        return f\"Point({self.x} , {self.y})\"\n",
    "p1 = Point(4,4)\n",
    "p2 =Point(4,4)\n",
    "print(p1==p2)"
   ]
  },
  {
   "cell_type": "code",
   "execution_count": 2,
   "id": "d2392500-c718-459c-8982-af3ef3ec8ea6",
   "metadata": {},
   "outputs": [
    {
     "name": "stdout",
     "output_type": "stream",
     "text": [
      "Point(5, 10)\n"
     ]
    }
   ],
   "source": [
    "p1 =Point(10,20)\n",
    "p2 =Point(5,10)\n",
    "p3 = p1-p2\n",
    "print(p3)"
   ]
  },
  {
   "cell_type": "code",
   "execution_count": 61,
   "id": "8ba25451-60fb-4e6b-b53d-a3ff1ca0b722",
   "metadata": {},
   "outputs": [
    {
     "name": "stdout",
     "output_type": "stream",
     "text": [
      "True\n"
     ]
    }
   ],
   "source": [
    "class Point:\n",
    "    def __init__(self, x, y):\n",
    "        self.x =x\n",
    "        self.y=y\n",
    "    def __eq__(self, other):\n",
    "        return (self.x ==other.x) and   (self.y ==other.y)\n",
    "    def __repr__(self):\n",
    "        return f\"Point({self.x} , {self.y})\"\n",
    "p1 = Point(4,4)\n",
    "p2 =Point(4,4)\n",
    "print(p1==p2)"
   ]
  },
  {
   "cell_type": "code",
   "execution_count": 2,
   "id": "746fc557-d386-4629-becd-e727ae594a0c",
   "metadata": {},
   "outputs": [
    {
     "name": "stdout",
     "output_type": "stream",
     "text": [
      "Point(4, 6)\n"
     ]
    }
   ],
   "source": [
    "#operator overloading\n",
    "class Point:\n",
    "    def __init__(self, x, y):\n",
    "        self.x = x\n",
    "        self.y = y\n",
    "\n",
    "    def __add__(self, other):\n",
    "        return Point(self.x + other.x, self.y + other.y)\n",
    "\n",
    "    def __repr__(self):\n",
    "        return f\"Point({self.x}, {self.y})\"\n",
    "\n",
    "p1 = Point(1, 2)\n",
    "p2 = Point(3, 4)\n",
    "\n",
    "print(repr(p1 + p2))\n"
   ]
  },
  {
   "cell_type": "code",
   "execution_count": 77,
   "id": "23eca2cd-a05d-4d26-8e9a-1d75f009b992",
   "metadata": {},
   "outputs": [
    {
     "ename": "TypeError",
     "evalue": "'int' object is not iterable",
     "output_type": "error",
     "traceback": [
      "\u001b[31m---------------------------------------------------------------------------\u001b[39m",
      "\u001b[31mTypeError\u001b[39m                                 Traceback (most recent call last)",
      "\u001b[36mCell\u001b[39m\u001b[36m \u001b[39m\u001b[32mIn[77]\u001b[39m\u001b[32m, line 1\u001b[39m\n\u001b[32m----> \u001b[39m\u001b[32m1\u001b[39m \u001b[38;5;28mprint\u001b[39m(\u001b[38;5;28;43msum\u001b[39;49m\u001b[43m(\u001b[49m\u001b[32;43m10\u001b[39;49m\u001b[43m,\u001b[49m\u001b[32;43m20\u001b[39;49m\u001b[43m)\u001b[49m)\n\u001b[32m      2\u001b[39m \u001b[38;5;28mprint\u001b[39m(\u001b[38;5;28msum\u001b[39m([\u001b[32m10\u001b[39m,\u001b[32m20\u001b[39m,\u001b[32m30\u001b[39m]))\n\u001b[32m      3\u001b[39m \u001b[38;5;28mprint\u001b[39m(\u001b[38;5;28msum\u001b[39m((\u001b[32m10\u001b[39m,\u001b[32m20\u001b[39m,\u001b[32m30\u001b[39m)))\n",
      "\u001b[31mTypeError\u001b[39m: 'int' object is not iterable"
     ]
    }
   ],
   "source": [
    "print(sum([10,20,30]))\n",
    "print(sum((10,20,30)))\n",
    "print(sum({10,20,30}))\n",
    "\n",
    "print(max([10,20,30]))\n",
    "print(max((10,20,30)))\n",
    "print(max({10,20,30}))\n",
    "\n",
    "\n"
   ]
  },
  {
   "cell_type": "code",
   "execution_count": 7,
   "id": "fec5971d-049a-40d5-8641-45b0f15311e4",
   "metadata": {},
   "outputs": [],
   "source": [
    "class Book:\n",
    "    def __init__(self,author,publisher):\n",
    "        self.author=author\n",
    "        self.publisher=publisher\n",
    "    def __eq__(self, other):\n",
    "        return (self.author , self.publisher) ==(other.author , other.publisher)    "
   ]
  },
  {
   "cell_type": "code",
   "execution_count": 13,
   "id": "bfb2ed4d-3cb2-417b-93a1-5530cce2df4d",
   "metadata": {},
   "outputs": [
    {
     "name": "stdout",
     "output_type": "stream",
     "text": [
      "Bow Bow\n",
      "Meao, Meao\n",
      "Some geniric sound\n"
     ]
    }
   ],
   "source": [
    "class Animal:\n",
    "    def sound(self):\n",
    "        print(\"Some geniric sound\")\n",
    "class Dog(Animal):\n",
    "    def sound(self):\n",
    "        print(\"Bow Bow\")\n",
    "class Cat(Animal):\n",
    "    def sound(self):\n",
    "        print(\"Meao, Meao\")\n",
    "def make_sound(animal):\n",
    "    animal.sound()\n",
    "make_sound(Dog())\n",
    "make_sound(Cat())\n",
    "make_sound(Animal())\n"
   ]
  },
  {
   "cell_type": "code",
   "execution_count": 14,
   "id": "d20334b0-f7c1-4075-b66b-6b1cda87818d",
   "metadata": {},
   "outputs": [
    {
     "name": "stdout",
     "output_type": "stream",
     "text": [
      "6\n",
      "3\n",
      "3\n"
     ]
    }
   ],
   "source": [
    "print(len(\"Python\")) \n",
    "print(len([1, 2, 3]))  \n",
    "print(len({10, 20, 30})) \n",
    "\n"
   ]
  },
  {
   "cell_type": "code",
   "execution_count": 10,
   "id": "ad4ad8c5-bba6-447e-827f-337abe3fff0b",
   "metadata": {},
   "outputs": [
    {
     "name": "stdout",
     "output_type": "stream",
     "text": [
      "True\n"
     ]
    }
   ],
   "source": [
    "b1 =Book(\"Ram\",\"abc\")\n",
    "b2 =Book(\"Ram\",\"abc\")\n",
    "print( b1==b2)"
   ]
  },
  {
   "cell_type": "code",
   "execution_count": 3,
   "id": "bff48f0d-a853-4ac7-b730-a1225ddaf390",
   "metadata": {},
   "outputs": [
    {
     "name": "stdout",
     "output_type": "stream",
     "text": [
      "4\n"
     ]
    }
   ],
   "source": [
    "class MyList:\n",
    "    def __init__(self, items):\n",
    "        self.items = items\n",
    "    \n",
    "    def __len__(self):\n",
    "        return len(self.items)\n",
    "\n",
    "obj = MyList([1, 2, 3, 4])\n",
    "print(len(obj))  # Output: 4\n",
    "\n",
    "#len(obj) calls obj.__len__() internally.\n",
    "\n",
    "#You’ve overloaded how len() behaves for your custom class.\n"
   ]
  },
  {
   "cell_type": "code",
   "execution_count": 4,
   "id": "0211c7db-533e-4105-9ae1-93ba18e91343",
   "metadata": {},
   "outputs": [
    {
     "name": "stdout",
     "output_type": "stream",
     "text": [
      "Bark\n",
      "Meow\n"
     ]
    }
   ],
   "source": [
    "#Method Overriding (Inheritance-Based Polymorphism)\n",
    "class Animal:\n",
    "    def speak(self):\n",
    "        print(\"Some generic sound\")\n",
    "\n",
    "class Dog(Animal):\n",
    "    def speak(self):\n",
    "        print(\"Bark\")\n",
    "\n",
    "class Cat(Animal):\n",
    "    def speak(self):\n",
    "        print(\"Meow\")\n",
    "\n",
    "def make_sound(animal):\n",
    "    animal.speak()\n",
    "\n",
    "make_sound(Dog())  \n",
    "make_sound(Cat())  \n",
    "\n",
    "# make_sound() uses polymorphism to call the right method.\n"
   ]
  },
  {
   "cell_type": "code",
   "execution_count": 5,
   "id": "e5bba380-b297-437e-b126-a55231eae8fa",
   "metadata": {},
   "outputs": [
    {
     "name": "stdout",
     "output_type": "stream",
     "text": [
      "6\n",
      "3\n",
      "3\n"
     ]
    }
   ],
   "source": [
    "#Function Polymorphism (Built-in Examples)\n",
    "#Same function behaves differently depending on the data type of the input.\n",
    "\n",
    "print(len(\"Python\")) \n",
    "print(len([1, 2, 3]))  \n",
    "print(len({10, 20, 30})) \n"
   ]
  },
  {
   "cell_type": "code",
   "execution_count": 91,
   "id": "f36df443-d211-4580-9044-7c823b98a2c8",
   "metadata": {},
   "outputs": [
    {
     "name": "stdout",
     "output_type": "stream",
     "text": [
      "90\n",
      "30\n",
      "invalid input\n"
     ]
    }
   ],
   "source": [
    "#Method overloading\n",
    "class Calculator:\n",
    "   def add(self, *args):\n",
    "       if len(args) >1:\n",
    "           return sum(args)\n",
    "       else:\n",
    "           return \"invalid input\"\n",
    "       \n",
    "    \n",
    "obj = Calculator()\n",
    "print(obj.add(10,20,30,10,20))\n",
    "print(obj.add(10,20))\n",
    "print(obj.add(10))\n",
    "           \n",
    "\n"
   ]
  },
  {
   "cell_type": "code",
   "execution_count": 29,
   "id": "2afa2876-5f1c-49e3-929b-e75f4801323d",
   "metadata": {},
   "outputs": [
    {
     "name": "stdout",
     "output_type": "stream",
     "text": [
      "60\n",
      "30\n",
      "Invalid input\n"
     ]
    }
   ],
   "source": [
    "obj =Calculator()\n",
    "print(obj.add(10,20,30))\n",
    "print(obj.add(10,20))\n",
    "print(obj.add(10))"
   ]
  },
  {
   "cell_type": "code",
   "execution_count": 20,
   "id": "10645ee8-2ca0-4128-9516-828c62bc3b5a",
   "metadata": {},
   "outputs": [
    {
     "name": "stdout",
     "output_type": "stream",
     "text": [
      "None\n",
      "None\n",
      "None\n",
      "None\n"
     ]
    }
   ],
   "source": [
    "c=Calculator()\n",
    "print(c.add(10,20,30))\n",
    "print(c.add(10,20))\n",
    "print(c.add(10))\n",
    "print(c.add())"
   ]
  },
  {
   "cell_type": "code",
   "execution_count": 94,
   "id": "6f6d737f-aeda-41c1-b19d-f6429e805b82",
   "metadata": {},
   "outputs": [
    {
     "name": "stdout",
     "output_type": "stream",
     "text": [
      "12\n"
     ]
    }
   ],
   "source": [
    "from mymodule import add\n",
    "print(add(10,2))"
   ]
  },
  {
   "cell_type": "code",
   "execution_count": 10,
   "id": "2068e903-ee69-4dc1-9e5b-824d1c6bc23c",
   "metadata": {},
   "outputs": [
    {
     "name": "stdout",
     "output_type": "stream",
     "text": [
      "5\n",
      "10\n"
     ]
    }
   ],
   "source": [
    "class Calculator:\n",
    "    def add(self, *args):\n",
    "        return sum(args)\n",
    "\n",
    "calc = Calculator()\n",
    "print(calc.add(2, 3))       # Output: 5\n",
    "print(calc.add(1, 2, 3, 4)) # Output: 10\n"
   ]
  },
  {
   "cell_type": "code",
   "execution_count": 11,
   "id": "56dfceea-22e0-4a43-8657-2484613cf9cf",
   "metadata": {},
   "outputs": [
    {
     "name": "stdout",
     "output_type": "stream",
     "text": [
      "Name: Alice\n",
      "Age: 30\n",
      "SSN: 123-45-6789\n",
      "Alice\n",
      "30\n",
      "123-45-6789\n"
     ]
    }
   ],
   "source": [
    "class Person:\n",
    "    def __init__(self, name, age, ssn):\n",
    "        self.name = name           # public\n",
    "        self._age = age            # protected\n",
    "        self.__ssn = ssn           # private\n",
    "\n",
    "    def display(self):\n",
    "        print(\"Name:\", self.name)\n",
    "        print(\"Age:\", self._age)\n",
    "        print(\"SSN:\", self.__ssn)\n",
    "\n",
    "p = Person(\"Alice\", 30, \"123-45-6789\")\n",
    "p.display()\n",
    "\n",
    "print(p.name)     # OK\n",
    "print(p._age)     #  Possible but not recommended\n",
    "# print(p.__ssn)  # AttributeError (private)\n",
    "print(p._Person__ssn)  # Access via name mangling"
   ]
  },
  {
   "cell_type": "code",
   "execution_count": 32,
   "id": "2e26a756-d9f4-49bd-a5fa-3615e588ff96",
   "metadata": {},
   "outputs": [
    {
     "name": "stdout",
     "output_type": "stream",
     "text": [
      "Name: Ram\n",
      "Age: 20\n",
      "SSN: 222-22-222\n",
      "Name: Sham\n",
      "Age: 20\n",
      "SSN: 222-22-222\n"
     ]
    }
   ],
   "source": [
    "class Person:\n",
    "    def __init__(self, name, age, ssn):\n",
    "        self.name = name           # public\n",
    "        self._age = age            # protected\n",
    "        self.__ssn = ssn           # private\n",
    "\n",
    "    def display(self):\n",
    "        print(\"Name:\", self.name)\n",
    "        print(\"Age:\", self._age)\n",
    "        print(\"SSN:\", self.__ssn)\n",
    "    def set_val(self,name,age,ssn):\n",
    "        self.name=name\n",
    "        self.age=age\n",
    "        self.ssn =ssn   \n",
    "obj =Person(\"Ram\",20,\"222-22-222\")\n",
    "obj.display()\n",
    "obj.set_val(\"Sham\",30,\"22-220-222\")\n",
    "obj.display()"
   ]
  },
  {
   "cell_type": "code",
   "execution_count": 14,
   "id": "1bdfad15-974b-4441-b867-7174956de375",
   "metadata": {},
   "outputs": [],
   "source": [
    "from abc import ABC,abstractmethod"
   ]
  },
  {
   "cell_type": "code",
   "execution_count": 15,
   "id": "ff5fc50d-6d33-436b-b610-321bde6d495b",
   "metadata": {},
   "outputs": [],
   "source": [
    "from abc import ABC, abstractmethod\n",
    "class Vehicle(ABC):\n",
    "    @abstractmethod\n",
    "    def start(self): \n",
    "        pass\n",
    "    def stop(self):   # Concrete method\n",
    "        print(\"Vehicle stopped\")"
   ]
  },
  {
   "cell_type": "code",
   "execution_count": 16,
   "id": "ec03f47e-c87c-4f37-9833-7b10554f74fc",
   "metadata": {},
   "outputs": [
    {
     "name": "stdout",
     "output_type": "stream",
     "text": [
      "Car started\n",
      "Vehicle stopped\n"
     ]
    }
   ],
   "source": [
    "class Car(Vehicle):\n",
    "    def start(self):\n",
    "        print(\"Car started\")\n",
    "# car = Vehicle()   Error: Can't instantiate abstract class\n",
    "car = Car()\n",
    "car.start()   \n",
    "car.stop()    "
   ]
  },
  {
   "cell_type": "code",
   "execution_count": null,
   "id": "c9860599-3bf5-4f94-9417-19039629bdcc",
   "metadata": {},
   "outputs": [],
   "source": [
    "from abc import ABC, abstractmethod\n",
    "class ATM(ABC):\n",
    "    @abstractmethod\n",
    "    def validate_user(self, card, pin):\n",
    "        pass\n",
    "    @abstractmethod\n",
    "    def withdraw_cash(self, amount):\n",
    "        pass\n",
    "class HDFC_ATM(ATM):\n",
    "    def validate_user(self, card, pin):\n",
    "        print(\"Validating card and PIN for HDFC bank\")\n",
    "    def withdraw_cash(self, amount):\n",
    "        print(f\"Dispensing ₹{amount} from HDFC ATM\")\n",
    "atm = HDFC_ATM()\n",
    "atm.validate_user(\"1234-5678-0000\", 1234)\n",
    "atm.withdraw_cash(5000)\n"
   ]
  },
  {
   "cell_type": "code",
   "execution_count": 95,
   "id": "75a2ba09-9127-4e7a-9f42-478e97bfe3e6",
   "metadata": {},
   "outputs": [],
   "source": [
    "class Singleton:\n",
    "    __instance =None\n",
    "    def __new__(cls):\n",
    "        if cls.__instance is None:\n",
    "            cls.__instance = super().__new__(cls)\n",
    "        return cls.__instance"
   ]
  },
  {
   "cell_type": "code",
   "execution_count": 100,
   "id": "3133b8cb-4787-416f-8aae-6a8efcefdf69",
   "metadata": {},
   "outputs": [
    {
     "name": "stdout",
     "output_type": "stream",
     "text": [
      "2954393951152\n",
      "2954393951152\n"
     ]
    }
   ],
   "source": [
    "s1 =Singleton()\n",
    "s2=Singleton()\n",
    "print(id(s1))\n",
    "print(id(s2))"
   ]
  },
  {
   "cell_type": "code",
   "execution_count": 99,
   "id": "58b64ca6-8288-4f54-92c0-5b3283fb0403",
   "metadata": {},
   "outputs": [
    {
     "name": "stdout",
     "output_type": "stream",
     "text": [
      "2954379893488\n",
      "2954393945248\n"
     ]
    }
   ],
   "source": [
    "class A:\n",
    "    pass\n",
    "c1=A()\n",
    "c2 =A()\n",
    "print(id(c1))\n",
    "print(id(c2))"
   ]
  },
  {
   "cell_type": "code",
   "execution_count": 47,
   "id": "c5c72c30-640e-4f9c-b19f-75b9828c1749",
   "metadata": {},
   "outputs": [
    {
     "name": "stdout",
     "output_type": "stream",
     "text": [
      "True\n"
     ]
    }
   ],
   "source": [
    "p1=Singleton()\n",
    "p2 =Singleton()\n",
    "print(p1 is p2)"
   ]
  },
  {
   "cell_type": "code",
   "execution_count": null,
   "id": "426a4820-3383-433e-b8a1-91863ebcb10d",
   "metadata": {},
   "outputs": [],
   "source": []
  }
 ],
 "metadata": {
  "kernelspec": {
   "display_name": "Python 3 (ipykernel)",
   "language": "python",
   "name": "python3"
  },
  "language_info": {
   "codemirror_mode": {
    "name": "ipython",
    "version": 3
   },
   "file_extension": ".py",
   "mimetype": "text/x-python",
   "name": "python",
   "nbconvert_exporter": "python",
   "pygments_lexer": "ipython3",
   "version": "3.12.10"
  }
 },
 "nbformat": 4,
 "nbformat_minor": 5
}

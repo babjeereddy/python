{
 "cells": [
  {
   "cell_type": "code",
   "execution_count": 2,
   "id": "636c5a30-cbab-46d5-926d-020b180ecda4",
   "metadata": {},
   "outputs": [],
   "source": [
    "from functools import reduce"
   ]
  },
  {
   "cell_type": "code",
   "execution_count": 5,
   "id": "fbca0432-a250-4394-a01a-a63e105818dc",
   "metadata": {},
   "outputs": [
    {
     "name": "stdout",
     "output_type": "stream",
     "text": [
      "100\n"
     ]
    }
   ],
   "source": [
    "lst=[10,20,30,40]\n",
    "total = reduce(lambda x, y : x+y, lst)\n",
    "print(total)"
   ]
  },
  {
   "cell_type": "code",
   "execution_count": 3,
   "id": "5fa1c436-8866-4e17-92e2-e68353700536",
   "metadata": {},
   "outputs": [
    {
     "name": "stdout",
     "output_type": "stream",
     "text": [
      "total: 49999995000000 total_time: 0.12496185302734375\n",
      "total: 49999995000000 total_time: 1.0736160278320312\n"
     ]
    }
   ],
   "source": [
    "from functools import reduce\n",
    "import time\n",
    "lst =[*range(10000000)]\n",
    "start=time.time()\n",
    "total= sum(lst)\n",
    "print(f\"total: {total} total_time: {time.time()-start}\")\n",
    "start=time.time()\n",
    "total= reduce(lambda x ,y : x+y, lst)\n",
    "print(f\"total: {total} total_time: {time.time()-start}\")\n"
   ]
  },
  {
   "cell_type": "code",
   "execution_count": 5,
   "id": "c0e3e3a4-ec5a-4cab-ba55-8ea2af8869ea",
   "metadata": {},
   "outputs": [
    {
     "name": "stdout",
     "output_type": "stream",
     "text": [
      "50\n"
     ]
    }
   ],
   "source": [
    "lst =[10,50,20,30]\n",
    "max_val = reduce( lambda x, y: x if x > y else y, lst)\n",
    "print(max_val)"
   ]
  },
  {
   "cell_type": "code",
   "execution_count": 7,
   "id": "d0de0a8b-b119-486c-86e1-31f42a713224",
   "metadata": {},
   "outputs": [
    {
     "name": "stdout",
     "output_type": "stream",
     "text": [
      "300000\n"
     ]
    }
   ],
   "source": [
    "product= reduce (lambda x,y : x *y,lst)\n",
    "print(product)"
   ]
  },
  {
   "cell_type": "code",
   "execution_count": 11,
   "id": "6a09c7b0-290f-4a9a-adb5-edb9ce8c4d01",
   "metadata": {},
   "outputs": [
    {
     "name": "stdout",
     "output_type": "stream",
     "text": [
      "pinaple\n",
      "fig\n"
     ]
    }
   ],
   "source": [
    "lst=[\"mango\",\"orange\",\"pinaple\",\"fig\"]\n",
    "print(max(lst, key=len))\n",
    "print(min(lst, key=len))"
   ]
  },
  {
   "cell_type": "code",
   "execution_count": 12,
   "id": "5c8900ce-294e-479e-ae3b-efb494969c4f",
   "metadata": {},
   "outputs": [
    {
     "name": "stdout",
     "output_type": "stream",
     "text": [
      "pinaple\n",
      "fig\n"
     ]
    }
   ],
   "source": [
    "max_length=reduce(lambda x, y: x if len(x) > len(y) else y, lst)\n",
    "print(max_length)\n",
    "min_length=reduce(lambda x, y: x if len(x) < len(y) else y, lst)\n",
    "print(min_length)\n"
   ]
  },
  {
   "cell_type": "code",
   "execution_count": 23,
   "id": "8ec18932-1de7-496d-83b7-15a75002290a",
   "metadata": {},
   "outputs": [
    {
     "name": "stdout",
     "output_type": "stream",
     "text": [
      "['fig', 'Apple', 'Mango', 'orange', 'pinaple ']\n"
     ]
    }
   ],
   "source": [
    "lst=[\"Apple\",\"Mango\",\"orange\",\"pinaple \",\"fig\"]\n",
    "sorted_lst=sorted(lst,key=len)\n",
    "print(sorted_lst)"
   ]
  },
  {
   "cell_type": "code",
   "execution_count": 3,
   "id": "fbaa93dc-29fc-4256-8313-30a587e68fa1",
   "metadata": {},
   "outputs": [
    {
     "name": "stdout",
     "output_type": "stream",
     "text": [
      "{'name': 'Ram', 'age': 30, 'city': 'Chennai'}\n"
     ]
    }
   ],
   "source": [
    "import pickle\n",
    "dis ={\"name\":\"Ram\",\"age\":30,\"city\":\"Chennai\"}\n",
    "\n",
    "with open(\"c:/python_challenge/dic.pik\",\"wb\") as f:\n",
    "    pickle.dump(dis,f)\n",
    "with open(\"c:/python_challenge/dic.pik\",\"rb\") as f:\n",
    "    dis_obj=pickle.load(f)\n",
    "    print(dis_obj)"
   ]
  },
  {
   "cell_type": "code",
   "execution_count": 27,
   "id": "3e668906-7010-4a5d-a586-6a201ba56fe6",
   "metadata": {},
   "outputs": [
    {
     "name": "stdout",
     "output_type": "stream",
     "text": [
      "    0: (    MARK\n",
      "    1: l        LIST       (MARK at 0)\n",
      "    2: p    PUT        0\n",
      "    5: (    MARK\n",
      "    6: l        LIST       (MARK at 5)\n",
      "    7: p    PUT        1\n",
      "   10: I    INT        10\n",
      "   14: a    APPEND\n",
      "   15: I    INT        20\n",
      "   19: a    APPEND\n",
      "   20: I    INT        30\n",
      "   24: a    APPEND\n",
      "   25: a    APPEND\n",
      "   26: (    MARK\n",
      "   27: l        LIST       (MARK at 26)\n",
      "   28: p    PUT        2\n",
      "   31: I    INT        40\n",
      "   35: a    APPEND\n",
      "   36: I    INT        50\n",
      "   40: a    APPEND\n",
      "   41: I    INT        60\n",
      "   45: a    APPEND\n",
      "   46: a    APPEND\n",
      "   47: (    MARK\n",
      "   48: l        LIST       (MARK at 47)\n",
      "   49: p    PUT        3\n",
      "   52: I    INT        70\n",
      "   56: a    APPEND\n",
      "   57: I    INT        80\n",
      "   61: a    APPEND\n",
      "   62: I    INT        90\n",
      "   66: a    APPEND\n",
      "   67: a    APPEND\n",
      "   68: .    STOP\n",
      "highest protocol among opcodes = 0\n",
      "Unpickled object: None\n"
     ]
    }
   ],
   "source": [
    "import pickle\n",
    "\n",
    "lst = [[10, 20, 30], [40, 50, 60], [70, 80, 90]]\n",
    "\n",
    "# Serialize with protocol 1 (must use binary mode)\n",
    "with open(\"c:/python_challenge/lst_protocol1.pik\", \"wb\") as f:\n",
    "    pickle.dump(lst, f, protocol=0)\n",
    "\n",
    "# Deserialize (read back the object)\n",
    "import pickletools\n",
    "with open(\"c:/python_challenge/lst_protocol1.pik\", \"rb\") as f:\n",
    "    loaded_lst = pickletools.dis(f)\n",
    "    print(\"Unpickled object:\", loaded_lst)\n"
   ]
  },
  {
   "cell_type": "code",
   "execution_count": 12,
   "id": "cb774391-bc70-4409-8bc8-734accdc61f1",
   "metadata": {},
   "outputs": [
    {
     "data": {
      "text/plain": [
       "'0b11110'"
      ]
     },
     "execution_count": 12,
     "metadata": {},
     "output_type": "execute_result"
    }
   ],
   "source": [
    "bin(30)"
   ]
  },
  {
   "cell_type": "code",
   "execution_count": 24,
   "id": "47367de4-d663-49c7-b446-bda1c91de9b2",
   "metadata": {},
   "outputs": [
    {
     "data": {
      "text/plain": [
       "30"
      ]
     },
     "execution_count": 24,
     "metadata": {},
     "output_type": "execute_result"
    }
   ],
   "source": [
    "int('0x1e',16)"
   ]
  },
  {
   "cell_type": "code",
   "execution_count": null,
   "id": "44417304-94a1-4811-8079-59f482d3edc1",
   "metadata": {},
   "outputs": [],
   "source": []
  }
 ],
 "metadata": {
  "kernelspec": {
   "display_name": "Python 3 (ipykernel)",
   "language": "python",
   "name": "python3"
  },
  "language_info": {
   "codemirror_mode": {
    "name": "ipython",
    "version": 3
   },
   "file_extension": ".py",
   "mimetype": "text/x-python",
   "name": "python",
   "nbconvert_exporter": "python",
   "pygments_lexer": "ipython3",
   "version": "3.12.10"
  }
 },
 "nbformat": 4,
 "nbformat_minor": 5
}

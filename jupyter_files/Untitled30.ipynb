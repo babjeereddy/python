{
 "cells": [
  {
   "cell_type": "code",
   "execution_count": 22,
   "id": "ebb93f41-4d47-4d5d-bd01-af4960a396f5",
   "metadata": {},
   "outputs": [],
   "source": [
    "!pip install nltk\n"
   ]
  },
  {
   "cell_type": "code",
   "execution_count": 11,
   "id": "7d006642-ce84-44af-831b-37a8f0c655e1",
   "metadata": {},
   "outputs": [],
   "source": [
    "# import nltk\n",
    "# nltk.download('punkt')  # Required only once\n",
    "# nltk.download('punkt_tab')\n"
   ]
  },
  {
   "cell_type": "code",
   "execution_count": 2,
   "id": "e8656b57-89ea-43f2-a7bd-5d4ae61bb82d",
   "metadata": {},
   "outputs": [],
   "source": [
    "corpus=\"\"\"Hello Welcome, to Babjee's turorials.\n",
    "Please do watch entire coururse! to become expert in NLP.\"\"\""
   ]
  },
  {
   "cell_type": "code",
   "execution_count": 14,
   "id": "89fd82b8-9390-47ff-b988-aadc78d37b8a",
   "metadata": {},
   "outputs": [
    {
     "data": {
      "text/plain": [
       "list"
      ]
     },
     "execution_count": 14,
     "metadata": {},
     "output_type": "execute_result"
    }
   ],
   "source": [
    "from nltk.tokenize import sent_tokenize\n",
    "document=sent_tokenize(corpus)\n"
   ]
  },
  {
   "cell_type": "code",
   "execution_count": 16,
   "id": "ca158bf4-2114-4a08-8035-a8e7238bbfda",
   "metadata": {},
   "outputs": [
    {
     "name": "stdout",
     "output_type": "stream",
     "text": [
      "['Hello', 'Welcome', ',', 'to', 'Babjee', \"'s\", 'turorials', '.', 'Please', 'do', 'watch', 'entire', 'coururse', '!', 'to', 'become', 'expert', 'in', 'NLP', '.']\n"
     ]
    }
   ],
   "source": [
    "from nltk.tokenize import word_tokenize\n",
    "words =word_tokenize(corpus)\n",
    "print(words)"
   ]
  },
  {
   "cell_type": "code",
   "execution_count": 17,
   "id": "42f96a83-4fe9-4283-8841-1956ab3c7019",
   "metadata": {},
   "outputs": [
    {
     "name": "stdout",
     "output_type": "stream",
     "text": [
      "Hello Welcome, to Babjee's turorials.\n",
      "Please do watch entire coururse!\n",
      "to become expert in NLP.\n"
     ]
    }
   ],
   "source": [
    "for sen in document:\n",
    "    print(sen)"
   ]
  },
  {
   "cell_type": "code",
   "execution_count": 18,
   "id": "367533fd-2257-4495-b580-7ebef9943894",
   "metadata": {},
   "outputs": [
    {
     "name": "stdout",
     "output_type": "stream",
     "text": [
      "['Hello', 'Welcome', ',', 'to', 'Babjee', \"'s\", 'turorials', '.']\n",
      "['Please', 'do', 'watch', 'entire', 'coururse', '!']\n",
      "['to', 'become', 'expert', 'in', 'NLP', '.']\n"
     ]
    }
   ],
   "source": [
    "for word in document:\n",
    "    print(word_tokenize(word))"
   ]
  },
  {
   "cell_type": "code",
   "execution_count": 19,
   "id": "8ae7a15b-fd17-4283-a493-4487bbaa7ed4",
   "metadata": {},
   "outputs": [
    {
     "data": {
      "text/plain": [
       "['Hello',\n",
       " 'Welcome',\n",
       " ',',\n",
       " 'to',\n",
       " 'Babjee',\n",
       " \"'\",\n",
       " 's',\n",
       " 'turorials',\n",
       " '.',\n",
       " 'Please',\n",
       " 'do',\n",
       " 'watch',\n",
       " 'entire',\n",
       " 'coururse',\n",
       " '!',\n",
       " 'to',\n",
       " 'become',\n",
       " 'expert',\n",
       " 'in',\n",
       " 'NLP',\n",
       " '.']"
      ]
     },
     "execution_count": 19,
     "metadata": {},
     "output_type": "execute_result"
    }
   ],
   "source": [
    "from nltk import wordpunct_tokenize\n",
    "wordpunct_tokenize(corpus)"
   ]
  },
  {
   "cell_type": "code",
   "execution_count": 21,
   "id": "b2ba2d94-685e-4ee2-8337-9d7f32c172ee",
   "metadata": {},
   "outputs": [
    {
     "data": {
      "text/plain": [
       "['Hello',\n",
       " 'Welcome',\n",
       " ',',\n",
       " 'to',\n",
       " 'Babjee',\n",
       " \"'s\",\n",
       " 'turorials.',\n",
       " 'Please',\n",
       " 'do',\n",
       " 'watch',\n",
       " 'entire',\n",
       " 'coururse',\n",
       " '!',\n",
       " 'to',\n",
       " 'become',\n",
       " 'expert',\n",
       " 'in',\n",
       " 'NLP',\n",
       " '.']"
      ]
     },
     "execution_count": 21,
     "metadata": {},
     "output_type": "execute_result"
    }
   ],
   "source": [
    "from nltk.tokenize import TreebankWordTokenizer\n",
    "tokenize =TreebankWordTokenizer()\n",
    "tokenize.tokenize(corpus)"
   ]
  },
  {
   "cell_type": "code",
   "execution_count": 23,
   "id": "2749535a-4b0b-4e6e-84e9-3f73b4e6b84c",
   "metadata": {},
   "outputs": [
    {
     "name": "stdout",
     "output_type": "stream",
     "text": [
      "['This is line one.', 'This is line two.', 'And this is line three.']\n"
     ]
    }
   ],
   "source": [
    "from nltk.tokenize import BlanklineTokenizer\n",
    "\n",
    "text = \"\"\"This is line one.\n",
    "\n",
    "This is line two.\n",
    "\n",
    "And this is line three.\"\"\"\n",
    "tokenizer = BlanklineTokenizer()\n",
    "print(tokenizer.tokenize(text))\n"
   ]
  },
  {
   "cell_type": "code",
   "execution_count": 24,
   "id": "69617824-80c8-40f1-bd7d-81bf720b81b9",
   "metadata": {},
   "outputs": [
    {
     "name": "stdout",
     "output_type": "stream",
     "text": [
      "['Welcome', 'to', 'the', 'world', 'of', 'NLP!']\n"
     ]
    }
   ],
   "source": [
    "from nltk.tokenize import WhitespaceTokenizer\n",
    "\n",
    "tokenizer = WhitespaceTokenizer()\n",
    "text = \"Welcome to the world of NLP!\"\n",
    "print(tokenizer.tokenize(text))\n"
   ]
  },
  {
   "cell_type": "code",
   "execution_count": 25,
   "id": "90af7120-78ea-421b-ad0f-5d0193fcae93",
   "metadata": {},
   "outputs": [],
   "source": [
    "words =['eat','eaten','eating','program','programming','programs']"
   ]
  },
  {
   "cell_type": "code",
   "execution_count": 26,
   "id": "58e40b94-2d3a-4ace-846c-0f219978192c",
   "metadata": {},
   "outputs": [
    {
     "name": "stdout",
     "output_type": "stream",
     "text": [
      "eat ----> eat\n",
      "eaten ----> eaten\n",
      "eating ----> eat\n",
      "program ----> program\n",
      "programming ----> program\n",
      "programs ----> program\n"
     ]
    }
   ],
   "source": [
    "from nltk.stem import PorterStemmer\n",
    "steming =PorterStemmer()\n",
    "for word in words:\n",
    "    print(word+\" ----> \"+steming.stem(word))"
   ]
  },
  {
   "cell_type": "code",
   "execution_count": null,
   "id": "7c169ee7-db1d-4ad4-bcd9-e508f66b6f24",
   "metadata": {},
   "outputs": [],
   "source": [
    "from nltk.stem import PorterStemmer\n",
    "from nltk.tokenize import word_tokenize\n",
    "import nltk\n",
    "\n",
    "nltk.download('punkt')\n",
    "\n",
    "# Initialize stemmer\n",
    "ps = PorterStemmer()\n",
    "\n",
    "# Sample sentence\n",
    "sentence = \"running runs runner easily fair fairness fairly\"\n",
    "words = word_tokenize(sentence)\n",
    "\n",
    "# Apply stemming\n",
    "for word in words:\n",
    "    print(f\"{word} → {ps.stem(word)}\")\n"
   ]
  }
 ],
 "metadata": {
  "kernelspec": {
   "display_name": "Python 3 (ipykernel)",
   "language": "python",
   "name": "python3"
  },
  "language_info": {
   "codemirror_mode": {
    "name": "ipython",
    "version": 3
   },
   "file_extension": ".py",
   "mimetype": "text/x-python",
   "name": "python",
   "nbconvert_exporter": "python",
   "pygments_lexer": "ipython3",
   "version": "3.8.10"
  }
 },
 "nbformat": 4,
 "nbformat_minor": 5
}

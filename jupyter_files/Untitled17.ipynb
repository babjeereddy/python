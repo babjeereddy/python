{
 "cells": [
  {
   "cell_type": "code",
   "execution_count": 86,
   "id": "f2f0a1bf-b8de-429c-8e15-a04ff04365eb",
   "metadata": {},
   "outputs": [
    {
     "name": "stdout",
     "output_type": "stream",
     "text": [
      "c:\\python\n"
     ]
    }
   ],
   "source": [
    "import os\n",
    "print(os.getcwd())"
   ]
  },
  {
   "cell_type": "code",
   "execution_count": 88,
   "id": "cde5051d-5a5c-43d6-b145-b91945fbe1f4",
   "metadata": {},
   "outputs": [
    {
     "data": {
      "text/plain": [
       "'c:\\\\'"
      ]
     },
     "execution_count": 88,
     "metadata": {},
     "output_type": "execute_result"
    }
   ],
   "source": [
    "os.chdir('c:/')\n",
    "os.getcwd()"
   ]
  },
  {
   "cell_type": "code",
   "execution_count": 92,
   "id": "7886b234-8b25-437e-b981-103cbece8b0f",
   "metadata": {},
   "outputs": [
    {
     "name": "stdout",
     "output_type": "stream",
     "text": [
      "c:/pythondemo/ is exists\n"
     ]
    }
   ],
   "source": [
    "path=\"c:/pythondemo/\"\n",
    "if not os.path.exists(path):\n",
    "    os.mkdir(path)\n",
    "else:\n",
    "    print(f\"{path} is exists\")"
   ]
  },
  {
   "cell_type": "code",
   "execution_count": 97,
   "id": "03ad8853-d508-4e2d-8f48-0da0ef9f18cc",
   "metadata": {},
   "outputs": [
    {
     "name": "stdin",
     "output_type": "stream",
     "text": [
      "Enter forlder Name test1\n"
     ]
    },
    {
     "name": "stdout",
     "output_type": "stream",
     "text": [
      "test1 exists\n"
     ]
    }
   ],
   "source": [
    "dir=input(\"Enter forlder Name\")\n",
    "os.chdir(\"c:/\")\n",
    "if not os.path.exists(dir):\n",
    "    os.mkdir(dir)\n",
    "    print(f\"{dir} is created\")\n",
    "else:\n",
    "    print(f\"{dir} exists\")"
   ]
  },
  {
   "cell_type": "code",
   "execution_count": null,
   "id": "f61fe581-a6d1-4671-9671-f66897affbf9",
   "metadata": {},
   "outputs": [],
   "source": []
  },
  {
   "cell_type": "code",
   "execution_count": 98,
   "id": "2c36741b-0250-4f33-b82a-50bce2f20901",
   "metadata": {},
   "outputs": [
    {
     "name": "stdin",
     "output_type": "stream",
     "text": [
      "Enter filename Name abc.txt\n"
     ]
    },
    {
     "name": "stdout",
     "output_type": "stream",
     "text": [
      "example.txt not exists\n"
     ]
    }
   ],
   "source": [
    "filename=input(\"Enter filename Name\")\n",
    "os.chdir(\"c:/pythondemo\")\n",
    "if os.path.exists(file):\n",
    "\n",
    "    print(f\"{file} is exists\")\n",
    "else:\n",
    "    print(f\"{file} not exists\")"
   ]
  },
  {
   "cell_type": "code",
   "execution_count": null,
   "id": "c3f78bdd-d2e6-49e8-98f5-a319f28bbd59",
   "metadata": {},
   "outputs": [],
   "source": []
  },
  {
   "cell_type": "code",
   "execution_count": 101,
   "id": "faebfc75-87ec-4217-aa35-4f02c91dd139",
   "metadata": {},
   "outputs": [],
   "source": [
    "dir=\"c:/pythondemo1/\"\n",
    "file=\"example.txt\"\n",
    "file_path =dir+file\n",
    "if os.path.exists(file_path):\n",
    "    with open(file_path,'a') as f:\n",
    "        f.write(\"\\nline appended\")\n",
    "else:\n",
    "    if not os.path.exists(dir):\n",
    "        os.mkdir(dir)\n",
    "        with open(file_path,'w') as f:\n",
    "            f.write(\"line1\\nline2\")\n",
    "    else:\n",
    "        with open(file_path,'w') as f:\n",
    "            f.write(\"line1\\nline2\")\n",
    "        \n",
    "   \n",
    "    \n",
    "        "
   ]
  },
  {
   "cell_type": "code",
   "execution_count": 103,
   "id": "e5d05679-7178-46a7-92ab-151c30bac78b",
   "metadata": {},
   "outputs": [
    {
     "ename": "FileExistsError",
     "evalue": "[WinError 183] Cannot create a file when that file already exists: 'abc'",
     "output_type": "error",
     "traceback": [
      "\u001b[31m---------------------------------------------------------------------------\u001b[39m",
      "\u001b[31mFileExistsError\u001b[39m                           Traceback (most recent call last)",
      "\u001b[36mCell\u001b[39m\u001b[36m \u001b[39m\u001b[32mIn[103]\u001b[39m\u001b[32m, line 1\u001b[39m\n\u001b[32m----> \u001b[39m\u001b[32m1\u001b[39m \u001b[43mos\u001b[49m\u001b[43m.\u001b[49m\u001b[43mmkdir\u001b[49m\u001b[43m(\u001b[49m\u001b[33;43m\"\u001b[39;49m\u001b[33;43mabc\u001b[39;49m\u001b[33;43m\"\u001b[39;49m\u001b[43m)\u001b[49m\n",
      "\u001b[31mFileExistsError\u001b[39m: [WinError 183] Cannot create a file when that file already exists: 'abc'"
     ]
    }
   ],
   "source": [
    "os.mkdir(\"abc\")"
   ]
  },
  {
   "cell_type": "code",
   "execution_count": 113,
   "id": "9928c20f-74c4-48e0-bd16-6c9f913ea32b",
   "metadata": {},
   "outputs": [],
   "source": [
    "import shutil\n",
    "shutil.rmtree(\"c:/python\")"
   ]
  },
  {
   "cell_type": "code",
   "execution_count": 114,
   "id": "d88b06e1-1f55-404c-aa16-826da8d82fb9",
   "metadata": {},
   "outputs": [],
   "source": [
    "os.makedirs(\"test1/test2/test3\")"
   ]
  },
  {
   "cell_type": "code",
   "execution_count": 115,
   "id": "88f74855-07e3-4392-856a-c22c8f88d96b",
   "metadata": {},
   "outputs": [],
   "source": [
    "os.removedirs(\"test1/test2/test3\")"
   ]
  },
  {
   "cell_type": "code",
   "execution_count": 31,
   "id": "807b6972-ceae-475d-8649-87493c114485",
   "metadata": {},
   "outputs": [],
   "source": [
    "#os.makedirs('c:/test/test1/test2')\n",
    "os.removedirs('c:/test/test1/test2')\n"
   ]
  },
  {
   "cell_type": "code",
   "execution_count": 122,
   "id": "7f8732b7-191e-477c-98c7-c8f7c1e58464",
   "metadata": {},
   "outputs": [
    {
     "name": "stdout",
     "output_type": "stream",
     "text": [
      "abc.py\n",
      "c:/python/pythondemo\n"
     ]
    }
   ],
   "source": [
    "path=\"c:/python/pythondemo/abc.py\"\n",
    "print(os.path.basename(path))\n",
    "print(os.path.dirname(path))"
   ]
  },
  {
   "cell_type": "code",
   "execution_count": 126,
   "id": "72a83d14-c2a5-47ac-8ccd-f0eca8533cf0",
   "metadata": {},
   "outputs": [
    {
     "name": "stdout",
     "output_type": "stream",
     "text": [
      "c:\\abc\\first.py\n"
     ]
    }
   ],
   "source": [
    "dir=\"c:\\\\abc\"\n",
    "file_name=\"first.py\"\n",
    "path =os.path.join(dir,file_name)\n",
    "print(path)"
   ]
  },
  {
   "cell_type": "code",
   "execution_count": 132,
   "id": "bc5b28c1-f879-4df0-aa5e-2cf5a183f886",
   "metadata": {},
   "outputs": [
    {
     "name": "stdout",
     "output_type": "stream",
     "text": [
      "True\n",
      "False\n",
      "('c:/python', 'abc.py')\n"
     ]
    }
   ],
   "source": [
    "#os.mkdir(\"pythontest\")\n",
    "print(os.path.isdir(\"pythontest\"))\n",
    "print(os.path.isfile(\"pythontest\"))\n",
    "\n",
    "x = os.path.split(\"c:/python/abc.py\")\n",
    "print(x)"
   ]
  },
  {
   "cell_type": "code",
   "execution_count": 139,
   "id": "66a408e2-8a21-4f51-88d9-06b89a056160",
   "metadata": {},
   "outputs": [
    {
     "name": "stdout",
     "output_type": "stream",
     "text": [
      "ALLUSERSPROFILE C:\\ProgramData\n",
      "APPDATA C:\\Users\\babje\\AppData\\Roaming\n",
      "COMMONPROGRAMFILES C:\\Program Files\\Common Files\n",
      "COMMONPROGRAMFILES(X86) C:\\Program Files (x86)\\Common Files\n",
      "COMMONPROGRAMW6432 C:\\Program Files\\Common Files\n",
      "COMPUTERNAME DESKTOP-LJE0474\n",
      "COMSPEC C:\\Windows\\system32\\cmd.exe\n",
      "DRIVERDATA C:\\Windows\\System32\\Drivers\\DriverData\n",
      "FPS_BROWSER_APP_PROFILE_STRING Internet Explorer\n",
      "FPS_BROWSER_USER_PROFILE_STRING Default\n",
      "HADOOP_HOME C:\\winutils\n",
      "HOMEDRIVE C:\n",
      "HOMEPATH \\Users\\babje\n",
      "INFA_TRUSTSTORE C:\\Informatica\\10.4.1\\clients\\shared\\security\n",
      "IPY_INTERRUPT_EVENT 416\n",
      "JAVA_HOME C:\\Program Files\\Java\\jdk1.8.0_202\n",
      "JPY_INTERRUPT_EVENT 416\n",
      "JPY_PARENT_PID 4008\n",
      "JPY_SESSION_NAME C:\\Users\\babje\\Untitled17.ipynb\n",
      "LOCALAPPDATA C:\\Users\\babje\\AppData\\Local\n",
      "LOGONSERVER \\\\DESKTOP-LJE0474\n",
      "NUMBER_OF_PROCESSORS 8\n",
      "ONEDRIVE C:\\Users\\babje\\OneDrive\n",
      "ONEDRIVECONSUMER C:\\Users\\babje\\OneDrive\n",
      "OS Windows_NT\n",
      "PATH C:\\Program Files (x86)\\Common Files\\Oracle\\Java\\javapath;C:\\Informatica\\10.4.1\\clients\\tools\\datadirect;C:\\Program Files\\Teradata\\Client\\20.00\\bin;C:\\Program Files (x86)\\Teradata\\Client\\20.00\\bin;C:\\Informatica\\10.4.1\\clients\\tools\\datadirect;C:\\Informatica\\9.5.0\\java\\jre\\bin\\server;C:\\Informatica\\9.5.0\\tools\\odbcdrv;C:\\Informatica\\9.5.0\\tools\\datadirect;C:\\oraclexe\\app\\oracle\\product\\11.2.0\\server\\bin;C:\\Informatica\\10.4.1\\java\\jre\\bin\\server;C:\\Informatica\\10.4.1\\tools\\odbcdrv;C:\\Informatica\\10.4.1\\tools\\jdbcdrv;C:\\Informatica\\10.4.1\\tools\\sharedlibs;C:\\Informatica\\10.4.1\\tools\\datadirect;C:\\Informatica\\10.4.1\\clients\\tools\\datadirect;C:\\Informatica\\10.4.1\\clients\\tools\\odbcdrv;C:\\Informatica\\10.4.1\\clients\\tools\\jdbcdrv;C:\\Informatica\\10.4.1\\clients\\tools\\sharedlibs;C:\\oraclexe\\app\\oracle\\product\\11.2.0\\server\\bin;C:\\Windows\\system32;C:\\Windows;C:\\Windows\\System32\\Wbem;C:\\Windows\\System32\\WindowsPowerShell\\v1.0\\;C:\\Windows\\System32\\OpenSSH\\;C:\\Program Files\\Intel\\WiFi\\bin\\;C:\\Program Files\\Common Files\\Intel\\WirelessCommon\\;C:\\Spark\\bin;C:\\Users\\babje\\anaconda3\\scripts;C:\\Informatica\\10.4.1\\server\\bin;C:\\Informatica\\10.4.1\\tomcat\\bin;C:\\Program Files\\Java\\jre-1.8\\bin;C:\\Program Files\\Teradata\\Client\\20.00\\bin;C:\\Program Files\\PuTTY\\;C:\\winutils\\bin;C:\\Program Files\\PostgreSQL\\17\\bin;C:\\Program Files\\dotnet\\;C:\\Program Files\\Java\\jdk1.8.0_202\\bin;C:\\kafka\\bin;C:\\Program Files\\Npcap;C:\\Program Files\\Snowflake CLI;C:\\Program Files\\Snowflake SnowSQL;C:\\Program Files\\nodejs\\;C:\\Program Files\\Git\\cmd;C:\\Users\\babje\\AppData\\Local\\Programs\\Python\\Python312;C:\\Users\\babje\\AppData\\Local\\Programs\\Python\\Python312\\Scripts;C:\\Program Files\\Java\\jre-1.8\\bin;C:\\Users\\babje\\AppData\\Local\\Coursier\\data\\bin;C:\\Users\\babje\\AppData\\Roaming\\npm;C:\\Users\\babje\\.local\\bin;C:\\Users\\babje\\AppData\\Local\\Programs\\Microsoft VS Code\\bin\n",
      "PATHEXT .COM;.EXE;.BAT;.CMD;.VBS;.VBE;.JS;.JSE;.WSF;.WSH;.MSC\n",
      "PGDATA C:\\Program Files\\PostgreSQL\\17\\data\n",
      "PROCESSOR_ARCHITECTURE AMD64\n",
      "PROCESSOR_IDENTIFIER Intel64 Family 6 Model 142 Stepping 10, GenuineIntel\n",
      "PROCESSOR_LEVEL 6\n",
      "PROCESSOR_REVISION 8e0a\n",
      "PROGRAMDATA C:\\ProgramData\n",
      "PROGRAMFILES C:\\Program Files\n",
      "PROGRAMFILES(X86) C:\\Program Files (x86)\n",
      "PROGRAMW6432 C:\\Program Files\n",
      "PROMPT $P$G\n",
      "PSMODULEPATH C:\\Program Files\\WindowsPowerShell\\Modules;C:\\Windows\\system32\\WindowsPowerShell\\v1.0\\Modules\n",
      "PUBLIC C:\\Users\\Public\n",
      "PYSPARK_PYTHON python\n",
      "PYTHONPATH C:\\Spark/python;C:\\Spark/python/lib/py4j-0.10.9.7-src.zip;C:\\Spark/python;C:\\Spark/python/lib/py4j-0.10.9.7-src.zip;%SPARK_HOME%/python;%SPARK_HOME%/python/lib/py4j-0.10.9.7-src.zip;%PYTHONPATH%\n",
      "RFC_INI C:\\Windows\\system32\\saprfc.ini\n",
      "SESSIONNAME Console\n",
      "SNOWFLAKE_DEFAULT_CONNECTION_NAME default\n",
      "SPARK_HOME C:\\Spark\n",
      "SYSTEMDRIVE C:\n",
      "SYSTEMROOT C:\\Windows\n",
      "TEMP C:\\Users\\babje\\AppData\\Local\\Temp\n",
      "TMP C:\\Users\\babje\\AppData\\Local\\Temp\n",
      "USERDOMAIN DESKTOP-LJE0474\n",
      "USERDOMAIN_ROAMINGPROFILE DESKTOP-LJE0474\n",
      "USERNAME babje\n",
      "USERPROFILE C:\\Users\\babje\n",
      "WINDIR C:\\Windows\n",
      "ZES_ENABLE_SYSMAN 1\n",
      "__PSLOCKDOWNPOLICY 0\n",
      "PYDEVD_USE_FRAME_EVAL NO\n",
      "TERM xterm-color\n",
      "CLICOLOR 1\n",
      "FORCE_COLOR 1\n",
      "CLICOLOR_FORCE 1\n",
      "PAGER cat\n",
      "GIT_PAGER cat\n",
      "MPLBACKEND module://matplotlib_inline.backend_inline\n",
      "DB_USER admin\n"
     ]
    }
   ],
   "source": [
    "for var,val in os.environ.items():\n",
    "    print(var, val)"
   ]
  },
  {
   "cell_type": "code",
   "execution_count": 141,
   "id": "bf1dbcc2-e949-487d-9c38-ed96df712dfe",
   "metadata": {},
   "outputs": [
    {
     "name": "stdout",
     "output_type": "stream",
     "text": [
      "C:\\JAVA\n"
     ]
    }
   ],
   "source": [
    "os.environ[\"JAVA_HOME\"]=\"C:\\\\JAVA\"\n",
    "print(os.getenv(\"JAVA_HOME\"))"
   ]
  },
  {
   "cell_type": "code",
   "execution_count": 9,
   "id": "8516d3c3-a052-4b16-9fbf-54dbcd44a7b6",
   "metadata": {},
   "outputs": [
    {
     "data": {
      "text/plain": [
       "['26975672.pdf',\n",
       " 'Challenge_1.py',\n",
       " 'Challenge_2.py',\n",
       " 'Challenge_3.py',\n",
       " 'Challenge_4.py',\n",
       " 'Challenge_5.py',\n",
       " 'class.pkl',\n",
       " 'cls.pkl',\n",
       " 'data.pkl',\n",
       " 'destination.txt',\n",
       " 'dic.pik',\n",
       " 'dis.pik',\n",
       " 'dis.pkl',\n",
       " 'example.txt',\n",
       " 'fruits.txt',\n",
       " 'lst.pik',\n",
       " 'lst.pkl',\n",
       " 'lst_protocol1.pik',\n",
       " 'nl.pkl',\n",
       " 'oo-programming-in-python-pdf.pdf',\n",
       " 'people.csv',\n",
       " 'person.pkl',\n",
       " 'Practice',\n",
       " 'python.jpeg',\n",
       " 'python.jpeg.jfif',\n",
       " 'reversed.txt',\n",
       " 'steven F.Lott - mastering object-oriented python-Packt Publishing Ltd. (2019).pdf',\n",
       " 'user.json']"
      ]
     },
     "execution_count": 9,
     "metadata": {},
     "output_type": "execute_result"
    }
   ],
   "source": [
    "os.listdir(\"c:\\\\python_challenge\")"
   ]
  },
  {
   "cell_type": "code",
   "execution_count": 41,
   "id": "68af963f-9ae7-4325-81c6-a32f0d20cee6",
   "metadata": {},
   "outputs": [
    {
     "name": "stdout",
     "output_type": "stream",
     "text": [
      "file not found\n"
     ]
    }
   ],
   "source": [
    "if not os.path.exists('c:/python/welcome.txt'):\n",
    "    print(\"file not found\")\n",
    "else:    \n",
    "    os.remove('c:/python/welcome.txt')"
   ]
  },
  {
   "cell_type": "code",
   "execution_count": 42,
   "id": "ff7a6a0d-3fcc-4827-a7b1-087b8fc5c6e3",
   "metadata": {},
   "outputs": [
    {
     "data": {
      "text/plain": [
       "'c:\\\\python\\\\welcome.txt'"
      ]
     },
     "execution_count": 42,
     "metadata": {},
     "output_type": "execute_result"
    }
   ],
   "source": [
    "os.path.abspath('c:/python/welcome.txt')"
   ]
  },
  {
   "cell_type": "code",
   "execution_count": 43,
   "id": "7b7a6318-bd54-4faf-9d54-24d3d331b282",
   "metadata": {},
   "outputs": [
    {
     "data": {
      "text/plain": [
       "'welcome.txt'"
      ]
     },
     "execution_count": 43,
     "metadata": {},
     "output_type": "execute_result"
    }
   ],
   "source": [
    "os.path.basename('c:/python/welcome.txt')"
   ]
  },
  {
   "cell_type": "code",
   "execution_count": 45,
   "id": "90135ed9-ee6b-4dd8-a9fb-e9f3b9ece562",
   "metadata": {},
   "outputs": [
    {
     "data": {
      "text/plain": [
       "'c:/python'"
      ]
     },
     "execution_count": 45,
     "metadata": {},
     "output_type": "execute_result"
    }
   ],
   "source": [
    "os.path.dirname('c:/python/welcome.txt')"
   ]
  },
  {
   "cell_type": "code",
   "execution_count": 47,
   "id": "729ccbbe-0251-4638-a62e-69e5a12da8f9",
   "metadata": {},
   "outputs": [
    {
     "data": {
      "text/plain": [
       "True"
      ]
     },
     "execution_count": 47,
     "metadata": {},
     "output_type": "execute_result"
    }
   ],
   "source": [
    "os.path.isdir(\"c:/python\")"
   ]
  },
  {
   "cell_type": "code",
   "execution_count": 57,
   "id": "916a7b65-b103-4bab-bac3-69efe312778a",
   "metadata": {},
   "outputs": [
    {
     "data": {
      "text/plain": [
       "True"
      ]
     },
     "execution_count": 57,
     "metadata": {},
     "output_type": "execute_result"
    }
   ],
   "source": [
    "os.chdir('c:/python')\n",
    "os.path.isfile(\"file1.txt\")"
   ]
  },
  {
   "cell_type": "code",
   "execution_count": 16,
   "id": "44a5d95c-cb7d-4a90-9e31-025776a5e773",
   "metadata": {},
   "outputs": [],
   "source": [
    "os.makedirs('c:/pythondata/demo/demo1',exist_ok=True)"
   ]
  },
  {
   "cell_type": "code",
   "execution_count": 18,
   "id": "38803131-ac97-47fe-8c4f-a245580849b7",
   "metadata": {},
   "outputs": [
    {
     "ename": "FileNotFoundError",
     "evalue": "[WinError 2] The system cannot find the file specified: 'python1'",
     "output_type": "error",
     "traceback": [
      "\u001b[31m---------------------------------------------------------------------------\u001b[39m",
      "\u001b[31mFileNotFoundError\u001b[39m                         Traceback (most recent call last)",
      "\u001b[36mCell\u001b[39m\u001b[36m \u001b[39m\u001b[32mIn[18]\u001b[39m\u001b[32m, line 1\u001b[39m\n\u001b[32m----> \u001b[39m\u001b[32m1\u001b[39m \u001b[43mos\u001b[49m\u001b[43m.\u001b[49m\u001b[43mrmdir\u001b[49m\u001b[43m(\u001b[49m\u001b[33;43m'\u001b[39;49m\u001b[33;43mpython1\u001b[39;49m\u001b[33;43m'\u001b[39;49m\u001b[43m)\u001b[49m\n",
      "\u001b[31mFileNotFoundError\u001b[39m: [WinError 2] The system cannot find the file specified: 'python1'"
     ]
    }
   ],
   "source": [
    "os.mkdir(c\n",
    "os.rmdir('python')"
   ]
  },
  {
   "cell_type": "code",
   "execution_count": 17,
   "id": "20f0df21-8b50-4992-89df-19c28e5e0da5",
   "metadata": {},
   "outputs": [],
   "source": [
    "import shutil\n",
    "shutil.rmtree('c:/python1')"
   ]
  },
  {
   "cell_type": "code",
   "execution_count": 21,
   "id": "8a19bb97-f46f-48db-b808-946be4d01c5b",
   "metadata": {},
   "outputs": [
    {
     "name": "stdout",
     "output_type": "stream",
     "text": [
      "file exists\n"
     ]
    }
   ],
   "source": [
    "if not os.path.exists('c:/python_challenge/abc.txt'):\n",
    "    with open('c:/python_challenge/abc.txt','w') as f:\n",
    "        f.write(\"apple\\nmango\\nbanana\")\n",
    "    print('file created')\n",
    "else:\n",
    "    print(\"file exists\")\n",
    "        "
   ]
  },
  {
   "cell_type": "code",
   "execution_count": 25,
   "id": "092136e8-be97-494f-96c8-8c048d29e59c",
   "metadata": {},
   "outputs": [
    {
     "name": "stdout",
     "output_type": "stream",
     "text": [
      "file not found\n"
     ]
    }
   ],
   "source": [
    "if  os.path.exists('c:/python_challenge/abc.txt'):\n",
    "    os.remove('c:/python_challenge/abc.txt')\n",
    "    print(\"file removed\")\n",
    "else:\n",
    "    print(\"file not found\")\n",
    "    \n",
    "    "
   ]
  },
  {
   "cell_type": "code",
   "execution_count": 27,
   "id": "ceca300a-c303-4404-a207-2a745a55bf52",
   "metadata": {},
   "outputs": [
    {
     "name": "stdout",
     "output_type": "stream",
     "text": [
      "File created in folder.\n"
     ]
    }
   ],
   "source": [
    "import os\n",
    "folder = \"c:/my_folder\"\n",
    "file_name = \"new_file.txt\"\n",
    "\n",
    "os.makedirs(folder, exist_ok=True)\n",
    "\n",
    "file_path = os.path.join(folder, file_name)\n",
    "with open(file_path, 'w') as f:\n",
    "    f.write(\"Hello from inside the folder!\")\n",
    "\n",
    "print(\"File created in folder.\")\n"
   ]
  },
  {
   "cell_type": "code",
   "execution_count": 67,
   "id": "24212c7a-1361-4ef0-848c-0baabc536a22",
   "metadata": {},
   "outputs": [
    {
     "name": "stdout",
     "output_type": "stream",
     "text": [
      "c:/python/file1.txt\n",
      " Filesize: 419 bytes\n"
     ]
    }
   ],
   "source": [
    "import os\n",
    "folder = \"c:/python/\"\n",
    "file_name = \"file1.txt\"\n",
    "file_path = os.path.join(folder, file_name)\n",
    "print(file_path)\n",
    "print(f\" Filesize: {os.path.getsize(file_path)} bytes\")\n"
   ]
  },
  {
   "cell_type": "code",
   "execution_count": 31,
   "id": "bb8ccbff-f216-40c3-ae0c-e96d16ab9eee",
   "metadata": {},
   "outputs": [
    {
     "name": "stdout",
     "output_type": "stream",
     "text": [
      "True\n"
     ]
    }
   ],
   "source": [
    "print(os.path.isfile(file_path))"
   ]
  },
  {
   "cell_type": "code",
   "execution_count": 73,
   "id": "b3cb6d55-63ab-482d-94ad-ae1008a9666d",
   "metadata": {},
   "outputs": [
    {
     "name": "stdout",
     "output_type": "stream",
     "text": [
      "os.stat_result(st_mode=33206, st_ino=9288674231493578, st_dev=4681531841614994818, st_nlink=1, st_uid=0, st_gid=0, st_size=419, st_atime=1752122745, st_mtime=1752122745, st_ctime=1752122745)\n"
     ]
    }
   ],
   "source": [
    "stats=os.stat('c:/python/file1.txt')\n",
    "print(stats)"
   ]
  },
  {
   "cell_type": "code",
   "execution_count": 36,
   "id": "167e3064-b70a-4360-9499-83cb5ccf352d",
   "metadata": {},
   "outputs": [
    {
     "name": "stdout",
     "output_type": "stream",
     "text": [
      "Size: 43 bytes\n",
      "Created: Fri Jul  4 15:16:00 2025\n",
      "Modified: Fri Jul  4 15:17:23 2025\n",
      "Last Accessed: Fri Jul  4 16:02:14 2025\n"
     ]
    }
   ],
   "source": [
    "import os\n",
    "import time\n",
    "file_path = \"c:/python_challenge/example.txt\"\n",
    "stat_info = os.stat(file_path)\n",
    "print(\"Size:\", stat_info.st_size, \"bytes\")\n",
    "print(\"Created:\", time.ctime(stat_info.st_ctime))\n",
    "print(\"Modified:\", time.ctime(stat_info.st_mtime))\n",
    "print(\"Last Accessed:\", time.ctime(stat_info.st_atime))\n"
   ]
  },
  {
   "cell_type": "code",
   "execution_count": 74,
   "id": "04e5cc72-020f-4bef-9f2f-53583a18ccb8",
   "metadata": {},
   "outputs": [
    {
     "name": "stdout",
     "output_type": "stream",
     "text": [
      "C:\\Program Files (x86)\\Common Files\\Oracle\\Java\\javapath;C:\\Informatica\\10.4.1\\clients\\tools\\datadirect;C:\\Program Files\\Teradata\\Client\\20.00\\bin;C:\\Program Files (x86)\\Teradata\\Client\\20.00\\bin;C:\\Informatica\\10.4.1\\clients\\tools\\datadirect;C:\\Informatica\\9.5.0\\java\\jre\\bin\\server;C:\\Informatica\\9.5.0\\tools\\odbcdrv;C:\\Informatica\\9.5.0\\tools\\datadirect;C:\\oraclexe\\app\\oracle\\product\\11.2.0\\server\\bin;C:\\Informatica\\10.4.1\\java\\jre\\bin\\server;C:\\Informatica\\10.4.1\\tools\\odbcdrv;C:\\Informatica\\10.4.1\\tools\\jdbcdrv;C:\\Informatica\\10.4.1\\tools\\sharedlibs;C:\\Informatica\\10.4.1\\tools\\datadirect;C:\\Informatica\\10.4.1\\clients\\tools\\datadirect;C:\\Informatica\\10.4.1\\clients\\tools\\odbcdrv;C:\\Informatica\\10.4.1\\clients\\tools\\jdbcdrv;C:\\Informatica\\10.4.1\\clients\\tools\\sharedlibs;C:\\oraclexe\\app\\oracle\\product\\11.2.0\\server\\bin;C:\\Windows\\system32;C:\\Windows;C:\\Windows\\System32\\Wbem;C:\\Windows\\System32\\WindowsPowerShell\\v1.0\\;C:\\Windows\\System32\\OpenSSH\\;C:\\Program Files\\Intel\\WiFi\\bin\\;C:\\Program Files\\Common Files\\Intel\\WirelessCommon\\;C:\\Spark\\bin;C:\\Users\\babje\\anaconda3\\scripts;C:\\Informatica\\10.4.1\\server\\bin;C:\\Informatica\\10.4.1\\tomcat\\bin;C:\\Program Files\\Java\\jre-1.8\\bin;C:\\Program Files\\Teradata\\Client\\20.00\\bin;C:\\Program Files\\PuTTY\\;C:\\winutils\\bin;C:\\Program Files\\PostgreSQL\\17\\bin;C:\\Program Files\\dotnet\\;C:\\Program Files\\Java\\jdk1.8.0_202\\bin;C:\\kafka\\bin;C:\\Program Files\\Npcap;C:\\Program Files\\Snowflake CLI;C:\\Program Files\\Snowflake SnowSQL;C:\\Program Files\\nodejs\\;C:\\Program Files\\Git\\cmd;C:\\Users\\babje\\AppData\\Local\\Programs\\Python\\Python312;C:\\Users\\babje\\AppData\\Local\\Programs\\Python\\Python312\\Scripts;C:\\Program Files\\Java\\jre-1.8\\bin;C:\\Users\\babje\\AppData\\Local\\Coursier\\data\\bin;C:\\Users\\babje\\AppData\\Roaming\\npm;C:\\Users\\babje\\.local\\bin;C:\\Users\\babje\\AppData\\Local\\Programs\\Microsoft VS Code\\bin\n"
     ]
    }
   ],
   "source": [
    "import os\n",
    "print(os.getenv('path'))\n",
    "\n"
   ]
  },
  {
   "cell_type": "code",
   "execution_count": 79,
   "id": "d6956b75-2ad1-429a-a6a8-95e86a6f05ed",
   "metadata": {},
   "outputs": [
    {
     "name": "stdout",
     "output_type": "stream",
     "text": [
      "Windows_NT\n",
      "C:\\Program Files\\Java\\jdk1.8.0_202\n"
     ]
    }
   ],
   "source": [
    "print(os.getenv('os'))\n",
    "print(os.getenv('JAVA_HOME'))\n",
    "\n"
   ]
  },
  {
   "cell_type": "code",
   "execution_count": 81,
   "id": "46917e48-c1b4-44c4-9fd2-b80a048ee473",
   "metadata": {},
   "outputs": [
    {
     "name": "stdout",
     "output_type": "stream",
     "text": [
      "admin\n"
     ]
    }
   ],
   "source": [
    "os.environ['DB_USER'] = 'admin'\n",
    "print(os.getenv('DB_USER'))"
   ]
  },
  {
   "cell_type": "code",
   "execution_count": 9,
   "id": "3ecec2a8-e3eb-4621-bffd-961ad850728d",
   "metadata": {},
   "outputs": [
    {
     "name": "stdout",
     "output_type": "stream",
     "text": [
      "ALLUSERSPROFILE = C:\\ProgramData\n",
      "APPDATA = C:\\Users\\babje\\AppData\\Roaming\n",
      "COMMONPROGRAMFILES = C:\\Program Files\\Common Files\n",
      "COMMONPROGRAMFILES(X86) = C:\\Program Files (x86)\\Common Files\n",
      "COMMONPROGRAMW6432 = C:\\Program Files\\Common Files\n",
      "COMPUTERNAME = DESKTOP-LJE0474\n",
      "COMSPEC = C:\\Windows\\system32\\cmd.exe\n",
      "DRIVERDATA = C:\\Windows\\System32\\Drivers\\DriverData\n",
      "FPS_BROWSER_APP_PROFILE_STRING = Internet Explorer\n",
      "FPS_BROWSER_USER_PROFILE_STRING = Default\n",
      "HADOOP_HOME = C:\\winutils\n",
      "HOMEDRIVE = C:\n",
      "HOMEPATH = \\Users\\babje\n",
      "INFA_TRUSTSTORE = C:\\Informatica\\10.4.1\\clients\\shared\\security\n",
      "IPY_INTERRUPT_EVENT = 416\n",
      "JAVA_HOME = C:\\Program Files\\Java\\jdk1.8.0_202\n",
      "JPY_INTERRUPT_EVENT = 416\n",
      "JPY_PARENT_PID = 4008\n",
      "JPY_SESSION_NAME = C:\\Users\\babje\\Untitled17.ipynb\n",
      "LOCALAPPDATA = C:\\Users\\babje\\AppData\\Local\n",
      "LOGONSERVER = \\\\DESKTOP-LJE0474\n",
      "NUMBER_OF_PROCESSORS = 8\n",
      "ONEDRIVE = C:\\Users\\babje\\OneDrive\n",
      "ONEDRIVECONSUMER = C:\\Users\\babje\\OneDrive\n",
      "OS = Windows_NT\n",
      "PATH = C:\\Program Files (x86)\\Common Files\\Oracle\\Java\\javapath;C:\\Informatica\\10.4.1\\clients\\tools\\datadirect;C:\\Program Files\\Teradata\\Client\\20.00\\bin;C:\\Program Files (x86)\\Teradata\\Client\\20.00\\bin;C:\\Informatica\\10.4.1\\clients\\tools\\datadirect;C:\\Informatica\\9.5.0\\java\\jre\\bin\\server;C:\\Informatica\\9.5.0\\tools\\odbcdrv;C:\\Informatica\\9.5.0\\tools\\datadirect;C:\\oraclexe\\app\\oracle\\product\\11.2.0\\server\\bin;C:\\Informatica\\10.4.1\\java\\jre\\bin\\server;C:\\Informatica\\10.4.1\\tools\\odbcdrv;C:\\Informatica\\10.4.1\\tools\\jdbcdrv;C:\\Informatica\\10.4.1\\tools\\sharedlibs;C:\\Informatica\\10.4.1\\tools\\datadirect;C:\\Informatica\\10.4.1\\clients\\tools\\datadirect;C:\\Informatica\\10.4.1\\clients\\tools\\odbcdrv;C:\\Informatica\\10.4.1\\clients\\tools\\jdbcdrv;C:\\Informatica\\10.4.1\\clients\\tools\\sharedlibs;C:\\oraclexe\\app\\oracle\\product\\11.2.0\\server\\bin;C:\\Windows\\system32;C:\\Windows;C:\\Windows\\System32\\Wbem;C:\\Windows\\System32\\WindowsPowerShell\\v1.0\\;C:\\Windows\\System32\\OpenSSH\\;C:\\Program Files\\Intel\\WiFi\\bin\\;C:\\Program Files\\Common Files\\Intel\\WirelessCommon\\;C:\\Spark\\bin;C:\\Users\\babje\\anaconda3\\scripts;C:\\Informatica\\10.4.1\\server\\bin;C:\\Informatica\\10.4.1\\tomcat\\bin;C:\\Program Files\\Java\\jre-1.8\\bin;C:\\Program Files\\Teradata\\Client\\20.00\\bin;C:\\Program Files\\PuTTY\\;C:\\winutils\\bin;C:\\Program Files\\PostgreSQL\\17\\bin;C:\\Program Files\\dotnet\\;C:\\Program Files\\Java\\jdk1.8.0_202\\bin;C:\\kafka\\bin;C:\\Program Files\\Npcap;C:\\Program Files\\Snowflake CLI;C:\\Program Files\\Snowflake SnowSQL;C:\\Program Files\\nodejs\\;C:\\Program Files\\Git\\cmd;C:\\Users\\babje\\AppData\\Local\\Programs\\Python\\Python312;C:\\Users\\babje\\AppData\\Local\\Programs\\Python\\Python312\\Scripts;C:\\Program Files\\Java\\jre-1.8\\bin;C:\\Users\\babje\\AppData\\Local\\Coursier\\data\\bin;C:\\Users\\babje\\AppData\\Roaming\\npm;C:\\Users\\babje\\.local\\bin;C:\\Users\\babje\\AppData\\Local\\Programs\\Microsoft VS Code\\bin\n",
      "PATHEXT = .COM;.EXE;.BAT;.CMD;.VBS;.VBE;.JS;.JSE;.WSF;.WSH;.MSC\n",
      "PGDATA = C:\\Program Files\\PostgreSQL\\17\\data\n",
      "PROCESSOR_ARCHITECTURE = AMD64\n",
      "PROCESSOR_IDENTIFIER = Intel64 Family 6 Model 142 Stepping 10, GenuineIntel\n",
      "PROCESSOR_LEVEL = 6\n",
      "PROCESSOR_REVISION = 8e0a\n",
      "PROGRAMDATA = C:\\ProgramData\n",
      "PROGRAMFILES = C:\\Program Files\n",
      "PROGRAMFILES(X86) = C:\\Program Files (x86)\n",
      "PROGRAMW6432 = C:\\Program Files\n",
      "PROMPT = $P$G\n",
      "PSMODULEPATH = C:\\Program Files\\WindowsPowerShell\\Modules;C:\\Windows\\system32\\WindowsPowerShell\\v1.0\\Modules\n",
      "PUBLIC = C:\\Users\\Public\n",
      "PYSPARK_PYTHON = python\n",
      "PYTHONPATH = C:\\Spark/python;C:\\Spark/python/lib/py4j-0.10.9.7-src.zip;C:\\Spark/python;C:\\Spark/python/lib/py4j-0.10.9.7-src.zip;%SPARK_HOME%/python;%SPARK_HOME%/python/lib/py4j-0.10.9.7-src.zip;%PYTHONPATH%\n",
      "RFC_INI = C:\\Windows\\system32\\saprfc.ini\n",
      "SESSIONNAME = Console\n",
      "SNOWFLAKE_DEFAULT_CONNECTION_NAME = default\n",
      "SPARK_HOME = C:\\Spark\n",
      "SYSTEMDRIVE = C:\n",
      "SYSTEMROOT = C:\\Windows\n",
      "TEMP = C:\\Users\\babje\\AppData\\Local\\Temp\n",
      "TMP = C:\\Users\\babje\\AppData\\Local\\Temp\n",
      "USERDOMAIN = DESKTOP-LJE0474\n",
      "USERDOMAIN_ROAMINGPROFILE = DESKTOP-LJE0474\n",
      "USERNAME = babje\n",
      "USERPROFILE = C:\\Users\\babje\n",
      "WINDIR = C:\\Windows\n",
      "ZES_ENABLE_SYSMAN = 1\n",
      "__PSLOCKDOWNPOLICY = 0\n",
      "PYDEVD_USE_FRAME_EVAL = NO\n",
      "TERM = xterm-color\n",
      "CLICOLOR = 1\n",
      "FORCE_COLOR = 1\n",
      "CLICOLOR_FORCE = 1\n",
      "PAGER = cat\n",
      "GIT_PAGER = cat\n",
      "MPLBACKEND = module://matplotlib_inline.backend_inline\n",
      "DB_USER = admin\n"
     ]
    }
   ],
   "source": [
    "for key, value in os.environ.items():\n",
    "    print(f'{key} = {value}')\n"
   ]
  },
  {
   "cell_type": "code",
   "execution_count": 6,
   "id": "2b95cc13-e7d2-48c3-a0e5-dd5809efe609",
   "metadata": {},
   "outputs": [
    {
     "name": "stdout",
     "output_type": "stream",
     "text": [
      "Windows_NT\n"
     ]
    }
   ],
   "source": [
    "print(os.getenv('os'))"
   ]
  },
  {
   "cell_type": "code",
   "execution_count": 10,
   "id": "22d7c41d-416b-49d4-b45a-63250caf6d30",
   "metadata": {},
   "outputs": [
    {
     "name": "stdout",
     "output_type": "stream",
     "text": [
      "Current Process ID: 3800\n"
     ]
    }
   ],
   "source": [
    "import os\n",
    "\n",
    "print(\"Current Process ID:\", os.getpid())"
   ]
  },
  {
   "cell_type": "code",
   "execution_count": 143,
   "id": "fca2783b-d4e0-4ffd-ab58-315f4a063b76",
   "metadata": {},
   "outputs": [
    {
     "name": "stdout",
     "output_type": "stream",
     "text": [
      "Current Process ID: 6860\n"
     ]
    }
   ],
   "source": [
    "import os\n",
    "\n",
    "print(\"Current Process ID:\", os.getppid())"
   ]
  },
  {
   "cell_type": "code",
   "execution_count": 71,
   "id": "ca605954-84af-454d-910a-f59147f0d9b6",
   "metadata": {},
   "outputs": [],
   "source": [
    "from datetime import datetime\n",
    "dt =datetime(2000,10,10)"
   ]
  },
  {
   "cell_type": "code",
   "execution_count": 72,
   "id": "ec1ebebb-580e-4122-814b-9b3147610c17",
   "metadata": {},
   "outputs": [
    {
     "name": "stdout",
     "output_type": "stream",
     "text": [
      "<class 'datetime.datetime'>\n"
     ]
    }
   ],
   "source": [
    "print(type(dt))"
   ]
  },
  {
   "cell_type": "code",
   "execution_count": 73,
   "id": "c688cf2c-efed-492d-b03c-2119b6e3973d",
   "metadata": {},
   "outputs": [
    {
     "name": "stdout",
     "output_type": "stream",
     "text": [
      "2000-10-10 00:00:00\n"
     ]
    }
   ],
   "source": [
    "print(dt)"
   ]
  },
  {
   "cell_type": "code",
   "execution_count": 74,
   "id": "aee79e77-d7e0-470a-bfbe-54f36b75dfdb",
   "metadata": {},
   "outputs": [
    {
     "name": "stdout",
     "output_type": "stream",
     "text": [
      "2025-07-11 14:26:59.432297\n"
     ]
    }
   ],
   "source": [
    "print(datetime.now())"
   ]
  },
  {
   "cell_type": "code",
   "execution_count": 59,
   "id": "ad40fa8e-7c77-4ad9-968e-a1753d50a805",
   "metadata": {},
   "outputs": [
    {
     "name": "stdout",
     "output_type": "stream",
     "text": [
      "India Standard Time\n"
     ]
    }
   ],
   "source": [
    "print(datetime.now().astimezone().tzinfo)"
   ]
  },
  {
   "cell_type": "code",
   "execution_count": 60,
   "id": "ff59efee-8ab5-42dc-a657-fef063bf2712",
   "metadata": {},
   "outputs": [
    {
     "name": "stdout",
     "output_type": "stream",
     "text": [
      "2025-07-11 14:18:20.911412\n"
     ]
    }
   ],
   "source": [
    "\n",
    "dt=datetime.now()\n",
    "print(dt)\n"
   ]
  },
  {
   "cell_type": "code",
   "execution_count": 77,
   "id": "497f55e7-dd35-40e8-a16d-c0b3e2172083",
   "metadata": {},
   "outputs": [
    {
     "name": "stdout",
     "output_type": "stream",
     "text": [
      "UTC time: 2025-07-11 09:01:18.471881+00:00\n"
     ]
    }
   ],
   "source": [
    "from zoneinfo import ZoneInfo\n",
    "utc_time = datetime.now(ZoneInfo(\"UTC\"))\n",
    "print(\"UTC time:\", utc_time)"
   ]
  },
  {
   "cell_type": "code",
   "execution_count": 76,
   "id": "5ecac217-0666-43d2-83bc-08ca77af238a",
   "metadata": {},
   "outputs": [
    {
     "name": "stdout",
     "output_type": "stream",
     "text": [
      "India time: 2025-07-11 14:29:50.955937+05:30\n"
     ]
    }
   ],
   "source": [
    "india_time = utc_time.astimezone(ZoneInfo(\"Asia/Kolkata\"))\n",
    "print(\"India time:\", india_time)"
   ]
  },
  {
   "cell_type": "code",
   "execution_count": 78,
   "id": "45a68a93-593b-4e99-92c7-66f5078bf530",
   "metadata": {},
   "outputs": [
    {
     "name": "stdout",
     "output_type": "stream",
     "text": [
      "2025-07-11 14:34:29.251907\n"
     ]
    }
   ],
   "source": [
    "dt = datetime.now()\n",
    "print(dt)"
   ]
  },
  {
   "cell_type": "code",
   "execution_count": 81,
   "id": "0d6fdb85-dac2-4430-a131-d77d48b9b4f7",
   "metadata": {},
   "outputs": [
    {
     "name": "stdout",
     "output_type": "stream",
     "text": [
      "2025-07-11\n"
     ]
    }
   ],
   "source": [
    "print(dt.date())"
   ]
  },
  {
   "cell_type": "code",
   "execution_count": 64,
   "id": "063babe0-4156-4565-99cb-1ca518d6f99e",
   "metadata": {},
   "outputs": [
    {
     "data": {
      "text/plain": [
       "11"
      ]
     },
     "execution_count": 64,
     "metadata": {},
     "output_type": "execute_result"
    }
   ],
   "source": [
    "dt.day"
   ]
  },
  {
   "cell_type": "code",
   "execution_count": 65,
   "id": "dd7d1d55-1699-40cc-91f6-faad2107138b",
   "metadata": {},
   "outputs": [
    {
     "data": {
      "text/plain": [
       "7"
      ]
     },
     "execution_count": 65,
     "metadata": {},
     "output_type": "execute_result"
    }
   ],
   "source": [
    "dt.month"
   ]
  },
  {
   "cell_type": "code",
   "execution_count": 66,
   "id": "ba7b8761-6ec0-49c8-9a05-e8ce24d76ce6",
   "metadata": {},
   "outputs": [
    {
     "data": {
      "text/plain": [
       "2025"
      ]
     },
     "execution_count": 66,
     "metadata": {},
     "output_type": "execute_result"
    }
   ],
   "source": [
    "dt.year"
   ]
  },
  {
   "cell_type": "code",
   "execution_count": 68,
   "id": "7e46d127-c6f0-45eb-8058-5e7bd9124ffc",
   "metadata": {},
   "outputs": [
    {
     "name": "stdout",
     "output_type": "stream",
     "text": [
      "14:19:39.155308\n"
     ]
    }
   ],
   "source": [
    "print(dt.time())"
   ]
  },
  {
   "cell_type": "code",
   "execution_count": 82,
   "id": "2bf8c95d-20fe-4f1c-b055-9db9a4f88bd8",
   "metadata": {},
   "outputs": [
    {
     "data": {
      "text/plain": [
       "14"
      ]
     },
     "execution_count": 82,
     "metadata": {},
     "output_type": "execute_result"
    }
   ],
   "source": [
    "dt.hour"
   ]
  },
  {
   "cell_type": "code",
   "execution_count": 83,
   "id": "4ab75d37-fcc6-46ad-949b-196bad936aae",
   "metadata": {},
   "outputs": [
    {
     "data": {
      "text/plain": [
       "34"
      ]
     },
     "execution_count": 83,
     "metadata": {},
     "output_type": "execute_result"
    }
   ],
   "source": [
    "dt.minute"
   ]
  },
  {
   "cell_type": "code",
   "execution_count": 84,
   "id": "aeb7c716-ff78-4b6d-9040-ac807e332d2e",
   "metadata": {},
   "outputs": [
    {
     "data": {
      "text/plain": [
       "29"
      ]
     },
     "execution_count": 84,
     "metadata": {},
     "output_type": "execute_result"
    }
   ],
   "source": [
    "dt.second"
   ]
  },
  {
   "cell_type": "code",
   "execution_count": 85,
   "id": "64626913-4d7d-4db4-9865-3acdb620677e",
   "metadata": {},
   "outputs": [
    {
     "data": {
      "text/plain": [
       "251907"
      ]
     },
     "execution_count": 85,
     "metadata": {},
     "output_type": "execute_result"
    }
   ],
   "source": [
    "dt.microsecond"
   ]
  },
  {
   "cell_type": "code",
   "execution_count": 87,
   "id": "592b5ab9-9104-479e-b2f1-32cb6f2c7099",
   "metadata": {},
   "outputs": [
    {
     "data": {
      "text/plain": [
       "4"
      ]
     },
     "execution_count": 87,
     "metadata": {},
     "output_type": "execute_result"
    }
   ],
   "source": [
    "dt.weekday()"
   ]
  },
  {
   "cell_type": "code",
   "execution_count": 89,
   "id": "7035c8ee-78c0-4e0b-8bd8-86d8e6459003",
   "metadata": {},
   "outputs": [
    {
     "ename": "AttributeError",
     "evalue": "type object 'datetime.datetime' has no attribute 'datetime'",
     "output_type": "error",
     "traceback": [
      "\u001b[31m---------------------------------------------------------------------------\u001b[39m",
      "\u001b[31mAttributeError\u001b[39m                            Traceback (most recent call last)",
      "\u001b[36mCell\u001b[39m\u001b[36m \u001b[39m\u001b[32mIn[89]\u001b[39m\u001b[32m, line 1\u001b[39m\n\u001b[32m----> \u001b[39m\u001b[32m1\u001b[39m \u001b[43mdatetime\u001b[49m\u001b[43m.\u001b[49m\u001b[43mdatetime\u001b[49m.now(datetime.UTC)\n",
      "\u001b[31mAttributeError\u001b[39m: type object 'datetime.datetime' has no attribute 'datetime'"
     ]
    }
   ],
   "source": []
  },
  {
   "cell_type": "code",
   "execution_count": 44,
   "id": "43e91e6d-31ab-40be-8501-7a6ca8094c24",
   "metadata": {},
   "outputs": [
    {
     "data": {
      "text/plain": [
       "4"
      ]
     },
     "execution_count": 44,
     "metadata": {},
     "output_type": "execute_result"
    }
   ],
   "source": [
    "india_time.weekday()"
   ]
  },
  {
   "cell_type": "code",
   "execution_count": 92,
   "id": "591b162e-8026-4d60-88f0-9bde3262f0aa",
   "metadata": {},
   "outputs": [
    {
     "name": "stdout",
     "output_type": "stream",
     "text": [
      "2025-07-11 14:44:56.500557\n",
      "2025-07-11\n",
      "Fri, Jul,11, 2025\n",
      "Friday, July,11, 2025\n",
      "02:44 PM\n",
      "14:44 PM\n",
      "07-11-25 02:44:56 PM\n"
     ]
    }
   ],
   "source": [
    "# Format to string\n",
    "now =datetime.now()\n",
    "print(now)\n",
    "print(now.strftime(\"%Y-%m-%d\"))\n",
    "print(now.strftime(\"%a, %b,%d, %Y\"))\n",
    "print(now.strftime(\"%A, %B,%d, %Y\"))\n",
    "print(now.strftime(\"%I:%M:%S %p\"))  # 12-hour format\n",
    "print(now.strftime(\"%H:%M%S %p\"))  # 24-hour format\n",
    "print(now.strftime(\"%m-%d-%y %I:%M:%S %p\"))\n"
   ]
  },
  {
   "cell_type": "code",
   "execution_count": 95,
   "id": "07239bc1-a86c-49f3-86d6-ccef69cc5b7c",
   "metadata": {},
   "outputs": [
    {
     "name": "stdout",
     "output_type": "stream",
     "text": [
      "2025-07-11\n"
     ]
    }
   ],
   "source": [
    "from datetime import date\n",
    "d =date.today()\n",
    "print(d)"
   ]
  },
  {
   "cell_type": "code",
   "execution_count": 101,
   "id": "e0ebfa16-e713-465c-b957-931cb75fa20a",
   "metadata": {},
   "outputs": [
    {
     "name": "stdout",
     "output_type": "stream",
     "text": [
      "5 days, 0:00:00\n",
      "<class 'datetime.timedelta'>\n",
      "5\n"
     ]
    }
   ],
   "source": [
    "from datetime import date\n",
    "d1 =date(2025,12,25)\n",
    "d2=date(2025,12,30)\n",
    "diff=(d2-d1)\n",
    "print(diff)\n",
    "print(type(diff))\n",
    "print(diff.days)"
   ]
  },
  {
   "cell_type": "code",
   "execution_count": 50,
   "id": "6275fbd2-5809-45b2-a74a-da8d838a8369",
   "metadata": {},
   "outputs": [
    {
     "name": "stdout",
     "output_type": "stream",
     "text": [
      "2025-07-11\n",
      "Year:2025\n",
      "Year:7\n",
      "Year:11\n",
      "Week Day :4\n"
     ]
    }
   ],
   "source": [
    "d=date.today()\n",
    "\n",
    "print(d)\n",
    "print(f\"Year:{d.year}\")\n",
    "print(f\"Year:{d.month}\")\n",
    "print(f\"Year:{d.day}\")\n",
    "print(f\"Week Day :{d.weekday()}\")\n"
   ]
  },
  {
   "cell_type": "code",
   "execution_count": 154,
   "id": "de40c852-5d17-45e0-a146-af0a11510322",
   "metadata": {},
   "outputs": [
    {
     "name": "stdout",
     "output_type": "stream",
     "text": [
      "2025-07-10 12:57:43.304134\n"
     ]
    }
   ],
   "source": [
    "from datetime import datetime\n",
    "print( datetime.now())"
   ]
  },
  {
   "cell_type": "code",
   "execution_count": 157,
   "id": "8634f64e-483a-42ee-945e-2b75afee1910",
   "metadata": {},
   "outputs": [
    {
     "name": "stdout",
     "output_type": "stream",
     "text": [
      "Event at: 2023-12-25 10:30:00\n"
     ]
    }
   ],
   "source": [
    "dt = datetime(2023, 12, 25,10,30)\n",
    "print(\"Event at:\", dt)"
   ]
  },
  {
   "cell_type": "code",
   "execution_count": 103,
   "id": "54006bdb-df3f-4d1e-829e-99ba6a04a8b8",
   "metadata": {},
   "outputs": [
    {
     "name": "stdout",
     "output_type": "stream",
     "text": [
      "2025-07-08 00:00:00\n"
     ]
    }
   ],
   "source": [
    "date_str = \"2025-07-08\"\n",
    "dt = datetime.strptime(date_str, \"%Y-%m-%d\")\n",
    "print(dt)"
   ]
  },
  {
   "cell_type": "code",
   "execution_count": 106,
   "id": "3eca5d8b-e0b8-4399-9f7e-9b7c0830ffb0",
   "metadata": {},
   "outputs": [
    {
     "name": "stdout",
     "output_type": "stream",
     "text": [
      "2025-01-11\n",
      "2024-12-27\n"
     ]
    }
   ],
   "source": [
    "from datetime import date,timedelta\n",
    "var_date = date(2025,1,1)\n",
    "future_date = var_date +timedelta(days=10)\n",
    "past_date = var_date-timedelta(days=5)\n",
    "print(future_date)\n",
    "print(past_date)"
   ]
  },
  {
   "cell_type": "code",
   "execution_count": 5,
   "id": "2b0fad21-d97c-49d7-86d0-9a05f578bc0f",
   "metadata": {},
   "outputs": [
    {
     "name": "stdout",
     "output_type": "stream",
     "text": [
      "d1 is before d2\n",
      "Days between: 176 days, 0:00:00\n",
      "Days between: 176\n"
     ]
    }
   ],
   "source": [
    "from datetime import date\n",
    "\n",
    "d1 = date(2025, 7, 8)\n",
    "d2 = date(2025, 12, 31)\n",
    "\n",
    "if d1 < d2:\n",
    "    print(\"d1 is before d2\")\n",
    "\n",
    "delta = d2 - d1\n",
    "print(\"Days between:\", delta)\n",
    "delta = d2 - d1\n",
    "print(\"Days between:\", delta.days)\n",
    "\n"
   ]
  },
  {
   "cell_type": "code",
   "execution_count": 1,
   "id": "25ed73dd-ae1e-4308-be34-d96545da7d2f",
   "metadata": {},
   "outputs": [
    {
     "name": "stdout",
     "output_type": "stream",
     "text": [
      "Today: 2025-07-11 09:22:14.408498\n",
      "Future: 2025-07-16 09:22:14.408498\n",
      "Past: 2025-07-09 09:22:14.408498\n",
      "Future_2_hrs 2025-07-11 11:22:14.408498\n",
      "Past: 2025-07-11 07:22:14.408498\n"
     ]
    }
   ],
   "source": [
    "from datetime import datetime, timedelta\n",
    "today = datetime.today()\n",
    "print(\"Today:\", today)\n",
    "future = today + timedelta(days=5)\n",
    "print(\"Future:\", future)\n",
    "\n",
    "past = today - timedelta(days=2)\n",
    "print(\"Past:\", past)\n",
    "\n",
    "future_hr =today+timedelta(hours=2)\n",
    "print(\"Future_2_hrs\", future_hr)\n",
    "past = today - timedelta(hours=2)\n",
    "print(\"Past:\", past)\n"
   ]
  },
  {
   "cell_type": "code",
   "execution_count": 108,
   "id": "c5d8d8e6-e3aa-4a49-a0c1-6ae47bbbe9f7",
   "metadata": {},
   "outputs": [
    {
     "name": "stdout",
     "output_type": "stream",
     "text": [
      "Time: 14:30:45.000010\n",
      "Hour: 14 Minute: 30 45 10\n"
     ]
    }
   ],
   "source": [
    "from datetime import time\n",
    "t = time(14, 30, 45,10)\n",
    "print(\"Time:\", t)\n",
    "print(\"Hour:\", t.hour, \"Minute:\", \\\n",
    "      t.minute, t.second,t.microsecond)"
   ]
  },
  {
   "cell_type": "code",
   "execution_count": 111,
   "id": "7613e4e5-d807-48f4-a043-c6f9008ce72e",
   "metadata": {},
   "outputs": [
    {
     "name": "stdout",
     "output_type": "stream",
     "text": [
      "1752227877.3847547\n"
     ]
    }
   ],
   "source": [
    "\n"
   ]
  },
  {
   "cell_type": "code",
   "execution_count": 13,
   "id": "367fd89e-67dc-4e5e-aaa9-6d8f0070eec1",
   "metadata": {},
   "outputs": [
    {
     "data": {
      "text/plain": [
       "'Fri Jul 11 10:01:16 2025'"
      ]
     },
     "execution_count": 13,
     "metadata": {},
     "output_type": "execute_result"
    }
   ],
   "source": [
    "time.ctime(time.time())\n"
   ]
  },
  {
   "cell_type": "code",
   "execution_count": 14,
   "id": "f08852be-0f39-4760-9672-49e740712bbd",
   "metadata": {},
   "outputs": [
    {
     "data": {
      "text/plain": [
       "'Thu Jan  1 05:30:00 1970'"
      ]
     },
     "execution_count": 14,
     "metadata": {},
     "output_type": "execute_result"
    }
   ],
   "source": [
    "time.ctime(0)"
   ]
  },
  {
   "cell_type": "code",
   "execution_count": null,
   "id": "c7b3da44-b5db-4189-8d4f-9ef61a7b7140",
   "metadata": {},
   "outputs": [],
   "source": []
  },
  {
   "cell_type": "code",
   "execution_count": 174,
   "id": "b8be5002-fd43-487c-b77d-38a84a088c52",
   "metadata": {},
   "outputs": [
    {
     "name": "stdout",
     "output_type": "stream",
     "text": [
      "Start\n",
      "End\n"
     ]
    }
   ],
   "source": [
    "print(\"Start\")\n",
    "time.sleep(5) \n",
    "print(\"End\")"
   ]
  },
  {
   "cell_type": "code",
   "execution_count": 179,
   "id": "a2606e45-2cb6-4823-a239-618ad823c666",
   "metadata": {},
   "outputs": [
    {
     "name": "stdout",
     "output_type": "stream",
     "text": [
      "Formatted: 2025-07-10 14:03:35\n",
      "UTC: 2025-07-10 08:33:35\n"
     ]
    }
   ],
   "source": [
    "local = time.localtime()\n",
    "formatted = time.strftime(\"%Y-%m-%d %H:%M:%S\", time.localtime())\n",
    "print(\"Formatted:\", formatted)\n",
    "\n",
    "utc = time.gmtime()\n",
    "formatted = time.strftime(\"%Y-%m-%d %H:%M:%S\", time.gmtime())\n",
    "print(\"UTC:\", formatted)"
   ]
  },
  {
   "cell_type": "code",
   "execution_count": 180,
   "id": "b10031be-1cb8-4229-b72c-55f3a7943df3",
   "metadata": {},
   "outputs": [
    {
     "name": "stdout",
     "output_type": "stream",
     "text": [
      "time.struct_time(tm_year=2025, tm_mon=7, tm_mday=10, tm_hour=0, tm_min=0, tm_sec=0, tm_wday=3, tm_yday=191, tm_isdst=-1)\n"
     ]
    }
   ],
   "source": [
    "#parsed sting \n",
    "parsed = time.strptime(\"2025-07-10\", \"%Y-%m-%d\")\n",
    "print(parsed)"
   ]
  },
  {
   "cell_type": "code",
   "execution_count": null,
   "id": "27daf09f-f6d0-4ccb-bde7-a77bae70ae19",
   "metadata": {},
   "outputs": [],
   "source": []
  }
 ],
 "metadata": {
  "kernelspec": {
   "display_name": "Python 3 (ipykernel)",
   "language": "python",
   "name": "python3"
  },
  "language_info": {
   "codemirror_mode": {
    "name": "ipython",
    "version": 3
   },
   "file_extension": ".py",
   "mimetype": "text/x-python",
   "name": "python",
   "nbconvert_exporter": "python",
   "pygments_lexer": "ipython3",
   "version": "3.12.10"
  }
 },
 "nbformat": 4,
 "nbformat_minor": 5
}

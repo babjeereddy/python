{
 "cells": [
  {
   "cell_type": "code",
   "execution_count": 6,
   "id": "42ec9701-7f4d-4a5f-a966-66fa4d93310b",
   "metadata": {},
   "outputs": [
    {
     "name": "stdout",
     "output_type": "stream",
     "text": [
      "[10 20 30 40]\n",
      "<class 'numpy.ndarray'>\n",
      "int64\n"
     ]
    }
   ],
   "source": [
    "import numpy as np\n",
    "arr =np.array([10,20,30,40])\n",
    "print(arr)\n",
    "print(type(arr))\n",
    "print(arr.dtype)"
   ]
  },
  {
   "cell_type": "code",
   "execution_count": 7,
   "id": "e2441729-1e50-4386-b849-d2ea8694939d",
   "metadata": {},
   "outputs": [
    {
     "name": "stdout",
     "output_type": "stream",
     "text": [
      "[0 1 2 3 4 5 6 7 8 9]\n"
     ]
    }
   ],
   "source": [
    "arr = np.arange(10)\n",
    "print(arr)"
   ]
  },
  {
   "cell_type": "code",
   "execution_count": 8,
   "id": "83c090b2-dcd2-40e1-a962-8a69c959b7d0",
   "metadata": {},
   "outputs": [
    {
     "name": "stdout",
     "output_type": "stream",
     "text": [
      "[ 0  2  4  6  8 10]\n"
     ]
    }
   ],
   "source": [
    "arr = np.arange(0,11,2)\n",
    "print(arr)"
   ]
  },
  {
   "cell_type": "code",
   "execution_count": 9,
   "id": "b70b9152-8538-4dd7-8558-c9f61279157c",
   "metadata": {},
   "outputs": [
    {
     "name": "stdout",
     "output_type": "stream",
     "text": [
      "0\n"
     ]
    }
   ],
   "source": [
    "print(arr[0])"
   ]
  },
  {
   "cell_type": "code",
   "execution_count": 10,
   "id": "84c93c41-c33c-4274-95d8-d8d7e2795024",
   "metadata": {},
   "outputs": [
    {
     "name": "stdout",
     "output_type": "stream",
     "text": [
      "[0 2 4]\n"
     ]
    }
   ],
   "source": [
    "print(arr[0:3])"
   ]
  },
  {
   "cell_type": "code",
   "execution_count": 11,
   "id": "9be011f5-2da4-4572-812c-24a7370ad1ae",
   "metadata": {},
   "outputs": [
    {
     "name": "stdout",
     "output_type": "stream",
     "text": [
      "[ 4  6  8 10]\n"
     ]
    }
   ],
   "source": [
    "print(arr[2:])"
   ]
  },
  {
   "cell_type": "code",
   "execution_count": 12,
   "id": "b225fcb3-fe4e-4377-ad42-e7c30a65a053",
   "metadata": {},
   "outputs": [
    {
     "name": "stdout",
     "output_type": "stream",
     "text": [
      "[0 2]\n"
     ]
    }
   ],
   "source": [
    "print(arr[:2])"
   ]
  },
  {
   "cell_type": "code",
   "execution_count": 14,
   "id": "76a52944-d03e-42f6-902d-33856a9d5946",
   "metadata": {},
   "outputs": [
    {
     "name": "stdout",
     "output_type": "stream",
     "text": [
      "[10  8  6  4  2  0]\n"
     ]
    }
   ],
   "source": [
    "print(arr[::-1])"
   ]
  },
  {
   "cell_type": "code",
   "execution_count": 15,
   "id": "3e964fa2-d78c-443c-924f-8c3b470723cd",
   "metadata": {},
   "outputs": [
    {
     "name": "stdout",
     "output_type": "stream",
     "text": [
      "[0 4 8]\n"
     ]
    }
   ],
   "source": [
    "print(arr[::2])"
   ]
  },
  {
   "cell_type": "code",
   "execution_count": 16,
   "id": "68826054-bf1a-4372-8096-b709d3ada5b6",
   "metadata": {},
   "outputs": [],
   "source": [
    "arr_copy = arr.copy()"
   ]
  },
  {
   "cell_type": "code",
   "execution_count": 17,
   "id": "16c08cbb-a170-4084-96db-1e24005bcc7e",
   "metadata": {},
   "outputs": [
    {
     "data": {
      "text/plain": [
       "array([ 0,  2,  4,  6,  8, 10])"
      ]
     },
     "execution_count": 17,
     "metadata": {},
     "output_type": "execute_result"
    }
   ],
   "source": [
    "arr_copy"
   ]
  },
  {
   "cell_type": "code",
   "execution_count": 18,
   "id": "e65ae47d-1367-44dc-b88a-ae5f6142c735",
   "metadata": {},
   "outputs": [
    {
     "name": "stdout",
     "output_type": "stream",
     "text": [
      "memory address arr 2344380157360\n",
      "memory address for arr_copy 2344380157744\n"
     ]
    }
   ],
   "source": [
    "print(f\"memory address arr {id(arr)}\")\n",
    "print(f\"memory address for arr_copy {id(arr_copy)}\")"
   ]
  },
  {
   "cell_type": "code",
   "execution_count": 23,
   "id": "693245ad-793a-44d4-b1bd-5e05cd8ff9b7",
   "metadata": {},
   "outputs": [
    {
     "name": "stdout",
     "output_type": "stream",
     "text": [
      "[ 0  2  4  6  8 10]\n",
      "[ 8 12 16 20]\n",
      "memory address for arr_part 2344380158608\n"
     ]
    }
   ],
   "source": [
    "arr_part = arr[2:]\n",
    "arr_part=arr_part *2\n",
    "print(arr)\n",
    "print(arr_part)\n",
    "print(f\"memory address for arr_part {id(arr_part)}\")"
   ]
  },
  {
   "cell_type": "code",
   "execution_count": 24,
   "id": "b4c71184-4311-4aee-a1d0-9910ff9632ca",
   "metadata": {},
   "outputs": [
    {
     "data": {
      "text/plain": [
       "(6,)"
      ]
     },
     "execution_count": 24,
     "metadata": {},
     "output_type": "execute_result"
    }
   ],
   "source": [
    "arr.shape"
   ]
  },
  {
   "cell_type": "code",
   "execution_count": 26,
   "id": "7fe73e8a-e2ba-458e-90a3-7422501f30ee",
   "metadata": {},
   "outputs": [],
   "source": [
    "matrix = np.array([[10,20,30],[40,50,60],[70,80,90]])\n",
    "        "
   ]
  },
  {
   "cell_type": "code",
   "execution_count": 27,
   "id": "b79be617-ff98-481b-88d4-09c2562d9d21",
   "metadata": {},
   "outputs": [
    {
     "name": "stdout",
     "output_type": "stream",
     "text": [
      "[[10 20 30]\n",
      " [40 50 60]\n",
      " [70 80 90]]\n"
     ]
    }
   ],
   "source": [
    "print(matrix)"
   ]
  },
  {
   "cell_type": "code",
   "execution_count": 29,
   "id": "bb9f266a-e838-46e1-8838-a9e4838ca473",
   "metadata": {},
   "outputs": [
    {
     "name": "stdout",
     "output_type": "stream",
     "text": [
      "(3, 3)\n"
     ]
    }
   ],
   "source": [
    "print(matrix.shape)"
   ]
  },
  {
   "cell_type": "code",
   "execution_count": 34,
   "id": "13d29cf0-6e46-49e2-b266-e4dd099c8654",
   "metadata": {},
   "outputs": [],
   "source": [
    "matrix =np.arange(9).reshape(3,3)"
   ]
  },
  {
   "cell_type": "code",
   "execution_count": 35,
   "id": "cbfe7d79-2fe7-45e4-8cbd-1ee1e255a2e2",
   "metadata": {},
   "outputs": [
    {
     "name": "stdout",
     "output_type": "stream",
     "text": [
      "[[0 1 2]\n",
      " [3 4 5]\n",
      " [6 7 8]]\n"
     ]
    }
   ],
   "source": [
    "print(matrix)"
   ]
  },
  {
   "cell_type": "code",
   "execution_count": 36,
   "id": "f1a0793b-7609-42c1-b9a2-a812634ee195",
   "metadata": {},
   "outputs": [],
   "source": [
    "arr =matrix.flatten()"
   ]
  },
  {
   "cell_type": "code",
   "execution_count": 37,
   "id": "3f76f3c6-df4d-41a1-8ce8-e7a70223389b",
   "metadata": {},
   "outputs": [
    {
     "name": "stdout",
     "output_type": "stream",
     "text": [
      "[0 1 2 3 4 5 6 7 8]\n"
     ]
    }
   ],
   "source": [
    "print(arr)"
   ]
  },
  {
   "cell_type": "code",
   "execution_count": 45,
   "id": "efea3e03-ef11-4cc5-b3c2-a25994f2eb5b",
   "metadata": {},
   "outputs": [],
   "source": [
    "arr =np.full((3,3),10)"
   ]
  },
  {
   "cell_type": "code",
   "execution_count": 41,
   "id": "537b4f07-8997-4256-bbbd-06eccc89bcf9",
   "metadata": {},
   "outputs": [
    {
     "data": {
      "text/plain": [
       "array([[10, 10, 10],\n",
       "       [10, 10, 10],\n",
       "       [10, 10, 10]])"
      ]
     },
     "execution_count": 41,
     "metadata": {},
     "output_type": "execute_result"
    }
   ],
   "source": [
    "arr"
   ]
  },
  {
   "cell_type": "code",
   "execution_count": 48,
   "id": "ba20f538-7b9d-40bc-a72b-da4fd166f206",
   "metadata": {},
   "outputs": [],
   "source": [
    "arr =np.identity(10)"
   ]
  },
  {
   "cell_type": "code",
   "execution_count": 54,
   "id": "9a544325-8b50-46ae-9cfe-38120a40230c",
   "metadata": {},
   "outputs": [],
   "source": [
    "arr =np.eye(10,10,k=2)"
   ]
  },
  {
   "cell_type": "code",
   "execution_count": 55,
   "id": "16fa289e-abb1-4d06-88ee-788f2d87bb02",
   "metadata": {},
   "outputs": [
    {
     "data": {
      "text/plain": [
       "array([[0., 0., 1., 0., 0., 0., 0., 0., 0., 0.],\n",
       "       [0., 0., 0., 1., 0., 0., 0., 0., 0., 0.],\n",
       "       [0., 0., 0., 0., 1., 0., 0., 0., 0., 0.],\n",
       "       [0., 0., 0., 0., 0., 1., 0., 0., 0., 0.],\n",
       "       [0., 0., 0., 0., 0., 0., 1., 0., 0., 0.],\n",
       "       [0., 0., 0., 0., 0., 0., 0., 1., 0., 0.],\n",
       "       [0., 0., 0., 0., 0., 0., 0., 0., 1., 0.],\n",
       "       [0., 0., 0., 0., 0., 0., 0., 0., 0., 1.],\n",
       "       [0., 0., 0., 0., 0., 0., 0., 0., 0., 0.],\n",
       "       [0., 0., 0., 0., 0., 0., 0., 0., 0., 0.]])"
      ]
     },
     "execution_count": 55,
     "metadata": {},
     "output_type": "execute_result"
    }
   ],
   "source": [
    "arr"
   ]
  },
  {
   "cell_type": "code",
   "execution_count": 57,
   "id": "608db39f-1be8-4405-b716-6c138dda7c78",
   "metadata": {},
   "outputs": [],
   "source": [
    "matrix =np.array([[10,20,30,40],[50,60,70,80],[90,100,110,120],[130,140,150,160]])"
   ]
  },
  {
   "cell_type": "code",
   "execution_count": 58,
   "id": "9e2c73ba-8c50-4bb1-a40d-d1c5a1dec08b",
   "metadata": {},
   "outputs": [
    {
     "data": {
      "text/plain": [
       "array([[ 10,  20,  30,  40],\n",
       "       [ 50,  60,  70,  80],\n",
       "       [ 90, 100, 110, 120],\n",
       "       [130, 140, 150, 160]])"
      ]
     },
     "execution_count": 58,
     "metadata": {},
     "output_type": "execute_result"
    }
   ],
   "source": [
    "matrix"
   ]
  },
  {
   "cell_type": "code",
   "execution_count": 83,
   "id": "fe80870d-4f86-495e-b0b7-b8a7aaa6e023",
   "metadata": {},
   "outputs": [
    {
     "name": "stdout",
     "output_type": "stream",
     "text": [
      "10\n"
     ]
    }
   ],
   "source": [
    "print(matrix[0][0])"
   ]
  },
  {
   "cell_type": "code",
   "execution_count": 87,
   "id": "11680a76-22b1-40ec-8b68-123b9d3a6d9b",
   "metadata": {},
   "outputs": [
    {
     "data": {
      "text/plain": [
       "array([[ 20,  30],\n",
       "       [ 60,  70],\n",
       "       [100, 110],\n",
       "       [140, 150]])"
      ]
     },
     "execution_count": 87,
     "metadata": {},
     "output_type": "execute_result"
    }
   ],
   "source": [
    "matrix[:,1:3]"
   ]
  },
  {
   "cell_type": "code",
   "execution_count": 88,
   "id": "4c56cec6-f538-47e4-9ebd-a95277677af2",
   "metadata": {},
   "outputs": [
    {
     "data": {
      "text/plain": [
       "array([[ 10,  20,  30,  40],\n",
       "       [ 50,  60,  70,  80],\n",
       "       [ 90, 100, 110, 120],\n",
       "       [130, 140, 150, 160]])"
      ]
     },
     "execution_count": 88,
     "metadata": {},
     "output_type": "execute_result"
    }
   ],
   "source": [
    "matrix"
   ]
  },
  {
   "cell_type": "code",
   "execution_count": 99,
   "id": "f955426f-d4bd-466c-b78f-d46fa3385340",
   "metadata": {},
   "outputs": [
    {
     "data": {
      "text/plain": [
       "np.int64(110)"
      ]
     },
     "execution_count": 99,
     "metadata": {},
     "output_type": "execute_result"
    }
   ],
   "source": [
    "matrix[2,2]\n"
   ]
  },
  {
   "cell_type": "code",
   "execution_count": 67,
   "id": "5dab04f3-7d43-479e-b449-353539f4232b",
   "metadata": {},
   "outputs": [
    {
     "data": {
      "text/plain": [
       "array([[ 10,  20],\n",
       "       [ 50,  60],\n",
       "       [ 90, 100],\n",
       "       [130, 140]])"
      ]
     },
     "execution_count": 67,
     "metadata": {},
     "output_type": "execute_result"
    }
   ],
   "source": [
    "matrix[0:,:2]"
   ]
  },
  {
   "cell_type": "code",
   "execution_count": 70,
   "id": "ee443e9d-b56f-444f-8fbb-fa35f77a5779",
   "metadata": {},
   "outputs": [
    {
     "data": {
      "text/plain": [
       "array([[10, 20, 30, 40],\n",
       "       [50, 60, 70, 80]])"
      ]
     },
     "execution_count": 70,
     "metadata": {},
     "output_type": "execute_result"
    }
   ],
   "source": [
    "matrix[:2]"
   ]
  },
  {
   "cell_type": "code",
   "execution_count": 71,
   "id": "5b59753d-1c6a-4486-8a73-56277d6e99a5",
   "metadata": {},
   "outputs": [
    {
     "data": {
      "text/plain": [
       "array([[ 30,  40],\n",
       "       [ 70,  80],\n",
       "       [110, 120],\n",
       "       [150, 160]])"
      ]
     },
     "execution_count": 71,
     "metadata": {},
     "output_type": "execute_result"
    }
   ],
   "source": [
    "matrix[0:,2:]"
   ]
  },
  {
   "cell_type": "code",
   "execution_count": 72,
   "id": "2ab1d0a0-75b3-4054-abc7-084e71dc09c8",
   "metadata": {},
   "outputs": [
    {
     "data": {
      "text/plain": [
       "array([[ 10,  20,  30,  40],\n",
       "       [ 50,  60,  70,  80],\n",
       "       [ 90, 100, 110, 120],\n",
       "       [130, 140, 150, 160]])"
      ]
     },
     "execution_count": 72,
     "metadata": {},
     "output_type": "execute_result"
    }
   ],
   "source": [
    "matrix"
   ]
  },
  {
   "cell_type": "code",
   "execution_count": 73,
   "id": "4cd8c973-9ae8-4a05-82d5-6514211375b8",
   "metadata": {},
   "outputs": [
    {
     "data": {
      "text/plain": [
       "array([[10, 20],\n",
       "       [50, 60]])"
      ]
     },
     "execution_count": 73,
     "metadata": {},
     "output_type": "execute_result"
    }
   ],
   "source": [
    "matrix[:2,:2]"
   ]
  },
  {
   "cell_type": "code",
   "execution_count": 77,
   "id": "fbdb6835-1368-4625-983e-773f7a63e1bf",
   "metadata": {},
   "outputs": [
    {
     "data": {
      "text/plain": [
       "array([[30, 40],\n",
       "       [70, 80]])"
      ]
     },
     "execution_count": 77,
     "metadata": {},
     "output_type": "execute_result"
    }
   ],
   "source": [
    "matrix[:2,2:]"
   ]
  },
  {
   "cell_type": "code",
   "execution_count": 78,
   "id": "db4435cf-973d-476c-ad1f-9aded36c282c",
   "metadata": {},
   "outputs": [
    {
     "data": {
      "text/plain": [
       "array([[110, 120],\n",
       "       [150, 160]])"
      ]
     },
     "execution_count": 78,
     "metadata": {},
     "output_type": "execute_result"
    }
   ],
   "source": [
    "matrix[2:,2:]"
   ]
  },
  {
   "cell_type": "code",
   "execution_count": 79,
   "id": "ca1d8ee8-c112-4878-a8e5-acbf7f88aa28",
   "metadata": {},
   "outputs": [
    {
     "data": {
      "text/plain": [
       "array([[ 10,  20,  30,  40],\n",
       "       [ 50,  60,  70,  80],\n",
       "       [ 90, 100, 110, 120],\n",
       "       [130, 140, 150, 160]])"
      ]
     },
     "execution_count": 79,
     "metadata": {},
     "output_type": "execute_result"
    }
   ],
   "source": [
    "matrix"
   ]
  },
  {
   "cell_type": "code",
   "execution_count": 80,
   "id": "97c64519-8f9d-4e42-90d3-f384fa88ae3b",
   "metadata": {},
   "outputs": [
    {
     "data": {
      "text/plain": [
       "array([[ 60,  70],\n",
       "       [100, 110]])"
      ]
     },
     "execution_count": 80,
     "metadata": {},
     "output_type": "execute_result"
    }
   ],
   "source": [
    "matrix[1:3,1:3]"
   ]
  },
  {
   "cell_type": "code",
   "execution_count": 106,
   "id": "064cfb6e-bfc8-4736-b246-1ea944545dcd",
   "metadata": {},
   "outputs": [],
   "source": [
    "threeD= np.arange(27).reshape(3,3,3)\n"
   ]
  },
  {
   "cell_type": "code",
   "execution_count": 107,
   "id": "d1217709-d9b8-4c5d-b3c3-54d44ed9f620",
   "metadata": {},
   "outputs": [
    {
     "name": "stdout",
     "output_type": "stream",
     "text": [
      "[[[ 0  1  2]\n",
      "  [ 3  4  5]\n",
      "  [ 6  7  8]]\n",
      "\n",
      " [[ 9 10 11]\n",
      "  [12 13 14]\n",
      "  [15 16 17]]\n",
      "\n",
      " [[18 19 20]\n",
      "  [21 22 23]\n",
      "  [24 25 26]]]\n"
     ]
    }
   ],
   "source": [
    "print(threeD)"
   ]
  },
  {
   "cell_type": "code",
   "execution_count": 108,
   "id": "0515cb2f-b222-4f20-82e4-6c0900d5109b",
   "metadata": {},
   "outputs": [
    {
     "data": {
      "text/plain": [
       "(3, 3, 3)"
      ]
     },
     "execution_count": 108,
     "metadata": {},
     "output_type": "execute_result"
    }
   ],
   "source": [
    "threeD.shape"
   ]
  },
  {
   "cell_type": "code",
   "execution_count": 109,
   "id": "14f49925-b4f8-447a-84b9-ec3b3d3b120f",
   "metadata": {},
   "outputs": [],
   "source": [
    "arr =threeD.flatten()"
   ]
  },
  {
   "cell_type": "code",
   "execution_count": 111,
   "id": "b23b85f2-8360-4951-a9be-9ccbe7154d39",
   "metadata": {},
   "outputs": [
    {
     "data": {
      "text/plain": [
       "(27,)"
      ]
     },
     "execution_count": 111,
     "metadata": {},
     "output_type": "execute_result"
    }
   ],
   "source": [
    "arr.shape"
   ]
  },
  {
   "cell_type": "code",
   "execution_count": 112,
   "id": "51d81a22-4abf-4fbc-b090-1fcf5b996b56",
   "metadata": {},
   "outputs": [],
   "source": [
    "arr = np.zeros(10)"
   ]
  },
  {
   "cell_type": "code",
   "execution_count": 113,
   "id": "7d5c0dd0-ae0f-4d80-ab61-afaf5e21d7a3",
   "metadata": {},
   "outputs": [
    {
     "data": {
      "text/plain": [
       "array([0., 0., 0., 0., 0., 0., 0., 0., 0., 0.])"
      ]
     },
     "execution_count": 113,
     "metadata": {},
     "output_type": "execute_result"
    }
   ],
   "source": [
    "arr"
   ]
  },
  {
   "cell_type": "code",
   "execution_count": 117,
   "id": "5f84a938-869c-40cc-b99a-809b7dd5b701",
   "metadata": {},
   "outputs": [],
   "source": [
    "arr =np.zeros((3,3,4))"
   ]
  },
  {
   "cell_type": "code",
   "execution_count": 118,
   "id": "8acfbbc3-f32c-4957-9666-e1b9143b7c46",
   "metadata": {},
   "outputs": [
    {
     "data": {
      "text/plain": [
       "array([[[0., 0., 0., 0.],\n",
       "        [0., 0., 0., 0.],\n",
       "        [0., 0., 0., 0.]],\n",
       "\n",
       "       [[0., 0., 0., 0.],\n",
       "        [0., 0., 0., 0.],\n",
       "        [0., 0., 0., 0.]],\n",
       "\n",
       "       [[0., 0., 0., 0.],\n",
       "        [0., 0., 0., 0.],\n",
       "        [0., 0., 0., 0.]]])"
      ]
     },
     "execution_count": 118,
     "metadata": {},
     "output_type": "execute_result"
    }
   ],
   "source": [
    "arr"
   ]
  },
  {
   "cell_type": "code",
   "execution_count": 119,
   "id": "82dd8619-fcbd-469b-a1cd-ae7f3b01cc03",
   "metadata": {},
   "outputs": [],
   "source": [
    "arr =np.ones(10)"
   ]
  },
  {
   "cell_type": "code",
   "execution_count": 120,
   "id": "0c6a5e68-f64c-4610-ada7-f4dd90920d2f",
   "metadata": {},
   "outputs": [
    {
     "data": {
      "text/plain": [
       "array([1., 1., 1., 1., 1., 1., 1., 1., 1., 1.])"
      ]
     },
     "execution_count": 120,
     "metadata": {},
     "output_type": "execute_result"
    }
   ],
   "source": [
    "arr"
   ]
  },
  {
   "cell_type": "code",
   "execution_count": 123,
   "id": "dcd7d849-f956-4477-891c-df0e2f6699e1",
   "metadata": {},
   "outputs": [],
   "source": [
    "arr =np.ones((4,10,10))"
   ]
  },
  {
   "cell_type": "code",
   "execution_count": 124,
   "id": "b7ed677e-90e2-410c-8bc0-316445bb397a",
   "metadata": {},
   "outputs": [
    {
     "data": {
      "text/plain": [
       "array([[[1., 1., 1., 1., 1., 1., 1., 1., 1., 1.],\n",
       "        [1., 1., 1., 1., 1., 1., 1., 1., 1., 1.],\n",
       "        [1., 1., 1., 1., 1., 1., 1., 1., 1., 1.],\n",
       "        [1., 1., 1., 1., 1., 1., 1., 1., 1., 1.],\n",
       "        [1., 1., 1., 1., 1., 1., 1., 1., 1., 1.],\n",
       "        [1., 1., 1., 1., 1., 1., 1., 1., 1., 1.],\n",
       "        [1., 1., 1., 1., 1., 1., 1., 1., 1., 1.],\n",
       "        [1., 1., 1., 1., 1., 1., 1., 1., 1., 1.],\n",
       "        [1., 1., 1., 1., 1., 1., 1., 1., 1., 1.],\n",
       "        [1., 1., 1., 1., 1., 1., 1., 1., 1., 1.]],\n",
       "\n",
       "       [[1., 1., 1., 1., 1., 1., 1., 1., 1., 1.],\n",
       "        [1., 1., 1., 1., 1., 1., 1., 1., 1., 1.],\n",
       "        [1., 1., 1., 1., 1., 1., 1., 1., 1., 1.],\n",
       "        [1., 1., 1., 1., 1., 1., 1., 1., 1., 1.],\n",
       "        [1., 1., 1., 1., 1., 1., 1., 1., 1., 1.],\n",
       "        [1., 1., 1., 1., 1., 1., 1., 1., 1., 1.],\n",
       "        [1., 1., 1., 1., 1., 1., 1., 1., 1., 1.],\n",
       "        [1., 1., 1., 1., 1., 1., 1., 1., 1., 1.],\n",
       "        [1., 1., 1., 1., 1., 1., 1., 1., 1., 1.],\n",
       "        [1., 1., 1., 1., 1., 1., 1., 1., 1., 1.]],\n",
       "\n",
       "       [[1., 1., 1., 1., 1., 1., 1., 1., 1., 1.],\n",
       "        [1., 1., 1., 1., 1., 1., 1., 1., 1., 1.],\n",
       "        [1., 1., 1., 1., 1., 1., 1., 1., 1., 1.],\n",
       "        [1., 1., 1., 1., 1., 1., 1., 1., 1., 1.],\n",
       "        [1., 1., 1., 1., 1., 1., 1., 1., 1., 1.],\n",
       "        [1., 1., 1., 1., 1., 1., 1., 1., 1., 1.],\n",
       "        [1., 1., 1., 1., 1., 1., 1., 1., 1., 1.],\n",
       "        [1., 1., 1., 1., 1., 1., 1., 1., 1., 1.],\n",
       "        [1., 1., 1., 1., 1., 1., 1., 1., 1., 1.],\n",
       "        [1., 1., 1., 1., 1., 1., 1., 1., 1., 1.]],\n",
       "\n",
       "       [[1., 1., 1., 1., 1., 1., 1., 1., 1., 1.],\n",
       "        [1., 1., 1., 1., 1., 1., 1., 1., 1., 1.],\n",
       "        [1., 1., 1., 1., 1., 1., 1., 1., 1., 1.],\n",
       "        [1., 1., 1., 1., 1., 1., 1., 1., 1., 1.],\n",
       "        [1., 1., 1., 1., 1., 1., 1., 1., 1., 1.],\n",
       "        [1., 1., 1., 1., 1., 1., 1., 1., 1., 1.],\n",
       "        [1., 1., 1., 1., 1., 1., 1., 1., 1., 1.],\n",
       "        [1., 1., 1., 1., 1., 1., 1., 1., 1., 1.],\n",
       "        [1., 1., 1., 1., 1., 1., 1., 1., 1., 1.],\n",
       "        [1., 1., 1., 1., 1., 1., 1., 1., 1., 1.]]])"
      ]
     },
     "execution_count": 124,
     "metadata": {},
     "output_type": "execute_result"
    }
   ],
   "source": [
    "arr"
   ]
  },
  {
   "cell_type": "code",
   "execution_count": 125,
   "id": "78e9e3f5-2889-4783-85e9-226336288a95",
   "metadata": {},
   "outputs": [],
   "source": [
    "arr =np.identity(10)"
   ]
  },
  {
   "cell_type": "code",
   "execution_count": 126,
   "id": "af7d7699-b5d9-4c8c-bf96-b25d90a89fc9",
   "metadata": {},
   "outputs": [
    {
     "data": {
      "text/plain": [
       "array([[1., 0., 0., 0., 0., 0., 0., 0., 0., 0.],\n",
       "       [0., 1., 0., 0., 0., 0., 0., 0., 0., 0.],\n",
       "       [0., 0., 1., 0., 0., 0., 0., 0., 0., 0.],\n",
       "       [0., 0., 0., 1., 0., 0., 0., 0., 0., 0.],\n",
       "       [0., 0., 0., 0., 1., 0., 0., 0., 0., 0.],\n",
       "       [0., 0., 0., 0., 0., 1., 0., 0., 0., 0.],\n",
       "       [0., 0., 0., 0., 0., 0., 1., 0., 0., 0.],\n",
       "       [0., 0., 0., 0., 0., 0., 0., 1., 0., 0.],\n",
       "       [0., 0., 0., 0., 0., 0., 0., 0., 1., 0.],\n",
       "       [0., 0., 0., 0., 0., 0., 0., 0., 0., 1.]])"
      ]
     },
     "execution_count": 126,
     "metadata": {},
     "output_type": "execute_result"
    }
   ],
   "source": [
    "arr"
   ]
  },
  {
   "cell_type": "code",
   "execution_count": 143,
   "id": "ef7bc62a-62e8-4e31-8ba3-adf308a50e98",
   "metadata": {},
   "outputs": [],
   "source": [
    "arr =np.eye(10,13,k=5)"
   ]
  },
  {
   "cell_type": "code",
   "execution_count": 144,
   "id": "5c3ff47c-eb2c-488b-b431-f6d040fbeb4e",
   "metadata": {},
   "outputs": [
    {
     "data": {
      "text/plain": [
       "array([[0., 0., 0., 0., 0., 1., 0., 0., 0., 0., 0., 0., 0.],\n",
       "       [0., 0., 0., 0., 0., 0., 1., 0., 0., 0., 0., 0., 0.],\n",
       "       [0., 0., 0., 0., 0., 0., 0., 1., 0., 0., 0., 0., 0.],\n",
       "       [0., 0., 0., 0., 0., 0., 0., 0., 1., 0., 0., 0., 0.],\n",
       "       [0., 0., 0., 0., 0., 0., 0., 0., 0., 1., 0., 0., 0.],\n",
       "       [0., 0., 0., 0., 0., 0., 0., 0., 0., 0., 1., 0., 0.],\n",
       "       [0., 0., 0., 0., 0., 0., 0., 0., 0., 0., 0., 1., 0.],\n",
       "       [0., 0., 0., 0., 0., 0., 0., 0., 0., 0., 0., 0., 1.],\n",
       "       [0., 0., 0., 0., 0., 0., 0., 0., 0., 0., 0., 0., 0.],\n",
       "       [0., 0., 0., 0., 0., 0., 0., 0., 0., 0., 0., 0., 0.]])"
      ]
     },
     "execution_count": 144,
     "metadata": {},
     "output_type": "execute_result"
    }
   ],
   "source": [
    "arr"
   ]
  },
  {
   "cell_type": "code",
   "execution_count": 149,
   "id": "443c2246-b021-477d-80de-45415f13288e",
   "metadata": {},
   "outputs": [],
   "source": [
    "arr = np.full(10,5)"
   ]
  },
  {
   "cell_type": "code",
   "execution_count": 150,
   "id": "9e15bb37-2599-42f5-9f01-8214629dfd44",
   "metadata": {},
   "outputs": [
    {
     "data": {
      "text/plain": [
       "array([5, 5, 5, 5, 5, 5, 5, 5, 5, 5])"
      ]
     },
     "execution_count": 150,
     "metadata": {},
     "output_type": "execute_result"
    }
   ],
   "source": [
    "arr"
   ]
  },
  {
   "cell_type": "code",
   "execution_count": 151,
   "id": "8e2d797b-5370-430a-81bc-7d21e47360e9",
   "metadata": {},
   "outputs": [],
   "source": [
    "arr=np.full((10,10),8)"
   ]
  },
  {
   "cell_type": "code",
   "execution_count": 152,
   "id": "736a0df8-2449-49b3-9a17-6c5058ee1eeb",
   "metadata": {},
   "outputs": [
    {
     "data": {
      "text/plain": [
       "array([[8, 8, 8, 8, 8, 8, 8, 8, 8, 8],\n",
       "       [8, 8, 8, 8, 8, 8, 8, 8, 8, 8],\n",
       "       [8, 8, 8, 8, 8, 8, 8, 8, 8, 8],\n",
       "       [8, 8, 8, 8, 8, 8, 8, 8, 8, 8],\n",
       "       [8, 8, 8, 8, 8, 8, 8, 8, 8, 8],\n",
       "       [8, 8, 8, 8, 8, 8, 8, 8, 8, 8],\n",
       "       [8, 8, 8, 8, 8, 8, 8, 8, 8, 8],\n",
       "       [8, 8, 8, 8, 8, 8, 8, 8, 8, 8],\n",
       "       [8, 8, 8, 8, 8, 8, 8, 8, 8, 8],\n",
       "       [8, 8, 8, 8, 8, 8, 8, 8, 8, 8]])"
      ]
     },
     "execution_count": 152,
     "metadata": {},
     "output_type": "execute_result"
    }
   ],
   "source": [
    "arr"
   ]
  },
  {
   "cell_type": "code",
   "execution_count": 155,
   "id": "6e3452ff-588c-4573-b3e0-6e7ffb60e8d0",
   "metadata": {},
   "outputs": [],
   "source": [
    "arr = np.linspace(1,10, 50)"
   ]
  },
  {
   "cell_type": "code",
   "execution_count": 156,
   "id": "b3b01761-bd79-4d8d-9b9a-f31695b087b4",
   "metadata": {},
   "outputs": [
    {
     "data": {
      "text/plain": [
       "array([ 1.        ,  1.18367347,  1.36734694,  1.55102041,  1.73469388,\n",
       "        1.91836735,  2.10204082,  2.28571429,  2.46938776,  2.65306122,\n",
       "        2.83673469,  3.02040816,  3.20408163,  3.3877551 ,  3.57142857,\n",
       "        3.75510204,  3.93877551,  4.12244898,  4.30612245,  4.48979592,\n",
       "        4.67346939,  4.85714286,  5.04081633,  5.2244898 ,  5.40816327,\n",
       "        5.59183673,  5.7755102 ,  5.95918367,  6.14285714,  6.32653061,\n",
       "        6.51020408,  6.69387755,  6.87755102,  7.06122449,  7.24489796,\n",
       "        7.42857143,  7.6122449 ,  7.79591837,  7.97959184,  8.16326531,\n",
       "        8.34693878,  8.53061224,  8.71428571,  8.89795918,  9.08163265,\n",
       "        9.26530612,  9.44897959,  9.63265306,  9.81632653, 10.        ])"
      ]
     },
     "execution_count": 156,
     "metadata": {},
     "output_type": "execute_result"
    }
   ],
   "source": [
    "arr"
   ]
  },
  {
   "cell_type": "code",
   "execution_count": 163,
   "id": "de6358d0-29b9-4162-aa4e-1b9ff49c185d",
   "metadata": {},
   "outputs": [
    {
     "name": "stdout",
     "output_type": "stream",
     "text": [
      "[30 50 70 90]\n",
      "[10 10 10 10]\n",
      "[100 200 300 400]\n",
      "[ 5. 10. 15. 20.]\n"
     ]
    }
   ],
   "source": [
    "arr1=np.array([10,20,30,40])\n",
    "arr2=np.array([20,30,40,50])\n",
    "print(arr2+arr1)\n",
    "print(arr2-arr1)\n",
    "print(arr1 * 10)\n",
    "print(arr1 /2)"
   ]
  },
  {
   "cell_type": "code",
   "execution_count": 167,
   "id": "c0594213-e3d6-4f93-aad1-e6515a820bbc",
   "metadata": {},
   "outputs": [
    {
     "name": "stdout",
     "output_type": "stream",
     "text": [
      "40\n",
      "40\n"
     ]
    }
   ],
   "source": [
    "print(np.max(arr1))\n",
    "print( arr1.max())"
   ]
  },
  {
   "cell_type": "code",
   "execution_count": 168,
   "id": "a39c6067-34c0-4f67-bee5-4862a0ced787",
   "metadata": {},
   "outputs": [
    {
     "data": {
      "text/plain": [
       "np.int64(160)"
      ]
     },
     "execution_count": 168,
     "metadata": {},
     "output_type": "execute_result"
    }
   ],
   "source": [
    "matrix.max()"
   ]
  },
  {
   "cell_type": "code",
   "execution_count": 195,
   "id": "603461f0-57e6-4123-9d58-ce7b27788e55",
   "metadata": {},
   "outputs": [
    {
     "name": "stdout",
     "output_type": "stream",
     "text": [
      "[30 20 50 10 40]\n",
      "Max value 50\n",
      "Min value 10\n",
      "Meen value 30.0\n",
      "Sum value 150\n",
      "Stdv value 14.142135623730951\n",
      "ArgMax value 2\n",
      "Min value 3\n",
      "Sqrt value [5.47722558 4.47213595 7.07106781 3.16227766 6.32455532]\n",
      "Power value [ 900  400 2500  100 1600]\n",
      "Log value [3.40119738 2.99573227 3.91202301 2.30258509 3.68887945]\n",
      "Log2 value [4.9068906  4.32192809 5.64385619 3.32192809 5.32192809]\n",
      "Log2 value [1.47712125 1.30103    1.69897    1.         1.60205999]\n",
      "abs value [30 20 50 10 40]\n",
      "fabs value [30. 20. 50. 10. 40.]\n",
      "Mod value 2\n",
      "fmod value -1\n"
     ]
    }
   ],
   "source": [
    "arr1 =np.array([30,20,50,10,40])\n",
    "print(arr1)\n",
    "print(f\"Max value {np.max(arr1)}\")\n",
    "print(f\"Min value {np.min(arr1)}\")\n",
    "print(f\"Meen value {np.mean(arr1)}\")\n",
    "print(f\"Sum value {np.sum(arr1)}\")\n",
    "print(f\"Stdv value {np.std(arr1)}\")\n",
    "print(f\"ArgMax value {np.argmax(arr1)}\")\n",
    "print(f\"Min value {np.argmin(arr1)}\")\n",
    "print(f\"Sqrt value {np.sqrt(arr1)}\")\n",
    "print(f\"Power value {np.pow(arr1,2)}\")\n",
    "print(f\"Log value {np.log(arr1)}\")\n",
    "print(f\"Log2 value {np.log2(arr1)}\")\n",
    "print(f\"Log2 value {np.log10(arr1)}\")\n",
    "print(f\"abs value {np.abs(arr1)}\")\n",
    "print(f\"fabs value {np.fabs(arr1)}\")\n",
    "print(f\"Mod value {np.mod(-1,3)}\")\n",
    "print(f\"fmod value {np.fmod(-1,3)}\")"
   ]
  },
  {
   "cell_type": "code",
   "execution_count": 197,
   "id": "f509e982-2cc6-4abc-8acf-7fee710729a6",
   "metadata": {},
   "outputs": [
    {
     "name": "stdout",
     "output_type": "stream",
     "text": [
      "[30 20 50 10 40]\n",
      "[50 40 30 20 10]\n"
     ]
    }
   ],
   "source": [
    "print(arr1)\n",
    "print(np.sort(arr1)[::-1])"
   ]
  },
  {
   "cell_type": "code",
   "execution_count": 205,
   "id": "a7ac3ed4-c27e-4d63-bf14-920371335c44",
   "metadata": {},
   "outputs": [
    {
     "name": "stdout",
     "output_type": "stream",
     "text": [
      "[array([10, 20]), array([30, 40]), array([50, 60])]\n"
     ]
    }
   ],
   "source": [
    "arr=np.array([10,20,30,40,50,60])\n",
    "arr1 =np.split(arr,3)\n",
    "print(arr1)"
   ]
  },
  {
   "cell_type": "code",
   "execution_count": 206,
   "id": "a9ab3140-eaa5-4776-a23c-606cbc947cae",
   "metadata": {},
   "outputs": [],
   "source": [
    "filter =arr>30"
   ]
  },
  {
   "cell_type": "code",
   "execution_count": 210,
   "id": "bc1d31b3-49d7-4e65-b1f6-7fee5946f6df",
   "metadata": {},
   "outputs": [],
   "source": [
    "filterd_arr =arr[arr>30]"
   ]
  },
  {
   "cell_type": "code",
   "execution_count": 212,
   "id": "b613d5b3-cac5-4923-9c15-b644ebf1be5c",
   "metadata": {},
   "outputs": [
    {
     "data": {
      "text/plain": [
       "array([40, 50, 60])"
      ]
     },
     "execution_count": 212,
     "metadata": {},
     "output_type": "execute_result"
    }
   ],
   "source": [
    "filterd_arr"
   ]
  },
  {
   "cell_type": "code",
   "execution_count": 221,
   "id": "9205c156-5823-4976-8a87-f84f90ee71ad",
   "metadata": {},
   "outputs": [],
   "source": [
    "filtered_arr = arr[(arr>=30) & (arr <=50)]"
   ]
  },
  {
   "cell_type": "code",
   "execution_count": 220,
   "id": "b0c612f0-ae43-4b75-9144-e818574de92f",
   "metadata": {},
   "outputs": [
    {
     "data": {
      "text/plain": [
       "array([10, 20, 30, 40, 50, 60])"
      ]
     },
     "execution_count": 220,
     "metadata": {},
     "output_type": "execute_result"
    }
   ],
   "source": [
    "filtered_arr"
   ]
  },
  {
   "cell_type": "code",
   "execution_count": 226,
   "id": "88726d88-cff7-4fe4-a204-d57a4883b2f2",
   "metadata": {},
   "outputs": [
    {
     "data": {
      "text/plain": [
       "(array([3, 4, 5]),)"
      ]
     },
     "execution_count": 226,
     "metadata": {},
     "output_type": "execute_result"
    }
   ],
   "source": [
    "np.where"
   ]
  },
  {
   "cell_type": "code",
   "execution_count": 229,
   "id": "0784357b-a8ff-4129-a11b-0749447ea1e6",
   "metadata": {},
   "outputs": [
    {
     "data": {
      "text/plain": [
       "1"
      ]
     },
     "execution_count": 229,
     "metadata": {},
     "output_type": "execute_result"
    }
   ],
   "source": [
    "arr.ndim"
   ]
  },
  {
   "cell_type": "code",
   "execution_count": 230,
   "id": "129ba055-d349-4519-aaf8-75a0dc4a9e50",
   "metadata": {},
   "outputs": [
    {
     "data": {
      "text/plain": [
       "2"
      ]
     },
     "execution_count": 230,
     "metadata": {},
     "output_type": "execute_result"
    }
   ],
   "source": [
    "matrix.ndim"
   ]
  },
  {
   "cell_type": "code",
   "execution_count": 233,
   "id": "39ebb2fa-8f28-4434-ac71-be422a7ad7ac",
   "metadata": {},
   "outputs": [
    {
     "data": {
      "text/plain": [
       "3"
      ]
     },
     "execution_count": 233,
     "metadata": {},
     "output_type": "execute_result"
    }
   ],
   "source": [
    "threeD.ndim"
   ]
  },
  {
   "cell_type": "code",
   "execution_count": 234,
   "id": "c21bbad5-97a7-4865-a990-328b89035d6b",
   "metadata": {},
   "outputs": [
    {
     "data": {
      "text/plain": [
       "6"
      ]
     },
     "execution_count": 234,
     "metadata": {},
     "output_type": "execute_result"
    }
   ],
   "source": [
    "arr.size"
   ]
  },
  {
   "cell_type": "code",
   "execution_count": 235,
   "id": "187954a5-ca80-43b5-984e-26338e7eed26",
   "metadata": {},
   "outputs": [
    {
     "data": {
      "text/plain": [
       "16"
      ]
     },
     "execution_count": 235,
     "metadata": {},
     "output_type": "execute_result"
    }
   ],
   "source": [
    "matrix.size"
   ]
  },
  {
   "cell_type": "code",
   "execution_count": 236,
   "id": "806e1ace-97d6-4b93-b97c-2c49ea64b330",
   "metadata": {},
   "outputs": [
    {
     "data": {
      "text/plain": [
       "27"
      ]
     },
     "execution_count": 236,
     "metadata": {},
     "output_type": "execute_result"
    }
   ],
   "source": [
    "threeD.size"
   ]
  },
  {
   "cell_type": "code",
   "execution_count": 237,
   "id": "9341956d-af85-49b0-b40c-fdac35c45175",
   "metadata": {},
   "outputs": [
    {
     "data": {
      "text/plain": [
       "8"
      ]
     },
     "execution_count": 237,
     "metadata": {},
     "output_type": "execute_result"
    }
   ],
   "source": [
    "arr.itemsize"
   ]
  },
  {
   "cell_type": "code",
   "execution_count": 238,
   "id": "0e5cceb2-3963-483d-b468-3ed0f8aba7bc",
   "metadata": {},
   "outputs": [
    {
     "data": {
      "text/plain": [
       "48"
      ]
     },
     "execution_count": 238,
     "metadata": {},
     "output_type": "execute_result"
    }
   ],
   "source": [
    "arr.nbytes"
   ]
  },
  {
   "cell_type": "code",
   "execution_count": 239,
   "id": "37a6d120-4ab6-4c34-a3de-43462953bd28",
   "metadata": {},
   "outputs": [
    {
     "data": {
      "text/plain": [
       "array([[ 10,  20,  30,  40],\n",
       "       [ 50,  60,  70,  80],\n",
       "       [ 90, 100, 110, 120],\n",
       "       [130, 140, 150, 160]])"
      ]
     },
     "execution_count": 239,
     "metadata": {},
     "output_type": "execute_result"
    }
   ],
   "source": [
    "matrix"
   ]
  },
  {
   "cell_type": "code",
   "execution_count": 240,
   "id": "9d84a523-c611-4875-b1d0-422cbcd7548b",
   "metadata": {},
   "outputs": [
    {
     "data": {
      "text/plain": [
       "array([[ 10,  50,  90, 130],\n",
       "       [ 20,  60, 100, 140],\n",
       "       [ 30,  70, 110, 150],\n",
       "       [ 40,  80, 120, 160]])"
      ]
     },
     "execution_count": 240,
     "metadata": {},
     "output_type": "execute_result"
    }
   ],
   "source": [
    "matrix.T"
   ]
  },
  {
   "cell_type": "code",
   "execution_count": 245,
   "id": "8275e372-9a0b-4f04-9177-6361d03595b5",
   "metadata": {},
   "outputs": [
    {
     "data": {
      "text/plain": [
       "array([ 0,  1,  2,  3,  4,  5,  6,  7,  8,  9, 10, 11, 12, 13, 14, 15, 16,\n",
       "       17, 18, 19, 20])"
      ]
     },
     "execution_count": 245,
     "metadata": {},
     "output_type": "execute_result"
    }
   ],
   "source": [
    "arr1=np.arange(0,10)\n",
    "arr2=np.arange(10,21)\n",
    "arr3 =np.append(arr1,arr2)\n",
    "arr3"
   ]
  },
  {
   "cell_type": "code",
   "execution_count": 243,
   "id": "87f44cea-f406-4fc4-a4fc-ffdb26a6eaf8",
   "metadata": {},
   "outputs": [
    {
     "data": {
      "text/plain": [
       "[array([10, 20]), array([30, 40]), array([50, 60]), array([20, 30, 40, 50])]"
      ]
     },
     "execution_count": 243,
     "metadata": {},
     "output_type": "execute_result"
    }
   ],
   "source": [
    "arr1"
   ]
  },
  {
   "cell_type": "code",
   "execution_count": 2,
   "id": "83201f0e-5fc6-4dcd-8d5b-20bd7f81ed95",
   "metadata": {},
   "outputs": [],
   "source": [
    "import numpy as np\n",
    "arr =np.arange(10)\n"
   ]
  },
  {
   "cell_type": "code",
   "execution_count": 3,
   "id": "d339a194-cb85-4fe5-8665-5bb2e4d85485",
   "metadata": {},
   "outputs": [
    {
     "data": {
      "text/plain": [
       "[array([0, 1]), array([2, 3]), array([4, 5]), array([6, 7]), array([8, 9])]"
      ]
     },
     "execution_count": 3,
     "metadata": {},
     "output_type": "execute_result"
    }
   ],
   "source": [
    "np.split(arr,5)"
   ]
  },
  {
   "cell_type": "code",
   "execution_count": 19,
   "id": "9abb8405-c3cb-47f7-8347-2f496e4b2f4f",
   "metadata": {},
   "outputs": [
    {
     "name": "stdout",
     "output_type": "stream",
     "text": [
      "[[1 2]\n",
      " [3 4]\n",
      " [5 6]]\n"
     ]
    }
   ],
   "source": [
    "a = np.array([[1, 2], [3, 4]])\n",
    "b = np.array([[5, 6]])\n",
    "c = np.vstack((a,b))\n",
    "print(c)"
   ]
  },
  {
   "cell_type": "code",
   "execution_count": 23,
   "id": "0ee962e6-7157-4b74-add0-dd49af9aa012",
   "metadata": {},
   "outputs": [
    {
     "data": {
      "text/plain": [
       "array([[1, 2, 5],\n",
       "       [3, 4, 6]])"
      ]
     },
     "execution_count": 23,
     "metadata": {},
     "output_type": "execute_result"
    }
   ],
   "source": [
    "np.hstack((a,b.T))"
   ]
  },
  {
   "cell_type": "code",
   "execution_count": 27,
   "id": "29c55f5e-7568-4600-9069-726f89a8dad1",
   "metadata": {},
   "outputs": [
    {
     "data": {
      "text/plain": [
       "[array([[1, 2]]), array([[3, 4]])]"
      ]
     },
     "execution_count": 27,
     "metadata": {},
     "output_type": "execute_result"
    }
   ],
   "source": [
    "np.split(a,2)"
   ]
  },
  {
   "cell_type": "code",
   "execution_count": 28,
   "id": "6eb11005-d8e9-4305-8c2b-6ba06d6963c8",
   "metadata": {},
   "outputs": [
    {
     "data": {
      "text/plain": [
       "[array([[1],\n",
       "        [3]]),\n",
       " array([[2],\n",
       "        [4]])]"
      ]
     },
     "execution_count": 28,
     "metadata": {},
     "output_type": "execute_result"
    }
   ],
   "source": [
    "np.split(a,2,axis=1)"
   ]
  },
  {
   "cell_type": "code",
   "execution_count": 3,
   "id": "62d1bd03-d0d1-4753-b70d-de873420b5e0",
   "metadata": {},
   "outputs": [
    {
     "name": "stdout",
     "output_type": "stream",
     "text": [
      "0.4303024433658208\n",
      "[[0.05110323 0.53827626 0.09701038 0.97910694]\n",
      " [0.3613612  0.73208336 0.12400409 0.36679019]\n",
      " [0.11261586 0.27247358 0.20550487 0.00259246]\n",
      " [0.96602642 0.36748664 0.65106545 0.2017811 ]]\n"
     ]
    }
   ],
   "source": [
    "#random floating-point \n",
    "#number between 0.0 (inclusive) and 1.0 (exclusive).\n",
    "import numpy as np\n",
    "print(np.random.random())\n",
    "print(np.random.random((4,4))) "
   ]
  },
  {
   "cell_type": "code",
   "execution_count": 4,
   "id": "8af86c40-c279-46af-83a4-5b8ce26914cb",
   "metadata": {},
   "outputs": [
    {
     "name": "stdout",
     "output_type": "stream",
     "text": [
      "[[0.29691312 0.76816522 0.27473819]\n",
      " [0.32289845 0.54394716 0.96099972]\n",
      " [0.34279261 0.34189101 0.60617105]]\n"
     ]
    }
   ],
   "source": [
    "print(np.random.rand(3,3)) #random samples from a uniform distribution"
   ]
  },
  {
   "cell_type": "code",
   "execution_count": 5,
   "id": "c6654ccb-abf3-4013-99b8-509720ad6cd9",
   "metadata": {},
   "outputs": [
    {
     "name": "stdout",
     "output_type": "stream",
     "text": [
      "[[ 1.3832261  -0.38251224 -0.2846366 ]\n",
      " [ 0.71896096  0.36757947  1.5043603 ]\n",
      " [-0.41109995 -0.48530928 -1.88793685]]\n"
     ]
    }
   ],
   "source": [
    "print(np.random.randn(3,3)) #array of samples from the normal distribution "
   ]
  },
  {
   "cell_type": "code",
   "execution_count": 36,
   "id": "cd38bc0a-2228-4ae0-ac37-b423a71e0cf6",
   "metadata": {},
   "outputs": [
    {
     "data": {
      "text/plain": [
       "array([17, 24, 12, 15, 46, 76, 29, 35, 83, 64], dtype=int32)"
      ]
     },
     "execution_count": 36,
     "metadata": {},
     "output_type": "execute_result"
    }
   ],
   "source": [
    "np.random.randint(1,100,10)"
   ]
  },
  {
   "cell_type": "code",
   "execution_count": 11,
   "id": "c23aefac-a7c0-4035-8740-ed6bcda3bad4",
   "metadata": {},
   "outputs": [
    {
     "name": "stdout",
     "output_type": "stream",
     "text": [
      "20\n"
     ]
    }
   ],
   "source": [
    "arr=[10,20,30]\n",
    "print(np.random.choice(arr))"
   ]
  },
  {
   "cell_type": "code",
   "execution_count": 13,
   "id": "2883db25-ffe6-4c2b-b24b-90c1540398a1",
   "metadata": {},
   "outputs": [
    {
     "name": "stdout",
     "output_type": "stream",
     "text": [
      "[2 5 4 1 3]\n"
     ]
    }
   ],
   "source": [
    "a = np.array([1, 2, 3, 4, 5])\n",
    "np.random.shuffle(a)\n",
    "print(a)   # Shuffles in-place\n"
   ]
  },
  {
   "cell_type": "code",
   "execution_count": 25,
   "id": "32e66002-a0c9-4131-b113-059503248071",
   "metadata": {},
   "outputs": [],
   "source": [
    "arr = np.arange(9).reshape(3,3)\n",
    "np.save('c:/python_challenge/numpy1',arr)"
   ]
  },
  {
   "cell_type": "code",
   "execution_count": 29,
   "id": "52f041c2-55f3-470d-a15f-6a72e8eb0ce9",
   "metadata": {},
   "outputs": [
    {
     "name": "stdout",
     "output_type": "stream",
     "text": [
      "[[0 1 2]\n",
      " [3 4 5]\n",
      " [6 7 8]]\n"
     ]
    }
   ],
   "source": [
    "\n",
    "arr1 = np.load('c:/python_challenge/numpy1.npy')\n",
    "print(arr1)"
   ]
  },
  {
   "cell_type": "code",
   "execution_count": 28,
   "id": "dfe20baf-b865-4391-8292-23fd1b855e5a",
   "metadata": {},
   "outputs": [
    {
     "data": {
      "text/plain": [
       "array([[0, 1, 2],\n",
       "       [3, 4, 5],\n",
       "       [6, 7, 8]])"
      ]
     },
     "execution_count": 28,
     "metadata": {},
     "output_type": "execute_result"
    }
   ],
   "source": [
    "arr1"
   ]
  },
  {
   "cell_type": "code",
   "execution_count": null,
   "id": "43f60923-1385-439d-a26e-678a7bb076f6",
   "metadata": {},
   "outputs": [],
   "source": []
  }
 ],
 "metadata": {
  "kernelspec": {
   "display_name": "Python 3 (ipykernel)",
   "language": "python",
   "name": "python3"
  },
  "language_info": {
   "codemirror_mode": {
    "name": "ipython",
    "version": 3
   },
   "file_extension": ".py",
   "mimetype": "text/x-python",
   "name": "python",
   "nbconvert_exporter": "python",
   "pygments_lexer": "ipython3",
   "version": "3.12.10"
  }
 },
 "nbformat": 4,
 "nbformat_minor": 5
}

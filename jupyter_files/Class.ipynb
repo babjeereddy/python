{
 "cells": [
  {
   "cell_type": "code",
   "execution_count": 1,
   "id": "513e89e4-0d7a-4e67-adf0-8adbc3154b44",
   "metadata": {},
   "outputs": [],
   "source": [
    "class Car:\n",
    "    pass"
   ]
  },
  {
   "cell_type": "code",
   "execution_count": 2,
   "id": "ddff61fa-eb8c-4b54-9a80-e69eb6c8d851",
   "metadata": {},
   "outputs": [
    {
     "name": "stdout",
     "output_type": "stream",
     "text": [
      "<__main__.Car object at 0x0000017009E6F5F0>\n",
      "<__main__.Car object at 0x0000017009E6F740>\n",
      "False\n"
     ]
    }
   ],
   "source": [
    "c1=Car()\n",
    "c2=Car()\n",
    "print(c1)\n",
    "print(c2)\n",
    "print(c1 is c2)"
   ]
  },
  {
   "cell_type": "code",
   "execution_count": 6,
   "id": "77fed9ae-57c8-46aa-a880-6aff4c17d53a",
   "metadata": {},
   "outputs": [
    {
     "name": "stdout",
     "output_type": "stream",
     "text": [
      " Model: Fortuner\n",
      " Color: Red\n"
     ]
    }
   ],
   "source": [
    "c1.model=\"Fortuner\"\n",
    "c1.color=\"Red\"\n",
    "print(f\" Model: {c1.model}\")\n",
    "print(f\" Color: {c1.color}\")\n",
    "#print(f\" Color: {c2.color}\")"
   ]
  },
  {
   "cell_type": "code",
   "execution_count": 7,
   "id": "fcdfa95c-e116-4a32-9286-7139e75e14cd",
   "metadata": {},
   "outputs": [],
   "source": [
    "class Car:\n",
    "    brand=\"Toyota\"\n",
    "    model=\"Altis\"\n",
    "    color=\"Red\""
   ]
  },
  {
   "cell_type": "code",
   "execution_count": 8,
   "id": "54de43e5-59d3-4964-84dd-ecebd2a26a6f",
   "metadata": {},
   "outputs": [
    {
     "name": "stdout",
     "output_type": "stream",
     "text": [
      "c1 brand:Toyota\n",
      "c1 brand:Altis\n",
      "c1 brand:Red\n",
      "c2 brand:Toyota\n",
      "c2 brand:Innova\n",
      "c2 brand:Red\n"
     ]
    }
   ],
   "source": [
    "c1=Car()\n",
    "c2=Car()\n",
    "c2.model=\"Innova\"\n",
    "c2.color=\"Blue\"\n",
    "print(f\"c1 brand:{c1.brand}\")\n",
    "print(f\"c1 brand:{c1.model}\")\n",
    "print(f\"c1 brand:{c1.color}\")\n",
    "print(f\"c2 brand:{c2.brand}\")\n",
    "print(f\"c2 brand:{c2.model}\")\n",
    "print(f\"c2 brand:{c1.color}\")\n",
    "\n",
    "\n"
   ]
  },
  {
   "cell_type": "code",
   "execution_count": 12,
   "id": "b998a50a-64e2-4074-aac5-608435caf29d",
   "metadata": {},
   "outputs": [],
   "source": [
    "class Car:\n",
    "    brand=\"Toyota\"\n",
    "    def __init__(self,model,color):\n",
    "        self.model=model\n",
    "        self.color=color\n",
    "    def show_details(self):\n",
    "        print(f\"Brand:{self.brand}, Model: {self.model}, color: {self.color}\")"
   ]
  },
  {
   "cell_type": "code",
   "execution_count": 14,
   "id": "d581642a-07ed-498d-80cb-f21d957da16e",
   "metadata": {},
   "outputs": [],
   "source": [
    "class Car:\n",
    "    wheels = 4   # Class variable\n",
    "    def __init__(self, brand):\n",
    "        self.brand = brand   # Instance variable"
   ]
  },
  {
   "cell_type": "code",
   "execution_count": 23,
   "id": "c02b9e02-43be-49c0-afb0-89ee19e961ea",
   "metadata": {},
   "outputs": [
    {
     "name": "stdout",
     "output_type": "stream",
     "text": [
      "1000\n",
      "Toyota\n",
      "1000\n",
      "5\n",
      "1000\n"
     ]
    }
   ],
   "source": [
    "print(Car.wheels)\n",
    "c1=Car(\"Toyota\")\n",
    "print(c1.brand)\n",
    "c1.wheels=5\n",
    "print(Car.wheels)\n",
    "print(c1.wheels)\n",
    "Car.wheels=1000\n",
    "print(Car.wheels)"
   ]
  },
  {
   "cell_type": "code",
   "execution_count": 38,
   "id": "ae32bd3b-626b-476e-9ad5-07ce8eacb958",
   "metadata": {},
   "outputs": [],
   "source": [
    "class Car:\n",
    "    brand=\"Toyota\"\n",
    "    def __init__(self,model,color):\n",
    "        self.model=model\n",
    "        self.color=color\n",
    "    \n",
    "    def show_wheels(self):\n",
    "        wheels=4\n",
    "        print(f\"Number of whells :{wheels}\")\n",
    "    def show_details(self):\n",
    "        print(f\"Model :{self.model} , color: {self.color}\")\n",
    "    "
   ]
  },
  {
   "cell_type": "code",
   "execution_count": 57,
   "id": "77b63045-2023-4684-b369-bfc18097a2e9",
   "metadata": {},
   "outputs": [],
   "source": [
    "import math\n",
    "class Circle:\n",
    "    def __init__(self,r):\n",
    "        self.radious=r\n",
    "    def area_of_circle(self):\n",
    "        area =round(math.pi * self.radious **2, 2)\n",
    "        \n",
    "        print(\"arad of circle:\",area)"
   ]
  },
  {
   "cell_type": "code",
   "execution_count": 69,
   "id": "df9b382a-7bde-4f14-bbdd-a860ce457344",
   "metadata": {},
   "outputs": [],
   "source": [
    "class Car:\n",
    "    __wheels=4\n",
    "    def print_wheels(self):\n",
    "        print(f\"Number of Wheels {self.__wheels}\")\n",
    "    "
   ]
  },
  {
   "cell_type": "code",
   "execution_count": 78,
   "id": "d6b98a07-3d6a-4d16-b44a-bc1c1c360de5",
   "metadata": {},
   "outputs": [
    {
     "name": "stdout",
     "output_type": "stream",
     "text": [
      "4\n"
     ]
    }
   ],
   "source": [
    "car1=Car()\n",
    "print(car1._Car__wheels) #name mangled\n"
   ]
  },
  {
   "cell_type": "code",
   "execution_count": 58,
   "id": "577e4578-7575-4359-9f60-5e7c508f9edb",
   "metadata": {},
   "outputs": [
    {
     "name": "stdout",
     "output_type": "stream",
     "text": [
      "arad of circle: 101787.6\n"
     ]
    }
   ],
   "source": [
    "a=Circle(180)\n",
    "a.area_of_circle()"
   ]
  },
  {
   "cell_type": "code",
   "execution_count": 39,
   "id": "d8331b8a-8811-4c16-9ebe-68938fbe4e3a",
   "metadata": {},
   "outputs": [
    {
     "name": "stdout",
     "output_type": "stream",
     "text": [
      "Model :Innova , color: Blue\n",
      "Number of whells :4\n"
     ]
    }
   ],
   "source": [
    "car1 = Car(\"Innova\",\"Blue\")\n",
    "car1.show_details()\n",
    "car1.show_wheels()\n"
   ]
  },
  {
   "cell_type": "code",
   "execution_count": 13,
   "id": "52142141-dc66-4e8e-9a38-7f56788720cf",
   "metadata": {},
   "outputs": [
    {
     "name": "stdout",
     "output_type": "stream",
     "text": [
      "Brand:Toyota, Model: Innova, color: Red\n",
      "Brand:Toyota, Model: Altis, color: Blue\n"
     ]
    }
   ],
   "source": [
    "car1=Car(\"Innova\",\"Red\")\n",
    "car1.show_details()\n",
    "car2=Car(\"Altis\",\"Blue\")\n",
    "car2.show_details()"
   ]
  },
  {
   "cell_type": "code",
   "execution_count": 9,
   "id": "10dc0fde-50c1-47e9-bce5-fe858205b8fc",
   "metadata": {},
   "outputs": [
    {
     "name": "stdout",
     "output_type": "stream",
     "text": [
      "Brand Toyota\n",
      "Model Altis\n",
      "Color Red\n"
     ]
    }
   ],
   "source": [
    "car1=Car()\n",
    "print(f\"Brand {car1.brand}\")\n",
    "print(f\"Model {car1.model}\")\n",
    "print(f\"Color {car1.color}\")"
   ]
  },
  {
   "cell_type": "code",
   "execution_count": 10,
   "id": "f6ed7015-4404-44d0-b8ce-a7edb8ed1a06",
   "metadata": {},
   "outputs": [
    {
     "name": "stdout",
     "output_type": "stream",
     "text": [
      "Brand Toyota\n",
      "Model Innova\n",
      "Color Red\n"
     ]
    }
   ],
   "source": [
    "car2=Car()\n",
    "car2.model=\"Innova\"\n",
    "car2.clor=\"Blue\"\n",
    "print(f\"Brand {car2.brand}\")\n",
    "print(f\"Model {car2.model}\")\n",
    "print(f\"Color {car2.color}\")"
   ]
  },
  {
   "cell_type": "code",
   "execution_count": 15,
   "id": "41904b1e-b571-401f-82ca-b2baa7398589",
   "metadata": {},
   "outputs": [],
   "source": [
    "class Car:\n",
    "    def set_details(self,brand,model,color):\n",
    "        self.brand=brand\n",
    "        self.model=model\n",
    "        self.color=color\n",
    "    def get_details(self):\n",
    "        print(f\"Brand:{self.brand} model:{self.model} color:{self.color}\")"
   ]
  },
  {
   "cell_type": "code",
   "execution_count": 16,
   "id": "eff11e2b-1754-4a3a-9f0b-0d1a0d42a67b",
   "metadata": {},
   "outputs": [
    {
     "name": "stdout",
     "output_type": "stream",
     "text": [
      "Brand:Toyota model:Innova color:Blue\n"
     ]
    }
   ],
   "source": [
    "car1=Car()\n",
    "car1.set_details(\"Toyota\",\"Innova\",\"Blue\")\n",
    "car1.get_details()"
   ]
  },
  {
   "cell_type": "code",
   "execution_count": 19,
   "id": "ad8ad08a-c843-41cd-bedd-c4a34b1c31dd",
   "metadata": {},
   "outputs": [],
   "source": [
    "class Car:\n",
    "    def __init__(self,brand,model,color):\n",
    "        self.brand=brand\n",
    "        self.model=model\n",
    "        self.color=color\n",
    "    def get_details(self):\n",
    "        print(f\"Brand:{self.brand} model:{self.model} color:{self.color}\")\n",
    "        \n",
    "    \n"
   ]
  },
  {
   "cell_type": "code",
   "execution_count": 20,
   "id": "67bb1182-4d4c-441f-93aa-22ec4c079b05",
   "metadata": {},
   "outputs": [
    {
     "name": "stdout",
     "output_type": "stream",
     "text": [
      "Brand:Toyota model:Innova color:Red\n"
     ]
    }
   ],
   "source": [
    "car1=Car(\"Toyota\",\"Innova\",\"Red\")\n",
    "car1.get_details()"
   ]
  },
  {
   "cell_type": "code",
   "execution_count": 21,
   "id": "803fb0cd-5ea9-4989-9fcd-eb472714aff7",
   "metadata": {},
   "outputs": [],
   "source": [
    "#Class Variables Examples\n",
    "\n",
    "class Car:\n",
    "    weels=4\n",
    "    def __init__(self,brand):\n",
    "        self.brand=brand\n",
    "\n"
   ]
  },
  {
   "cell_type": "code",
   "execution_count": 24,
   "id": "d660725c-514d-4ba7-a20b-5988c4ab2a38",
   "metadata": {},
   "outputs": [
    {
     "name": "stdout",
     "output_type": "stream",
     "text": [
      "5\n",
      "5\n",
      "5\n"
     ]
    }
   ],
   "source": [
    "print(Car.weels)\n",
    "car=Car(\"Toyota\")\n",
    "Car.weels=5\n",
    "print(Car.weels)\n",
    "print(car.weels)"
   ]
  },
  {
   "cell_type": "code",
   "execution_count": 25,
   "id": "6e8b6525-5ac3-45f3-8efe-c54d49ca9160",
   "metadata": {},
   "outputs": [],
   "source": [
    "class Car:\n",
    "    wheels = 4  # Class variable\n",
    "\n",
    "    def __init__(self, brand, model):\n",
    "        self.brand = brand     # Instance variable\n",
    "        self.model = model\n",
    "\n",
    "    def display(self):\n",
    "        color = \"Red\"          # Local variable\n",
    "        print(f\"{self.brand} {self.model} in {color}\")"
   ]
  },
  {
   "cell_type": "code",
   "execution_count": 30,
   "id": "bc43c819-1b4d-460b-b09e-80b085bce64f",
   "metadata": {},
   "outputs": [
    {
     "name": "stdout",
     "output_type": "stream",
     "text": [
      "4\n",
      "Toyota Iteyas in Red\n",
      "None\n"
     ]
    }
   ],
   "source": [
    "print(Car.wheels)\n",
    "car1=Car(\"Toyota\",\"Iteyas\")\n",
    "print(car1.display())"
   ]
  },
  {
   "cell_type": "code",
   "execution_count": 33,
   "id": "73633a2e-f8fd-4e53-a270-4324278a7055",
   "metadata": {},
   "outputs": [
    {
     "name": "stdout",
     "output_type": "stream",
     "text": [
      "Red\n"
     ]
    }
   ],
   "source": [
    "#Public Variable\n",
    "class Car:\n",
    "    def __init__(self):\n",
    "        self.color=\"Red\"\n",
    "car1=Car()\n",
    "print(car1.color)\n",
    "    "
   ]
  },
  {
   "cell_type": "code",
   "execution_count": 36,
   "id": "140817c2-a74d-4df7-9943-836f2a68e3b7",
   "metadata": {},
   "outputs": [
    {
     "name": "stdout",
     "output_type": "stream",
     "text": [
      "Petrol\n"
     ]
    }
   ],
   "source": [
    "#Protected\n",
    "class Car:\n",
    "    def __init__(self):\n",
    "        self._engine=\"Petrol\" #protedted\n",
    "car1=Car()\n",
    "print(car1._engine)  #Still accessible, but not recommended outside class/subclass\n",
    "\n",
    "    \n",
    "    "
   ]
  },
  {
   "cell_type": "code",
   "execution_count": 37,
   "id": "0b90bc76-607c-44e3-a377-3fae851c366f",
   "metadata": {},
   "outputs": [],
   "source": [
    "#Private\n",
    "class Car:\n",
    "    def __init__(self):\n",
    "        self.__price=10000\n",
    "\n",
    "    def show_price(self):\n",
    "        print(f\"Price :{self.__price}\")\n",
    "    \n",
    "    "
   ]
  },
  {
   "cell_type": "code",
   "execution_count": 53,
   "id": "8dc786b0-75c3-479e-a337-8e442d0a0408",
   "metadata": {},
   "outputs": [
    {
     "name": "stdout",
     "output_type": "stream",
     "text": [
      "Price :10000\n"
     ]
    }
   ],
   "source": [
    "c=Car()\n",
    "c.show_price()\n"
   ]
  },
  {
   "cell_type": "code",
   "execution_count": 42,
   "id": "b1dd448b-6589-4ff3-9519-3dd0b1abe5dd",
   "metadata": {},
   "outputs": [],
   "source": [
    "print(car1.__price) #Arribute Erro"
   ]
  },
  {
   "cell_type": "code",
   "execution_count": 55,
   "id": "97f8e591-39a1-496a-b270-9358a99d825b",
   "metadata": {},
   "outputs": [
    {
     "name": "stdout",
     "output_type": "stream",
     "text": [
      "10000\n"
     ]
    }
   ],
   "source": [
    "print(c._Car__price) #Python renames __price internally as _Car__price to prevent accidental access.\n"
   ]
  },
  {
   "cell_type": "code",
   "execution_count": 56,
   "id": "4f1cfdd8-5102-4c91-b68d-9ac799e7c4ba",
   "metadata": {},
   "outputs": [],
   "source": [
    "#Access via Getter/Setter (Encapsulation)\n",
    "class Car:\n",
    "    def __init__(self):\n",
    "        self.__price=1000\n",
    "\n",
    "    def getter(self):\n",
    "        print(f\"Price: {self.__price}\")\n",
    "    def setter(self,value):\n",
    "        self.__price=value\n",
    "        \n",
    "\n"
   ]
  },
  {
   "cell_type": "code",
   "execution_count": 57,
   "id": "0a0b9c69-f9e6-4f01-92ba-1e639812c5a3",
   "metadata": {},
   "outputs": [
    {
     "name": "stdout",
     "output_type": "stream",
     "text": [
      "Price: 1000\n",
      "Price: 2000\n"
     ]
    }
   ],
   "source": [
    "car1 =Car()\n",
    "car1.getter()\n",
    "car1.setter(2000)\n",
    "car1.getter()"
   ]
  },
  {
   "cell_type": "code",
   "execution_count": null,
   "id": "08dfaf9a-b4a8-4829-9913-2bb704bd8e01",
   "metadata": {},
   "outputs": [],
   "source": [
    "class Car:\n",
    "    def __init__(self,brand):\n",
    "        self.brand=brand\n",
    "    def show_brand(self):  #Instance method\n",
    "        print(f\"Brand name: {slef.brand}\")\n",
    "car1=Car(\"Ford\")\n",
    "car1.brand()\n",
    "              "
   ]
  },
  {
   "cell_type": "code",
   "execution_count": 61,
   "id": "849d4e90-f543-4fc9-8c49-229aa0221fb0",
   "metadata": {},
   "outputs": [
    {
     "name": "stdout",
     "output_type": "stream",
     "text": [
      "Number of Wheels: 4\n",
      "Number of Wheels: 6\n"
     ]
    }
   ],
   "source": [
    "class Car:\n",
    "    wheels=4\n",
    "    @classmethod\n",
    "    def show_wheels(cls):\n",
    "        print(f\"Number of Wheels: {cls.wheels}\")\n",
    "Car.show_wheels()\n",
    "Car.wheels=6\n",
    "Car.show_wheels()\n",
    "\n",
    "\n",
    "    "
   ]
  },
  {
   "cell_type": "code",
   "execution_count": 63,
   "id": "05d760d9-2f3b-4668-bb08-4801aee0eed3",
   "metadata": {},
   "outputs": [
    {
     "name": "stdout",
     "output_type": "stream",
     "text": [
      "Welcome to the Car show room\n"
     ]
    }
   ],
   "source": [
    "class Car:\n",
    "    @staticmethod\n",
    "    def greet_greet_user():\n",
    "        print(f\"Welcome to the Car show room\")\n",
    "Car.greet_greet_user()\n",
    "\n",
    "        "
   ]
  },
  {
   "cell_type": "code",
   "execution_count": 1,
   "id": "53e505b2-1df1-4901-85ff-cdcd3b5f4f4c",
   "metadata": {},
   "outputs": [
    {
     "name": "stdout",
     "output_type": "stream",
     "text": [
      "1984 by George Orwell\n",
      "Book('1984', 'George Orwell')\n",
      "True\n"
     ]
    }
   ],
   "source": [
    "class Book:\n",
    "    def __init__(self, title, author):\n",
    "        self.title = title\n",
    "        self.author = author\n",
    "\n",
    "    def __str__(self):\n",
    "        return f\"{self.title} by {self.author}\"\n",
    "\n",
    "    def __repr__(self):\n",
    "        return f\"Book('{self.title}', '{self.author}')\"\n",
    "\n",
    "    def __eq__(self, other):\n",
    "        return (self.title, self.author) == (other.title, other.author)\n",
    "\n",
    "book1 = Book(\"1984\", \"George Orwell\")\n",
    "book2 = Book(\"1984\", \"George Orwell\")\n",
    "\n",
    "print(book1)           # __str__: 1984 by George Orwell\n",
    "print(repr(book1))     # __repr__: Book('1984', 'George Orwell')\n",
    "print(book1 == book2)  # __eq__: True\n"
   ]
  },
  {
   "cell_type": "code",
   "execution_count": 2,
   "id": "764e8135-7803-49c1-b4d6-153aa041499a",
   "metadata": {},
   "outputs": [
    {
     "name": "stdout",
     "output_type": "stream",
     "text": [
      "Vector(4, 6)\n"
     ]
    }
   ],
   "source": [
    "class Vector:\n",
    "    def __init__(self, x, y):\n",
    "        self.x = x\n",
    "        self.y = y\n",
    "\n",
    "    def __add__(self, other):\n",
    "        return Vector(self.x + other.x, self.y + other.y)\n",
    "\n",
    "    def __repr__(self):\n",
    "        return f\"Vector({self.x}, {self.y})\"\n",
    "\n",
    "v1 = Vector(1, 2)\n",
    "v2 = Vector(3, 4)\n",
    "print(v1 + v2)  # Vector(4, 6)\n"
   ]
  },
  {
   "cell_type": "code",
   "execution_count": 3,
   "id": "a28af506-8353-4f1d-9f44-0d8fad3e2d17",
   "metadata": {},
   "outputs": [
    {
     "name": "stdout",
     "output_type": "stream",
     "text": [
      "[10, 20]\n",
      "Getting item at index 1\n",
      "20\n",
      "Setting item at index 1 to 99\n",
      "[10, 99]\n"
     ]
    }
   ],
   "source": [
    "class MyList:\n",
    "    def __init__(self):\n",
    "        self.data = []\n",
    "\n",
    "    def __getitem__(self, index):\n",
    "        print(f\"Getting item at index {index}\")\n",
    "        return self.data[index]\n",
    "\n",
    "    def __setitem__(self, index, value):\n",
    "        print(f\"Setting item at index {index} to {value}\")\n",
    "        self.data[index] = value\n",
    "\n",
    "    def append(self, value):\n",
    "        self.data.append(value)\n",
    "\n",
    "    def __repr__(self):\n",
    "        return repr(self.data)\n",
    "\n",
    "# Usage\n",
    "my_list = MyList()\n",
    "my_list.append(10)\n",
    "my_list.append(20)\n",
    "print(my_list)        # [10, 20]\n",
    "\n",
    "print(my_list[1])     # Getting item at index 1 → 20\n",
    "\n",
    "my_list[1] = 99       # Setting item at index 1 to 99\n",
    "print(my_list)        # [10, 99]\n"
   ]
  }
 ],
 "metadata": {
  "kernelspec": {
   "display_name": "Python 3 (ipykernel)",
   "language": "python",
   "name": "python3"
  },
  "language_info": {
   "codemirror_mode": {
    "name": "ipython",
    "version": 3
   },
   "file_extension": ".py",
   "mimetype": "text/x-python",
   "name": "python",
   "nbconvert_exporter": "python",
   "pygments_lexer": "ipython3",
   "version": "3.12.10"
  }
 },
 "nbformat": 4,
 "nbformat_minor": 5
}

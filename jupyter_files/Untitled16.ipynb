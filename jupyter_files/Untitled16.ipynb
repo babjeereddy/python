{
 "cells": [
  {
   "cell_type": "code",
   "execution_count": 9,
   "id": "050d825d-3e80-4765-9602-ad44012c781d",
   "metadata": {},
   "outputs": [],
   "source": [
    "class Car:\n",
    "    wheels=4\n",
    "    def __init__(self,brand,model):\n",
    "        self.brand=brand\n",
    "        self.model=model\n",
    "    def show_dtl(self):\n",
    "        print(f\"Brand: {self.brand},Model: {self.model}, Wheels {self.wheels}\")\n",
    "    def greet(self):\n",
    "        color=\"Red\"\n",
    "        print(f\"Car Color is {color}\")"
   ]
  },
  {
   "cell_type": "code",
   "execution_count": 21,
   "id": "f0835a06-33b2-417f-999b-78168befd282",
   "metadata": {},
   "outputs": [
    {
     "name": "stdout",
     "output_type": "stream",
     "text": [
      "4\n",
      "BMW\n",
      "S6\n"
     ]
    }
   ],
   "source": [
    "class Car:\n",
    "    wheels =4\n",
    "    _brand=\"BMW\"\n",
    "    __model =\"S6\"\n",
    "\n",
    "c1=Car()\n",
    "print(c1.wheels)\n",
    "print(c1._brand)\n",
    "print(c1._Car__model)"
   ]
  },
  {
   "cell_type": "code",
   "execution_count": 16,
   "id": "30aa95ff-a0c2-4f1e-a8f2-5f34b1ebb74e",
   "metadata": {},
   "outputs": [
    {
     "name": "stdout",
     "output_type": "stream",
     "text": [
      "4\n"
     ]
    },
    {
     "ename": "TypeError",
     "evalue": "Car() takes no arguments",
     "output_type": "error",
     "traceback": [
      "\u001b[31m---------------------------------------------------------------------------\u001b[39m",
      "\u001b[31mTypeError\u001b[39m                                 Traceback (most recent call last)",
      "\u001b[36mCell\u001b[39m\u001b[36m \u001b[39m\u001b[32mIn[16]\u001b[39m\u001b[32m, line 3\u001b[39m\n\u001b[32m      1\u001b[39m \u001b[38;5;28mprint\u001b[39m(c1.wheels)\n\u001b[32m      2\u001b[39m \u001b[38;5;66;03m#print(Car.model)\u001b[39;00m\n\u001b[32m----> \u001b[39m\u001b[32m3\u001b[39m c1=\u001b[43mCar\u001b[49m\u001b[43m(\u001b[49m\u001b[33;43m\"\u001b[39;49m\u001b[33;43mBMW\u001b[39;49m\u001b[33;43m\"\u001b[39;49m\u001b[43m,\u001b[49m\u001b[33;43m\"\u001b[39;49m\u001b[33;43mS6\u001b[39;49m\u001b[33;43m\"\u001b[39;49m\u001b[43m)\u001b[49m\n\u001b[32m      4\u001b[39m c1.greet()\n\u001b[32m      5\u001b[39m c1.show_dtl()\n",
      "\u001b[31mTypeError\u001b[39m: Car() takes no arguments"
     ]
    }
   ],
   "source": [
    "print(c1.wheels)\n",
    "#print(Car.model)\n",
    "c1=Car(\"BMW\",\"S6\")\n",
    "c1.greet()\n",
    "c1.show_dtl()\n"
   ]
  },
  {
   "cell_type": "code",
   "execution_count": 23,
   "id": "83cf3ece-79f7-4330-9111-42662b16f754",
   "metadata": {},
   "outputs": [],
   "source": [
    "class Car:\n",
    "    wheels=4\n",
    "    def __init__(self, brand):  #constructor\n",
    "        self.brand=brand\n",
    "    @classmethod\n",
    "    def print_wheels(cls):     #class method\n",
    "        print(f\"Number or wheels in the car {cls.wheels}\")\n",
    "    @staticmethod\n",
    "    def welcome():  #static method\n",
    "        print(\"Welcome to Car World\")\n",
    "    def print_brand(self): #instance metod\n",
    "        print(f\"Brand Name: {self.brand}\")\n",
    "\n",
    "    "
   ]
  },
  {
   "cell_type": "code",
   "execution_count": 31,
   "id": "75f68713-3de9-4149-9df1-6726be25834f",
   "metadata": {},
   "outputs": [
    {
     "name": "stdout",
     "output_type": "stream",
     "text": [
      "Number or wheels in the car 4\n",
      "Welcome to Car World\n",
      "Number or wheels in the car 4\n"
     ]
    }
   ],
   "source": [
    "c=Car(\"BMW\")\n",
    "Car.print_wheels()\n",
    "Car.welcome()\n",
    "Car.print_wheels()"
   ]
  },
  {
   "cell_type": "code",
   "execution_count": 32,
   "id": "f70d83f2-54d2-437f-87ac-e6f21f0a08cd",
   "metadata": {},
   "outputs": [],
   "source": [
    "class Vehicle:\n",
    "    def _engine(self):\n",
    "        print(\"Proted Engine method\")\n",
    "class Car(Vehicle):\n",
    "    def show(self):\n",
    "        self._engine()"
   ]
  },
  {
   "cell_type": "code",
   "execution_count": 33,
   "id": "394d5650-27fb-4b26-93ba-98eccc64e309",
   "metadata": {},
   "outputs": [
    {
     "name": "stdout",
     "output_type": "stream",
     "text": [
      "Proted Engine method\n"
     ]
    }
   ],
   "source": [
    "c=Car()\n",
    "c.show()"
   ]
  },
  {
   "cell_type": "code",
   "execution_count": 34,
   "id": "f896a820-2d7e-48c0-919c-ab60cdec2230",
   "metadata": {},
   "outputs": [
    {
     "name": "stdout",
     "output_type": "stream",
     "text": [
      "Proted Engine method\n"
     ]
    }
   ],
   "source": [
    "obj=Vehicle()\n",
    "obj._engine()"
   ]
  },
  {
   "cell_type": "code",
   "execution_count": 56,
   "id": "3731c0a9-77eb-435d-b36e-f1b39a3378a4",
   "metadata": {},
   "outputs": [
    {
     "name": "stdout",
     "output_type": "stream",
     "text": [
      "Brand Name is BMW\n"
     ]
    }
   ],
   "source": [
    "class Car:\n",
    "    def __init__(self,brand):\n",
    "        self.brand=brand\n",
    "    def __str__(self):\n",
    "        return f\"Brand Name is {self.brand}\"\n",
    "c=Car(\"BMW\")\n",
    "print(c)\n"
   ]
  },
  {
   "cell_type": "code",
   "execution_count": 41,
   "id": "9675b53c-b152-4949-8740-bd747fa93835",
   "metadata": {},
   "outputs": [],
   "source": [
    "class Car:\n",
    "    brand=\"BMW\"\n",
    "    def __repr__(self):\n",
    "        return f\"Brand Name is {self.brand}\"\n",
    "    "
   ]
  },
  {
   "cell_type": "code",
   "execution_count": 42,
   "id": "67f7a8fd-6d4b-452f-ae26-81b7690fe459",
   "metadata": {},
   "outputs": [
    {
     "name": "stdout",
     "output_type": "stream",
     "text": [
      "Brand Name is BMW\n"
     ]
    }
   ],
   "source": [
    "obj=Car()\n",
    "print(repr(obj))"
   ]
  },
  {
   "cell_type": "code",
   "execution_count": 67,
   "id": "8b1dbb2e-af54-4a4a-a621-4b70416bcc12",
   "metadata": {},
   "outputs": [],
   "source": [
    "class Point:\n",
    "    def __init__(self,x,y):\n",
    "        self.x=x\n",
    "        self.y=y\n",
    "    def __add__(self,other):\n",
    "        return  [self.x+other.x, self.y+other.y]\n",
    "    def __repr__(self):\n",
    "        return f\" {self.x}, {self.y}\"\n"
   ]
  },
  {
   "cell_type": "code",
   "execution_count": 68,
   "id": "5c78b2cd-6769-488c-b7d8-bd945397eb00",
   "metadata": {},
   "outputs": [
    {
     "name": "stdout",
     "output_type": "stream",
     "text": [
      "[8, 8]\n"
     ]
    }
   ],
   "source": [
    "p1=Point(4,3)\n",
    "p2=Point(4,5)\n",
    "p3=p1+p2\n",
    "print(p3)\n"
   ]
  },
  {
   "cell_type": "code",
   "execution_count": 71,
   "id": "bceb00b7-a42e-4c50-b5e9-e92c6260c820",
   "metadata": {},
   "outputs": [],
   "source": [
    "class Vehicle:\n",
    "    def __init__(self,brand):\n",
    "        self.brand=brand\n",
    "    def start(self):\n",
    "        print(f\"{self.brand} started.......!\")\n",
    "    def stop(self):\n",
    "        print(f\"{self.brand} stoped.......!\")        \n"
   ]
  },
  {
   "cell_type": "code",
   "execution_count": 80,
   "id": "b350f6e8-f63b-4994-8fd3-5258e0457013",
   "metadata": {},
   "outputs": [],
   "source": [
    "class Car(Vehicle):\n",
    "    def __init__(self,brand,model):\n",
    "        super().__init__(brand)\n",
    "        self.model=model\n",
    "    def move(self):\n",
    "        print(f\"{self.brand} is moving\")"
   ]
  },
  {
   "cell_type": "code",
   "execution_count": 81,
   "id": "21769a8b-f4b3-426e-ae9a-e0e09a2ba30e",
   "metadata": {},
   "outputs": [
    {
     "name": "stdout",
     "output_type": "stream",
     "text": [
      "Brand Name is BMW\n",
      "BMW started.......!\n",
      "BMW is moving\n",
      "BMW stoped.......!\n"
     ]
    }
   ],
   "source": [
    "obj =Car(\"BMW\",\"S6\")\n",
    "print(f\"Brand Name is {obj.brand}\")\n",
    "obj.start()\n",
    "obj.move()\n",
    "obj.stop()"
   ]
  },
  {
   "cell_type": "code",
   "execution_count": 85,
   "id": "434a77e5-2dd4-4206-a716-3783d3efb453",
   "metadata": {},
   "outputs": [
    {
     "name": "stdout",
     "output_type": "stream",
     "text": [
      "Vehicle started\n",
      "Pls check oil\n",
      "Blow the horn\n"
     ]
    }
   ],
   "source": [
    "class Vehicle:\n",
    "    def start(self):\n",
    "        print(\"Vehicle started\")\n",
    "class Machine:\n",
    "    def check_oil(self):\n",
    "        print(\"Pls check oil\")\n",
    "class Car(Vehicle, Machine):\n",
    "    def horn(self):\n",
    "        print(\"Blow the horn\")\n",
    "obj=Car()\n",
    "obj.start()\n",
    "obj.check_oil()\n",
    "obj.horn()\n",
    "\n"
   ]
  },
  {
   "cell_type": "code",
   "execution_count": 94,
   "id": "9a41bfc2-5c8a-446e-8f19-373278e38151",
   "metadata": {},
   "outputs": [
    {
     "name": "stdout",
     "output_type": "stream",
     "text": [
      "From A\n",
      "(<class '__main__.C'>, <class '__main__.A'>, <class '__main__.B'>, <class 'object'>)\n"
     ]
    }
   ],
   "source": [
    "class A:\n",
    "    def show(self):\n",
    "        print(\"From A\")\n",
    "class B:\n",
    "    def show(self):\n",
    "        print(\"From B\")\n",
    "class C(A,B):\n",
    "    pass\n",
    "obj = C()\n",
    "obj.show()\n",
    "print(C.__mro__)"
   ]
  },
  {
   "cell_type": "code",
   "execution_count": 2,
   "id": "79ca8018-e696-467e-a089-584a7e596d2c",
   "metadata": {},
   "outputs": [
    {
     "name": "stdout",
     "output_type": "stream",
     "text": [
      "Quack! Quack!\n",
      "I can quack like a duck!\n"
     ]
    }
   ],
   "source": [
    "class Duck:\n",
    "    def quack(self):\n",
    "        print(\"Quack! Quack!\")\n",
    "class Person:\n",
    "    def quack(self):\n",
    "        print(\"I can quack like a duck!\")\n",
    "def make_it_quack(obj):\n",
    "    obj.quack()  # We don't care what `obj` is\n",
    "make_it_quack(Duck())  \n",
    "make_it_quack(Person())\n"
   ]
  },
  {
   "cell_type": "code",
   "execution_count": null,
   "id": "ca7fbeb8-efe5-46be-b77f-6df82f1e1776",
   "metadata": {},
   "outputs": [],
   "source": []
  }
 ],
 "metadata": {
  "kernelspec": {
   "display_name": "Python 3 (ipykernel)",
   "language": "python",
   "name": "python3"
  },
  "language_info": {
   "codemirror_mode": {
    "name": "ipython",
    "version": 3
   },
   "file_extension": ".py",
   "mimetype": "text/x-python",
   "name": "python",
   "nbconvert_exporter": "python",
   "pygments_lexer": "ipython3",
   "version": "3.12.10"
  }
 },
 "nbformat": 4,
 "nbformat_minor": 5
}
